{
 "cells": [
  {
   "cell_type": "markdown",
   "metadata": {},
   "source": [
    "## 5.2 Using Inputs to Control a Program \n",
    "\n",
    "This lesson will allow you to control how a program behaves by giving python written commands. You do this on a daily basis by clicking buttons on your computer, but in python, its just as easy to type out a word to tell a program which direction to proceed.\n",
    "\n",
    "In the previous exercise, we learned how to tell python to take in data through our typing. We can use the `input()` function for this."
   ]
  },
  {
   "cell_type": "code",
   "execution_count": null,
   "metadata": {},
   "outputs": [],
   "source": [
    "meaningless_words = input (\"Write something here! \\n\")"
   ]
  },
  {
   "cell_type": "markdown",
   "metadata": {},
   "source": [
    "Great! Now let's take a look at this function below. We can think of a function as instructions for a program. Note how we first define the function in line 1 with `def makeuporlower():`, give the instructions from line 2 to line 14, then finally call/tell python to run the function in line 16."
   ]
  },
  {
   "cell_type": "code",
   "execution_count": null,
   "metadata": {},
   "outputs": [],
   "source": [
    "def makeuporlower():\n",
    "    meaningful_words = input (\"Write a small phrase here. Make sure it has both uppercase or lowercase? letters! \\n\")\n",
    "    \n",
    "    select = input (\"\\nGreat! Now do you want to make this 'string' of text all uppercase or lowercase? \\nType either 'uppercase' or 'lowercase' \\n \\n\")\n",
    "    \n",
    "    if str(select) == \"lowercase\":\n",
    "        print (\"\\n\" + meaningful_words.lower())\n",
    "\n",
    "    elif str(select) == \"uppercase\":\n",
    "        print (\"\\n\" + )\n",
    "\n",
    "    else:\n",
    "        print (\"I didn't quite get that...let's restart\")\n",
    "        makeuporlower()\n",
    "\n",
    "makeuporlower()"
   ]
  },
  {
   "cell_type": "markdown",
   "metadata": {},
   "source": [
    "**You see how we can make python take our input and make the phrase either lowercase or UPPERCASE? **\n",
    "\n",
    "Now let's try this next exercise that takes in two numbers."
   ]
  },
  {
   "cell_type": "code",
   "execution_count": null,
   "metadata": {},
   "outputs": [],
   "source": [
    "number1 = input (\"Type the first number here: \")\n",
    "number2 ="
   ]
  },
  {
   "cell_type": "markdown",
   "metadata": {},
   "source": [
    "We use `type()` to see what type of data this is. We entered a postive, whole number... so it should be stored as an integer, right?"
   ]
  },
  {
   "cell_type": "code",
   "execution_count": null,
   "metadata": {},
   "outputs": [],
   "source": [
    "type(number1)\n",
    "type(number2)"
   ]
  },
  {
   "cell_type": "markdown",
   "metadata": {},
   "source": [
    "Huh, weird....let's convert these strings into integers."
   ]
  },
  {
   "cell_type": "code",
   "execution_count": null,
   "metadata": {},
   "outputs": [],
   "source": [
    "number1 = int(number1)\n",
    "number2 ="
   ]
  },
  {
   "cell_type": "code",
   "execution_count": null,
   "metadata": {},
   "outputs": [],
   "source": [
    "def addormultiply():\n",
    "    addition = {\"ADD\",\"Add\",\"add\"}\n",
    "    multiply = {\"MULTIPLY\",\"Multiply\",\"multiply\"}\n",
    "    select = input(\"What would you like to do with these two numbers? Type ADD or MULTIPLY... \")\n",
    "    \n",
    "    \n",
    "    if select in addition:\n",
    "        answer = number1 + number2\n",
    "        print(str(answer))\n",
    "        \n",
    "        \n",
    "    elif select in multiply:\n",
    "        answer = .....\n",
    "        print(.....)\n",
    "        \n",
    "        \n",
    "    else:\n",
    "        print(\"Sorry, I didn't get that. Could you type it again? \")\n",
    "        addormultiply()\n",
    "        \n",
    "addormultiply()"
   ]
  },
  {
   "cell_type": "markdown",
   "metadata": {},
   "source": [
    "Now you know how to use python inputs to control a program!"
   ]
  }
 ],
 "metadata": {
  "kernelspec": {
   "display_name": "Python 3",
   "language": "python",
   "name": "python3"
  },
  "language_info": {
   "codemirror_mode": {
    "name": "ipython",
    "version": 3
   },
   "file_extension": ".py",
   "mimetype": "text/x-python",
   "name": "python",
   "nbconvert_exporter": "python",
   "pygments_lexer": "ipython3",
   "version": "3.6.4"
  }
 },
 "nbformat": 4,
 "nbformat_minor": 2
}
