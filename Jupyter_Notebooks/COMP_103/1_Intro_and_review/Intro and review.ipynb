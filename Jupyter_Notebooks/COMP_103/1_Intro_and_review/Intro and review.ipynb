{
 "cells": [
  {
   "cell_type": "markdown",
   "metadata": {},
   "source": [
    "<div align =\"right\">Thomas Jefferson University <b>COMP 103</b>: Data Analysis and Visualization</div>"
   ]
  },
  {
   "cell_type": "markdown",
   "metadata": {},
   "source": [
    "# Intro to Big Data and Review\n",
    "\n",
    "This is a warm-up review based on the materials presented in the reading. In this worksheet I'm not going to give you much of anything to start with. Consult your notebooks from the previous semesters as needed. \n",
    "\n",
    "## Exercise 1\n",
    "\n",
    "Run the code below to create a set of data arrays. Using the method described in the reading, 1) create a pandas dataframe from these values and then summarize the data by the three genres that are present. Your summary should report the count, mean, median, standard deviation, and quartiles of the data for each genre."
   ]
  },
  {
   "cell_type": "code",
   "execution_count": null,
   "metadata": {},
   "outputs": [],
   "source": [
    "# run but don't modify this code block\n",
    "\n",
    "import numpy as np\n",
    "t = np.arange(0,100,1)\n",
    "labels = [\"punk\",\"mod\",\"rocker\"]\n",
    "\n",
    "for i in t:\n",
    "    talent = i + np.random.normal(0,5,100)\n",
    "    attitude = i/5 + np.random.normal(0,5,100)\n",
    "    genre = np.random.choice(labels,100)"
   ]
  },
  {
   "cell_type": "code",
   "execution_count": null,
   "metadata": {},
   "outputs": [],
   "source": [
    "#Exercise 1\n"
   ]
  },
  {
   "cell_type": "markdown",
   "metadata": {},
   "source": [
    "## Exercise 2\n",
    "\n",
    "In the /data directory where this notebook is located you should find a data file called `Gradebook.csv` that contains the gradebook for a knitting class that was held in January. Import the data (without editing the `.csv` file in Excel) using the techniques shown in the reading. Make sure the data is stored as a dataframe and summarize the results by student major. "
   ]
  },
  {
   "cell_type": "code",
   "execution_count": null,
   "metadata": {},
   "outputs": [],
   "source": [
    "# Exercise 2\n",
    "## Import the file Gradebook.csv"
   ]
  },
  {
   "cell_type": "markdown",
   "metadata": {},
   "source": [
    "## Exercise 3\n",
    "\n",
    "Using the musician dataframe you created for Exercise 1, use the built in scatter-plot function as shown in the text. Do a search on this method and figure out what parameters can be modified to change the appearance of the graph. Select several and include `#comments` in your code highlighting your choices."
   ]
  },
  {
   "cell_type": "code",
   "execution_count": null,
   "metadata": {},
   "outputs": [],
   "source": [
    "# Exercise 3\n"
   ]
  },
  {
   "cell_type": "markdown",
   "metadata": {},
   "source": [
    "\n",
    "![TJU logo image](images/TJU_logo_image.png \"TJU logo image\")"
   ]
  }
 ],
 "metadata": {
  "kernelspec": {
   "display_name": "Python 3 (ipykernel)",
   "language": "python",
   "name": "python3"
  },
  "language_info": {
   "codemirror_mode": {
    "name": "ipython",
    "version": 3
   },
   "file_extension": ".py",
   "mimetype": "text/x-python",
   "name": "python",
   "nbconvert_exporter": "python",
   "pygments_lexer": "ipython3",
   "version": "3.9.12"
  }
 },
 "nbformat": 4,
 "nbformat_minor": 2
}
