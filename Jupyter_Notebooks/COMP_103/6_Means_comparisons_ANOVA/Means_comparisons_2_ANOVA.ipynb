{
 "cells": [
  {
   "cell_type": "markdown",
   "metadata": {},
   "source": [
    "<div align =\"right\">Thomas Jefferson University <b>COMP 103</b>: Data Analysis and Visualization</div>"
   ]
  },
  {
   "cell_type": "code",
   "execution_count": 7,
   "metadata": {},
   "outputs": [],
   "source": [
    "import matplotlib.pyplot as plt\n",
    "import pandas as pd\n",
    "from scipy import stats"
   ]
  },
  {
   "cell_type": "markdown",
   "metadata": {},
   "source": [
    "# Comparing means with ANOVA\n",
    "\n",
    "The next means comparison strategy we will investigate is the ANOVA, or ANalysis Of VAriance. This is a means comparison strategy that is often used in the life sciences. The name can be a bit confusing, as this test detects differences among means by calculating the ratios between different variance components - specifically the ratio of the variance between samples (which corresponds to the variance among species, experimental treatments, localities, or whatever else we may be comparing) to the variance within samples (the error or residual variance, variability in the data that cannot be attributed to our experimental factors).  \n",
    "\n",
    "Similarly to how the the t-test assigned statistical significance by calculating a t-statistic that is then compared to a table of t-values, the ANOVA assigns statistical significance by calculating an **F-statistic** that is compared to a table of F-values. Most simply this can be represented as:\n",
    "\n",
    "F = <u>between sample variance</u>   \n",
    "&nbsp;&nbsp;&nbsp;&nbsp;&nbsp;&nbsp;within sample variance\n",
    "\n",
    "In this notebook we will compare three different types of ANOVA:\n",
    "* In a **one-way ANOVA**, we will compare multiple sample means\n",
    "* In a **two-way ANOVA**, we will compare sample means that are affected by more than one experimental factor\n",
    "* In a **randomized block ANOVA**, which we will just touch on briefly, we will look at how random factors can be analyzed\n",
    "\n",
    "**Note 1** ANOVAs can get very complicated very quickly! ANOVAs are calculated differently when sample sizes between groups are different or the same, or when the factors included in an ANOVA are fixed (meaningful beyond the bounds of the experiment being considered, such as level of fertilizer applied, or sex of the study organism) or random (meaning factors that might be expected to vary in unpredictable ways, such as different cages in which lab mice are housed, or fields in which plants are grown). Understanding these differences is very important and planning an experiment that requires ANOVA should be done in consultation with a statistician or an experienced practitioner. \n",
    "\n",
    "**Note 2** Many of the resources you will find online about using ANOVA will assume that you are using R statistical software. Running an ANOVA in R will have a different syntax than in python, but the fundamentals are very similar. \n",
    "\n",
    "\n",
    "# Comparing multiple means with one-way ANOVA\n",
    "\n",
    "The simplest application of ANOVA is to compare three or more means to one another. If a two-sample t-test asks 'Does sample A differ from sample B?' a one way ANOVA asks 'Do samples A, B, C, ... differ from one another?'\n",
    "\n",
    "Let's load up a dataset. In the `data` folder is a file called `test_aves.csv`. In the code window below, load that dataset up and print out the header to make sure you have it. \n",
    "\n",
    "The data set consists of a 1000 average exam scores in three areas: calculus, chemistry, and biology."
   ]
  },
  {
   "cell_type": "code",
   "execution_count": 8,
   "metadata": {},
   "outputs": [
    {
     "data": {
      "text/html": [
       "<div>\n",
       "<style scoped>\n",
       "    .dataframe tbody tr th:only-of-type {\n",
       "        vertical-align: middle;\n",
       "    }\n",
       "\n",
       "    .dataframe tbody tr th {\n",
       "        vertical-align: top;\n",
       "    }\n",
       "\n",
       "    .dataframe thead th {\n",
       "        text-align: right;\n",
       "    }\n",
       "</style>\n",
       "<table border=\"1\" class=\"dataframe\">\n",
       "  <thead>\n",
       "    <tr style=\"text-align: right;\">\n",
       "      <th></th>\n",
       "      <th>calc</th>\n",
       "      <th>chem</th>\n",
       "      <th>biol</th>\n",
       "    </tr>\n",
       "  </thead>\n",
       "  <tbody>\n",
       "    <tr>\n",
       "      <th>0</th>\n",
       "      <td>85.618750</td>\n",
       "      <td>78.032658</td>\n",
       "      <td>86.742013</td>\n",
       "    </tr>\n",
       "    <tr>\n",
       "      <th>1</th>\n",
       "      <td>80.735941</td>\n",
       "      <td>87.272910</td>\n",
       "      <td>87.041645</td>\n",
       "    </tr>\n",
       "    <tr>\n",
       "      <th>2</th>\n",
       "      <td>73.715539</td>\n",
       "      <td>87.070292</td>\n",
       "      <td>90.549435</td>\n",
       "    </tr>\n",
       "    <tr>\n",
       "      <th>3</th>\n",
       "      <td>84.758469</td>\n",
       "      <td>84.868836</td>\n",
       "      <td>88.140137</td>\n",
       "    </tr>\n",
       "    <tr>\n",
       "      <th>4</th>\n",
       "      <td>81.107428</td>\n",
       "      <td>86.532147</td>\n",
       "      <td>82.976099</td>\n",
       "    </tr>\n",
       "  </tbody>\n",
       "</table>\n",
       "</div>"
      ],
      "text/plain": [
       "        calc       chem       biol\n",
       "0  85.618750  78.032658  86.742013\n",
       "1  80.735941  87.272910  87.041645\n",
       "2  73.715539  87.070292  90.549435\n",
       "3  84.758469  84.868836  88.140137\n",
       "4  81.107428  86.532147  82.976099"
      ]
     },
     "execution_count": 8,
     "metadata": {},
     "output_type": "execute_result"
    }
   ],
   "source": [
    "test_aves = pd.read_csv('data/test_aves.csv', usecols=['calc', 'chem', 'biol'])   ## FIX SUPPRESS INDEX\n",
    "test_aves.head()"
   ]
  },
  {
   "cell_type": "markdown",
   "metadata": {},
   "source": [
    "Hopefully you see the data in front of you. (If you have peeked at the data you might see that we are ignoring some columns ... we will come back to them with the more complex ANOVAs below right now we are going to pretend that those columns don't exist.) \n",
    "\n",
    "First things first, before we start comparing means, let's explore the data. ANOVA has three major assumptions, which are fundamentally the same as the assumptions of regression 1) that the data points are independent of one another 2) that the samples are drawn from a normal distribution, and 3) that the groups being compared have similar variances. Assume that the scores are a random collection of scores from each university, such that each data series in the dataframe is independent, or in other words that the rows don't mean anything. \n",
    "\n",
    "Assumption 1) is really a question of experimental design. To start, we will assume that each of these observations is simply a list of the 1000 most recent test averages in each of these disciplines, such that the rows do not represent individual students. That would make things a little trickier, as each student's scores would violate the assumption of independence.\n",
    "\n",
    "Assumption 2) the noramlity assumption, is trickier and often misstated (try googling it, you will see). An immediate thought might be that we can test this by checking to see if the data is distributed normally, but let's think about that for a second. What if the average test score in each subject was in fact very different? We might expect to see three different curves centered around the average scores for each subject. This would not be a normal distribution of the data! The actual assumption of normality is that the residuals are normally distributed. In the case of a one-way ANOVA, that means the differences between the observed data in each group and the mean of each group should themselves be normally distributed.\n",
    "\n",
    "Assumption 3) is relatively straightforward. Each group must have similar variances. This compares to the regression assumption that variance in y stays constant as the value of x increases, but this is now translated into a situation in which we compare different groups. \n",
    "\n",
    "\n",
    "\n",
    "### Exercise 1. \n",
    "\n",
    "In the code window below, take a pass at using the tools we have learned so far to demonstrate that each of these three conditions is met. You can use visualizations or other statistical tests to do so. You may want to compare the variance directly, plot the data with a histogram, or use the Q-Q plot introduced in the t-test section. \n"
   ]
  },
  {
   "cell_type": "code",
   "execution_count": 9,
   "metadata": {},
   "outputs": [
    {
     "name": "stdout",
     "output_type": "stream",
     "text": [
      "              calc         chem         biol\n",
      "count  1000.000000  1000.000000  1000.000000\n",
      "mean     82.134949    85.040435    88.188919\n",
      "std       3.997851     4.123261     4.140144\n",
      "min      69.479334    69.980540    73.520977\n",
      "25%      79.296607    82.494599    85.228198\n",
      "50%      82.020194    85.038547    88.292955\n",
      "75%      84.805774    87.810428    91.009472\n",
      "max      95.250387    98.055125    99.983518\n",
      "\n"
     ]
    },
    {
     "data": {
      "image/png": "[encoded data removed]",
      "text/plain": [
       "<Figure size 432x288 with 1 Axes>"
      ]
     },
     "metadata": {
      "needs_background": "light"
     },
     "output_type": "display_data"
    },
    {
     "name": "stdout",
     "output_type": "stream",
     "text": [
      "\n",
      "skewtest\n",
      "all SkewtestResult(statistic=0.3274471158975927, pvalue=0.7433297354613322)\n",
      "calc SkewtestResult(statistic=0.9924956748062979, pvalue=0.3209557882994559)\n",
      "chem SkewtestResult(statistic=-1.6094505201034546, pvalue=0.10751786606539863)\n",
      "biol SkewtestResult(statistic=-0.739693691750071, pvalue=0.4594858766737874)\n",
      "\n",
      "shapiro\n",
      "all ShapiroResult(statistic=0.9993169903755188, pvalue=0.342641144990921)\n",
      "calc ShapiroResult(statistic=0.998918890953064, pvalue=0.8285098671913147)\n",
      "chem ShapiroResult(statistic=0.99759840965271, pvalue=0.1519262194633484)\n",
      "biol ShapiroResult(statistic=0.998859167098999, pvalue=0.7925372123718262)\n",
      "\n",
      "normaltest\n",
      "all NormaltestResult(statistic=4.716541994640028, pvalue=0.09458361722890887)\n",
      "calc NormaltestResult(statistic=1.2240228361485532, pvalue=0.5422590617243912)\n",
      "chem NormaltestResult(statistic=4.7559931909925925, pvalue=0.092736179610111)\n",
      "biol NormaltestResult(statistic=1.2156795389099107, pvalue=0.5445259009314558)\n",
      "\n",
      "kurtosistest\n",
      "all KurtosistestResult(statistic=-2.146932784446308, pvalue=0.031798633137230074)\n",
      "calc KurtosistestResult(statistic=-0.4888508685062805, pvalue=0.6249472815074097)\n",
      "chem KurtosistestResult(statistic=1.4716189093414478, pvalue=0.14112381635297153)\n",
      "biol KurtosistestResult(statistic=-0.8176385395118441, pvalue=0.41356361435013544)\n"
     ]
    }
   ],
   "source": [
    "###\n",
    "### Your code here\n",
    "###\n",
    "print(test_aves.describe())\n",
    "\n",
    "print ()\n",
    "\n",
    "###\n",
    "all_tests = test_aves['calc'].to_list() + test_aves['chem'].to_list() + test_aves['biol'].to_list()\n",
    "plt.hist(all_tests,30)\n",
    "plt.hist(test_aves['calc'], 30)\n",
    "plt.hist(test_aves['chem'], 30)\n",
    "plt.hist(test_aves['biol'], 30)\n",
    "\n",
    "plt.show()\n",
    "\n",
    "###\n",
    "\n",
    "print()\n",
    "print('skewtest')\n",
    "print('all', stats.skewtest(all_tests))\n",
    "print('calc', stats.skewtest(test_aves['calc']))\n",
    "print('chem', stats.skewtest(test_aves['chem']))\n",
    "print('biol', stats.skewtest(test_aves['biol']))\n",
    "\n",
    "print()\n",
    "print('shapiro')\n",
    "print('all', stats.shapiro(all_tests))\n",
    "print('calc', stats.shapiro(test_aves['calc']))\n",
    "print('chem', stats.shapiro(test_aves['chem']))\n",
    "print('biol', stats.shapiro(test_aves['biol']))\n",
    "\n",
    "print()\n",
    "print('normaltest')\n",
    "print('all', stats.normaltest(all_tests))\n",
    "print('calc', stats.normaltest(test_aves['calc']))\n",
    "print('chem', stats.normaltest(test_aves['chem']))\n",
    "print('biol', stats.normaltest(test_aves['biol']))\n",
    "\n",
    "print()\n",
    "print('kurtosistest')\n",
    "print('all', stats.kurtosistest(all_tests))\n",
    "print('calc', stats.kurtosistest(test_aves['calc']))\n",
    "print('chem', stats.kurtosistest(test_aves['chem']))\n",
    "print('biol', stats.kurtosistest(test_aves['biol']))\n",
    "\n",
    "# NEED QQ PLOT CODE HERE\n"
   ]
  },
  {
   "cell_type": "markdown",
   "metadata": {},
   "source": [
    "In this case a p value of < 0.05 would indicate that we were observing a significant deviation from normality. We observe that only for kurtosis of the combined data. These are very powerful tests of deviations from normality.\n",
    "\n",
    "The most important data are actually in our first two results, from which we can see that the standard deviations for each group are approximately equal and each group is an approximately normal distribution.\n",
    "\n",
    "Notice that none of these test directly answered the question of whether the residuals were normally distributed. Inm order to do that we would first have to run the statistical test in order to generate the residuals. "
   ]
  },
  {
   "cell_type": "markdown",
   "metadata": {},
   "source": [
    "\n",
    "In a one-way ANOVA we just want to compare groups means. In some ways this is the last of the simple tests. \n",
    "\n",
    "\n",
    "### Exercise 2. \n",
    "\n",
    "Run a one-way anova and visualize the results.  \n",
    "\n",
    "compare to a boxplot of the means"
   ]
  },
  {
   "cell_type": "code",
   "execution_count": 10,
   "metadata": {},
   "outputs": [
    {
     "data": {
      "text/plain": [
       "F_onewayResult(statistic=548.6829747046579, pvalue=8.982125828141596e-204)"
      ]
     },
     "execution_count": 10,
     "metadata": {},
     "output_type": "execute_result"
    }
   ],
   "source": [
    "stats.f_oneway(test_aves['calc'], test_aves['chem'], test_aves['biol'])"
   ]
  },
  {
   "cell_type": "markdown",
   "metadata": {},
   "source": [
    "## Post hoc tests with one-way ANOVA\n",
    "This is kind of underwhelming - we get an F statistic and a (highly significant) p value. But we don't get any statements about what is significant. This simple p value just tells us that the groups are not drawn from the same distribution. To determine which groups are different from one another, we need to do what is known as a post-hoc test. \n",
    "\n",
    "The test we would use in this circumstance is the Tukey HSD test, where HSD means Highly Significant Differences. "
   ]
  },
  {
   "cell_type": "code",
   "execution_count": 11,
   "metadata": {},
   "outputs": [
    {
     "name": "stdout",
     "output_type": "stream",
     "text": [
      "Tukey's HSD Pairwise Group Comparisons (95.0% Confidence Interval)\n",
      "Comparison  Statistic  p-value  Lower CI  Upper CI\n",
      " (0 - 1)     -2.905    -0.000    -3.334    -2.477\n",
      " (0 - 2)     -6.054    -0.000    -6.483    -5.625\n",
      " (1 - 0)      2.905    -0.000     2.477     3.334\n",
      " (1 - 2)     -3.148    -0.000    -3.577    -2.720\n",
      " (2 - 0)      6.054    -0.000     5.625     6.483\n",
      " (2 - 1)      3.148    -0.000     2.720     3.577\n",
      "\n"
     ]
    }
   ],
   "source": [
    "print(stats.tukey_hsd(test_aves['calc'], test_aves['chem'], test_aves['biol']))"
   ]
  },
  {
   "cell_type": "markdown",
   "metadata": {},
   "source": [
    "This table gives us the comparison between each group. NOTES HERE - MAKE TWO SAME ONE DIFF SO COMPARISON IS OBVIOUS\n",
    "\n",
    "### Exercise x - \n",
    "What do you think this table is telling us?\n",
    "\n",
    "\n",
    "Write your answer here "
   ]
  },
  {
   "cell_type": "markdown",
   "metadata": {},
   "source": [
    "## ANOVA tables and `statsmodels`\n",
    "Reporting an ANOVA is more complicated than just F, and p, however, see this for how to make a table. https://www.reneshbedre.com/blog/anova.html . One problem with the stats library is that it's reporting functions are very rudimentary and we aren't getting any of that information. \n",
    "\n",
    "We also don't have any way to access the information from the ANOVA analysis since the `stats` anova approach is so simple. \n",
    "\n",
    "Here we need to go to a different, more sophisticated tool. The one that is going to give us the most flexibility is the `statsmodels` library which we will see improves reporting AND gives us the flexibility to do different types of ANOVA. \n",
    "\n",
    "`statsmodels` is, as the name implies, a models-based approach. In essence what we are going to do is to create a statistical model which is fit to the data. \n",
    "\n",
    "An important thing about statsmodels is that we can't use it on just any data structure. We need the datat to be in a fully-expanded of long formal. Our data is pretty simple so we can use the handy pandas function `melt` to do this conversion. \n",
    "\n",
    "\n",
    "### Exercise 3. \n",
    "\n",
    "Make an ANOVA table "
   ]
  },
  {
   "cell_type": "code",
   "execution_count": 16,
   "metadata": {},
   "outputs": [
    {
     "name": "stdout",
     "output_type": "stream",
     "text": [
      "     variable      value\n",
      "0        calc  85.618750\n",
      "1        calc  80.735941\n",
      "2        calc  73.715539\n",
      "3        calc  84.758469\n",
      "4        calc  81.107428\n",
      "...       ...        ...\n",
      "2995     biol  89.004067\n",
      "2996     biol  84.516857\n",
      "2997     biol  87.993931\n",
      "2998     biol  92.449446\n",
      "2999     biol  87.861511\n",
      "\n",
      "[3000 rows x 2 columns]\n"
     ]
    }
   ],
   "source": [
    "import statsmodels as sm\n",
    "from statsmodels.formula.api import ols\n",
    "\n",
    "test_aves_long = test_aves.melt()\n",
    "print(test_aves_long)\n",
    "\n"
   ]
  },
  {
   "cell_type": "markdown",
   "metadata": {},
   "source": [
    "Now we are ready to apply the model\n",
    "\n",
    "The model takes use the tilde as an operator. This follows the pattern of the R language. The first value in the model is y - which in our 'melted' data set is the column 'variable'. The C operator lets the model know that this is categorical data, and not a continuous x value (for say, performing a regression). \n"
   ]
  },
  {
   "cell_type": "code",
   "execution_count": 17,
   "metadata": {},
   "outputs": [
    {
     "ename": "AttributeError",
     "evalue": "module 'statsmodels.stats' has no attribute 'anova_lm'",
     "output_type": "error",
     "traceback": [
      "\u001b[0;31m---------------------------------------------------------------------------\u001b[0m",
      "\u001b[0;31mAttributeError\u001b[0m                            Traceback (most recent call last)",
      "\u001b[0;32m<ipython-input-17-733836641f1f>\u001b[0m in \u001b[0;36m<module>\u001b[0;34m\u001b[0m\n\u001b[1;32m      1\u001b[0m \u001b[0mmodel\u001b[0m \u001b[0;34m=\u001b[0m \u001b[0mols\u001b[0m\u001b[0;34m(\u001b[0m\u001b[0;34m'value ~ C(variable)'\u001b[0m\u001b[0;34m,\u001b[0m \u001b[0mdata\u001b[0m \u001b[0;34m=\u001b[0m \u001b[0mtest_aves_long\u001b[0m\u001b[0;34m)\u001b[0m\u001b[0;34m.\u001b[0m\u001b[0mfit\u001b[0m\u001b[0;34m(\u001b[0m\u001b[0;34m)\u001b[0m\u001b[0;34m\u001b[0m\u001b[0;34m\u001b[0m\u001b[0m\n\u001b[0;32m----> 2\u001b[0;31m \u001b[0mone_way_table\u001b[0m \u001b[0;34m=\u001b[0m \u001b[0msm\u001b[0m\u001b[0;34m.\u001b[0m\u001b[0mstats\u001b[0m\u001b[0;34m.\u001b[0m\u001b[0manova_lm\u001b[0m\u001b[0;34m(\u001b[0m\u001b[0mmodel\u001b[0m\u001b[0;34m,\u001b[0m \u001b[0mtyp\u001b[0m\u001b[0;34m=\u001b[0m\u001b[0;36m2\u001b[0m\u001b[0;34m)\u001b[0m\u001b[0;34m\u001b[0m\u001b[0;34m\u001b[0m\u001b[0m\n\u001b[0m\u001b[1;32m      3\u001b[0m \u001b[0mone_way_table\u001b[0m\u001b[0;34m\u001b[0m\u001b[0;34m\u001b[0m\u001b[0m\n\u001b[1;32m      4\u001b[0m \u001b[0;34m\u001b[0m\u001b[0m\n",
      "\u001b[0;31mAttributeError\u001b[0m: module 'statsmodels.stats' has no attribute 'anova_lm'"
     ]
    }
   ],
   "source": [
    "model = ols('value ~ C(variable)', data = test_aves_long).fit()\n",
    "one_way_table = sm.stats.anova_lm(model, typ=2)\n",
    "one_way_table\n",
    "\n"
   ]
  },
  {
   "cell_type": "code",
   "execution_count": 21,
   "metadata": {},
   "outputs": [
    {
     "name": "stdout",
     "output_type": "stream",
     "text": [
      "     variable      value\n",
      "0        calc  85.618750\n",
      "1        calc  80.735941\n",
      "2        calc  73.715539\n",
      "3        calc  84.758469\n",
      "4        calc  81.107428\n",
      "...       ...        ...\n",
      "2995     biol  89.004067\n",
      "2996     biol  84.516857\n",
      "2997     biol  87.993931\n",
      "2998     biol  92.449446\n",
      "2999     biol  87.861511\n",
      "\n",
      "[3000 rows x 2 columns]\n"
     ]
    }
   ],
   "source": []
  },
  {
   "cell_type": "markdown",
   "metadata": {},
   "source": [
    "\n",
    "\n",
    "\n",
    "\n",
    "TEXT describe post-hoc tests\n",
    "### Exercise 4. \n",
    "\n",
    "run a post-hoc test on the ANOVA data\n",
    "\n",
    "# Two-way analysis of variance\n",
    "\n",
    "Description read in full data set:     students from four universities, Male and Female, and their\n",
    "\n",
    "### Exercise 4.  \n",
    "\n",
    "run two way ANOVA on data sex vs. score , definitely use stats models for this"
   ]
  },
  {
   "cell_type": "code",
   "execution_count": null,
   "metadata": {},
   "outputs": [],
   "source": []
  },
  {
   "cell_type": "markdown",
   "metadata": {},
   "source": [
    "![TJU logo image](images/TJU_logo_image.png \"TJU logo image\")"
   ]
  }
 ],
 "metadata": {
  "kernelspec": {
   "display_name": "Python 3",
   "language": "python",
   "name": "python3"
  },
  "language_info": {
   "codemirror_mode": {
    "name": "ipython",
    "version": 3
   },
   "file_extension": ".py",
   "mimetype": "text/x-python",
   "name": "python",
   "nbconvert_exporter": "python",
   "pygments_lexer": "ipython3",
   "version": "3.8.8"
  }
 },
 "nbformat": 4,
 "nbformat_minor": 2
}
