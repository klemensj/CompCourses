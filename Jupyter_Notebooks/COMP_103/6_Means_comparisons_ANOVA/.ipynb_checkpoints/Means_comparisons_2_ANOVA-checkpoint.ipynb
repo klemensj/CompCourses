{
 "cells": [
  {
   "cell_type": "markdown",
   "metadata": {},
   "source": [
    "<div align =\"right\">Thomas Jefferson University <b>COMP 103</b>: Data Analysis and Visualization</div>"
   ]
  },
  {
   "cell_type": "code",
   "execution_count": 2,
   "metadata": {},
   "outputs": [],
   "source": [
    "import matplotlib.pyplot as plt\n",
    "import pandas as pd"
   ]
  },
  {
   "cell_type": "markdown",
   "metadata": {},
   "source": [
    "# Comparing means with ANOVA\n",
    "\n",
    "The next means comparison strategy we will investigate is the ANOVA, or ANalysis Of VAriance. This is a means comparison strategy that is often used in the life sciences. The name can be a bit confusing, as this test detects differences among means by calculating the ratios between different variance components - specifically the ratio of the variance between samples (which corresponds to the variance among species, experimental treatments, localities, or whatever else we may be comparing) to the variance within samples (the error or residual variance, variability in the data that cannot be attributed to our experimental factors).  \n",
    "\n",
    "Similarly to how the the t-test assigned statistical significance by calculating a t-statistic that is then compared to a table of t-values, the ANOVA assigns statistical significance by calculating an **F-statistic** that is compared to a table of F-values. Most simply this can be represented as:\n",
    "\n",
    "F = <u>between sample variance</u>   \n",
    "&nbsp;&nbsp;&nbsp;&nbsp;&nbsp;&nbsp;within sample variance\n",
    "\n",
    "In this notebook we will compare three different types of ANOVA:\n",
    "* In a **one-way ANOVA**, we will compare multiple sample means\n",
    "* In a **two-way ANOVA**, we will compare sample means that are affected by more than one experimental factor\n",
    "* In a **randomized block ANOVA**, which we will just touch on briefly, we will look at how random factors can be analyzed\n",
    "\n",
    "**Note 1** ANOVAs can get very complicated very quickly! ANOVAs are calculated differently when sample sizes between groups are different or the same, or when the factors included in an ANOVA are fixed (meaningful beyond the bounds of the experiment being considered, such as level of fertilizer applied, or sex of the study organism) or random (meaning factors that might be expected to vary in unpredictable ways, such as different cages in which lab mice are housed, or fields in which plants are grown). Understanding these differences is very important and planning an experiment that requires ANOVA should be done in consultation with a statistician or an experienced practitioner. \n",
    "\n",
    "**Note 2** Many of the resources you will find online about using ANOVA will assume that you are using R statistical software. Running an ANOVA in R will have a different syntax than in python, but the fundamentals are very similar. \n",
    "\n",
    "\n",
    "# Comparing multiple means with one-way ANOVA\n",
    "\n",
    "The simplest application of ANOVA is to compare three or more means to one another. If a two-sample t-test asks 'Does sample A differ from sample B?' a one way ANOVA asks 'Do samples A, B, C, ... differ from one another?'\n",
    "\n",
    "Let's load up a dataset. In the `data` folder is a file called `test_aves.csv`. In the code window below, load that dataset up and print out the header to make sure you have it. \n",
    "\n",
    "The data set consists of a series of students from four universities, Male and Female, and their average exam scores in three areas: calculus, chemistry, and biology."
   ]
  },
  {
   "cell_type": "code",
   "execution_count": 6,
   "metadata": {},
   "outputs": [
    {
     "data": {
      "text/html": [
       "<div>\n",
       "<style scoped>\n",
       "    .dataframe tbody tr th:only-of-type {\n",
       "        vertical-align: middle;\n",
       "    }\n",
       "\n",
       "    .dataframe tbody tr th {\n",
       "        vertical-align: top;\n",
       "    }\n",
       "\n",
       "    .dataframe thead th {\n",
       "        text-align: right;\n",
       "    }\n",
       "</style>\n",
       "<table border=\"1\" class=\"dataframe\">\n",
       "  <thead>\n",
       "    <tr style=\"text-align: right;\">\n",
       "      <th></th>\n",
       "      <th>Unnamed: 0</th>\n",
       "      <th>univ</th>\n",
       "      <th>sex</th>\n",
       "      <th>calc</th>\n",
       "      <th>chem</th>\n",
       "      <th>biol</th>\n",
       "    </tr>\n",
       "  </thead>\n",
       "  <tbody>\n",
       "    <tr>\n",
       "      <th>0</th>\n",
       "      <td>0</td>\n",
       "      <td>ASU</td>\n",
       "      <td>M</td>\n",
       "      <td>77.735773</td>\n",
       "      <td>87.051088</td>\n",
       "      <td>88.836237</td>\n",
       "    </tr>\n",
       "    <tr>\n",
       "      <th>1</th>\n",
       "      <td>1</td>\n",
       "      <td>BSU</td>\n",
       "      <td>F</td>\n",
       "      <td>84.404430</td>\n",
       "      <td>86.571663</td>\n",
       "      <td>81.843252</td>\n",
       "    </tr>\n",
       "    <tr>\n",
       "      <th>2</th>\n",
       "      <td>2</td>\n",
       "      <td>CSU</td>\n",
       "      <td>M</td>\n",
       "      <td>78.791048</td>\n",
       "      <td>88.657529</td>\n",
       "      <td>92.983174</td>\n",
       "    </tr>\n",
       "    <tr>\n",
       "      <th>3</th>\n",
       "      <td>3</td>\n",
       "      <td>DSU</td>\n",
       "      <td>F</td>\n",
       "      <td>76.030194</td>\n",
       "      <td>79.144937</td>\n",
       "      <td>87.765178</td>\n",
       "    </tr>\n",
       "    <tr>\n",
       "      <th>4</th>\n",
       "      <td>4</td>\n",
       "      <td>ASU</td>\n",
       "      <td>M</td>\n",
       "      <td>83.397229</td>\n",
       "      <td>83.455723</td>\n",
       "      <td>87.392752</td>\n",
       "    </tr>\n",
       "  </tbody>\n",
       "</table>\n",
       "</div>"
      ],
      "text/plain": [
       "   Unnamed: 0 univ sex       calc       chem       biol\n",
       "0           0  ASU   M  77.735773  87.051088  88.836237\n",
       "1           1  BSU   F  84.404430  86.571663  81.843252\n",
       "2           2  CSU   M  78.791048  88.657529  92.983174\n",
       "3           3  DSU   F  76.030194  79.144937  87.765178\n",
       "4           4  ASU   M  83.397229  83.455723  87.392752"
      ]
     },
     "execution_count": 6,
     "metadata": {},
     "output_type": "execute_result"
    }
   ],
   "source": [
    "test_aves = pd.read_csv('data/test_aves.csv')   ## FIX SUPPRESS INDEX\n",
    "test_aves.head()"
   ]
  },
  {
   "cell_type": "markdown",
   "metadata": {},
   "source": [
    "Hopefully you see the data in front of you. For now, we are going to ignore the university and sex data and just look at the numbers as if we didn't have those other factors available to us. [Maybe make a data set that doesn't have the university and sex data in it.  so these can be independent observations]\n",
    "\n",
    "First things first, before we start comparing means, let's explore the data. ANOVA has three major assumptions. 1) that the data are independent of one another 2) that the data is drawn from a normal distribution, and 3) that the groups being compared have similar variances. Assume that the scores are a random collection of scores from each university, such that each data series in the dataframe is independent, or in other words that the rows don't mean anything.  \n",
    "\n",
    "### Exercise 1. \n",
    "\n",
    "In the code window below, take a pass at using the tools we have learned so far to demonstrate that each of these three conditions is met. You can use visualizations or other statistical tests to do so. \n"
   ]
  },
  {
   "cell_type": "code",
   "execution_count": 8,
   "metadata": {},
   "outputs": [
    {
     "data": {
      "text/html": [
       "<div>\n",
       "<style scoped>\n",
       "    .dataframe tbody tr th:only-of-type {\n",
       "        vertical-align: middle;\n",
       "    }\n",
       "\n",
       "    .dataframe tbody tr th {\n",
       "        vertical-align: top;\n",
       "    }\n",
       "\n",
       "    .dataframe thead th {\n",
       "        text-align: right;\n",
       "    }\n",
       "</style>\n",
       "<table border=\"1\" class=\"dataframe\">\n",
       "  <thead>\n",
       "    <tr style=\"text-align: right;\">\n",
       "      <th></th>\n",
       "      <th>Unnamed: 0</th>\n",
       "      <th>calc</th>\n",
       "      <th>chem</th>\n",
       "      <th>biol</th>\n",
       "    </tr>\n",
       "  </thead>\n",
       "  <tbody>\n",
       "    <tr>\n",
       "      <th>count</th>\n",
       "      <td>1000.000000</td>\n",
       "      <td>1000.000000</td>\n",
       "      <td>1000.000000</td>\n",
       "      <td>1000.000000</td>\n",
       "    </tr>\n",
       "    <tr>\n",
       "      <th>mean</th>\n",
       "      <td>499.500000</td>\n",
       "      <td>82.251045</td>\n",
       "      <td>85.017736</td>\n",
       "      <td>87.961730</td>\n",
       "    </tr>\n",
       "    <tr>\n",
       "      <th>std</th>\n",
       "      <td>288.819436</td>\n",
       "      <td>3.952268</td>\n",
       "      <td>4.175880</td>\n",
       "      <td>4.042939</td>\n",
       "    </tr>\n",
       "    <tr>\n",
       "      <th>min</th>\n",
       "      <td>0.000000</td>\n",
       "      <td>70.191306</td>\n",
       "      <td>73.188534</td>\n",
       "      <td>75.356028</td>\n",
       "    </tr>\n",
       "    <tr>\n",
       "      <th>25%</th>\n",
       "      <td>249.750000</td>\n",
       "      <td>79.677506</td>\n",
       "      <td>82.313789</td>\n",
       "      <td>85.203013</td>\n",
       "    </tr>\n",
       "    <tr>\n",
       "      <th>50%</th>\n",
       "      <td>499.500000</td>\n",
       "      <td>82.389430</td>\n",
       "      <td>85.047946</td>\n",
       "      <td>87.913294</td>\n",
       "    </tr>\n",
       "    <tr>\n",
       "      <th>75%</th>\n",
       "      <td>749.250000</td>\n",
       "      <td>84.763142</td>\n",
       "      <td>87.959997</td>\n",
       "      <td>90.806142</td>\n",
       "    </tr>\n",
       "    <tr>\n",
       "      <th>max</th>\n",
       "      <td>999.000000</td>\n",
       "      <td>94.562253</td>\n",
       "      <td>98.846922</td>\n",
       "      <td>100.000000</td>\n",
       "    </tr>\n",
       "  </tbody>\n",
       "</table>\n",
       "</div>"
      ],
      "text/plain": [
       "        Unnamed: 0         calc         chem         biol\n",
       "count  1000.000000  1000.000000  1000.000000  1000.000000\n",
       "mean    499.500000    82.251045    85.017736    87.961730\n",
       "std     288.819436     3.952268     4.175880     4.042939\n",
       "min       0.000000    70.191306    73.188534    75.356028\n",
       "25%     249.750000    79.677506    82.313789    85.203013\n",
       "50%     499.500000    82.389430    85.047946    87.913294\n",
       "75%     749.250000    84.763142    87.959997    90.806142\n",
       "max     999.000000    94.562253    98.846922   100.000000"
      ]
     },
     "execution_count": 8,
     "metadata": {},
     "output_type": "execute_result"
    }
   ],
   "source": [
    "###\n",
    "### Your code here\n",
    "###\n",
    "test_aves.describe()\n",
    "\n"
   ]
  },
  {
   "cell_type": "markdown",
   "metadata": {},
   "source": [
    "Ok HERE we need a description of how to run a one-way ANOVA using python - ADD THIS TEXT \n",
    "\n",
    "### Exercise 2. \n",
    "\n",
    "Run a one-way anova and visualize the results.  \n",
    "\n",
    "compare to a boxplot of the means"
   ]
  },
  {
   "cell_type": "code",
   "execution_count": null,
   "metadata": {},
   "outputs": [],
   "source": []
  },
  {
   "cell_type": "markdown",
   "metadata": {},
   "source": [
    "Reporting an ANOVA is more complicated than just F, and p, however, see this for how to make a table. https://www.reneshbedre.com/blog/anova.html\n",
    "\n",
    "### Exercise 3. \n",
    "\n",
    "Make an ANOVA table "
   ]
  },
  {
   "cell_type": "code",
   "execution_count": null,
   "metadata": {},
   "outputs": [],
   "source": []
  },
  {
   "cell_type": "markdown",
   "metadata": {},
   "source": [
    "\n",
    "\n",
    "## Post hoc tests with one-way ANOVA\n",
    "\n",
    "TEXT describe post-hoc tests\n",
    "### Exercise 4. \n",
    "\n",
    "run a post-hoc test on the ANOVA data"
   ]
  },
  {
   "cell_type": "code",
   "execution_count": null,
   "metadata": {},
   "outputs": [],
   "source": []
  },
  {
   "cell_type": "markdown",
   "metadata": {},
   "source": [
    "# Two-way analysis of variance\n",
    "\n",
    "Description\n",
    "\n",
    "### Exercise 4.  \n",
    "\n",
    "run two way ANOVA on data sex vs. score , definitely use stats models for this"
   ]
  },
  {
   "cell_type": "code",
   "execution_count": null,
   "metadata": {},
   "outputs": [],
   "source": []
  },
  {
   "cell_type": "markdown",
   "metadata": {},
   "source": [
    "![TJU logo image](images/TJU_logo_image.png \"TJU logo image\")"
   ]
  }
 ],
 "metadata": {
  "kernelspec": {
   "display_name": "Python 3 (ipykernel)",
   "language": "python",
   "name": "python3"
  },
  "language_info": {
   "codemirror_mode": {
    "name": "ipython",
    "version": 3
   },
   "file_extension": ".py",
   "mimetype": "text/x-python",
   "name": "python",
   "nbconvert_exporter": "python",
   "pygments_lexer": "ipython3",
   "version": "3.9.12"
  }
 },
 "nbformat": 4,
 "nbformat_minor": 2
}
