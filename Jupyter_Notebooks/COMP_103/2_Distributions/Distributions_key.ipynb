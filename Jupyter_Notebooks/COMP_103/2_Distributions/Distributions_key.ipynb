{
 "cells": [
  {
   "cell_type": "markdown",
   "metadata": {},
   "source": [
    "<div align =\"right\">Thomas Jefferson University <b>COMP 103</b>: Data Analysis and Visualization</div>"
   ]
  },
  {
   "cell_type": "markdown",
   "metadata": {},
   "source": [
    "# Distributions and Summarizing Data\n",
    "\n",
    "Before diving futher into the analysis of data it is important to review some basic aspects of the math and data organization that underly statistical tests. \n",
    "\n",
    "Your reading assignment included a discussion of the difference between a **sample** and a **population**. A dataset is a sample, as it includes a finite amount of data that is meant to be *representative* of some larger population. Obtaining a representative sample is the goal of experimental design, and construction of studies and experiments is an important part of science ... that we won't have time to cover here. \n",
    "\n",
    "Similarly a **statistic** is a value vs, a **parameter** when we calculate a statistic we are doing so in order to estimate the value of a parameter\n",
    "\n",
    "When we have a dataset we have a sample. That distribution - \n",
    "\n",
    "\n",
    "Discrete vs. continuous distributions\n",
    "\n",
    "\n",
    "## Describing distributions with histograms and descriptive statistics\n",
    "\n",
    "Histogram is a visualization of a frequency distribution \n",
    "\n",
    "Freq. dist table\n",
    "\n",
    "Histogram\n",
    "\n",
    "Use python to generate descriptive statistics \n",
    "\n",
    "\n",
    "## Describing distributions probability distributions (PDF, CDF)\n",
    "\n",
    "\n",
    "\n",
    "\n",
    "\n",
    "We will complete the exercises that accompany sections 6.1-6.3 and found on page 119 in the textbook. For each exercise the correct answers are given in the text, write python code to calculate each answer and use the given data to confirm.\n",
    "\n",
    "\n",
    "## Brainstorm - new version of this\n",
    "\n",
    "\n",
    ".cdf command from book didn't work ... \n",
    "    needed to 'freeze' probability density function to graph\n",
    "\n",
    "calculate a probability density function and cumulative distribution\n",
    "\n",
    "Should this be more about generating datasets with particular chacteristics - review of generating and normal functions. \n",
    "\n",
    "Discrete vs. continuous distributions - what are they and why are they important?\n",
    "\n",
    "Go back to biostat textbook and read their treatment of distributions. \n",
    "\n",
    "\n",
    "### 6.1 Sample Standard Deviation\n",
    "Create an numpy-array, containing the data 1, 2, 3, ..., 10. Calculate mean and\n",
    "sample(!)-standard deviation. (Correct answer for the SD: 3.03.)"
   ]
  },
  {
   "cell_type": "code",
   "execution_count": null,
   "metadata": {},
   "outputs": [],
   "source": []
  },
  {
   "cell_type": "markdown",
   "metadata": {},
   "source": [
    "### 6.2 Normal Distribution\n",
    "* Generate and plot the Probability Density Function (PDF) of a normal distribution,\n",
    "with a mean of 5 and a standard deviation of 3.\n",
    "* Generate 1000 random data from this distribution.\n",
    "* Calculate the standard error of the mean of these data. (Correct answer: ca.\n",
    "0.096.)\n",
    "* Plot the histogram of these data.\n",
    "* From the PDF, calculate the interval containing 95% of these data. (Correct\n",
    "answer: [ -0.88, 10.88].)\n",
    "* Your doctor tells you that he can use hip implants for surgery even if they are\n",
    "1mm bigger or smaller than the specified size. And your financial officer tells\n",
    "you that you can discard 1 out of 1000 hip implants, and still make a profit.\n",
    "What is the required standard deviation for the producer of the hip implants,\n",
    "to simultaneously satisfy both requirements? (Correct answer: sigma = 0:304 mm.)"
   ]
  },
  {
   "cell_type": "code",
   "execution_count": null,
   "metadata": {},
   "outputs": [],
   "source": []
  },
  {
   "cell_type": "markdown",
   "metadata": {},
   "source": [
    "### 6.3 Continuous Distributions\n",
    "* t-Distribution: Measuring the weight of your colleagues, you have obtained the following weights: 52, 70, 65, 85, 62, 83, 59 kg. Calculate the corresponding mean, and the 99% confidence interval for the mean. Note: with n values you have n - 1 DOF for the t-distribution. (Correct answer: 68.0 +/- 17.2 kg.)\n",
    "* Chi-square Distribution: Create three normally distributed data sets (mean = 0, SD = 1), with 1000 samples each. Then square them, sum them (so that you have 1000 data-points), and create a histogram with 100 bins. This should be similar to the curve for the chi-square distribution, with 3 DOF (i.e., it should come down at the left, see Fig. 6.22).\n",
    "\n",
    "NOT CONVINCED THAT CHI SQUARE EXAMPLE IS USEFUL\n",
    "\n",
    "* F-Distribution: You have two apple trees. There are three apples from the first tree that weigh 110, 121, and 143 g, respectively, and four from the other which weigh 88, 93, 105, and 124 g, respectively. Are the variances from the two trees different? Note: calculate the corresponding F-value, and check if the CDF for thecorresponding F-distribution is < 0.025. (Correct answer: no.)"
   ]
  },
  {
   "cell_type": "code",
   "execution_count": null,
   "metadata": {},
   "outputs": [],
   "source": []
  },
  {
   "cell_type": "markdown",
   "metadata": {},
   "source": [
    "![TJU logo image](images/TJU_logo_image.png \"TJU logo image\")"
   ]
  }
 ],
 "metadata": {
  "kernelspec": {
   "display_name": "Python 3 (ipykernel)",
   "language": "python",
   "name": "python3"
  },
  "language_info": {
   "codemirror_mode": {
    "name": "ipython",
    "version": 3
   },
   "file_extension": ".py",
   "mimetype": "text/x-python",
   "name": "python",
   "nbconvert_exporter": "python",
   "pygments_lexer": "ipython3",
   "version": "3.9.12"
  }
 },
 "nbformat": 4,
 "nbformat_minor": 2
}
