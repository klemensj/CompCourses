{
 "cells": [
  {
   "cell_type": "markdown",
   "metadata": {},
   "source": [
    "<div align =\"right\">Thomas Jefferson University <b>COMP 103</b>: Data Analysis and Visualization</div>"
   ]
  },
  {
   "cell_type": "markdown",
   "metadata": {},
   "source": [
    "# Distributions part II - probability functions and cumulative distributions\n",
    "\n",
    "In order to do hypothesis testing with statistics we need to understand how to calculate the probability of obtaining a particular sample from an underlying distribution. Without this step, we can't compare sample parameters to one another or to a fixed value. To do this, we need to understand the concept of the **probability mass function** for discrete distributions or the **probability density function** for continuous distributions. \n",
    "\n",
    "\n",
    "## The probability mass function (discrete) \n",
    "\n",
    "Let's start with a very simple example. Consider a coin that you toss two times. There are only three possible outcomes in terms of how many times you will throw 'heads': 0, 1, or 2. Intuitively we understand that 1/4 of the time we should throw only tails, 1/2 of the time we should throw 1 head and 1 tail, and 1/4 of the time we should throw heads twice. If we organize this information into a **frequency distribution table** it would look like this:\n",
    "\n",
    "|outcome|number of heads|probability|\n",
    "|:-:|:-:|:-:|\n",
    "|tails-tails|0|0.25|\n",
    "|heads-tails OR tails-heads|1|0.5|\n",
    "|heads-heads|2|0.25|\n",
    "\n",
    "What we have described for this very simple distribution is the probability of the different outcomes. The set of probabilities over all of the possible outcomes is known as the **probability mass function**. \n",
    "\n",
    "The `pmf(k)` method, which works on discrete Scipy stats distribution objects only, returns the probability of a particular outcome, *k*, given a particular distribution. In the code below we calculate the probability for each of the three expected outcomes. "
   ]
  },
  {
   "cell_type": "code",
   "execution_count": 1,
   "metadata": {},
   "outputs": [
    {
     "name": "stdout",
     "output_type": "stream",
     "text": [
      "outcome     probability\n",
      "0 heads     0.24999999999999997\n",
      "1 heads     0.5000000000000002\n",
      "2 heads     0.25\n",
      "\n",
      "outcome?    probability\n",
      "0.5 heads   0.0\n",
      "7   heads   0.0\n"
     ]
    }
   ],
   "source": [
    "from scipy.stats import binom\n",
    "\n",
    "n, p = 2, 0.5\n",
    "coinflip_dist = binom(n,p)    #set a binomial distribution for two coin flips, counting heads as events\n",
    "\n",
    "\n",
    "print('outcome     probability')\n",
    "print('0 heads    ', coinflip_dist.pmf(0))        #pmf call returns frequency of outcomes with 0 heads\n",
    "print('1 heads    ', coinflip_dist.pmf(1))\n",
    "print('2 heads    ', coinflip_dist.pmf(2))\n",
    "print()\n",
    "print('outcome?    probability')\n",
    "print('0.5 heads  ', coinflip_dist.pmf(0.5))\n",
    "print('7   heads  ', coinflip_dist.pmf(7))\n",
    "\n"
   ]
  },
  {
   "cell_type": "markdown",
   "metadata": {},
   "source": [
    "### Question 4 \n",
    "Explain the results observed above\n",
    "\n",
    " * \n",
    " * \n",
    " * "
   ]
  },
  {
   "cell_type": "markdown",
   "metadata": {},
   "source": [
    "## The probability distribution function (continuous)\n",
    "\n",
    "For a continuous distribution things are a little different. We don't have a frequency table of discrete outcomes. Also, the probability of a particular outcome is not going to be represented by a discrete cateogry, but every possible outcome will rather have a probability associated with it. The line described by this set of probabiliites is the **probability distribution function**. This is easier seen than written about, we can see this easily for a normal distribution. \n",
    "\n",
    "Similarly what we did before, the `pdf(k)` method, which works on continuous Scipy stats distribution objects only, returns the probability of a particular outcome, k, given a particular distribution. In the code below we calculate the probability for several values of our normal distribution. "
   ]
  },
  {
   "cell_type": "code",
   "execution_count": 5,
   "metadata": {},
   "outputs": [
    {
     "name": "stdout",
     "output_type": "stream",
     "text": [
      "The probability of the mean value:   0.15957691216057307\n",
      "The probability of a distant value:  0.008957812117937159\n"
     ]
    }
   ],
   "source": [
    "from scipy.stats import norm\n",
    "\n",
    "normal_dist = norm(loc = 5, scale = 2.5)\n",
    "\n",
    "print( 'The probability of the mean value:  ', normal_dist.pdf(5))    \n",
    "print( 'The probability of a distant value: ', normal_dist.pdf(11))    \n",
    "\n",
    "\n",
    "    "
   ]
  },
  {
   "cell_type": "markdown",
   "metadata": {},
   "source": [
    "These values are not particularly informative on their own.  But what if we use the `.pdf()` method to plot out all of the values of the distribution going up and down 3 standard deviations from the mean? "
   ]
  },
  {
   "cell_type": "code",
   "execution_count": 6,
   "metadata": {},
   "outputs": [
    {
     "data": {
      "text/plain": [
       "[<matplotlib.lines.Line2D at 0x7f953994a250>]"
      ]
     },
     "execution_count": 6,
     "metadata": {},
     "output_type": "execute_result"
    },
    {
     "data": {
      "image/png": "[encoded data removed]",
      "text/plain": [
       "<Figure size 432x288 with 1 Axes>"
      ]
     },
     "metadata": {
      "needs_background": "light"
     },
     "output_type": "display_data"
    }
   ],
   "source": [
    "from matplotlib import pyplot as plt\n",
    "\n",
    "\n",
    "x, y = [],[]\n",
    "for i in range(-3,14):     # use numbers -3 through 13\n",
    "\n",
    "    x.append(i)\n",
    "    y.append(normal_dist.pdf(i))\n",
    "    \n",
    "plt.plot(x,y)"
   ]
  },
  {
   "cell_type": "markdown",
   "metadata": {},
   "source": [
    "### Exercise 4 \n",
    "Using the general approach above, make a function to make a smoother curve based on any mean and standard deviation as arguments. Add in lines to show cutoffs 1, 2, and 3 SD from the mean. \n",
    " "
   ]
  },
  {
   "cell_type": "code",
   "execution_count": null,
   "metadata": {},
   "outputs": [],
   "source": [
    "#\n",
    "## Your code here\n",
    "#"
   ]
  },
  {
   "cell_type": "markdown",
   "metadata": {},
   "source": [
    "## Cumulative distribution functions\n",
    "\n",
    "Invididual probabilities generated for the continuous distributions are not that useful. Because the data is continuous it's hard to know what a particular value means. \n",
    "\n",
    "The cumulative distribution function is very useful in statistics. It is a form of the probability distribution function (or probability mass function) takes an 'area under the curve' approach to the distribution. It basically asks us how many values in our distribution will be *less than or equal to* a particular value. \n",
    "\n",
    "Let's go back to our coin flip example where we can see this in a frequency table. Let's say instead of asking 'what is the probability of getting 0, 1, or 2 heads we asked 'what is the probability of getting *no more than* 0, 1, or 2 heads. \n",
    "\n",
    "|outcome|number of heads|cumulative probability|\n",
    "|:-:|:-:|:-:|\n",
    "|tails-tails|0|0.25|\n",
    "|heads-tails OR tails-heads|1|0.75|\n",
    "|heads-heads|2|1.0|\n",
    "\n",
    "The cumulative probability of getting 1 or fewer heads is the sum of the probabilities for 0 and 1, the probability of getting 2 or fewer heads is of course 100%. \n",
    "\n",
    "Let's repeat the example we used for the probability mass function using the method `cdf(k)` which will call the cumulative distribution function for either a discrete or a continuous distribution. "
   ]
  },
  {
   "cell_type": "code",
   "execution_count": 7,
   "metadata": {},
   "outputs": [
    {
     "name": "stdout",
     "output_type": "stream",
     "text": [
      "outcome     probability\n",
      "≤ 0 heads     0.25\n",
      "≤ 1 heads     0.75\n",
      "≤ 2 heads     1.0\n",
      "\n",
      "outcome?    probability\n",
      "≤ 0.5 heads   0.25\n",
      "≤ 7   heads   1.0\n"
     ]
    }
   ],
   "source": [
    "n, p = 2, 0.5\n",
    "coinflip_dist = binom(n,p)    #set a binomial distribution for two coin flips, counting heads as events\n",
    "\n",
    "\n",
    "print('outcome     probability')\n",
    "print('≤ 0 heads    ', coinflip_dist.cdf(0))        #pmf call returns frequency of outcomes with 0 heads\n",
    "print('≤ 1 heads    ', coinflip_dist.cdf(1))\n",
    "print('≤ 2 heads    ', coinflip_dist.cdf(2))\n",
    "print()\n",
    "print('outcome?    probability')\n",
    "print('≤ 0.5 heads  ', coinflip_dist.cdf(0.5))\n",
    "print('≤ 7   heads  ', coinflip_dist.cdf(7))"
   ]
  },
  {
   "cell_type": "markdown",
   "metadata": {},
   "source": [
    "### Question 5 \n",
    "Explain how the results differed from those obtained for the .pmf() function, especially the last two examples\n",
    "\n",
    " * \n",
    " * \n",
    " * "
   ]
  },
  {
   "cell_type": "markdown",
   "metadata": {},
   "source": [
    "As mentioned above, the cumulative distribution function works for both discrete and continuous data. \n",
    "\n",
    "Let's say we wanted to know what percentage of observations fell different distributions from the mean. We could use the cdf function to figure this out!"
   ]
  },
  {
   "cell_type": "markdown",
   "metadata": {},
   "source": [
    "### Exercise 5 \n",
    "Do the following\n",
    " * Create a distribution with mean 86 and standard deviation 7\n",
    " * Determine what percentage of observations are greater than 1, 2, and 3 standard deviations from the mean in BOTH directions \n",
    " * Determine what percentage of observations are greater than 99.72 or an equal distance away in the opposite direction"
   ]
  },
  {
   "cell_type": "code",
   "execution_count": 33,
   "metadata": {},
   "outputs": [
    {
     "name": "stdout",
     "output_type": "stream",
     "text": [
      "proportion of data ≤79 (=1 SD below): 0.15865525393145707\n",
      "proportion of data ≥93 (=1 SD above): 0.15865525393145707\n",
      "proportion of data ≤72 (=2 SD below): 0.022750131948179195\n",
      "proportion of data ≥100 (=2 SD above): 0.02275013194817921\n",
      "proportion of data ≤65 (=3 SD below): 0.0013498980316300933\n",
      "proportion of data ≥107 (=3 SD above): 0.0013498980316301035\n",
      "\n",
      "since the normal distribution is symmetrical we can just double \n",
      "the value of either tail, so the answer is  0.04999579029644097\n"
     ]
    }
   ],
   "source": [
    "#\n",
    "SD = 7\n",
    "mean = 86\n",
    "observation = 99.72\n",
    "ex_5_dist = norm(mean,SD)\n",
    "\n",
    "for i in range (1,4):\n",
    "    print('proportion of data ≤' +str(mean-(i*SD)) +' (=' + str(i) + ' SD below):', ex_5_dist.cdf(mean-(i*SD)))\n",
    "    print('proportion of data ≥' +str(mean+(i*SD)) +' (=' + str(i) + ' SD above):', (1-ex_5_dist.cdf(mean+(i*SD))))\n",
    "\n",
    "print()\n",
    "\n",
    "tail = 1 - ex_5_dist.cdf(observation)\n",
    "tails = 2*tail\n",
    "\n",
    "print('since the normal distribution is symmetrical we can just double \\nthe value of either tail, so the answer is ', tails)"
   ]
  },
  {
   "cell_type": "markdown",
   "metadata": {},
   "source": [
    "![TJU logo image](images/TJU_logo_image.png \"TJU logo image\")"
   ]
  }
 ],
 "metadata": {
  "kernelspec": {
   "display_name": "Python 3 (ipykernel)",
   "language": "python",
   "name": "python3"
  },
  "language_info": {
   "codemirror_mode": {
    "name": "ipython",
    "version": 3
   },
   "file_extension": ".py",
   "mimetype": "text/x-python",
   "name": "python",
   "nbconvert_exporter": "python",
   "pygments_lexer": "ipython3",
   "version": "3.9.12"
  }
 },
 "nbformat": 4,
 "nbformat_minor": 2
}
