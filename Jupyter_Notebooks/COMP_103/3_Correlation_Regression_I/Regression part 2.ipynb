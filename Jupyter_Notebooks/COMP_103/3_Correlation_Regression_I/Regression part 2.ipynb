{
 "cells": [
  {
   "cell_type": "markdown",
   "metadata": {},
   "source": [
    "<div align =\"right\">Thomas Jefferson University <b>COMP 103</b>: Data Analysis and Visualization</div>"
   ]
  },
  {
   "cell_type": "markdown",
   "metadata": {},
   "source": [
    "# Correlation and Regression part II\n",
    "\n",
    "\n",
    "Correlation and regression analysis are fundamental to data science AND to statistical analysis. Many statistical tests on parametric data are simply extensions of linear regression. In this notebook we will dive a little deeper into correlation and regression analyses. \n",
    "\n",
    "## Correlation vs. Regression\n",
    "\n",
    "**Correlation** is a measure of association between two variables, while **regression** implies a model in which we predict one value based on the value of another. Regression therefore assumes an independent x value that is used to predict a dependent y value. One of the *assumptions* of regression analysis is that x is measured without error, or in other words that x values are 'true' while y variables contain some degree of measurement error. On top of this measurement error is any difference in the y variable that is caused by factors that are not included in our model. The distances of the observed points (represented by the scatterplot) from the model (represented by the regression line) are known as the **residuals** of the regression analysis. The regression line itself (defined by slope and intercept) is the line that minimizes the total squared distance of the observations from the line. This most typical type of regression is therefore known as a **least squares regression**. \n",
    "\n",
    "Let's take a look at a very simple dataset based on this model. In this data, let's assume that we are studying the performance of a particular physiological task `perf` and that we are hypothesizing that this performance is dependent on the concentration of a particular chemical `conc`. We will scale both from 1 to 10. \n",
    "\n",
    "Create the data:"
   ]
  },
  {
   "cell_type": "code",
   "execution_count": 43,
   "metadata": {},
   "outputs": [
    {
     "name": "stdout",
     "output_type": "stream",
     "text": [
      "10\n",
      "conc (x) =  [1, 2, 3, 4, 5, 6, 7, 8, 9, 10]\n",
      "perf (y) =  [-0.07123247  1.34947189  3.07297234  4.88595808  4.32118131  5.63146686\n",
      "  6.77787789  6.53253837  8.50205943 10.78060024]\n"
     ]
    }
   ],
   "source": [
    "import numpy as np\n",
    "\n",
    "perf = np.zeros(10)\n",
    "conc = list(range(1,11))\n",
    "\n",
    "for i in range(10):\n",
    "    perf[i] = conc[i] + np.random.normal(0, 1) \n",
    "\n",
    "print(conc[i])\n",
    "print('conc (x) = ', conc)\n",
    "print('perf (y) = ', perf)"
   ]
  },
  {
   "cell_type": "markdown",
   "metadata": {},
   "source": [
    "And now run the regression analysis and plot it."
   ]
  },
  {
   "cell_type": "code",
   "execution_count": 47,
   "metadata": {},
   "outputs": [
    {
     "name": "stdout",
     "output_type": "stream",
     "text": [
      "LinregressResult(slope=1.0425362566518295, intercept=-0.5556600189095171, rvalue=0.9740911306998318, pvalue=1.9107545699344284e-06, stderr=0.0855764790081065, intercept_stderr=0.5309880881317945)\n"
     ]
    },
    {
     "data": {
      "image/png": "[encoded data removed]",
      "text/plain": [
       "<Figure size 432x288 with 1 Axes>"
      ]
     },
     "metadata": {
      "needs_background": "light"
     },
     "output_type": "display_data"
    }
   ],
   "source": [
    "from scipy import stats \n",
    "import matplotlib.pyplot as plt\n",
    "\n",
    "\n",
    "results = stats.linregress(conc,perf)\n",
    "print(results)\n",
    "\n",
    "plt.ylabel('Performance')\n",
    "\n",
    "plt.xlabel('Concentration')\n",
    "\n",
    "plt.scatter(conc,perf)\n",
    "\n",
    "xs = [min(conc), max(conc)]\n",
    "ys = [min(conc) * results.slope + results.intercept, max(conc) * results.slope + results.intercept]\n",
    "plt.plot(xs, ys)\n",
    "\n",
    "for i in range(len(conc)):\n",
    "    xs = [conc[i],conc[i]]\n",
    "    ys = [perf[i], conc[i]*results.slope + results.intercept]\n",
    "    plt.plot(xs, ys, color = 'red')\n",
    "\n",
    "r2_text = 'R^2= ' + \"{:.3f}\".format(results.rvalue**2)\n",
    "eq_text = 'y = ' + \"{:.3f}\".format(results.slope) + 'x + ' + \"{:.3f}\".format(results.intercept)\n",
    "\n",
    "plt.text(7,3, r2_text)\n",
    "plt.text(7,2, eq_text)\n",
    "\n",
    "plt.show()\n"
   ]
  },
  {
   "cell_type": "markdown",
   "metadata": {},
   "source": [
    "### Questions:\n",
    "\n",
    "What did the following line of code do when we were defining the dataset (be specific):\n",
    "```\n",
    "for i in range(10):\n",
    "    perf[i] = conc[i] + np.random.normal(0, 1) \n",
    "```\n",
    "\n",
    "###Your Answer here\n",
    "\n",
    "What do the red lines represent on the graph?\n",
    "\n",
    "###Your Answer here\n",
    "\n",
    "\n",
    "\n"
   ]
  },
  {
   "cell_type": "code",
   "execution_count": null,
   "metadata": {},
   "outputs": [],
   "source": []
  },
  {
   "cell_type": "code",
   "execution_count": null,
   "metadata": {},
   "outputs": [],
   "source": []
  },
  {
   "cell_type": "code",
   "execution_count": null,
   "metadata": {},
   "outputs": [],
   "source": []
  },
  {
   "cell_type": "markdown",
   "metadata": {},
   "source": [
    "Another *assumption* of regression analysis makes an assumption "
   ]
  },
  {
   "cell_type": "code",
   "execution_count": 2,
   "metadata": {},
   "outputs": [],
   "source": [
    "import matplotlib.pyplot as plt\n",
    "import pandas as pd\n",
    "from scipy import stats      #short name, no nickname needed\n"
   ]
  },
  {
   "cell_type": "markdown",
   "metadata": {},
   "source": [
    "Asssumptions of regression - testing those assumptions\n",
    "\n",
    "Outliers test provided in the book?\n",
    "\n",
    "Plotting residuals\n",
    "Checking data for normality\n",
    "\n",
    "multiple correlations within a dataset and compare (Iris dataset?)\n",
    "\n",
    "When to use regression vs. correlation\n",
    "\n",
    "Multipanel display of regression data\n",
    "\n",
    "\n"
   ]
  },
  {
   "cell_type": "markdown",
   "metadata": {},
   "source": [
    "## Correlation\n",
    "From the data folder import `AvgTemp.csv` into a pandas dataframe named `AvgTemp` and display the data header:"
   ]
  },
  {
   "cell_type": "code",
   "execution_count": 3,
   "metadata": {},
   "outputs": [
    {
     "name": "stdout",
     "output_type": "stream",
     "text": [
      "122\n",
      "<class 'pandas.core.frame.DataFrame'>\n",
      "['year' 'AvgTemp']\n"
     ]
    },
    {
     "data": {
      "text/html": [
       "<div>\n",
       "<style scoped>\n",
       "    .dataframe tbody tr th:only-of-type {\n",
       "        vertical-align: middle;\n",
       "    }\n",
       "\n",
       "    .dataframe tbody tr th {\n",
       "        vertical-align: top;\n",
       "    }\n",
       "\n",
       "    .dataframe thead th {\n",
       "        text-align: right;\n",
       "    }\n",
       "</style>\n",
       "<table border=\"1\" class=\"dataframe\">\n",
       "  <thead>\n",
       "    <tr style=\"text-align: right;\">\n",
       "      <th></th>\n",
       "      <th>year</th>\n",
       "      <th>AvgTemp</th>\n",
       "    </tr>\n",
       "  </thead>\n",
       "  <tbody>\n",
       "    <tr>\n",
       "      <th>0</th>\n",
       "      <td>1887</td>\n",
       "      <td>-7.5</td>\n",
       "    </tr>\n",
       "    <tr>\n",
       "      <th>1</th>\n",
       "      <td>1888</td>\n",
       "      <td>-6.8</td>\n",
       "    </tr>\n",
       "    <tr>\n",
       "      <th>2</th>\n",
       "      <td>1889</td>\n",
       "      <td>-7.1</td>\n",
       "    </tr>\n",
       "    <tr>\n",
       "      <th>3</th>\n",
       "      <td>1890</td>\n",
       "      <td>-7.0</td>\n",
       "    </tr>\n",
       "    <tr>\n",
       "      <th>4</th>\n",
       "      <td>1891</td>\n",
       "      <td>-6.7</td>\n",
       "    </tr>\n",
       "  </tbody>\n",
       "</table>\n",
       "</div>"
      ],
      "text/plain": [
       "   year  AvgTemp\n",
       "0  1887     -7.5\n",
       "1  1888     -6.8\n",
       "2  1889     -7.1\n",
       "3  1890     -7.0\n",
       "4  1891     -6.7"
      ]
     },
     "execution_count": 3,
     "metadata": {},
     "output_type": "execute_result"
    }
   ],
   "source": [
    "# Import the data set and convert it to a pandas dataframe AveTemp, check the import by displaying the 'head'\n",
    "temp = pd.read_csv('data/AvgTemp.csv')\n",
    "print(len(temp))\n",
    "print(type(temp))\n",
    "print(temp.columns.values)\n",
    "temp.head()\n"
   ]
  },
  {
   "cell_type": "markdown",
   "metadata": {},
   "source": [
    "To run a correlation analysis within scipy.stats we use the incredibly simple format\n",
    "```\n",
    "stats.pearsonr(x,y)\n",
    "```\n",
    "\"Pearson's r\" is of course the correlation coefficient *r*. Try it yourself. Note that since a correlation analysis is about the co-variance between variables, it doesn't matter which value we use for x and which value we use for y. Try running it both ways and printing the results to prove that it is the same. "
   ]
  },
  {
   "cell_type": "code",
   "execution_count": 4,
   "metadata": {},
   "outputs": [
    {
     "name": "stdout",
     "output_type": "stream",
     "text": [
      "Average Temp by Year Parameters:\n",
      "(0.6388445026294713, 2.4263207499079536e-15)\n",
      "\n",
      "Average Year by Temp Parameters:\n",
      "(0.6388445026294713, 2.4263207499079536e-15)\n"
     ]
    }
   ],
   "source": [
    "#run and print the results of the correlation twice, using each variable as x and y\n",
    "yearx = stats.pearsonr(temp['year'],temp['AvgTemp'])\n",
    "print('Average Temp by Year Parameters:')\n",
    "print(yearx)\n",
    "print()\n",
    "tempx = stats.pearsonr(temp['AvgTemp'], temp['year'])\n",
    "print('Average Year by Temp Parameters:')\n",
    "print(tempx)\n"
   ]
  },
  {
   "cell_type": "markdown",
   "metadata": {},
   "source": [
    "Ok, so now we come to something that is going to come up a lot with statistical analyses. What do these outputs means and how do we interpret them? Luckily for us, SciPy.org maintains really nice documentation of each of the modules.  <a href = 'https://docs.scipy.org/doc/scipy/reference/generated/scipy.stats.pearsonr.html'>The documentation for the `pearsonr` function</a> tells us that the two numbers we are seeing are the correlation coefficient *r* and the *p-value*, respectively. Don't worry about what the p value means for now, we will get to that. The data is stored as a <a href='https://www.w3schools.com/python/python_sets.asp'>tuple</a>, in which a single variable name is used to store multiple pieces of data. As you can see at 'Next' page at the link, 'Access Tuples', tuples can be indexed just like a list. In the next code window assign the results of the pearsonr function to a variable `results`, and then use that tuple to print out the following output.\n",
    "    \n",
    "```\n",
    "r=  0.6388445026294715\n",
    "p-value =  2.42632074990794e-15\n",
    "```\n",
    "    \n",
    "    "
   ]
  },
  {
   "cell_type": "code",
   "execution_count": 5,
   "metadata": {},
   "outputs": [
    {
     "name": "stdout",
     "output_type": "stream",
     "text": [
      "r= 0.6388445026294713\n",
      "p-value = 2.4263207499079536e-15\n"
     ]
    }
   ],
   "source": [
    "# Generate your ouput of the correlation results here\n",
    "results = yearx\n",
    "print('r= ' + str(results[0]))\n",
    "print('p-value = ' + str(results[1]))\n"
   ]
  },
  {
   "cell_type": "markdown",
   "metadata": {},
   "source": [
    "Now create a scatterplot for the dataset. Label the axes, and place the text you generated in an appropriate location on the image. Ta-dah! You've done your first correlation analysis. "
   ]
  },
  {
   "cell_type": "code",
   "execution_count": 6,
   "metadata": {},
   "outputs": [
    {
     "data": {
      "image/png": "[encoded data removed]",
      "text/plain": [
       "<Figure size 432x288 with 1 Axes>"
      ]
     },
     "metadata": {
      "needs_background": "light"
     },
     "output_type": "display_data"
    }
   ],
   "source": [
    "#Make your scatterplot here.\n",
    "\n",
    "\n",
    "plt.ylabel('Average Temperature')\n",
    "\n",
    "plt.xlabel('Year')\n",
    "\n",
    "plt.scatter(temp['year'],temp['AvgTemp'])\n",
    "\n",
    "r_text = 'r= ' + \"{:.3f}\".format(results[0])\n",
    "p_text = 'p-value = ' + \"{:.3f}\".format(results[1])\n",
    "\n",
    "plt.text(1970,-7.1, r_text)\n",
    "plt.text(1970,-7.3, p_text)\n",
    "\n",
    "plt.show()\n",
    "\n"
   ]
  },
  {
   "cell_type": "markdown",
   "metadata": {},
   "source": [
    "## Regression\n",
    "\n",
    "As you learned in the reading, correlation and regression are similar but different. Whereas correlation is about measuring the strength of association between two variables, regression is about building a model from which we can predict the value of a dependent variable *y* from the value of an indepdendent or predictor variable *x*. \n",
    "\n",
    "We will use the same data that we used above, as it's appropriate for regression analysis. For regression, it is in fact really important to keep our dependent and independent variables in the right order. In this example, we are trying to predict how temperature changes with year, so year is the x value.\n",
    "```\n",
    "stats.linregress(x,y)\n",
    "```"
   ]
  },
  {
   "cell_type": "code",
   "execution_count": 7,
   "metadata": {},
   "outputs": [
    {
     "name": "stdout",
     "output_type": "stream",
     "text": [
      "LinregressResult(slope=0.01399374134643663, intercept=-33.18395881316894, rvalue=0.6388445026294712, pvalue=2.4263207499079685e-15, stderr=0.001538381493118527, intercept_stderr=2.9964877708631743)\n",
      "\n",
      "<class 'scipy.stats._stats_mstats_common.LinregressResult'>\n"
     ]
    }
   ],
   "source": [
    "# Run the linear regression here\n",
    "results = stats.linregress(temp['year'],temp['AvgTemp'])\n",
    "print(results)\n",
    "print()\n",
    "print(type(results))\n",
    "\n",
    "\n"
   ]
  },
  {
   "cell_type": "markdown",
   "metadata": {},
   "source": [
    "Note that the output is something different! If we consult <a href = 'https://docs.scipy.org/doc/scipy/reference/generated/scipy.stats.linregress.html'>the SciPy documentation for lingregress</a> we see that it returns an *object*. You can google what this means, it's kind of deep, but it's similar to how we created plot objects with matplot lib. Functionally for us it means that our result has a lot of different named characteristics that are useful to us. \n",
    "\n",
    "Try the following. As you did above with the correlation, use a variable called results to store the results of the linear regression. This time, we will call from results using the names of the different elements in the object, like this `results.rvalue`. Use this to report the results of the regression. Your result should look like this\n",
    "```\n",
    "R^2 =  0.40812229853989646\n",
    "r =  0.6388445026294712\n",
    "slope =  0.01399374134643663\n",
    "intercept =  -33.18395881316894\n",
    "```"
   ]
  },
  {
   "cell_type": "code",
   "execution_count": 8,
   "metadata": {},
   "outputs": [
    {
     "name": "stdout",
     "output_type": "stream",
     "text": [
      "R^2 = 0.408\n",
      "r = 0.639\n",
      "slope = 0.014\n",
      "intercept = -33.184\n"
     ]
    }
   ],
   "source": [
    "# Generate your ouput of the regression results here\n",
    "print(\"R^2 = \" + \"{:.3f}\".format(results.rvalue**2))\n",
    "print(\"r = \" + \"{:.3f}\".format(results.rvalue))\n",
    "print(\"slope = \" + \"{:.3f}\".format(results.slope))\n",
    "print(\"intercept = \" + \"{:.3f}\".format(results.intercept))"
   ]
  },
  {
   "cell_type": "markdown",
   "metadata": {},
   "source": [
    "Note that the R^2 of a regression analysis is literally the *r* value of a correlation analysis squared. \n",
    "\n",
    "With a regression analysis, one thing we are doing is determining the equation of the line that best fits the data, in the sense that it minimizes the squared distance of the y values from that line. These values are reported as the slope and intercept. You should be able to create a line from the slope and intercept, plugging these values into your classic `y = mx + b ` equation for a line. \n",
    "\n",
    "For the final activity create a scatter plot of the data again, but this time add a regression line and annotate with the values from the regression, particularly R^2, and the slope and intercept of the line. "
   ]
  },
  {
   "cell_type": "code",
   "execution_count": 9,
   "metadata": {},
   "outputs": [
    {
     "data": {
      "image/png": "[encoded data removed]",
      "text/plain": [
       "<Figure size 432x288 with 1 Axes>"
      ]
     },
     "metadata": {
      "needs_background": "light"
     },
     "output_type": "display_data"
    }
   ],
   "source": [
    "# Create your graph here\n",
    "plt.ylabel('Average Temperature')\n",
    "\n",
    "plt.xlabel('Year')\n",
    "\n",
    "plt.scatter(temp['year'],temp['AvgTemp'])\n",
    "xs = [min(temp['year']), max(temp['year'])]\n",
    "ys = [min(temp['year']) * results.slope + results.intercept, max(temp['year']) * results.slope + results.intercept]\n",
    "plt.plot(xs, ys)\n",
    "\n",
    "r2_text = 'R^2= ' + \"{:.3f}\".format(results.rvalue**2)\n",
    "eq_text = 'y = ' + \"{:.3f}\".format(results.slope) + 'x + ' + \"{:.3f}\".format(results.intercept)\n",
    "\n",
    "plt.text(1966,-7.3, r2_text)\n",
    "plt.text(1966,-7.5, eq_text)\n",
    "\n",
    "plt.show()\n",
    "\n",
    "\n"
   ]
  },
  {
   "cell_type": "markdown",
   "metadata": {},
   "source": [
    "![TJU logo image](images/TJU_logo_image.png \"TJU logo image\")"
   ]
  },
  {
   "cell_type": "code",
   "execution_count": null,
   "metadata": {},
   "outputs": [],
   "source": []
  }
 ],
 "metadata": {
  "kernelspec": {
   "display_name": "Python 3",
   "language": "python",
   "name": "python3"
  },
  "language_info": {
   "codemirror_mode": {
    "name": "ipython",
    "version": 3
   },
   "file_extension": ".py",
   "mimetype": "text/x-python",
   "name": "python",
   "nbconvert_exporter": "python",
   "pygments_lexer": "ipython3",
   "version": "3.8.8"
  }
 },
 "nbformat": 4,
 "nbformat_minor": 2
}
