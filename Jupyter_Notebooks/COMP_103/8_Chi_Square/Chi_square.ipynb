{
 "cells": [
  {
   "cell_type": "markdown",
   "metadata": {},
   "source": [
    "<div align =\"right\">Thomas Jefferson University <b>COMP 103</b>: Data Analysis and Visualization</div>"
   ]
  },
  {
   "cell_type": "markdown",
   "metadata": {},
   "source": [
    "# Chi-square analysis and other tests of categorical data\n",
    "\n",
    "Sometimes data naturally falls into discrete categories. In medicine, a subject may have a particular diagnosis or not. The subject of a procedure may be dead, or alive. In evolutionary biology or genetics a subject may possess a particular trait, or not possess it. In behavior a subject may mate successfully, or not. In engineering a structure might fail or not fail. All of these things represent natural categories. It is a reasonable statistical question to ask - what is the likelihood of observing a particular pattern of distribution across categories. Furthermore, can we attach a probability - in the form of a p-value - to our observation. \n",
    "\n",
    "Let's take the example of flipping a coin. We know that the probability of getting either heads or tails is 0.5. We flip a coin 1000 times and get 540 heads. Seems pretty far away from what we expected? But can we test that?\n",
    "\n",
    "\n",
    "\n"
   ]
  },
  {
   "cell_type": "code",
   "execution_count": 2,
   "metadata": {},
   "outputs": [
    {
     "name": "stdout",
     "output_type": "stream",
     "text": [
      "[506, 500, 487, 482, 505, 471, 539, 516, 483, 526]\n"
     ]
    },
    {
     "data": {
      "image/png": "[encoded data removed]",
      "text/plain": [
       "<Figure size 432x288 with 1 Axes>"
      ]
     },
     "metadata": {
      "needs_background": "light"
     },
     "output_type": "display_data"
    }
   ],
   "source": [
    "import random as rand\n",
    "import matplotlib.pyplot as plt\n",
    "\n",
    "outcomes = ['heads','tails']\n",
    "\n",
    "results = []                                   #create an empty list for the data\n",
    "\n",
    "replicates = 1000                              # of replicates of flipping a coin numflip times \n",
    "numflips = 1000                                # of flips  \n",
    "\n",
    "for i in range(replicates):\n",
    "        counter = 0                            # counter for heads\n",
    "        for j in range (numflips):\n",
    "            flip = rand.choice(outcomes)       # each time you pick a coin, randomly pick a value from outcomes\n",
    "            if flip == 'heads': \n",
    "                counter += 1                   # iterate counter each time you get heads\n",
    "        results.append(counter)    \n",
    "\n",
    "print(results[:10])                            #print first 10 items\n",
    "\n",
    "histogram = plt.hist(results, bins = 20)\n",
    "plt.show(histogram)\n",
    "            \n",
    "            \n",
    "            \n",
    "    \n",
    "    "
   ]
  },
  {
   "cell_type": "markdown",
   "metadata": {},
   "source": [
    "Now run the code below to count up and visualize how many of our data points exceed our value of 540. "
   ]
  },
  {
   "cell_type": "code",
   "execution_count": 3,
   "metadata": {},
   "outputs": [
    {
     "data": {
      "image/png": "[encoded data removed]",
      "text/plain": [
       "<Figure size 432x288 with 1 Axes>"
      ]
     },
     "metadata": {
      "needs_background": "light"
     },
     "output_type": "display_data"
    },
    {
     "name": "stdout",
     "output_type": "stream",
     "text": [
      "number of observations ≥ 540: 7\n",
      "probability of exceeding 540: 0.007\n"
     ]
    }
   ],
   "source": [
    "exceeds = 0\n",
    "for i in results:\n",
    "    if i >= 540:\n",
    "        exceeds += 1\n",
    "        \n",
    "histogram = plt.hist(results, bins = 20)\n",
    "plt.plot([540,540],[0,100],':y', lw=3)\n",
    "plt.show(histogram)\n",
    "\n",
    "\n",
    "prob = exceeds/replicates\n",
    "\n",
    "print('number of observations ≥ 540: ' + str(exceeds))\n",
    "print('probability of exceeding 540: ' + str(prob))\n",
    "\n",
    "\n",
    "        \n"
   ]
  },
  {
   "cell_type": "markdown",
   "metadata": {},
   "source": [
    "## One-way Chi-square test\n",
    "\n",
    "So this is what a chi-square test does, and in fact, we have just done the first iteration of a chi-square analysis - we have asked if given a certain set of probabilities whether what we observe is likely or not. \n",
    "\n",
    "But it turns out there's a great built in way to do this. "
   ]
  },
  {
   "cell_type": "code",
   "execution_count": 4,
   "metadata": {},
   "outputs": [
    {
     "name": "stdout",
     "output_type": "stream",
     "text": [
      "Power_divergenceResult(statistic=6.4, pvalue=0.01141203638600166)\n",
      "\n",
      "Chi-square statistic = 6.4\n",
      "p-value = 0.0114\n"
     ]
    }
   ],
   "source": [
    "from scipy import stats\n",
    "\n",
    "X = stats.chisquare([540,460])\n",
    "print(X)\n",
    "print()\n",
    "print('Chi-square statistic = ' + str(X.statistic))\n",
    "print('p-value = ' + str(round(X.pvalue,4)))"
   ]
  },
  {
   "cell_type": "markdown",
   "metadata": {},
   "source": [
    "So we can see that our simulation gave us the same result as the statistical test. Just like with our t-test, the test returns two things, the value of the test statistic - in this case the chi-square statistic - and a p-value. Just like a t-test there exist <a href = 'https://www.statology.org/chi-square-distribution-table/'>statistical tables for the chi-square distribution</a> that can be used to determine the p-value. \n",
    "\n",
    "Degrees of freedom for a chi-square test are calculated differently. Because we are comparing proportions, we can't say that number of observations represents independent values. We really have two values: number of heads, and number of tails. And if we know one of those, we know the other! That means that we only have one truly independent observation, and thus one degree of freedom. In the one-way chi-square, the degrees of freedom will therefor always be r-1 where r is the number of outcomes or categories in the data.   \n",
    "\n",
    "The equation for a Chi-square test statistic is actually very simple:\n",
    "<img src=\"images/Chi_sq_formula.jpg\" alt=\"Formula for the Chi-squared test statistic\" width=\"500\"/>\n",
    "\n",
    "Where O<sub>i</sub> is the <i>observed</i> value for each category and E<sub>i</sub> is the <i>expected</i> value for each category. To show what we mean by observed and expected values, let's make a quick table:\n",
    "\n",
    "|outcome|observed|expected|\n",
    "|---:| :---: |:---:|\n",
    "|heads| 540 |500|\n",
    "|tails|460|500|\n",
    "\n",
    "In this case, since we are flipping a coin we know that our expected distribution should be 50:50. Using the equation above, write a chunk of code that calculates the X<sup>2</sup> statistic for our example data manually (without calling the `chisquare` function):"
   ]
  },
  {
   "cell_type": "code",
   "execution_count": 5,
   "metadata": {},
   "outputs": [],
   "source": [
    "# Calculate the chi-square value for flipping a coin and getting 540 head and 460 tails\n",
    "## without using the chisquare function\n",
    "\n",
    "\n"
   ]
  },
  {
   "cell_type": "markdown",
   "metadata": {},
   "source": [
    "# Chi-square contingency test\n",
    "\n",
    "The most common use of a Chi-square test is the Chi-square contingency test. A contingency table shows the distribution of two categorical variables simultaneously: \n",
    "\n",
    "\n",
    "|&nbsp;|Trichromat|Dichromat|\n",
    "|---:| :---: |:---:|\n",
    "|Male| 687 |77|\n",
    "|Female|723|8|\n",
    "\n",
    "\n",
    "In this case we have the distribution of trichromat and dichromat (color-blind) individuals in a population, as well as the distribution of males and females in the population. We organize things into a contingency table to see if one variable is <i>contingent</i>, or in other words <i>depends on</i> the other. In this case we see that the occurrence of color-blindness depends on sex of the subject, which we all knew already.\n",
    "\n",
    "Just as with the means comparisons, in our one-way chi-square we started with an example where we new the true value (in this case the 0.5 probability of flipping heads). Usually for real-world questions, however, we don't know what the population level probability is at the outset of the analysis. Take a look at the table below which shows the results of a contingency table of data showing survival rates for two different medical treatments. \n",
    "\n",
    "\n",
    "|&nbsp;|Survived|Deceased|\n",
    "|---:| :---: |:---:|\n",
    "|Treatment A| 16 |283|\n",
    "|Treatment B|43|862|\n",
    "\n",
    "Overall, we can just glance at this data and see a few things: \n",
    "* The survival rates are low!\n",
    "* Of the individuals in our study, many more received treatment B than treatment A \n",
    "* The survival rate for treatment B is slightly lower than for the less common treatment B\n",
    "A Chi-squared test will allow us to answer the following question: Is it likely that the differences between the groups are just the result of sampling, or does it appear that survival is contingent upon the treatment received?\n",
    "\n",
    "We can actually  calculate a Chi-square value using the same equation as above. So how do we get our expected values? \n",
    "\n",
    "The first thing we can do is this: Calculate the overall frequencies, using the whole data set, for each of the two categorical variables. \n",
    "\n",
    "Probability  Survived = (16+43) / 1204 = 0.049, Probability Deceased = 0.951\n",
    "Probability  A = (16 + 283) / 1204 = 0.248, Probability B = 0.752\n",
    "\n",
    "Now if we combine those values we can get this table of expected combined probabilities:\n",
    "\n",
    "|&nbsp;|Survived (0.049)|Deceased (0.951)|\n",
    "|---:| :---: |:---:|\n",
    "|Treatment A (0.248)| 0.012 |0.236|\n",
    "|Treatment B(0.752)|0.037|0.715|\n",
    "\n",
    "Just like in a punnett square, these values should sum to one, as they represent the entire set of possibilities. Then if we multiply those values by the total number of observations, we get a table of expected values. This table represents our null hypothesis that the two categories are not contingent on one another. \n",
    "\n",
    "\n",
    "|&nbsp;|Survived_exp|Deceased_exp|\n",
    "|---:| :---: |:---:|\n",
    "|Treatment A_exp| 14.4 |284.1|\n",
    "|Treatment B_exp|44.5|860.9|\n",
    "\n",
    "These values can now be used in our original equation, such that each cell in our original data is the O<sub>i</sub>  value and each cell in the table of expected values is the E<sub>i</sub> value. \n",
    "\n",
    "In the Chi-square contingency test the degrees of freedom are calculated similarly to the one-way, except that we multiply the 'rows and columns' of data (r-1) * (c-1) where r and c are the number of categories in each variable. In this case, we still have df = 1. \n",
    "\n",
    "Running a chi-square contingency analysis is slightly more complicated than running the one-way test, in that we have to hand the data off to the function as an array. "
   ]
  },
  {
   "cell_type": "code",
   "execution_count": 6,
   "metadata": {},
   "outputs": [
    {
     "name": "stdout",
     "output_type": "stream",
     "text": [
      "(0.06865951087930078, 0.7932986223212845, 1, array([[ 14.65199336, 284.34800664],\n",
      "       [ 44.34800664, 860.65199336]]))\n"
     ]
    }
   ],
   "source": [
    "import numpy as np\n",
    "\n",
    "data = np.array([[16,283],[43,862]])\n",
    "X = stats.chi2_contingency(data)\n",
    "# X = stats.chi2_contingency([[16,283],[43,862]])   # this works too with one less step, but see below\n",
    "\n",
    "print(X)"
   ]
  },
  {
   "cell_type": "markdown",
   "metadata": {},
   "source": [
    "Well this is a bit of a mess. \n",
    "\n",
    "If we consult the <a href = 'https://docs.scipy.org/doc/scipy/reference/generated/scipy.stats.chi2_contingency.html'>documentation for the chi2_contingency function</a> we see that the output is organized in the following way - the chi-square test statistic, the p value, the degrees of freedom, and finally an array showing the expected values. The values are a bit different from what we calculated by hand due to rounding, but this is a very nice output to help in interpreting our data. \n",
    "\n",
    "So let's approach this in a slightly more labor intensive way that will let us interpret the results of this test better. In the code below we separate these individual outputs into variables, and sort the data out into nicer looking tables with labels using pandas: "
   ]
  },
  {
   "cell_type": "code",
   "execution_count": 7,
   "metadata": {},
   "outputs": [
    {
     "name": "stdout",
     "output_type": "stream",
     "text": [
      "Data\n",
      "\n",
      "      Survived  Deceased\n",
      "   A        16       283\n",
      "   B        43       862\n",
      "\n",
      "Chi-square results\n",
      "\n",
      "   chi-square = 0.0687\n",
      "   p value = 0.7933\n",
      "   degrees of freedom = 1\n",
      "   expected values:\n",
      "\n",
      "       Survived    Deceased\n",
      "   A  14.651993  284.348007\n",
      "   B  44.348007  860.651993\n"
     ]
    }
   ],
   "source": [
    "import pandas as pd\n",
    "\n",
    "data_df = pd.DataFrame(data, index = [\"   A\",\"   B\"], columns = [\"Survived\",\"Deceased\"])\n",
    "\n",
    "chi2, p, dof, expected = stats.chi2_contingency(data_df)    # Notice this technique, when a function returns\n",
    "                                                            ## a number of values, as is often the case with\n",
    "                                                            ## statistical functions, we can assign multiple\n",
    "                                                            ## variables at once by separating them with\n",
    "                                                            ## commas on the left-hand side of the equal sign.\n",
    "                                                            ## But we have to be sure of the order!    \n",
    "print('Data')\n",
    "print()\n",
    "print(data_df)\n",
    "print()\n",
    "print('Chi-square results')\n",
    "print()\n",
    "print('   chi-square = '+ str(round(chi2,4)))\n",
    "print('   p value = '+ str(round(p,4)))\n",
    "print('   degrees of freedom = '+ str(dof))\n",
    "print('   expected values:')\n",
    "print()\n",
    "print(pd.DataFrame(expected, index = [\"   A\",\"   B\"], columns = [\"Survived\",\"Deceased\"])) # this will look nicer"
   ]
  },
  {
   "cell_type": "markdown",
   "metadata": {},
   "source": [
    "Alright! That's much better! So how would you interpret the hypothesis test we just conducted? What was our hypothesis? What do our results say about our hypothesis? \n",
    "\n",
    "* \n",
    "* \n",
    "* \n"
   ]
  },
  {
   "cell_type": "markdown",
   "metadata": {},
   "source": [
    "# Chi-square contingency test - multiple categories\n",
    "\n",
    "Chi-square tests are not restricted to 2x2 contingency tables. Conduct a chi-square test using the dataset below on observations of the location of animal nesting sites. Organize the data into a pandas dataframe and report and interpret the results of the chi-square test. \n",
    "\n",
    "|&nbsp;|Tree|Nestbox|Human_structure|\n",
    "|---:| :---: |:---:|:---:|\n",
    "|Gray Squirrel| 552 | 25|53|\n",
    "|Flying Squirrel|72|23|24|\n",
    "|Raccoon|43|5|10|\n",
    "\n"
   ]
  },
  {
   "cell_type": "code",
   "execution_count": 8,
   "metadata": {},
   "outputs": [],
   "source": [
    "# Write the code here:\n",
    "\n",
    "\n"
   ]
  },
  {
   "cell_type": "markdown",
   "metadata": {},
   "source": [
    "Write you interpretation of the results here. How can you use the 'expected' data to interpret the result? Which animal is most different from the others? What happens if you remove that organism from the analysis?\n",
    "* \n",
    "* \n",
    "* \n"
   ]
  },
  {
   "cell_type": "markdown",
   "metadata": {},
   "source": [
    "# Chi-square contingency test - multiple dimensions\n",
    "\n",
    "We can run a chi-square test in multiple dimensions, but the data gets harder to interpret Take a look at the data below on student academic performance. DFW are students who do not pass a class. The first table is for women:\n",
    "\n",
    "|&nbsp;|DFW|Pass|\n",
    "|---:| :---: |:---:|\n",
    "|Female non-athlete| 20 | 80|\n",
    "|Female athlete|6|94|\n",
    "\n",
    "The second for men\n",
    "\n",
    "|&nbsp;|DFW|Pass|\n",
    "|---:| :---: |:---:|\n",
    "|Male non-athlete| 21 | 79|\n",
    "|Male athlete|19|81|\n",
    "\n",
    "We could analyze this data three different ways and get three different results. We could run a chi-square analysis on each table individually. We could combine the data so that there are four categories instead of two:\n",
    "\n",
    "|&nbsp;|DFW|Pass|\n",
    "|---:| :---: |:---:|\n",
    "|Female non-athlete| 20 | 80|\n",
    "|Female athlete|6|94|\n",
    "|Male non-athlete| 21 | 79|\n",
    "|Male athlete|19|81|\n",
    "\n",
    "Or finally, and we can't represent this as a table, we could combine the data into a single 3 dimensional array of 2x2x2 that would allow us to treat gender/academic performance/ athlete status as three independent categories. "
   ]
  },
  {
   "cell_type": "code",
   "execution_count": 12,
   "metadata": {},
   "outputs": [
    {
     "name": "stdout",
     "output_type": "stream",
     "text": [
      "Approach 1 male female separate analyses\n",
      "\n",
      "Females:\n",
      "(7.471264367816092, 0.006269150834046231, 1, array([[13., 87.],\n",
      "       [13., 87.]]))\n",
      "\n",
      "Males:\n",
      "(0.03125, 0.8596837951986661, 1, array([[20., 80.],\n",
      "       [20., 80.]]))\n",
      "\n",
      "Approach 2, four categories\n",
      "\n",
      "(10.81473416802758, 0.012771043768860704, 3, array([[16.5, 83.5],\n",
      "       [16.5, 83.5],\n",
      "       [16.5, 83.5],\n",
      "       [16.5, 83.5]]))\n",
      "\n",
      "Approach 3, three independent categories\n",
      "\n",
      "(10.81473416802758, 0.02872697653358403, 4, array([[[16.5, 83.5],\n",
      "        [16.5, 83.5]],\n",
      "\n",
      "       [[16.5, 83.5],\n",
      "        [16.5, 83.5]]]))\n"
     ]
    }
   ],
   "source": [
    "\n",
    "#individually\n",
    "print('Approach 1 male female separate analyses')\n",
    "print()\n",
    "print('Females:')\n",
    "print(stats.chi2_contingency([[20,80],[6,94]]))                         #female data\n",
    "print()\n",
    "print('Males:')\n",
    "print(stats.chi2_contingency([[21,79],[19,81]]))                        #male data\n",
    "print()\n",
    "#as four categories of student\n",
    "print('Approach 2, four categories')\n",
    "print()\n",
    "print(stats.chi2_contingency([[20,80],[6,94],[21,79],[19,81]]))         #males and females as individual rows\n",
    "print()\n",
    "#as 3 unique factors\n",
    "print('Approach 3, three independent categories')\n",
    "print()\n",
    "print(stats.chi2_contingency([[[20,80],[6,94]],[[21,79],[19,81]]]))     # males and females additional category\n",
    "\n",
    "\n"
   ]
  },
  {
   "cell_type": "markdown",
   "metadata": {},
   "source": [
    "Explain the code difference between the second and third option (it's subtle but important). Explain the values you obtain from running the code block above. Why did the second and third options give us the same X<sup>2</sup> value but different p-values???\n",
    "* \n",
    "* \n",
    "* \n"
   ]
  },
  {
   "cell_type": "markdown",
   "metadata": {},
   "source": [
    "\n",
    "![TJU logo image](images/TJU_logo_image.png \"TJU logo image\")"
   ]
  }
 ],
 "metadata": {
  "kernelspec": {
   "display_name": "Python 3 (ipykernel)",
   "language": "python",
   "name": "python3"
  },
  "language_info": {
   "codemirror_mode": {
    "name": "ipython",
    "version": 3
   },
   "file_extension": ".py",
   "mimetype": "text/x-python",
   "name": "python",
   "nbconvert_exporter": "python",
   "pygments_lexer": "ipython3",
   "version": "3.9.12"
  }
 },
 "nbformat": 4,
 "nbformat_minor": 2
}
