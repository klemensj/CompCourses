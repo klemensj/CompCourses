{
 "cells": [
  {
   "cell_type": "markdown",
   "metadata": {},
   "source": [
    "<div align =\"right\">Thomas Jefferson University **COMP 101**: Coding for beginners</div>"
   ]
  },
  {
   "cell_type": "markdown",
   "metadata": {
    "deletable": false,
    "editable": false
   },
   "source": [
    "# Some Text Manipulation Exercises\n",
    "\n",
    "For the exercises that follow we will work by completing the function. You learned about functions in part 3 of the solo learn tutorial. Only manipulate the section of code that is commented out. Once your function will run without syntax errors, run the testing block that follows it to test that the function does what it is supposed to do. Note that if the answer is asking for a text string, your function does not need to `print` the text string (although you might want to do that while you are testing the function). Rather it needs to `return` the text string as the result of the function. "
   ]
  },
  {
   "cell_type": "markdown",
   "metadata": {
    "deletable": false,
    "editable": false
   },
   "source": [
    "## 1. Creating a text string\n",
    "\n",
    "For this exercise, you will write a function that adds components to a text string. We will pass the function two pieces of information - the name of an element and its atomic number - and `return` the answer as a correctly formatted statement that appears exactly like this: \"The atomic number of Oxygen is 16.\" Remember to `run` the function before you run the testing code."
   ]
  },
  {
   "cell_type": "code",
   "execution_count": null,
   "metadata": {},
   "outputs": [],
   "source": [
    "def atomic_number_sentence(element, atomic_number):   #the function that we will define, don't change this line!\n",
    "    new_sentence = \"The atomic number of \" + element + \" is \" + str(atomic_number) + \".\" \n",
    "    print(new_sentence)\n",
    "    return new_sentence"
   ]
  },
  {
   "cell_type": "code",
   "execution_count": null,
   "metadata": {
    "deletable": false,
    "editable": false
   },
   "outputs": [],
   "source": [
    "###This is the Testing block, don't change any of this text\n",
    "assert atomic_number_sentence(\"Nitrogen\", 14) == \"The atomic number of Nitrogen is 14.\", \"Text does not match\"\n",
    "assert atomic_number_sentence(\"Hydrogen\", 1) == \"The atomic number of Hydrogen is 1.\", \"Text does not match\"\n",
    "print(\"Congratulations, your function worked!\")"
   ]
  },
  {
   "cell_type": "markdown",
   "metadata": {
    "deletable": false,
    "editable": false
   },
   "source": [
    "## 2. Pulling individual words out of a text string\n",
    "\n",
    "Pull the first word from each text string. You should strip away any punctuation or extraneous spaces and return the first word that occurs in the string. Ignore punctuation, but recall that words can contain punctuation in the form of an apostrophes, e.g. don't, can't, won't. "
   ]
  },
  {
   "cell_type": "code",
   "execution_count": 7,
   "metadata": {},
   "outputs": [],
   "source": [
    "def first_word_finder(text_for_first_word):\n",
    "    first_word = \"\" # first thing the function does is to make sure the variable we are using to store the first word is empty, and not holding data from an old run or different function, this is good programming practice\n",
    "    \n",
    "    start_index = 0\n",
    "    end_index = 0\n",
    "    \n",
    "    for i in range(0, len(text_for_first_word)):\n",
    "        if text_for_first_word[i].isalpha() == 1:\n",
    "            start_index = i\n",
    "            break\n",
    "            \n",
    "    for i in range(start_index+1, len(text_for_first_word)):\n",
    "        if text_for_first_word[i].isalpha() == 0 and text_for_first_word[i] != \"'\":\n",
    "            end_index = i\n",
    "            break\n",
    "    \n",
    "    #start_index is first letter, end_index is first non-letter\n",
    "    \n",
    "    first_word=text_for_first_word[start_index:end_index]\n",
    "    \n",
    "    print(first_word)\n",
    "    return(first_word)"
   ]
  },
  {
   "cell_type": "code",
   "execution_count": null,
   "metadata": {
    "deletable": false,
    "editable": false
   },
   "outputs": [],
   "source": [
    "###This is the Testing block, don't change any of this text\n",
    "assert first_word_finder(\"Hi there!\") == \"Hi\", \"fails basic test\"\n",
    "assert first_word_finder(\"¡Hola! ¿Como le va?\") == \"Hola\", \"Did not strip leading punctuation\"\n",
    "assert first_word_finder(\"It's a boy!\") == \"It's\", \"Should allow contractions\"\n",
    "assert first_word_finder(\"    Hello?\") == \"Hello\", \"Did not strip leading spaces\"\n",
    "assert first_word_finder(\". . . Is anybody out there?\") == \"Is\", \"complex leading spaces and punctuation\"\n",
    "\n",
    "print(\"Congratulations, your function worked!\")"
   ]
  }
 ],
 "metadata": {
  "celltoolbar": "Edit Metadata",
  "kernelspec": {
   "display_name": "Python 3",
   "language": "python",
   "name": "python3"
  },
  "language_info": {
   "codemirror_mode": {
    "name": "ipython",
    "version": 3
   },
   "file_extension": ".py",
   "mimetype": "text/x-python",
   "name": "python",
   "nbconvert_exporter": "python",
   "pygments_lexer": "ipython3",
   "version": "3.6.4"
  }
 },
 "nbformat": 4,
 "nbformat_minor": 2
}
