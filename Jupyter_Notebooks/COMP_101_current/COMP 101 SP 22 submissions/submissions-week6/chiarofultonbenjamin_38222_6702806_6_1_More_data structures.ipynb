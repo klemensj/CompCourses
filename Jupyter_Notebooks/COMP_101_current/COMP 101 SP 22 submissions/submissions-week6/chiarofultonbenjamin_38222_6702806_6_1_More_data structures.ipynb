{
 "cells": [
  {
   "cell_type": "markdown",
   "metadata": {},
   "source": [
    "<div align =\"right\">Thomas Jefferson University <b>COMP 101</b>: Intro to Coding</div>"
   ]
  },
  {
   "cell_type": "markdown",
   "metadata": {},
   "source": [
    "# More data structures and different ways of indexing\n",
    "\n",
    "You will recall that **data structures** are the way that we store information within a computer program. They will be used whenever we need to input data, retrieve data from a source, or store information that we generate within a program. We already spent some time with some of the main python data structures, **strings** and **lists**. In this lesson we will work with some data structures that are similar but that have very different properties and methods of manipulations, including the **tuple** and the **dictionary**. \n",
    "\n",
    "## Tuples \n",
    "\n",
    "Tuples are data structures that can be used to bind multiple pieces of information together with a single reference. They are very easy to assign, you simply include the items you want in the tuple within parentheses `()`, and separate items with commas. In the example below, our tuple will contain descriptive data (sex, age, height, weight, etc.) for a patient included in a clinical trial."
   ]
  },
  {
   "cell_type": "code",
   "execution_count": 1,
   "metadata": {},
   "outputs": [
    {
     "name": "stdout",
     "output_type": "stream",
     "text": [
      "('male', 42, 73, 205, 'non-smoker')\n",
      "Height = 73 inches\n",
      "Weight = 205 pounds\n",
      "5\n"
     ]
    }
   ],
   "source": [
    "patient_1 = (\"male\", 42, 73, 205, \"non-smoker\")      #defines our example tuple\n",
    "print(patient_1)                                     #printing a tuple prints out the elements \n",
    "print(\"Height = \" + str(patient_1[2])+ \" inches\")    #tuples are indexed so we can call individual elements\n",
    "print(\"Weight = \" + str(patient_1[3])+ \" pounds\")    #by callint the indexing of the item we want \n",
    "print(len(patient_1))                                #we can ask for tuple lenght just like string or list"
   ]
  },
  {
   "cell_type": "markdown",
   "metadata": {},
   "source": [
    "Tuples are used for data that is *immutable* which means data that we do not want to change during the course of a program. You can think of them as data in a database, or rows in a spreadsheet, that a program might need to use to run. You can't use them to hold information that changes over the course of a program. But this means your program can't accidentally change or update the data, which can be useful. Try to run the code below, which tries to update our patient's age in a way that we saw we could easily do with a `list`:"
   ]
  },
  {
   "cell_type": "code",
   "execution_count": 2,
   "metadata": {},
   "outputs": [
    {
     "ename": "TypeError",
     "evalue": "'tuple' object does not support item assignment",
     "output_type": "error",
     "traceback": [
      "\u001b[0;31m---------------------------------------------------------------------------\u001b[0m",
      "\u001b[0;31mTypeError\u001b[0m                                 Traceback (most recent call last)",
      "\u001b[0;32m/tmp/ipykernel_15338/3564632677.py\u001b[0m in \u001b[0;36m<module>\u001b[0;34m\u001b[0m\n\u001b[0;32m----> 1\u001b[0;31m \u001b[0mpatient_1\u001b[0m\u001b[0;34m[\u001b[0m\u001b[0;36m1\u001b[0m\u001b[0;34m]\u001b[0m \u001b[0;34m=\u001b[0m \u001b[0;36m43\u001b[0m\u001b[0;34m\u001b[0m\u001b[0;34m\u001b[0m\u001b[0m\n\u001b[0m",
      "\u001b[0;31mTypeError\u001b[0m: 'tuple' object does not support item assignment"
     ]
    }
   ],
   "source": [
    "patient_1[1] = 43"
   ]
  },
  {
   "cell_type": "markdown",
   "metadata": {},
   "source": [
    "`TypeError` means we are trying to perform an operation that this type of data structure does not support. In this case, `item assignment` means assigning the value of 43 to the item in the tuple with index value of 1. But tuples can't be changed once defined, so the error is generated. \n",
    "\n",
    "Another interesting characteristic of tuples is that the items within a tuple can themselves be tuples or lists (recall that this is a property of lists as well), so we can make higher dimensional objects. For example, let's create some more patient tuples, and then create a new tuple that will hold all of that data.  "
   ]
  },
  {
   "cell_type": "code",
   "execution_count": null,
   "metadata": {
    "scrolled": true
   },
   "outputs": [],
   "source": [
    "patient_2 = (\"female\", 51, 66, 140, \"non-smoker\")     #create tuples for new patients\n",
    "patient_3 = (\"female\", 45, 63, 150, \"smoker\")\n",
    "\n",
    "patient_data = (patient_1, patient_2, patient_3)      #create a new tuple out of the previously created tuples\n",
    "print(patient_data)                                   #notice the ouput is a set of tuples\n",
    "print(len(patient_data))\n",
    "\n",
    "print(patient_data[0])          #notice the output here is one of the tuples that makes up the tuple of tuples\n",
    "print(len(patient_data[0]))     # and the length of this item is the length of the enclosed tuple\n",
    "\n"
   ]
  },
  {
   "cell_type": "markdown",
   "metadata": {},
   "source": [
    "Note that there are 15 separate pieces of data in `patient_data`, but what was printed when we asked for the length of `patient_data`? Why?\n",
    "\n",
    "\n",
    "## Comparison of tuples to lists and a brief review of list functions\n",
    "\n",
    "Lists are defined similarly to how tuples, with the main difference that square brackets `[]` are used instead of parentheses. The main difference between a list and a tuple is that there are many more functions that can be performed on a list, including appending new items to the list and changing the values held by the list. For this reason, lists can be used for data that will be updated or added to in the course of running a program. \n",
    "\n",
    "In the code example below, see if you can remember out how to change the patient's age from 38 to 39. "
   ]
  },
  {
   "cell_type": "code",
   "execution_count": 3,
   "metadata": {},
   "outputs": [
    {
     "name": "stdout",
     "output_type": "stream",
     "text": [
      "before: 38\n",
      "after: 39\n",
      "['male', 39, 69, 175, 'non-smoker']\n",
      "Congratulations, your function worked!\n"
     ]
    }
   ],
   "source": [
    "patient_4 = [\"male\", 38, 69, 175, \"non-smoker\"]       #defines our example list, note square brackets[]\n",
    "\n",
    "## insert a line of code to change the value of the second item in the list\n",
    "\n",
    "print('before:',patient_4[1])\n",
    "patient_4[1] = 39\n",
    "print('after:',patient_4[1])\n",
    "\n",
    "assert patient_4[1] == 39\n",
    "print(patient_4)\n",
    "print(\"Congratulations, your function worked!\")"
   ]
  },
  {
   "cell_type": "markdown",
   "metadata": {},
   "source": [
    "What if we wanted to expand our list to contain more items? Let's say we wanted to add information on whether our patient was assigned to the experimental or the control treatment. There are a number of *methods* that we can use to manipulate lists, just like there were methods that are specific to string functions. We can use the list method `list.append(element)` to add an item to a list. The syntax for *methods* is to call the individual object (list or string) that the method will be applied to followed by a period, the name of the method, and any arguments the method takes in parentheses. Here's an example:"
   ]
  },
  {
   "cell_type": "code",
   "execution_count": 4,
   "metadata": {},
   "outputs": [
    {
     "name": "stdout",
     "output_type": "stream",
     "text": [
      "['male', 39, 69, 175, 'non-smoker', 'control']\n"
     ]
    }
   ],
   "source": [
    "patient_4.append(\"control\")   #note that we added the append staement to the particular list we are operating on\n",
    "print(patient_4)"
   ]
  },
  {
   "cell_type": "markdown",
   "metadata": {},
   "source": [
    "We can also choose to insert data into a position that we choose in the list using the method `list.insert(index, element)`. Let's say we wanted to add country of origin as an item in our dataset, and we wanted that to be the second item in the list. Take a look at the following code. Notice that list insert requires two arguments, one that specifies the list index that will hold the new data and one that specifies the element to be inserted. By using the insert command, we don't overwrite data that already exists in the list, instead the index of all of the elements \"to the right\" of the insertion is shifted upwards by one.  "
   ]
  },
  {
   "cell_type": "code",
   "execution_count": 5,
   "metadata": {
    "scrolled": true
   },
   "outputs": [
    {
     "name": "stdout",
     "output_type": "stream",
     "text": [
      "Index 3 of patient_4 holds: 175\n",
      "['male', 'USA', 39, 69, 175, 'non-smoker', 'control']\n",
      "Index 3 of patient_4 holds: 69\n"
     ]
    }
   ],
   "source": [
    "print(\"Index 3 of patient_4 holds: \" + str(patient_4[3]))               #prints element initially held in index 3\n",
    "patient_4.insert(1,\"USA\")                                               #inserts \"USA\" at index 1\n",
    "print(patient_4)\n",
    "print(\"Index 3 of patient_4 holds: \" + str(patient_4[3]))               #prints element held in index 3 after insertion"
   ]
  },
  {
   "cell_type": "markdown",
   "metadata": {},
   "source": [
    "This is useful when we have new data to aggregate, but often times we will want to add data that our program caculates itself. For example, if we had a list of values, we might want to calculate the average of those values, and then append that new information to the list, just like we would add a summary row to a column in a spreadsheet. Let's write a piece of code that will take our patient data, calculate BMI, and insert it into the list as an item that follows weight. To get BMI divide weight(lbs) by height(in) squared, and multiply the result by 703. "
   ]
  },
  {
   "cell_type": "code",
   "execution_count": 9,
   "metadata": {},
   "outputs": [
    {
     "name": "stdout",
     "output_type": "stream",
     "text": [
      "['male', 'USA', 39, 69, 175, 0.03675698382692712, 'non-smoker', 'control']\n",
      "['male', 'USA', 39, 69, 175, 25.84015963032976, 0.03675698382692712, 'non-smoker', 'control']\n",
      "Congratulations, your function worked!\n"
     ]
    }
   ],
   "source": [
    " # in this line write an equation that takes data from patient_4 to calculate BMI\n",
    "\n",
    " # in this line insert the value of BMI into the list patient_4 as the sixth item in the list\n",
    "\n",
    "print(patient_4)\n",
    "\n",
    "H = patient_4[3]\n",
    "BMI = (patient_4[4] / (patient_4[3]*patient_4[3])) * 703\n",
    "\n",
    "patient_4.insert(5 , BMI)\n",
    "\n",
    "\n",
    "\n",
    "assert patient_4[5] < 25.85 and patient_4[5] > 25.83 , \"Not close enough to the correct BMI\"\n",
    "print(patient_4)\n",
    "print(\"Congratulations, your function worked!\")"
   ]
  },
  {
   "cell_type": "markdown",
   "metadata": {},
   "source": [
    "## Iterating over tuples, lists, and strings\n",
    "\n",
    "As we have already seen, one of the really great things about data structures is that they are *iterable* using `for` loops. This means that we can read, edit, or even create these data structures using our looping functions. When we write a `for` loop of the form\n",
    "\n",
    "    for i in some_string_list_or_tuple:\n",
    "        do_something_to(i)                 \n",
    "        \n",
    "The code embedded in the for loop will execute once for each item in the data structure. Furthermore, the index variable i (we use \"i\" by convention, but \"i\" could be replaced with any variable name) takes on the value of each respective item in the list - in other words, i is a temporary variable that holds each item in the list in turn. \n",
    "\n",
    "Let's go back to `patient_data` from above, where we made a tuple out of other tuples:\n",
    "```\n",
    " (('male', 42, 73, 205, 'non-smoker'),\n",
    " ('female', 51, 66, 140, 'non-smoker'), \n",
    " ('female', 45, 63, 150, 'smoker'))\n",
    "```\n",
    "If we interate over `patient_data` with a `for` loop, we will have access to each item in the tuple (in this case the tuples representing the individual patients). We call each item simply by calling the index variable, \"i\". Now, since i is assigned to represent the item in the tuple, we can use an index of i to get access to individual items within the tuple. So i[n] will represent the nth item in the current tuple. This may be clearer with an example:"
   ]
  },
  {
   "cell_type": "code",
   "execution_count": 12,
   "metadata": {},
   "outputs": [
    {
     "name": "stdout",
     "output_type": "stream",
     "text": [
      "Height: 73in. Weight 205lbs.\n",
      "Height: 66in. Weight 140lbs.\n",
      "Height: 63in. Weight 150lbs.\n"
     ]
    }
   ],
   "source": [
    "patient_data = (('male', 42, 73, 205, 'non-smoker'),\n",
    " ('female', 51, 66, 140, 'non-smoker'), \n",
    " ('female', 45, 63, 150, 'smoker'))\n",
    "\n",
    "\n",
    "\n",
    "for i in patient_data:            # loop through each tuples within the tuple patient_data       \n",
    "    height = i[2]                 # for each tuple, assign the third item in the tuple to the variable height\n",
    "    weight = i[3]                 # for each tuple, assign the third item in the tuple to the variable weight\n",
    "    \n",
    "    print(\"Height: \" + str(height) + \"in. Weight \" + str(weight) + \"lbs.\")  # we are still within the for loop\n",
    "                                                                            ## so this command will execute once\n",
    "                                                                            ## for each item in patient_data"
   ]
  },
  {
   "cell_type": "markdown",
   "metadata": {},
   "source": [
    "So that's cool, but what if we wanted to calculate something new? How about BMI again? What if we wanted to calculate BMI for each patient in `patient_data` and store that information in a new list? \n",
    "\n",
    "First we would create an empty list, using a command of the form `empty_list = []`. Then we could use our `for` loop to populate that list. Here's a modified function for you to complete:"
   ]
  },
  {
   "cell_type": "code",
   "execution_count": 22,
   "metadata": {},
   "outputs": [
    {
     "name": "stdout",
     "output_type": "stream",
     "text": [
      "[27.043535372490147, 22.594123048668507, 26.56840513983371]\n"
     ]
    }
   ],
   "source": [
    "BMI = []                          # creates an empty list - note that we do this outside of the for loop\n",
    "                                  ## or we will create a new empty list, erasing our old one, at each iteration\n",
    "for i in patient_data:                  \n",
    "    height = i[2]                 # for each tuple, assign the third item in the tuple to the variable height\n",
    "    weight = i[3]                 # for each tuple, assign the third item in the tuple to the variable weight\n",
    "    \n",
    "    BMI_calc = (weight / (height*height)) * 703\n",
    "    \n",
    "    BMI.append(BMI_calc)\n",
    "\n",
    "    \n",
    "    #\n",
    "    ## Your code here\n",
    "    ## Use the equation for BMI you calculated above but substitute the variables height and weight\n",
    "    ## Use the list method we learned above for adding new items to the list BMI\n",
    "    #\n",
    "    \n",
    "print(BMI)                        # Use this to check if your code worked, note this is outside of the for loop \n",
    "                                  # Correct result is [27.043535372490147, 22.594123048668507, 26.56840513983371]"
   ]
  },
  {
   "cell_type": "markdown",
   "metadata": {},
   "source": [
    "## Dictionaries\n",
    "\n",
    "The final data structure we will present is the **dictionary**. Dictionaries are quite different from the other types of data because data stored in a dictionary aren't accessed by a numerical index. Instead, we use another term, known as a **key**. Data is stored in a dictionary in **key-value** pairs. So if we defined a dictionary to hold patient data it would look like this:"
   ]
  },
  {
   "cell_type": "code",
   "execution_count": 23,
   "metadata": {},
   "outputs": [
    {
     "name": "stdout",
     "output_type": "stream",
     "text": [
      "{'sex': 'male', 'age': 38, 'height': 70, 'weight': 185, 'smoking': 'non-smoker'}\n"
     ]
    }
   ],
   "source": [
    "patient_5_dict = {'sex':'male', 'age':38, 'height':70, 'weight':185, 'smoking':'non-smoker'} #note curly brackets\n",
    "print(patient_5_dict)"
   ]
  },
  {
   "cell_type": "markdown",
   "metadata": {},
   "source": [
    "The really useful thing about dictionaries is how we can now call back that information. Because we call back information using the key, and not the index number, we can call back information without having to keep track of the index position of the item we want:"
   ]
  },
  {
   "cell_type": "code",
   "execution_count": 27,
   "metadata": {},
   "outputs": [
    {
     "name": "stdout",
     "output_type": "stream",
     "text": [
      "38\n",
      "non-smoker\n",
      "70\n"
     ]
    }
   ],
   "source": [
    "print(patient_5_dict['age'])           # note that the keys have to be entered as strings - so in quotes\n",
    "print(patient_5_dict['smoking'])\n",
    "\n",
    "search_term = 'height'\n",
    "print(patient_5_dict[search_term])      # or variables that are holding strings\n",
    "\n",
    "# print(patient_5_dict[1])             # Once you have run the code once, \n",
    "                                       ## uncomment this line above and run again\n"
   ]
  },
  {
   "cell_type": "markdown",
   "metadata": {},
   "source": [
    "### Question \n",
    "What happened when you tried to access dictionary data using a numerical index? Why do you think this happened?"
   ]
  },
  {
   "cell_type": "markdown",
   "metadata": {},
   "source": [
    "Double click on this text to add your answer here:\n",
    "\n",
    "- There was an error. I think this happens because the index value for say 3 includes TWO elements which confuse the program. In this case, 'weight':185\n",
    "- \n",
    "- \n",
    "-"
   ]
  },
  {
   "cell_type": "markdown",
   "metadata": {},
   "source": [
    "Like lists, dictionaries are mutable. We can add information to them after they have been created, like so:"
   ]
  },
  {
   "cell_type": "code",
   "execution_count": null,
   "metadata": {},
   "outputs": [],
   "source": [
    "print('Before: ' +  str(patient_5_dict))    # to set  up  comparison\n",
    "\n",
    "patient_5_dict['treatment'] = 'control'     # a new key is defined, so a new item is added to the dictionary\n",
    "\n",
    "patient_5_dict['age'] = 39                  # assigns a new value to an existing key\n",
    "\n",
    "print('After: ' + str(patient_5_dict))      # print modified dictionary\n"
   ]
  },
  {
   "cell_type": "markdown",
   "metadata": {},
   "source": [
    "The ability to associate keys and values is useful for more than just convenience. Sometimes keys are the form in which data appears, and a dictionary can be used to translate data from one form to another. Think about the codon tables that we use in biology to determine which amino acid will occur in a polypeptide. We can think of the table below as consisting of 64 unique keys (the codons), each of which has a particular value (the resulting amino acid). \n",
    "\n",
    "![From wikimedia commons, user Onie~commonswiki](images/Codons_aminoacids_table.png \"From wikimedia commons, user Onie~commonswiki\")\n",
    "\n"
   ]
  },
  {
   "cell_type": "markdown",
   "metadata": {},
   "source": [
    "The code below takes this information and translates it into a python dictionary, then the small program that follows serves as a codon translator. Run the code block below and try the program, see if you can figure out what it is doing. "
   ]
  },
  {
   "cell_type": "code",
   "execution_count": 33,
   "metadata": {},
   "outputs": [
    {
     "name": "stdout",
     "output_type": "stream",
     "text": [
      "Enter a codon here, 3 letters, must be A,C,G or U: CGU\n",
      "Your codon codes for Arg\n"
     ]
    }
   ],
   "source": [
    "translation_dict = {'UUU':'Phe', 'UUC':'Phe', 'UUA':'Leu', 'UUG':'Leu', 'UCU':'Ser',\n",
    "                    'UCC':'Ser', 'UCA':'Ser', 'UCG':'Ser', 'UAA': 'Stop', 'UAG': 'Stop',\n",
    "                    'UAU':'Tyr', 'UAC':'Tyr', 'UGU':'Cys', 'UGC':'Cys', 'UGA': 'Stop',\n",
    "                    'UGG':'Trp', 'CUU':'Leu', 'CUC':'Leu', 'CUA':'Leu', 'CUG':'Leu',\n",
    "                    'CCU':'Pro', 'CCC':'Pro', 'CCA':'Pro', 'CCG':'Pro', 'CAU':'His',\n",
    "                    'CAC':'His', 'CAA':'Gln', 'CAG':'Gln', 'CGU':'Arg', 'CGC':'Arg',\n",
    "                    'CGA':'Arg', 'CGG':'Arg', 'AUU':'Ile', 'AUC':'Ile', 'AUA':'Ile',\n",
    "                    'AUG':'Met', 'ACU':'Thr', 'ACC':'Thr', 'ACA':'Thr', 'ACG':'Thr',\n",
    "                    'AAU':'Asn', 'AAC':'Asn', 'AAA':'Lys', 'AAG':'Lys', 'AGU':'Ser',\n",
    "                    'AGC':'Ser', 'AGA':'Arg', 'AGG':'Arg', 'GUU':'Val', 'GUC':'Val',\n",
    "                    'GUA':'Val', 'GUG':'Val', 'GCU':'Ala', 'GCC':'Ala', 'GCA':'Ala',\n",
    "                    'GCG':'Ala', 'GAU':'Asp', 'GAC':'Asp', 'GAA':'Glu', 'GAG':'Glu',\n",
    "                    'GGU':'Gly', 'GGC':'Gly', 'GGA':'Gly','GGG':'Gly'}\n",
    "\n",
    "run = True                                                                  # this boolean variable being True...\n",
    "while run == True:                                                          ## ... keeps the while loop running \n",
    "                                                                            ## until we get an answer\n",
    "        \n",
    "    codon = input(\"Enter a codon here, 3 letters, must be A,C,G or U: \")    # captures user input\n",
    "    codon = codon.upper()                                                   # converts input to uppercase\n",
    "    \n",
    "    if len(codon) != 3:                                                     # logical test, if codon not 3 letters\n",
    "        print(\"3 letters only. Try again.\")                                 ## send fail message and restart\n",
    "                                                                            ## because run = True, returns to top\n",
    "            \n",
    "    else:                                                                   # logical test, for loop walks through\n",
    "        is_RNA = True                                                       ## user input, if any character not in\n",
    "        for i in codon:                                                     ## the string 'ACGU', set is_RNA to  \n",
    "            if i not in 'ACGU':                                             ## False, fail message and restart\n",
    "                print(\"ACGU only please. Try again.\")\n",
    "                is_RNA = False\n",
    "                break                                                       # break stops the for loop after first \n",
    "                                                                            ## mismatch detected\n",
    "                    \n",
    "        if is_RNA == True:                                                  # if we arrive at this else, all tests\n",
    "            print('Your codon codes for ' + str(translation_dict[codon]))   ## passed, print output and set run to \n",
    "            run = False                                                     ## False to stop the program\n"
   ]
  },
  {
   "cell_type": "markdown",
   "metadata": {},
   "source": [
    "Try to walk through this code and the comments and see if you can follow the flow of the program. Note that most of the program is dedicated to making sure that the user input it correct. Run the program below. It does the same thing in only two lines. The problem is that it only works if the user inputs the data perfectly correctly. Try entering a you codon in lower case, or with too many letters, or with a T instead of a U. What happens? What happens if you rerun the program above with input errors?"
   ]
  },
  {
   "cell_type": "code",
   "execution_count": 32,
   "metadata": {},
   "outputs": [
    {
     "name": "stdout",
     "output_type": "stream",
     "text": [
      "Enter a codon here, 3 letters, must be A,C,G or U: AAA\n",
      "Your codon codes for Lys\n"
     ]
    }
   ],
   "source": [
    "codon = input(\"Enter a codon here, 3 letters, must be A,C,G or U: \")\n",
    "print('Your codon codes for ' + str(translation_dict[codon]))"
   ]
  },
  {
   "cell_type": "markdown",
   "metadata": {},
   "source": [
    "Introducing inputs suddenly may have been a surprise to you! We will work more with inputs in the next lesson. \n",
    "\n",
    "\n",
    "### Question \n",
    "Considering the DNA example above, and building on your answer to the previous question, what do you think is the appropriate 'use case' for dictionaries. Specifically - why are they are a powerful tool for storing data?"
   ]
  },
  {
   "cell_type": "markdown",
   "metadata": {},
   "source": [
    "Double click on this text to add your answer here:\n",
    "\n",
    "- an appropriate use case is when you have a lot of information on a person, thing, or topic that is not easily showable. With a dictionary, you can assign keys for each piece of the information to make it easily accessable.\n",
    "- \n",
    "- \n",
    "-"
   ]
  },
  {
   "cell_type": "markdown",
   "metadata": {},
   "source": [
    "### Exercise\n",
    "\n",
    "Using the patient data we created above\n",
    "\n",
    "1. Create a data dictionary for each patient\n",
    "2. Now create a list of all five dictionaries called `patient_db`\n",
    "3. Using a for loop, access each patient in your list, and calculate BMI for that patient using the equation you coded above\n",
    "4. Add a new key-value pair so that each patient's BMI is now listed as part of the patient dictionary\n",
    "4. Test your code by outputting your modified list\n",
    "\n",
    "\n",
    "\n",
    "\n"
   ]
  },
  {
   "cell_type": "code",
   "execution_count": 40,
   "metadata": {},
   "outputs": [
    {
     "name": "stdout",
     "output_type": "stream",
     "text": [
      "[{'sex': 'male', 'age': 42, 'height': 73, 'weight': 205, 'smoking': 'non-smoker'}, {'sex': 'female', 'age': 51, 'height': 66, 'weight': 140, 'smoking': 'non-smoker'}, {'sex': 'female', 'age': 45, 'height': 63, 'weight': 150, 'smoking': 'smoker'}, {'sex': 'male', 'age': 38, 'height': 69, 'weight': 175, 'smoking': 'non-smoker'}, {'sex': 'male', 'age': 38, 'height': 70, 'weight': 185, 'smoking': 'non-smoker'}]\n",
      "\n",
      "\n",
      "[{'sex': 'male', 'age': 42, 'height': 73, 'weight': 205, 'smoking': 'non-smoker', 'BMI': 27.044}, {'sex': 'female', 'age': 51, 'height': 66, 'weight': 140, 'smoking': 'non-smoker', 'BMI': 22.594}, {'sex': 'female', 'age': 45, 'height': 63, 'weight': 150, 'smoking': 'smoker', 'BMI': 26.568}, {'sex': 'male', 'age': 38, 'height': 69, 'weight': 175, 'smoking': 'non-smoker', 'BMI': 25.84}, {'sex': 'male', 'age': 38, 'height': 70, 'weight': 185, 'smoking': 'non-smoker', 'BMI': 26.542}]\n"
     ]
    }
   ],
   "source": [
    "# These will need to be modified, just here so that you don't have \n",
    "## to waste your time cutting and pasting\n",
    "\n",
    "patient_1_dict = {'sex':'male', 'age':42, 'height':73, 'weight':205, 'smoking':'non-smoker'}\n",
    "patient_2_dict = {'sex':'female', 'age':51, 'height':66, 'weight':140, 'smoking':'non-smoker'}\n",
    "patient_3_dict = {'sex':'female', 'age':45, 'height':63, 'weight':150, 'smoking':'smoker'}\n",
    "patient_4_dict = {'sex':'male', 'age':38, 'height':69, 'weight':175, 'smoking':'non-smoker'}\n",
    "patient_5_dict = {'sex':'male', 'age':38, 'height':70, 'weight':185, 'smoking':'non-smoker'}\n",
    "\n",
    "patient_db = [patient_1_dict,patient_2_dict,patient_3_dict,patient_4_dict,patient_5_dict]\n",
    "\n",
    "print(patient_db)\n",
    "\n",
    "for i in patient_db:\n",
    "        \n",
    "        height = i['height']\n",
    "        weight = i['weight']\n",
    "        BMI = round((weight / (height**2))*703,3)\n",
    "        i['BMI']= BMI\n",
    "        \n",
    "print()\n",
    "print()\n",
    "print(patient_db)\n",
    "        \n",
    "        \n",
    "            \n",
    "        \n",
    "        \n",
    "        \n",
    "\n",
    "#\n",
    "## Your code here\n",
    "#\n"
   ]
  },
  {
   "cell_type": "markdown",
   "metadata": {},
   "source": [
    "\n",
    "![Alt text that will appear on mouseover](images/TJU_logo_dummy_image.png \"Dummy image\")\n",
    "\n"
   ]
  }
 ],
 "metadata": {
  "kernelspec": {
   "display_name": "Python 3 (ipykernel)",
   "language": "python",
   "name": "python3"
  },
  "language_info": {
   "codemirror_mode": {
    "name": "ipython",
    "version": 3
   },
   "file_extension": ".py",
   "mimetype": "text/x-python",
   "name": "python",
   "nbconvert_exporter": "python",
   "pygments_lexer": "ipython3",
   "version": "3.9.7"
  }
 },
 "nbformat": 4,
 "nbformat_minor": 2
}
