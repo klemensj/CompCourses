{
 "cells": [
  {
   "cell_type": "markdown",
   "metadata": {},
   "source": [
    "<div align =\"right\">Thomas Jefferson University <b>COMP 101</b>: Intro to Coding</div>"
   ]
  },
  {
   "cell_type": "markdown",
   "metadata": {},
   "source": [
    "# Loops and control continued\n",
    "\n",
    "\n",
    "In our last notebook we just skimmed the surface of what we can do with loops. We will continue with some additional loop functions here. \n",
    "\n",
    "## Evaluation within a loop\n",
    "\n",
    "Loops are just a structure for handling data, usually it is what we do inside of the loop that matters. It's a simple matter to get data from some source, such as a list or other data structure, and *do something* with it inside of a loop. One of the most common things we might want to do with a loop is use it to perform the same calculation on a number of different values. \n",
    "\n",
    "### Exercise 1\n",
    "To get warmed up and review loop syntax today use a for loop. For each item in the list of numbers given below output the statement \"The square of 2 is 4.\" except replace the values with the values presented in the list. "
   ]
  },
  {
   "cell_type": "code",
   "execution_count": 4,
   "metadata": {},
   "outputs": [
    {
     "name": "stdout",
     "output_type": "stream",
     "text": [
      "The square of 1 is 1\n",
      "The square of 2 is 4\n",
      "The square of 5 is 25\n",
      "The square of 10 is 100\n",
      "The square of 13 is 169\n",
      "The square of 25 is 625\n",
      "The square of 1000057 is 1000114003249\n"
     ]
    }
   ],
   "source": [
    "side_list = [1,2,5,10,13,25,1000057]\n",
    "\n",
    "#\n",
    "## Your code here\n",
    "#\n",
    "for i in side_list:\n",
    "    print(\"The square of\", i, \"is\",i*i)"
   ]
  },
  {
   "cell_type": "markdown",
   "metadata": {},
   "source": [
    "We can also use if-then statments in loops to cause the loop to behave differently depending on what data it encouters. An if-else statement embedded within the loop can cause the program to behave differently depending on the data it encouters. \n",
    "\n",
    "### Exercise 2\n",
    "Repeat the program above, but this time for any value of a 'side' less than or equal to 10 output the statement 'You don't need a calculator for that!'"
   ]
  },
  {
   "cell_type": "code",
   "execution_count": 19,
   "metadata": {},
   "outputs": [
    {
     "name": "stdout",
     "output_type": "stream",
     "text": [
      "You don't need a calculator for that!!\n",
      "You don't need a calculator for that!!\n",
      "You don't need a calculator for that!!\n",
      "You don't need a calculator for that!!\n",
      "The square of 13 is 169\n",
      "The square of 25 is 625\n",
      "The square of 1000057 is 1000114003249\n"
     ]
    }
   ],
   "source": [
    "side_list = [1,2,5,10,13,25,1000057]\n",
    "\n",
    "#\n",
    "## Your code here\n",
    "#\n",
    "for i in side_list:\n",
    "    if i <= 10:\n",
    "        print(\"You don't need a calculator for that!!\")\n",
    "    else:\n",
    "        print(\"The square of\", i, \"is\",i*i)"
   ]
  },
  {
   "cell_type": "markdown",
   "metadata": {},
   "source": [
    "## Iteration or appending values within a loop\n",
    "\n",
    "As we saw in the introduction to the `while` loop we can iterate or append values within a loop to create a counter or iterator within the loop to keep track of how many times we have run it. Another use of iteration within a loop is to use it for counting particular events. Look at the for loop below that is being used to iterate a string. If for whatever reason we didn't want to use the count method we could use a `for` loop to count the frequency of different nucelotides. "
   ]
  },
  {
   "cell_type": "code",
   "execution_count": 20,
   "metadata": {},
   "outputs": [
    {
     "name": "stdout",
     "output_type": "stream",
     "text": [
      "25 A: 31 T: 15 C: 12 G\n"
     ]
    }
   ],
   "source": [
    "dna = 'AGTGGCTATTACTACATGCCGAAGTTCCTTAAATTTAACTTACCAGGCTTAACCGGATGATGATTATTATTACCTTAATTTTA'\n",
    "\n",
    "a = t = c = g = 0\n",
    "\n",
    "for i in dna:\n",
    "    if i == 'A':\n",
    "        a +=1\n",
    "    elif i == 'T':\n",
    "        t +=1\n",
    "    elif i == 'C':\n",
    "        c +=1\n",
    "    elif i == 'G':\n",
    "        g +=1                               \n",
    "        \n",
    "print (a, 'A:', t, 'T:',c, 'C:',g, 'G')\n",
    "   "
   ]
  },
  {
   "cell_type": "markdown",
   "metadata": {},
   "source": [
    "So far we have been using our loops to print out values as output. But one thing we might want to do is store data in it's own list. A common technique for doing this is to use the `.append()` method which hopefully you recall can be used to add characters to a string or items to a list. This is how this would look in pseudocode:\n",
    "```\n",
    "a_list = [ a list of values ]\n",
    "answers = []                                # before starting the loop, we make sure that the variable\n",
    "                                            ## answers points to an empty list\n",
    "for i in a_list:\n",
    "    new_value = some transformation of i    # some calculation is performed on each item in the list\n",
    "    answers.append(new_value)               # the result of that calculation is added to answers\n",
    "```   \n",
    "Now we end up with a list of the answers we calculated, and we can go on to do more calculations with those values. \n",
    "\n",
    "### Exercise 3\n",
    "Using the `range` function that we learned about in the previous notebook and the technique described above write a program that produces two lists. One called `side` that contains the numbers 1-50 and a second list called `area` that contains the squares of those values. "
   ]
  },
  {
   "cell_type": "code",
   "execution_count": 45,
   "metadata": {
    "scrolled": true
   },
   "outputs": [
    {
     "name": "stdout",
     "output_type": "stream",
     "text": [
      "[1, 2, 3, 4, 5, 6, 7, 8, 9, 10, 11, 12, 13, 14, 15, 16, 17, 18, 19, 20, 21, 22, 23, 24, 25, 26, 27, 28, 29, 30, 31, 32, 33, 34, 35, 36, 37, 38, 39, 40, 41, 42, 43, 44, 45, 46, 47, 48, 49, 50]\n",
      "[1, 4, 9, 16, 25, 36, 49, 64, 81, 100, 121, 144, 169, 196, 225, 256, 289, 324, 361, 400, 441, 484, 529, 576, 625, 676, 729, 784, 841, 900, 961, 1024, 1089, 1156, 1225, 1296, 1369, 1444, 1521, 1600, 1681, 1764, 1849, 1936, 2025, 2116, 2209, 2304, 2401, 2500]\n"
     ]
    }
   ],
   "source": [
    "#\n",
    "## Your code here\n",
    "side = []\n",
    "area = []\n",
    "for i in range(50):\n",
    "    side.append(i+1)\n",
    "    area.append((i+1)**2)\n",
    "if i <= 50:    \n",
    "    print(side)\n",
    "    print(area)\n"
   ]
  },
  {
   "cell_type": "markdown",
   "metadata": {},
   "source": [
    "## The `continue` and `break` commands within loops\n",
    "\n",
    "Sometimes we want a looping function to skip over particular elements. We can always set up `if-elif-else` statements to handle different sorts of conditions. But sometimes we may want an easy way to stop the loop code block from executing under certain conditions, or we may want to terminate a loop altogther if certain conditions are met. \n",
    "\n",
    "In the example below we have some data with `NA` values that mean that for some of the data the value is missing or . Let's say we are performing a simple calculation on the data and all we care about at the end of the program is having the set of values for which data *were* available. "
   ]
  },
  {
   "cell_type": "code",
   "execution_count": 53,
   "metadata": {},
   "outputs": [
    {
     "name": "stdout",
     "output_type": "stream",
     "text": [
      "[30.56, 16.67, 25.0, 28.89, 27.78, 32.78]\n"
     ]
    }
   ],
   "source": [
    "## Continue command example, convert fareheit to celcius degrees\n",
    "\n",
    "F_data = [87, 62, 'NA', 77, 84, 82, 'NA',91]\n",
    "C_data = []\n",
    "\n",
    "for temp in F_data:\n",
    "    if temp == 'NA':\n",
    "        continue\n",
    "    else:\n",
    "        temp_C = round(((temp -32)* 5 / 9),2)\n",
    "        C_data.append(temp_C)\n",
    " \n",
    "print(C_data)\n"
   ]
  },
  {
   "cell_type": "markdown",
   "metadata": {},
   "source": [
    "### Question \n",
    "Describe in your own words the path that the for loop takes through the data because of the `continue` command?"
   ]
  },
  {
   "cell_type": "markdown",
   "metadata": {},
   "source": [
    "Double click on this text to add your answer here:\n",
    "\n",
    "- The continue command practically skips over the value in the list and will continue on without showing it.\n",
    "- \n",
    "- \n",
    "-"
   ]
  },
  {
   "cell_type": "markdown",
   "metadata": {},
   "source": [
    "`break` serves a different purpose. It causes a loop to stop altogether. Take a look at the example below."
   ]
  },
  {
   "cell_type": "code",
   "execution_count": 46,
   "metadata": {},
   "outputs": [
    {
     "name": "stdout",
     "output_type": "stream",
     "text": [
      "There is a non-A,T,G, or C value  X  at position 9\n",
      "numbers below represent counts through position  8\n",
      "\n",
      "2 A: 2 T: 1 C: 3 G\n"
     ]
    }
   ],
   "source": [
    "## Break command example\n",
    "bad_dna = 'AGTGGCTAXTACTACATGCCGAAGTTCCTTAAATTTAACTTACCAGGCTTAACCGGATGATGATTATTATTAZCTTAATTTTA'\n",
    "\n",
    "a = t = c = g = 0                                                             # initial value of all\n",
    "                                                                              ## counters set to 0\n",
    "for i in bad_dna:\n",
    "    if i == 'A':\n",
    "        a +=1\n",
    "    elif i == 'T':\n",
    "        t +=1\n",
    "    elif i == 'C':\n",
    "        c +=1\n",
    "    elif i == 'G':\n",
    "        g +=1 \n",
    "    else:\n",
    "        bad = bad_dna.index(i)\n",
    "        print('There is a non-A,T,G, or C value ', i ,' at position', bad+1)   # note used index value\n",
    "                                                                               ## +1 b/c in bioinfo we  \n",
    "                                                                               ## count residues from 1\n",
    "                \n",
    "        print('numbers below represent counts through position ' , bad)        # here it works out\n",
    "        print()\n",
    "        break\n",
    "        \n",
    "print (a, 'A:', t, 'T:', c, 'C:', g, 'G')"
   ]
  },
  {
   "cell_type": "markdown",
   "metadata": {},
   "source": [
    "You can see that what we are doing here is stopping short because we don't have good data to work with. Our program is set up to handle a limited set of inputs, when we realize that the input doesn't match our expectation, we stop the loop. This would be especially important if what we were doing was not just counting but was something computationally expensive, or if the size of the dataset we were attempting to analyze was very large. Why keep waste the computer time and energy to keep running a loop once a problem is identified. \n",
    "\n",
    "Note the use of `.index()` method above. \n",
    "\n",
    "Another good use of `break` is when a sufficiently good solution has already been calculated by the program. "
   ]
  },
  {
   "cell_type": "markdown",
   "metadata": {},
   "source": [
    "### Question \n",
    "Describe in your own words the path that the for loop takes through the data because of the `break` command in the example above? How was the `.index()` method used to make output more informative to the user of the program? Can you think of some other ways the `.index()` function might be used in a more complex dataset?"
   ]
  },
  {
   "cell_type": "markdown",
   "metadata": {},
   "source": [
    "Double click on this text to add your answer here:\n",
    "\n",
    "- The break command causes the the loop to stop at a certain point if an indicated value shows up. The index method made it more informative because it allowed the person to understand the position that the indicated valued showed up but would still allow the loop to continue until then.\n",
    "- \n",
    "- \n",
    "-"
   ]
  },
  {
   "cell_type": "markdown",
   "metadata": {},
   "source": [
    "# Nested Loops\n",
    "\n",
    "We can use nested loops to extend looping operations into multiple dimensions. (You: Multiple dimensions!? Like the multiverse? Me: No. More boring.) So what could we mean by that?\n",
    "\n",
    "Let's consider some data that is organized as a list of lists. For our example we will use a list that represents a gradebook. Each item in the list is itself a list that consists of a student id as a string and a number of integer test scores. So this list has more than one dimension. It has a dimension of the entries corresponding to each individual student, and another that corresponds to the data associated with each student. You can easily visualize this data as how data is typically stored in a table or a spreadsheet, with each side of the table representing one dimension of the data. \n",
    "\n",
    "Let's say we are one of those teachers who drops the lowest test score. We want to write a program that ouputs the scores in a list and highlights which is the lowest score for each student. \n"
   ]
  },
  {
   "cell_type": "code",
   "execution_count": 54,
   "metadata": {},
   "outputs": [
    {
     "name": "stdout",
     "output_type": "stream",
     "text": [
      "student ID:  axc007\n",
      "score =  87\n",
      "score =  93\n",
      "score =  86\n",
      "score =  72  <-minimum score\n",
      "student ID:  bxj387\n",
      "score =  94\n",
      "score =  66  <-minimum score\n",
      "score =  85\n",
      "score =  91\n",
      "student ID:  tsa547\n",
      "score =  97\n",
      "score =  94\n",
      "score =  93  <-minimum score\n",
      "score =  98\n",
      "student ID:  xrd982\n",
      "score =  74  <-minimum score\n",
      "score =  81\n",
      "score =  83\n",
      "score =  88\n",
      "student ID:  jph921\n",
      "score =  81\n",
      "score =  62  <-minimum score\n",
      "score =  77\n",
      "score =  84\n"
     ]
    }
   ],
   "source": [
    "gradebook = [['axc007',87,93,86,72],           # we can break line as commas, this all could have\n",
    "             ['bxj387',94,66,85,91],           ## been written out linearly as well, just harder to\n",
    "             ['tsa547', 97,94,93,98],          ## look at.\n",
    "             ['xrd982', 74,81,83,88],\n",
    "             ['jph921',81,62,77,84]]\n",
    "\n",
    "for student in gradebook:                       # student is just taking the place of `i` here\n",
    "                                                ## on the grounds that student within gradebook\n",
    "                                                ## is easier to understand\n",
    "    \n",
    "    for ii in student:                          # ii now represents each item in the 'student' list\n",
    "                                                ## this is the nested loop. I used ii instead of i \n",
    "                                                ## to remind myself that this is a second loop.\n",
    "        \n",
    "        if  student.index(ii) == 0:             # assume the first item in each list is ID\n",
    "            print('student ID: ', ii) \n",
    "            \n",
    "        elif ii == min(student[1:5]):           # if it's the lowest score value, indicate that\n",
    "            print('score = ', ii, ' <-minimum score')\n",
    "            \n",
    "        else:                                   # otherwise just print the score\n",
    "            print('score = ', ii)\n",
    "        "
   ]
  },
  {
   "cell_type": "markdown",
   "metadata": {},
   "source": [
    "Note how using some natural language made this program easier to understand. We didn't have to designate the items within the list gradebook as `student`, we could have just left it as `i`. But I think it's a lot easier to understand as written. I didn't use 'grade' in the second loop because the list consisted of more than just grades, and I thought I will use `ii` to designate each item to remind myself that this represents the items being examined in the **nested** loop, which just means what it sounds like - a loop contained entirely within another loop. Complex programs can have multiple layers of loops nested within one another. \n",
    "\n",
    "### Questions\n",
    "In your own words describe the path that the nested `for` loops must be taking through the data.\n",
    "\n",
    "*review* Where is a *slice* operation used in this program? Explain why it is coded the way it is?"
   ]
  },
  {
   "cell_type": "markdown",
   "metadata": {},
   "source": [
    "Double click on this text to add your answer here:\n",
    "\n",
    "- The first for loop checks the items in the list and in this case, the items are also lists. The nested for loop is then checking the items of the lists inside the initial list. The slice operation is used in this program to put the score on the next line.\n",
    "- \n",
    "- \n",
    "-"
   ]
  },
  {
   "cell_type": "markdown",
   "metadata": {},
   "source": [
    "## Summary Exercises\n",
    "\n",
    "### Exercise 4 \n",
    "Use an if-then statement embedded within a loop to generate a new string called `my_comp_dna` that contains the complementary strand of DNA to myDNA. A-T and G-C are complementary pairs, so every time an 'A' appears in `my_dna` a 'T' should appear in `my_comp_dna`, and every time a 'T' appears in `my_dna` an 'A' should appear in `my_comp_dna`.  Print both strings side by side so that the answer can easily be checked. \n"
   ]
  },
  {
   "cell_type": "code",
   "execution_count": 65,
   "metadata": {},
   "outputs": [
    {
     "name": "stdout",
     "output_type": "stream",
     "text": [
      "My DNA: AGTGGCTATTACTACATGCCGAAGTTCCTTAAATTTAACTTACCAGGCTTAACCGGATGATGATTATTATTACCTTAATTTTA\n",
      "My Comp DNA: TCACCGATAATGATGTACGGCTTCAAGGAATTTAAATTGAATGGTCCGAATTGGCCTACTACTAATAATAATGGAATTAAAAT\n"
     ]
    }
   ],
   "source": [
    "my_dna = 'AGTGGCTATTACTACATGCCGAAGTTCCTTAAATTTAACTTACCAGGCTTAACCGGATGATGATTATTATTACCTTAATTTTA'\n",
    "my_comp_dna = \"\"\n",
    "for i in my_dna:\n",
    "        if i == \"A\":\n",
    "            my_comp_dna += \"T\"\n",
    "        elif i == \"T\":\n",
    "            my_comp_dna += \"A\"\n",
    "        elif i == \"G\":\n",
    "            my_comp_dna += \"C\"\n",
    "        elif i == \"C\":\n",
    "            my_comp_dna += \"G\"\n",
    "print(\"My DNA: \" + my_dna)\n",
    "print(\"My Comp DNA: \" + my_comp_dna)\n",
    "        \n",
    "        "
   ]
  },
  {
   "cell_type": "markdown",
   "metadata": {},
   "source": [
    "### Exercise 5\n",
    "Given the same gradebook data as before write a program that produces the following output. For each student in the data set give the student ID and give the lowest test score. Give the remaining scores that were used to calculate the average, and give the average both with and without the lowest test score removed. You may need to go back and consult the worksheet on list methods to remind yourself of operations that you can perform on a list that may be helpful here.  \n",
    "\n",
    "Bonus challenge if you finish early - would your program run if there were a variable number of scores per student? The commented out gradebook data contains varialbe numbers of scores per student. See if you can make it work. \n"
   ]
  },
  {
   "cell_type": "code",
   "execution_count": 1,
   "metadata": {},
   "outputs": [
    {
     "name": "stdout",
     "output_type": "stream",
     "text": [
      "ID:  axc007 ; low score:  72 ; other scores:  [87, 93, 86] ; ave:  84.5 ; ave no low:  88.66666666666667\n",
      "ID:  bxj387 ; low score:  66 ; other scores:  [94, 85, 91] ; ave:  84.0 ; ave no low:  90.0\n",
      "ID:  tsa547 ; low score:  93 ; other scores:  [97, 94, 98] ; ave:  95.5 ; ave no low:  96.33333333333333\n",
      "ID:  xrd982 ; low score:  74 ; other scores:  [81, 83, 88] ; ave:  81.5 ; ave no low:  84.0\n",
      "ID:  jph921 ; low score:  62 ; other scores:  [81, 77, 84] ; ave:  76.0 ; ave no low:  80.66666666666667\n"
     ]
    }
   ],
   "source": [
    "gradebook = [['axc007',87,93,86,72],['bxj387',94,66,85,91],['tsa547', 97,94,93,98],['xrd982', 74,81,83,88],['jph921',81,62,77,84]]\n",
    "\n",
    "#uncomment the variable below to attempt the challenge problem\n",
    "#gradebook = [['axc007',87,93,86,72,89],['bxj387',94,66,85,91],['tsa547', 97,94,93,98,94],['xrd982', 74,81,83,88],['jph921',81,62,84]]\n",
    "\n",
    "for student in gradebook:                       \n",
    "    \n",
    "    total = 0\n",
    "    n=0\n",
    "    scores =[]\n",
    "    \n",
    "    low = min(student[1:len(student)])\n",
    "    ID = student[0]\n",
    "    \n",
    "    for ii in student:\n",
    "        if type(ii) == int or type(ii) == float:         \n",
    "            total += ii                                        \n",
    "            n+= 1                                              \n",
    " \n",
    "    scores = student\n",
    "    scores.remove(ID)\n",
    "    scores.remove(low)\n",
    "\n",
    "    ave = total/n\n",
    "    ave_no_low = (total - low)/(n-1)\n",
    "    \n",
    "    print('ID: ', ID, \n",
    "          '; low score: ', low,\n",
    "          '; other scores: ', scores, \n",
    "          '; ave: ', ave, \n",
    "          '; ave no low: ', ave_no_low) \n",
    "\n",
    "\n",
    "#could not figure out the solution and took the answer from the solutions"
   ]
  },
  {
   "cell_type": "markdown",
   "metadata": {},
   "source": [
    "\n",
    "![Alt text that will appear on mouseover](images/TJU_logo_dummy_image.png \"Dummy image\")\n"
   ]
  }
 ],
 "metadata": {
  "kernelspec": {
   "display_name": "Python 3 (ipykernel)",
   "language": "python",
   "name": "python3"
  },
  "language_info": {
   "codemirror_mode": {
    "name": "ipython",
    "version": 3
   },
   "file_extension": ".py",
   "mimetype": "text/x-python",
   "name": "python",
   "nbconvert_exporter": "python",
   "pygments_lexer": "ipython3",
   "version": "3.9.7"
  }
 },
 "nbformat": 4,
 "nbformat_minor": 2
}
