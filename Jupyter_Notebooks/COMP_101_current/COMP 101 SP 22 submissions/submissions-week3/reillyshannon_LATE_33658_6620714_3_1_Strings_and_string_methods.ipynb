{
 "cells": [
  {
   "cell_type": "markdown",
   "metadata": {},
   "source": [
    "<div align =\"right\">Thomas Jefferson University <b>COMP 101</b>: Intro to Coding</div>"
   ]
  },
  {
   "cell_type": "markdown",
   "metadata": {},
   "source": [
    "# Strings and String Methods\n",
    "\n",
    "The next data type we will work with is the string. String variables hold a string of character data, or in other words, they hold text. As we saw earlier string variable can be assigned just like numerical variables, by using the equal sign. Using the `type()` function on a string variable returns the value `str`. Take a look at the code below and try to predict the results. "
   ]
  },
  {
   "cell_type": "code",
   "execution_count": 1,
   "metadata": {},
   "outputs": [
    {
     "name": "stdout",
     "output_type": "stream",
     "text": [
      "ABCDEFGHIJKLMNOPQRSTUVWXYZ\n",
      "<class 'str'>\n"
     ]
    }
   ],
   "source": [
    "alpha_string = \"ABCDEFGHIJKLMNOPQRSTUVWXYZ\"\n",
    "\n",
    "print(alpha_string)\n",
    "print(type(alpha_string))"
   ]
  },
  {
   "cell_type": "markdown",
   "metadata": {},
   "source": [
    "Strings can be created from other variable types by using the function `str()`. For example, let's take a variable that is holding an integer and try converting it to a string. "
   ]
  },
  {
   "cell_type": "code",
   "execution_count": 3,
   "metadata": {},
   "outputs": [
    {
     "name": "stdout",
     "output_type": "stream",
     "text": [
      "7\n",
      "<class 'int'>\n",
      "7\n",
      "7\n",
      "<class 'str'>\n"
     ]
    }
   ],
   "source": [
    "x = 7\n",
    "print(x) \n",
    "print(type(x)) \n",
    "print(x)\n",
    "\n",
    "string_x = str(x)              # convert x, the integer 7, to the string '7' using str()\n",
    "\n",
    "print(string_x)                # in an ouput sense, we get the exact same thing\n",
    "print(type(string_x))          # but the type of the variable has changed"
   ]
  },
  {
   "cell_type": "markdown",
   "metadata": {},
   "source": [
    "Why would we want to do this? Why is it useful? \n",
    "\n",
    "Let's take a look at another example from the previous section. When we tried to do the following:\n",
    "```\n",
    "my_var = 'ABCD'\n",
    "print(my_var + 4)\n",
    "```\n",
    "we got an error because we were trying to combine an integer with a string. Take a look at the code below."
   ]
  },
  {
   "cell_type": "code",
   "execution_count": 4,
   "metadata": {},
   "outputs": [
    {
     "name": "stdout",
     "output_type": "stream",
     "text": [
      "The area of the rectangle is 28 cm^2.\n"
     ]
    }
   ],
   "source": [
    "a = 7 \n",
    "b = 4\n",
    "area = a*b\n",
    "\n",
    "print('The area of the rectangle is ' + str(area) + ' cm^2.')"
   ]
  },
  {
   "cell_type": "markdown",
   "metadata": {},
   "source": [
    "Hopefully the difference is obvious. In this case we used the `str()` function to generate a string based on the value `area` and then used the string concatenation function `+` to combine that variable text with our output text. Go ahead and change the values for a and b and rerun the code.\n",
    "\n",
    "Likewise, we can extract numbers from text by a similar procedure. In this case we will use the function `int()` to convert a number in string form back to text so that we can use it mathematically:"
   ]
  },
  {
   "cell_type": "code",
   "execution_count": 16,
   "metadata": {},
   "outputs": [
    {
     "name": "stdout",
     "output_type": "stream",
     "text": [
      "Area = 28\n"
     ]
    }
   ],
   "source": [
    "a = '7'\n",
    "b = '4'\n",
    "\n",
    "area = int(a) * int(b)                   # after trying the code comment out this line ...\n",
    "area = int(a) * int(b)        # ... and uncomment this line instead\n",
    "\n",
    "print('Area = ' + str(area))"
   ]
  },
  {
   "cell_type": "markdown",
   "metadata": {},
   "source": [
    "### Exercise\n",
    "In the coding window below, fill in the data for your age, height in inches, and expected year of graduation. Then write code to output these values as parts of a text string. "
   ]
  },
  {
   "cell_type": "code",
   "execution_count": 32,
   "metadata": {},
   "outputs": [
    {
     "name": "stdout",
     "output_type": "stream",
     "text": [
      "my name is shannon, i am 21 i am 62 tall, and I graduate in 2022\n"
     ]
    }
   ],
   "source": [
    "# Fill in the values\n",
    "age = 21\n",
    "height_in = 62\n",
    "grad_year = 2022\n",
    "\n",
    "# Now write code to ouput those values combined with text\n",
    "\n",
    "\n",
    "print('my name is shannon, i am ' + str(age) + ' i am ' + str(height_in) + ' tall, and I graduate in ' + str(grad_year))"
   ]
  },
  {
   "cell_type": "markdown",
   "metadata": {},
   "source": [
    "## Methods defined\n",
    "\n",
    "You may have noticed above that when we print out the variable type we get output statements that look like this:\n",
    "```\n",
    "<class 'str'>\n",
    "<class 'int'>\n",
    "```\n",
    "Python is an <a href = 'https://en.wikipedia.org/wiki/Object-oriented_programming'>object-oriented programming language</a>. This is a complicated idea, but it basically means that any data that exists within a python program has to exist as not only raw data but also must exist within a set of rules that describe what can and can't be done with that data. This grouping of specific data plus rules is known as an **object**. Variables are examples of objects, and our different data types could more formally be described as different **classes** of objects, where the class determines the rules for an object of that type. The `type()` function returns to us the class to which a particular object belongs. \n",
    "\n",
    "We have already seen on several occasions where the rules prevent us from doing certain things with certain kinds of object. Just above we tried to multiply two string variables (or: objects of class string), and this generated an error. This was the programming language telling us 'Multiplying two objects of class string is not meaningful within the overarching rules of python.'\n",
    "\n",
    "But just as these rules specify what we *can't* do with a particular object, object-oriented programming opens up a whole world for the language developers to describe and develop classes in such a way that they provide highly convenient, built-in ways of manipulating an object of a particular class. These built-in functions that are associated with a particular class are called class **methods**. \n",
    "\n",
    "## String methods\n",
    "\n",
    "So that was a little theoretical, and maybe you should go back and read it again after going through some examples. For now let's look at some of the more common string methods. (You can find a more complete list with linked explanations <a href = 'https://www.geeksforgeeks.org/python-string-methods/?ref=gcse'>here</a>, scroll down to 'Table of Python String methods'.)\n",
    "\n",
    "The way that we apply a method is different than the way we have applied functions so far. Instead of calling it like this:\n",
    "```\n",
    "function_name(variable_name)\n",
    "```\n",
    "We instead add it to the end of the variable name after a period, like so: \n",
    "```\n",
    "variable_name.method_name()\n",
    "```\n",
    "Let's look at a couple of examples:"
   ]
  },
  {
   "cell_type": "code",
   "execution_count": 18,
   "metadata": {},
   "outputs": [
    {
     "name": "stdout",
     "output_type": "stream",
     "text": [
      "BENEDICT CUMBERBATCH\n",
      "benedict cumberbatch\n",
      "This is a sentence.\n"
     ]
    }
   ],
   "source": [
    "my_string = 'Benedict Cumberbatch'\n",
    "\n",
    "print(my_string.upper())       # applying the method to the variable gives the result\n",
    "print(my_string.lower())       ## of the method, which is then passed to the print function\n",
    "\n",
    "my_string = 'this is a sentence.'\n",
    "\n",
    "print(my_string.capitalize())"
   ]
  },
  {
   "cell_type": "markdown",
   "metadata": {},
   "source": [
    "The methods above each do a relatively simple thing: `.upper()` converts a string to uppercase, `.lower()` converts a string to lowercase, and `.capitalize` capitalizes the first letter in the string. \n",
    "\n",
    "### Exercise\n",
    "See if you can figure out for yourself what the next three functions do:\n",
    "```\n",
    ".strip()\n",
    ".rstrip()\n",
    ".lstrip()\n",
    "```\n"
   ]
  },
  {
   "cell_type": "code",
   "execution_count": 37,
   "metadata": {},
   "outputs": [
    {
     "name": "stdout",
     "output_type": "stream",
     "text": [
      "@12345 messy text entered by user\n",
      "@12345 messy text entered by user    \n",
      "    @12345 messy text entered by user\n"
     ]
    }
   ],
   "source": [
    "my_string = '    @12345 messy text entered by user    '     # don't change this string\n",
    "\n",
    "#\n",
    "print(my_string.strip())\n",
    "print(my_string.lstrip())\n",
    "print(my_string.rstrip())\n",
    "\n",
    "#\n",
    "## you may have to be a bit clever to show the results of the .rstrip() method\n",
    "\n"
   ]
  },
  {
   "cell_type": "markdown",
   "metadata": {},
   "source": [
    "Some methods depend on being given certain values, or **parameters** by the user. These parameters are placed within the parentheses following the method name. One such method is the `.count()` method, which counts how many times a particular character appears within a string. Of course to tell the program to count a particular character, we have to specify which character we are counting!"
   ]
  },
  {
   "cell_type": "code",
   "execution_count": 38,
   "metadata": {},
   "outputs": [
    {
     "name": "stdout",
     "output_type": "stream",
     "text": [
      "4\n",
      "1\n",
      "0\n",
      "0\n"
     ]
    }
   ],
   "source": [
    "my_string = \"ALABAMA\"\n",
    "\n",
    "print(my_string.count('A'))\n",
    "print(my_string.count('B'))\n",
    "print(my_string.count('D')) \n",
    "print(my_string.count('a')) "
   ]
  },
  {
   "cell_type": "markdown",
   "metadata": {},
   "source": [
    "### Question\n",
    "What have we learned about the `.count()` method from the example code above?"
   ]
  },
  {
   "cell_type": "markdown",
   "metadata": {},
   "source": [
    "Double click on this text to add your answer here:\n",
    "\n",
    "- you can make the program count the number of objects in a string, but you need to specify what exactly you would like it to count.\n",
    "- In the example above, the code is telling the program to count the number of times the letter 'A' gets repeated.\n",
    "- Something to watch out for is that you need to make sure you tell it exactly what to look for (i.e. it is case sensitive).\n",
    "- It will give you zero if the character you are looking for is not present in the string "
   ]
  },
  {
   "cell_type": "markdown",
   "metadata": {},
   "source": [
    "## String indexing and index-based string methods\n",
    "\n",
    "Strings are what are known as an **iterable** class in python. For now we can think of this as meaning that a string is comprised of a variable number of individual units that can be accessed independently of one another. All iterable class are also classes in which the data is organized and accessed by the use of an **index**, which is an identifier for each individual unit of the variable. Clear as mud, right? This may be easier shown than explained.  "
   ]
  },
  {
   "cell_type": "code",
   "execution_count": 41,
   "metadata": {},
   "outputs": [
    {
     "name": "stdout",
     "output_type": "stream",
     "text": [
      "A\n",
      "B\n",
      "J\n",
      "Z\n"
     ]
    }
   ],
   "source": [
    "alpha_string = \"ABCDEFGHIJKLMNOPQRSTUVWXYZ\"\n",
    "\n",
    "print(alpha_string[0])        # name_of_string[index_number] gives us \n",
    "print(alpha_string[1])        ## the character held at that position\n",
    "print(alpha_string[9])        ## in the string\n",
    "print(alpha_string[25])\n"
   ]
  },
  {
   "cell_type": "markdown",
   "metadata": {},
   "source": [
    "Indexing a string is really simple. As shown above we simply append a set of square brackets to the name of the string variable, and the number that appears within those brackets indicates the value that index value of the character in the string that we want to capture.  \n",
    "\n",
    "One thing you probably noticed immediately is that index numbers don't correspond to what you might have expected. The first character in the string 'A' was accessed by `alpha_string[0]`. This is because all indexing in python is what is known as <a href = 'https://en.wikipedia.org/wiki/Zero-based_numbering'>zero-based-indexing</a>. This is one of those things that turns out to be very functional when constructing loops and control structures but that seems unneccessarily complicated when you first try to learn it. This is just something to get used to: the first value in any iterable data type will always have an index of 0, and the last item will be equivalent to the size of the data structure minus 1.\n",
    "\n",
    "There are several important string methods that are built around the indexing functions. The `.find()` and `.rfind()` AND `.index()` and `.rindex()` methods are all dependent on the index values. Another useful method related to these is `.replace()` "
   ]
  },
  {
   "cell_type": "code",
   "execution_count": 47,
   "metadata": {},
   "outputs": [
    {
     "name": "stdout",
     "output_type": "stream",
     "text": [
      "0\n",
      "6\n",
      "\n",
      "0\n",
      "6\n",
      "-1\n",
      "-1\n",
      "\n",
      "ULUBUMU\n",
      "ALCDAMA\n",
      "'BAMA\n",
      "\n",
      "-1\n",
      "-1\n",
      "ALABAMA\n",
      "ALAFAMA\n",
      "5\n"
     ]
    }
   ],
   "source": [
    "my_string = \"ALABAMA\"\n",
    "\n",
    "print(my_string.index('A'))          # try using index to find 'F', what happens?\n",
    "print(my_string.rindex('A'))\n",
    "print()\n",
    "print(my_string.find('A'))\n",
    "print(my_string.rfind('A')) \n",
    "print(my_string.find('F'))             \n",
    "print(my_string.rfind('F'))\n",
    "print()\n",
    "print(my_string.replace('A','U'))\n",
    "print(my_string.replace('AB','CD'))\n",
    "print(my_string.replace('ALA','\\''))\n",
    "print()\n",
    "print(my_string.find('F'))\n",
    "print(my_string.rfind('F'))\n",
    "print(my_string.replace('F','A'))\n",
    "print(my_string.replace('B','F'))\n",
    "print(my_string.index('M'))"
   ]
  },
  {
   "cell_type": "markdown",
   "metadata": {},
   "source": [
    "### Question\n",
    "Describe what you think the various methods listed above are doing? How are they different? \n",
    "Specifically, what does the 'r' in `.rfind()` and `.rindex()` represent?"
   ]
  },
  {
   "cell_type": "markdown",
   "metadata": {},
   "source": [
    "Double click on this text to add your answer here:\n",
    "\n",
    "- find does the same thing that count does, it finds the number of a particular character in a string, except this time it takes into account all of the commands that have been completed on the character \n",
    "- rfind im not really sure what it does that is different than find \n",
    "- replace is a way to go through a string and replace one character with another, but it will do it for all of that type of character for the entire string. \n",
    "-"
   ]
  },
  {
   "cell_type": "markdown",
   "metadata": {},
   "source": [
    "### Summary Exercise\n",
    "\n",
    "You have retrieved an RNA sequence from a bioinformatics database. The director of your lab is interested in the percentage of the sequence that is A or T nucleotides vs G or C nucleotides. As shown below, the data comes in a format in which the coding region of the DNA is represented by capital letters and the untranslated regions are represented in lower case letters.  Do the following:\n",
    "\n",
    "Convert the RNA sequence to a DNA sequence by replacing every U (upper or lowercase) with a T\n",
    "Count the number of As and Ts (upper or lowercase) that are present in the sequence\n",
    "\n",
    "Output: \n",
    "* the converted DNA sequence in all caps\n",
    "* the number of As, Ts, Gs, and Cs\n",
    "* the percentage of nucleotides that are As and Ts. \n",
    "\n",
    "Format the output nicely with text explanations for each number. \n",
    "\n",
    "Sequence:\n",
    "\n",
    "aguggcuauuacuacAUGCCGAAGUUCCUUAAAUUUAACUUACCAGGCUUAACCGGAUGAUGauuauuauuaccuuaauuuua"
   ]
  },
  {
   "cell_type": "code",
   "execution_count": 87,
   "metadata": {},
   "outputs": [
    {
     "name": "stdout",
     "output_type": "stream",
     "text": [
      "AGUGGCUAUUACUACAUGCCGAAGUUCCUUAAAUUUAACUUACCAGGCUUAACCGGAUGAUGAUUAUUAUUACCUUAAUUUUA\n",
      "AGUGGCUAUUACUACAUGCCGAAGUUCCUUAAAUUUAACUUACCAGGCUUAACCGGAUGAUGAUUAUUAUUACCUUAAUUUUA\n",
      "aguggcuauuacuacATGCCGAAGTTCCTTAAATTTAACTTACCAGGCTTAACCGGATGATGauuauuauuaccuuaauuuua\n",
      "AGTGGCTATTACTACATGCCGAAGTTCCTTAAATTTAACTTACCAGGCTTAACCGGATGATGATTATTATTACCTTAATTTTA\n",
      "total:  83\n",
      "Percentage A & T 0.6746987951807228\n",
      "Percentage C & G 0.3253012048192771\n"
     ]
    }
   ],
   "source": [
    "#\n",
    "my_string = 'aguggcuauuacuacAUGCCGAAGUUCCUUAAAUUUAACUUACCAGGCUUAACCGGAUGAUGauuauuauuaccuuaauuuua'\n",
    "print(my_string.upper())\n",
    "\n",
    "\n",
    "my_string_upper = my_string.upper()\n",
    "print(my_string_upper)\n",
    "print(my_string.replace('U','T'))\n",
    "\n",
    "my_string_dna = my_string_upper.replace('U','T')\n",
    "print(my_string_dna)\n",
    "\n",
    "A = (my_string_dna.count('A'))\n",
    "T = (my_string_dna.count('T'))\n",
    "C = (my_string_dna.count('C'))\n",
    "G = (my_string_dna.count('G'))\n",
    "\n",
    "\n",
    "\n",
    "print('total: ',  A + T + C + G)\n",
    "total = 83\n",
    "print('Percentage A & T', ((A+T)/83))\n",
    "print('Percentage C & G', ((C+G)/83))\n",
    "\n",
    "\n",
    "\n",
    "\n"
   ]
  },
  {
   "cell_type": "markdown",
   "metadata": {},
   "source": [
    "![Alt text that will appear on mouseover](images/TJU_logo_dummy_image.png \"Dummy image\")"
   ]
  },
  {
   "cell_type": "code",
   "execution_count": null,
   "metadata": {},
   "outputs": [],
   "source": []
  }
 ],
 "metadata": {
  "kernelspec": {
   "display_name": "Python 3 (ipykernel)",
   "language": "python",
   "name": "python3"
  },
  "language_info": {
   "codemirror_mode": {
    "name": "ipython",
    "version": 3
   },
   "file_extension": ".py",
   "mimetype": "text/x-python",
   "name": "python",
   "nbconvert_exporter": "python",
   "pygments_lexer": "ipython3",
   "version": "3.9.7"
  }
 },
 "nbformat": 4,
 "nbformat_minor": 2
}
