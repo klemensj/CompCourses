{
 "cells": [
  {
   "cell_type": "markdown",
   "metadata": {},
   "source": [
    "<div align =\"right\">Thomas Jefferson University <b>COMP 101</b>: Intro to Coding</div>"
   ]
  },
  {
   "cell_type": "markdown",
   "metadata": {},
   "source": [
    "# Logical statements and *if-then* statements\n",
    "\n",
    "In this week's notebook we will be diving deeper into logical statements in python. Logical statements are  important because they form the basis of what can collectively be referred to as **control flow** within a program. So far the programs we have written are restricted to doing just one thing, in a particular linear order. Let's look at an example of what this means: \n",
    "\n",
    "## Control flow - an example\n",
    "Let's say we are writing a program that handles a nucleotide sequence and like last week we want to know the percentage of A and T residues in the sequence. And let's say additionally that we don't know if the sequence we are getting is RNA or DNA, so there may or may not be Us in place of Ts in the sequence. I'm going to write out in pseudocode the flow the program as we would currently be able to write it. \n",
    "\n",
    "```\n",
    "assign the data to the variable sequence\n",
    "set sequence to all uppercase letters using sequence.upper() and assign to new variable sequence_up\n",
    "replace all 'U' values in sequence_up with 'T's, and all 'U' values with u\n",
    "count all As and Ts, divide this value by len(sequence) and print the result\n",
    "```\n",
    "\n",
    "With control flow, we would write this a different way\n",
    "\n",
    "```\n",
    "assign the data to the variable sequence\n",
    "set sequence to all uppercase letters using sequence.upper() and assign to new variable sequence_up\n",
    "if there are 'U' values in sequence_up:\n",
    "    replace all 'U' values in sequence_up with 'T's\n",
    "count all As and Ts, divide this value by len(sequence) and print the result\n",
    "```\n",
    "\n",
    "### Question\n",
    "What might be the advantage of the second option over the first? Under what conditions might it be particularly advantageous?"
   ]
  },
  {
   "cell_type": "markdown",
   "metadata": {},
   "source": [
    "Double click on this text to add your answer here:\n",
    "\n",
    "- Its better to have a control flow because it tells the program to do something under certain conditions. \n",
    "- Its a way to make the code more concise and also allows you to apply the conditions to a very large set of data. \n",
    "- Control flows are a way to get something done, a lot of times automatically, in the least ammount of commands possible."
   ]
  },
  {
   "cell_type": "markdown",
   "metadata": {},
   "source": [
    "Without control flow a computer program is just a glorified calculator with some fancy functions. It can get you from point A to point B along a particular, pre-specified pathway. Control flow can be used to make programs dynamic, or responsive, in numerous ways.This comes up in a lot of different situations. So if you want a program to:\n",
    "* Decide between different actions\n",
    "* Repeat a task a number of times and then stop when appropriate\n",
    "* Do something based on user input (e.g. 'press 2 for customer service')\n",
    "* Do something automatically while the value of a variable is in a particular range - like a thermostat\n",
    "\n",
    "you are using control flow.\n",
    "\n",
    "## Logical operators\n",
    "\n",
    "To be able to start controlling our programs in this way we need to use some new tools within python, which we can collectively refer to as **logical operators**. The logical operators we will be working with today fall into two categories **comparison operators** and **boolean operators**.\n",
    "\n",
    "### comparison operators\n",
    "There are three main sets of comparison operators: `==` and `!=`; `<` and `>` `<=` and `>=` . Their usage is very similar to what we saw previously with the mathematical operators. The first pair probably requires the most explanation - double-equals `==` is for *comparison* of two variables, whereas we saw previously that a single equal sign `=` is for *assiging* a value to a variable. Likewise `!=` is the *not equal* operator. The rest are simply greater than and less than, or greater than or equal to and less than or equal to just as you would probably expect from the way the operators are written.  \n",
    "\n",
    "These operations are boolean, meaning they return a value a value of `True` or `False`. This makes sense as the result of any comparison between values can be evaluated as being either a true or false statement. Just in case that's not intuitive, let's look at some example code. \n",
    "\n",
    "Before running the code try to predict what will be printed out be each print statement and write it into the comments:"
   ]
  },
  {
   "cell_type": "code",
   "execution_count": 3,
   "metadata": {},
   "outputs": [
    {
     "name": "stdout",
     "output_type": "stream",
     "text": [
      "a < b  True\n",
      "a > b  False\n",
      "Type =  <class 'bool'>\n",
      "\n",
      "c == b + a  True\n",
      "c != b + a False\n",
      "a != b  True\n",
      "\n",
      "True   <class 'bool'>\n",
      "Does a = b?  False\n"
     ]
    }
   ],
   "source": [
    "a = 4\n",
    "b = 8\n",
    "c = 12\n",
    "\n",
    "print('a < b ', a < b)             # true\n",
    "print('a > b ', a > b)             # false\n",
    "print('Type = ', type(a > b))\n",
    "print()\n",
    "print('c == b + a ', c == b + a)   # true \n",
    "print('c != b + a',  c != b + a)   # false \n",
    "print('a != b ', a != b)           # false  \n",
    "print()\n",
    "\n",
    "d = a + b == c\n",
    "print(d, ' ' , type(d))            # this is true because c equals a+b\n",
    "\n",
    "#one of the most common errors in python coding is to switch an `=` for a `==` \n",
    "\n",
    "print('Does a = b? ', a == b)           # this will be false because a does not equal b \n",
    "                                        # in this example we should use the '==' operator\n",
    "                                        # what do you predict will be the result? Fix the code if necessary\n",
    "   \n"
   ]
  },
  {
   "cell_type": "markdown",
   "metadata": {},
   "source": [
    "### Question\n",
    "What have we learned about the comparison operators? What is the result of running one of these comparisons - meaning what is produced by the program? Can you infer anything about order of operations?"
   ]
  },
  {
   "cell_type": "markdown",
   "metadata": {},
   "source": [
    "Double click on this text to add your answer here:\n",
    "\n",
    "- The result of a comparison operator will always be true or false. \n",
    "- The order of operations is essentially just whatever falls on either side of the greater than or less than sign gets grouped together.\n",
    "- it also just seems that everything works in a left to right way so you have to phrase the conditionals that way. "
   ]
  },
  {
   "cell_type": "markdown",
   "metadata": {},
   "source": [
    "### boolean operators\n",
    "\n",
    "The second class of operators we need to use are called the boolean operators. We already learned about `in` and `not in` when we learned about lists. The additional ones we will look at now are `and`, `or`, and `not`. One thing to note here is that `not in` is not an independent operator, it just represents the `not` and `in` operators applied together. `not` can be combined with any of the other operators to reverse the true-false value that is returned.\n",
    "```\n",
    "x = 3 \n",
    "\n",
    "not x == 3      # this will return false, x does equal 3, the `not` reverses the result\n",
    "\n",
    "not x == 4 or 5 # this will return true, x does not equal 4 or 5, the `not` reverses the result\n",
    "\n",
    "```\n",
    "Unlike the comparison operators, these do not return a Boolean data type. They act as selectors and are rarely if ever used on their own. Check the examples below to see that they aren't returning particularly meaningful results. "
   ]
  },
  {
   "cell_type": "code",
   "execution_count": 20,
   "metadata": {},
   "outputs": [
    {
     "name": "stdout",
     "output_type": "stream",
     "text": [
      "4\n",
      "<class 'int'>\n"
     ]
    }
   ],
   "source": [
    "a = 4\n",
    "b = 8\n",
    "c = 12\n",
    "\n",
    "#uncomment the statements below one at a time\n",
    "\n",
    "#a and b\n",
    "#b and c\n",
    "#b or c\n",
    "#b not c\n",
    "\n",
    "print(a or b)               #uncomment these two lines together\n",
    "print(type(a or b))"
   ]
  },
  {
   "cell_type": "markdown",
   "metadata": {},
   "source": [
    "Where these boolean operators become useful is when we combine them with the logical operators to make more complex statements. What follows are a series of examples for you to evaluate. See if you can understand the comparison that is being made in each code block. "
   ]
  },
  {
   "cell_type": "code",
   "execution_count": 32,
   "metadata": {},
   "outputs": [
    {
     "data": {
      "text/plain": [
       "True"
      ]
     },
     "execution_count": 32,
     "metadata": {},
     "output_type": "execute_result"
    }
   ],
   "source": [
    "## Example 1\n",
    "\n",
    "a = 9.75\n",
    "\n",
    "a >= 2 and a < 10\n",
    "    \n",
    "10 > a >= 2 \n",
    "2 <= a < 10             # alternate expressions of the same thing, try them!\n",
    "                        #The >= or <= mean greater than or equal to or less than or equal to "
   ]
  },
  {
   "cell_type": "code",
   "execution_count": 27,
   "metadata": {},
   "outputs": [
    {
     "data": {
      "text/plain": [
       "True"
      ]
     },
     "execution_count": 27,
     "metadata": {},
     "output_type": "execute_result"
    }
   ],
   "source": [
    "## Example 2\n",
    "\n",
    "a = 4\n",
    "b = 8\n",
    "c = 12\n",
    "\n",
    "a * b > b + c and c - b >= a and a != 10  #just fancy calcualtor stuff, but it is a true statement \n"
   ]
  },
  {
   "cell_type": "code",
   "execution_count": 29,
   "metadata": {},
   "outputs": [
    {
     "data": {
      "text/plain": [
       "False"
      ]
     },
     "execution_count": 29,
     "metadata": {},
     "output_type": "execute_result"
    }
   ],
   "source": [
    "## Example 3\n",
    "\n",
    "a = 4\n",
    "b = 8\n",
    "\n",
    "a > b and not b % a == 0   # this statement is false because we know that a is not greater than b,\n",
    "                           # but there is not a remainder from b/a so b % a == 0 is a true statment but we asked\n",
    "                           # it to tell is what b % a is not. \n"
   ]
  },
  {
   "cell_type": "code",
   "execution_count": 30,
   "metadata": {},
   "outputs": [
    {
     "data": {
      "text/plain": [
       "True"
      ]
     },
     "execution_count": 30,
     "metadata": {},
     "output_type": "execute_result"
    }
   ],
   "source": [
    "## Example 4\n",
    "\n",
    "my_list = [1,2,4,6,12,24]\n",
    "\n",
    "12 not in my_list or 14 not in my_list #14 is not in the list so the statment is still true since it uses the word or."
   ]
  },
  {
   "cell_type": "markdown",
   "metadata": {},
   "source": [
    "### Question \n",
    "For each of the three examples presented above, provide an interpretation below of the comparison that is being made in common language and explain why the example produces the output that it does. "
   ]
  },
  {
   "cell_type": "markdown",
   "metadata": {},
   "source": [
    "Double click on this text to add your answer here:\n",
    "\n",
    "- intepretation is in comments on each problem. \n"
   ]
  },
  {
   "cell_type": "markdown",
   "metadata": {},
   "source": [
    "## *If-then* statements\n",
    "\n",
    "*If-then* statments are a key part of control flow in any high level programming language such as Python. In a pseudo code way we could represent an if-then statement as:\n",
    "```\n",
    "if (some condition is met)\n",
    "    then perform some action\n",
    "```\n",
    "\n",
    "\n",
    "Now that we know how to make comparisons and return boolean true-false values, we can start applying those to the first half of that equations using the `if`, `elif`, and `else` statements. Let's start with syntax that uses just `if` first, and we will add the `else` and `elif` statement later. \n",
    "\n",
    "The first part of an if then statement has the following syntax:\n",
    "```\n",
    "if x % 2 == 0:          # in other words, if x is an even number\n",
    "```\n",
    "\n",
    "The if operator is followed by a logical statement that can be evaluated as being either true or false. These two components are then followed by a `:`. \n",
    "\n",
    "The next part of an if-then statement is a indented code block that will be executed (run) by python *if and only if* the logical statement is evaluated by python to be `True`. So to continue with our example:\n",
    "```\n",
    "if x % 2 == 0:\n",
    "    print('This number is even')\n",
    "    print('For real')\n",
    "    print('Definitely an even number')\n",
    "```\n",
    "As discussed when we presented python syntax, all of the code in a code block must share the same level of indentation (as a reminder, the standard indent is four spaces). Let's take a look at this code and see if it works:"
   ]
  },
  {
   "cell_type": "code",
   "execution_count": 40,
   "metadata": {},
   "outputs": [
    {
     "name": "stdout",
     "output_type": "stream",
     "text": [
      "This number is even\n",
      "Definitely an even number\n"
     ]
    }
   ],
   "source": [
    "#Set the value of x to different odd and even numbers, to see if the code works\n",
    "\n",
    "x = 168\n",
    "\n",
    "if x % 2 == 0:\n",
    "    print('This number is even')\n",
    "    print('Definitely an even number')"
   ]
  },
  {
   "cell_type": "markdown",
   "metadata": {},
   "source": [
    "So we can see that if we enter an odd number (a number for which `x % 2 == 0` is `False`) nothing happens. The code in the code block is completely ignored. \n",
    "\n",
    "Now this isn't a very good computer program, because a user who entered an odd number might wonder, 'Did this code even work?' because an odd number gives us no output. Fortunately the `else` statement can be used as a part of our program to provide an output when the logical statement evaluates as `False`. \n",
    "\n",
    "An `else` statement is added at the same indent level as the original `if` statement, is also followed by a `:`, and is followed by a code block. We don't have to specify the logical statement again, if the first logical statement evaluates as `False`, this block of code will run. \n",
    "\n",
    "Try the same numbers you were running above in the new program below:"
   ]
  },
  {
   "cell_type": "code",
   "execution_count": 49,
   "metadata": {},
   "outputs": [
    {
     "name": "stdout",
     "output_type": "stream",
     "text": [
      "This number is odd\n",
      "Definitely an odd number\n"
     ]
    }
   ],
   "source": [
    "#Set the value of x to different odd and even numbers, to see if the code works\n",
    "\n",
    "x = 5738074.2\n",
    "\n",
    "if x % 2 == 0:\n",
    "    print('This number is even')\n",
    "    print('Definitely an even number')\n",
    "else:\n",
    "    print('This number is odd')\n",
    "    print('Definitely an odd number')"
   ]
  },
  {
   "cell_type": "markdown",
   "metadata": {},
   "source": [
    "So this works great if we have a binary situation, where a number is either even or odd. If `True` response 1, if `False` response 2. But what about the situation where we have some additional conditions. The code comments ask us to input a number, but what if someone enters a number with a decimal component? That's not really an odd or an even number. Or what if someone enters zero? Is zero really an even number? This turns out to be a somewhat controversial question. \n",
    "\n",
    "Within python, we can evaluate multiple logical statements within the same `if` statement using the `elif` statement, which can be translated into *or else if*. The `elif` statements are formatted like the `else`, but come before it. The inclusion of an `elif` also changes the interpretation of the `else` statement. the `else` code block will only run if neither the `if` nor any of the `elif` functions evaluate as true. \n",
    "\n",
    "Here's an example:"
   ]
  },
  {
   "cell_type": "code",
   "execution_count": 52,
   "metadata": {},
   "outputs": [
    {
     "name": "stdout",
     "output_type": "stream",
     "text": [
      "This number is not an integer\n"
     ]
    }
   ],
   "source": [
    "#Set the value of x to different odd and even numbers, \n",
    "## decimal numbers, and zero to see if the code works\n",
    "\n",
    "x = 7.8\n",
    "\n",
    "if x % 1 != 0:                               # this statement checks to see if x is an integer\n",
    "    print('This number is not an integer')   ## using modulus division (note that this method\n",
    "                                             ## fails for numbers larger than about 1 quintillion)\n",
    "elif x == 0:\n",
    "    print('This number is zero')\n",
    "elif x % 2 == 0:\n",
    "    print('This number is even')\n",
    "    print('Definitely an even number')\n",
    "else:\n",
    "    print('This number is odd')\n",
    "    print('Definitely an odd number')"
   ]
  },
  {
   "cell_type": "markdown",
   "metadata": {},
   "source": [
    "### Question \n",
    "Is the order of the `if`, `elif`, and `else` statements in the example above important? Why or why not? What would happen if we swapped the order of the two `elif` statements for example? Is there a general rule that you can draw from this?"
   ]
  },
  {
   "cell_type": "markdown",
   "metadata": {},
   "source": [
    "Double click on this text to add your answer here:\n",
    "\n",
    "- yes i would say the order is important because if the \"if\" statment is not the first statement, then the program does not know what the elif and else statments refer to.\n",
    "- You can reorder the elif and else statments once all of the special conditionals are out of the way. \n",
    "- you can reorder the way in which the if statment is ordered, but it should come first so that all of the following statements know what to do. "
   ]
  },
  {
   "cell_type": "markdown",
   "metadata": {},
   "source": [
    "### Exercise 1\n",
    "\n",
    "Program a phone system that gives different responses depending on whether an individual enters 1 through 4 on a telephone keypad. Set input to the number that was input, and give the following text outputs depending on the number pressed:\n",
    "```\n",
    " 0 = enter your party's extension now\n",
    " 1 = connecting to billing\n",
    " 2 = connecting to customer service\n",
    " 3 = para escuchar las opciones en español\n",
    " any other input, including text = connecting you to an operator\n",
    " ```"
   ]
  },
  {
   "cell_type": "code",
   "execution_count": 65,
   "metadata": {},
   "outputs": [
    {
     "name": "stdout",
     "output_type": "stream",
     "text": [
      "connecting you to billing\n"
     ]
    }
   ],
   "source": [
    "# Exercise 1\n",
    "# Enter your input in the line below and then write code to interpret that input\n",
    "\n",
    "x = 1\n",
    "if x == 0:\n",
    "    print('enter your party''s extension now')\n",
    "\n",
    "elif x == 1:\n",
    "    print ('connecting you to billing')\n",
    "elif x == 2:\n",
    "    print('connecting you to customer service')\n",
    "elif x == 3:\n",
    "    print('para escuchar las opciones en español')\n",
    "else: \n",
    "    print('connecting you to an operator')\n",
    "\n"
   ]
  },
  {
   "cell_type": "markdown",
   "metadata": {},
   "source": [
    "### Exercise 2\n",
    "\n",
    "Write code that will validate a proposed username for length. The minimum length of a username is 8 characters. Write a program that will send one message if the user_name has an acceptable length and another message if the username is too short.  "
   ]
  },
  {
   "cell_type": "code",
   "execution_count": 82,
   "metadata": {},
   "outputs": [
    {
     "name": "stdout",
     "output_type": "stream",
     "text": [
      "username accepted, you're all set!\n"
     ]
    }
   ],
   "source": [
    "# Exercise 2\n",
    "# Modify the password as needed to test that your code behaves as expected\n",
    "\n",
    "user_name = 'abc123'\n",
    "\n",
    "len(user_name)\n",
    "\n",
    "if len(user_name) < 6:\n",
    "    print('invalid username, too short!')\n",
    "elif len(user_name) > 11:\n",
    "    print('invalid username, too long!')\n",
    "else: \n",
    "    print(\"username accepted, you're all set!\")\n",
    "\n",
    "\n",
    "#if user name is too short then you need an error message use the len function \n",
    "## your code here\n",
    "#"
   ]
  },
  {
   "cell_type": "markdown",
   "metadata": {},
   "source": [
    "\n",
    "![Alt text that will appear on mouseover](images/TJU_logo_dummy_image.png \"Dummy image\")\n"
   ]
  },
  {
   "cell_type": "code",
   "execution_count": null,
   "metadata": {},
   "outputs": [],
   "source": []
  }
 ],
 "metadata": {
  "kernelspec": {
   "display_name": "Python 3 (ipykernel)",
   "language": "python",
   "name": "python3"
  },
  "language_info": {
   "codemirror_mode": {
    "name": "ipython",
    "version": 3
   },
   "file_extension": ".py",
   "mimetype": "text/x-python",
   "name": "python",
   "nbconvert_exporter": "python",
   "pygments_lexer": "ipython3",
   "version": "3.9.7"
  }
 },
 "nbformat": 4,
 "nbformat_minor": 2
}
