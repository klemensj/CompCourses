{
 "cells": [
  {
   "cell_type": "markdown",
   "metadata": {},
   "source": [
    "<div align =\"right\">Thomas Jefferson University **COMP 101**: Coding for beginners</div>"
   ]
  },
  {
   "cell_type": "markdown",
   "metadata": {},
   "source": [
    "### Name: Zinnia Ruch\n",
    "\n",
    "First things first. Let's put our name on our paper! Double click the text you are reading right now. The text should have changed to a different font and you should see that you are in a grey square (known as a *cell* of a jupyter notebook). Add your name instead of the underline, then go to the toolbar at the top of the notebook and click run while this cell is still selected (outlined in green). \n",
    "\n",
    "Did you do it? The cell should have returned to nicely formatted text that now contains your name. Going forward, add your name to your notebooks by doing this. "
   ]
  },
  {
   "cell_type": "markdown",
   "metadata": {
    "deletable": false,
    "editable": false
   },
   "source": [
    "# Assignment 1 Intro to Jupyter Notebooks\n",
    "\n",
    "You will be submitting your assignments as jupyter notebooks. This document is a jupyter notebook. So if you are seeing this you have already done some things right!\n",
    "\n",
    "Notebooks allow us to combine text, images, and properly formatted code examples in the same document. Here's a code example:\n",
    "```\n",
    "for i in range(10):\n",
    "    print(\"All work and no play makes Jack a dull boy.\")\n",
    "```\n",
    "The real power of notebooks, however, is that we can include *live* code along with the *ouput* of that code inside our notebook.\n",
    "\n",
    "Select the cell below, which contains the same code as our example, and click the `Run` button in the toolbar above. "
   ]
  },
  {
   "cell_type": "code",
   "execution_count": 1,
   "metadata": {
    "deletable": false,
    "editable": false
   },
   "outputs": [
    {
     "name": "stdout",
     "output_type": "stream",
     "text": [
      "All work and no play makes Jack a dull boy.\n",
      "All work and no play makes Jack a dull boy.\n",
      "All work and no play makes Jack a dull boy.\n",
      "All work and no play makes Jack a dull boy.\n",
      "All work and no play makes Jack a dull boy.\n",
      "All work and no play makes Jack a dull boy.\n",
      "All work and no play makes Jack a dull boy.\n",
      "All work and no play makes Jack a dull boy.\n",
      "All work and no play makes Jack a dull boy.\n",
      "All work and no play makes Jack a dull boy.\n"
     ]
    }
   ],
   "source": [
    "for i in range(10):\n",
    "    print(\"All work and no play makes Jack a dull boy.\")"
   ]
  },
  {
   "cell_type": "markdown",
   "metadata": {
    "deletable": false,
    "editable": false
   },
   "source": [
    "See how that works?\n",
    "\n",
    "Since we can run code within these notebooks, we can use them to assign you coding tasks. For example the code below is broken and will not run in python. Make sure the box below is selected and click the Run button again and you will get an error message. \n",
    "\n",
    "Now double click on the code box below and insert quotes so that the code looks like this\n",
    "```\n",
    "print('Hello Jupyter notebooks!')\n",
    "```\n",
    "Click the Run button once you finished. Do you see the correct output?"
   ]
  },
  {
   "cell_type": "code",
   "execution_count": 4,
   "metadata": {
    "deletable": false
   },
   "outputs": [
    {
     "name": "stdout",
     "output_type": "stream",
     "text": [
      "Hello Jupyter notebooks!\n"
     ]
    }
   ],
   "source": [
    "print('Hello Jupyter notebooks!')"
   ]
  },
  {
   "cell_type": "markdown",
   "metadata": {
    "deletable": false,
    "editable": false
   },
   "source": [
    "We can use notebooks to give you assignments and check your work. In the example below, we might have asked you to write a function to compare a list of items and return the largest value in the list. For this example, you can just delete the # symbols (making sure to not otherwise change the indentation of the code!), which will \"complete\" the function, then click the `Run` button above"
   ]
  },
  {
   "cell_type": "code",
   "execution_count": 9,
   "metadata": {
    "deletable": false
   },
   "outputs": [],
   "source": [
    "def largest_item(items):\n",
    "    largest = []\n",
    "    largest = max(items)\n",
    "    return largest"
   ]
  },
  {
   "cell_type": "markdown",
   "metadata": {
    "deletable": false,
    "editable": false
   },
   "source": [
    "In a real example we wouldn't have given you the body code of the function, you would have had to come up with that on your own. \n",
    "\n",
    "Furthermore, nothing happened when you ran the code, because all your code did was define a function, which is something we won't be talking about for several weeks. So how do you know if your function is correct? \n",
    "\n",
    "Python  gives us a way to check our work. The code below will test your function by using data for which we know the correct answer and asking if the function gives us that answer. These statements are called *asserts*. If your function gives an answer other than what has been *asserted* to be correct, the code will return an error. If there is no error, the code will continue to run, and in this case will give us the congratulations message. Go ahead and run the code block below."
   ]
  },
  {
   "cell_type": "code",
   "execution_count": 10,
   "metadata": {
    "deletable": false,
    "editable": false
   },
   "outputs": [
    {
     "name": "stdout",
     "output_type": "stream",
     "text": [
      "Congratulations, your function worked!\n"
     ]
    }
   ],
   "source": [
    "test_data_1 = [1,2,3,4,18,6,7]\n",
    "test_data_2 = [25,19,20,21,22,23,24]\n",
    "assert largest_item(test_data_1) == 18\n",
    "assert largest_item(test_data_2) == 25\n",
    "print(\"Congratulations, your function worked!\")"
   ]
  },
  {
   "cell_type": "markdown",
   "metadata": {
    "deletable": false,
    "editable": false
   },
   "source": [
    "What the code above did was generate two lists (the items inside the square brackets [ ]) and then *test* our function against what we clearly *know* to be the largest item in the list. If our function had not worked, an error message would have been generated. Since the function did give us a good result for this data we instead got a congratulatory message.  \n",
    "\n",
    "Another thing jupyter notebooks can do is display links or images, so if, for example, we wanted to talk about <a href='https://en.wikipedia.org/wiki/Ada_Lovelace'>Ada Lovelace</a>, who is widely considered to be the first computer programmer, we could easily add those kinds of resources as well.\n",
    "\n",
    "<img src=https://upload.wikimedia.org/wikipedia/commons/0/0b/Ada_Byron_daguerreotype_by_Antoine_Claudet_1843_or_1850.jpg alt = \"Ada Lovelace\" width=\"250\">\n",
    "\n",
    "\n",
    "Another handy thing about jupyter notebooks is that they automatically save your work. To force a save before closing down a window in which you are working you can hit the save icon in the toolbar. The notebook will also save the *state* of your work. Which means we can see if a code block was actually run or not in your version of the assignment. \n",
    "\n",
    "To submit work, you can save and close out the document from within the jupyter notebook application by saving and then closing the tab. To stop the notebook from running - which you should do once you are done working on it - you can go to the jupyter notebook filelist on the browser tab that contains the notebook you opened, select the checkbox next to its name, and click `Shutdown`. This should change the file icon from green to gray or blue. To submit, navigate to the file in your operating system and change the name by appending *_Yourlastname* to the end of the file (For example, for me my file for this assignment would be called `1_Intro_to_Jupyter_notebooks_Klemens.ipynb`. Then enter canvas and simply upload that file to complete the assignment. \n",
    "\n",
    "If you have any questions about the content of this assignment, make sure to post them in the discussion boards. And if you get stuck, don't worry, we can work it out during the first class session. But give it a try!"
   ]
  }
 ],
 "metadata": {
  "kernelspec": {
   "display_name": "Python 3",
   "language": "python",
   "name": "python3"
  },
  "language_info": {
   "codemirror_mode": {
    "name": "ipython",
    "version": 3
   },
   "file_extension": ".py",
   "mimetype": "text/x-python",
   "name": "python",
   "nbconvert_exporter": "python",
   "pygments_lexer": "ipython3",
   "version": "3.8.3"
  }
 },
 "nbformat": 4,
 "nbformat_minor": 2
}
