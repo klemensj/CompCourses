{
 "cells": [
  {
   "cell_type": "markdown",
   "metadata": {
    "deletable": false,
    "editable": false
   },
   "source": [
    "<div align =\"right\">Thomas Jefferson University <b>COMP 101</b>: Intro to Coding</div>"
   ]
  },
  {
   "cell_type": "markdown",
   "metadata": {
    "deletable": false,
    "editable": false
   },
   "source": [
    "# The Overall Structure of Python Code\n",
    "\n",
    "In this notebook we are going to take a quick look at what makes python code 'code'.\n",
    "\n",
    "The most basic unit of python code is the line. Lines correspond to individual statements in the python language. In practice a line is simply text that ends with an 'end of line' marker. End of line markers are usually invisible, but correspond to places where you have pressed the return or enter key while typing.  \n",
    "\n",
    "```\n",
    "print(\"All work and no play makes Jack a dull boy.\")\n",
    "print(90)\n",
    "print(\"All work and no play makes Jack a dull boy. All work and no play makes Jack a dull boy. All work and no play makes Jack a dull boy. All work and no play makes Jack a dull boy. All work and no play makes Jack a dull boy. All work and no play makes Jack a dull boy.\")\n",
    "```\n",
    "### Question ### \n",
    "How many lines of code are represented in the example above?"
   ]
  },
  {
   "cell_type": "markdown",
   "metadata": {},
   "source": [
    "Double click on this text to add your answer here: \n",
    "- There are 3 lines of code \n",
    "- \n",
    "-"
   ]
  },
  {
   "cell_type": "markdown",
   "metadata": {
    "deletable": false,
    "editable": false
   },
   "source": [
    "In the code example above we have introduced the `print` function. Printing is a very simple process, we will use printing in this worksheet so that we have something we can work with even though we don't know much about python yet. "
   ]
  },
  {
   "cell_type": "code",
   "execution_count": 1,
   "metadata": {
    "deletable": false,
    "editable": false
   },
   "outputs": [
    {
     "name": "stdout",
     "output_type": "stream",
     "text": [
      "All work and no play makes Jack a dull boy.\n",
      "90\n",
      "90\n",
      "90\n",
      "90\n",
      "All work and no play makes Jack a dull boy. All work and no play makes Jack a dull boy. All work and no play makes Jack a dull boy. All work and no play makes Jack a dull boy. All work and no play makes Jack a dull boy. All work and no play makes Jack a dull boy.\n"
     ]
    }
   ],
   "source": [
    "##Live Code Example, highlight this cell and press run in the toolbar\n",
    "\n",
    "print(\"All work and no play makes Jack a dull boy.\")\n",
    "print(90)\n",
    "print('90')\n",
    "print(\"90\")\n",
    "print(15*6)\n",
    "print(\"All work and no play makes Jack a dull boy. All work and no play makes Jack a dull boy. All work and no play makes Jack a dull boy. All work and no play makes Jack a dull boy. All work and no play makes Jack a dull boy. All work and no play makes Jack a dull boy.\")"
   ]
  },
  {
   "cell_type": "markdown",
   "metadata": {
    "deletable": false,
    "editable": false
   },
   "source": [
    "The `print` function works by creating an output and writing that output to either the Terminal/Command Prompt, or , in a Jupyter notebook, writes the output immediately below the code that we just ran. You'll note that you can't edit that text. You'll also note that we created four lines of identical output.\n",
    "\n",
    "### Question ### \n",
    "Based on the results of the code we just ran, what can we say about how the `print` function must work?"
   ]
  },
  {
   "cell_type": "markdown",
   "metadata": {},
   "source": [
    "Double click on this text to add your answer here:\n",
    "\n",
    "- You tell the program that it needs to print, but then for every specification that you want it to print, you must specify by adding the print function again.\n",
    "- Tell it what to print and how to print it. \n",
    "- Always true: print(text you want to print) its a function. The quotes are also there to make it work bc its text and not a number, numbers dont need quotes. there is no difference between single and double quotes, python recognizes both the same.\n",
    "-functions can go directly into a print command and will spit out a number "
   ]
  },
  {
   "cell_type": "markdown",
   "metadata": {
    "deletable": false,
    "editable": false
   },
   "source": [
    "## Whitespace\n",
    "Another aspect of python code that is important is whitespace. Sometimes, individual lines of code need to be organized into code blocks. A code block is determined by a set of lines that are identically indented. The standard identation in python is 4 presses of the space bar. Once you have established an indent, many text editors and jupyter notebooks will automatically indent the next line for you. Run the next code block, which contains a structure known as a `for` loop. Don't worry about how that works, we will come back to it in much greater detail, the important point is that two print commands that are being looped need to be part of the same code block. "
   ]
  },
  {
   "cell_type": "code",
   "execution_count": 2,
   "metadata": {
    "deletable": false,
    "editable": false
   },
   "outputs": [
    {
     "name": "stdout",
     "output_type": "stream",
     "text": [
      "All work and no play ...\n",
      "... makes Jack a dull boy.\n",
      "All work and no play ...\n",
      "... makes Jack a dull boy.\n",
      "All work and no play ...\n",
      "... makes Jack a dull boy.\n",
      "All work and no play ...\n",
      "... makes Jack a dull boy.\n",
      "All work and no play ...\n",
      "... makes Jack a dull boy.\n"
     ]
    }
   ],
   "source": [
    "for i in range(5):\n",
    "    print(\"All work and no play ...\")\n",
    "    print(\"... makes Jack a dull boy.\")"
   ]
  },
  {
   "cell_type": "code",
   "execution_count": 3,
   "metadata": {
    "deletable": false,
    "editable": false
   },
   "outputs": [
    {
     "name": "stdout",
     "output_type": "stream",
     "text": [
      "All work and no play ...\n",
      "... makes Jack a dull boy.\n",
      "All work and no play ...\n",
      "... makes Jack a dull boy.\n",
      "All work and no play ...\n",
      "... makes Jack a dull boy.\n",
      "All work and no play ...\n",
      "... makes Jack a dull boy.\n",
      "All work and no play ...\n",
      "... makes Jack a dull boy.\n"
     ]
    }
   ],
   "source": [
    "#Run this example as well. this is ugly, but should function. \n",
    "\n",
    "for i in range(5):\n",
    "                     print(\"All work and no play ...\")\n",
    "                     print(\"... makes Jack a dull boy.\")"
   ]
  },
  {
   "cell_type": "code",
   "execution_count": 5,
   "metadata": {
    "deletable": false,
    "editable": false
   },
   "outputs": [
    {
     "ename": "IndentationError",
     "evalue": "unindent does not match any outer indentation level (<tokenize>, line 5)",
     "output_type": "error",
     "traceback": [
      "\u001b[0;36m  File \u001b[0;32m\"<tokenize>\"\u001b[0;36m, line \u001b[0;32m5\u001b[0m\n\u001b[0;31m    print(\"... makes Jack a dull boy.\")\u001b[0m\n\u001b[0m    ^\u001b[0m\n\u001b[0;31mIndentationError\u001b[0m\u001b[0;31m:\u001b[0m unindent does not match any outer indentation level\n"
     ]
    }
   ],
   "source": [
    "#Now try this example\n",
    "\n",
    "for i in range(5):\n",
    "    print(\"All work and no play ...\")\n",
    "   print(\"... makes Jack a dull boy.\")"
   ]
  },
  {
   "cell_type": "code",
   "execution_count": 6,
   "metadata": {
    "deletable": false,
    "editable": false
   },
   "outputs": [
    {
     "name": "stdout",
     "output_type": "stream",
     "text": [
      "All work and no play ...\n",
      "All work and no play ...\n",
      "All work and no play ...\n",
      "All work and no play ...\n",
      "All work and no play ...\n",
      "... makes Jack a dull boy.\n"
     ]
    }
   ],
   "source": [
    "#Finally, try this example:\n",
    "\n",
    "for i in range(5):\n",
    "    print(\"All work and no play ...\")\n",
    "print(\"... makes Jack a dull boy.\")"
   ]
  },
  {
   "cell_type": "markdown",
   "metadata": {
    "deletable": false,
    "editable": false
   },
   "source": [
    "### Question ### \n",
    "Can you explain the results we just saw across the four different examples?"
   ]
  },
  {
   "cell_type": "markdown",
   "metadata": {},
   "source": [
    "Double click on this text to add your answer here:\n",
    "\n",
    "- The indentation needs to be perfectly spaced throughout in order for the program to run the code how you want it to.\n",
    "- the one examples shows code that is not in-line enough for python to recognize it as a single code block so the code gets and error message.\n",
    "- In the next example, the code is a little farther off from the code block, but still in line with the original print command so the program prints the first line 5 times because it is within the range. It only prints the second line once because it is not in the specified range, but it is still within the range of the original print command.\n",
    "-"
   ]
  },
  {
   "cell_type": "markdown",
   "metadata": {
    "deletable": false,
    "editable": false
   },
   "source": [
    "## Comments\n",
    "\n",
    "An important aspect of writing code is making sure that code you wrote can be used in the future. This may be a third-party user, a collaborator who is editing (debugging) your code, or even you yourself coming back and revising and extending your project at some point in the future. As programs get larger using comments to document code becomes very important for interpreting and predicting what a particular program will do. \n",
    "\n",
    "Within a python script, or in a Code cell of a Jupyter notebook, we can use the number sign `#` (aka hashtag) to tell python to ignore certain bits of text that we designate as comments. Within a line of code, python will interpret anything that occurs after a `#` as a comment and ignore it. \n",
    "\n",
    "```\n",
    "# This can happen at the very start of a line\n",
    "## or can even extend for multiple lines\n",
    "\n",
    "print('text to print')    # maybe here I give a reason for why I am printing this text\n",
    "\n",
    "#print('other text to print')   # maybe here I'm not sure about whether I want to include \n",
    "                                # this line in my program. Putting a # in front of this line\n",
    "                                # means I can keep the code in my program in case I decide I \n",
    "                                # do want to use it. If I delete the # it will go back to\n",
    "                                # being treated as code. This is called 'commenting out' some\n",
    "                                # code, and it's important in testing programs. \n",
    "```\n",
    "\n"
   ]
  },
  {
   "cell_type": "markdown",
   "metadata": {
    "deletable": false,
    "editable": false
   },
   "source": [
    "## A few more notes about the print function\n",
    "\n",
    "There are a few more things that we can do with the print function that might be useful to us at this point. \n",
    "\n",
    "One neat trick with the print function is that we can use the + symbol on two different pieces of text, like so:\n",
    "```\n",
    "print('All work and no play' + ' makes Jack a dull boy.')\n",
    "```\n",
    "If we need to control the way text appears, there are commands that can be used within the body of our text to modify the output. We may, for example, want to break a longer text into several lines where we can control the display width. The `\\n` command inserted within our text will cause the print function to insert a line break.  \n",
    "```\n",
    "print('We hold these truths to be self-evident,\\nthat all men are created equal,\\nthat they are endowed by their Creator \\nwith certain unalienable Rights, \\nthat among these are Life, Liberty and \\nthe pursuit of Happiness.')\n",
    "```"
   ]
  },
  {
   "cell_type": "code",
   "execution_count": 7,
   "metadata": {
    "deletable": false,
    "editable": false
   },
   "outputs": [
    {
     "name": "stdout",
     "output_type": "stream",
     "text": [
      "All work and no play makes Jack a dull boy.\n",
      "\n",
      "We hold these truths to be self-evident,\n",
      "that all men are created equal,\n",
      "that they are endowed by their Creator \n",
      "with certain unalienable Rights, \n",
      "that among these are Life, Liberty and \n",
      "the pursuit of Happiness.\n"
     ]
    }
   ],
   "source": [
    "#The examples above as 'live code', run to see output\n",
    "\n",
    "print('All work and no play' + ' makes Jack a dull boy.')\n",
    "print()\n",
    "print('We hold these truths to be self-evident,\\nthat all men are created equal,\\nthat they are endowed by their Creator \\nwith certain unalienable Rights, \\nthat among these are Life, Liberty and \\nthe pursuit of Happiness.')"
   ]
  },
  {
   "cell_type": "markdown",
   "metadata": {
    "deletable": false,
    "editable": false
   },
   "source": [
    "## Exercises\n",
    "For each of the Code windows below, follow the instructions in the comments at the top of the window. Make sure your code runs without generating an error. "
   ]
  },
  {
   "cell_type": "code",
   "execution_count": 8,
   "metadata": {
    "deletable": false
   },
   "outputs": [
    {
     "name": "stdout",
     "output_type": "stream",
     "text": [
      "My name is Shannon Reilly\n",
      "My major is Biological Sciences\n",
      "Philosophies of the Good Life is my earliest class\n",
      "My favorite TV show is Game of Thrones\n"
     ]
    }
   ],
   "source": [
    "# Exercise 1\n",
    "## Write a four line program that uses the print function \n",
    "## to print your full name, your major, the name of your \n",
    "## earliest class, and the name of your favorite TV show\n",
    "## as separate lines of output\n",
    "\n",
    "print(\"My name is Shannon Reilly\")\n",
    "print(\"My major is Biological Sciences\")\n",
    "print(\"Philosophies of the Good Life is my earliest class\")\n",
    "print(\"My favorite TV show is Game of Thrones\")\n",
    "\n"
   ]
  },
  {
   "cell_type": "code",
   "execution_count": 9,
   "metadata": {
    "deletable": false
   },
   "outputs": [
    {
     "name": "stdout",
     "output_type": "stream",
     "text": [
      "Why did the chicken cross the road?\n",
      "To get to the other side.\n",
      "Why did the chicken cross the road?\n",
      "To get to the other side.\n",
      "Why did the chicken cross the road?\n",
      "To get to the other side.\n"
     ]
    }
   ],
   "source": [
    "# Exercise 2\n",
    "## Fix the code below so that it gives the result of printing \n",
    "## the riddle and its answer three times \n",
    "\n",
    "for i in range(3):\n",
    "    print(\"Why did the chicken cross the road?\")\n",
    "    print(\"To get to the other side.\")\n"
   ]
  },
  {
   "cell_type": "code",
   "execution_count": 13,
   "metadata": {
    "deletable": false
   },
   "outputs": [
    {
     "name": "stdout",
     "output_type": "stream",
     "text": [
      "Why did the chicken cross the road?\n",
      "To get to the other side.\n"
     ]
    }
   ],
   "source": [
    "# Exercise 3\n",
    "## Fix the code below by creating comments\n",
    "\n",
    "#Program to output a chicken joke follows\n",
    "\n",
    "print(\"Why did the chicken cross the road?\") #this is the setup \n",
    "print(\"To get to the other side.\") #this is the punchline"
   ]
  },
  {
   "cell_type": "markdown",
   "metadata": {
    "deletable": false,
    "editable": false
   },
   "source": [
    "![Alt text that will appear on mouseover](images/TJU_logo_dummy_image.png \"Dummy image\")\n",
    "\n"
   ]
  }
 ],
 "metadata": {
  "kernelspec": {
   "display_name": "Python 3 (ipykernel)",
   "language": "python",
   "name": "python3"
  },
  "language_info": {
   "codemirror_mode": {
    "name": "ipython",
    "version": 3
   },
   "file_extension": ".py",
   "mimetype": "text/x-python",
   "name": "python",
   "nbconvert_exporter": "python",
   "pygments_lexer": "ipython3",
   "version": "3.9.7"
  }
 },
 "nbformat": 4,
 "nbformat_minor": 2
}
