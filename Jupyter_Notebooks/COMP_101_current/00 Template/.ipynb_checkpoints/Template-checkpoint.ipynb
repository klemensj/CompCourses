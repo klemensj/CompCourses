{
 "cells": [
  {
   "cell_type": "markdown",
   "metadata": {},
   "source": [
    "<div align =\"right\">Thomas Jefferson University <b>COMP 101</b>: Intro to Coding</div>"
   ]
  },
  {
   "cell_type": "markdown",
   "metadata": {},
   "source": [
    "# Assignment or Activity Title\n",
    "\n",
    "The quick gray fox jumped over the lazy brown dog. All work and no play makes Jack a dull boy. The quick gray fox jumped over the lazy brown dog. The quick gray fox jumped over the lazy brown dog. All work and no play makes Jack a dull boy. All work and no play makes Jack a dull boy. Thequickgrayfoxjumpedoverthelazybrowndog.The quick gray fox jumped over the lazy brown dog. The quick gray fox jumped over the lazy brown dog. ThequickgrayfoxmakesJackadullboy. "
   ]
  },
  {
   "cell_type": "markdown",
   "metadata": {},
   "source": [
    "Code example:\n",
    "\n",
    "```\n",
    "for i in range(10):\n",
    "    print(\"All work and no play makes Jack a dull boy.\")\n",
    "```\n",
    "\n",
    "*Live* code:"
   ]
  },
  {
   "cell_type": "code",
   "execution_count": null,
   "metadata": {},
   "outputs": [],
   "source": [
    "for i in range(10):\n",
    "    print(\"All work and no play makes Jack a dull boy.\")"
   ]
  },
  {
   "cell_type": "markdown",
   "metadata": {},
   "source": [
    "To insert an image:\n",
    "![Alt text that will appear on mouseover](images/TJU_logo_dummy_image.png \"Dummy image\")\n",
    "\n",
    "To work with external data:"
   ]
  },
  {
   "cell_type": "code",
   "execution_count": 5,
   "metadata": {},
   "outputs": [
    {
     "data": {
      "text/html": [
       "<div>\n",
       "<style scoped>\n",
       "    .dataframe tbody tr th:only-of-type {\n",
       "        vertical-align: middle;\n",
       "    }\n",
       "\n",
       "    .dataframe tbody tr th {\n",
       "        vertical-align: top;\n",
       "    }\n",
       "\n",
       "    .dataframe thead th {\n",
       "        text-align: right;\n",
       "    }\n",
       "</style>\n",
       "<table border=\"1\" class=\"dataframe\">\n",
       "  <thead>\n",
       "    <tr style=\"text-align: right;\">\n",
       "      <th></th>\n",
       "      <th>Country</th>\n",
       "      <th>Population</th>\n",
       "    </tr>\n",
       "  </thead>\n",
       "  <tbody>\n",
       "    <tr>\n",
       "      <th>0</th>\n",
       "      <td>China</td>\n",
       "      <td>1420062022</td>\n",
       "    </tr>\n",
       "    <tr>\n",
       "      <th>1</th>\n",
       "      <td>India</td>\n",
       "      <td>1368737513</td>\n",
       "    </tr>\n",
       "    <tr>\n",
       "      <th>2</th>\n",
       "      <td>USA</td>\n",
       "      <td>329093110</td>\n",
       "    </tr>\n",
       "    <tr>\n",
       "      <th>3</th>\n",
       "      <td>Indonesia</td>\n",
       "      <td>269536482</td>\n",
       "    </tr>\n",
       "    <tr>\n",
       "      <th>4</th>\n",
       "      <td>Brazil</td>\n",
       "      <td>212392717</td>\n",
       "    </tr>\n",
       "    <tr>\n",
       "      <th>5</th>\n",
       "      <td>Pakistan</td>\n",
       "      <td>204596442</td>\n",
       "    </tr>\n",
       "    <tr>\n",
       "      <th>6</th>\n",
       "      <td>Nigeria</td>\n",
       "      <td>200962417</td>\n",
       "    </tr>\n",
       "    <tr>\n",
       "      <th>7</th>\n",
       "      <td>Bangladesh</td>\n",
       "      <td>168065920</td>\n",
       "    </tr>\n",
       "    <tr>\n",
       "      <th>8</th>\n",
       "      <td>Russia</td>\n",
       "      <td>143895551</td>\n",
       "    </tr>\n",
       "    <tr>\n",
       "      <th>9</th>\n",
       "      <td>Mexico</td>\n",
       "      <td>132328035</td>\n",
       "    </tr>\n",
       "    <tr>\n",
       "      <th>10</th>\n",
       "      <td>Japan</td>\n",
       "      <td>126854745</td>\n",
       "    </tr>\n",
       "  </tbody>\n",
       "</table>\n",
       "</div>"
      ],
      "text/plain": [
       "       Country   Population \n",
       "0        China    1420062022\n",
       "1        India    1368737513\n",
       "2          USA     329093110\n",
       "3    Indonesia     269536482\n",
       "4       Brazil     212392717\n",
       "5     Pakistan     204596442\n",
       "6      Nigeria     200962417\n",
       "7   Bangladesh     168065920\n",
       "8       Russia     143895551\n",
       "9       Mexico     132328035\n",
       "10       Japan     126854745"
      ]
     },
     "execution_count": 5,
     "metadata": {},
     "output_type": "execute_result"
    }
   ],
   "source": [
    "import pandas as pd\n",
    "sample_data = pd.read_csv('data/populations.csv')\n",
    "sample_data"
   ]
  },
  {
   "cell_type": "markdown",
   "metadata": {},
   "source": [
    "To use an assert to test a fuction:"
   ]
  },
  {
   "cell_type": "code",
   "execution_count": 6,
   "metadata": {},
   "outputs": [
    {
     "name": "stdout",
     "output_type": "stream",
     "text": [
      "Congratulations, your function worked!\n"
     ]
    }
   ],
   "source": [
    "#define the function\n",
    "\n",
    "def largest_item(items):\n",
    "    largest = []\n",
    "    largest = max(items)\n",
    "    return largest\n",
    "\n",
    "#run an assert using test data of known outcome\n",
    "test_data = [1,2,3,4,18,6,7]\n",
    "assert largest_item(test_data) == 18, \"Description of error this assert is testing\"\n",
    "\n",
    "#output if assert resolves to true\n",
    "print(\"Congratulations, your function worked!\")"
   ]
  },
  {
   "cell_type": "markdown",
   "metadata": {},
   "source": [
    "In order to freeze certain cells go to `View > Cell Toolbar > Edit Metadata`\n",
    "\n",
    "For cells that you wish to lock (Code or Markdown) replace the metadata with the code below:\n",
    "\n",
    "```\n",
    "{\n",
    "  \"trusted\": true,\n",
    "  \"editable\": false,\n",
    "  \"deletable\": false\n",
    "}\n",
    "```\n",
    "For code cells that you want students to be able to edit use the following code:\n",
    "\n",
    "```\n",
    "{\n",
    "  \"trusted\": true,\n",
    "  \"editable\": true,\n",
    "  \"deletable\": false\n",
    "}\n",
    "```"
   ]
  }
 ],
 "metadata": {
  "kernelspec": {
   "display_name": "Python 3",
   "language": "python",
   "name": "python3"
  },
  "language_info": {
   "codemirror_mode": {
    "name": "ipython",
    "version": 3
   },
   "file_extension": ".py",
   "mimetype": "text/x-python",
   "name": "python",
   "nbconvert_exporter": "python",
   "pygments_lexer": "ipython3",
   "version": "3.8.8"
  }
 },
 "nbformat": 4,
 "nbformat_minor": 2
}
