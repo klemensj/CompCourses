{
 "cells": [
  {
   "cell_type": "markdown",
   "metadata": {},
   "source": [
    "<div align =\"right\">Thomas Jefferson University <b>COMP 101</b>: Intro to Coding</div>"
   ]
  },
  {
   "cell_type": "markdown",
   "metadata": {},
   "source": [
    "# Programming with Functions\n",
    "\n",
    "An important way to organize code and to make it reusable is to organize it into structures known as **functions**. Most modern programming languages are *functional* languages, meaning that they allow the programmer to write their own code as functions. Functions are independent blocks of code that can be called from anywhere within a program. Functions are also a powerful way to implement **control flow** within a program.\n",
    "\n",
    "Thinking about functions does require a slightly different approach. We will start with using functions and then move on to defining our own functions. \n",
    "\n",
    "\n",
    "## The logic of functions\n",
    "\n",
    "We have used several functions already. `print()`, `input()`, and `len()` are all examples of what are known as **built-in functions** in python. (You can see a complete list of python's built-in functions <a href='https://docs.python.org/3/library/functions.html'>here</a>.) \n",
    "\n",
    "Let's take an easy one, the `len()` function. Take a look at the code for a second, then run the code cell below. "
   ]
  },
  {
   "cell_type": "code",
   "execution_count": null,
   "metadata": {},
   "outputs": [],
   "source": [
    "my_list = [5,2,4,1,3]\n",
    "\n",
    "len(my_list)"
   ]
  },
  {
   "cell_type": "markdown",
   "metadata": {},
   "source": [
    "This isn't new, but stop and take a moment to think through what is happening here. \n",
    "\n",
    "First there is a function that has been **defined** using the name `len`. \n",
    "\n",
    "We use the parentheses following the function to provide information as one or more **arguments**, in this case the list that we want to know the length of. \n",
    "\n",
    "Finally, the function **returns** something to us, in this case the length of the object that has been passed to the function. \n",
    "\n",
    "## Comparing the functional approach \n",
    "\n",
    "I'm going to give you two extensive code examples here. Both will do the same thing, but one will employ a functional approach while the other will not. \n",
    "\n"
   ]
  },
  {
   "cell_type": "code",
   "execution_count": null,
   "metadata": {},
   "outputs": [],
   "source": [
    "# Program to calculate the surface area and volume of a rectangular box\n",
    "## of dimensions x,y,z\n",
    "\n",
    "x = float(input(\"Width of box: \"))\n",
    "y = float(input(\"Height of box: \"))\n",
    "z = float(input(\"Depth of box: \"))\n",
    "\n",
    "volume = x*y*z\n",
    "surface_area = 2*x*y + 2*y*z + 2*x*z\n",
    "\n",
    "print('The volume of the box is ', volume)\n",
    "print('The suface area of the box is ', surface_area)\n",
    "\n"
   ]
  },
  {
   "cell_type": "code",
   "execution_count": 4,
   "metadata": {},
   "outputs": [
    {
     "name": "stdout",
     "output_type": "stream",
     "text": [
      "Width of box: 2\n",
      "Height of box: 3\n",
      "Depth of box: 4\n",
      "The volume of the box is  24.0\n",
      "The suface area of the box is  52.0\n"
     ]
    }
   ],
   "source": [
    "# Program to calculate the surface area and volume of a rectangular box\n",
    "## of dimensions x,y,z USING FUNCTIONS\n",
    "\n",
    "######FUNCTIONS\n",
    "\n",
    "def volume_calc(a,b,c):\n",
    "    volume = a*b*c\n",
    "    return volume\n",
    "\n",
    "def surface_area_calc(a,b,c):\n",
    "    surface_area = 2*a*b + 2*b*c + 2*a*c\n",
    "    return surface_area\n",
    "\n",
    "####### MAIN BODY\n",
    "\n",
    "x = float(input(\"Width of box: \"))\n",
    "y = float(input(\"Height of box: \"))\n",
    "z = float(input(\"Depth of box: \"))\n",
    "\n",
    "print('The volume of the box is ', volume_calc(x,y,z))\n",
    "print('The suface area of the box is ', surface_area_calc(x,y,z))\n",
    "\n"
   ]
  },
  {
   "cell_type": "markdown",
   "metadata": {},
   "source": [
    "### Question\n",
    "Describe in your own words what you think the blocks of code associated with the `def` functions are doing in this example?\n",
    "\n",
    "What is the relationship between `a,b,c` and `x,y,z`?"
   ]
  },
  {
   "cell_type": "markdown",
   "metadata": {},
   "source": [
    "Double click on this text to add your answer here:\n",
    "\n",
    "- \n",
    "- \n",
    "- \n",
    "-"
   ]
  },
  {
   "cell_type": "markdown",
   "metadata": {},
   "source": [
    "Let's define another function to make the connection to control flow more explicit. "
   ]
  },
  {
   "cell_type": "code",
   "execution_count": 5,
   "metadata": {},
   "outputs": [],
   "source": [
    "# Run this code to define this function\n",
    "## Nothing should happen\n",
    "\n",
    "def get_sides():\n",
    "    x = float(input(\"Width of box: \"))\n",
    "    y = float(input(\"Height of box: \"))\n",
    "    z = float(input(\"Depth of box: \"))\n",
    "    return x,y,z                                 #this will return a tuple containing the three values"
   ]
  },
  {
   "cell_type": "markdown",
   "metadata": {},
   "source": [
    "Nothing happened after running that, but the function is now defined within the context of this notebook and we can call it again. Now look at the example below:"
   ]
  },
  {
   "cell_type": "code",
   "execution_count": 6,
   "metadata": {},
   "outputs": [
    {
     "name": "stdout",
     "output_type": "stream",
     "text": [
      "Box1 dimensions\n",
      "Width of box: 2\n",
      "Height of box: 3\n",
      "Depth of box: 4\n",
      "The volume of the box is  24.0\n",
      "\n",
      "Box2 dimensions\n",
      "Width of box: 5\n",
      "Height of box: 6\n",
      "Depth of box: 7\n",
      "The volume of the box is  210.0\n"
     ]
    }
   ],
   "source": [
    "### Main body of program to compare two boxes since functions already defined:\n",
    "\n",
    "print('Box1 dimensions')\n",
    "sides = get_sides()                               # assign the tuple returned by get_sides() to `sides`\n",
    "vol = volume_calc(sides[0],sides[1], sides[2])    # Use the values in that tuple as the input\n",
    "                                                  ## to the volume_calc() function\n",
    "print('The volume of the box is ', vol)\n",
    "print()\n",
    "\n",
    "print('Box2 dimensions')\n",
    "sides = get_sides()\n",
    "vol = volume_calc(sides[0],sides[1], sides[2])\n",
    "print('The volume of the box is ', vol)"
   ]
  },
  {
   "cell_type": "markdown",
   "metadata": {},
   "source": [
    "### Question\n",
    "If we didn't use the functions, what would we have had to do differently here? What would our code look like?"
   ]
  },
  {
   "cell_type": "markdown",
   "metadata": {},
   "source": [
    "Double click on this text to add your answer here:\n",
    "\n",
    "- \n",
    "- \n",
    "- \n",
    "-"
   ]
  },
  {
   "cell_type": "markdown",
   "metadata": {},
   "source": [
    "Let's try to make our code even more compact by defining a third function. One of the great things about functions is that you can define other functions within them. The function below takes the code that I used in the two functinos above, and that you will note is repeated for each box I want to measure, and turns it into a function that contains the first two. "
   ]
  },
  {
   "cell_type": "code",
   "execution_count": 8,
   "metadata": {},
   "outputs": [],
   "source": [
    "def box_measure():\n",
    "    sides = get_sides()\n",
    "    vol = volume_calc(sides[0],sides[1], sides[2])\n",
    "    return vol"
   ]
  },
  {
   "cell_type": "markdown",
   "metadata": {},
   "source": [
    "Now that we have this new function, let's try another modification to our code to make our program even better:"
   ]
  },
  {
   "cell_type": "code",
   "execution_count": 9,
   "metadata": {},
   "outputs": [
    {
     "name": "stdout",
     "output_type": "stream",
     "text": [
      "How many boxes to measure?: 3\n",
      "\n",
      "Box1 dimensions:\n",
      "Width of box: 2\n",
      "Height of box: 3\n",
      "Depth of box: 4\n",
      "The volume of the box is  24.0\n",
      "\n",
      "Box2 dimensions:\n",
      "Width of box: 4\n",
      "Height of box: 5\n",
      "Depth of box: 6\n",
      "The volume of the box is  120.0\n",
      "\n",
      "Box3 dimensions:\n",
      "Width of box: 6\n",
      "Height of box: 7\n",
      "Depth of box: 8\n",
      "The volume of the box is  336.0\n"
     ]
    }
   ],
   "source": [
    "n = int(input('How many boxes to measure?: '))\n",
    "i = 1\n",
    "while i <= n:\n",
    "    print()\n",
    "    print('Box'+ str(i) + ' dimensions:')\n",
    "    print('The volume of the box is ', box_measure())\n",
    "    i+=1\n",
    "\n"
   ]
  },
  {
   "cell_type": "markdown",
   "metadata": {},
   "source": [
    "Notice how short that code is! Make sure that you can follow the flow of information represented by this program. \n",
    "\n",
    "Before we move on to writing our own functions, let's see if you can use the functions we have already defined to add additional functionality.\n",
    "\n",
    "### Exercise\n",
    "Using the `box_measure()` function, write a piece of code that compares the volume of two boxes and tells the user which box is larger. (Bonus if this is easy for you - write a program that will measure any number of boxes and tell the user which is the largest).  "
   ]
  },
  {
   "cell_type": "code",
   "execution_count": null,
   "metadata": {},
   "outputs": [],
   "source": [
    "\n",
    "#\n",
    "## your code here\n",
    "#"
   ]
  },
  {
   "cell_type": "markdown",
   "metadata": {},
   "source": [
    "## Defining functions\n",
    "\n",
    "So let's look at how we define a function\n",
    "```\n",
    "def function_name(args):\n",
    "    code\n",
    "    code\n",
    "    code\n",
    "    return()\n",
    "```\n",
    "    \n",
    "Function names should follow the same standards as a variable name, lower case with individual words separated by underscores `_`. Ideally, the function name should be informative in terms of what the function does. \n",
    "\n",
    "Following the function name are the arguments that the function will use. Any variables specified in these parentheses can be used in the code of the function. \n",
    "\n",
    "so when we combine these two lines \n",
    "```\n",
    "def function_name(x,y,z):\n",
    "    ...\n",
    "\n",
    "```\n",
    "and a call such as \n",
    "```\n",
    "function_name(1,2,3)\n",
    "```\n",
    "It is equivalent to starting the function by saying\n",
    "```\n",
    "x = 1\n",
    "y = 2\n",
    "z = 3\n",
    "```\n",
    "\n",
    "To finish off the first line, we add a colon, just like if we were setting up a loop. \n",
    "\n",
    "After this first line, the rest of the code in the function needs to be part of a **code block**. Just like with loops, the code block need to be at the same indent level - indicating that this code will execute together.\n",
    "\n",
    "Finally, the code block needs to end with a `return` statement, aligned with the main code block of the function. After the word return statement is the 'result' of the function. So if a value is calculated within the function and you need to pass that back to the main body of code, that value should be included in the return. If the function does not need to return a value to the main body of code, this space can be left empty, set to `return None`, or simply left off the end of the function. Because it is explicit, `return None` is probably the best choice for a beginner. Understanding returns is the trickiest part of programming with functions. \n",
    "\n",
    "Let's look at two examples that, just as above, do the same thing, but this time with and without using a return. \n"
   ]
  },
  {
   "cell_type": "code",
   "execution_count": 10,
   "metadata": {},
   "outputs": [],
   "source": [
    "# Example 1 - function with no return\n",
    "\n",
    "def odd_or_even_1(number):\n",
    "    if number % 2 == 0:\n",
    "        print('even')\n",
    "    else:\n",
    "        print('odd')\n",
    "    return None\n",
    "\n",
    "# Example 2 - function with return\n",
    "\n",
    "def odd_or_even_2(number):\n",
    "    if number % 2 == 0:\n",
    "        value = 'even'\n",
    "    else:\n",
    "        value = 'odd'\n",
    "    return value "
   ]
  },
  {
   "cell_type": "markdown",
   "metadata": {},
   "source": [
    "### Exercise\n",
    "\n",
    "Write two short codes below that take numbers input by the user and that use the two functions above to print out the output, one in each code window.  \n"
   ]
  },
  {
   "cell_type": "code",
   "execution_count": null,
   "metadata": {},
   "outputs": [],
   "source": [
    "#printing odd or even with odd_or_even_1\n",
    "#\n",
    "## Your code here\n",
    "#"
   ]
  },
  {
   "cell_type": "code",
   "execution_count": null,
   "metadata": {},
   "outputs": [],
   "source": [
    "#printing odd or even with odd_or_even_1\n",
    "#\n",
    "## Your code here\n",
    "#"
   ]
  },
  {
   "cell_type": "markdown",
   "metadata": {},
   "source": [
    "### Question\n",
    "What was different about the way in which the two functions had to be deployed? Why?"
   ]
  },
  {
   "cell_type": "markdown",
   "metadata": {},
   "source": [
    "Double click on this text to add your answer here:\n",
    "\n",
    "- \n",
    "- \n",
    "- \n",
    "-"
   ]
  },
  {
   "cell_type": "markdown",
   "metadata": {},
   "source": [
    "### Exercise\n",
    "\n",
    "Write a function for calculating the total edge length of the box (the sum of 4 X each side's length). Test it and see that it works. This function should use the `get_sides()` function within it. "
   ]
  },
  {
   "cell_type": "code",
   "execution_count": null,
   "metadata": {},
   "outputs": [],
   "source": [
    "#\n",
    "## Your code here\n",
    "#"
   ]
  },
  {
   "cell_type": "markdown",
   "metadata": {},
   "source": [
    "### Exercise\n",
    "\n",
    "Write a function that takes box dimensions AND a number of boxes and uses those values to calculate a total volume for a number of boxes. Use the `get_sides()` and `box_measure()` functions in your answer. "
   ]
  },
  {
   "cell_type": "markdown",
   "metadata": {},
   "source": [
    "![Alt text that will appear on mouseover](images/TJU_logo_dummy_image.png \"Dummy image\")"
   ]
  }
 ],
 "metadata": {
  "kernelspec": {
   "display_name": "Python 3 (ipykernel)",
   "language": "python",
   "name": "python3"
  },
  "language_info": {
   "codemirror_mode": {
    "name": "ipython",
    "version": 3
   },
   "file_extension": ".py",
   "mimetype": "text/x-python",
   "name": "python",
   "nbconvert_exporter": "python",
   "pygments_lexer": "ipython3",
   "version": "3.9.7"
  }
 },
 "nbformat": 4,
 "nbformat_minor": 2
}
