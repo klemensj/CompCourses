{
 "cells": [
  {
   "cell_type": "markdown",
   "metadata": {},
   "source": [
    "<div align =\"right\">Thomas Jefferson University <b>COMP 101</b>: Intro to Coding</div>"
   ]
  },
  {
   "cell_type": "markdown",
   "metadata": {},
   "source": [
    "# Loops and control continued\n",
    "\n",
    "\n",
    "In our last notebook we just skimmed the surface of what we can do with loops. We will continue with some additional loop functions here. \n",
    "\n",
    "## Evaluation within a loop\n",
    "\n",
    "Loops are just a structure for handling data, usually it is what we do inside of the loop that matters. It's a simple matter to get data from some source, such as a list or other data structure, and *do something* with it inside of a loop. One of the most common things we might want to do with a loop is use it to perform the same calculation on a number of different values. \n",
    "\n",
    "### Exercise 1\n",
    "To get warmed up and review loop syntax today use a for loop. For each item in the list of numbers given below output the statement \"The square of 2 is 4.\" except replace the values with the values presented in the list. "
   ]
  },
  {
   "cell_type": "code",
   "execution_count": null,
   "metadata": {},
   "outputs": [],
   "source": [
    "side_list = [1,2,5,10,13,25,1000057]\n",
    "\n",
    "#\n",
    "## Your code here\n",
    "#"
   ]
  },
  {
   "cell_type": "markdown",
   "metadata": {},
   "source": [
    "We can also use if-then statments in loops to cause the loop to behave differently depending on what data it encouters. An if-else statement embedded within the loop can cause the program to behave differently depending on the data it encouters. \n",
    "\n",
    "### Exercise 2\n",
    "Repeat the program above, but this time for any value of a 'side' less than or equal to 10 output the statement 'You don't need a calculator for that!'"
   ]
  },
  {
   "cell_type": "code",
   "execution_count": null,
   "metadata": {},
   "outputs": [],
   "source": [
    "side_list = [1,2,5,10,13,25,1000057]\n",
    "\n",
    "#\n",
    "## Your code here\n",
    "#"
   ]
  },
  {
   "cell_type": "markdown",
   "metadata": {},
   "source": [
    "## Iteration or appending values within a loop\n",
    "\n",
    "As we saw in the introduction to the `while` loop we can iterate or append values within a loop to create a counter or iterator within the loop to keep track of how many times we have run it. Another use of iteration within a loop is to use it for counting particular events. Look at the for loop below that is being used to iterate a string. If for whatever reason we didn't want to use the count method we could use a `for` loop to count the frequency of different nucelotides. "
   ]
  },
  {
   "cell_type": "code",
   "execution_count": null,
   "metadata": {},
   "outputs": [],
   "source": [
    "dna = 'AGTGGCTATTACTACATGCCGAAGTTCCTTAAATTTAACTTACCAGGCTTAACCGGATGATGATTATTATTACCTTAATTTTA'\n",
    "\n",
    "a = t = c = g = 0\n",
    "\n",
    "for i in dna:\n",
    "    if i == 'A':\n",
    "        a +=1\n",
    "    elif i == 'T':\n",
    "        t +=1\n",
    "    elif i == 'C':\n",
    "        c +=1\n",
    "    elif i == 'G':\n",
    "        g +=1                               \n",
    "        \n",
    "print (a, 'A:', t, 'T:',c, 'C:',g, 'G')\n",
    "   "
   ]
  },
  {
   "cell_type": "markdown",
   "metadata": {},
   "source": [
    "So far we have been using our loops to print out values as output. But one thing we might want to do is store data in it's own list. A common technique for doing this is to use the `.append()` method which hopefully you recall can be used to add characters to a string or items to a list. This is how this would look in pseudocode:\n",
    "```\n",
    "a_list = [ a list of values ]\n",
    "answers = []                                # before starting the loop, we make sure that the variable\n",
    "                                            ## answers points to an empty list\n",
    "for i in a_list:\n",
    "    new_value = some transformation of i    # some calculation is performed on each item in the list\n",
    "    answers.append(new_value)               # the result of that calculation is added to answers\n",
    "```   \n",
    "Now we end up with a list of the answers we calculated, and we can go on to do more calculations with those values. \n",
    "\n",
    "### Exercise 3\n",
    "Using the `range` function that we learned about in the previous notebook and the technique described above write a program that produces two lists. One called `side` that contains the numbers 1-50 and a second list called `area` that contains the squares of those values. "
   ]
  },
  {
   "cell_type": "code",
   "execution_count": null,
   "metadata": {},
   "outputs": [],
   "source": [
    "#\n",
    "## Your code here\n",
    "#"
   ]
  },
  {
   "cell_type": "markdown",
   "metadata": {},
   "source": [
    "## The `continue` and `break` commands within loops\n",
    "\n",
    "Sometimes we want a looping function to skip over particular elements. We can always set up `if-elif-else` statements to handle different sorts of conditions. But sometimes we may want an easy way to stop the loop code block from executing under certain conditions, or we may want to terminate a loop altogther if certain conditions are met. \n",
    "\n",
    "In the example below we have some data with `NA` values that mean that for some of the data the value is missing or . Let's say we are performing a simple calculation on the data and all we care about at the end of the program is having the set of values for which data *were* available. "
   ]
  },
  {
   "cell_type": "code",
   "execution_count": null,
   "metadata": {},
   "outputs": [],
   "source": [
    "## Continue command example, convert fareheit to celcius degrees\n",
    "\n",
    "F_data = [87, 62, 'NA', 77, 84, 82, 'NA',91]\n",
    "C_data = []\n",
    "\n",
    "for temp in F_data:\n",
    "    if temp == 'NA':\n",
    "        continue\n",
    "    else:\n",
    "        temp_C = (temp -32)* 5 / 9\n",
    "        C_data.append(temp_C)\n",
    " \n",
    "print(C_data)\n"
   ]
  },
  {
   "cell_type": "markdown",
   "metadata": {},
   "source": [
    "### Question \n",
    "Describe in your own words the path that the for loop takes through the data because of the `continue` command?"
   ]
  },
  {
   "cell_type": "markdown",
   "metadata": {},
   "source": [
    "Double click on this text to add your answer here:\n",
    "\n",
    "- \n",
    "- \n",
    "- \n",
    "-"
   ]
  },
  {
   "cell_type": "markdown",
   "metadata": {},
   "source": [
    "`break` serves a different purpose. It causes a loop to stop altogether. Take a look at the example below."
   ]
  },
  {
   "cell_type": "code",
   "execution_count": null,
   "metadata": {},
   "outputs": [],
   "source": [
    "## Break command example\n",
    "bad_dna = 'AGTGGCTAXTACTACATGCCGAAGTTCCTTAAATTTAACTTACCAGGCTTAACCGGATGATGATTATTATTAZCTTAATTTTA'\n",
    "\n",
    "a = t = c = g = 0                                                             # initial value of all\n",
    "                                                                              ## counters set to 0\n",
    "for i in bad_dna:\n",
    "    if i == 'A':\n",
    "        a +=1\n",
    "    elif i == 'T':\n",
    "        t +=1\n",
    "    elif i == 'C':\n",
    "        c +=1\n",
    "    elif i == 'G':\n",
    "        g +=1 \n",
    "    else:\n",
    "        bad = bad_dna.index(i)\n",
    "        print('There is a non-A,T,G, or C value ', i ,' at position', bad+1)   # note used index value\n",
    "                                                                               ## +1 b/c in bioinfo we  \n",
    "                                                                               ## count residues from 1\n",
    "                \n",
    "        print('numbers below represent counts through position ' , bad)        # here it works out\n",
    "        print()\n",
    "        break\n",
    "        \n",
    "print (a, 'A:', t, 'T:', c, 'C:', g, 'G')"
   ]
  },
  {
   "cell_type": "markdown",
   "metadata": {},
   "source": [
    "You can see that what we are doing here is stopping short because we don't have good data to work with. Our program is set up to handle a limited set of inputs, when we realize that the input doesn't match our expectation, we stop the loop. This would be especially important if what we were doing was not just counting but was something computationally expensive, or if the size of the dataset we were attempting to analyze was very large. Why keep waste the computer time and energy to keep running a loop once a problem is identified. \n",
    "\n",
    "Note the use of `.index()` method above. \n",
    "\n",
    "Another good use of `break` is when a sufficiently good solution has already been calculated by the program. "
   ]
  },
  {
   "cell_type": "markdown",
   "metadata": {},
   "source": [
    "### Question \n",
    "Describe in your own words the path that the for loop takes through the data because of the `break` command in the example above? How was the `.index()` method used to make output more informative to the user of the program? Can you think of some other ways the `.index()` function might be used in a more complex dataset?"
   ]
  },
  {
   "cell_type": "markdown",
   "metadata": {},
   "source": [
    "Double click on this text to add your answer here:\n",
    "\n",
    "- \n",
    "- \n",
    "- \n",
    "-"
   ]
  },
  {
   "cell_type": "markdown",
   "metadata": {},
   "source": [
    "# Nested Loops\n",
    "\n",
    "We can use nested loops to extend looping operations into multiple dimensions. (You: Multiple dimensions!? Like the multiverse? Me: No. More boring.) So what could we mean by that?\n",
    "\n",
    "Let's consider some data that is organized as a list of lists. For our example we will use a list that represents a gradebook. Each item in the list is itself a list that consists of a student id as a string and a number of integer test scores. So this list has more than one dimension. It has a dimension of the entries corresponding to each individual student, and another that corresponds to the data associated with each student. You can easily visualize this data as how data is typically stored in a table or a spreadsheet, with each side of the table representing one dimension of the data. \n",
    "\n",
    "Let's say we are one of those teachers who drops the lowest test score. We want to write a program that ouputs the scores in a list and highlights which is the lowest score for each student. \n"
   ]
  },
  {
   "cell_type": "code",
   "execution_count": null,
   "metadata": {},
   "outputs": [],
   "source": [
    "gradebook = [['axc007',87,93,86,72],           # we can break line as commas, this all could have\n",
    "             ['bxj387',94,66,85,91],           ## been written out linearly as well, just harder to\n",
    "             ['tsa547', 97,94,93,98],          ## look at.\n",
    "             ['xrd982', 74,81,83,88],\n",
    "             ['jph921',81,62,77,84]]\n",
    "\n",
    "for student in gradebook:                       # student is just taking the place of `i` here\n",
    "                                                ## on the grounds that student within gradebook\n",
    "                                                ## is easier to understand\n",
    "    \n",
    "    for ii in student:                          # ii now represents each item in the 'student' list\n",
    "                                                ## this is the nested loop. I used ii instead of i \n",
    "                                                ## to remind myself that this is a second loop.\n",
    "        \n",
    "        if  student.index(ii) == 0:             # assume the first item in each list is ID\n",
    "            print('student ID: ', ii) \n",
    "            \n",
    "        elif ii == min(student[1:5]):           # if it's the lowest score value, indicate that\n",
    "            print('score = ', ii, ' <-minimum score')\n",
    "            \n",
    "        else:                                   # otherwise just print the score\n",
    "            print('score = ', ii)\n",
    "        "
   ]
  },
  {
   "cell_type": "markdown",
   "metadata": {},
   "source": [
    "Note how using some natural language made this program easier to understand. We didn't have to designate the items within the list gradebook as `student`, we could have just left it as `i`. But I think it's a lot easier to understand as written. I didn't use 'grade' in the second loop because the list consisted of more than just grades, and I thought I will use `ii` to designate each item to remind myself that this represents the items being examined in the **nested** loop, which just means what it sounds like - a loop contained entirely within another loop. Complex programs can have multiple layers of loops nested within one another. \n",
    "\n",
    "### Questions\n",
    "In your own words describe the path that the nested `for` loops must be taking through the data.\n",
    "\n",
    "*review* Where is a *slice* operation used in this program? Explain why it is coded the way it is?"
   ]
  },
  {
   "cell_type": "markdown",
   "metadata": {},
   "source": [
    "Double click on this text to add your answer here:\n",
    "\n",
    "- \n",
    "- \n",
    "- \n",
    "-"
   ]
  },
  {
   "cell_type": "markdown",
   "metadata": {},
   "source": [
    "## Summary Exercises\n",
    "\n",
    "### Exercise 4 \n",
    "Use an if-then statement embedded within a loop to generate a new string called `my_comp_dna` that contains the complementary strand of DNA to myDNA. A-T and G-C are complementary pairs, so every time an 'A' appears in `my_dna` a 'T' should appear in `my_comp_dna`, and every time a 'T' appears in `my_dna` an 'A' should appear in `my_comp_dna`.  Print both strings side by side so that the answer can easily be checked. \n"
   ]
  },
  {
   "cell_type": "code",
   "execution_count": null,
   "metadata": {},
   "outputs": [],
   "source": [
    "my_dna = 'AGTGGCTATTACTACATGCCGAAGTTCCTTAAATTTAACTTACCAGGCTTAACCGGATGATGATTATTATTACCTTAATTTTA'\n",
    "\n",
    "\n",
    "#\n",
    "# Your code here\n",
    "#"
   ]
  },
  {
   "cell_type": "markdown",
   "metadata": {},
   "source": [
    "### Exercise 5\n",
    "Given the same gradebook data as before write a program that produces the following output. For each student in the data set give the student ID and give the lowest test score. Give the remaining scores that were used to calculate the average, and give the average both with and without the lowest test score removed. You may need to go back and consult the worksheet on list methods to remind yourself of operations that you can perform on a list that may be helpful here.  \n",
    "\n",
    "Bonus challenge if you finish early - would your program run if there were a variable number of scores per student? The commented out gradebook data contains varialbe numbers of scores per student. See if you can make it work. \n"
   ]
  },
  {
   "cell_type": "code",
   "execution_count": null,
   "metadata": {},
   "outputs": [],
   "source": [
    "gradebook = [['axc007',87,93,86,72],['bxj387',94,66,85,91],['tsa547', 97,94,93,98],['xrd982', 74,81,83,88],['jph921',81,62,77,84]]\n",
    "\n",
    "#uncomment the variable below to attempt the challenge problem\n",
    "#gradebook = [['axc007',87,93,86,72,89],['bxj387',94,66,85,91],['tsa547', 97,94,93,98,94],['xrd982', 74,81,83,88],['jph921',81,62,84]]\n",
    "\n",
    "\n",
    "\n",
    "#\n",
    "## Your code here\n",
    "#"
   ]
  },
  {
   "cell_type": "markdown",
   "metadata": {},
   "source": [
    "\n",
    "![Alt text that will appear on mouseover](images/TJU_logo_dummy_image.png \"Dummy image\")\n"
   ]
  },
  {
   "cell_type": "code",
   "execution_count": null,
   "metadata": {},
   "outputs": [],
   "source": []
  }
 ],
 "metadata": {
  "kernelspec": {
   "display_name": "Python 3",
   "language": "python",
   "name": "python3"
  },
  "language_info": {
   "codemirror_mode": {
    "name": "ipython",
    "version": 3
   },
   "file_extension": ".py",
   "mimetype": "text/x-python",
   "name": "python",
   "nbconvert_exporter": "python",
   "pygments_lexer": "ipython3",
   "version": "3.8.8"
  }
 },
 "nbformat": 4,
 "nbformat_minor": 2
}
