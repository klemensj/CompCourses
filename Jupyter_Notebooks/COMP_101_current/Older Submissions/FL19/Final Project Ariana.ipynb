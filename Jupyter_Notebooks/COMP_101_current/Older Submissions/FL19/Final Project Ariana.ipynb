{
 "cells": [
  {
   "cell_type": "markdown",
   "metadata": {},
   "source": [
    "Insert DNA or file"
   ]
  },
  {
   "cell_type": "code",
   "execution_count": 257,
   "metadata": {},
   "outputs": [
    {
     "name": "stdout",
     "output_type": "stream",
     "text": [
      "Get DNA sequence from file(F) or user(U) input: U\n",
      "Type or paste DNA sequence here: ATGACGGCATGA\n",
      "\n"
     ]
    }
   ],
   "source": [
    "input_type = input(\"Get DNA sequence from file(F) or user(U) input: \")\n",
    "\n",
    "if input_type[0] == \"U\":\n",
    "        DNA = str(input(\"Type or paste DNA sequence here: \"))\n",
    "        print()\n",
    "        DNA=DNA.upper()\n",
    "        \n",
    "        \n",
    "elif input_type[0] == \"F\":\n",
    "        filename = str(input(\"Enter file name including .txt extension :\"))\n",
    "        print()\n",
    "        DNA = import_txt(filename)  \n",
    "        DNA=DNA.upper()\n",
    "else:\n",
    "         print(\"I didn't understand your choice, sorry!\")\n",
    "         print()\n",
    "  \n",
    "    "
   ]
  },
  {
   "cell_type": "markdown",
   "metadata": {},
   "source": [
    "DNA cleaning"
   ]
  },
  {
   "cell_type": "code",
   "execution_count": 258,
   "metadata": {},
   "outputs": [
    {
     "data": {
      "text/plain": [
       "'ATGACGGCATGA'"
      ]
     },
     "execution_count": 258,
     "metadata": {},
     "output_type": "execute_result"
    }
   ],
   "source": [
    "#Test DNA string with some problems, returns 0 if any non ATGC symbols present\n",
    "#function to test if good DNA and cap everything\n",
    "\n",
    "def CleanAndCheck(DNA): \n",
    "    for i in DNA:\n",
    "        if not i in \"ATGCatgc\":\n",
    "            print(\"DNA must contain only the letters A T G C, \" + i + \" is not a valid nucleotide symbol\")\n",
    "            return(0)\n",
    "    DNA = DNA.upper() \n",
    "    return(DNA)\n",
    "\n",
    "CleanAndCheck(DNA)"
   ]
  },
  {
   "cell_type": "markdown",
   "metadata": {},
   "source": [
    "Nucleotide counter"
   ]
  },
  {
   "cell_type": "code",
   "execution_count": 259,
   "metadata": {
    "scrolled": true
   },
   "outputs": [
    {
     "name": "stdout",
     "output_type": "stream",
     "text": [
      "Totoal Sequence Length: 12\n",
      "A: 4\n",
      "C: 2\n",
      "G: 4\n",
      "T: 2\n"
     ]
    }
   ],
   "source": [
    "#Test DNA strand  \n",
    "\n",
    "#function to receive an object DNA\n",
    "\n",
    "def nucleotide_counter(DNA):       #define a set of counters and set them to zero \n",
    "   \n",
    "    A=0\n",
    "    T=0\n",
    "    C=0\n",
    "    G=0\n",
    "     \n",
    "    \n",
    "    for i in DNA:\n",
    "        #print(i)\n",
    "        if i == \"A\":\n",
    "            A = A + 1\n",
    "        elif i == \"C\":\n",
    "            C = C + 1\n",
    "        elif i == \"G\":\n",
    "            G = G + 1\n",
    "        elif i == \"T\":\n",
    "            T = T + 1\n",
    "        \n",
    "    print(\"Totoal Sequence Length: \" + str(A+C+G+T))    \n",
    "    print(\"A: \" + str(A))\n",
    "    print(\"C: \" + str(C))\n",
    "    print(\"G: \" + str(G))\n",
    "    print(\"T: \" + str(T))\n",
    "\n",
    "\n",
    "\n",
    "        \n",
    "    return\n",
    "\n",
    "nucleotide_counter(DNA)"
   ]
  },
  {
   "cell_type": "markdown",
   "metadata": {},
   "source": [
    "Main Code"
   ]
  },
  {
   "cell_type": "code",
   "execution_count": 260,
   "metadata": {},
   "outputs": [],
   "source": [
    "DNA = DNA\n",
    "def example(DNA): \n",
    "    \n",
    "    print(\"Testing DNA ...\")\n",
    "    DNA = CleanAndCheck(DNA)\n",
    "    \n",
    "    if DNA == 0:\n",
    "        print(\"Sorry, some problems with this DNA! Please try again.\")\n",
    "    else:\n",
    "        print(\"DNA check successful!\")\n",
    "        \n",
    "    nucleotide_counter(DNA)\n",
    "    \n",
    "    RNA = DNA.replace('T', 'U')\n",
    "    \n",
    "    print (\"RNA Sequence: \", RNA)\n",
    "\n",
    "\n",
    "    translation_dict = {'UUU':'Phe', 'UUC':'Phe', 'UUA':'Leu', 'UUG':'Leu', 'UCU':'Ser', 'UCC':'Ser', 'UCA':'Ser', 'UCG':'Ser', 'UAA': 'Stop', 'UAG': 'Stop', 'UAU':'Tyr', 'UAC':'Tyr', 'UGU':'Cys', 'UGC':'Cys', 'UGA': 'Stop', 'UGG':'Trp', 'CUU':'Leu', 'CUC':'Leu', 'CUA':'Leu', 'CUG':'Leu', 'CCU':'Pro', 'CCC':'Pro', 'CCA':'Pro', 'CCG':'Pro', 'CAU':'His', 'CAC':'His', 'CAA':'Gln', 'CAG':'Gln', 'CGU':'Arg', 'CGC':'Arg', 'CGA':'Arg', 'CGG':'Arg', 'AUU':'Ile', 'AUC':'Ile', 'AUA':'Ile', 'AUG':'Met', 'ACU':'Thr', 'ACC':'Thr', 'ACA':'Thr', 'ACG':'Thr', 'AAU':'Asn', 'AAC':'Asn', 'AAA':'Lys', 'AAG':'Lys', 'AGU':'Ser', 'AGC':'Ser', 'AGA':'Arg', 'AGG':'Arg', 'GUU':'Val', 'GUC':'Val', 'GUA':'Val', 'GUG':'Val', 'GCU':'Ala', 'GCC':'Ala', 'GCA':'Ala', 'GCG':'Ala', 'GAU':'Asp', 'GAC':'Asp', 'GAA':'Glu', 'GAG':'Glu', 'GGU':'Gly', 'GGC':'Gly', 'GGA':'Gly','GGG':'Gly'}\n",
    "\n",
    "\n",
    "    amino_string = \"\"\n",
    "\n",
    "    for i in range(0, len(RNA)-(len(RNA)%3), 3):\n",
    "        if translation_dict[RNA[i:i+3]] == \"STOP\" :\n",
    "            break\n",
    "        amino_string += translation_dict[RNA[i:i+3]]\n",
    "\n",
    "    print (\"Amino acids: \", amino_string)\n",
    "    "
   ]
  },
  {
   "cell_type": "code",
   "execution_count": 261,
   "metadata": {},
   "outputs": [
    {
     "name": "stdout",
     "output_type": "stream",
     "text": [
      "Testing DNA ...\n",
      "DNA check successful!\n",
      "Totoal Sequence Length: 12\n",
      "A: 4\n",
      "C: 2\n",
      "G: 4\n",
      "T: 2\n",
      "RNA Sequence:  AUGACGGCAUGA\n",
      "Amino acids:  MetThrAlaStop\n"
     ]
    }
   ],
   "source": [
    "example(DNA)"
   ]
  },
  {
   "cell_type": "markdown",
   "metadata": {},
   "source": [
    "Farthest I got with being able to find a start codon"
   ]
  },
  {
   "cell_type": "code",
   "execution_count": 266,
   "metadata": {},
   "outputs": [
    {
     "name": "stdout",
     "output_type": "stream",
     "text": [
      "No start codon\n",
      "No start codon\n",
      "No start codon\n",
      "No start codon\n",
      "No start codon\n",
      "No start codon\n",
      "No start codon\n",
      "No start codon\n",
      "No start codon\n"
     ]
    }
   ],
   "source": [
    "RNA = \"AUGACGATG\"\n",
    "translation_dict = {'UUU':'Phe', 'UUC':'Phe', 'UUA':'Leu', 'UUG':'Leu', 'UCU':'Ser', 'UCC':'Ser', 'UCA':'Ser', 'UCG':'Ser', 'UAA': 'Stop', 'UAG': 'Stop', 'UAU':'Tyr', 'UAC':'Tyr', 'UGU':'Cys', 'UGC':'Cys', 'UGA': 'Stop', 'UGG':'Trp', 'CUU':'Leu', 'CUC':'Leu', 'CUA':'Leu', 'CUG':'Leu', 'CCU':'Pro', 'CCC':'Pro', 'CCA':'Pro', 'CCG':'Pro', 'CAU':'His', 'CAC':'His', 'CAA':'Gln', 'CAG':'Gln', 'CGU':'Arg', 'CGC':'Arg', 'CGA':'Arg', 'CGG':'Arg', 'AUU':'Ile', 'AUC':'Ile', 'AUA':'Ile', 'AUG':'Met', 'ACU':'Thr', 'ACC':'Thr', 'ACA':'Thr', 'ACG':'Thr', 'AAU':'Asn', 'AAC':'Asn', 'AAA':'Lys', 'AAG':'Lys', 'AGU':'Ser', 'AGC':'Ser', 'AGA':'Arg', 'AGG':'Arg', 'GUU':'Val', 'GUC':'Val', 'GUA':'Val', 'GUG':'Val', 'GCU':'Ala', 'GCC':'Ala', 'GCA':'Ala', 'GCG':'Ala', 'GAU':'Asp', 'GAC':'Asp', 'GAA':'Glu', 'GAG':'Glu', 'GGU':'Gly', 'GGC':'Gly', 'GGA':'Gly','GGG':'Gly'}\n",
    "\n",
    "amino_string = \"\"\n",
    "\n",
    "for i in range(len(RNA)): \n",
    "    if RNA[i] == \"AUG\":\n",
    "        \n",
    "        for a in range(0, len(RNA)-(len(RNA)%3), 3):\n",
    "            if translation_dict[RNA[a:a+3]] == \"STOP\":\n",
    "                break\n",
    "            amino_string += translation_dict[RNA[a:a+3]]\n",
    "\n",
    "        print (\"Amino acids: \", amino_string)\n",
    "    \n",
    "    else:\n",
    "        print (\"No start codon\")"
   ]
  },
  {
   "cell_type": "code",
   "execution_count": null,
   "metadata": {},
   "outputs": [],
   "source": []
  }
 ],
 "metadata": {
  "kernelspec": {
   "display_name": "Python 3",
   "language": "python",
   "name": "python3"
  },
  "language_info": {
   "codemirror_mode": {
    "name": "ipython",
    "version": 3
   },
   "file_extension": ".py",
   "mimetype": "text/x-python",
   "name": "python",
   "nbconvert_exporter": "python",
   "pygments_lexer": "ipython3",
   "version": "3.7.3"
  }
 },
 "nbformat": 4,
 "nbformat_minor": 2
}
