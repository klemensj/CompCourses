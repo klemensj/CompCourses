{
 "cells": [
  {
   "cell_type": "code",
   "execution_count": 153,
   "metadata": {},
   "outputs": [],
   "source": [
    "import random as rand\n",
    "import matplotlib.pyplot as plt\n",
    "import numpy as np\n",
    "import pandas as pd\n",
    "from scipy import stats \n",
    "\n",
    "\n"
   ]
  },
  {
   "cell_type": "code",
   "execution_count": 154,
   "metadata": {},
   "outputs": [
    {
     "data": {
      "text/html": [
       "<div>\n",
       "<style scoped>\n",
       "    .dataframe tbody tr th:only-of-type {\n",
       "        vertical-align: middle;\n",
       "    }\n",
       "\n",
       "    .dataframe tbody tr th {\n",
       "        vertical-align: top;\n",
       "    }\n",
       "\n",
       "    .dataframe thead th {\n",
       "        text-align: right;\n",
       "    }\n",
       "</style>\n",
       "<table border=\"1\" class=\"dataframe\">\n",
       "  <thead>\n",
       "    <tr style=\"text-align: right;\">\n",
       "      <th></th>\n",
       "      <th>Plot_ID</th>\n",
       "      <th>DataSource_ID</th>\n",
       "      <th>PlotName</th>\n",
       "      <th>Location</th>\n",
       "      <th>DetailsPlots</th>\n",
       "      <th>ExperimentalTreatment</th>\n",
       "      <th>Latitude</th>\n",
       "      <th>Longitude</th>\n",
       "      <th>Elevation</th>\n",
       "      <th>SourceGeogrData</th>\n",
       "      <th>...</th>\n",
       "      <th>CRUmnPrec</th>\n",
       "      <th>CRUdeltaPrec</th>\n",
       "      <th>CRUrelDeltaPrec</th>\n",
       "      <th>CHELSAmnC</th>\n",
       "      <th>CHELSAmnK</th>\n",
       "      <th>CHELSAdeltaTmean</th>\n",
       "      <th>CHELSArelDeltaTmean</th>\n",
       "      <th>CHELSAmnPrec</th>\n",
       "      <th>CHELSAdeltaPrec</th>\n",
       "      <th>CHELSArelDeltaPrec</th>\n",
       "    </tr>\n",
       "  </thead>\n",
       "  <tbody>\n",
       "    <tr>\n",
       "      <th>0</th>\n",
       "      <td>1</td>\n",
       "      <td>1421</td>\n",
       "      <td>Upstream</td>\n",
       "      <td>Arkansas freshwater</td>\n",
       "      <td>3 km from dam</td>\n",
       "      <td>NaN</td>\n",
       "      <td>35.355549</td>\n",
       "      <td>-91.723184</td>\n",
       "      <td>NaN</td>\n",
       "      <td>Google maps</td>\n",
       "      <td>...</td>\n",
       "      <td>103.470691</td>\n",
       "      <td>-3.030788</td>\n",
       "      <td>-0.029291</td>\n",
       "      <td>NaN</td>\n",
       "      <td>NaN</td>\n",
       "      <td>NaN</td>\n",
       "      <td>NaN</td>\n",
       "      <td>NaN</td>\n",
       "      <td>NaN</td>\n",
       "      <td>NaN</td>\n",
       "    </tr>\n",
       "    <tr>\n",
       "      <th>1</th>\n",
       "      <td>2</td>\n",
       "      <td>1421</td>\n",
       "      <td>Downstream</td>\n",
       "      <td>Arkansas freshwater</td>\n",
       "      <td>7 km from dam</td>\n",
       "      <td>NaN</td>\n",
       "      <td>35.355549</td>\n",
       "      <td>-91.723184</td>\n",
       "      <td>NaN</td>\n",
       "      <td>Google maps</td>\n",
       "      <td>...</td>\n",
       "      <td>103.470691</td>\n",
       "      <td>-3.030788</td>\n",
       "      <td>-0.029291</td>\n",
       "      <td>NaN</td>\n",
       "      <td>NaN</td>\n",
       "      <td>NaN</td>\n",
       "      <td>NaN</td>\n",
       "      <td>NaN</td>\n",
       "      <td>NaN</td>\n",
       "      <td>NaN</td>\n",
       "    </tr>\n",
       "    <tr>\n",
       "      <th>2</th>\n",
       "      <td>3</td>\n",
       "      <td>1394</td>\n",
       "      <td>Makerere University Field Station</td>\n",
       "      <td>Makerere University Field Station</td>\n",
       "      <td>NaN</td>\n",
       "      <td>NaN</td>\n",
       "      <td>0.583000</td>\n",
       "      <td>30.333000</td>\n",
       "      <td>1500</td>\n",
       "      <td>Publication</td>\n",
       "      <td>...</td>\n",
       "      <td>94.533335</td>\n",
       "      <td>4.192598</td>\n",
       "      <td>0.044350</td>\n",
       "      <td>19.688667</td>\n",
       "      <td>292.848667</td>\n",
       "      <td>0.551469</td>\n",
       "      <td>0.001883</td>\n",
       "      <td>142.857500</td>\n",
       "      <td>35.750233</td>\n",
       "      <td>0.250251</td>\n",
       "    </tr>\n",
       "    <tr>\n",
       "      <th>3</th>\n",
       "      <td>4</td>\n",
       "      <td>1431</td>\n",
       "      <td>control</td>\n",
       "      <td>Alaska freshwater</td>\n",
       "      <td>control</td>\n",
       "      <td>control</td>\n",
       "      <td>68.633000</td>\n",
       "      <td>-149.400000</td>\n",
       "      <td>NaN</td>\n",
       "      <td>Publication</td>\n",
       "      <td>...</td>\n",
       "      <td>11.712778</td>\n",
       "      <td>-3.127381</td>\n",
       "      <td>-0.267006</td>\n",
       "      <td>-10.535444</td>\n",
       "      <td>262.624556</td>\n",
       "      <td>2.594107</td>\n",
       "      <td>0.009878</td>\n",
       "      <td>19.771111</td>\n",
       "      <td>4.993929</td>\n",
       "      <td>0.252587</td>\n",
       "    </tr>\n",
       "    <tr>\n",
       "      <th>4</th>\n",
       "      <td>5</td>\n",
       "      <td>1431</td>\n",
       "      <td>fertilized</td>\n",
       "      <td>Alaska freshwater</td>\n",
       "      <td>fertilized</td>\n",
       "      <td>fertilized</td>\n",
       "      <td>68.633000</td>\n",
       "      <td>-149.400000</td>\n",
       "      <td>NaN</td>\n",
       "      <td>Publication</td>\n",
       "      <td>...</td>\n",
       "      <td>11.712778</td>\n",
       "      <td>-3.127381</td>\n",
       "      <td>-0.267006</td>\n",
       "      <td>-10.535444</td>\n",
       "      <td>262.624556</td>\n",
       "      <td>2.594107</td>\n",
       "      <td>0.009878</td>\n",
       "      <td>19.771111</td>\n",
       "      <td>4.993929</td>\n",
       "      <td>0.252587</td>\n",
       "    </tr>\n",
       "  </tbody>\n",
       "</table>\n",
       "<p>5 rows × 40 columns</p>\n",
       "</div>"
      ],
      "text/plain": [
       "   Plot_ID  DataSource_ID                           PlotName  \\\n",
       "0        1           1421                           Upstream   \n",
       "1        2           1421                         Downstream   \n",
       "2        3           1394  Makerere University Field Station   \n",
       "3        4           1431                            control   \n",
       "4        5           1431                         fertilized   \n",
       "\n",
       "                            Location    DetailsPlots ExperimentalTreatment  \\\n",
       "0                Arkansas freshwater   3 km from dam                   NaN   \n",
       "1                Arkansas freshwater  7 km from dam                    NaN   \n",
       "2  Makerere University Field Station             NaN                   NaN   \n",
       "3                  Alaska freshwater         control               control   \n",
       "4                  Alaska freshwater      fertilized            fertilized   \n",
       "\n",
       "    Latitude   Longitude Elevation SourceGeogrData  ...   CRUmnPrec  \\\n",
       "0  35.355549  -91.723184       NaN     Google maps  ...  103.470691   \n",
       "1  35.355549  -91.723184       NaN     Google maps  ...  103.470691   \n",
       "2   0.583000   30.333000      1500     Publication  ...   94.533335   \n",
       "3  68.633000 -149.400000       NaN     Publication  ...   11.712778   \n",
       "4  68.633000 -149.400000       NaN     Publication  ...   11.712778   \n",
       "\n",
       "   CRUdeltaPrec  CRUrelDeltaPrec  CHELSAmnC   CHELSAmnK CHELSAdeltaTmean  \\\n",
       "0     -3.030788        -0.029291        NaN         NaN              NaN   \n",
       "1     -3.030788        -0.029291        NaN         NaN              NaN   \n",
       "2      4.192598         0.044350  19.688667  292.848667         0.551469   \n",
       "3     -3.127381        -0.267006 -10.535444  262.624556         2.594107   \n",
       "4     -3.127381        -0.267006 -10.535444  262.624556         2.594107   \n",
       "\n",
       "   CHELSArelDeltaTmean  CHELSAmnPrec  CHELSAdeltaPrec  CHELSArelDeltaPrec  \n",
       "0                  NaN           NaN              NaN                 NaN  \n",
       "1                  NaN           NaN              NaN                 NaN  \n",
       "2             0.001883    142.857500        35.750233            0.250251  \n",
       "3             0.009878     19.771111         4.993929            0.252587  \n",
       "4             0.009878     19.771111         4.993929            0.252587  \n",
       "\n",
       "[5 rows x 40 columns]"
      ]
     },
     "execution_count": 154,
     "metadata": {},
     "output_type": "execute_result"
    }
   ],
   "source": [
    "plotdata = pd.read_csv('InsectChange/PlotData.csv', encoding='latin-1')\n",
    "plotdata.head()"
   ]
  },
  {
   "cell_type": "code",
   "execution_count": 155,
   "metadata": {},
   "outputs": [
    {
     "data": {
      "text/html": [
       "<div>\n",
       "<style scoped>\n",
       "    .dataframe tbody tr th:only-of-type {\n",
       "        vertical-align: middle;\n",
       "    }\n",
       "\n",
       "    .dataframe tbody tr th {\n",
       "        vertical-align: top;\n",
       "    }\n",
       "\n",
       "    .dataframe thead th {\n",
       "        text-align: right;\n",
       "    }\n",
       "</style>\n",
       "<table border=\"1\" class=\"dataframe\">\n",
       "  <thead>\n",
       "    <tr style=\"text-align: right;\">\n",
       "      <th></th>\n",
       "      <th>DataSource_ID</th>\n",
       "      <th>Plot_ID</th>\n",
       "      <th>Stratum</th>\n",
       "      <th>MetricAB</th>\n",
       "      <th>Period</th>\n",
       "      <th>Year</th>\n",
       "      <th>Number</th>\n",
       "    </tr>\n",
       "  </thead>\n",
       "  <tbody>\n",
       "    <tr>\n",
       "      <th>0</th>\n",
       "      <td>63</td>\n",
       "      <td>190</td>\n",
       "      <td>Air</td>\n",
       "      <td>abundance</td>\n",
       "      <td>1</td>\n",
       "      <td>1959</td>\n",
       "      <td>130.0</td>\n",
       "    </tr>\n",
       "    <tr>\n",
       "      <th>2</th>\n",
       "      <td>63</td>\n",
       "      <td>190</td>\n",
       "      <td>Air</td>\n",
       "      <td>abundance</td>\n",
       "      <td>1</td>\n",
       "      <td>1961</td>\n",
       "      <td>45.0</td>\n",
       "    </tr>\n",
       "    <tr>\n",
       "      <th>3</th>\n",
       "      <td>63</td>\n",
       "      <td>190</td>\n",
       "      <td>Air</td>\n",
       "      <td>abundance</td>\n",
       "      <td>1</td>\n",
       "      <td>1962</td>\n",
       "      <td>126.0</td>\n",
       "    </tr>\n",
       "    <tr>\n",
       "      <th>4</th>\n",
       "      <td>63</td>\n",
       "      <td>190</td>\n",
       "      <td>Air</td>\n",
       "      <td>abundance</td>\n",
       "      <td>1</td>\n",
       "      <td>1963</td>\n",
       "      <td>255.0</td>\n",
       "    </tr>\n",
       "    <tr>\n",
       "      <th>5</th>\n",
       "      <td>63</td>\n",
       "      <td>190</td>\n",
       "      <td>Air</td>\n",
       "      <td>abundance</td>\n",
       "      <td>1</td>\n",
       "      <td>1964</td>\n",
       "      <td>80.0</td>\n",
       "    </tr>\n",
       "  </tbody>\n",
       "</table>\n",
       "</div>"
      ],
      "text/plain": [
       "   DataSource_ID  Plot_ID Stratum   MetricAB Period  Year  Number\n",
       "0             63      190     Air  abundance      1  1959   130.0\n",
       "2             63      190     Air  abundance      1  1961    45.0\n",
       "3             63      190     Air  abundance      1  1962   126.0\n",
       "4             63      190     Air  abundance      1  1963   255.0\n",
       "5             63      190     Air  abundance      1  1964    80.0"
      ]
     },
     "execution_count": 155,
     "metadata": {},
     "output_type": "execute_result"
    }
   ],
   "source": [
    "ABdata = pd.read_csv('InsectChange/InsectAbundanceBiomassData.csv', encoding='latin-1')\n",
    "ABdata.dropna(subset = [\"Number\"], inplace=True)\n",
    "ABdata.head()"
   ]
  },
  {
   "cell_type": "code",
   "execution_count": 156,
   "metadata": {},
   "outputs": [
    {
     "name": "stdout",
     "output_type": "stream",
     "text": [
      "(0.6171912784323931, 0.000280132538070094)\n"
     ]
    }
   ],
   "source": [
    "ab63=ABdata[0:30]\n",
    "x=ab63['Year']\n",
    "y=ab63['Number']\n",
    "pearsonr1 = stats.pearsonr(x,y)\n",
    "print(pearsonr1)"
   ]
  },
  {
   "cell_type": "code",
   "execution_count": 157,
   "metadata": {},
   "outputs": [
    {
     "name": "stdout",
     "output_type": "stream",
     "text": [
      "r=0.6171912784323931\n",
      "p-value=0.000280132538070094\n"
     ]
    }
   ],
   "source": [
    "results = pearsonr1\n",
    "print(\"r=\" + str(results[0])+ \"\\n\"+\"p-value=\" + str(results[1]))\n"
   ]
  },
  {
   "cell_type": "code",
   "execution_count": 158,
   "metadata": {
    "scrolled": true
   },
   "outputs": [
    {
     "data": {
      "image/png": "[encoded data removed]",
      "text/plain": [
       "<Figure size 432x288 with 1 Axes>"
      ]
     },
     "metadata": {
      "needs_background": "light"
     },
     "output_type": "display_data"
    }
   ],
   "source": [
    "ax = plt.subplot(1,1,1)\n",
    "plt.scatter(x,y, color = 'green')\n",
    "plt.text(1960,400,\"r=\" + str(results[0])+ \"\\n\"+\"p-value=\" + str(results[1]))  \n",
    "plt.title('Correlation Analysis of Abundance Value of \\nDragonflies over time in Freshwater zone 63 (UK) \\n ', fontname='AppleMyungjo', size =15, fontweight=\"bold\")\n",
    "plt.xlabel('Year',fontweight=\"bold\",size =10)\n",
    "plt.ylabel('Abundance Value',fontweight=\"bold\",size =10)\n",
    "ax.spines['right'].set_visible(False)             \n",
    "ax.spines['top'].set_visible(False)\n",
    "plt.show()"
   ]
  },
  {
   "cell_type": "code",
   "execution_count": 159,
   "metadata": {
    "scrolled": true
   },
   "outputs": [
    {
     "name": "stdout",
     "output_type": "stream",
     "text": [
      "R^2 = 0.38092507417301164\n",
      "r = 0.617191278432393\n",
      "slope = 7.619651989522265\n",
      "intercept = -14874.824934514158\n"
     ]
    }
   ],
   "source": [
    "regression = stats.linregress(x,y)\n",
    "results = regression\n",
    "\n",
    "print(\"R^2 = \" + str(results.rvalue**2)+ \"\\n\" + \"r = \" + str(results.rvalue)+ \"\\n\" + \"slope = \"+ str(results.slope) + \"\\n\" +\"intercept = \" + str(results.intercept))\n",
    "\n",
    "\n"
   ]
  },
  {
   "cell_type": "code",
   "execution_count": 185,
   "metadata": {},
   "outputs": [
    {
     "data": {
      "image/png": "[encoded data removed]",
      "text/plain": [
       "<Figure size 432x288 with 1 Axes>"
      ]
     },
     "metadata": {
      "needs_background": "light"
     },
     "output_type": "display_data"
    }
   ],
   "source": [
    "ax = plt.subplot(1,1,1)\n",
    "plt.scatter(x,y, color = 'green')\n",
    "plt.text(1990,35,\"R^2 = \" + str(results.rvalue**2)+ \"\\n\" + \"r = \" + str(results.rvalue)+ \"\\n\" + \"slope = \"+ str(results.slope) + \"\\n\" +\"intercept = \" + str(results.intercept))\n",
    "m, b = np.polyfit(x, y, 1)\n",
    "line = plt.plot(x, m*x + b,label='y={:.2f}x+{:.2f}'.format(results.slope,results.intercept))\n",
    "plt.legend(fontsize=9)\n",
    "plt.title('Linear Aggression of Abundance Value of \\nDragonflies over time in Freshwater zone 63 (UK) \\n ', fontname='AppleMyungjo', size =15, fontweight=\"bold\")\n",
    "ax.spines['right'].set_visible(False)             \n",
    "ax.spines['top'].set_visible(False)\n",
    "plt.xlabel('Year',fontweight=\"bold\",size =10)\n",
    "plt.ylabel('Abundance Value',fontweight=\"bold\",size =10)\n",
    "plt.show()"
   ]
  },
  {
   "cell_type": "code",
   "execution_count": 179,
   "metadata": {},
   "outputs": [],
   "source": [
    "#ABdata = ABdata.set_index(\"DataSource_ID\")\n",
    "control = ABdata[((ABdata['Plot_ID'] == 4))]\n",
    "AKcontrol = control[\"Number\"]\n",
    "\n",
    "\n",
    "fertilized = ABdata[((ABdata['Plot_ID'] == 5))]\n",
    "AKfertilized= fertilized[\"Number\"]\n",
    "\n",
    "\n",
    "AKcontrol_mean = np.mean(AKcontrol)\n",
    "AKcontrol_sd = np.std(AKcontrol, ddof=1)\n",
    "\n",
    "#print('AKcontrol mean = ' + str(round(AKcontrol_mean,3)))\n",
    "#print('AKcontrol sd = ' + str(round(AKcontrol,3)))\n",
    "\n",
    "\n",
    "#onesidedl = stats.ttest_1samp(ukdragonfly,75)\n",
    "\n",
    "#print('t-statistic = ' + str(round(onesidedl.statistic,3)))\n",
    "#print('p-value = ' + str(round(AKcontrol.pvalue,5)))\n",
    "\n",
    "AKfertilized_mean = np.mean(AKfertilized)\n",
    "AKfertilized_sd = np.std(AKfertilized, ddof=1)\n",
    "\n",
    "twosided = stats.ttest_ind(AKcontrol,AKfertilized)\n",
    "#print('AKfertilized mean = ' + str(round(AKfertilized_mean,3)))\n",
    "#print('AKfertilized sd = ' + str(round(AKfertilized,3)))\n",
    "\n",
    "\n",
    "#onesidedl = stats.ttest_1samp(ukdragonfly,75)\n",
    "\n",
    "#print('t-statistic = ' + str(round(onesidedl.statistic,3)))\n",
    "#print('p-value = ' + str(round(AKfertilized.pvalue,5)))\n",
    "\n",
    "\n"
   ]
  },
  {
   "cell_type": "code",
   "execution_count": 180,
   "metadata": {},
   "outputs": [
    {
     "name": "stdout",
     "output_type": "stream",
     "text": [
      "(7579.5367244308345, 17959.71274223583)\n",
      "(12618.930603217877, 30466.40126344878)\n"
     ]
    }
   ],
   "source": [
    "AKcontrol_CI = stats.t.interval(alpha=0.95, df=len(AKcontrol)-1, loc=AKcontrol_mean, scale=stats.sem(AKcontrol)) \n",
    "AKfertilized_CI = stats.t.interval(alpha=0.95, df=len(AKfertilized)-1, loc=AKfertilized_mean, scale=stats.sem(AKfertilized))\n",
    "print(AKcontrol_CI)\n",
    "print(AKfertilized_CI)"
   ]
  },
  {
   "cell_type": "code",
   "execution_count": 187,
   "metadata": {},
   "outputs": [
    {
     "data": {
      "image/png": "[encoded data removed]",
      "text/plain": [
       "<Figure size 432x288 with 1 Axes>"
      ]
     },
     "metadata": {
      "needs_background": "light"
     },
     "output_type": "display_data"
    }
   ],
   "source": [
    "AKC = pd.DataFrame(AKcontrol)\n",
    "AKC.columns =['Control']\n",
    "\n",
    "AKF = pd.DataFrame(AKfertilized)\n",
    "AKF.columns =['Fertilized']\n",
    "\n",
    "df = AKC.join(AKF)\n",
    "a = df.describe()\n",
    "counts = a.loc['count'].values.tolist()\n",
    "means = a.loc['mean'].values.tolist()\n",
    "stdevs = a.loc['std'].values.tolist()\n",
    "index = np.arange(len(df.columns))\n",
    "\n",
    "CI = []\n",
    "for i in range(len(means)):\n",
    "    CIval = 1.96*stdevs[i]/(15**(0.5))\n",
    "    CI.append(CIval)\n",
    "\n",
    "fig, ax = plt.subplots()\n",
    "#plt.bar([1,2],[means], yerr=[CI], capsize =10, color='orange')\n",
    "plt.bar(index,means, yerr=CI, capsize=10, color ='orange')\n",
    "plt.ylim(60,33000)\n",
    "plt.text(0.85,33000,'t-statistic = ' + str(round(twosided.statistic,3)))\n",
    "ax.spines['right'].set_visible(False)\n",
    "ax.spines['top'].set_visible(False)\n",
    "ax.set_xticks(index)\n",
    "ax.set_xticklabels(df.columns)\n",
    "plt.title('Means comparison of Alaska freshwater invertebrates: \\n Fertilized vs Control populations  \\n ', fontname='AppleMyungjo', size =15, fontweight=\"bold\")\n",
    "ax.spines['right'].set_visible(False)             \n",
    "ax.spines['top'].set_visible(False)\n"
   ]
  },
  {
   "cell_type": "code",
   "execution_count": 285,
   "metadata": {},
   "outputs": [
    {
     "data": {
      "text/html": [
       "<div>\n",
       "<style scoped>\n",
       "    .dataframe tbody tr th:only-of-type {\n",
       "        vertical-align: middle;\n",
       "    }\n",
       "\n",
       "    .dataframe tbody tr th {\n",
       "        vertical-align: top;\n",
       "    }\n",
       "\n",
       "    .dataframe thead th {\n",
       "        text-align: right;\n",
       "    }\n",
       "</style>\n",
       "<table border=\"1\" class=\"dataframe\">\n",
       "  <thead>\n",
       "    <tr style=\"text-align: right;\">\n",
       "      <th>Year</th>\n",
       "      <th>1998</th>\n",
       "      <th>2012</th>\n",
       "    </tr>\n",
       "    <tr>\n",
       "      <th>Plot_ID</th>\n",
       "      <th></th>\n",
       "      <th></th>\n",
       "    </tr>\n",
       "  </thead>\n",
       "  <tbody>\n",
       "    <tr>\n",
       "      <th>Abandoned Meadow</th>\n",
       "      <td>1908.1</td>\n",
       "      <td>711.37</td>\n",
       "    </tr>\n",
       "    <tr>\n",
       "      <th>Managed Meadow</th>\n",
       "      <td>874.0</td>\n",
       "      <td>314.26</td>\n",
       "    </tr>\n",
       "  </tbody>\n",
       "</table>\n",
       "</div>"
      ],
      "text/plain": [
       "Year                1998    2012\n",
       "Plot_ID                         \n",
       "Abandoned Meadow  1908.1  711.37\n",
       "Managed Meadow     874.0  314.26"
      ]
     },
     "execution_count": 285,
     "metadata": {},
     "output_type": "execute_result"
    }
   ],
   "source": [
    "ABdata.set_index(\"Plot_ID\")\n",
    "ManMeadow = ABdata[ ((ABdata['Plot_ID'] == 10) | (ABdata['Plot_ID'] == 11)) & (ABdata['MetricAB'] == \"abundance\") ]\n",
    "\n",
    "MM = pd.DataFrame(ManMeadow)\n",
    "MM = MM.drop(columns=[ 'Stratum','MetricAB','Period'])\n",
    "MM[\"Plot_ID\"]= MM[\"Plot_ID\"].replace(10, \"Managed Meadow\")\n",
    "MM[\"Plot_ID\"]= MM[\"Plot_ID\"].replace(11, \"Abandoned Meadow\")\n",
    "#MM=MM.set_index(\"Plot_ID\")\n",
    "\n",
    "\n",
    "#AbandonedMeadow = ABdata[((ABdata['Plot_ID'] == 11) )& ((ABdata['MetricAB'] == \"abundance\") )]\n",
    "#AM = pd.DataFrame(AbandonedMeadow)\n",
    "#AM.drop(columns=[ 'Stratum','MetricAB','Period'])\n",
    "\n",
    "#data_crosstab = pd.crosstab(index = MM.Plot_ID, columns=MM.Year, values=MM.Number, \n",
    "                             #aggfunc='count',                               #margins = False)\n",
    "#data_crosstab\n",
    "CT = MM.pivot_table(index='Plot_ID', columns='Year', values='Number', fill_value=0)\n",
    "CT\n"
   ]
  },
  {
   "cell_type": "code",
   "execution_count": 287,
   "metadata": {},
   "outputs": [
    {
     "name": "stdout",
     "output_type": "stream",
     "text": [
      "Data\n",
      "\n",
      "Year                1998    2012\n",
      "Plot_ID                         \n",
      "Abandoned Meadow  1908.1  711.37\n",
      "Managed Meadow     874.0  314.26\n",
      "\n",
      "Chi-square results\n",
      "\n",
      "   chi-square = 0.1748\n",
      "   p value = 0.6759\n",
      "   degrees of freedom = 1\n",
      "   expected values:\n",
      "\n"
     ]
    }
   ],
   "source": [
    "chi2, p, dof, expected = stats.chi2_contingency(CT)\n",
    "\n",
    "print('Data')\n",
    "print()\n",
    "print(CT)\n",
    "print()\n",
    "print('Chi-square results')\n",
    "print()\n",
    "print('   chi-square = '+ str(round(chi2,4)))\n",
    "print('   p value = '+ str(round(p,4)))\n",
    "print('   degrees of freedom = '+ str(dof))\n",
    "print('   expected values:')\n",
    "print()"
   ]
  },
  {
   "cell_type": "code",
   "execution_count": null,
   "metadata": {},
   "outputs": [],
   "source": [
    "I hope I went about this the right way. When I was looking through the data, I liked perusing\n",
    "the ones that had controls, so seeing if there was anything notable to look at between the \n",
    "managed and abandoned meadows in terms of abundance values, so I made my contingency table using\n",
    "the .pivot_table function and then ran the chi-square analysis. Very high p-value resulted. \n"
   ]
  },
  {
   "cell_type": "code",
   "execution_count": null,
   "metadata": {},
   "outputs": [],
   "source": [
    "\n"
   ]
  },
  {
   "cell_type": "code",
   "execution_count": null,
   "metadata": {},
   "outputs": [],
   "source": []
  }
 ],
 "metadata": {
  "kernelspec": {
   "display_name": "Python 3",
   "language": "python",
   "name": "python3"
  },
  "language_info": {
   "codemirror_mode": {
    "name": "ipython",
    "version": 3
   },
   "file_extension": ".py",
   "mimetype": "text/x-python",
   "name": "python",
   "nbconvert_exporter": "python",
   "pygments_lexer": "ipython3",
   "version": "3.7.3"
  }
 },
 "nbformat": 4,
 "nbformat_minor": 2
}
