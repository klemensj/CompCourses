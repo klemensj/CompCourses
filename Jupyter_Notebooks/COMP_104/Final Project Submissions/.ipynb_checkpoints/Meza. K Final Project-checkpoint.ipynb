{
 "cells": [
  {
   "cell_type": "code",
   "execution_count": 492,
   "metadata": {},
   "outputs": [
    {
     "data": {
      "text/html": [
       "<div>\n",
       "<style scoped>\n",
       "    .dataframe tbody tr th:only-of-type {\n",
       "        vertical-align: middle;\n",
       "    }\n",
       "\n",
       "    .dataframe tbody tr th {\n",
       "        vertical-align: top;\n",
       "    }\n",
       "\n",
       "    .dataframe thead th {\n",
       "        text-align: right;\n",
       "    }\n",
       "</style>\n",
       "<table border=\"1\" class=\"dataframe\">\n",
       "  <thead>\n",
       "    <tr style=\"text-align: right;\">\n",
       "      <th></th>\n",
       "      <th>Year</th>\n",
       "      <th>Number</th>\n",
       "    </tr>\n",
       "  </thead>\n",
       "  <tbody>\n",
       "    <tr>\n",
       "      <th>29691</th>\n",
       "      <td>1978</td>\n",
       "      <td>1385.343</td>\n",
       "    </tr>\n",
       "    <tr>\n",
       "      <th>29692</th>\n",
       "      <td>1979</td>\n",
       "      <td>1776.150</td>\n",
       "    </tr>\n",
       "    <tr>\n",
       "      <th>29693</th>\n",
       "      <td>1980</td>\n",
       "      <td>758.044</td>\n",
       "    </tr>\n",
       "    <tr>\n",
       "      <th>29694</th>\n",
       "      <td>1981</td>\n",
       "      <td>919.513</td>\n",
       "    </tr>\n",
       "    <tr>\n",
       "      <th>29695</th>\n",
       "      <td>1982</td>\n",
       "      <td>1501.865</td>\n",
       "    </tr>\n",
       "    <tr>\n",
       "      <th>29696</th>\n",
       "      <td>1983</td>\n",
       "      <td>1519.889</td>\n",
       "    </tr>\n",
       "    <tr>\n",
       "      <th>29697</th>\n",
       "      <td>1984</td>\n",
       "      <td>886.119</td>\n",
       "    </tr>\n",
       "    <tr>\n",
       "      <th>29698</th>\n",
       "      <td>1985</td>\n",
       "      <td>909.048</td>\n",
       "    </tr>\n",
       "    <tr>\n",
       "      <th>29699</th>\n",
       "      <td>1986</td>\n",
       "      <td>1044.746</td>\n",
       "    </tr>\n",
       "    <tr>\n",
       "      <th>29700</th>\n",
       "      <td>1987</td>\n",
       "      <td>859.456</td>\n",
       "    </tr>\n",
       "    <tr>\n",
       "      <th>29701</th>\n",
       "      <td>1988</td>\n",
       "      <td>843.668</td>\n",
       "    </tr>\n",
       "    <tr>\n",
       "      <th>29702</th>\n",
       "      <td>1989</td>\n",
       "      <td>932.376</td>\n",
       "    </tr>\n",
       "  </tbody>\n",
       "</table>\n",
       "</div>"
      ],
      "text/plain": [
       "       Year    Number\n",
       "29691  1978  1385.343\n",
       "29692  1979  1776.150\n",
       "29693  1980   758.044\n",
       "29694  1981   919.513\n",
       "29695  1982  1501.865\n",
       "29696  1983  1519.889\n",
       "29697  1984   886.119\n",
       "29698  1985   909.048\n",
       "29699  1986  1044.746\n",
       "29700  1987   859.456\n",
       "29701  1988   843.668\n",
       "29702  1989   932.376"
      ]
     },
     "execution_count": 492,
     "metadata": {},
     "output_type": "execute_result"
    }
   ],
   "source": [
    "# Correlation analysis between two variables to test their association\n",
    "# Data_Source ID: 1484 => Mexico Athropods .. => Israel Butterflies (1481)\n",
    "# variable_1 = year & variable_2 = number \n",
    "# FINAL DATA: 63 Dragonflies & 1418 Dragonflies\n",
    "\n",
    "#Importing Data\n",
    "import pandas as pd \n",
    "df = pd.read_csv(\"data/InsectAbundanceBiomassData.csv\") \n",
    "df = pd.DataFrame(df, columns= ['Year','Number'])\n",
    "#print (df)\n",
    "grouped = df.groupby('Year')\n",
    "df_some_rows1418 = df[29691:29703]\n",
    "#df_some_rows63 = df[0:30]\n",
    "#df_some_rows63\n",
    "df_some_rows1418\n",
    "#df_some_rows=df_some_rows63,df_some_rows1418\n",
    "#df_some_rows\n",
    "#df_some_rows.head()\n",
    "#df_some_rows.tail()\n"
   ]
  },
  {
   "cell_type": "code",
   "execution_count": 493,
   "metadata": {},
   "outputs": [
    {
     "name": "stdout",
     "output_type": "stream",
     "text": [
      "r = -0.538\n",
      "p-value = 0.0712\n"
     ]
    }
   ],
   "source": [
    "import numpy as np\n",
    "import scipy.stats\n",
    "\n",
    "#x = df_some_rows63['Year']\n",
    "#y = df_some_rows63['Number']\n",
    "\n",
    "x = df_some_rows1418['Year']\n",
    "y = df_some_rows1418['Number']\n",
    "\n",
    "scipy.stats.pearsonr(x,y)\n",
    "\n",
    "\n",
    "\n",
    "\n",
    "r, p = scipy.stats.pearsonr(x,y)\n",
    "p=round(p,4)      #attempted rounding all p and r values but did not work... \n",
    "#print(p)\n",
    "r=round(r,4)\n",
    "#print(r)\n",
    "print('r = '+str(round(r,4)))\n",
    "\n",
    "print('p-value = '+ str(round(p,4)))\n",
    "\n",
    " "
   ]
  },
  {
   "cell_type": "markdown",
   "metadata": {},
   "source": [
    "A negative r implies one variable increases while the other decreases. The P-value implies there is a 7% chance our null hypothesis is valid."
   ]
  },
  {
   "cell_type": "code",
   "execution_count": 502,
   "metadata": {},
   "outputs": [
    {
     "data": {
      "image/png": "[encoded data removed]",
      "text/plain": [
       "<Figure size 720x360 with 1 Axes>"
      ]
     },
     "metadata": {
      "needs_background": "light"
     },
     "output_type": "display_data"
    }
   ],
   "source": [
    "# Correlation Scatterplot \n",
    "import numpy as np\n",
    "import pandas as pd\n",
    "import matplotlib.pyplot as plt\n",
    "from scipy import stats\n",
    "from matplotlib.patches import Rectangle\n",
    "import matplotlib.patches as mpatches\n",
    "\n",
    "fig = plt.figure( figsize = (10,5))\n",
    "\n",
    "ax = plt.axes()\n",
    "plt.scatter(x,y)\n",
    "slope, intercept, r_value, p_value, std_err=stats.linregress(x,y)\n",
    "plt.plot(x, intercept + slope*x, 'r', label='fitted line')\n",
    "\n",
    "ax.spines['right'].set_visible(False)\n",
    "ax.spines['top'].set_visible(False)\n",
    "\n",
    "plt.text(1989,1720,('P-value=%f'%p),fontsize=12)\n",
    "plt.text(1989,1650,('r=%f'%r),fontsize = 12)\n",
    "\n",
    "ax.plot([1988.8,1992.5,1992.5,1988.8,1988.8],[1625,1625,1774,1774,1625],color=\"blue\")\n",
    "\n",
    "\n",
    "plt.ylabel('Number', fontsize = 12)\n",
    "plt.xlabel('Year', fontsize = 12)\n",
    "plt.title('Correlation Vetween Years and Number of Observed Tennessee Dragonflies ', fontsize = 16, fontweight = 'bold')\n",
    "plt.show()\n"
   ]
  },
  {
   "cell_type": "raw",
   "metadata": {},
   "source": [
    "The graph demonstrates there is about zero correlation between the years and number of Tenessee Dragonflies observed. "
   ]
  },
  {
   "cell_type": "code",
   "execution_count": 498,
   "metadata": {},
   "outputs": [
    {
     "name": "stdout",
     "output_type": "stream",
     "text": [
      "R^2: 0.289463\n",
      "r = -0.5380178195353545\n",
      "slope =  -50.528486013986\n",
      "intercept = 101334.6034254079\n"
     ]
    }
   ],
   "source": [
    "# Regression analysis; Can one variabe predict another? \n",
    "res = stats.linregress(x, y)\n",
    "#print(res)\n",
    "\n",
    "print(f\"R^2: {res.rvalue**2:.6f}\")\n",
    "print ('r =',res.rvalue)\n",
    "print(\"slope = \", res.slope)\n",
    "print(\"intercept =\", res.intercept)\n",
    "\n"
   ]
  },
  {
   "cell_type": "code",
   "execution_count": 503,
   "metadata": {},
   "outputs": [
    {
     "data": {
      "image/png": "[encoded data removed]",
      "text/plain": [
       "<Figure size 432x288 with 1 Axes>"
      ]
     },
     "metadata": {
      "needs_background": "light"
     },
     "output_type": "display_data"
    }
   ],
   "source": [
    "# Regression Scatterplot w/ line of best fit \n",
    "\n",
    "plt.plot(x, y, 'o', label='original data')\n",
    "\n",
    "ax.spines['right'].set_visible(False)\n",
    "ax.spines['top'].set_visible(False)\n",
    "\n",
    "plt.text(1984.2,1550,('p-value=%f'%p),fontsize=12)\n",
    "plt.text(1984.2,1488,('r =%f'%r),fontsize = 12)\n",
    "\n",
    "\n",
    "line = slope*x+intercept\n",
    "plt.plot(x, line, 'r', label='y={:.2f}x+{:.2f}'.format(slope,intercept))\n",
    "\n",
    "plt.ylabel('Number', fontsize = 12)\n",
    "plt.xlabel('Year', fontsize = 12)\n",
    "plt.title('Regression Between Years and Number of Observed Tennessee Dragonflies', fontsize = 16, fontweight = 'bold')\n",
    "\n",
    "plt.legend(loc='upper right')\n",
    "plt.show()"
   ]
  },
  {
   "cell_type": "code",
   "execution_count": 504,
   "metadata": {},
   "outputs": [
    {
     "name": "stdout",
     "output_type": "stream",
     "text": [
      "Year      1983.500000\n",
      "Number    1111.351417\n",
      "dtype: float64\n",
      "Year        3.605551\n",
      "Number    338.618984\n",
      "dtype: float64\n"
     ]
    }
   ],
   "source": [
    "# Mean and sd calculations\n",
    "df_mean=pd.DataFrame(df_some_rows1418)\n",
    "#print(df_mean)\n",
    "mean=df_mean.mean()\n",
    "print(mean)\n",
    "sd = df_mean.std()\n",
    "print(sd)\n",
    "\n",
    "#attempted calculating mean manually but realized was not needed but did not want to delete because spent time on this, sorry"
   ]
  },
  {
   "cell_type": "code",
   "execution_count": 527,
   "metadata": {},
   "outputs": [
    {
     "data": {
      "image/png": "[encoded data removed]",
      "text/plain": [
       "<Figure size 432x288 with 1 Axes>"
      ]
     },
     "metadata": {
      "needs_background": "light"
     },
     "output_type": "display_data"
    }
   ],
   "source": [
    "# Mean comparison between two categories within a single variable \n",
    "\n",
    "import matplotlib.pyplot as plt\n",
    "import numpy as np\n",
    "import pandas as pd\n",
    "from scipy import stats \n",
    "\n",
    "mean = 1\n",
    "sd = 0.25\n",
    "sample_size = 12    #was calculated by hand with ranges provided in first cell of code \n",
    "\n",
    "fig, ax = plt.subplots(1, 1)\n",
    "\n",
    "sample = np.random.normal(mean, sd, sample_size)\n",
    "#print(sample)\n",
    "plt.hist(sample, density = 'true')\n",
    "\n",
    "x = np.linspace(stats.norm.ppf(0.01, mean, sd), stats.norm.ppf(0.99,mean, sd),100)\n",
    "y = stats.norm.pdf(x, mean, sd)\n",
    "plt.plot(x,y, '-r') \n",
    "\n",
    "plt.title('Mean Comparison Between Years and Number of Observed Tennessee Dragonflies', size = 16,fontweight = 'bold')\n",
    "plt.text(stats.norm.ppf(0.01, mean, sd), 2.0, 'n='+str(sample_size), size = 12)\n",
    "plt.text(stats.norm.ppf(0.01, mean, sd), 1.8, 'mean='+str(round(np.mean(sample),3)), size = 12)\n",
    "plt.plot([np.mean(sample),np.mean(sample)],[0,2.5],':y', lw=3)\n",
    "\n",
    "fig.show()"
   ]
  },
  {
   "cell_type": "code",
   "execution_count": 528,
   "metadata": {},
   "outputs": [
    {
     "name": "stdout",
     "output_type": "stream",
     "text": [
      "Power_divergenceResult(statistic=11.502553399336875, pvalue=1.0)\n",
      "\n",
      "Chi-square statistic = 11.502553399336875\n",
      "p-value = 1.0\n"
     ]
    }
   ],
   "source": [
    "# Chi-square analysis comparing two categoriacal varaibles \n",
    "from scipy import stats\n",
    "\n",
    "X = stats.chisquare(x)\n",
    "print(X)\n",
    "print()\n",
    "print('Chi-square statistic = ' + str(X.statistic))\n",
    "print('p-value = ' + str(round(X.pvalue,4)))\n",
    " \n",
    "# Resulting table of expected values (good formatting) \n"
   ]
  },
  {
   "cell_type": "code",
   "execution_count": 529,
   "metadata": {},
   "outputs": [
    {
     "name": "stdout",
     "output_type": "stream",
     "text": [
      "(685.2599322739087, 7.7853535787774465e-140, 11, array([[2155.57709962, 1207.76590038],\n",
      "       [2406.68743736, 1348.46256264],\n",
      "       [1754.82100522,  983.22299478],\n",
      "       [1858.94789796, 1041.56510204],\n",
      "       [2232.82002822, 1251.04497178],\n",
      "       [2245.01256961, 1257.87643039],\n",
      "       [1839.46828783, 1030.65071217],\n",
      "       [1854.80445914, 1039.24354086],\n",
      "       [1942.41463698, 1088.33136302],\n",
      "       [1824.30259676, 1022.15340324],\n",
      "       [1814.82492108, 1016.84307892],\n",
      "       [1872.31906023, 1049.05693977]]))\n"
     ]
    }
   ],
   "source": [
    "# Contingency table \n",
    "import numpy as np\n",
    "\n",
    "data = np.array(df_some_rows1418)\n",
    "X = stats.chi2_contingency(data)\n",
    "\n",
    "print(X)"
   ]
  },
  {
   "cell_type": "code",
   "execution_count": 530,
   "metadata": {
    "scrolled": true
   },
   "outputs": [
    {
     "name": "stdout",
     "output_type": "stream",
     "text": [
      "Resulting Table of Expected Values:\n",
      "\n",
      "            Year    Number\n",
      "      1   1978.0  1385.343\n",
      "      2   1979.0  1776.150\n",
      "      3   1980.0   758.044\n",
      "      4   1981.0   919.513\n",
      "      5   1982.0  1501.865\n",
      "      6   1983.0  1519.889\n",
      "      7   1984.0   886.119\n",
      "      8   1985.0   909.048\n",
      "      9   1986.0  1044.746\n",
      "      10  1987.0   859.456\n",
      "      11  1988.0   843.668\n",
      "      12  1989.0   932.376\n",
      "\n",
      "Chi-square results:\n",
      "\n",
      "   chi-square = 685.2599\n",
      "   p-value = 0.0\n",
      "   degrees of freedom = 11\n",
      "\n"
     ]
    }
   ],
   "source": [
    "# Resulting table of expected values (good formatting) \n",
    "data_df = pd.DataFrame(data,index = [\"      1\",\"      2\",\"      3\",\"      4\",\"      5\",\"      6\",\"      7\",\"      8\",\"      9\",\"      10\",\"      11\",\"      12\"], columns = [\"Year\",\"Number\"])\n",
    "\n",
    "chi2, p, dof, expected = stats.chi2_contingency(data_df)\n",
    "\n",
    "print('Resulting Table of Expected Values:')\n",
    "print()\n",
    "print(data_df)\n",
    "print()\n",
    "print('Chi-square results:')\n",
    "print()\n",
    "print('   chi-square = '+ str(round(chi2,4)))\n",
    "print('   p-value = '+ str(round(p,4)))\n",
    "print('   degrees of freedom = '+ str(dof))\n",
    "print()\n"
   ]
  },
  {
   "cell_type": "markdown",
   "metadata": {},
   "source": [
    "Thank you for everything! Have a great Summer! "
   ]
  }
 ],
 "metadata": {
  "kernelspec": {
   "display_name": "Python 3",
   "language": "python",
   "name": "python3"
  },
  "language_info": {
   "codemirror_mode": {
    "name": "ipython",
    "version": 3
   },
   "file_extension": ".py",
   "mimetype": "text/x-python",
   "name": "python",
   "nbconvert_exporter": "python",
   "pygments_lexer": "ipython3",
   "version": "3.7.3"
  }
 },
 "nbformat": 4,
 "nbformat_minor": 2
}
