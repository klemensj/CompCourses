{
 "cells": [
  {
   "cell_type": "markdown",
   "metadata": {
    "slideshow": {
     "slide_type": "slide"
    }
   },
   "source": [
    "# Analysis of multivariate data\n",
    "\n",
    "- Regression line\n",
    "- Correlation\n",
    "\n",
    "Author:  Thomas Haslwanter, Date:    Jun-2017"
   ]
  },
  {
   "cell_type": "code",
   "execution_count": 2,
   "metadata": {
    "slideshow": {
     "slide_type": "fragment"
    }
   },
   "outputs": [],
   "source": [
    "%matplotlib inline\n",
    "import numpy as np\n",
    "import matplotlib.pyplot as plt\n",
    "import scipy.stats as stats\n",
    "import pandas as pd\n",
    "from numpy.linalg import lstsq\n",
    "from urllib.request import urlopen\n",
    "import statsmodels.api as sm"
   ]
  },
  {
   "cell_type": "markdown",
   "metadata": {
    "slideshow": {
     "slide_type": "subslide"
    }
   },
   "source": [
    "## Regression Line\n",
    "\n",
    "Fit a line, using the powerful \"ordinary least square\" method of pandas.\n",
    "\n",
    "*Data from 24 type 1 diabetic patients, relating Fasting blood glucose (mmol/l) to mean circumferential shortening velocity (%/sec), derived form echocardiography.*"
   ]
  },
  {
   "cell_type": "code",
   "execution_count": 3,
   "metadata": {
    "slideshow": {
     "slide_type": "fragment"
    }
   },
   "outputs": [],
   "source": [
    "# Get the data\n",
    "url_base = 'https://raw.githubusercontent.com/thomas-haslwanter/statsintro_python/master/ipynb/Data/data_altman/'\n",
    "inFile = 'altman_11_6.txt'\n",
    "url = url_base + inFile\n",
    "data = np.genfromtxt(urlopen(url), delimiter=',')"
   ]
  },
  {
   "cell_type": "markdown",
   "metadata": {
    "slideshow": {
     "slide_type": "subslide"
    }
   },
   "source": [
    "### Solve equations \"by hand\" ..."
   ]
  },
  {
   "cell_type": "code",
   "execution_count": 6,
   "metadata": {
    "slideshow": {
     "slide_type": "fragment"
    }
   },
   "outputs": [
    {
     "name": "stdout",
     "output_type": "stream",
     "text": [
      "(array([1.098, 0.022]), array([0.986]), 2, array([54.079,  1.838]))\n"
     ]
    },
    {
     "data": {
      "image/png": "[encoded data removed]",
      "text/plain": [
       "<Figure size 432x288 with 1 Axes>"
      ]
     },
     "metadata": {
      "needs_background": "light"
     },
     "output_type": "display_data"
    }
   ],
   "source": [
    "# First I have to delete rows containing \"nan\"\n",
    "a,b = np.where(np.isnan(data))\n",
    "data = np.delete(data, a, axis=0)\n",
    "\n",
    "x,y = data[:,0], data[:,1]\n",
    "plt.plot(x,y,'*')\n",
    "\n",
    "# Create the design matrix\n",
    "Xmat = sm.add_constant(x)\n",
    "\n",
    "# Calculate the parameters\n",
    "params = lstsq(Xmat, y, rcond=None)\n",
    "np.set_printoptions(precision=3)\n",
    "print(params)"
   ]
  },
  {
   "cell_type": "markdown",
   "metadata": {
    "slideshow": {
     "slide_type": "subslide"
    }
   },
   "source": [
    "### ... then solve them with *pandas* and *statsmodels*\n",
    "\n",
    "pandas handles \"nan\" gracefully, and also provides more information about the fit. So let's use pandas, and compare the results"
   ]
  },
  {
   "cell_type": "code",
   "execution_count": 7,
   "metadata": {
    "slideshow": {
     "slide_type": "fragment"
    }
   },
   "outputs": [
    {
     "name": "stdout",
     "output_type": "stream",
     "text": [
      "                 Results: Ordinary least squares\n",
      "=================================================================\n",
      "Model:              OLS              Adj. R-squared:     0.134   \n",
      "Dependent Variable: Vcf              AIC:                -3.1672 \n",
      "Date:               2021-03-26 12:47 BIC:                -0.8962 \n",
      "No. Observations:   23               Log-Likelihood:     3.5836  \n",
      "Df Model:           1                F-statistic:        4.414   \n",
      "Df Residuals:       21               Prob (F-statistic): 0.0479  \n",
      "R-squared:          0.174            Scale:              0.046957\n",
      "-------------------------------------------------------------------\n",
      "              Coef.    Std.Err.     t      P>|t|    [0.025   0.975]\n",
      "-------------------------------------------------------------------\n",
      "Intercept     1.0978     0.1175   9.3446   0.0000   0.8535   1.3421\n",
      "glucose       0.0220     0.0105   2.1010   0.0479   0.0002   0.0437\n",
      "-----------------------------------------------------------------\n",
      "Omnibus:              1.717        Durbin-Watson:           1.802\n",
      "Prob(Omnibus):        0.424        Jarque-Bera (JB):        1.270\n",
      "Skew:                 0.562        Prob(JB):                0.530\n",
      "Kurtosis:             2.756        Condition No.:           29   \n",
      "=================================================================\n",
      "\n"
     ]
    }
   ],
   "source": [
    "import statsmodels.formula.api as smf\n",
    "\n",
    "# Convert them into a pandas DataFrame\n",
    "df = pd.DataFrame(data, columns=['glucose', 'Vcf'])\n",
    "\n",
    "model_fit = smf.ols('Vcf~glucose', df).fit()\n",
    "\n",
    "print(model_fit.summary2())"
   ]
  },
  {
   "cell_type": "markdown",
   "metadata": {
    "slideshow": {
     "slide_type": "slide"
    }
   },
   "source": [
    "## Correlation\n",
    "\n",
    "Pearson correlation, and two types of rank correlation (Spearman, Kendall)\n",
    "\n",
    "*Comparing age and percentage of body-fat (measured by dual-photon absorptiometry) for 18 normal adults.*"
   ]
  },
  {
   "cell_type": "code",
   "execution_count": 13,
   "metadata": {
    "slideshow": {
     "slide_type": "fragment"
    }
   },
   "outputs": [],
   "source": [
    "# Get the data\n",
    "inFile = 'altman_11_1.txt'\n",
    "url = url_base + inFile\n",
    "data = np.genfromtxt(urlopen(url), delimiter=',')\n",
    "\n",
    "x = data[:,0]\n",
    "y = data[:,1]"
   ]
  },
  {
   "cell_type": "code",
   "execution_count": 14,
   "metadata": {
    "slideshow": {
     "slide_type": "subslide"
    }
   },
   "outputs": [
    {
     "name": "stdout",
     "output_type": "stream",
     "text": [
      "{'pearson': 0.7920862321784911, 'spearman': 0.7538795855376156, 'kendall': 0.5762094850891228}\n"
     ]
    }
   ],
   "source": [
    "# Calculate correlations\n",
    "corr = {}\n",
    "corr['pearson'], _ = stats.pearsonr(x,y)\n",
    "corr['spearman'], _ = stats.spearmanr(x,y)\n",
    "corr['kendall'], _ = stats.kendalltau(x,y)\n",
    "\n",
    "print(corr)    "
   ]
  },
  {
   "cell_type": "code",
   "execution_count": 15,
   "metadata": {
    "slideshow": {
     "slide_type": "fragment"
    }
   },
   "outputs": [
    {
     "name": "stdout",
     "output_type": "stream",
     "text": [
      "Spearman's rho = 0.754, and Pearson's r (rankordered) = 0.754\n"
     ]
    }
   ],
   "source": [
    "# Show that Spearman's rho is just the Pearson's R of the rank-ordered data\n",
    "r_rankordered = stats.pearsonr(stats.rankdata(x), stats.rankdata(y))[0]\n",
    "print(\"Spearman's rho = {0:5.3f}, and Pearson's r (rankordered) = {1:5.3f}\".format(corr['spearman'], r_rankordered))"
   ]
  },
  {
   "cell_type": "code",
   "execution_count": null,
   "metadata": {
    "collapsed": true,
    "jupyter": {
     "outputs_hidden": true
    }
   },
   "outputs": [],
   "source": []
  }
 ],
 "metadata": {
  "celltoolbar": "Slideshow",
  "kernelspec": {
   "display_name": "Python 3",
   "language": "python",
   "name": "python3"
  },
  "language_info": {
   "codemirror_mode": {
    "name": "ipython",
    "version": 3
   },
   "file_extension": ".py",
   "mimetype": "text/x-python",
   "name": "python",
   "nbconvert_exporter": "python",
   "pygments_lexer": "ipython3",
   "version": "3.7.3"
  }
 },
 "nbformat": 4,
 "nbformat_minor": 4
}
