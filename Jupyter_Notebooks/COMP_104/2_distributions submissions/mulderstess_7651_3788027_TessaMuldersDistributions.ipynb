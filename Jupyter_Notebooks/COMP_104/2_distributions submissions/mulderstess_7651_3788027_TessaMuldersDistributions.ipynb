{
 "cells": [
  {
   "cell_type": "markdown",
   "metadata": {},
   "source": [
    "<div align =\"right\">Thomas Jefferson University <b>COMP 104</b>: Intro to Big Data</div>"
   ]
  },
  {
   "cell_type": "markdown",
   "metadata": {},
   "source": [
    "# Distributions\n",
    "\n",
    "We will complete the exercises that accompany sections 6.1-6.3 and found on page 119 in the textbook. For each exercise the correct answers are given in the text, write python code to calculate each answer and use the given data to confirm. \n",
    "\n",
    "### 6.1 Sample Standard Deviation\n",
    "Create an numpy-array, containing the data 1, 2, 3, ..., 10. Calculate mean and\n",
    "sample(!)-standard deviation. (Correct answer for the SD: 3.03.)"
   ]
  },
  {
   "cell_type": "code",
   "execution_count": 55,
   "metadata": {},
   "outputs": [
    {
     "name": "stdout",
     "output_type": "stream",
     "text": [
      "5.5\n",
      "3.0276503540974917\n"
     ]
    }
   ],
   "source": [
    "import numpy as np\n",
    "import pandas as pd\n",
    "from scipy import stats\n",
    "import scipy.stats as ss\n",
    "import matplotlib as plt\n",
    "\n",
    "x = np.arange(1,11)\n",
    "mean = np.mean(x)\n",
    "std=np.std(x, ddof=1)\n",
    "print(mean)\n",
    "print(std)"
   ]
  },
  {
   "cell_type": "markdown",
   "metadata": {},
   "source": [
    "### 6.2 Normal Distribution\n",
    "* Generate and plot the Probability Density Function (PDF) of a normal distribution,\n",
    "with a mean of 5 and a standard deviation of 3.\n",
    "* Generate 1000 random data from this distribution.\n",
    "* Calculate the standard error of the mean of these data. (Correct answer: ca.\n",
    "0.096.)\n",
    "* Plot the histogram of these data.\n",
    "* From the PDF, calculate the interval containing 95% of these data. (Correct\n",
    "answer: [ -0.88, 10.88].)\n",
    "* Your doctor tells you that he can use hip implants for surgery even if they are\n",
    "1mm bigger or smaller than the specified size. And your financial officer tells\n",
    "you that you can discard 1 out of 1000 hip implants, and still make a profit.\n",
    "What is the required standard deviation for the producer of the hip implants,\n",
    "to simultaneously satisfy both requirements? (Correct answer: sigma = 0:304 mm.)"
   ]
  },
  {
   "cell_type": "code",
   "execution_count": 93,
   "metadata": {},
   "outputs": [
    {
     "data": {
      "image/png": "[encoded data removed]",
      "text/plain": [
       "<Figure size 432x288 with 1 Axes>"
      ]
     },
     "metadata": {
      "needs_background": "light"
     },
     "output_type": "display_data"
    },
    {
     "name": "stdout",
     "output_type": "stream",
     "text": [
      "The standard error is 0.09669915238615182\n"
     ]
    },
    {
     "data": {
      "image/png": "[encoded data removed]",
      "text/plain": [
       "<Figure size 432x288 with 1 Axes>"
      ]
     },
     "metadata": {
      "needs_background": "light"
     },
     "output_type": "display_data"
    },
    {
     "name": "stdout",
     "output_type": "stream",
     "text": [
      "The 95% confidence interval is[-0.87989195 10.87989195]\n",
      "the standard deviation to fit the requirements is 0.3039027127266671\n"
     ]
    }
   ],
   "source": [
    "from scipy.stats import norm\n",
    "import numpy as np\n",
    "import matplotlib.pyplot as plt\n",
    "from scipy.stats import sem\n",
    "\n",
    "myDF = stats.norm(loc=5,scale=3)    # Create the frozen distribution\n",
    "x = np.linspace(-5, 15, 101)\n",
    "y = myDF.pdf(x) \n",
    "plt.plot(x, y, label='pdf')\n",
    "plt.show()\n",
    "\n",
    "data = myDF.rvs(1000)   #random data points\n",
    "se = np.std(data, ddof=0)/np.sqrt(1000)\n",
    "print('The standard error is {0}'.format(se))\n",
    "plt.hist(data)\n",
    "plt.show()\n",
    "\n",
    "a = 0.05\n",
    "print('The 95% confidence interval is{0}'.format(myDF.ppf([a/2, 1-a/2]) ))\n",
    "\n",
    "##hip implants: looking for 0.999 probability that implants are within 1mm of specified size\n",
    "##the probability of falling outside requirements is 0.001/2 on each end of distribution\n",
    "##looking for the size such that the probability random number would be greater than 0.005\n",
    "##size*SD = 1mm\n",
    "\n",
    "normal = stats.norm()\n",
    "numSDs = normal.isf(0.0005)\n",
    "OS = 1/numSDs\n",
    "\n",
    "print('the standard deviation to fit the requirements is {0}'.format(OS))"
   ]
  },
  {
   "cell_type": "markdown",
   "metadata": {},
   "source": [
    "### 6.3 Continuous Distributions\n",
    "* t-Distribution: Measuring the weight of your colleagues, you have obtained the following weights: 52, 70, 65, 85, 62, 83, 59 kg. Calculate the corresponding mean, and the 99% confidence interval for the mean. Note: with n values you have n - 1 DOF for the t-distribution. (Correct answer: 68.0 +/- 17.2 kg.)\n",
    "* Chi-square Distribution: Create three normally distributed data sets (mean = 0, SD = 1), with 1000 samples each. Then square them, sum them (so that you have 1000 data-points), and create a histogram with 100 bins. This should be similar to the curve for the chi-square distribution, with 3 DOF (i.e., it should come down at the left, see Fig. 6.22).\n",
    "* F-Distribution: You have two apple trees. There are three apples from the first tree that weigh 110, 121, and 143 g, respectively, and four from the other which weigh 88, 93, 105, and 124 g, respectively. Are the variances from the two trees different? Note: calculate the corresponding F-value, and check if the CDF for thecorresponding F-distribution is < 0.025. (Correct answer: no.)"
   ]
  },
  {
   "cell_type": "code",
   "execution_count": 122,
   "metadata": {},
   "outputs": [
    {
     "name": "stdout",
     "output_type": "stream",
     "text": [
      "mean +/- 99%CI = 68.0 +/- 17.162056903012893\n"
     ]
    },
    {
     "data": {
      "image/png": "[encoded data removed]",
      "text/plain": [
       "<Figure size 432x288 with 1 Axes>"
      ]
     },
     "metadata": {
      "needs_background": "light"
     },
     "output_type": "display_data"
    },
    {
     "name": "stdout",
     "output_type": "stream",
     "text": [
      "The p-value  = 0.537640478466751.\n"
     ]
    }
   ],
   "source": [
    "df = [52,70,65,85,62,83,59]\n",
    "mean = np.mean(df)\n",
    "tdist = stats.t(len(df)-1)\n",
    "alpha = 0.01\n",
    "tv = abs( tdist.ppf(alpha/2)*stats.sem(df) )\n",
    "print('mean +/- 99%CI = {0} +/- {1}'.format(np.mean(df),tv))\n",
    "\n",
    "\n",
    "nd = stats.norm()\n",
    "n = 1000\n",
    "\n",
    "ds1 = nd.rvs(n)\n",
    "ds2 = nd.rvs(n)\n",
    "ds3 = nd.rvs(n)\n",
    "\n",
    "plt.hist(ds1**2+ds2**2 +ds3**2, 100)\n",
    "plt.show()\n",
    "\n",
    "\n",
    "tree1 = [110,121,143]\n",
    "tree2 = [88,93,105,124]\n",
    "fv = np.std(tree1, ddof=1)/np.std(tree2, ddof=1)\n",
    "fd = stats.distributions.f(len(tree1),len(tree2))\n",
    "pvalue = fd.cdf(fv)\n",
    "print('The p-value  = {0}.'.format(pvalue))\n"
   ]
  },
  {
   "cell_type": "markdown",
   "metadata": {},
   "source": [
    "![Alt text that will appear on mouseover](images/TJU_logo_image.png \"TJU logo image\")"
   ]
  },
  {
   "cell_type": "code",
   "execution_count": null,
   "metadata": {},
   "outputs": [],
   "source": []
  }
 ],
 "metadata": {
  "kernelspec": {
   "display_name": "Python 3",
   "language": "python",
   "name": "python3"
  },
  "language_info": {
   "codemirror_mode": {
    "name": "ipython",
    "version": 3
   },
   "file_extension": ".py",
   "mimetype": "text/x-python",
   "name": "python",
   "nbconvert_exporter": "python",
   "pygments_lexer": "ipython3",
   "version": "3.7.3"
  }
 },
 "nbformat": 4,
 "nbformat_minor": 2
}
