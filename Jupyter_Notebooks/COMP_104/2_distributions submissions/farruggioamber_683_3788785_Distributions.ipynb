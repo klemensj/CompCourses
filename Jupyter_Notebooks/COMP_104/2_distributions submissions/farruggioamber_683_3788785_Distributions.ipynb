{
 "cells": [
  {
   "cell_type": "markdown",
   "metadata": {},
   "source": [
    "<div align =\"right\">Thomas Jefferson University <b>COMP 104</b>: Intro to Big Data</div>"
   ]
  },
  {
   "cell_type": "markdown",
   "metadata": {},
   "source": [
    "# Distributions\n",
    "\n",
    "We will complete the exercises that accompany sections 6.1-6.3 and found on page 119 in the textbook. For each exercise the correct answers are given in the text, write python code to calculate each answer and use the given data to confirm. \n",
    "\n",
    "### 6.1 Sample Standard Deviation\n",
    "Create an numpy-array, containing the data 1, 2, 3, ..., 10. Calculate mean and\n",
    "sample(!)-standard deviation. (Correct answer for the SD: 3.03.)"
   ]
  },
  {
   "cell_type": "code",
   "execution_count": 4,
   "metadata": {},
   "outputs": [
    {
     "name": "stdout",
     "output_type": "stream",
     "text": [
      "[ 1  2  3  4  5  6  7  8  9 10]\n",
      "<class 'numpy.ndarray'>\n",
      "Mean of The Numpy Array\n",
      "5.5\n",
      "Standarad Deviation of The Numpy Array\n",
      "2.8722813232690143\n"
     ]
    }
   ],
   "source": [
    "import numpy as np\n",
    "\n",
    "data = np.array ([1,2,3,4,5,6,7,8,9,10])\n",
    "print(data)\n",
    "\n",
    "print(type(data))\n",
    "\n",
    "print(\"Mean of The Numpy Array\")\n",
    "print(data.mean())\n",
    "\n",
    "print(\"Standarad Deviation of The Numpy Array\")\n",
    "print(data.std())"
   ]
  },
  {
   "cell_type": "markdown",
   "metadata": {},
   "source": [
    "### 6.2 Normal Distribution\n",
    "* Generate and plot the Probability Density Function (PDF) of a normal distribution,\n",
    "with a mean of 5 and a standard deviation of 3.\n",
    "* Generate 1000 random data from this distribution.\n",
    "* Calculate the standard error of the mean of these data. (Correct answer: ca.\n",
    "0.096.)\n",
    "* Plot the histogram of these data.\n",
    "* From the PDF, calculate the interval containing 95% of these data. (Correct\n",
    "answer: [ -0.88, 10.88].)\n",
    "* Your doctor tells you that he can use hip implants for surgery even if they are\n",
    "1mm bigger or smaller than the specified size. And your financial officer tells\n",
    "you that you can discard 1 out of 1000 hip implants, and still make a profit.\n",
    "What is the required standard deviation for the producer of the hip implants,\n",
    "to simultaneously satisfy both requirements? (Correct answer: sigma = 0:304 mm.)"
   ]
  },
  {
   "cell_type": "code",
   "execution_count": 18,
   "metadata": {},
   "outputs": [
    {
     "data": {
      "image/png": "[encoded data removed]",
      "text/plain": [
       "<Figure size 432x288 with 1 Axes>"
      ]
     },
     "metadata": {
      "needs_background": "light"
     },
     "output_type": "display_data"
    },
    {
     "data": {
      "text/plain": [
       "array([-0.87989195, 10.87989195])"
      ]
     },
     "execution_count": 18,
     "metadata": {},
     "output_type": "execute_result"
    }
   ],
   "source": [
    "from scipy import stats\n",
    "from scipy.stats import norm\n",
    "import matplotlib.pyplot as plt\n",
    "\n",
    "norm.pdf(x = 1.0, loc = 5, scale = 3)\n",
    "fig, ax = plt.subplots()\n",
    "\n",
    "x = np.arange(-4, 4, 0.001)\n",
    "\n",
    "ax.set_title('N(0,$1^2$)', fontsize = 20)\n",
    "ax.set_xlabel('x', fontsize = 18)\n",
    "ax.set_ylabel('f(x)', fontsize = 18)\n",
    "\n",
    "ax.plot(x,norm.pdf(x))\n",
    "ax.set_ylim(0,.45)\n",
    "\n",
    "plt.show()\n",
    "\n",
    "mu = 5\n",
    "sigma = 3\n",
    "myDistribution = stats.norm(mu, sigma)\n",
    "significanceLevel = .05\n",
    "myDistribution.ppf( [significanceLevel/2, 1-significanceLevel/2] )\n"
   ]
  },
  {
   "cell_type": "markdown",
   "metadata": {},
   "source": [
    "### 6.3 Continuous Distributions\n",
    "* t-Distribution: Measuring the weight of your colleagues, you have obtained the following weights: 52, 70, 65, 85, 62, 83, 59 kg. Calculate the corresponding mean, and the 99% confidence interval for the mean. Note: with n values you have n - 1 DOF for the t-distribution. (Correct answer: 68.0 +/- 17.2 kg.)\n",
    "* Chi-square Distribution: Create three normally distributed data sets (mean = 0, SD = 1), with 1000 samples each. Then square them, sum them (so that you have 1000 data-points), and create a histogram with 100 bins. This should be similar to the curve for the chi-square distribution, with 3 DOF (i.e., it should come down at the left, see Fig. 6.22).\n",
    "* F-Distribution: You have two apple trees. There are three apples from the first tree that weigh 110, 121, and 143 g, respectively, and four from the other which weigh 88, 93, 105, and 124 g, respectively. Are the variances from the two trees different? Note: calculate the corresponding F-value, and check if the CDF for thecorresponding F-distribution is < 0.025. (Correct answer: no.)"
   ]
  },
  {
   "cell_type": "code",
   "execution_count": 24,
   "metadata": {},
   "outputs": [
    {
     "name": "stdout",
     "output_type": "stream",
     "text": [
      "[52 70 65 85 62 83 59]\n",
      "<class 'numpy.ndarray'>\n",
      "Mean of Weight of Your Colleagues\n",
      "68.0\n"
     ]
    },
    {
     "data": {
      "text/plain": [
       "(56.67299914008524, 79.32700085991476)"
      ]
     },
     "execution_count": 24,
     "metadata": {},
     "output_type": "execute_result"
    }
   ],
   "source": [
    "#t-Distribution\n",
    "import numpy as np\n",
    "import scipy.stats as st\n",
    "\n",
    "data = np.array([52,70,65,85,62,83,59])\n",
    "print(data)\n",
    "print(type(data))\n",
    "\n",
    "print(\"Mean of Weight of Your Colleagues\")\n",
    "print(data.mean())\n",
    "\n",
    "st.t.interval(0.95, len(data)-1, loc=np.mean(data), scale=st.sem(data))\n"
   ]
  },
  {
   "cell_type": "code",
   "execution_count": 25,
   "metadata": {},
   "outputs": [
    {
     "data": {
      "image/png": "[encoded data removed]",
      "text/plain": [
       "<Figure size 432x288 with 1 Axes>"
      ]
     },
     "metadata": {
      "needs_background": "light"
     },
     "output_type": "display_data"
    }
   ],
   "source": [
    "#Chi-square distribution\n",
    "from scipy import stats\n",
    "nd = stats.norm()\n",
    "\n",
    "numData = 1000\n",
    "data1 = nd.rvs(numData)\n",
    "data2 = nd.rvs(numData)\n",
    "data3 = nd.rvs(numData)\n",
    "\n",
    "plt.hist(data1**2+data2**2+data3**2, 100)\n",
    "plt.show()\n"
   ]
  },
  {
   "cell_type": "code",
   "execution_count": 27,
   "metadata": {},
   "outputs": [
    {
     "name": "stdout",
     "output_type": "stream",
     "text": [
      "The p-value of The F-Distribution = 0.537640478466751.\n",
      "The Variances Are Equal :)\n"
     ]
    }
   ],
   "source": [
    "#F-distribution\n",
    "\n",
    "apples1 = [110,121,143]\n",
    "apples2 = [88,93,105,124]\n",
    "\n",
    "fval = np.std(apples1,ddof=1)/np.std(apples2,ddof=1)\n",
    "fd = stats.distributions.f(len(apples1),len(apples2))\n",
    "pval = fd.cdf(fval)\n",
    "print(\"The p-value of The F-Distribution = {0}.\".format(pval))\n",
    "\n",
    "if pval>.025 and pval<.975:\n",
    "    print(\"The Variances Are Equal :)\")"
   ]
  },
  {
   "cell_type": "markdown",
   "metadata": {},
   "source": [
    "![Alt text that will appear on mouseover](images/TJU_logo_image.png \"TJU logo image\")"
   ]
  }
 ],
 "metadata": {
  "kernelspec": {
   "display_name": "Python 3",
   "language": "python",
   "name": "python3"
  },
  "language_info": {
   "codemirror_mode": {
    "name": "ipython",
    "version": 3
   },
   "file_extension": ".py",
   "mimetype": "text/x-python",
   "name": "python",
   "nbconvert_exporter": "python",
   "pygments_lexer": "ipython3",
   "version": "3.8.3"
  }
 },
 "nbformat": 4,
 "nbformat_minor": 2
}
