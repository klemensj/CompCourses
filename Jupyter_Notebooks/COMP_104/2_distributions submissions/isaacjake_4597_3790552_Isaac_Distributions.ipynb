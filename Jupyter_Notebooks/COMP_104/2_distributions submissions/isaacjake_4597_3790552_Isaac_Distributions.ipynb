{
 "cells": [
  {
   "cell_type": "markdown",
   "metadata": {},
   "source": [
    "<div align =\"right\">Thomas Jefferson University <b>COMP 104</b>: Intro to Big Data</div>"
   ]
  },
  {
   "cell_type": "markdown",
   "metadata": {},
   "source": [
    "# Distributions\n",
    "\n",
    "We will complete the exercises that accompany sections 6.1-6.3 and found on page 119 in the textbook. For each exercise the correct answers are given in the text, write python code to calculate each answer and use the given data to confirm. \n",
    "\n",
    "### 6.1 Sample Standard Deviation\n",
    "Create an numpy-array, containing the data 1, 2, 3, ..., 10. Calculate mean and\n",
    "sample(!)-standard deviation. (Correct answer for the SD: 3.03.)"
   ]
  },
  {
   "cell_type": "code",
   "execution_count": 297,
   "metadata": {},
   "outputs": [
    {
     "name": "stdout",
     "output_type": "stream",
     "text": [
      "Mean is  5.5\n",
      "SD is  3.03\n"
     ]
    }
   ],
   "source": [
    "import math\n",
    "import pandas as pd\n",
    "import numpy as np\n",
    "import matplotlib.pyplot as plt\n",
    "\n",
    "from scipy import stats\n",
    "from scipy.stats import norm\n",
    "from scipy.stats import t\n",
    "from scipy.stats import f\n",
    "\n",
    "import seaborn as sns\n",
    "from statistics import NormalDist\n",
    "\n",
    "arr = np.array([1,2,3,4,5,6,7,8,9,10])\n",
    "print(\"Mean is \", np.mean(arr))\n",
    "print(\"SD is \", round(np.std(arr, ddof=1),2))"
   ]
  },
  {
   "cell_type": "markdown",
   "metadata": {},
   "source": [
    "### 6.2 Normal Distribution\n",
    "* Generate and plot the Probability Density Function (PDF) of a normal distribution,\n",
    "with a mean of 5 and a standard deviation of 3.\n",
    "* Generate 1000 random data from this distribution.\n",
    "* Calculate the standard error of the mean of these data. (Correct answer: ca.\n",
    "0.096.)\n",
    "* Plot the histogram of these data.\n",
    "* From the PDF, calculate the interval containing 95% of these data. (Correct\n",
    "answer: [ -0.88, 10.88].)\n",
    "* Your doctor tells you that he can use hip implants for surgery even if they are\n",
    "1mm bigger or smaller than the specified size. And your financial officer tells\n",
    "you that you can discard 1 out of 1000 hip implants, and still make a profit.\n",
    "What is the required standard deviation for the producer of the hip implants,\n",
    "to simultaneously satisfy both requirements? (Correct answer: sigma = 0:304 mm.)"
   ]
  },
  {
   "cell_type": "code",
   "execution_count": 348,
   "metadata": {},
   "outputs": [
    {
     "name": "stdout",
     "output_type": "stream",
     "text": [
      "Mean is  4.947988820280004\n",
      "SD is  2.92\n",
      "SE (using math) is  0.0923906712409965\n",
      "SE (using scipy) is  0.09234446435076406\n",
      "\n",
      "95% Confidence interval of the PDF is between -0.88  and  10.88\n",
      "\n",
      "The maximum standard deviation for hip implants is  0.304 mm\n"
     ]
    },
    {
     "data": {
      "image/png": "[encoded data removed]",
      "text/plain": [
       "<Figure size 432x288 with 1 Axes>"
      ]
     },
     "metadata": {
      "needs_background": "light"
     },
     "output_type": "display_data"
    }
   ],
   "source": [
    "fig, ax = plt.subplots()\n",
    "plt.xlim(-5, 15)\n",
    "\n",
    "x = np.linspace(-5, 15, 1000)\n",
    "pdf = ss.norm.pdf(x, 5, 3)\n",
    "ax1 = sns.lineplot(x, pdf, label='PDF', color='purple')\n",
    "\n",
    "mu, sigma = 5, 3\n",
    "dist = np.random.normal(mu, sigma, 1000)\n",
    "ax2 = sns.distplot(dist,\n",
    "                  kde=True,\n",
    "                  bins=100,\n",
    "                  color='skyblue',\n",
    "                  hist_kws={\"linewidth\": 15,'alpha':1},\n",
    "                  label=\"Random Distribution\")\n",
    "ax2.set(xlabel='Normal Distribution', ylabel='Frequency')\n",
    "\n",
    "\n",
    "\n",
    "print(\"Mean is \", np.mean(dist))\n",
    "print(\"SD is \", round(np.std(dist, ddof=1),2))\n",
    "#\n",
    "print(\"SE (using math) is \", (np.std(dist, ddof=1))/(math.sqrt(dist.size)))\n",
    "print(\"SE (using scipy) is \", stats.sem(dist, axis=None, ddof=0))\n",
    "print()\n",
    "#\n",
    "print(\"95% Confidence interval of the PDF is between\", round((norm.ppf(0.025, loc=5, scale=3)),2),\n",
    "      \" and \", round(norm.ppf(0.975, loc=5, scale=3),2))\n",
    "print()\n",
    "#\n",
    "margin=1/2000\n",
    "z = norm.ppf(1-margin)\n",
    "print (\"The maximum standard deviation for hip implants is \", round(1/z,3), \"mm\")"
   ]
  },
  {
   "cell_type": "markdown",
   "metadata": {},
   "source": [
    "### 6.3 Continuous Distributions\n",
    "* t-Distribution: Measuring the weight of your colleagues, you have obtained the following weights: 52, 70, 65, 85, 62, 83, 59 kg. Calculate the corresponding mean, and the 99% confidence interval for the mean. Note: with n values you have n - 1 DOF for the t-distribution. (Correct answer: 68.0 +/- 17.2 kg.)\n",
    "* Chi-square Distribution: Create three normally distributed data sets (mean = 0, SD = 1), with 1000 samples each. Then square them, sum them (so that you have 1000 data-points), and create a histogram with 100 bins. This should be similar to the curve for the chi-square distribution, with 3 DOF (i.e., it should come down at the left, see Fig. 6.22).\n",
    "* F-Distribution: You have two apple trees. There are three apples from the first tree that weigh 110, 121, and 143 g, respectively, and four from the other which weigh 88, 93, 105, and 124 g, respectively. Are the variances from the two trees different? Note: calculate the corresponding F-value, and check if the CDF for thecorresponding F-distribution is < 0.025. (Correct answer: no.)"
   ]
  },
  {
   "cell_type": "code",
   "execution_count": 346,
   "metadata": {},
   "outputs": [
    {
     "name": "stdout",
     "output_type": "stream",
     "text": [
      "Mean is  68.0 kg\n",
      "99% Confidence interval is +/- 45.41 kg ###(not sure what I am doing wrong)\n",
      "\n",
      "Variance of tree 1 is  282.33  and of tree 2 is  256.33\n",
      "Since the F-value is  0.5622  and therefore above 0.025 we conclude that the variances are not statistically different.\n"
     ]
    },
    {
     "data": {
      "image/png": "[encoded data removed]",
      "text/plain": [
       "<Figure size 432x288 with 1 Axes>"
      ]
     },
     "metadata": {
      "needs_background": "light"
     },
     "output_type": "display_data"
    }
   ],
   "source": [
    "mass = np.array([52, 70, 65, 85, 62, 83, 59])\n",
    "massu = np.mean(mass)\n",
    "masss = np.std(mass, ddof=1)\n",
    "print(\"Mean is \", np.mean(mass), \"kg\")\n",
    "print(\"99% Confidence interval is +/-\", round(t.ppf(0.995, df=6, loc=0, scale=masss),2), \"kg ###(not sure what I am doing wrong)\")\n",
    "print(\"\")\n",
    "#\n",
    "df1 = np.random.normal(0, 1, 1000)\n",
    "df1 = np.square(df1)\n",
    "df2 = np.random.normal(0, 1, 1000)\n",
    "df2 = np.square(df2)\n",
    "df3 = np.random.normal(0, 1, 1000)\n",
    "df3 = np.square(df3)\n",
    "dfsum = df1+df2+df3\n",
    "np.mean(dfsum)\n",
    "ax = sns.distplot(dfsum,\n",
    "                  kde=True,\n",
    "                  bins=100,\n",
    "                  color='skyblue',\n",
    "                  hist_kws={\"linewidth\": 15,'alpha':1},\n",
    "                  label=\"Random Distribution\")\n",
    "plt.xlim(0,15)\n",
    "#\n",
    "tree1 = [110,121,143]\n",
    "tree2 = [88,93,105,124]\n",
    "print(\"Variance of tree 1 is \", round(np.var(tree1, ddof=1),2), \" and of tree 2 is \", round(np.var(tree2, ddof=1),2))\n",
    "print(\"Since the F-value is \", round(f.cdf((np.var(tree1, ddof=1))/(np.var(tree2, ddof=1)), 2, 3),4), \" and therefore above 0.025 we conclude that the variances are not statistically different.\")"
   ]
  },
  {
   "cell_type": "markdown",
   "metadata": {},
   "source": [
    "![Alt text that will appear on mouseover](images/TJU_logo_image.png \"TJU logo image\")"
   ]
  }
 ],
 "metadata": {
  "kernelspec": {
   "display_name": "Python 3",
   "language": "python",
   "name": "python3"
  },
  "language_info": {
   "codemirror_mode": {
    "name": "ipython",
    "version": 3
   },
   "file_extension": ".py",
   "mimetype": "text/x-python",
   "name": "python",
   "nbconvert_exporter": "python",
   "pygments_lexer": "ipython3",
   "version": "3.8.3"
  }
 },
 "nbformat": 4,
 "nbformat_minor": 2
}
