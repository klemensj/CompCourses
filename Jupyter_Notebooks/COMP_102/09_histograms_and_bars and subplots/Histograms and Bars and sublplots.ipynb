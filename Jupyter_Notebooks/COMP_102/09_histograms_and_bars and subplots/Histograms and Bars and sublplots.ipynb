{
 "cells": [
  {
   "cell_type": "markdown",
   "metadata": {},
   "source": [
    "<div align =\"right\">Thomas Jefferson University <b>COMP 103</b>: Intro to Scientific Computing</div>"
   ]
  },
  {
   "cell_type": "markdown",
   "metadata": {},
   "source": [
    "# Bar plots, Histograms, and using subplots\n",
    "\n",
    "In this lesson we will talk about two types of graphs that appear superficially similar but that are in fact quite different from another: they have completely different purposes and are derived from very different underlying data sets. \n",
    "\n",
    "Histograms are charts used in descriptive statistics to show the **distribution** of a single variable. The bars represent ranges of the data and the heights of the bars represent the number or count of observations that fall within that range. A histogram shows how observations are distributed. The familiar **bell curve** is usually given as a histogram or a density plot (which is just a 'smoothed' version of a histogram).  \n",
    "\n",
    "Bar plots are used to illustrate a comparison between groups or categories. Typically the bars represent the **mean** value of some variable as measured in different groups. The distribution of values is not shown by a bar plot, to make up for this we can add **error bars** to a bar plot in order to give some idea of how the data varies around the mean that is displayed.\n",
    "\n",
    "Before we dive into barplots and histograms, however, we are going to take a closer look at how we create figures in matplotlib. \n",
    "\n",
    "\n",
    "## Explicit control over figures and axes in matplotlib\n",
    "\n",
    "As our graphing needs get more precise, and as we want to include more information in our figures, we may want to have more control over graphs,  in particular finer control over the size of a figure, of the layouts of graphs relative to one another, and over the axes and bounding boxes. Matplotlib can easily control all of these things, but we will need to use a slightly different setup. Before, we simply created an object by calling the matplotlib function directly, as shown below. This is the *implicit* method of creating figures. For example:\n"
   ]
  },
  {
   "cell_type": "code",
   "execution_count": 1,
   "metadata": {},
   "outputs": [
    {
     "data": {
      "image/png": "[encoded data removed]",
      "text/plain": [
       "<Figure size 432x288 with 1 Axes>"
      ]
     },
     "metadata": {
      "needs_background": "light"
     },
     "output_type": "display_data"
    }
   ],
   "source": [
    "import matplotlib.pyplot as plt\n",
    "\n",
    "plt.plot([1,2,3,4],[5,6,7,8], marker = 'o', color = 'maroon')\n",
    "\n",
    "plt.show()"
   ]
  },
  {
   "cell_type": "markdown",
   "metadata": {},
   "source": [
    "Another way to create the same graph is to first assign the figure itself to a `figure` object and then create an `axes` object (both were created invisibly for us when we use the methods we have used up until now) and assign variable names (`fig` and `ax` in our example) to them. "
   ]
  },
  {
   "cell_type": "code",
   "execution_count": 5,
   "metadata": {},
   "outputs": [
    {
     "data": {
      "text/plain": [
       "<Figure size 720x360 with 0 Axes>"
      ]
     },
     "metadata": {},
     "output_type": "display_data"
    }
   ],
   "source": [
    "fig = plt.figure(figsize=(10,5))    # creates a figure object named fig to hold overall figure, within this we \n",
    "                                     ##can set things like overall figure size in inches: figsize(x,y)\n",
    "ax = plt.axes()                    # creates a separate names object ax to hold axes, allows for certain mods\n",
    "plt.show()\n"
   ]
  },
  {
   "cell_type": "markdown",
   "metadata": {},
   "source": [
    "Try running the code above again while commenting out first the first and then the second line. What is it showing you here? Can you figure out the difference? You should see that the `figure` object creates an empty workspace, without a set of axes, it won't show anything. If we just create the `axes` object we create the figure by default, much as we did when we created a graph implicitly in the previous example. \n",
    "\n",
    "Using figure and method objects *explicity* also allows them to be manipulated using methods that are specific to these object types. That last sentence may be confusing, so let's look at an example. Combining what we have done so far, we will add something by using a method associated with the `axes` type object (the variable `ax`)."
   ]
  },
  {
   "cell_type": "code",
   "execution_count": null,
   "metadata": {},
   "outputs": [],
   "source": [
    "fig = plt.figure(figsize=(10,5))                                # create figure and axes object, assign to vars fig, ax\n",
    "ax = plt.axes() \n",
    "\n",
    "plt.plot([1,2,3,4],[5,6,7,8], marker = 'o', color = 'maroon')\n",
    "#ax.plot([1,2,3,4],[5,6,7,8], marker = 'o', color = 'maroon')   # we can also call .plt as a method of the axes object\n",
    "                                                                ## try commenting out the line above and uncommenting\n",
    "                                                                ## this one\n",
    "\n",
    "ax.spines['right'].set_visible(False)                           # .spines is a method for manipulating an axes object\n",
    "ax.spines['top'].set_visible(False)                             ## I think this code is fairly self explanatory. There\n",
    "                                                                ## are many many controls like this for refining graphs\n",
    "        \n",
    "        \n",
    "plt.show()"
   ]
  },
  {
   "cell_type": "markdown",
   "metadata": {},
   "source": [
    "This would be a good time to go back to the <a href = 'https://matplotlib.org/stable/users/explain/quick_start.html'>quick start guide</a> and review the definitions of Figure, Axes, Axis, and Artist present on the first page. You can also look at the introduction to <a href = 'https://matplotlib.org/stable/users/explain/figure/figure_intro.html'>Figures and Backends</a>, which I think is helpful in understanding the big picture. \n",
    "\n",
    "\n",
    "\n",
    "## Multiple plots with `subplot`\n",
    "\n",
    "Another formatting thing we might want to do is to create a figure that contains multiple plots, each of which is created from it's own `axes` object. The <a href = 'https://matplotlib.org/api/_as_gen/matplotlib.pyplot.subplot.html'>subplot</a> (go to this link and scroll all the way down to find lots of examples) functionality is what we will use to do this. There are a many many ways to get the right results here. Some of them are more compact in terms of code, some of them are better for when you are trying to automate things. A brief and useful guide to the basics can be found here: <a href = 'https://medium.com/towards-artificial-intelligence/day-2-of-matplotlib-how-to-fit-multiple-subplots-in-the-same-window-c964f49ee503'>part1</a>, <a href = 'https://medium.com/towards-artificial-intelligence/day-3-of-matplotlib-figure-axes-explained-in-detail-d6e98f7cd4e7'>part2</a>.\n",
    "\n",
    "\n",
    "I'm going to first show you a way that I think is the most straighforward to interpret, and then show you the way that I think matches better with how people usually do it (which I think will help you intepret other code examples you find on the internet).\n",
    "\n",
    "So let's say we want to combine two line graphs in to a single plot. Let's say we want the overall figure to be square, but split into two halves. \n",
    "\n",
    "We can use subplot to do this. Subplot takes several arguments, the most importatn of which is an address for the plot of the form (row,column,item).\n",
    "\n"
   ]
  },
  {
   "cell_type": "code",
   "execution_count": null,
   "metadata": {},
   "outputs": [],
   "source": [
    "fig = plt.figure(figsize=(10,10))   # set up a 10 X 10 space for the figure\n",
    "\n",
    "ax1 = plt.subplot(2,1,1)            # subplot is closely related to the 'axes' method, it can take its place\n",
    "                                    ## here we are, within our figure, creating a subplot (axes) that assumes 2 rows\n",
    "                                    ## a column, and our plot is going to be placed in the first subdivision\n",
    "                                \n",
    "\n",
    "plt.plot([1,2,3,4],[5,6,7,8], marker = 'o', color = 'maroon')    # since ax1 is the active plot, these commands go to ax1\n",
    "plt.ylabel('The y values', size = 16)                            # note I adjusted font size\n",
    "\n",
    "ax2 = plt.subplot(2,1,2)                                         # now create new axes at 2 rows, 1 column, 2nd item\n",
    "plt.plot([1,2,3,4],[8,7,6,5], marker = 's', color = 'blue')      # subsequent commands are run in this second space\n",
    "\n",
    "\n",
    "ax1.spines['right'].set_visible(False)                           # if we call specifically to each axis (ax1 here), we can \n",
    "ax1.spines['top'].set_visible(False)                             ## use the names we have assigned to do further\n",
    "                                                                 ## manipulation of each subplot independently\n",
    "plt.show()\n",
    "\n",
    "\n"
   ]
  },
  {
   "cell_type": "markdown",
   "metadata": {},
   "source": [
    "We can use this method to create any combination of plots we want, in all kinds of interesting combinations. See if you can figure out this code and predict what it will make:"
   ]
  },
  {
   "cell_type": "code",
   "execution_count": null,
   "metadata": {},
   "outputs": [],
   "source": [
    "fig = plt.figure(figsize=(10,10))   \n",
    "\n",
    "ax1 = plt.subplot(2,2,1)                                    \n",
    "plt.plot([1,2,3,4],[5,6,7,8], marker = 'o', color = 'maroon')                          \n",
    "\n",
    "ax2 = plt.subplot(2,2,3)                                \n",
    "plt.plot([1,2,3,4],[8,7,6,5], marker = 's', color = 'blue') \n",
    "\n",
    "ax3 = plt.subplot(2,2,(2,4))                                \n",
    "plt.plot([1,2,3,4],[20,30,40,35], marker = 'v', color = 'green') \n",
    "\n",
    "plt.show()\n",
    "\n"
   ]
  },
  {
   "cell_type": "markdown",
   "metadata": {},
   "source": [
    "**Question to Answer:** From the example above, what can you infer about how numeric values in subplot are assigned to the different areas of the figure?\n",
    "\n",
    "- \n",
    "- \n",
    "- \n",
    "- "
   ]
  },
  {
   "cell_type": "markdown",
   "metadata": {},
   "source": [
    "The more advanced method for creating a multipanel graph is below and uses the form:\n",
    "```\n",
    "fig, ax = plt.subplots(rows, columns, figsize = (width, height), sharex = True, sharey = False)\n",
    "```\n",
    "\n",
    "Note that we are defining the figure and axes in a single line (I don't totally understand why that works). \n",
    "\n",
    "There are several parameters for subplots, `sharex` and `sharey` shown here ask whether figures should use a common axis. \n",
    "\n",
    "Note that we have used `subplots` not `subplot` to define a row by column grid of subplots. Rather than the simple left to right numbering we used above we now get access to the different areas within the grid by treating `ax` as a matrix of different plot areas. This matrix has a 0 index to the topmost left subplot is `ax[0,0]` and the bottommost right subplot is `ax[rows-1, columns-1`]. If there is a single row or column, counting upwards from `ax[0]` to `ax[n]` moves you from top to bottom or left to right. \n",
    "\n",
    "Try to follow the examples below:"
   ]
  },
  {
   "cell_type": "code",
   "execution_count": null,
   "metadata": {},
   "outputs": [],
   "source": [
    "fig, ax = plt.subplots(2,1, figsize=(6,6), sharex = True)   \n",
    "\n",
    "ax[0].plot([1,2,3,4],[5,6,7,8], marker = 'o', color = 'maroon')                          \n",
    "\n",
    "ax[1].plot([1,2,3,4],[8,7,6,5], marker = 's', color = 'blue') \n",
    "\n",
    "plt.show()"
   ]
  },
  {
   "cell_type": "code",
   "execution_count": null,
   "metadata": {},
   "outputs": [],
   "source": [
    "fig, ax = plt.subplots(2,2, figsize=(6,6), sharex = True)            # try adding sharey = True to see what happens\n",
    "\n",
    "ax[0,0].plot([1,2,3,4],[5,6,7,8], marker = 'o', color = 'maroon')                          \n",
    "\n",
    "ax[0,0].set_ylabel('The y values', size = 16)                        # note two things here. First, the second combination\n",
    "#plt.ylabel('The y values', size = 16)                               ## no longer works - because we 'plotted' all the subplots\n",
    "                                                                     ## in one go, we can no longer use the approach\n",
    "                                                                     ## above in which we add info to the 'active' plot\n",
    "                                                                     ## This approach also requires us to use different commands\n",
    "                                                                     ## note that we have to use `set_ylabel` when applying\n",
    "                                                                     ## attributes directly to the ax[] objects \n",
    "ax[1,0].plot([1,2,3,4],[8,7,6,5], marker = 's', color = 'blue') \n",
    "\n",
    "ax[0,1].plot([1,2,3,4],[20,30,40,40], marker = '*', color = 'black') \n",
    " \n",
    "ax[1,1].plot([1,2,3,4],[20,30,40,35], marker = 'v', color = 'green')    \n",
    "\n",
    "fig.suptitle('All the graphs', size =18)                              # This handy command makes an overall title \n",
    "                                                                      ## for the whole figure\n",
    "\n",
    "plt.show()"
   ]
  },
  {
   "cell_type": "markdown",
   "metadata": {},
   "source": [
    "## Constructing a histogram\n",
    "\n",
    "Histograms are used to describe the distribution of univariate data. Therefore, there are two main inputs to a histogram - a set of values to be plotted and some information about how finely divided you want the bins (bars) of the histogram to be. The y axis on a histogram will always be count data - the number of observations within each category, so we specify x. \n",
    "\n",
    "There are two major to set the number of bins in histogram. The first is to set the number of bars, and let maplotlip distribute those evenly across the range of the data. The other way is to give an array-like object. This will treat the values in the array as the x-value for the left edge of each bin, except for the final value which will be the right edge of the final bin. Note that if you set the bins this way it is possible to unintentionally exclude data!\n",
    "\n",
    "If you are dealing with integer data, this can lead to some funny results. For real data, specifying an appropriate number of bins will probably be sufficient. "
   ]
  },
  {
   "cell_type": "code",
   "execution_count": null,
   "metadata": {},
   "outputs": [],
   "source": [
    "fig = plt.figure(figsize=(15,3))  \n",
    "x = [1,2,2,3,3,3,4,4,4,4,5,5,5,5,5,5,6,6,6,6,6,7,7,7,7,8,8,8,9,9,10]\n",
    "\n",
    "plt.subplot(1,5,1)\n",
    "plt.hist(x,10)\n",
    "plt.xlabel('10 bins')\n",
    "\n",
    "plt.subplot(1,5,2)\n",
    "plt.hist(x,5)\n",
    "plt.xlabel('5 bins')\n",
    "\n",
    "plt.subplot(1,5,3)\n",
    "plt.hist(x,[1,2,3,4,5,6,7,8,9,10])\n",
    "plt.xlabel('sequence [1,2,3,4,5,6,7,8,9,10]')   #the nine and 10 values end up in the same bin!\n",
    "\n",
    "plt.subplot(1,5,4)\n",
    "plt.hist(x,[1,2,3,4,5,6,7,8,9,9])\n",
    "plt.xlabel('sequence [1,2,3,4,5,6,7,8,9]')      #the 10 value is excluded!\n",
    "\n",
    "plt.subplot(1,5,5)\n",
    "plt.hist(x,[0.5,1.5,2.5,3.5,4.5,5.5,6.5,7.5,8.5,9.5,10.5])  #this looks ok\n",
    "plt.xlabel('sequence [0.5, 1.5, ... 10.5]')      \n",
    "\n",
    "plt.show()"
   ]
  },
  {
   "cell_type": "markdown",
   "metadata": {},
   "source": [
    "Here's an example in which we clean it up a little with the rwidth, density, and color parameters. "
   ]
  },
  {
   "cell_type": "code",
   "execution_count": null,
   "metadata": {},
   "outputs": [],
   "source": [
    "fig = plt.figure(figsize=(12,4))  \n",
    "x = [1,2,2,3,3,3,4,4,4,4,5,5,5,5,5,5,6,6,6,6,6,7,7,7,7,8,8,8,9,9,10]\n",
    "plt.hist(x,[0.5,1.5,2.5,3.5,4.5,5.5,6.5,7.5,8.5,9.5,10.5], rwidth =0.9, density = True, color = 'turquoise')\n",
    "\n",
    "plt.xticks([1,2,3,4,5,6,7,8,9,10])\n",
    "plt.ylabel('When density = True, show\\n proportion of sample in each bin')\n",
    "\n",
    "plt.show()"
   ]
  },
  {
   "cell_type": "markdown",
   "metadata": {},
   "source": [
    "**Assignment 1** In the code window below create a histogram. In the data folder you will find a dataset called histologists.csv. This data shows the ages of individuals attending a histology conference. Read this data into a data frame and use it to create a pair of histograms, plotted as subplots in the same figure, that shows the age distribution of the attendees in two different years. Using any and all of the techniques we have discussed so far, make it as attractive and well-labelled as possible."
   ]
  },
  {
   "cell_type": "code",
   "execution_count": null,
   "metadata": {},
   "outputs": [],
   "source": [
    "## Build your histogram here\n",
    "##\n",
    "##\n",
    "##"
   ]
  },
  {
   "cell_type": "markdown",
   "metadata": {},
   "source": [
    "## Building a bar plot\n",
    "In contrast to a histogram, bar plots display means and averages. Unlike a histogram where we can just dump the data set in and let matplot sort it out, to create a bar plot from raw data we will first need to summarize the data in a data. That's because in the barplot command we need to give it the data to build the plot, specifically the x-positions and heights of the bars, and optionally data for error bars if we wish. I like to think about doing this in multiple steps. In the first we define the data we are going to use. Note that the first positions correspond to one another.\n",
    "\n",
    "```\n",
    "x = [1,2,3,4,5]                          # the positions on the x axis, this is \n",
    "y = [12,14,8,9,8]                        # the heights of the bars corresponding to each position\n",
    "error =[1.1,0.9,1.3,1.5,1.6]             # the size of the error bar for each bar                                                                   \n",
    "xticks_lab = ['the','names','of', 'the','categories']  # the label for each bar\n",
    "```\n",
    "And then the second step is adding that data to the graph:\n",
    "```\n",
    "plt.bar(x, y, yerr=error) # plots the bars at the x positions and \n",
    "plt.xticks(x, xticks_lab) \n",
    "```\n",
    "\n",
    "A good way to make the data for our graph is to store the data in a dataframe where each row contains an the label, the bar height, and the associated error term. This is probably the trickiest part of making a bar graph. So let's work through a simple example:"
   ]
  },
  {
   "cell_type": "code",
   "execution_count": null,
   "metadata": {},
   "outputs": [],
   "source": [
    "import pandas as pd\n",
    "\n",
    "plant_dict = {\n",
    "    \n",
    "    'name' : ['elm', 'maple','oak','ash','pine','grass','lily','daisy','banana','corn'],\n",
    "    'habit': ['tree','tree','tree','tree','tree','herb','herb','herb','herb','herb'], \n",
    "    'height': [24,31,32,23,31,0.5,1,0.23,5,2]\n",
    "}\n",
    "plant_df = pd.DataFrame(plant_dict)\n",
    "plant_df"
   ]
  },
  {
   "cell_type": "code",
   "execution_count": null,
   "metadata": {},
   "outputs": [],
   "source": [
    "plant_plotdata = plant_df.groupby([\"habit\"])[\"height\"].describe()\n",
    "plant_plotdata"
   ]
  },
  {
   "cell_type": "markdown",
   "metadata": {},
   "source": [
    "Now we can just access the values by calling our new dataframe!\n",
    "\n"
   ]
  },
  {
   "cell_type": "code",
   "execution_count": null,
   "metadata": {},
   "outputs": [],
   "source": [
    "x = [1,2]                           \n",
    "\n",
    "y = plant_plotdata[\"mean\"]\n",
    "xticks_lab = plant_plotdata.index   # since we created a data frame in which the index is based on habit\n",
    "                                    ## we can't call habit as a column, we have to call the index itself to\n",
    "                                    ## get the categories as labels \n",
    "\n",
    "plt.bar(x, y)\n",
    "plt.xticks(x, xticks_lab) \n",
    "plt.ylabel('height in meters')\n",
    "\n",
    "plt.show()\n"
   ]
  },
  {
   "cell_type": "markdown",
   "metadata": {},
   "source": [
    "## Adding error bars\n",
    "\n",
    "Finally, we can add error bars with a very simple bit of code that assigns the values we want to use for the error bars to the parameter `yerr`. Other things you might want to adjust are `alpha`, which controls the transparency of the bars, and thus will make the error bars more visible, `ecolor` which controls the error bar color, and `capsize` which controls the width of the error bars. "
   ]
  },
  {
   "cell_type": "code",
   "execution_count": null,
   "metadata": {},
   "outputs": [],
   "source": [
    "x = [1,2]                           \n",
    "\n",
    "y = plant_plotdata['mean']\n",
    "error = plant_plotdata['std']       # since standard deviation is the error we get from .describe() we'll use that\n",
    "xticks_lab = plant_plotdata.index   # since we created a data frame in which the index is based on habit\n",
    "                                    ## we can't call habit as a column, we have to call the index itself to\n",
    "                                    ## get the categories as labels \n",
    "\n",
    "plt.bar(x, y, yerr = error, alpha = 0.5, capsize =10, ecolor = 'red')\n",
    "plt.xticks(x, xticks_lab) \n",
    "plt.ylabel('height in meters')\n",
    "plt.show()"
   ]
  },
  {
   "cell_type": "markdown",
   "metadata": {},
   "source": [
    "**Assignment** There is a database in the data folder called bars.csv. It shows the number of beers on taps at different bars (most but not all of which are imaginary), which are then also categorized by the type of bar. Create a combination graph that consists of two elements - a histogram showing the distribution of numbers of beers on tap for all of the bars combined with a bar graph that compares the number of beers offered by different categories of bars in the data set using a bar plot with error bars. Make the graphs look as nice as you can. "
   ]
  },
  {
   "cell_type": "code",
   "execution_count": null,
   "metadata": {},
   "outputs": [],
   "source": [
    "## Build your barplot and histogram here\n",
    "##\n",
    "##\n",
    "##"
   ]
  },
  {
   "cell_type": "markdown",
   "metadata": {},
   "source": [
    "## Exporting a figure\n",
    "\n",
    "Because we are working with a figure item (which we have called `fig`) it's remarkably easy to export a graph once we have created it. The graphs we see within the jupyter notebook are just .png file renderings of the graphs we have created. They don't look very nice. But if we specify a format we can export our figures in many different image formats. Even better, we don't have to use a special command for this. All we have to do to export a figure is use the command: \n",
    "```\n",
    "fig.savefig('file_name.file_extension'). \n",
    "```\n",
    "The extension we give (.ps, .eps, .png, .jpg, .raw, .pdf, .tif) will determine the file format we get. Other parameters can be found at the <a href = 'https://matplotlib.org/3.1.1/api/_as_gen/matplotlib.pyplot.savefig.html'>savefig definition</a>.\n",
    "\n",
    "So what file format should you use? I like to export figures in a vector format. In vector formats, such as .ps, .eps, or .pdf, images and text can be scaled up without losing resolution, and fonts and text can be subsequently manipulated using a tool such as Adobe Illustrator. However sometimes an image file is simpler to deal with or useful for the application you are looking for. So my default is to export to .pdf, but you should experiment. Image files that are too small, or in compressed formats such as .jpg, can show serious degradation to text and graph elements.\n",
    "\n",
    "Here's a graph I made with my daughter about her 'special subjects' at school:"
   ]
  },
  {
   "cell_type": "code",
   "execution_count": null,
   "metadata": {},
   "outputs": [],
   "source": [
    "fig = plt.figure(figsize=(6,3))\n",
    "ax = plt.axes()                    \n",
    "\n",
    "x = [1,2,3,4,5]\n",
    "y = [6,5,9,7,10]\n",
    "error =[1.1,0.9,1.3,1.5,1.6]                                     #this is made up data, obviously                                              \n",
    "xticks_lab = ['Art','Music','Gym', 'Tech','Library']\n",
    "\n",
    "plt.bar(x,y, color = 'red', edgecolor = 'black', yerr=error, align='center', alpha=0.5, ecolor='blue', capsize=10)\n",
    "plt.xticks(x, xticks_lab) \n",
    "\n",
    "plt.ylabel('Number of Students')\n",
    "plt.title('Favorite specials, Erdenheim Elementary FL 20')\n",
    "\n",
    "ax.spines['right'].set_visible(False)\n",
    "ax.spines['top'].set_visible(False)\n",
    "\n",
    "fig.savefig('Specials.pdf')  # if figure name contains extension it automatically picks that format\n",
    "\n",
    "plt.show()"
   ]
  },
  {
   "cell_type": "markdown",
   "metadata": {},
   "source": [
    "**Question to Answer:** Take the combo graph histogram that you made for the bars.csv data and export the file in a number of different file types. Below, tell me what you notice about the resulting files. Try changing the overall figure size as well. Is there a difference in what you see? Feel free to try more things with .savefig and tell me about those as well.   \n",
    "\n",
    "- \n",
    "- \n",
    "- \n",
    "- "
   ]
  },
  {
   "cell_type": "markdown",
   "metadata": {},
   "source": [
    "![Alt text that will appear on mouseover](images/TJU_logo_dummy_image.png \"Dummy image\")"
   ]
  },
  {
   "cell_type": "code",
   "execution_count": null,
   "metadata": {},
   "outputs": [],
   "source": []
  }
 ],
 "metadata": {
  "kernelspec": {
   "display_name": "Python 3 (ipykernel)",
   "language": "python",
   "name": "python3"
  },
  "language_info": {
   "codemirror_mode": {
    "name": "ipython",
    "version": 3
   },
   "file_extension": ".py",
   "mimetype": "text/x-python",
   "name": "python",
   "nbconvert_exporter": "python",
   "pygments_lexer": "ipython3",
   "version": "3.9.12"
  }
 },
 "nbformat": 4,
 "nbformat_minor": 2
}
