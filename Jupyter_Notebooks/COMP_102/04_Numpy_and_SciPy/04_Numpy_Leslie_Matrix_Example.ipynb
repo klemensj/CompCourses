{
 "cells": [
  {
   "cell_type": "markdown",
   "id": "b1ef1068",
   "metadata": {},
   "source": [
    "<div align =\"right\">Thomas Jefferson University <b>COMP 102</b>: Intro to Scientific Computing</div>"
   ]
  },
  {
   "cell_type": "markdown",
   "id": "4d92ce47",
   "metadata": {},
   "source": [
    "# Leslie matrices: Numpy in biology"
   ]
  },
  {
   "cell_type": "markdown",
   "id": "c3019df7",
   "metadata": {},
   "source": [
    "## A quick review of discrete population growth\n",
    "\n",
    "In gen bio you learned about discrete population growth. Discrete population growth occurs when an organism breeds at regular intervals (typically once per year). \n",
    "\n",
    "With discrete growth, population size at a point in the future depends on the current population size multiplied by the rate of population growth, $\\lambda$. Let N<sub>0</sub> be the initial population size, N<sub>1</sub> be the population size after a year, ... or generally N<sub>t</sub> will be the population size after t years and N<sub>t+1</sub> will be the population size the year after that.\n",
    "\n",
    "$\\lambda$ is calculated as the difference between the per-capita birth rate and the per-capita death rate. \n",
    "\n",
    "&emsp;&emsp;&emsp;&emsp;A population of 100 individuals produces 20 offspring and suffers 10 deaths\n",
    "\n",
    "&emsp;&emsp;&emsp;&emsp; In the next generation there will be 110 individuals\n",
    "\n",
    "&emsp;&emsp;&emsp;&emsp; $ R = \\frac{N+B-D}{N} $\n",
    "\n",
    "&emsp;&emsp;&emsp;&emsp; In this example $\\lambda = 1.1 $ \n",
    "\n",
    "For every time t, the population at the next time step t+1 will simply be the product of R and the current population:\n",
    "\n",
    "&emsp;&emsp;&emsp;&emsp; $ N_{t+1} =  \\lambda N_t  $\n",
    "\n",
    "Over any given time interval from $t=0$ to $t=x$, this generalizes to:\n",
    "\n",
    "&emsp;&emsp;&emsp;&emsp; $ N_{x} = \\lambda^{x}N_0   $\n",
    "\n",
    "Here are a couple of versions of what this might look like in python:"
   ]
  },
  {
   "cell_type": "code",
   "execution_count": 4,
   "id": "8b2647b1",
   "metadata": {},
   "outputs": [
    {
     "name": "stdout",
     "output_type": "stream",
     "text": [
      "133.10000000000005\n"
     ]
    }
   ],
   "source": [
    "# Here is the stepwise equation for population growth\n",
    "\n",
    "N_0 = 100     # N0 = population size at time zero\n",
    "R = 1.1       # R = lambda\n",
    "\n",
    "N_1 = 100 * R\n",
    "N_2 = N_1 * R\n",
    "N_3 = N_2 * R\n",
    "\n",
    "print(N_3)"
   ]
  },
  {
   "cell_type": "code",
   "execution_count": 5,
   "id": "98e49a1a",
   "metadata": {},
   "outputs": [
    {
     "name": "stdout",
     "output_type": "stream",
     "text": [
      "133.10000000000005\n"
     ]
    }
   ],
   "source": [
    "# Create a function discrete that calculates population size for any\n",
    "## number of generations, lambda (R), and starting population size\n",
    "\n",
    "def discrete(x, R, N0):\n",
    "    Nx = N0 * R**x      \n",
    "    return(Nx)  \n",
    "                       \n",
    "print(discrete(3, 1.1, 100))"
   ]
  },
  {
   "cell_type": "markdown",
   "id": "21c223f1",
   "metadata": {},
   "source": [
    "We can integrate the output of this function into another function for drawing a plot, so that we can visualize the consequences of using different growth parameters. "
   ]
  },
  {
   "cell_type": "code",
   "execution_count": 6,
   "id": "7e453a31",
   "metadata": {},
   "outputs": [
    {
     "data": {
      "image/png": "[encoded data removed]",
      "text/plain": [
       "<Figure size 432x288 with 1 Axes>"
      ]
     },
     "metadata": {
      "needs_background": "light"
     },
     "output_type": "display_data"
    }
   ],
   "source": [
    "import matplotlib.pyplot as plt\n",
    "import numpy as np\n",
    "\n",
    "def discrete_plot(x, R, N0):\n",
    "    N = []\n",
    "    t = np.linspace(0,x,x+1)\n",
    "    for time in t:\n",
    "        N.append(discrete(time, R, N0))\n",
    "\n",
    "    plt.plot(t,N, color = 'gray')\n",
    "    plt.xlabel('generations', size=14)\n",
    "    plt.ylabel('population size', size=14)\n",
    "    plt.plot(t, N, 'o',color='slateblue')\n",
    "    plt.show()\n",
    "\n",
    "discrete_plot(10,1.1,100)"
   ]
  },
  {
   "cell_type": "markdown",
   "id": "161b53b9",
   "metadata": {},
   "source": [
    "## Growth in age-structured populations\n",
    "\n",
    "In the population model above, we assumed that the only determinate of population growth was how many individuals existed in the population, and that they all contributed equally to population growth. In an age-structured population model, we consider that individuals may exist within different age classes within the population, and that individuals in these age classes will have different reproductive contributions and survival rates. For example, a juvenile individual may not contribute reproductive success to the population, and might be likely to die at a higher rate than an adult. \n",
    "\n",
    "In an age-structured population, the population will consist of individuals in distinct age classes. For very well known species (like humans) we might use actual yearly age. But for our model let's assume a population of an animal that exists in discreet juvenile, subadult, and adult stages so that we have three separate age classes. So at any time *t*:\n",
    "\n",
    "&emsp;&emsp;&emsp;&emsp; $ N_{t} =  N_{0,t} + N_{1,t} + N_{2,t} + N_{3,t} $\n",
    "\n",
    "Each of these age classes will have a fecundity, called $F_0$, $F_1$, etc., which is the product of the expected offspring produced by any individual in this age class over the time interval. \n",
    "\n",
    "Each age class will also have a probability of survival, $S_0$, $S_1$, etc.,which is the probability that the organism survives to move on to the next age class.\n",
    "\n",
    "In order to predict population change over time we want to do the following - start with a vector that represents the population age structure at time $t$, and predict the population size and age structure at time $t+1$:\n",
    "\n",
    "&emsp;&emsp;&emsp;&emsp; $\\left[\\begin{array}{cccc}\n",
    "N_{0,t} \\\\\n",
    "N_{1,t} \\\\\n",
    "N_{2,t} \\\\\n",
    "N_{3,t} \\\\\n",
    "\\end{array}\\right]$\n",
    "$\\Longrightarrow$\n",
    "$\\left[\\begin{array}{cccc}\n",
    "N_{0,t+1} \\\\\n",
    "N_{1,t+1} \\\\\n",
    "N_{2,t+1} \\\\\n",
    "N_{3,t+1} \\\\\n",
    "\\end{array}\\right]$\n",
    "\n",
    "Let's think about what it would take to do this. To generate $N_{0,t}$ we need to figure out how many offspring will be produced by the individuals in each age class. This of course will be the product of fecundity and the number of individuals in each age class. \n",
    "\n",
    "&emsp;&emsp;&emsp;&emsp;$N_{0,t+1} = F_0N_{0,t} + F_1N_{1,t} + F_2N_{2,t} + F_3N_{3,t}$\n",
    "\n",
    "Likewise, the number of individuals in each of the upper age classes will be the product of survival and the number of individuals in the previous age class:\n",
    "\n",
    "&emsp;&emsp;&emsp;&emsp;$N_{1,t+1} = S_0N_{0,t}$\n",
    "\n",
    "&emsp;&emsp;&emsp;&emsp;$N_{2,t+1} = S_1N_{1,t}$\n",
    "\n",
    "&emsp;&emsp;&emsp;&emsp;$N_{3,t+1} = S_2N_{2,t}$\n",
    "\n",
    "We can use linear algebra to achieve this result! We will organize our F and S values into a matrix that has the following values. This is known as the Leslie matrix:\n",
    "\n",
    "&emsp;&emsp;&emsp;&emsp;$\\left[\\begin{array}{cccc}\n",
    "F_{0} & F_{1}  & F_{2}  & F_{3} \\\\\n",
    "S_0 & 0 & 0 & 0 \\\\\n",
    "0 & S_1 & 0 & 0 \\\\\n",
    "0 & 0 & S_2 & 0 \\\\\n",
    "\\end{array}\\right]$\n",
    "\n",
    "Why is this arrangement important? The rules of linear algebra work like this. We can multiply a matrix by a vector using the following cross-multiplication pattern. The result is 4 sums, which when calculated make a new vector. \n",
    "\n",
    "&emsp;&emsp;&emsp;&emsp;$\\left[\\begin{array}{cccc}\n",
    "a & b  & c  & d \\\\\n",
    "e & f & g & h \\\\\n",
    "i & j & k & l \\\\\n",
    "m & n & o & p \\\\\n",
    "\\end{array}\\right]$\n",
    "$X$\n",
    "$\\left[\\begin{array}{cccc}\n",
    "W \\\\\n",
    "X \\\\\n",
    "Y \\\\\n",
    "Z \\\\\n",
    "\\end{array}\\right]$\n",
    "=\n",
    "$\\left[\\begin{array}{cccc}\n",
    "aW + bX + cY + dZ \\\\\n",
    "eW + fX + gY + hZ \\\\\n",
    "iW + jX + kY + lZ \\\\\n",
    "mW + nX + oY + pZ \\\\\n",
    "\\end{array}\\right]$\n",
    "\n",
    "So if we multiply the Leslie matrix time the population vector we will get:\n",
    "\n",
    "&emsp;&emsp;&emsp;&emsp;$\\left[\\begin{array}{cccc}\n",
    "F_{0} & F_{1}  & F_{2}  & F_{3} \\\\\n",
    "S_0 & 0 & 0 & 0 \\\\\n",
    "0 & S_1 & 0 & 0 \\\\\n",
    "0 & 0 & S_2 & 0 \\\\\n",
    "\\end{array}\\right]$\n",
    "$X$\n",
    "$\\left[\\begin{array}{cccc}\n",
    "N_{0,t} \\\\\n",
    "N_{1,t} \\\\\n",
    "N_{2,t} \\\\\n",
    "N_{3,t} \\\\\n",
    "\\end{array}\\right]$\n",
    "=\n",
    "$\\left[\\begin{array}{cccc}\n",
    "F_0N_{0,t} + F_1N_{1,t} + F_2N_{2,t} + F_3N_{3,t} \\\\\n",
    "S_0N_{0,t} + 0 + 0 + 0\\\\\n",
    "0 + S_1N_{1,t} + 0 + 0\\\\\n",
    "0 + 0 + S_2N_{1,t} + 0\\\\\n",
    "\\end{array}\\right]$\n",
    "\n",
    "Which, can be simplified by reffering back to the equations at the start of this section, and results in:\n",
    "\n",
    "\n",
    "&emsp;&emsp;&emsp;&emsp;$\\left[\\begin{array}{cccc}\n",
    "F_{0} & F_{1}  & F_{2}  & F_{3} \\\\\n",
    "S_0 & 0 & 0 & 0 \\\\\n",
    "0 & S_1 & 0 & 0 \\\\\n",
    "0 & 0 & S_2 & 0 \\\\\n",
    "\\end{array}\\right]$\n",
    "$X$\n",
    "$\\left[\\begin{array}{cccc}\n",
    "N_{0,t} \\\\\n",
    "N_{1,t} \\\\\n",
    "N_{2,t} \\\\\n",
    "N_{3,t} \\\\\n",
    "\\end{array}\\right]$\n",
    "=\n",
    "$\\left[\\begin{array}{cccc}\n",
    "N_{0,t+1} \\\\\n",
    "N_{1,t+1} \\\\\n",
    "N_{2,t+1} \\\\\n",
    "N_{3,t+1} \\\\\n",
    "\\end{array}\\right]$\n",
    "\n",
    "If we repeat this calculation multiple times, we can calculate the population at any future time x, but there is no simple exponential form of this equation, as it relies on the special multiplication rules of linear algebra. Therefore, this is a problem that we might want to solve computationally. \n",
    "\n",
    "&emsp;&emsp;&emsp;&emsp;$\\left[\\begin{array}{cccc}\n",
    "F_{0} & F_{1}  & F_{2}  & F_{3} \\\\\n",
    "S_0 & 0 & 0 & 0 \\\\\n",
    "0 & S_1 & 0 & 0 \\\\\n",
    "0 & 0 & S_2 & 0 \\\\\n",
    "\\end{array}\\right]$\n",
    "X\n",
    "$\\left[\\begin{array}{cccc}\n",
    "N_{0,x-1} \\\\\n",
    "N_{1,x-1} \\\\\n",
    "N_{2,x-1} \\\\\n",
    "N_{3,x-1} \\\\\n",
    "\\end{array}\\right]$\n",
    "=\n",
    "$\\left[\\begin{array}{cccc}\n",
    "N_{0,x} \\\\\n",
    "N_{1,x} \\\\\n",
    "N_{2,x} \\\\\n",
    "N_{3,x} \\\\\n",
    "\\end{array}\\right]$\n"
   ]
  },
  {
   "cell_type": "markdown",
   "id": "8f8047a3",
   "metadata": {},
   "source": [
    "## Setting the leslie matrix in python\n",
    "\n",
    "So the parameters we need to set to do this calculation are:\n",
    "\n",
    "* An array of values for the population size at time 0. \n",
    "* The F values for each age class\n",
    "* The S values for each transition between age classes \n",
    "\n",
    "Let's set up a situation where we have low survival and reproduction in the youngest age classes, and relatively high reproductive rates and survival in the middle age classes before a steep decline in reproduction in the oldest age class.\n",
    "\n",
    "Rather than manually type out an array, let's write a function to create a leslie matrix from a set of F and S values."
   ]
  },
  {
   "cell_type": "code",
   "execution_count": 7,
   "id": "279d5bff",
   "metadata": {},
   "outputs": [
    {
     "name": "stdout",
     "output_type": "stream",
     "text": [
      "[[0.   2.5  3.5  1.1 ]\n",
      " [0.15 0.   0.   0.  ]\n",
      " [0.   0.95 0.   0.  ]\n",
      " [0.   0.   0.9  0.  ]]\n",
      "\n",
      "<class 'numpy.ndarray'>\n"
     ]
    }
   ],
   "source": [
    "Nt0_arr = np.array([100,100,100,100])      # array for population at time zero\n",
    "\n",
    "F = np.array([0,2.5,3.5,1.1])           \n",
    "S = np.array([0.15,0.95,0.9])\n",
    "\n",
    "# define a function to make a leslie matrix from F and S\n",
    "\n",
    "def leslie(F,S):\n",
    "    L = np.array([F, \n",
    "                  [S[0],0,0,0],\n",
    "                  [0,S[1],0,0],\n",
    "                  [0,0,S[2],0]])\n",
    "    return(L)\n",
    "\n",
    "L = leslie(F,S)\n",
    "print(L)\n",
    "print()\n",
    "print(type(L))"
   ]
  },
  {
   "cell_type": "markdown",
   "id": "4b4754ec",
   "metadata": {},
   "source": [
    "Now that we have our leslie matrix, we can multiply to figure out the population array for the next generation, then the next, then the next. Notice that we can't use a standard `*` multiplication. We can use `matmul()` to indicate that what we want here is specifically matrix multiplication following the rules of linear algebra. "
   ]
  },
  {
   "cell_type": "code",
   "execution_count": 8,
   "id": "2f22b040",
   "metadata": {},
   "outputs": [
    {
     "name": "stdout",
     "output_type": "stream",
     "text": [
      "time 0:  400 [100 100 100 100]\n",
      "time 1:  910.0 [710.  15.  95.  90.]\n",
      "time 2:  675.25 [469.   106.5   14.25  85.5 ]\n",
      "time 3:  594.525 [410.175  70.35  101.175  12.825]\n",
      "time 4:  763.51125 [544.095    61.52625  66.8325   91.0575 ]\n"
     ]
    }
   ],
   "source": [
    "Nt1_arr = np.matmul(L, Nt0_arr)\n",
    "Nt2_arr = np.matmul(L, Nt1_arr)\n",
    "Nt3_arr = np.matmul(L, Nt2_arr)\n",
    "Nt4_arr = np.matmul(L, Nt3_arr)\n",
    "\n",
    "print('time 0: ',Nt0_arr.sum(),Nt0_arr)\n",
    "print('time 1: ',Nt1_arr.sum(),Nt1_arr)\n",
    "print('time 2: ',Nt2_arr.sum(),Nt2_arr)\n",
    "print('time 3: ',Nt3_arr.sum(),Nt3_arr)\n",
    "print('time 4: ',Nt4_arr.sum(),Nt4_arr)\n"
   ]
  },
  {
   "cell_type": "markdown",
   "id": "91df392e",
   "metadata": {},
   "source": [
    "Note that the age structure in this model gives it some unusual dynamics compared to the simple population we graphed above. Is it increasing or decreasing in size? \n",
    "\n",
    "## Exercise\n",
    "\n",
    "Define a function that will calculate population size and age distribution for an age structured population at a future date *x*. The function will need to take:\n",
    "* An array representing the distribution of the population at time 0\n",
    "* An array of age-specific fecundities\n",
    "* An array of age-specific survival\n",
    "* The number of generations to be considered\n"
   ]
  },
  {
   "cell_type": "code",
   "execution_count": null,
   "id": "01508f66",
   "metadata": {},
   "outputs": [],
   "source": [
    "#\n",
    "## Your code here\n",
    "#"
   ]
  },
  {
   "cell_type": "markdown",
   "id": "46517cd0",
   "metadata": {},
   "source": [
    "## Bonus Exercise \n",
    "Can you incorporate plotting into your function (using the template provided in the example above for the making of the plot itself) in order to track the change in population over time?"
   ]
  },
  {
   "cell_type": "code",
   "execution_count": null,
   "id": "03b9a4f4",
   "metadata": {},
   "outputs": [],
   "source": [
    "#\n",
    "## Your code here\n",
    "#"
   ]
  },
  {
   "cell_type": "markdown",
   "id": "78b0e691",
   "metadata": {},
   "source": [
    "![Alt text that will appear on mouseover](images/TJU_logo_dummy_image.png \"Dummy image\")"
   ]
  }
 ],
 "metadata": {
  "kernelspec": {
   "display_name": "Python 3 (ipykernel)",
   "language": "python",
   "name": "python3"
  },
  "language_info": {
   "codemirror_mode": {
    "name": "ipython",
    "version": 3
   },
   "file_extension": ".py",
   "mimetype": "text/x-python",
   "name": "python",
   "nbconvert_exporter": "python",
   "pygments_lexer": "ipython3",
   "version": "3.9.12"
  }
 },
 "nbformat": 4,
 "nbformat_minor": 5
}
