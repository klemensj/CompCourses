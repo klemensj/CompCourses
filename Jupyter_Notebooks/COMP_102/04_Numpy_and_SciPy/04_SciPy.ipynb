{
 "cells": [
  {
   "cell_type": "markdown",
   "metadata": {},
   "source": [
    "<div align =\"right\">Thomas Jefferson University <b>COMP 102</b>: Intro to Scientific Computing</div>"
   ]
  },
  {
   "cell_type": "markdown",
   "metadata": {},
   "source": [
    "# SciPy is a Scientific Computing Swiss Army Knife\n",
    "\n",
    "Just like Numpy means **Num**eric **py**thon SciPy means **Sci**entific **py**thon. And just like Numpy it's a librarythat contains many powerful tools for working with data. Also like Numpy, a lot of higher-level libraries are built on top of algorithms that exist within SciPy, so even if you are someone who generally will be working with higher-level libraries that are built to perform very specific analyses, it's worth spending some time with SciPy in order to understand its major components.\n",
    "\n",
    "So what are those components? SciPy contains <a href = \"https://docs.scipy.org/doc/scipy/tutorial/general.html#scipy-organization\">subpackages</a> that:\n",
    "* Return a variety of mathematical and physical constants and values for converting between units\n",
    "* Integrating functions\n",
    "* Performing linear algebra calculations\n",
    "* Optimizing functions (finding minima and maxima)\n",
    "* Statistical Analysis\n",
    "* Image Processing\n",
    "* Signal Processing\n",
    "* ... as well as interpolation, working with spatial data, peforming fourier transformations, handling spatial data, performing cluster analyses ... and more\n",
    "\n",
    "This breadth of functions is essentially what SciPy is. It's a generalist library that contains tools for perfoming a wide-variety of mathematical functions. A swiss-army knife for scientific computing, if you will. \n",
    "\n",
    "\n",
    "\n",
    "Importing SciPy is a bit different than other libraries we have worked with. SciPy consists of a number of sub-packages or submodules, those submodules are what provide the essential functionality and are not automatically made available with a generic `import scipy` command. Consulting <a href = \"https://docs.scipy.org/doc/scipy-1.3.3/reference/api.html#guidelines-for-importing-functions-from-scipy\">the SciPy documentation</a> we find the following:\n",
    "\n",
    "\n",
    "*The scipy namespace itself only contains functions imported from numpy. These functions still exist for backwards compatibility, but should be imported from numpy directly ... In general, it is recommended to import functions from submodule namespaces. For example, the function curve_fit (defined in scipy/optimize/minpack.py) should be imported like this:*\n",
    "```\n",
    "from scipy import optimize\n",
    "...\n",
    "result = optimize.curve_fit(...)\n",
    "```\n",
    "\n",
    "Read entire section titled 'Guidelines for importing functions from scipy' in the documentation for a few more details. \n",
    "\n",
    "\n",
    "\n",
    "## SciPy Constants\n",
    "\n",
    "We will start with one of the simplest, but most universally useful, aspects of SciPy. Take a look at the documentation for <a href =\"https://docs.scipy.org/doc/scipy/reference/constants.html#module-scipy.constants\"> the SciPy constants module</a>. You'll see it's divided into three different sections, mathematical constants, physical constants, and units (for unit conversions). Scrolling through this page you should get a sense for how comprehensive the list of values presented is. This reference is of great value to a programmer who needs access to these values when writing alogrithms. \n",
    "\n",
    "Within the 'Physical Constants' section there is an additional set of physical constants that are stored in a submodule called `.constants.physical_constants` are defined by the USA's <a href = \"https://physics.nist.gov/cuu/Constants/\"> National Institute of Standards and Technology </a>database.\n",
    "\n",
    "Let's take a quick look at the kinds of things we can reference from scipy.constants:"
   ]
  },
  {
   "cell_type": "code",
   "execution_count": 1,
   "metadata": {},
   "outputs": [
    {
     "name": "stdout",
     "output_type": "stream",
     "text": [
      "\n",
      "Mathematical Constants\n",
      "The value of pi is               :  3.141592653589793\n",
      "The value of the golden ratio is :  1.618033988749895\n",
      "<class 'float'>\n",
      "\n",
      "Physical Constants\n",
      "The charge of an electron is: - 1.602176634e-19\n",
      "Avogadro's number is :   6.02214076e+23\n",
      "<class 'float'>\n",
      "\n",
      "Extended Physical Constants\n",
      "The charge of an electron is     : - (1.602176634e-19, 'C', 0.0)\n",
      "The atomic mass unit is          : - 9.1093837015e-31 kg\n",
      "Uncertainty of atomic mass unit  : ± 2.8e-40 kg\n",
      "<class 'dict'>\n",
      "\n",
      "Unit Conversions\n",
      "8 inches in m is             :  0.2032\n",
      "40 acres in m^2 is           :  161874.25689599998\n",
      "5 gigatons is                :  5000000000.0\n",
      "5 picograms is               :  5e-12\n",
      "<class 'float'>\n"
     ]
    }
   ],
   "source": [
    "from scipy import constants\n",
    "\n",
    "# Mathematical constants\n",
    "print()\n",
    "print(\"Mathematical Constants\")\n",
    "print(\"The value of pi is               : \", constants.pi)\n",
    "print(\"The value of the golden ratio is : \", constants.golden)\n",
    "print(type(constants.pi))\n",
    "\n",
    "\n",
    "\n",
    "# Physical constants\n",
    "print()\n",
    "print(\"Physical Constants\")\n",
    "print(\"The charge of an electron is: -\", constants.e)\n",
    "print(\"Avogadro\\'s number is :  \", constants.Avogadro)\n",
    "print(type(constants.e))\n",
    "\n",
    "\n",
    "\n",
    "# Extended physical constants\n",
    "print()\n",
    "print(\"Extended Physical Constants\")\n",
    "print(\"The charge of an electron is     : -\", constants.physical_constants['elementary charge'])\n",
    "amu = constants.physical_constants['atomic unit of mass']\n",
    "print(\"The atomic mass unit is          : -\", amu[0], amu[1])\n",
    "print(\"Uncertainty of atomic mass unit  : ±\",amu[2], amu[1])\n",
    "print(type(constants.physical_constants))\n",
    "\n",
    "# Unit conversions\n",
    "print()\n",
    "print(\"Unit Conversions\")\n",
    "print(\"8 inches in m is             : \", constants.inch*8)\n",
    "print(\"40 acres in m^2 is           : \", constants.acre*40)\n",
    "print(\"5 gigatons is                : \", constants.giga*5)\n",
    "print(\"5 picograms is               : \", constants.pico*5)\n",
    "print(type(constants.inch))\n",
    "\n",
    "\n",
    "\n"
   ]
  },
  {
   "cell_type": "markdown",
   "metadata": {},
   "source": [
    "### Question\n",
    "Reading from the documentation as your guide, explain the difference with the information provided for the mathematical, basic physical constants, and unit conversion information vs. the extended physical constants. Specifically explain the difference in output from the `type()` functions for each of the three areas. Explain why you think this difference in presentation exists?\n",
    "\n",
    "Give a programming use case where you might use extended physical constants or unit conversions. "
   ]
  },
  {
   "cell_type": "markdown",
   "metadata": {},
   "source": [
    "* \n",
    "* \n",
    "* "
   ]
  },
  {
   "cell_type": "markdown",
   "metadata": {},
   "source": [
    "## Integration\n",
    "\n",
    "To integrate and use some of the other tools in we have to give an equation and a range over which we want the integration to take place. This is not analytic integration (finding the equation of the integral) but rather a computational 'solving' of a definite integration problem. \n",
    "\n",
    "So the question becomes - how do we give SciPy the value of the equation to be integrated. And it turns out we have to pass that to the integrator as a function. See the procedure below, where the function `quad` caculates a definite integral over an interval a,b, given here as the range from 0 to 20:"
   ]
  },
  {
   "cell_type": "code",
   "execution_count": 2,
   "metadata": {},
   "outputs": [
    {
     "name": "stdout",
     "output_type": "stream",
     "text": [
      "result of quad() function:  \n",
      "(16.955477562276545, 6.652645670652581e-08)\n",
      "<class 'tuple'>\n",
      "\n",
      "Area under curve =  16.955477562276545 ± 6.652645670652581e-08\n"
     ]
    },
    {
     "data": {
      "image/png": "[encoded data removed]",
      "text/plain": [
       "<Figure size 432x288 with 1 Axes>"
      ]
     },
     "metadata": {
      "needs_background": "light"
     },
     "output_type": "display_data"
    }
   ],
   "source": [
    "import numpy as np                  #(to get numpy functions for plot)\n",
    "from scipy import integrate\n",
    "\n",
    "def my_curve(x):\n",
    "    y = x/(x+1)\n",
    "    return(y)\n",
    "\n",
    "integral = integrate.quad(my_curve, 0, 20)\n",
    "\n",
    "print('result of quad() function:  ')\n",
    "print(integral)\n",
    "print(type(integral))\n",
    "print()\n",
    "print('Area under curve = ',integral[0],'±', integral[1])\n",
    "\n",
    "\n",
    "\n",
    "import matplotlib.pyplot as plt\n",
    "xvals = np.linspace(0,20,21)\n",
    "yvals = []\n",
    "for val in xvals:\n",
    "    yvals.append(my_curve(val))\n",
    "plt.plot(xvals, yvals)\n",
    "plt.title('A plot to visually check our result')\n",
    "plt.show()\n",
    "    "
   ]
  },
  {
   "cell_type": "markdown",
   "metadata": {},
   "source": [
    "## Exercise\n",
    "\n",
    "Create your own function calculating an integral by copying the code above but redefining the interval and the equation of the curve considered. "
   ]
  },
  {
   "cell_type": "code",
   "execution_count": null,
   "metadata": {},
   "outputs": [],
   "source": [
    "#\n",
    "## your code here\n",
    "#"
   ]
  },
  {
   "cell_type": "markdown",
   "metadata": {},
   "source": [
    "![Alt text that will appear on mouseover](images/TJU_logo_dummy_image.png \"Dummy image\")\n",
    "\n"
   ]
  }
 ],
 "metadata": {
  "kernelspec": {
   "display_name": "Python 3 (ipykernel)",
   "language": "python",
   "name": "python3"
  },
  "language_info": {
   "codemirror_mode": {
    "name": "ipython",
    "version": 3
   },
   "file_extension": ".py",
   "mimetype": "text/x-python",
   "name": "python",
   "nbconvert_exporter": "python",
   "pygments_lexer": "ipython3",
   "version": "3.9.12"
  }
 },
 "nbformat": 4,
 "nbformat_minor": 2
}
