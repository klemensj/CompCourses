{
 "cells": [
  {
   "cell_type": "markdown",
   "metadata": {},
   "source": [
    "<div align =\"right\">Thomas Jefferson University <b>COMP 102</b>: Intro to Scientific Computing</div>"
   ]
  },
  {
   "cell_type": "markdown",
   "metadata": {},
   "source": [
    "# Numerical Python with Numpy\n",
    "\n",
    "Numpy (the name means **Num**eric **py**thon) is a library for python that contains many powerful functions for storing data in matrices and performing operations on that data. (If you don't remember what that means, go scan the <a href = 'https://en.wikipedia.org/wiki/Matrix_(mathematics)'>wikipedia entry on matrices</a>). Matrix manipulations are used in many forms of applied mathematics. Because of this many libraries are built on top of the basic architechture of numpy, including **pandas** which we will meet soon.\n",
    "\n",
    "## Data structures with numpy\n",
    "\n",
    "In this worksheet we will work on creating data structures with numpy. Oftentimes when we are doing scientific computing one of our biggest challenges has to do with working with the data set we are given. That can mean lots of different things. Arranging data, summarizing data, dealing with incomplete observations. But before we can do any of that, we have to get our data into some kind of useful data structure. The data structures we have seen so far include strings, tuples, lists, and dictionaries, none of which are specifically designed to support mathematical operations on large datasets.\n",
    "\n",
    "The principal data structure we will deploy with Numpy is therefore a structure called a **numpy array**. Matrices in numpy are arrays that have more than one dimension.\n",
    "\n",
    "Numpy is an external library, but it should be installed as part of our Anaconda installation. We first need to import the library using the standard abbreviation `np`."
   ]
  },
  {
   "cell_type": "code",
   "execution_count": null,
   "metadata": {},
   "outputs": [],
   "source": [
    "import numpy as np"
   ]
  },
  {
   "cell_type": "markdown",
   "metadata": {},
   "source": [
    "In the command below, we will use the numpy function `zeros()` to create an empty numpy array with a single dimension. This array will hold five pieces of data which the function will fill with zeros."
   ]
  },
  {
   "cell_type": "code",
   "execution_count": null,
   "metadata": {},
   "outputs": [],
   "source": [
    "arr_v = np.zeros(5)\n",
    "print(arr_v)\n",
    "print(type(arr_v))"
   ]
  },
  {
   "cell_type": "markdown",
   "metadata": {},
   "source": [
    "Note that numpy is fundamentally a system for holding and performing mathematical operations on numerical data, so the data added to a numpy array will be set to the type `float64` (numpy handles the way it represents floats a bit differently than base python `float`, it will very likely never matter to you) by default. \n",
    "\n",
    "Numpy arrays are **iterable** data types, and as such they can be indexed just like a list. They are also mutable, which means we can change the values in the array by assigning a value to a position in the array designated by its index."
   ]
  },
  {
   "cell_type": "code",
   "execution_count": null,
   "metadata": {},
   "outputs": [],
   "source": [
    "print('fourth value of arr_v is: ', arr_v[3])\n",
    "print(type(arr_v[3]))\n",
    "print()\n",
    "arr_v[3] = 1\n",
    "print('the new array: ', arr_v)\n",
    "print(type(arr_v[3]))\n",
    "\n"
   ]
  },
  {
   "cell_type": "markdown",
   "metadata": {},
   "source": [
    "Note that although we entered the integer \"1\" the numpy array stored it as a float64 anyway!\n",
    "\n",
    "If we try to add something non-numeric to a numpy array we get an error:"
   ]
  },
  {
   "cell_type": "code",
   "execution_count": null,
   "metadata": {},
   "outputs": [],
   "source": [
    "arr_v[3] = 'root beer'"
   ]
  },
  {
   "cell_type": "markdown",
   "metadata": {},
   "source": [
    "The following code uses a new numpy function, `ones()` , the output is similar to what we got from `zeros()`."
   ]
  },
  {
   "cell_type": "code",
   "execution_count": null,
   "metadata": {},
   "outputs": [],
   "source": [
    "w = np.ones(6)\n",
    "print(w)"
   ]
  },
  {
   "cell_type": "markdown",
   "metadata": {},
   "source": [
    "We need to be able to define our own Numpy arrays that contain more than just ones and zeros. We can also use the numpy function `array` in a couple of different ways. First, we can use it to define an array manually by putting square brackets, as if we were defining a list, inside the parentheses of the numpy function.\n",
    "\n",
    "Likewise, we can convert a `list` to a numpy array by using it as the input to the `array` function. "
   ]
  },
  {
   "cell_type": "code",
   "execution_count": null,
   "metadata": {},
   "outputs": [],
   "source": [
    "#defining an array\n",
    "our_array = np.array([1.735, 3.14, 2.89, 7.5])\n",
    "print(our_array)\n",
    "print()\n",
    "\n",
    "#converting a list to an array\n",
    "list_to_convert = [42.3, 74.1, 89.3, 100.2]\n",
    "print(type(list_to_convert))   \n",
    "\n",
    "converted_list = np.array(list_to_convert)\n",
    "print(converted_list)\n",
    "print(type(converted_list))"
   ]
  },
  {
   "cell_type": "markdown",
   "metadata": {},
   "source": [
    "Numpy arrays can be defined with more than one dimension.    to create a two dimensional array (which you might call a matrix), we can define it by the following construct. Note the 'list-of-lists' structure. Square brackets enclose the entire array, and each row within the array, with commas separating both elements and the component one-dimensional arrays, which will make up the rows of the matrix:\n",
    "```\n",
    "[[a,b,c],[d,e,f],[g,h,i]]\n",
    "```\n"
   ]
  },
  {
   "cell_type": "code",
   "execution_count": null,
   "metadata": {},
   "outputs": [],
   "source": [
    "twod_array = np.array([[1.735, 3.14, 2.89, 7.5],[42.3, 74.1, 89.3, 100.2]])\n",
    "print(twod_array)\n",
    "print(type(twod_array))"
   ]
  },
  {
   "cell_type": "markdown",
   "metadata": {},
   "source": [
    "Numpy arrays have certain characteristics that allow them to be useful for data manipulation. One of them is that every numpy array has an attribute known as `shape`. We have actually already used shapes. When we defined our intial numpy array v, we told numpy to create an array of shape 5 and to fill that shape with zeros. \n",
    "```\n",
    "arr_v = np.zeros(5)    # create an array of shape 5 and fill it with zeros.\n",
    "```\n"
   ]
  },
  {
   "cell_type": "code",
   "execution_count": null,
   "metadata": {},
   "outputs": [],
   "source": [
    "print(arr_v.shape)\n",
    "print(twod_array.shape)"
   ]
  },
  {
   "cell_type": "markdown",
   "metadata": {},
   "source": [
    "The `(5,)` notation means that the shape of the array is one dimensional, with a length of five. Likewise `(2,4)` means that the array is comprised of arrays of length 4, but there is a second dimension that has two elements (rows) in it. \n",
    "\n",
    "We can also use the `shape` command to change the shape of a data structure or to create an array from data, so long as the data *fits* the new shape."
   ]
  },
  {
   "cell_type": "code",
   "execution_count": null,
   "metadata": {},
   "outputs": [],
   "source": [
    "x = np.ones(24)                      # print the array\n",
    "print(\"old shape \" + str(x.shape))   # report the shape\n",
    "print(x)\n",
    "\n",
    "x.shape = (4,6)                      # change the shape\n",
    "print(\"new shape \" + str(x.shape))   # report the new shape\n",
    "print(x)                             # print the reshaped array\n",
    "\n",
    "# x.shape = (5,5)                        # uncomment this to see what happens"
   ]
  },
  {
   "cell_type": "markdown",
   "metadata": {},
   "source": [
    "We can also use the shape function when we define the array in the first place, for any array with more than one diemension the shape specfication must be enclosed in parentheses, even within the call to the array making function (`ones` in this case).\n",
    "\n",
    "Indexing and substituting data will follow the same shape format, when we index data, we now need to use both dimensions to describe which element we are talking about. "
   ]
  },
  {
   "cell_type": "code",
   "execution_count": null,
   "metadata": {},
   "outputs": [],
   "source": [
    "w = np.ones((6,6))\n",
    "print(\"original array\")\n",
    "print(w)\n",
    "print()\n",
    "\n",
    "w[0,0] = 0\n",
    "w[5,5] = 8\n",
    "w[2,4] = 9\n",
    "print(\"array with substitutions\")\n",
    "print(w)"
   ]
  },
  {
   "cell_type": "markdown",
   "metadata": {},
   "source": [
    "Just like a list, the indices of an array will count from 0, so an array of length 6 will consist of positions 0 through 5. Practice changing the code above until you are confident that you could drop a value down into an array. \n",
    "\n",
    "### Exercise\n",
    "Try to run the next two pieces of code on array w and intrepret the IndexError and Value Error statements that result.\n",
    "\n",
    "Can you change the parameters so that each one works???"
   ]
  },
  {
   "cell_type": "code",
   "execution_count": null,
   "metadata": {},
   "outputs": [],
   "source": [
    "print(w[0,6])       # call up one of the 'ones' from the array w\n"
   ]
  },
  {
   "cell_type": "code",
   "execution_count": null,
   "metadata": {},
   "outputs": [],
   "source": [
    "w.shape = (4,4)     # make a new shape that works\n",
    "print(w)"
   ]
  },
  {
   "cell_type": "markdown",
   "metadata": {},
   "source": [
    "## linspace() and arange(), a useful functions in numpy\n",
    "Another very handy thing to do with numpy is to create arrays that have even spacing. The command `linspace` means \"linear spaced\" which means that variables in the array are spaced out evenly along the range of values. This is really handy when trying to create the axes on a graph, for example.\n",
    "\n",
    "`linspace` takes three arguments, a starting value, an ending value, and the number of elements in the array created. Take a look at the examples below to figure out how it works. \n"
   ]
  },
  {
   "cell_type": "code",
   "execution_count": null,
   "metadata": {},
   "outputs": [],
   "source": [
    "print( '100 by fives: ', np.linspace(0,100,21))\n",
    "print( '0, 1 half, and 1: ', np.linspace(0,1,3))\n",
    "print( 'backwards from 10: ', np.linspace(10,1,10))\n"
   ]
  },
  {
   "cell_type": "markdown",
   "metadata": {},
   "source": [
    "`arange()` is similar to `linspace()`, but instead of generating a set number of values, it generates values based on a set spacing between them, and uses as many numbers as necessary to complete that task.  "
   ]
  },
  {
   "cell_type": "code",
   "execution_count": null,
   "metadata": {},
   "outputs": [],
   "source": [
    "print(np.arange(1,10,1))\n",
    "print()\n",
    "print(np.arange(0,30,0.25))"
   ]
  },
  {
   "cell_type": "markdown",
   "metadata": {},
   "source": [
    "### Exercise\n",
    "Modify the code below, so that it:\n",
    "* counts to 100 by 10 instead of by 5 \n",
    "* counts from 0 to 1 by thirds\n",
    "* counts from 0 to negative 10 by ones\n",
    "* counts every even number from 0 to 100 inclusive (use arange)"
   ]
  },
  {
   "cell_type": "code",
   "execution_count": null,
   "metadata": {},
   "outputs": [],
   "source": [
    "print( '100 by 10s: ', np.linspace(0,100,21))\n",
    "print( '0, 1/3, 2/3, 1: ', np.linspace(0,1,3))\n",
    "print( 'backwards from 0: ', np.linspace(10,1,10))\n",
    "print\n",
    "print( 'count by two to 100: ', np.arange(0,100,1))\n"
   ]
  },
  {
   "cell_type": "markdown",
   "metadata": {},
   "source": [
    "## Graphing and analysis with numpy\n",
    "As we mentioned at the top of this notebook, Numpy arrays can be used by other libraries. One common one is to use numpy arrays within the library matplotlib, which we will consider in the future, for plotting. We have seen the example below before, don't worry about the plotting commands, just focus on the definition of the numpy array. "
   ]
  },
  {
   "cell_type": "code",
   "execution_count": null,
   "metadata": {},
   "outputs": [],
   "source": [
    "import matplotlib.pyplot as plt \n",
    "import numpy as np\n",
    "\n",
    "y = np.array([35, 25, 25, 15])                     #define a numpy array to hold the data\n",
    "\n",
    "mylabels = [\"Basil\", \"Mint\", \"Thyme\", \"Parsley\"]\n",
    "\n",
    "plt.pie(y, labels = mylabels)\n",
    "plt.show() "
   ]
  },
  {
   "cell_type": "markdown",
   "metadata": {},
   "source": [
    "Numpy also contains a lot of built-in math that is useful for in plotting and data analysis. The `Polynomial.fit` method takes data and fits the best equation to it given the order of the polynomial to be fitted. \n",
    "\n",
    "Here is example of scatter plot with a regression line using function. The function takes two arrays, x and y, and the order of the polynomial, 1 (remember a polynomial of order 1 is a straight line).\n",
    "\n",
    "Don't worry about the plotting functions again - loot at how numpy is used:\n",
    "\n",
    "For a two dimensional analysis we pass the function two arrays worth of data that are treated as the x and y inputs to the analysis. This returns us an equation, from which we can extract the coefficients m and b to describe a line. "
   ]
  },
  {
   "cell_type": "code",
   "execution_count": null,
   "metadata": {},
   "outputs": [],
   "source": [
    "x = np.array([1, 1, 2, 3, 4, 4, 5, 6, 7, 7, 8, 9])\n",
    "y = np.array([13, 14, 17, 12, 23, 24, 25, 25, 24, 28, 32, 33])\n",
    "\n",
    "#create basic scatterplot\n",
    "plt.plot(x, y, 'o')\n",
    "\n",
    "#obtain m (slope) and b(intercept) of linear regression line\n",
    "m, b = np.polyfit(x, y, 1)\n",
    "print('b = ', b, '  m= ', m)\n",
    "\n",
    "#add linear regression line to scatterplot \n",
    "plt.plot(x, m*x+b, 'r', label='y={:.2f}x+{:.2f}'.format(m,b))\n",
    "plt.legend(fontsize=12)\n",
    "\n",
    "plt.show()"
   ]
  },
  {
   "cell_type": "markdown",
   "metadata": {},
   "source": [
    "Here is an fun example of using the np.random.randint function in a scatter plot. plt.scatter method requires two arrays of equal length, x and y, to specify data. You can also specify the size of the marker and the color of each data point using arrays. Here we randomly generated 4 arrays and created this plot. The color is assigned based on a specified color map, cmap. You can found more build-in color maps here: https://www.w3schools.com/python/matplotlib_scatter.asp."
   ]
  },
  {
   "cell_type": "code",
   "execution_count": null,
   "metadata": {},
   "outputs": [],
   "source": [
    "import matplotlib.pyplot as plt\n",
    "import numpy as np\n",
    "\n",
    "x = np.random.randint(100, size=(100))\n",
    "y = np.random.randint(100, size=(100))\n",
    "colors = np.random.randint(100, size=(100))\n",
    "sizes = 10 * np.random.randint(100, size=(100))\n",
    "\n",
    "plt.scatter(x, y, c=colors, s=sizes, alpha=0.5, cmap='nipy_spectral')\n",
    "\n",
    "plt.colorbar()\n",
    "\n",
    "plt.show()"
   ]
  },
  {
   "cell_type": "markdown",
   "metadata": {},
   "source": [
    "## Importing data with numpy\n",
    "Ok, we can see that these array data structures are going to be a lot more powerful than just working with text files. In fact, numpy comes with a function that allows us to read directly from text. It's called `genfromtxt` meaning \"generate a numpy array from a text file\". Try the code below"
   ]
  },
  {
   "cell_type": "code",
   "execution_count": null,
   "metadata": {},
   "outputs": [],
   "source": [
    "Gradebook_array = np.genfromtxt(\"data/Gradebook.csv\")\n",
    "print(Gradebook_array)"
   ]
  },
  {
   "cell_type": "markdown",
   "metadata": {},
   "source": [
    "Hmmm, this doesn't look right. What else might we need to do? It turns out that with numpy, we need to give it more information when it is dealing with a text file. We can do this by specifying a `delimiter`, in this case `,`"
   ]
  },
  {
   "cell_type": "code",
   "execution_count": null,
   "metadata": {},
   "outputs": [],
   "source": [
    "Gradebook_array = np.genfromtxt(\"data/Gradebook.csv\", delimiter =',', skip_header=False)\n",
    "print(Gradebook_array)"
   ]
  },
  {
   "cell_type": "markdown",
   "metadata": {},
   "source": [
    "Aha, that looks better, this is the same gradebook data, in terms of the scores, that we saw before. But what are the nan values? They signify no data! Of course, numpy can only handle numerical data, as we saw before so we end up with an organized data table, but none of the associated text. We would have to harvest that information from our .csv file in a different way and keep track of those arrays separately. That's not great, which is why we will learn the next tool in the scientific computing toolbox, pandas."
   ]
  },
  {
   "cell_type": "markdown",
   "metadata": {},
   "source": [
    "## Exercises"
   ]
  },
  {
   "cell_type": "markdown",
   "metadata": {},
   "source": [
    "### Exercise 1\n",
    "\n",
    "Create a 10 X 10 matrix that contains the numbers from 0 to 99 as values. "
   ]
  },
  {
   "cell_type": "code",
   "execution_count": null,
   "metadata": {},
   "outputs": [],
   "source": [
    "#\n",
    "## your code here\n",
    "#"
   ]
  },
  {
   "cell_type": "markdown",
   "metadata": {},
   "source": [
    "### Exercise 2\n",
    "\n",
    "Write a loop that will walk through your previous matrix and replace the main diagonal (should be the numbers 0, 11, 22 etc.) with 1s. "
   ]
  },
  {
   "cell_type": "code",
   "execution_count": null,
   "metadata": {},
   "outputs": [],
   "source": [
    "#\n",
    "## your code here\n",
    "#"
   ]
  },
  {
   "cell_type": "markdown",
   "metadata": {},
   "source": [
    "### Exercise 3\n",
    "Manually create three arrays of length 5 using numbers below, assemble them all into a two--dimensional array, output that array AND its shape."
   ]
  },
  {
   "cell_type": "code",
   "execution_count": null,
   "metadata": {},
   "outputs": [],
   "source": [
    "#\n",
    "## your code here\n",
    "#"
   ]
  },
  {
   "cell_type": "markdown",
   "metadata": {},
   "source": [
    "![Alt text that will appear on mouseover](images/TJU_logo_dummy_image.png \"Dummy image\")\n",
    "\n"
   ]
  }
 ],
 "metadata": {
  "kernelspec": {
   "display_name": "Python 3",
   "language": "python",
   "name": "python3"
  },
  "language_info": {
   "codemirror_mode": {
    "name": "ipython",
    "version": 3
   },
   "file_extension": ".py",
   "mimetype": "text/x-python",
   "name": "python",
   "nbconvert_exporter": "python",
   "pygments_lexer": "ipython3",
   "version": "3.8.8"
  }
 },
 "nbformat": 4,
 "nbformat_minor": 2
}
