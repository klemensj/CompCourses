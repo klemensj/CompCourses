{
 "cells": [
  {
   "cell_type": "markdown",
   "metadata": {},
   "source": [
    "<div align =\"right\">Thomas Jefferson University <b>COMP 102</b>: Intro to Scientific Computing</div>"
   ]
  },
  {
   "cell_type": "markdown",
   "metadata": {},
   "source": [
    "# Heatmaps\n",
    "\n",
    "## 2D Histograms\n",
    "\n",
    "The simplest heatmap type visualization that we will look at is a **2D histogram**. The built-in pyplot function for creating one of these is called `.hist2d`. You can read the <a href = 'https://matplotlib.org/3.1.1/api/_as_gen/matplotlib.pyplot.hist2d.html'>hist2d function definition</a> here. \n",
    "\n",
    "As you might expect, a major difference in creating one of these plots is that it requires two data arrays as arguments instead of one -- as we will be plotting where data falls in two dimensions simultaneously. This will let us introduce a few elements that we will need for subsequent visualizations. For this data rather than reading in data from the outside we will use `numpy` to create some fake data to plot. This is described in the comments to the code below.\n",
    "\n",
    "In a regular histogram, matplotlib would calculate the heights of the bars from the number of individuals in each category. In this case, instead of bar heights, we will get different colors for different numbers of observations. "
   ]
  },
  {
   "cell_type": "code",
   "execution_count": null,
   "metadata": {},
   "outputs": [],
   "source": [
    "import matplotlib.pyplot as plt\n",
    "import pandas as pd\n",
    "import numpy as np\n",
    "\n",
    "\n",
    "# We create two arrays of random numbers, drawn from normal distributions,\n",
    "## specifying mean, SD, and number of observations\n",
    "\n",
    "x = np.random.normal(0,2,50000)             # mean = 0, SD = 2, 50000 observations\n",
    "y = (x*2 + np.random.normal(0,4,50000))     # underlying line eq, y=2x, different SD\n",
    "\n",
    "fig = plt.figure( figsize = (12,4))\n",
    "\n",
    "ax1 = plt.subplot(1,2,1)\n",
    "plt.hist2d(x, y, bins=50)    # This codes for the histogram\n",
    "plt.colorbar()                # This plots the colorbar - a 'legend' for what the colors mean\n",
    "\n",
    "ax2 = plt.subplot(1,2,2)\n",
    "plt.hist2d(x, y, bins=50, cmap = plt.cm.Greens)     # Same histogram, only cmap changed\n",
    "plt.colorbar()                                      # Note that colorbar automatically detects\n",
    "                                                    ## the colormap being used\n",
    "plt.show()"
   ]
  },
  {
   "cell_type": "markdown",
   "metadata": {},
   "source": [
    "The number of bins is a very important parameter to decide on for a visualization like this. *Before moving on* take a minute to adjust the `bins` value. Try values like 5, or 500. Can you figure out what the number specifically represents? Try to find an ideal value. \n",
    "\n",
    "### Applying colormaps with `cmap`\n",
    "\n",
    "In the second example, we specified a term called `cmap`. This specifies a particular **colormap**, which defines a specific range of colors in which the intensities vary across a range of values that are then assigned to the range of values being plotted. Various colormaps are included within matplotlib and they can be called by their names. Go take a look at <a href ='https://matplotlib.org/examples/color/colormaps_reference.html'>this reference document of the matplotlib colormaps</a>. Note that the first colormap is titled `viridis`, and these colors match what we see in the plot on the left. This is the default colormap used if we don't specify a different one. \n",
    "\n",
    "There are a number of different categories of colormap. Both 'sequential' and 'perceptually uniform sequential' are used to achieve a gradient that is natural to the eye. I think the standard sequential sets based on indivudal colors work particularly well for 2D histograms, where low to high intensity is what is being plotted. Another form is the 'diverging' colormap, where middle values are low intensity and divergences from those values get more intense in contrasting directions. 'Qualitative' colormaps are a set of discrete colors rather than a gradient. They are good for coding categorical data as we will see below. \n",
    "\n",
    "Using the graphs above play with some different color maps and decide what categories work best for these histograms. There are some others in the 'misc' category. They can actually lead to some problems of intrepretation so be careful with these. Try them as well.\n",
    "\n",
    "### The `colorbar`\n",
    "\n",
    "The `plt.colorbar()` function is another important element in constructing these graphs. If you comment it out of the code above you'll see that the graph doesn't change, but our color legend goes away. Another thing that you should notice is that it automatically picks up the relevant cmap from the associated plot - you don't have to specify the color map. \n",
    "\n",
    "\n",
    "### `hexbin` variant of the 2D histogram\n",
    "\n",
    "Another mode of this kind of graph is the `hexbin` graph. These are useful in particular when your x and y coordinates represent physical space. You will see hexagons a lot on board games, for example, as they have some good properties for modeling movement across 2D space compared to squares. We call these very similarly to the 2D histogram with a parameter called `gridsize` in place of bins."
   ]
  },
  {
   "cell_type": "code",
   "execution_count": null,
   "metadata": {},
   "outputs": [],
   "source": [
    "plt.hexbin(x, y, gridsize = 25)    # note that we specify 'gridsize'  in place of 'bins'\n",
    "plt.colorbar()    \n",
    "plt.show()"
   ]
  },
  {
   "cell_type": "markdown",
   "metadata": {},
   "source": [
    "### Questions to answer:\n",
    "\n",
    "Why is it important to our visualization efforts that colormaps be included within matplotlib. What would we have to do otherwise? Try comparing sequence to diverging to the top three options . Which do you think is better and why? What are particularly good situatios for diverging colormaps?\n",
    "\n",
    "- \n",
    "- \n",
    "- \n",
    "\n",
    "What number of bins did you decide was best for the 2D histogram? Why?\n",
    "\n",
    "- \n",
    "- \n",
    "- \n"
   ]
  },
  {
   "cell_type": "markdown",
   "metadata": {},
   "source": [
    "## Contour plots\n",
    "\n",
    "\n",
    "Another type of 2D plot is a contour plot. The most familar type of contour plot is a topographic map. Contour lines represent all points of a particular value. such that all datapoints on one side of the contour represent values higher than the limit and all values to the other side of the contour are lower than the limit. \n",
    "\n",
    "The function for creating a contour plot is `contour()`. Contour requires us to give data in the form X, Y, Z where X and Y represent a set of coordinates and Z represents the value at each coordinate. Contour lines don't have to be plotted at the x-y combination of every pixel on the graph, of course. When we feed an array into contour matplotlib automatically smooths the contour lines to make them continuous (much like with the density plot of a histogram). "
   ]
  },
  {
   "cell_type": "code",
   "execution_count": null,
   "metadata": {},
   "outputs": [],
   "source": [
    "# In this part we are using numpy to generate an array of data for plotting\n",
    "\n",
    "def f(x,y):\n",
    "    return np.sin(x) + np.cos(x*y)\n",
    "\n",
    "x = np.linspace(0,2.5,26)               # x = [0, 0.1, 0.2, 0.3 ... 2.5]    see below for explanation\n",
    "y = np.linspace(0,2.5,26)               \n",
    "X,Y = np.meshgrid(x,y)                  # combines x and y into a 2D array of x and y values, \n",
    "Z = f(X,Y)                              # creates a 2D array Z that is the value of Z at each point X,Y\n",
    "                                        ## this is a shortcut method to setting up an array of Z values\n",
    "                                        ## without using for loops. There are lots of ways to achieve this.\n",
    "\n",
    "## Here is where we start with the contour plot \n",
    "\n",
    "fig = plt.figure( figsize = (18,4))                       # set up a wide figure space to fit in 3 plots\n",
    "\n",
    "ax1 = plt.subplot(1,3,1)\n",
    "plt.contour(X,Y,Z,20, cmap = plt.cm.viridis)\n",
    "plt.colorbar()\n",
    "\n",
    "ax2 = plt.subplot(1,3,2)\n",
    "CS = plt.contour(X,Y,Z,10, cmap = plt.cm.viridis)\n",
    "plt.clabel(CS, inline=True, fontsize=10)                  # plt.clabel() function replaces plt.colorbar()\n",
    "\n",
    "ax3 = plt.subplot(1,3,3)\n",
    "plt.contourf(X,Y,Z,20, cmap = plt.cm.Reds)                # note the function 'countourf' \n",
    "plt.colorbar()\n",
    "\n",
    "plt.show()"
   ]
  },
  {
   "cell_type": "markdown",
   "metadata": {},
   "source": [
    "**Questions to answer:** What does the number after the X,Y,Z coordinates in the contour function specify? Try changing that value, what do you think is an ideal value for this plot? What happens if you try to use `x` and `y` instead of `X` and `Y` when plotting?\n",
    "\n",
    "- \n",
    "- \n",
    "- \n",
    "\n",
    "Why didn't I include the colorbar on the second plot? What does CS represent? Why did we have to do this? Can you figure out how to make the text on the contours black rather than varying with the contour line? What happens if you adjust the number after `X,Y,Z,` on this one? What is an ideal value for it?\n",
    "\n",
    "- \n",
    "- \n",
    "- \n",
    "\n",
    "What does function `contourf()` do? Why do you think I changed the `cmap` for that plot? Do you agree with the change?\n",
    "\n",
    "- \n",
    "- \n",
    "- \n",
    "\n"
   ]
  },
  {
   "cell_type": "markdown",
   "metadata": {},
   "source": [
    "## Simple Heatmaps\n",
    "\n",
    "A **heat map** is a grid that shows data values for different categories. It's different from a contour plot in that it is generally used to show variation in a continuous variable across a grid of categorical x and y values, while the 2D histogram plots counts of items that fall within particular ranges of continuous x and y variables. In this way it is kind of like a 3D bar plot, with color used to supply the value stored in the z dimension in place of bar height. (editorial comment: If you are ever tempted to make a 3D bar plot, stop and make a heat map instead). \n",
    "\n",
    "Below is an example heatmap. We can use the `pcolormesh()` function to create a simple heat map from a dataframe. We need to pass pcolormesh an array of data, so one thing we have to do is make sure that our dataframe consists only of the numbers we want to use, if there is a row descriptor in our dataframe, we need to remove it so that all the values in the dataframe are numbers.\n",
    "\n",
    "The example below is for a set of relative food prices, compared to a national average, as observed at competing grocery stores in the philadelphia area (again, this data is completely made up). The row descriptor is therefore 'Store'. We pull these strings out of the data using the `set_index` command, leaving just the numbers in the grid. As you can see once you run the code below, graphic is very simple and much easier to intrepret than the table below.\n",
    "\n"
   ]
  },
  {
   "cell_type": "code",
   "execution_count": null,
   "metadata": {},
   "outputs": [],
   "source": [
    "food = pd.read_csv('data/food_price.csv')\n",
    "type(food)\n",
    "food = food.set_index('Store')\n",
    "\n",
    "fig = plt.figure( figsize = (8,4))\n",
    "ax = plt.subplot()\n",
    "\n",
    "plt.pcolormesh(food, cmap = 'Reds')\n",
    "\n",
    "plt.yticks(np.linspace(0.5, len(food.index)-0.5, len(food.index)), food.index)\n",
    "plt.xticks(np.linspace(0.5, len(food.columns)-0.5, len(food.columns)), food.columns)\n",
    "\n",
    "plt.title('Price ratio of supermarket items\\nto the national average.')\n",
    "\n",
    "plt.colorbar()\n",
    "\n",
    "plt.show()\n",
    "\n",
    "print('\\n',food)\n",
    "\n"
   ]
  },
  {
   "cell_type": "markdown",
   "metadata": {},
   "source": [
    "\n",
    "One note about this method is that you may notice that the y axis is 'flipped'. That's because by default matplotlib is plotting to a y axis in which low values are on the bottom and high values are on top (just like every y axis you've ever looked at). So the first item in the dataframe is assigned the lowest number, and so on. \n",
    "\n",
    "\n",
    "To add the annotations we used the function `numpy.linspace`. We used it in the last exercise as well. This incredibly useful function takes 3 arguments, a starting point, an ending point, and the number of values that should be generated: \n"
   ]
  },
  {
   "cell_type": "code",
   "execution_count": null,
   "metadata": {},
   "outputs": [],
   "source": [
    "print('count from 1 to 10 with ten increments:')\n",
    "print(np.linspace(1,10,10),'\\n')\n",
    "\n",
    "print('count from 0 to 2 by thirds (7 increments to get beginning and end points):')\n",
    "print(np.linspace(0,2,7),'\\n')\n",
    "\n",
    "print('count from 0 to 2 by thirds (leave off last value for more intuitive usage):')\n",
    "print(np.linspace(0,2,6, endpoint=False),'\\n')\n",
    "\n",
    "print('this is the increment we used above to get values centered on each of six squares:')\n",
    "print(np.linspace(0.5,5.5,6),'\\n')\n",
    "\n",
    "print('SAME RESULT but using the length of a dataframe element so we don\\'t have to count manually:')\n",
    "print(np.linspace(0.5, len(food.columns)-0.5, len(food.columns)),'\\n')"
   ]
  },
  {
   "cell_type": "markdown",
   "metadata": {},
   "source": [
    "\n",
    "## Annotated Heatmaps\n",
    "\n",
    "Another thing we could do with a heatmap would be to annotate it, so that the actual values show up on the squares. We are actually going to use this as a jumping off point to think about new, easier ways to do things. First let's go through and do it by hand using the same dataframe. The `DataFrame.iloc()` method allows us to call values from inside a data frame just as we would call values from a numpy array, so using coordinates within the dataframe.\n",
    "\n",
    "The classic way to walk through a data matrix is to use nested `for` loops. You can see this structure below. The outer for loop in this case represents the "
   ]
  },
  {
   "cell_type": "code",
   "execution_count": null,
   "metadata": {},
   "outputs": [],
   "source": [
    "fig = plt.figure( figsize = (8,4))\n",
    "ax = plt.subplot()\n",
    "\n",
    "plt.pcolormesh(food, cmap = 'Reds', edgecolor = 'white', alpha = 0.5)\n",
    "\n",
    "for i in range(len(food.index)):\n",
    "    for j in range(len(food.columns)):\n",
    "        plt.text(j+0.4,i+0.4,food.iloc[i,j])    # note  the use of two different coordinate systems\n",
    "                                                ## X,Y which corresponds to column, row (j,i) for position of text on graph\n",
    "                                                ## index, column to pull the data from the datafrave (i,j)\n",
    "                                                ## this is super confusing and easy to mess up\n",
    "ax.spines['bottom'].set_color('white')\n",
    "ax.spines['top'].set_color('white')\n",
    "ax.spines['left'].set_color('white')\n",
    "ax.spines['right'].set_color('white')\n",
    "\n",
    "plt.yticks(np.linspace(0.5, len(food.index)-0.5, len(food.index)), food.index, size =14)\n",
    "plt.xticks(np.linspace(0.5, len(food.columns)-0.5, len(food.columns)), food.columns, size =14)\n",
    "\n",
    "plt.title('Price ratio of supermarket items\\nto the national average.', size =16)\n",
    "\n",
    "plt.colorbar()\n",
    "\n",
    "plt.show()\n"
   ]
  },
  {
   "cell_type": "markdown",
   "metadata": {},
   "source": [
    "This ends up being a much prettier, much more functional colormap, but it took a bit of doing to get there. Take a look at the code above and see if you can answer the following questions about it:\n",
    "\n",
    "**Questions to answer:** Why did we have to set the value of alpha to 0.5? What happens without that code? What did `edgecolor` do? How did our use of np.linspace in the examples above work to get the x and y labels in the proper position?\n",
    "\n",
    "- \n",
    "- \n",
    "- \n",
    "\n",
    "Why do you think it is better to use `len(food.index)` than to just plug in the number `6` in the code?\n",
    "\n",
    "- \n",
    "- \n",
    "- \n",
    "\n",
    "Can you explain this line of code ```plt.text(j+0.4,i+0.4,food.iloc[i,j])```?\n",
    "\n",
    "- \n",
    "- \n",
    "- "
   ]
  },
  {
   "cell_type": "markdown",
   "metadata": {},
   "source": [
    "### The Easy Way (seaborn cheatcode)\n",
    "\n",
    "Because (as you probably found out last week with the box plots - it can take a bit of doing to do things in base matplotlib. For example when we wanted to extract categories from a boxplot we had to go through a whole rigamarole of creating a new data structure. \n",
    "\n",
    "There is a library called `seaborn` that uses matplotlib but has a number of pre-programmed functions within it. It's very likely that when trying to google answers for your previous assignements (histograms, boxplots, etc.) you've already stumbled across this. These are really useful things, and going forward, you shouldn't be afraid to use those things to create attractive solutions. If you need full customization potential you may want to stick with matplotlib, but if you want to make a functional graphic quickly there are a lot of use case things that are built into seaborn functions. See how easy it is to add annotations to our heatmap using seaborn? Some of the other formatting aspects work a little differently, so there is a learning curve to each solution. For example, seaborn creates the colorbar and `ylabel` by default. It also maintains the structure of our dataframe instead of inverting it, which is nice. Some of our typical adjustments will work the same way, but some will be different."
   ]
  },
  {
   "cell_type": "code",
   "execution_count": null,
   "metadata": {},
   "outputs": [],
   "source": [
    "import seaborn as sns\n",
    "\n",
    "fig = plt.figure( figsize = (8,4))\n",
    "ax = sns.heatmap(food, annot = True, cmap = 'Reds')\n",
    "\n",
    "print(food.head())\n",
    "\n",
    "plt.xticks(size=14)\n",
    "plt.yticks(size = 14)\n",
    "plt.ylabel('')\n",
    "\n",
    "plt.show()\n"
   ]
  },
  {
   "cell_type": "markdown",
   "metadata": {},
   "source": [
    "## Assignment \n",
    "\n",
    "I have attached a microarray dataset `Qi_NormalizedDataTibet_cellulose_fungi.csv` published by the <a href = 'https://www.ou.edu/ieg/publications/datasets'>Institute for Environmental Genomics</a> at the University of Oklahoma. In this data, we see gene expression data from an environmental sample in two conditions - a control treatment and a treatment in which the soil was heated up. There were thousands of genes in this sample, I've cut it down to a more manageable number by selecting only those genes that were identified as belonging to basidiomycete fungi, involved in the degradation of cellulose. You can see <a href='http://129.15.40.254/NewIEGWebsiteFiles/publications/SupplData/Qi-NormalizedDataTibet.csv'>the full dataset here</a>.\n",
    "\n",
    "For this assignment I'd like you to generate a heatmap of this data. There are four genes that were discovered, each of which occurs several times in the sample but in different organisms. I'd like to see you highlight somehow the labelling so that we can easily see which of the four genes each sample belongs to without having to squint at the y axis. Make sure the boxes are annotated. You will not be able to just pull this dataframe in and run with it, you may have to create a new dataframe from your starting dataframe. I would suggest using base matplotlib to do this rather than the seaborn graph, but if you want to dig in on the seaborn plot that's fine too, just be aware there will be some learning curve with figuring out how to do the adjustments that the figure will require. "
   ]
  },
  {
   "cell_type": "code",
   "execution_count": null,
   "metadata": {},
   "outputs": [],
   "source": [
    "###\n",
    "### your assignment code here\n",
    "\n",
    "fungi = pd.read_csv('data/Qi_NormalizedDataTibet_cellulose_fungi.csv')\n",
    "# print(fungi.head())\n",
    "ids = fungi['Genbank ID']\n",
    "# print(ids.head())\n",
    "genes = np.unique(fungi['Gene'])\n",
    "print(genes)\n",
    "\n",
    "fun_num = fungi.drop( ['Genbank ID','Gene_category', 'Subcategory1','Subcategory2','Lineage'], axis = 'columns')\n",
    "\n",
    "for gene in genes:\n",
    "    temp_fungi = fun_num[fun_num['Gene']==gene]\n",
    "    temp_fungi = temp_fungi.set_index('Gene')\n",
    "    fig = plt.figure(figsize = (8,len(temp_fungi)))\n",
    "    ax = plt.subplot()\n",
    "    plt.pcolormesh(temp_fungi, cmap = 'Pastel1', edgecolor = 'white', alpha = 0.5)\n",
    "    plt.title(gene)\n",
    "    \n",
    "\n",
    "###"
   ]
  },
  {
   "cell_type": "markdown",
   "metadata": {},
   "source": [
    "\n",
    "![](images/TJU_logo_image.png \"TJU logo\")\n"
   ]
  }
 ],
 "metadata": {
  "kernelspec": {
   "display_name": "Python 3 (ipykernel)",
   "language": "python",
   "name": "python3"
  },
  "language_info": {
   "codemirror_mode": {
    "name": "ipython",
    "version": 3
   },
   "file_extension": ".py",
   "mimetype": "text/x-python",
   "name": "python",
   "nbconvert_exporter": "python",
   "pygments_lexer": "ipython3",
   "version": "3.9.12"
  }
 },
 "nbformat": 4,
 "nbformat_minor": 2
}
