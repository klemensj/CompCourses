{
 "cells": [
  {
   "cell_type": "markdown",
   "metadata": {},
   "source": [
    "# Plotting a bar graph with Matplotlib\n",
    "\n",
    "**What are bar graphs used for?**\n",
    "\n",
    "Bar graphs are used to compare the same variables of different groups. While they can be used to measure change over time (time being the \"different groups\"), it is usually done over large amount of time, but otherwise is generally not advised."
   ]
  },
  {
   "cell_type": "markdown",
   "metadata": {},
   "source": [
    "**Keywords:**\n",
    "\n",
    "**Library:** A cool box of tools that can be used for a specific task\n",
    "\n",
    "**Package:**\n",
    "    \n",
    "Hello, welcome to one of the first graphing exercieses for this class. We will be using the Matplotlib package (that's already installed in your Anaconda/Spyder IDE) to produce a bar graph. **While it may be easier, faster, and prettier to use Excel to make two or three bar graphs for your lab report that's due in a couple of days, it can be time-consuming when this process is repeated hundreds, if not, thousands of time when you are processing large armounts of raw data.** As we know, experiments in science must be repeated, sometimes hundreds of times. It would **not** be wise to hire a intern for the sole purpose of making hundreds of bar graphs or pie charts.\n",
    " \n",
    "Let's start this program by importing the packages we need. **Why do we do this? Why isn't this package already included/running in python?**\n",
    "\n",
    "**Answer:** If all known packages were already imported and integrated into python, it would take AGES for the program to run. Python would not be as \"light/lite\" as it is now. There are many people out there using Python...we are scientists, so we will be dealing with the statistical side of Python...so we must import these statistical/scientific packages.\n",
    "\n",
    "Here's the first line:"
   ]
  },
  {
   "cell_type": "code",
   "execution_count": 1,
   "metadata": {},
   "outputs": [],
   "source": [
    "import pandas as pd"
   ]
  },
  {
   "cell_type": "markdown",
   "metadata": {},
   "source": [
    "What does this mean? With `import pandas`, we are telling python to import a library called `pandas`. Usually, whenever we need to refer to/use the pandas library, we write something like.... `pandas.read_csv` or `pandas.array` or `pandas.do_this`. You see the basic set-up of using something from the pandas library (or any library!) -> `name_of_library.name_of_action` . Another way to think about this is that you are accessing an action within a folder called \"pandas\".\n",
    "    \n",
    "Having said this, notice that the word \"pandas\" has 6 characters. It's not particularlly long compared to other library names, but time adds up, and typing this 6 character library name thousands of times can decrease our effiency in writing code. This is where the second-half of the 1st line of code comes in.\n",
    "\n",
    "**Let's look at this equation:**\n",
    "\n",
    "![equation](equation_example.JPG)\n",
    "\n",
    "The full equation takes around 20 seconds to write out. **Time adds up. It would be much easier to write `X` in replacement of `(K+L)`. This saved A LOT of time.**\n",
    "![equation_simp](Equation_simp.PNG)    \n",
    "    \n",
    "Now, instead of writing:\n",
    "    \n",
    "`(20(K+L)^2 - 3(K+L)^3)/(10(K+L)^2-(K+L)^3)`     \n",
    "\n",
    "we can simply write:\n",
    "\n",
    "`(20X^2 - 3X^3)/(10X^2-X^3)`\n",
    "\n",
    "This story can be applied to the latter half of the 1st line of code. With `as pd`, we are telling python that we want to replace the word `pandas` with `pd` (while we are writing code in Spyder!). Notice we are not replacing or renaming the pandas library to `pd`, just simply telling the computer that we would like to write the simplified `pd` instead of `pandas` every time."
   ]
  },
  {
   "cell_type": "code",
   "execution_count": 2,
   "metadata": {},
   "outputs": [],
   "source": [
    "import matplotlib.pyplot as plt"
   ]
  },
  {
   "cell_type": "markdown",
   "metadata": {},
   "source": [
    "This second line of code is very similar to the first. It imports an important sub-library/function called `pyplot` that is located within the matplotlib library. These functions are needed inorder for us to easily make a graph. `pandas` and `pyplot` work with eachother very well."
   ]
  },
  {
   "cell_type": "markdown",
   "metadata": {},
   "source": [
    "The second line of code can also be written as:\n",
    "\n",
    "`from matplotlib import pyplot as plt`\n",
    "\n",
    "It has the same meaning, but is slightly different...but let's not worry about this right now."
   ]
  },
  {
   "cell_type": "markdown",
   "metadata": {},
   "source": [
    "**Now, just for fun, let do an exercise. I want to use a library called \"numpy\". I don't want to write it out all the time so instead, I want to type something like \"np\". **"
   ]
  },
  {
   "cell_type": "code",
   "execution_count": 3,
   "metadata": {},
   "outputs": [],
   "source": [
    "import numpy as np"
   ]
  },
  {
   "cell_type": "markdown",
   "metadata": {},
   "source": [
    "Let's import a csv file. What does csv mean? CSV stands for comma-seperated variables. It is one of the simplest ways of storing data by seperating values with commas. It's easy to create and edit csv files in excel as seen below.\n",
    "\n",
    "![populations_text](populations_excel.PNG)\n",
    "\n",
    "In Excel, it looks like any other xlsx file, but let's take a look at how this file is stored in its rawest form by opening the CSV file using a simple text editor, notepad:\n",
    "\n",
    "![populations_text](populations_text.PNG)\n",
    "\n",
    "The file in your folder is currently called `populations.xlsx`. Open the file and re-save it as a CSV file. **All exercises will use the CSV filetype.**"
   ]
  },
  {
   "cell_type": "code",
   "execution_count": 4,
   "metadata": {},
   "outputs": [],
   "source": [
    "country_data = pd.read_csv('populations.csv')"
   ]
  },
  {
   "cell_type": "markdown",
   "metadata": {},
   "source": [
    "Python is cool in that it's very smart and knows what you want to do. We can simply take a look at the variable we just created and stored information on just by typing it. Let it be known that in \"less smart\" languages, this would not happen. There's a lot going on in the background of Python that allows it to figure out the type of variable, and display it in a readable format, just by typing the name of the variable."
   ]
  },
  {
   "cell_type": "code",
   "execution_count": 5,
   "metadata": {},
   "outputs": [
    {
     "data": {
      "text/html": [
       "<div>\n",
       "<style scoped>\n",
       "    .dataframe tbody tr th:only-of-type {\n",
       "        vertical-align: middle;\n",
       "    }\n",
       "\n",
       "    .dataframe tbody tr th {\n",
       "        vertical-align: top;\n",
       "    }\n",
       "\n",
       "    .dataframe thead th {\n",
       "        text-align: right;\n",
       "    }\n",
       "</style>\n",
       "<table border=\"1\" class=\"dataframe\">\n",
       "  <thead>\n",
       "    <tr style=\"text-align: right;\">\n",
       "      <th></th>\n",
       "      <th>Country</th>\n",
       "      <th>Population</th>\n",
       "    </tr>\n",
       "  </thead>\n",
       "  <tbody>\n",
       "    <tr>\n",
       "      <th>0</th>\n",
       "      <td>China</td>\n",
       "      <td>1420062022</td>\n",
       "    </tr>\n",
       "    <tr>\n",
       "      <th>1</th>\n",
       "      <td>India</td>\n",
       "      <td>1368737513</td>\n",
       "    </tr>\n",
       "    <tr>\n",
       "      <th>2</th>\n",
       "      <td>USA</td>\n",
       "      <td>329093110</td>\n",
       "    </tr>\n",
       "    <tr>\n",
       "      <th>3</th>\n",
       "      <td>Indonesia</td>\n",
       "      <td>269536482</td>\n",
       "    </tr>\n",
       "    <tr>\n",
       "      <th>4</th>\n",
       "      <td>Brazil</td>\n",
       "      <td>212392717</td>\n",
       "    </tr>\n",
       "    <tr>\n",
       "      <th>5</th>\n",
       "      <td>Pakistan</td>\n",
       "      <td>204596442</td>\n",
       "    </tr>\n",
       "    <tr>\n",
       "      <th>6</th>\n",
       "      <td>Nigeria</td>\n",
       "      <td>200962417</td>\n",
       "    </tr>\n",
       "    <tr>\n",
       "      <th>7</th>\n",
       "      <td>Bangladesh</td>\n",
       "      <td>168065920</td>\n",
       "    </tr>\n",
       "    <tr>\n",
       "      <th>8</th>\n",
       "      <td>Russia</td>\n",
       "      <td>143895551</td>\n",
       "    </tr>\n",
       "    <tr>\n",
       "      <th>9</th>\n",
       "      <td>Mexico</td>\n",
       "      <td>132328035</td>\n",
       "    </tr>\n",
       "    <tr>\n",
       "      <th>10</th>\n",
       "      <td>Japan</td>\n",
       "      <td>126854745</td>\n",
       "    </tr>\n",
       "  </tbody>\n",
       "</table>\n",
       "</div>"
      ],
      "text/plain": [
       "       Country   Population \n",
       "0        China    1420062022\n",
       "1        India    1368737513\n",
       "2          USA     329093110\n",
       "3    Indonesia     269536482\n",
       "4       Brazil     212392717\n",
       "5     Pakistan     204596442\n",
       "6      Nigeria     200962417\n",
       "7   Bangladesh     168065920\n",
       "8       Russia     143895551\n",
       "9       Mexico     132328035\n",
       "10       Japan     126854745"
      ]
     },
     "execution_count": 5,
     "metadata": {},
     "output_type": "execute_result"
    }
   ],
   "source": [
    "country_data"
   ]
  },
  {
   "cell_type": "markdown",
   "metadata": {},
   "source": [
    "Wow, look at that! Python gave us a nice graph with a bolded title and highlighted grids just from typing the variable name.\n",
    "\n",
    "**Note that the 0-10 numbers on the left hand side is simply the index of each value, and is not apart of the CSV data.**"
   ]
  },
  {
   "cell_type": "code",
   "execution_count": 6,
   "metadata": {},
   "outputs": [],
   "source": [
    "# %matplotlib inline"
   ]
  },
  {
   "cell_type": "markdown",
   "metadata": {},
   "source": [
    "Now, when we put the variable inside a `print()` function,  we also retrieve the data. It looks slightly different and simplified as we're using the Python `print()` function."
   ]
  },
  {
   "cell_type": "code",
   "execution_count": 7,
   "metadata": {},
   "outputs": [
    {
     "name": "stdout",
     "output_type": "stream",
     "text": [
      "       Country   Population \n",
      "0        China    1420062022\n",
      "1        India    1368737513\n",
      "2          USA     329093110\n",
      "3    Indonesia     269536482\n",
      "4       Brazil     212392717\n",
      "5     Pakistan     204596442\n",
      "6      Nigeria     200962417\n",
      "7   Bangladesh     168065920\n",
      "8       Russia     143895551\n",
      "9       Mexico     132328035\n",
      "10       Japan     126854745\n"
     ]
    }
   ],
   "source": [
    "print(country_data)"
   ]
  },
  {
   "cell_type": "markdown",
   "metadata": {},
   "source": [
    "We can \"chop\" parts of the CSV file with `[ ROWS , COLUMNS ]`. \n",
    "\n",
    "If we give the parameters of `:`, we tell Python that we want everything. We can put numbers infront, behind, or both infront and behind `:` to indicate which indexes we want.\n",
    "\n",
    "`[3: , 0]` means FROM index 3 UNTIL (-1) end, column 0\n",
    "\n",
    "`[ :4, 1]` means FROM index (0) beginning UNTIL 4, column 1\n",
    "\n",
    "`[5:9, 2]` means FROM index 5 UNTIL 9, column 2\n",
    "\n",
    "**Try playing around with this syntax in the next line**"
   ]
  },
  {
   "cell_type": "code",
   "execution_count": 21,
   "metadata": {},
   "outputs": [
    {
     "data": {
      "text/plain": [
       "6       Nigeria\n",
       "7    Bangladesh\n",
       "8        Russia\n",
       "9        Mexico\n",
       "Name: Country, dtype: object"
      ]
     },
     "execution_count": 21,
     "metadata": {},
     "output_type": "execute_result"
    }
   ],
   "source": [
    "countries_try = country_data.iloc[6:10,0]\n",
    "\n",
    "countries_try"
   ]
  },
  {
   "cell_type": "markdown",
   "metadata": {},
   "source": [
    "**Let's create a variable called `countries` and store the country names into it.**"
   ]
  },
  {
   "cell_type": "code",
   "execution_count": 22,
   "metadata": {},
   "outputs": [
    {
     "data": {
      "text/plain": [
       "0          China\n",
       "1          India\n",
       "2            USA\n",
       "3      Indonesia\n",
       "4         Brazil\n",
       "5       Pakistan\n",
       "6        Nigeria\n",
       "7     Bangladesh\n",
       "8         Russia\n",
       "9         Mexico\n",
       "10         Japan\n",
       "Name: Country, dtype: object"
      ]
     },
     "execution_count": 22,
     "metadata": {},
     "output_type": "execute_result"
    }
   ],
   "source": [
    "countries = country_data.iloc[:,0]\n",
    "\n",
    "countries"
   ]
  },
  {
   "cell_type": "markdown",
   "metadata": {},
   "source": [
    "**Next, let's create a variable called `populations` and store the populations into it.**"
   ]
  },
  {
   "cell_type": "code",
   "execution_count": 9,
   "metadata": {},
   "outputs": [
    {
     "data": {
      "text/plain": [
       "0     1420062022\n",
       "1     1368737513\n",
       "2      329093110\n",
       "3      269536482\n",
       "4      212392717\n",
       "5      204596442\n",
       "6      200962417\n",
       "7      168065920\n",
       "8      143895551\n",
       "9      132328035\n",
       "10     126854745\n",
       "Name:  Population , dtype: int64"
      ]
     },
     "execution_count": 9,
     "metadata": {},
     "output_type": "execute_result"
    }
   ],
   "source": [
    "populations = country_data.iloc[:,1]\n",
    "\n",
    "populations"
   ]
  },
  {
   "cell_type": "markdown",
   "metadata": {},
   "source": [
    "Here, we finally make a bar graph by using the `plt.bar` function, and giving the arguments `countries` and `populations`."
   ]
  },
  {
   "cell_type": "code",
   "execution_count": 75,
   "metadata": {},
   "outputs": [
    {
     "data": {
      "image/png": "[encoded data removed]",
      "text/plain": [
       "<matplotlib.figure.Figure at 0x2386f0e5c50>"
      ]
     },
     "metadata": {},
     "output_type": "display_data"
    }
   ],
   "source": [
    "graphData = plt.bar(countries, populations)\n",
    "\n",
    "plt.show()"
   ]
  },
  {
   "cell_type": "markdown",
   "metadata": {},
   "source": [
    "Wow!!! That's....not great... The names of the countries overlap eachother and it's quite hard to read the names of the countries under its respective bar. Let's turn the text 90 degrees with\n",
    "\n",
    "`plt.xticks(rotation='vertical')`\n",
    "\n",
    "Here, we introduce something called ** \\*\\*kwargs **\n",
    "\n",
    "\\*\\*kwarg stands for keyword arguments. These optional arguments can be added to many functions. In this case, we can use \\*\\*kwarg to change the color, fonts, font size, and add designs..\n",
    "\n",
    "Now, this becomes the \"active plot\" <- find better way to say this\n",
    "so subsequent calls to matplotlib.pyplot will modify that plot"
   ]
  },
  {
   "cell_type": "code",
   "execution_count": 87,
   "metadata": {},
   "outputs": [
    {
     "data": {
      "image/png": "[encoded data removed]",
      "text/plain": [
       "<matplotlib.figure.Figure at 0x2386da24eb8>"
      ]
     },
     "metadata": {},
     "output_type": "display_data"
    }
   ],
   "source": [
    "plt.xticks(rotation = 45 )\n",
    "\n",
    "graphData = plt.bar(countries, populations,\n",
    "                    \n",
    "                    width = 0.86, #change the width of the bar. Default width is 0.8\n",
    "                    edgecolor = 'green', #change the color of the edge of the bars\n",
    "                    facecolor = 'pink', #change the color the bars\n",
    "                    hatch = '*', #add shapes inside the bars. Other options include: {'/', '\\', '|', '-', '+', 'x', 'o', 'O', '.', '*'}\n",
    "                    linestyle = '--', #change the border of the bars. Other options include:{'-', '--', '-.', ':', '', (offset, on-off-seq), ...}\n",
    "                    linewidth = 3 )\n",
    "\n",
    "plt.show()"
   ]
  },
  {
   "cell_type": "markdown",
   "metadata": {},
   "source": [
    "Introduce different code examples of things that can be done, then leave an open code window to try it. "
   ]
  },
  {
   "cell_type": "code",
   "execution_count": 13,
   "metadata": {},
   "outputs": [],
   "source": [
    "#open code window\n",
    "#use this window to explore the different parameters that can be manipulated\n",
    "#rerun this window to view the modified plot\n"
   ]
  },
  {
   "cell_type": "markdown",
   "metadata": {},
   "source": [
    "csv -> dataframt -> bar graph?\n",
    "\n",
    "image: https://stackoverflow.com/questions/32370281/how-to-embed-image-or-picture-in-jupyter-notebook-either-from-a-local-machine-o\n",
    "\n",
    "\n",
    "\n"
   ]
  }
 ],
 "metadata": {
  "kernelspec": {
   "display_name": "Python 3",
   "language": "python",
   "name": "python3"
  },
  "language_info": {
   "codemirror_mode": {
    "name": "ipython",
    "version": 3
   },
   "file_extension": ".py",
   "mimetype": "text/x-python",
   "name": "python",
   "nbconvert_exporter": "python",
   "pygments_lexer": "ipython3",
   "version": "3.6.4"
  }
 },
 "nbformat": 4,
 "nbformat_minor": 2
}
