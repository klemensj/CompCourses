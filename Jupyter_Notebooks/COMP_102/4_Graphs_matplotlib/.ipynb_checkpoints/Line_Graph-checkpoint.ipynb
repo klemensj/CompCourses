{
 "cells": [
  {
   "cell_type": "markdown",
   "metadata": {},
   "source": [
    "<div align =\"right\">Thomas Jefferson University **COMP 102**: Intro to Scientific Computing</div>"
   ]
  },
  {
   "cell_type": "markdown",
   "metadata": {},
   "source": [
    "# Plotting a line graph with Matplotlib\n",
    "\n",
    "**What are line-plots used for?**\n",
    "\n",
    "Line graphs are used to track numberical changes over a period of time for one or more groups. If there are multiple groups, each can be differentiated by the use of different color lines or different shape of time-points.\n",
    "\n",
    "Here's a quick tutorial to get you started working with matplotlib's line-ploting functions."
   ]
  },
  {
   "cell_type": "markdown",
   "metadata": {},
   "source": [
    "\n",
    "\n",
    "As always, let's import pandas and matplotlib.pyplot \n",
    "```\n",
    "import pandas as pd\n",
    "from matplotlib import pyplot as plt \n",
    "```"
   ]
  },
  {
   "cell_type": "code",
   "execution_count": 1,
   "metadata": {},
   "outputs": [],
   "source": [
    "import pandas as pd\n",
    "\n",
    "import matplotlib.pyplot as plt\n",
    "\n",
    "from numpy import *"
   ]
  },
  {
   "cell_type": "markdown",
   "metadata": {},
   "source": [
    "Once again, save the `Heartrate_Data.xlsx` file as a `.csv`. **Make sure the name of the file matches the one written below in code.**"
   ]
  },
  {
   "cell_type": "code",
   "execution_count": null,
   "metadata": {},
   "outputs": [],
   "source": [
    "sample_data = pd.read_csv('data\\Heartrate_Data.csv')"
   ]
  },
  {
   "cell_type": "markdown",
   "metadata": {},
   "source": [
    "Again, we can take a quick look at the data that we just imported by typing in out in python. Let's just check to make sure that the csv file has been imported."
   ]
  },
  {
   "cell_type": "code",
   "execution_count": null,
   "metadata": {},
   "outputs": [],
   "source": [
    "sample_data"
   ]
  },
  {
   "cell_type": "markdown",
   "metadata": {},
   "source": [
    "We can retrieve the type of data by using the `type()` function. Let's make sure that the data is stored as a DataFrame"
   ]
  },
  {
   "cell_type": "code",
   "execution_count": null,
   "metadata": {},
   "outputs": [],
   "source": [
    "type(sample_data)"
   ]
  },
  {
   "cell_type": "code",
   "execution_count": null,
   "metadata": {},
   "outputs": [],
   "source": [
    "# %matplotlib inline # Not sure if this is needed anymore...."
   ]
  },
  {
   "cell_type": "markdown",
   "metadata": {},
   "source": [
    "Let's plot the basic graph using the `plt.plot` function and using `(seconds, Heartrate)` as the `(x, y)` axis\n",
    "\n",
    "Let's store the plot -> `Heartbeat_Plot`\n",
    "\n",
    "We use `plt.show()` to show us the plot...basically a `print()` function... but for graphs!"
   ]
  },
  {
   "cell_type": "code",
   "execution_count": null,
   "metadata": {},
   "outputs": [],
   "source": [
    "Heartbeat_Plot = plt.plot(sample_data.Minutes, sample_data.Heartrate)\n",
    "plt.show()"
   ]
  },
  {
   "cell_type": "markdown",
   "metadata": {},
   "source": [
    "Great!\n",
    "\n",
    "Now let's label these graphs axis as all graphs should be. Remember to label the axes with the measurement and the units in parentheses.\n",
    "\n",
    "We can also manipulate the `fontsize` and `color` of the text (and the graph itself) with \\*\\*kwarg's. Color, alone, can be changed using many different formats: `Greyscale, Names, Hex color, RGB, single-letter colors`\n",
    "\n"
   ]
  },
  {
   "cell_type": "code",
   "execution_count": null,
   "metadata": {},
   "outputs": [],
   "source": [
    "plt.xlabel('Time (Minutes)', fontsize = 20.0, color = '0.68') #Greyscale\n",
    "plt.ylabel('Heartrate (beats/min)', fontsize = 20.1, color = 'red') #Name\n",
    "plt.title('Heartrate from 06/14/2018', fontsize = 20.2, color = '#5c42f4') #Hexcolor\n",
    "plt.text(175, 100, 'PiNk TeXt', fontsize = 20.3, color = (0.9,0.5,0.9)) #RGB\n",
    "\n",
    "plt.plot(sample_data.Minutes, sample_data.Heartrate, color = 'c') #Built-in single-letter colors, c = cyan\n",
    "#plt.show()"
   ]
  },
  {
   "cell_type": "markdown",
   "metadata": {},
   "source": [
    "Keep in mind that there is no specific order of the 'traits' (\\*\\*kwargs) of the text or graph that must be followed. However, some traits must be in a particular order, such as the text itself (`'Time (Minutes)'` must come before `fontsize` or `color` or other traits)\n",
    "\n",
    "The coordinates given for `plt.text` is the BOTTOM LEFT corner of the textbox that will be created\n",
    "\n",
    "There are many things that can be done to this line-plot, but we're just going to go over some simple commands. The full documentation for using line-plots can be found here: \n",
    "\n",
    "https://matplotlib.org/users/pyplot_tutorial.html\n",
    "\n",
    "Let's just take a look at seconds 0-500 by using the `plt.axis` function. we add the `[0:500]` to sample_data to limit what matplotlib uses to make the new graph.\n",
    "\n",
    "`plt.axis` can be used to \"zoom\" in or out. The parameters for this function are as follows:\n",
    "\n",
    "`plt.axis([left x axis bound, right x axis bound, bottom y axis bound, top y axis bound])`\n",
    "\n",
    "We'll leave some extra space (20) on the left and right of the graph so it doesn't look too clustered"
   ]
  },
  {
   "cell_type": "code",
   "execution_count": null,
   "metadata": {},
   "outputs": [],
   "source": [
    "plt.axis([0-20, 500+20, 40, 70])\n",
    "\n",
    "plt.xlabel('Time (Minutes)')\n",
    "plt.ylabel('Heartrate (beats/min)')\n",
    "plt.title('Heartrate from 06/14/2018')\n",
    "plt.plot(sample_data.Minutes[0:500], sample_data.Heartrate[0:500])\n",
    "#plt.show()"
   ]
  },
  {
   "cell_type": "markdown",
   "metadata": {},
   "source": [
    "Let's write a function that allows us to find the local max and min from seconds 0-500"
   ]
  },
  {
   "cell_type": "code",
   "execution_count": null,
   "metadata": {},
   "outputs": [],
   "source": [
    "local_max = 0\n",
    "\n",
    "for i in range (0,500):\n",
    "    if sample_data.Heartrate[i] > local_max:\n",
    "        local_max = sample_data.Heartrate[i]\n",
    "        local_max_index = i\n",
    "print (local_max, \",\", local_max_index)\n",
    "\n",
    "\n",
    "local_min= 10000\n",
    "\n",
    "for i in range (0,500):\n",
    "    if sample_data.Heartrate[i] < local_min:\n",
    "        local_min = sample_data.Heartrate[i]\n",
    "        local_min_index = i\n",
    "            #return local_min_index\n",
    "        \n",
    "print (local_min, \",\", local_min_index)\n"
   ]
  },
  {
   "cell_type": "markdown",
   "metadata": {},
   "source": [
    "Hmm, it looks like there are multiple local mins...let's write another function to find all of them"
   ]
  },
  {
   "cell_type": "code",
   "execution_count": null,
   "metadata": {},
   "outputs": [],
   "source": [
    "local_min_indexs = []\n",
    "\n",
    "for i in range (0,500):\n",
    "    if sample_data.Heartrate[i] == local_min:\n",
    "        local_min_indexs.append(i)\n",
    "        \n",
    "print(local_min_indexs)"
   ]
  },
  {
   "cell_type": "markdown",
   "metadata": {},
   "source": [
    "We can add text to this graph by using the `plt.text()` function."
   ]
  },
  {
   "cell_type": "code",
   "execution_count": null,
   "metadata": {},
   "outputs": [],
   "source": [
    "plt.text(326 , 65, 'local max (64 @ 411s)', fontsize = 10)\n",
    "# (326,65) has no significant meaning, only using to center and raise the text on MAX. Real MAX @ (411, 64)\n",
    "\n",
    "plt.text(103, 40.61, 'local mins (42 @ 283:285, 297, 299, 300, 355, 359)', fontsize = 10)\n",
    "# (103, 40.61) has no significant meaning, only using to center and lower the text on MIN. Real MAX @ (multi, 64)\n",
    "\n",
    "\n",
    "plt.axis([-20, 520, 40, 70])\n",
    "plt.xlabel('Time (Minutes)', fontsize = 20)\n",
    "plt.ylabel('Heartrate (beats/min)', fontsize = 20)\n",
    "plt.title('Heartrate from 06/14/2018', fontsize = 27)\n",
    "plt.plot(sample_data.Minutes[0:500], sample_data.Heartrate[0:500])\n",
    "plt.show()"
   ]
  },
  {
   "cell_type": "markdown",
   "metadata": {},
   "source": [
    "That looks great! You can save this graph by dragging it onto your desktop or right-clicking and selecting \"save as\""
   ]
  },
  {
   "cell_type": "markdown",
   "metadata": {},
   "source": [
    "Note: USIUNG PLOT.SHOW() GIVES CLEAN OUTPUT. NO TEXT, JUST A GRAPH."
   ]
  },
  {
   "cell_type": "markdown",
   "metadata": {},
   "source": [
    "notes:\n",
    "\n",
    "\n",
    "\n",
    "\n",
    "sample_data.Heartrate[6]\n",
    "\n",
    "len(sample_data.Seconds)\n",
    "\n",
    "local_max = 0\n",
    "\n",
    "for i in range (0,500):\n",
    "    if sample_data.Heartrate[i] > local_max:\n",
    "        local_max = sample_data.Heartrate[i]\n",
    "print (i)"
   ]
  }
 ],
 "metadata": {
  "kernelspec": {
   "display_name": "Python 3",
   "language": "python",
   "name": "python3"
  },
  "language_info": {
   "codemirror_mode": {
    "name": "ipython",
    "version": 3
   },
   "file_extension": ".py",
   "mimetype": "text/x-python",
   "name": "python",
   "nbconvert_exporter": "python",
   "pygments_lexer": "ipython3",
   "version": "3.7.3"
  }
 },
 "nbformat": 4,
 "nbformat_minor": 2
}
