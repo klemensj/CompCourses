{
 "cells": [
  {
   "cell_type": "markdown",
   "metadata": {},
   "source": [
    "<div align =\"right\">Thomas Jefferson University **COMP 102**: Intro to Scientific Computing</div>"
   ]
  },
  {
   "cell_type": "markdown",
   "metadata": {},
   "source": [
    "# Plotting a bar graph with Matplotlib\n",
    "\n",
    "**What are bar graphs used for?**\n",
    "\n",
    "Bar graphs are used to compare the same variables of different groups. While they can be used to measure change over time (time being the \"different groups\"), it is usually done over large amount of time, but otherwise is generally not advised."
   ]
  },
  {
   "cell_type": "markdown",
   "metadata": {},
   "source": [
    "**Keywords:**\n",
    "\n",
    "**Library:** A cool box of tools that can be used for a specific task\n",
    "\n",
    "**Package:**\n",
    "    \n",
    "Hello, welcome to one of the first graphing exercieses for this class. We will be using the Matplotlib package (that's already installed in your Anaconda/Spyder IDE) to produce a bar graph. **While it may be easier, faster, and prettier to use Excel to make two or three bar graphs for your lab report that's due in a couple of days, it can be time-consuming when this process is repeated hundreds, if not, thousands of time when you are processing large armounts of raw data.** As we know, experiments in science must be repeated, sometimes hundreds of times. It would **not** be wise to hire a intern for the sole purpose of making hundreds of bar graphs or pie charts.\n",
    " \n",
    "Let's start this program by importing the packages we need. **Why do we do this? Why isn't this package already included/running in python?**\n",
    "\n",
    "**Answer:** If all known packages were already imported and integrated into python, it would take AGES for the program to run. Python would not be as \"light/lite\" as it is now. There are many people out there using Python...we are scientists, so we will be dealing with the statistical side of Python...so we must import these statistical/scientific packages.\n",
    "\n",
    "Here's the first line:"
   ]
  },
  {
   "cell_type": "code",
   "execution_count": 1,
   "metadata": {},
   "outputs": [],
   "source": [
    "import pandas as pd"
   ]
  },
  {
   "cell_type": "markdown",
   "metadata": {},
   "source": [
    "What does this mean? With `import pandas`, we are telling python to import a library called `pandas`. Usually, whenever we need to refer to/use the pandas library, we write something like.... `pandas.read_csv` or `pandas.array` or `pandas.do_this`. You see the basic set-up of using something from the pandas library (or any library!) -> `name_of_library.name_of_action` . Another way to think about this is that you are accessing an action within a folder called \"pandas\".\n",
    "    \n",
    "Having said this, notice that the word \"pandas\" has 6 characters. It's not particularlly long compared to other library names, but time adds up, and typing this 6 character library name thousands of times can decrease our effiency in writing code. This is where the second-half of the 1st line of code comes in.\n",
    "\n",
    "**Let's look at this equation:**\n",
    "\n",
    "![equation](images\\equation_example.JPG)\n",
    "\n",
    "The full equation takes around 20 seconds to write out. **Time adds up. It would be much easier to write `X` in replacement of `(K+L)`. This saved A LOT of time.**\n",
    "![equation_simp](images\\Equation_simp.PNG)    \n",
    "    \n",
    "Now, instead of writing:\n",
    "    \n",
    "`(20(K+L)^2 - 3(K+L)^3)/(10(K+L)^2-(K+L)^3)`     \n",
    "\n",
    "we can simply write:\n",
    "\n",
    "`(20X^2 - 3X^3)/(10X^2-X^3)`\n",
    "\n",
    "This story can be applied to the latter half of the 1st line of code. With `as pd`, we are telling python that we want to replace the word `pandas` with `pd` (while we are writing code in Spyder!). Notice we are not replacing or renaming the pandas library to `pd`, just simply telling the computer that we would like to write the simplified `pd` instead of `pandas` every time."
   ]
  },
  {
   "cell_type": "code",
   "execution_count": 2,
   "metadata": {},
   "outputs": [],
   "source": [
    "import matplotlib.pyplot as plt"
   ]
  },
  {
   "cell_type": "markdown",
   "metadata": {},
   "source": [
    "This second line of code is very similar to the first. It imports an important sub-library/function called `pyplot` that is located within the matplotlib library. These functions are needed inorder for us to easily make a graph. `pandas` and `pyplot` work with eachother very well."
   ]
  },
  {
   "cell_type": "markdown",
   "metadata": {},
   "source": [
    "The second line of code can also be written as:\n",
    "\n",
    "`from matplotlib import pyplot as plt`\n",
    "\n",
    "It has the same meaning, but is slightly different...but let's not worry about this right now."
   ]
  },
  {
   "cell_type": "markdown",
   "metadata": {},
   "source": [
    "**Now, just for fun, let do an exercise. I want to use a library called \"numpy\". I don't want to write it out all the time so instead, I want to type something like \"np\". **"
   ]
  },
  {
   "cell_type": "code",
   "execution_count": 3,
   "metadata": {},
   "outputs": [],
   "source": [
    "import numpy as np"
   ]
  },
  {
   "cell_type": "markdown",
   "metadata": {},
   "source": [
    "Let's import a csv file. What does csv mean? CSV stands for comma-seperated variables. It is one of the simplest ways of storing data by seperating values with commas. It's easy to create and edit csv files in excel as seen below.\n",
    "\n",
    "![populations_text](images\\populations_excel.PNG)\n",
    "\n",
    "In Excel, it looks like any other xlsx file, but let's take a look at how this file is stored in its rawest form by opening the CSV file using a simple text editor, notepad:\n",
    "\n",
    "![populations_text](images\\populations_text.PNG)\n",
    "\n",
    "The file in your folder is currently called `populations.xlsx`. Open the file and re-save it as a CSV file. **All exercises will use the CSV filetype.**"
   ]
  },
  {
   "cell_type": "code",
   "execution_count": 4,
   "metadata": {},
   "outputs": [
    {
     "ename": "FileNotFoundError",
     "evalue": "File b'data\\\\populations.csv' does not exist",
     "output_type": "error",
     "traceback": [
      "\u001b[0;31m---------------------------------------------------------------------------\u001b[0m",
      "\u001b[0;31mFileNotFoundError\u001b[0m                         Traceback (most recent call last)",
      "\u001b[0;32m<ipython-input-4-e687f6324fa1>\u001b[0m in \u001b[0;36m<module>\u001b[0;34m()\u001b[0m\n\u001b[0;32m----> 1\u001b[0;31m \u001b[0mcountry_data\u001b[0m \u001b[0;34m=\u001b[0m \u001b[0mpd\u001b[0m\u001b[0;34m.\u001b[0m\u001b[0mread_csv\u001b[0m\u001b[0;34m(\u001b[0m\u001b[0;34m'data\\populations.csv'\u001b[0m\u001b[0;34m)\u001b[0m\u001b[0;34m\u001b[0m\u001b[0m\n\u001b[0m",
      "\u001b[0;32m/anaconda3/lib/python3.6/site-packages/pandas/io/parsers.py\u001b[0m in \u001b[0;36mparser_f\u001b[0;34m(filepath_or_buffer, sep, delimiter, header, names, index_col, usecols, squeeze, prefix, mangle_dupe_cols, dtype, engine, converters, true_values, false_values, skipinitialspace, skiprows, nrows, na_values, keep_default_na, na_filter, verbose, skip_blank_lines, parse_dates, infer_datetime_format, keep_date_col, date_parser, dayfirst, iterator, chunksize, compression, thousands, decimal, lineterminator, quotechar, quoting, escapechar, comment, encoding, dialect, tupleize_cols, error_bad_lines, warn_bad_lines, skipfooter, skip_footer, doublequote, delim_whitespace, as_recarray, compact_ints, use_unsigned, low_memory, buffer_lines, memory_map, float_precision)\u001b[0m\n\u001b[1;32m    707\u001b[0m                     skip_blank_lines=skip_blank_lines)\n\u001b[1;32m    708\u001b[0m \u001b[0;34m\u001b[0m\u001b[0m\n\u001b[0;32m--> 709\u001b[0;31m         \u001b[0;32mreturn\u001b[0m \u001b[0m_read\u001b[0m\u001b[0;34m(\u001b[0m\u001b[0mfilepath_or_buffer\u001b[0m\u001b[0;34m,\u001b[0m \u001b[0mkwds\u001b[0m\u001b[0;34m)\u001b[0m\u001b[0;34m\u001b[0m\u001b[0m\n\u001b[0m\u001b[1;32m    710\u001b[0m \u001b[0;34m\u001b[0m\u001b[0m\n\u001b[1;32m    711\u001b[0m     \u001b[0mparser_f\u001b[0m\u001b[0;34m.\u001b[0m\u001b[0m__name__\u001b[0m \u001b[0;34m=\u001b[0m \u001b[0mname\u001b[0m\u001b[0;34m\u001b[0m\u001b[0m\n",
      "\u001b[0;32m/anaconda3/lib/python3.6/site-packages/pandas/io/parsers.py\u001b[0m in \u001b[0;36m_read\u001b[0;34m(filepath_or_buffer, kwds)\u001b[0m\n\u001b[1;32m    447\u001b[0m \u001b[0;34m\u001b[0m\u001b[0m\n\u001b[1;32m    448\u001b[0m     \u001b[0;31m# Create the parser.\u001b[0m\u001b[0;34m\u001b[0m\u001b[0;34m\u001b[0m\u001b[0m\n\u001b[0;32m--> 449\u001b[0;31m     \u001b[0mparser\u001b[0m \u001b[0;34m=\u001b[0m \u001b[0mTextFileReader\u001b[0m\u001b[0;34m(\u001b[0m\u001b[0mfilepath_or_buffer\u001b[0m\u001b[0;34m,\u001b[0m \u001b[0;34m**\u001b[0m\u001b[0mkwds\u001b[0m\u001b[0;34m)\u001b[0m\u001b[0;34m\u001b[0m\u001b[0m\n\u001b[0m\u001b[1;32m    450\u001b[0m \u001b[0;34m\u001b[0m\u001b[0m\n\u001b[1;32m    451\u001b[0m     \u001b[0;32mif\u001b[0m \u001b[0mchunksize\u001b[0m \u001b[0;32mor\u001b[0m \u001b[0miterator\u001b[0m\u001b[0;34m:\u001b[0m\u001b[0;34m\u001b[0m\u001b[0m\n",
      "\u001b[0;32m/anaconda3/lib/python3.6/site-packages/pandas/io/parsers.py\u001b[0m in \u001b[0;36m__init__\u001b[0;34m(self, f, engine, **kwds)\u001b[0m\n\u001b[1;32m    816\u001b[0m             \u001b[0mself\u001b[0m\u001b[0;34m.\u001b[0m\u001b[0moptions\u001b[0m\u001b[0;34m[\u001b[0m\u001b[0;34m'has_index_names'\u001b[0m\u001b[0;34m]\u001b[0m \u001b[0;34m=\u001b[0m \u001b[0mkwds\u001b[0m\u001b[0;34m[\u001b[0m\u001b[0;34m'has_index_names'\u001b[0m\u001b[0;34m]\u001b[0m\u001b[0;34m\u001b[0m\u001b[0m\n\u001b[1;32m    817\u001b[0m \u001b[0;34m\u001b[0m\u001b[0m\n\u001b[0;32m--> 818\u001b[0;31m         \u001b[0mself\u001b[0m\u001b[0;34m.\u001b[0m\u001b[0m_make_engine\u001b[0m\u001b[0;34m(\u001b[0m\u001b[0mself\u001b[0m\u001b[0;34m.\u001b[0m\u001b[0mengine\u001b[0m\u001b[0;34m)\u001b[0m\u001b[0;34m\u001b[0m\u001b[0m\n\u001b[0m\u001b[1;32m    819\u001b[0m \u001b[0;34m\u001b[0m\u001b[0m\n\u001b[1;32m    820\u001b[0m     \u001b[0;32mdef\u001b[0m \u001b[0mclose\u001b[0m\u001b[0;34m(\u001b[0m\u001b[0mself\u001b[0m\u001b[0;34m)\u001b[0m\u001b[0;34m:\u001b[0m\u001b[0;34m\u001b[0m\u001b[0m\n",
      "\u001b[0;32m/anaconda3/lib/python3.6/site-packages/pandas/io/parsers.py\u001b[0m in \u001b[0;36m_make_engine\u001b[0;34m(self, engine)\u001b[0m\n\u001b[1;32m   1047\u001b[0m     \u001b[0;32mdef\u001b[0m \u001b[0m_make_engine\u001b[0m\u001b[0;34m(\u001b[0m\u001b[0mself\u001b[0m\u001b[0;34m,\u001b[0m \u001b[0mengine\u001b[0m\u001b[0;34m=\u001b[0m\u001b[0;34m'c'\u001b[0m\u001b[0;34m)\u001b[0m\u001b[0;34m:\u001b[0m\u001b[0;34m\u001b[0m\u001b[0m\n\u001b[1;32m   1048\u001b[0m         \u001b[0;32mif\u001b[0m \u001b[0mengine\u001b[0m \u001b[0;34m==\u001b[0m \u001b[0;34m'c'\u001b[0m\u001b[0;34m:\u001b[0m\u001b[0;34m\u001b[0m\u001b[0m\n\u001b[0;32m-> 1049\u001b[0;31m             \u001b[0mself\u001b[0m\u001b[0;34m.\u001b[0m\u001b[0m_engine\u001b[0m \u001b[0;34m=\u001b[0m \u001b[0mCParserWrapper\u001b[0m\u001b[0;34m(\u001b[0m\u001b[0mself\u001b[0m\u001b[0;34m.\u001b[0m\u001b[0mf\u001b[0m\u001b[0;34m,\u001b[0m \u001b[0;34m**\u001b[0m\u001b[0mself\u001b[0m\u001b[0;34m.\u001b[0m\u001b[0moptions\u001b[0m\u001b[0;34m)\u001b[0m\u001b[0;34m\u001b[0m\u001b[0m\n\u001b[0m\u001b[1;32m   1050\u001b[0m         \u001b[0;32melse\u001b[0m\u001b[0;34m:\u001b[0m\u001b[0;34m\u001b[0m\u001b[0m\n\u001b[1;32m   1051\u001b[0m             \u001b[0;32mif\u001b[0m \u001b[0mengine\u001b[0m \u001b[0;34m==\u001b[0m \u001b[0;34m'python'\u001b[0m\u001b[0;34m:\u001b[0m\u001b[0;34m\u001b[0m\u001b[0m\n",
      "\u001b[0;32m/anaconda3/lib/python3.6/site-packages/pandas/io/parsers.py\u001b[0m in \u001b[0;36m__init__\u001b[0;34m(self, src, **kwds)\u001b[0m\n\u001b[1;32m   1693\u001b[0m         \u001b[0mkwds\u001b[0m\u001b[0;34m[\u001b[0m\u001b[0;34m'allow_leading_cols'\u001b[0m\u001b[0;34m]\u001b[0m \u001b[0;34m=\u001b[0m \u001b[0mself\u001b[0m\u001b[0;34m.\u001b[0m\u001b[0mindex_col\u001b[0m \u001b[0;32mis\u001b[0m \u001b[0;32mnot\u001b[0m \u001b[0;32mFalse\u001b[0m\u001b[0;34m\u001b[0m\u001b[0m\n\u001b[1;32m   1694\u001b[0m \u001b[0;34m\u001b[0m\u001b[0m\n\u001b[0;32m-> 1695\u001b[0;31m         \u001b[0mself\u001b[0m\u001b[0;34m.\u001b[0m\u001b[0m_reader\u001b[0m \u001b[0;34m=\u001b[0m \u001b[0mparsers\u001b[0m\u001b[0;34m.\u001b[0m\u001b[0mTextReader\u001b[0m\u001b[0;34m(\u001b[0m\u001b[0msrc\u001b[0m\u001b[0;34m,\u001b[0m \u001b[0;34m**\u001b[0m\u001b[0mkwds\u001b[0m\u001b[0;34m)\u001b[0m\u001b[0;34m\u001b[0m\u001b[0m\n\u001b[0m\u001b[1;32m   1696\u001b[0m \u001b[0;34m\u001b[0m\u001b[0m\n\u001b[1;32m   1697\u001b[0m         \u001b[0;31m# XXX\u001b[0m\u001b[0;34m\u001b[0m\u001b[0;34m\u001b[0m\u001b[0m\n",
      "\u001b[0;32mpandas/_libs/parsers.pyx\u001b[0m in \u001b[0;36mpandas._libs.parsers.TextReader.__cinit__\u001b[0;34m()\u001b[0m\n",
      "\u001b[0;32mpandas/_libs/parsers.pyx\u001b[0m in \u001b[0;36mpandas._libs.parsers.TextReader._setup_parser_source\u001b[0;34m()\u001b[0m\n",
      "\u001b[0;31mFileNotFoundError\u001b[0m: File b'data\\\\populations.csv' does not exist"
     ]
    }
   ],
   "source": [
    "country_data = pd.read_csv('data\\populations.csv')"
   ]
  },
  {
   "cell_type": "markdown",
   "metadata": {},
   "source": [
    "Python is cool in that it's very smart and knows what you want to do. We can simply take a look at the variable we just created and stored information on just by typing it. Let it be known that in \"less smart\" languages, this would not happen. There's a lot going on in the background of Python that allows it to figure out the type of variable, and display it in a readable format, just by typing the name of the variable."
   ]
  },
  {
   "cell_type": "code",
   "execution_count": null,
   "metadata": {},
   "outputs": [],
   "source": [
    "country_data"
   ]
  },
  {
   "cell_type": "markdown",
   "metadata": {},
   "source": [
    "Wow, look at that! Python gave us a nice graph with a bolded title and highlighted grids just from typing the variable name.\n",
    "\n",
    "**Note that the 0-10 numbers on the left hand side is simply the index of each value, and is not apart of the CSV data.**"
   ]
  },
  {
   "cell_type": "markdown",
   "metadata": {},
   "source": [
    "Now, when we put the variable inside a `print()` function,  we also retrieve the data. It looks slightly different and simplified as we're using the Python `print()` function."
   ]
  },
  {
   "cell_type": "code",
   "execution_count": 5,
   "metadata": {},
   "outputs": [
    {
     "ename": "NameError",
     "evalue": "name 'country_data' is not defined",
     "output_type": "error",
     "traceback": [
      "\u001b[0;31m---------------------------------------------------------------------------\u001b[0m",
      "\u001b[0;31mNameError\u001b[0m                                 Traceback (most recent call last)",
      "\u001b[0;32m<ipython-input-5-dc69222a908a>\u001b[0m in \u001b[0;36m<module>\u001b[0;34m()\u001b[0m\n\u001b[0;32m----> 1\u001b[0;31m \u001b[0mprint\u001b[0m\u001b[0;34m(\u001b[0m\u001b[0mcountry_data\u001b[0m\u001b[0;34m)\u001b[0m\u001b[0;34m\u001b[0m\u001b[0m\n\u001b[0m",
      "\u001b[0;31mNameError\u001b[0m: name 'country_data' is not defined"
     ]
    }
   ],
   "source": [
    "print(country_data)"
   ]
  },
  {
   "cell_type": "markdown",
   "metadata": {},
   "source": [
    "We can \"chop\" parts of the CSV file with `[ ROWS , COLUMNS ]`. \n",
    "\n",
    "If we give the parameters of `:`, we tell Python that we want everything. We can put numbers infront, behind, or both infront and behind `:` to indicate which indexes we want.\n",
    "\n",
    "`[3: , 0]` means FROM index 3 UNTIL (-1) end, column 0\n",
    "\n",
    "`[ :4, 1]` means FROM index (0) beginning UNTIL 4, column 1\n",
    "\n",
    "`[5:9, 2]` means FROM index 5 UNTIL 9, column 2\n",
    "\n",
    "**Try playing around with this syntax in the next line**"
   ]
  },
  {
   "cell_type": "code",
   "execution_count": null,
   "metadata": {},
   "outputs": [],
   "source": [
    "countries_try = country_data.iloc[6:10,0]\n",
    "\n",
    "countries_try"
   ]
  },
  {
   "cell_type": "markdown",
   "metadata": {},
   "source": [
    "**Let's create a variable called `countries` and store the country names into it.**"
   ]
  },
  {
   "cell_type": "code",
   "execution_count": null,
   "metadata": {},
   "outputs": [],
   "source": [
    "countries = country_data.iloc[:,0]\n",
    "\n",
    "countries"
   ]
  },
  {
   "cell_type": "markdown",
   "metadata": {},
   "source": [
    "**Next, let's create a variable called `populations` and store the populations into it.**"
   ]
  },
  {
   "cell_type": "code",
   "execution_count": null,
   "metadata": {},
   "outputs": [],
   "source": [
    "populations = country_data.iloc[:,1]\n",
    "\n",
    "populations"
   ]
  },
  {
   "cell_type": "markdown",
   "metadata": {},
   "source": [
    "Here, we finally make a bar graph by using the `plt.bar` function, and giving the arguments `countries` and `populations`."
   ]
  },
  {
   "cell_type": "code",
   "execution_count": null,
   "metadata": {},
   "outputs": [],
   "source": [
    "graphData = plt.bar(countries, populations)\n",
    "\n",
    "plt.show()"
   ]
  },
  {
   "cell_type": "markdown",
   "metadata": {},
   "source": [
    "Wow!!! That's....not great... The names of the countries overlap eachother and it's quite hard to read the names of the countries under its respective bar. Let's turn the text 90 degrees with\n",
    "\n",
    "`plt.xticks(rotation='vertical')`\n",
    "\n",
    "Here, we introduce something called ** \\*\\*kwargs **\n",
    "\n",
    "\\*\\*kwarg stands for keyword arguments. These optional arguments can be added to many functions. In this case, we can use \\*\\*kwarg to change the color, fonts, font size, and add designs..\n",
    "\n",
    "Now, this becomes the \"active plot\" <- find better way to say this\n",
    "so subsequent calls to matplotlib.pyplot will modify that plot"
   ]
  },
  {
   "cell_type": "code",
   "execution_count": null,
   "metadata": {},
   "outputs": [],
   "source": [
    "plt.xticks(rotation = 45 )\n",
    "\n",
    "graphData = plt.bar(countries, populations,\n",
    "                    \n",
    "                    width = 0.86, #change the width of the bar. Default width is 0.8\n",
    "                    edgecolor = 'green', #change the color of the edge of the bars\n",
    "                    facecolor = 'pink', #change the color the bars\n",
    "                    hatch = '*', #add shapes inside the bars. Other options include: {'/', '\\', '|', '-', '+', 'x', 'o', 'O', '.', '*'}\n",
    "                    linestyle = '--', #change the border of the bars. Other options include:{'-', '--', '-.', ':', '', (offset, on-off-seq), ...}\n",
    "                    linewidth = 3 )\n",
    "\n",
    "plt.show()"
   ]
  },
  {
   "cell_type": "markdown",
   "metadata": {},
   "source": [
    "Introduce different code examples of things that can be done, then leave an open code window to try it. "
   ]
  },
  {
   "cell_type": "code",
   "execution_count": null,
   "metadata": {},
   "outputs": [],
   "source": [
    "#open code window\n",
    "#use this window to explore the different parameters that can be manipulated\n",
    "#rerun this window to view the modified plot\n"
   ]
  },
  {
   "cell_type": "markdown",
   "metadata": {},
   "source": [
    "csv -> dataframt -> bar graph?\n",
    "\n",
    "image: https://stackoverflow.com/questions/32370281/how-to-embed-image-or-picture-in-jupyter-notebook-either-from-a-local-machine-o\n",
    "\n",
    "\n",
    "\n"
   ]
  }
 ],
 "metadata": {
  "kernelspec": {
   "display_name": "Python 3",
   "language": "python",
   "name": "python3"
  },
  "language_info": {
   "codemirror_mode": {
    "name": "ipython",
    "version": 3
   },
   "file_extension": ".py",
   "mimetype": "text/x-python",
   "name": "python",
   "nbconvert_exporter": "python",
   "pygments_lexer": "ipython3",
   "version": "3.6.4"
  }
 },
 "nbformat": 4,
 "nbformat_minor": 2
}
