{
 "cells": [
  {
   "cell_type": "markdown",
   "metadata": {},
   "source": [
    "<div align =\"right\">Thomas Jefferson University **COMP 102**: Intro to Scientific Computing</div>"
   ]
  },
  {
   "cell_type": "markdown",
   "metadata": {},
   "source": [
    "# Plotting a line graph with Matplotlib\n",
    "\n",
    "**What are line-plots used for?**\n",
    "\n",
    "Line graphs are used to track numberical changes over a period of time for one or more groups. If there are multiple groups, each can be differentiated by the use of different color lines or different shape of time-points.\n",
    "\n",
    "Here's a quick tutorial to get you started working with matplotlib's line-ploting functions."
   ]
  },
  {
   "cell_type": "markdown",
   "metadata": {},
   "source": [
    "\n",
    "\n",
    "As always, let's import pandas and matplotlib.pyplot \n",
    "```\n",
    "import pandas as pd\n",
    "from matplotlib import pyplot as plt \n",
    "```"
   ]
  },
  {
   "cell_type": "code",
   "execution_count": 1,
   "metadata": {},
   "outputs": [],
   "source": [
    "import pandas as pd\n",
    "\n",
    "import matplotlib.pyplot as plt\n",
    "\n",
    "from numpy import *"
   ]
  },
  {
   "cell_type": "markdown",
   "metadata": {},
   "source": [
    "Once again, save the `Heartrate_Data.xlsx` file as a `.csv`. **Make sure the name of the file matches the one written below in code.**"
   ]
  },
  {
   "cell_type": "code",
   "execution_count": 2,
   "metadata": {},
   "outputs": [],
   "source": [
    "sample_data = pd.read_csv('data/Heartrate_Data.csv')"
   ]
  },
  {
   "cell_type": "markdown",
   "metadata": {},
   "source": [
    "Again, we can take a quick look at the data that we just imported by typing in out in python. Let's just check to make sure that the csv file has been imported."
   ]
  },
  {
   "cell_type": "code",
   "execution_count": 3,
   "metadata": {},
   "outputs": [
    {
     "data": {
      "text/html": [
       "<div>\n",
       "<style scoped>\n",
       "    .dataframe tbody tr th:only-of-type {\n",
       "        vertical-align: middle;\n",
       "    }\n",
       "\n",
       "    .dataframe tbody tr th {\n",
       "        vertical-align: top;\n",
       "    }\n",
       "\n",
       "    .dataframe thead th {\n",
       "        text-align: right;\n",
       "    }\n",
       "</style>\n",
       "<table border=\"1\" class=\"dataframe\">\n",
       "  <thead>\n",
       "    <tr style=\"text-align: right;\">\n",
       "      <th></th>\n",
       "      <th>Minutes</th>\n",
       "      <th>Heartrate</th>\n",
       "    </tr>\n",
       "  </thead>\n",
       "  <tbody>\n",
       "    <tr>\n",
       "      <th>0</th>\n",
       "      <td>0</td>\n",
       "      <td>58</td>\n",
       "    </tr>\n",
       "    <tr>\n",
       "      <th>1</th>\n",
       "      <td>1</td>\n",
       "      <td>56</td>\n",
       "    </tr>\n",
       "    <tr>\n",
       "      <th>2</th>\n",
       "      <td>2</td>\n",
       "      <td>54</td>\n",
       "    </tr>\n",
       "    <tr>\n",
       "      <th>3</th>\n",
       "      <td>3</td>\n",
       "      <td>54</td>\n",
       "    </tr>\n",
       "    <tr>\n",
       "      <th>4</th>\n",
       "      <td>4</td>\n",
       "      <td>53</td>\n",
       "    </tr>\n",
       "    <tr>\n",
       "      <th>5</th>\n",
       "      <td>5</td>\n",
       "      <td>57</td>\n",
       "    </tr>\n",
       "    <tr>\n",
       "      <th>6</th>\n",
       "      <td>6</td>\n",
       "      <td>62</td>\n",
       "    </tr>\n",
       "    <tr>\n",
       "      <th>7</th>\n",
       "      <td>7</td>\n",
       "      <td>57</td>\n",
       "    </tr>\n",
       "    <tr>\n",
       "      <th>8</th>\n",
       "      <td>8</td>\n",
       "      <td>56</td>\n",
       "    </tr>\n",
       "    <tr>\n",
       "      <th>9</th>\n",
       "      <td>9</td>\n",
       "      <td>55</td>\n",
       "    </tr>\n",
       "    <tr>\n",
       "      <th>10</th>\n",
       "      <td>10</td>\n",
       "      <td>55</td>\n",
       "    </tr>\n",
       "    <tr>\n",
       "      <th>11</th>\n",
       "      <td>11</td>\n",
       "      <td>55</td>\n",
       "    </tr>\n",
       "    <tr>\n",
       "      <th>12</th>\n",
       "      <td>12</td>\n",
       "      <td>59</td>\n",
       "    </tr>\n",
       "    <tr>\n",
       "      <th>13</th>\n",
       "      <td>13</td>\n",
       "      <td>59</td>\n",
       "    </tr>\n",
       "    <tr>\n",
       "      <th>14</th>\n",
       "      <td>14</td>\n",
       "      <td>58</td>\n",
       "    </tr>\n",
       "    <tr>\n",
       "      <th>15</th>\n",
       "      <td>15</td>\n",
       "      <td>59</td>\n",
       "    </tr>\n",
       "    <tr>\n",
       "      <th>16</th>\n",
       "      <td>16</td>\n",
       "      <td>60</td>\n",
       "    </tr>\n",
       "    <tr>\n",
       "      <th>17</th>\n",
       "      <td>17</td>\n",
       "      <td>59</td>\n",
       "    </tr>\n",
       "    <tr>\n",
       "      <th>18</th>\n",
       "      <td>18</td>\n",
       "      <td>63</td>\n",
       "    </tr>\n",
       "    <tr>\n",
       "      <th>19</th>\n",
       "      <td>19</td>\n",
       "      <td>63</td>\n",
       "    </tr>\n",
       "    <tr>\n",
       "      <th>20</th>\n",
       "      <td>20</td>\n",
       "      <td>58</td>\n",
       "    </tr>\n",
       "    <tr>\n",
       "      <th>21</th>\n",
       "      <td>21</td>\n",
       "      <td>56</td>\n",
       "    </tr>\n",
       "    <tr>\n",
       "      <th>22</th>\n",
       "      <td>22</td>\n",
       "      <td>58</td>\n",
       "    </tr>\n",
       "    <tr>\n",
       "      <th>23</th>\n",
       "      <td>23</td>\n",
       "      <td>58</td>\n",
       "    </tr>\n",
       "    <tr>\n",
       "      <th>24</th>\n",
       "      <td>24</td>\n",
       "      <td>58</td>\n",
       "    </tr>\n",
       "    <tr>\n",
       "      <th>25</th>\n",
       "      <td>25</td>\n",
       "      <td>56</td>\n",
       "    </tr>\n",
       "    <tr>\n",
       "      <th>26</th>\n",
       "      <td>26</td>\n",
       "      <td>57</td>\n",
       "    </tr>\n",
       "    <tr>\n",
       "      <th>27</th>\n",
       "      <td>27</td>\n",
       "      <td>55</td>\n",
       "    </tr>\n",
       "    <tr>\n",
       "      <th>28</th>\n",
       "      <td>28</td>\n",
       "      <td>57</td>\n",
       "    </tr>\n",
       "    <tr>\n",
       "      <th>29</th>\n",
       "      <td>29</td>\n",
       "      <td>56</td>\n",
       "    </tr>\n",
       "    <tr>\n",
       "      <th>...</th>\n",
       "      <td>...</td>\n",
       "      <td>...</td>\n",
       "    </tr>\n",
       "    <tr>\n",
       "      <th>1410</th>\n",
       "      <td>1410</td>\n",
       "      <td>63</td>\n",
       "    </tr>\n",
       "    <tr>\n",
       "      <th>1411</th>\n",
       "      <td>1411</td>\n",
       "      <td>56</td>\n",
       "    </tr>\n",
       "    <tr>\n",
       "      <th>1412</th>\n",
       "      <td>1412</td>\n",
       "      <td>56</td>\n",
       "    </tr>\n",
       "    <tr>\n",
       "      <th>1413</th>\n",
       "      <td>1413</td>\n",
       "      <td>52</td>\n",
       "    </tr>\n",
       "    <tr>\n",
       "      <th>1414</th>\n",
       "      <td>1414</td>\n",
       "      <td>51</td>\n",
       "    </tr>\n",
       "    <tr>\n",
       "      <th>1415</th>\n",
       "      <td>1415</td>\n",
       "      <td>53</td>\n",
       "    </tr>\n",
       "    <tr>\n",
       "      <th>1416</th>\n",
       "      <td>1416</td>\n",
       "      <td>55</td>\n",
       "    </tr>\n",
       "    <tr>\n",
       "      <th>1417</th>\n",
       "      <td>1417</td>\n",
       "      <td>52</td>\n",
       "    </tr>\n",
       "    <tr>\n",
       "      <th>1418</th>\n",
       "      <td>1418</td>\n",
       "      <td>54</td>\n",
       "    </tr>\n",
       "    <tr>\n",
       "      <th>1419</th>\n",
       "      <td>1419</td>\n",
       "      <td>54</td>\n",
       "    </tr>\n",
       "    <tr>\n",
       "      <th>1420</th>\n",
       "      <td>1420</td>\n",
       "      <td>55</td>\n",
       "    </tr>\n",
       "    <tr>\n",
       "      <th>1421</th>\n",
       "      <td>1421</td>\n",
       "      <td>56</td>\n",
       "    </tr>\n",
       "    <tr>\n",
       "      <th>1422</th>\n",
       "      <td>1422</td>\n",
       "      <td>54</td>\n",
       "    </tr>\n",
       "    <tr>\n",
       "      <th>1423</th>\n",
       "      <td>1423</td>\n",
       "      <td>55</td>\n",
       "    </tr>\n",
       "    <tr>\n",
       "      <th>1424</th>\n",
       "      <td>1424</td>\n",
       "      <td>57</td>\n",
       "    </tr>\n",
       "    <tr>\n",
       "      <th>1425</th>\n",
       "      <td>1425</td>\n",
       "      <td>53</td>\n",
       "    </tr>\n",
       "    <tr>\n",
       "      <th>1426</th>\n",
       "      <td>1426</td>\n",
       "      <td>51</td>\n",
       "    </tr>\n",
       "    <tr>\n",
       "      <th>1427</th>\n",
       "      <td>1427</td>\n",
       "      <td>50</td>\n",
       "    </tr>\n",
       "    <tr>\n",
       "      <th>1428</th>\n",
       "      <td>1428</td>\n",
       "      <td>50</td>\n",
       "    </tr>\n",
       "    <tr>\n",
       "      <th>1429</th>\n",
       "      <td>1429</td>\n",
       "      <td>48</td>\n",
       "    </tr>\n",
       "    <tr>\n",
       "      <th>1430</th>\n",
       "      <td>1430</td>\n",
       "      <td>47</td>\n",
       "    </tr>\n",
       "    <tr>\n",
       "      <th>1431</th>\n",
       "      <td>1431</td>\n",
       "      <td>48</td>\n",
       "    </tr>\n",
       "    <tr>\n",
       "      <th>1432</th>\n",
       "      <td>1432</td>\n",
       "      <td>48</td>\n",
       "    </tr>\n",
       "    <tr>\n",
       "      <th>1433</th>\n",
       "      <td>1433</td>\n",
       "      <td>48</td>\n",
       "    </tr>\n",
       "    <tr>\n",
       "      <th>1434</th>\n",
       "      <td>1434</td>\n",
       "      <td>48</td>\n",
       "    </tr>\n",
       "    <tr>\n",
       "      <th>1435</th>\n",
       "      <td>1435</td>\n",
       "      <td>48</td>\n",
       "    </tr>\n",
       "    <tr>\n",
       "      <th>1436</th>\n",
       "      <td>1436</td>\n",
       "      <td>49</td>\n",
       "    </tr>\n",
       "    <tr>\n",
       "      <th>1437</th>\n",
       "      <td>1437</td>\n",
       "      <td>50</td>\n",
       "    </tr>\n",
       "    <tr>\n",
       "      <th>1438</th>\n",
       "      <td>1438</td>\n",
       "      <td>53</td>\n",
       "    </tr>\n",
       "    <tr>\n",
       "      <th>1439</th>\n",
       "      <td>1439</td>\n",
       "      <td>57</td>\n",
       "    </tr>\n",
       "  </tbody>\n",
       "</table>\n",
       "<p>1440 rows × 2 columns</p>\n",
       "</div>"
      ],
      "text/plain": [
       "      Minutes  Heartrate\n",
       "0           0         58\n",
       "1           1         56\n",
       "2           2         54\n",
       "3           3         54\n",
       "4           4         53\n",
       "5           5         57\n",
       "6           6         62\n",
       "7           7         57\n",
       "8           8         56\n",
       "9           9         55\n",
       "10         10         55\n",
       "11         11         55\n",
       "12         12         59\n",
       "13         13         59\n",
       "14         14         58\n",
       "15         15         59\n",
       "16         16         60\n",
       "17         17         59\n",
       "18         18         63\n",
       "19         19         63\n",
       "20         20         58\n",
       "21         21         56\n",
       "22         22         58\n",
       "23         23         58\n",
       "24         24         58\n",
       "25         25         56\n",
       "26         26         57\n",
       "27         27         55\n",
       "28         28         57\n",
       "29         29         56\n",
       "...       ...        ...\n",
       "1410     1410         63\n",
       "1411     1411         56\n",
       "1412     1412         56\n",
       "1413     1413         52\n",
       "1414     1414         51\n",
       "1415     1415         53\n",
       "1416     1416         55\n",
       "1417     1417         52\n",
       "1418     1418         54\n",
       "1419     1419         54\n",
       "1420     1420         55\n",
       "1421     1421         56\n",
       "1422     1422         54\n",
       "1423     1423         55\n",
       "1424     1424         57\n",
       "1425     1425         53\n",
       "1426     1426         51\n",
       "1427     1427         50\n",
       "1428     1428         50\n",
       "1429     1429         48\n",
       "1430     1430         47\n",
       "1431     1431         48\n",
       "1432     1432         48\n",
       "1433     1433         48\n",
       "1434     1434         48\n",
       "1435     1435         48\n",
       "1436     1436         49\n",
       "1437     1437         50\n",
       "1438     1438         53\n",
       "1439     1439         57\n",
       "\n",
       "[1440 rows x 2 columns]"
      ]
     },
     "execution_count": 3,
     "metadata": {},
     "output_type": "execute_result"
    }
   ],
   "source": [
    "sample_data"
   ]
  },
  {
   "cell_type": "markdown",
   "metadata": {},
   "source": [
    "We can retrieve the type of data by using the `type()` function. Let's make sure that the data is stored as a DataFrame"
   ]
  },
  {
   "cell_type": "code",
   "execution_count": 4,
   "metadata": {},
   "outputs": [
    {
     "data": {
      "text/plain": [
       "pandas.core.frame.DataFrame"
      ]
     },
     "execution_count": 4,
     "metadata": {},
     "output_type": "execute_result"
    }
   ],
   "source": [
    "type(sample_data)"
   ]
  },
  {
   "cell_type": "code",
   "execution_count": 5,
   "metadata": {},
   "outputs": [],
   "source": [
    "# %matplotlib inline # Not sure if this is needed anymore...."
   ]
  },
  {
   "cell_type": "markdown",
   "metadata": {},
   "source": [
    "Let's plot the basic graph using the `plt.plot` function and using `(seconds, Heartrate)` as the `(x, y)` axis\n",
    "\n",
    "Let's store the plot -> `Heartbeat_Plot`\n",
    "\n",
    "We use `plt.show()` to show us the plot...basically a `print()` function... but for graphs!"
   ]
  },
  {
   "cell_type": "code",
   "execution_count": 6,
   "metadata": {},
   "outputs": [
    {
     "data": {
      "image/png": "[encoded data removed]",
      "text/plain": [
       "<Figure size 432x288 with 1 Axes>"
      ]
     },
     "metadata": {
      "needs_background": "light"
     },
     "output_type": "display_data"
    }
   ],
   "source": [
    "Heartbeat_Plot = plt.plot(sample_data.Minutes, sample_data.Heartrate)\n",
    "plt.show()"
   ]
  },
  {
   "cell_type": "markdown",
   "metadata": {},
   "source": [
    "Great!\n",
    "\n",
    "Now let's label these graphs axis as all graphs should be. Remember to label the axes with the measurement and the units in parentheses.\n",
    "\n",
    "We can also manipulate the `fontsize` and `color` of the text (and the graph itself) with \\*\\*kwarg's. Color, alone, can be changed using many different formats: `Greyscale, Names, Hex color, RGB, single-letter colors`\n",
    "\n"
   ]
  },
  {
   "cell_type": "code",
   "execution_count": 7,
   "metadata": {},
   "outputs": [
    {
     "data": {
      "text/plain": [
       "[<matplotlib.lines.Line2D at 0x1205a7908>]"
      ]
     },
     "execution_count": 7,
     "metadata": {},
     "output_type": "execute_result"
    },
    {
     "data": {
      "image/png": "[encoded data removed]",
      "text/plain": [
       "<Figure size 432x288 with 1 Axes>"
      ]
     },
     "metadata": {
      "needs_background": "light"
     },
     "output_type": "display_data"
    }
   ],
   "source": [
    "plt.xlabel('Time (Minutes)', fontsize = 20.0, color = '0.68') #Greyscale\n",
    "plt.ylabel('Heartrate (beats/min)', fontsize = 20.1, color = 'red') #Name\n",
    "plt.title('Heartrate from 06/14/2018', fontsize = 20.2, color = '#5c42f4') #Hexcolor\n",
    "plt.text(175, 100, 'PiNk TeXt', fontsize = 20.3, color = (0.9,0.5,0.9)) #RGB\n",
    "\n",
    "plt.plot(sample_data.Minutes, sample_data.Heartrate, color = 'c') #Built-in single-letter colors, c = cyan\n",
    "#plt.show()"
   ]
  },
  {
   "cell_type": "markdown",
   "metadata": {},
   "source": [
    "Keep in mind that there is no specific order of the 'traits' (\\*\\*kwargs) of the text or graph that must be followed. However, some traits must be in a particular order, such as the text itself (`'Time (Minutes)'` must come before `fontsize` or `color` or other traits)\n",
    "\n",
    "The coordinates given for `plt.text` is the BOTTOM LEFT corner of the textbox that will be created\n",
    "\n",
    "There are many things that can be done to this line-plot, but we're just going to go over some simple commands. The full documentation for using line-plots can be found here: \n",
    "\n",
    "https://matplotlib.org/users/pyplot_tutorial.html\n",
    "\n",
    "Let's just take a look at seconds 0-500 by using the `plt.axis` function. we add the `[0:500]` to sample_data to limit what matplotlib uses to make the new graph.\n",
    "\n",
    "`plt.axis` can be used to \"zoom\" in or out. The parameters for this function are as follows:\n",
    "\n",
    "`plt.axis([left x axis bound, right x axis bound, bottom y axis bound, top y axis bound])`\n",
    "\n",
    "We'll leave some extra space (20) on the left and right of the graph so it doesn't look too clustered"
   ]
  },
  {
   "cell_type": "code",
   "execution_count": 8,
   "metadata": {},
   "outputs": [
    {
     "data": {
      "text/plain": [
       "[<matplotlib.lines.Line2D at 0x120733b00>]"
      ]
     },
     "execution_count": 8,
     "metadata": {},
     "output_type": "execute_result"
    },
    {
     "data": {
      "image/png": "[encoded data removed]",
      "text/plain": [
       "<Figure size 432x288 with 1 Axes>"
      ]
     },
     "metadata": {
      "needs_background": "light"
     },
     "output_type": "display_data"
    }
   ],
   "source": [
    "plt.axis([0-20, 500+20, 40, 70])\n",
    "\n",
    "plt.xlabel('Time (Minutes)')\n",
    "plt.ylabel('Heartrate (beats/min)')\n",
    "plt.title('Heartrate from 06/14/2018')\n",
    "plt.plot(sample_data.Minutes[0:500], sample_data.Heartrate[0:500])\n",
    "#plt.show()"
   ]
  },
  {
   "cell_type": "markdown",
   "metadata": {},
   "source": [
    "Let's write a function that allows us to find the local max and min from seconds 0-500"
   ]
  },
  {
   "cell_type": "code",
   "execution_count": 9,
   "metadata": {},
   "outputs": [
    {
     "name": "stdout",
     "output_type": "stream",
     "text": [
      "64 , 411\n",
      "42 , 283\n"
     ]
    }
   ],
   "source": [
    "local_max = 0\n",
    "\n",
    "for i in range (0,500):\n",
    "    if sample_data.Heartrate[i] > local_max:\n",
    "        local_max = sample_data.Heartrate[i]\n",
    "        local_max_index = i\n",
    "print (local_max, \",\", local_max_index)\n",
    "\n",
    "\n",
    "local_min= 10000\n",
    "\n",
    "for i in range (0,500):\n",
    "    if sample_data.Heartrate[i] < local_min:\n",
    "        local_min = sample_data.Heartrate[i]\n",
    "        local_min_index = i\n",
    "            #return local_min_index\n",
    "        \n",
    "print (local_min, \",\", local_min_index)\n"
   ]
  },
  {
   "cell_type": "markdown",
   "metadata": {},
   "source": [
    "Hmm, it looks like there are multiple local mins...let's write another function to find all of them"
   ]
  },
  {
   "cell_type": "code",
   "execution_count": 10,
   "metadata": {},
   "outputs": [
    {
     "name": "stdout",
     "output_type": "stream",
     "text": [
      "[283, 284, 285, 297, 299, 300, 355, 359]\n"
     ]
    }
   ],
   "source": [
    "local_min_indexs = []\n",
    "\n",
    "for i in range (0,500):\n",
    "    if sample_data.Heartrate[i] == local_min:\n",
    "        local_min_indexs.append(i)\n",
    "        \n",
    "print(local_min_indexs)"
   ]
  },
  {
   "cell_type": "markdown",
   "metadata": {},
   "source": [
    "We can add text to this graph by using the `plt.text()` function."
   ]
  },
  {
   "cell_type": "code",
   "execution_count": 11,
   "metadata": {},
   "outputs": [
    {
     "data": {
      "image/png": "[encoded data removed]",
      "text/plain": [
       "<Figure size 432x288 with 1 Axes>"
      ]
     },
     "metadata": {
      "needs_background": "light"
     },
     "output_type": "display_data"
    }
   ],
   "source": [
    "plt.text(326 , 65, 'local max (64 @ 411s)', fontsize = 10)\n",
    "# (326,65) has no significant meaning, only using to center and raise the text on MAX. Real MAX @ (411, 64)\n",
    "\n",
    "plt.text(103, 40.61, 'local mins (42 @ 283:285, 297, 299, 300, 355, 359)', fontsize = 10)\n",
    "# (103, 40.61) has no significant meaning, only using to center and lower the text on MIN. Real MAX @ (multi, 64)\n",
    "\n",
    "\n",
    "plt.axis([-20, 520, 40, 70])\n",
    "plt.xlabel('Time (Minutes)', fontsize = 20)\n",
    "plt.ylabel('Heartrate (beats/min)', fontsize = 20)\n",
    "plt.title('Heartrate from 06/14/2018', fontsize = 27)\n",
    "plt.plot(sample_data.Minutes[0:500], sample_data.Heartrate[0:500])\n",
    "plt.show()"
   ]
  },
  {
   "cell_type": "markdown",
   "metadata": {},
   "source": [
    "That looks great! You can save this graph by dragging it onto your desktop or right-clicking and selecting \"save as\""
   ]
  },
  {
   "cell_type": "markdown",
   "metadata": {},
   "source": [
    "Note: USIUNG PLOT.SHOW() GIVES CLEAN OUTPUT. NO TEXT, JUST A GRAPH."
   ]
  },
  {
   "cell_type": "markdown",
   "metadata": {},
   "source": [
    "notes:\n",
    "\n",
    "\n",
    "\n",
    "\n",
    "sample_data.Heartrate[6]\n",
    "\n",
    "len(sample_data.Seconds)\n",
    "\n",
    "local_max = 0\n",
    "\n",
    "for i in range (0,500):\n",
    "    if sample_data.Heartrate[i] > local_max:\n",
    "        local_max = sample_data.Heartrate[i]\n",
    "print (i)"
   ]
  }
 ],
 "metadata": {
  "kernelspec": {
   "display_name": "Python 3",
   "language": "python",
   "name": "python3"
  },
  "language_info": {
   "codemirror_mode": {
    "name": "ipython",
    "version": 3
   },
   "file_extension": ".py",
   "mimetype": "text/x-python",
   "name": "python",
   "nbconvert_exporter": "python",
   "pygments_lexer": "ipython3",
   "version": "3.7.3"
  }
 },
 "nbformat": 4,
 "nbformat_minor": 2
}
