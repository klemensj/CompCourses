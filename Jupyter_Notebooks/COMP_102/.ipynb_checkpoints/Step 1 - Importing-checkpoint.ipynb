{
 "cells": [
  {
   "cell_type": "markdown",
   "metadata": {},
   "source": [
    "Importing data into Python is the very first step of data processing. Without telling Python where to find our raw data, or directly feeding Python our data, the program is **basically useless**.\n",
    "\n",
    "# What's the point of using Python if our goal isn't to automate processes that are time-consuming and repetative?"
   ]
  },
  {
   "cell_type": "code",
   "execution_count": null,
   "metadata": {},
   "outputs": [],
   "source": [
    "dasdfasdf"
   ]
  },
  {
   "cell_type": "markdown",
   "metadata": {},
   "source": [
    "The type of file we will be working with is called `.csv`. CSV stands for Comma-separated values, and it means exactly what you think it means.\n",
    "\n",
    "We have a simple grid of variable dementions. On the screen, this data is expressed through grids for easy viewing. The data is stored using a long chain of the values and commas seperating the values.\n",
    "\n",
    "Values, whether that be numbers such as the percentage rereceived on a given test, or letters, such as the name of a student, is stored in the computer as a simple text file, with commas seperating each grid (as seen in excel files).\n",
    "\n",
    "Note that `.csv` files cannot have multiple sheets as seen with `.xlsx` Excel files."
   ]
  },
  {
   "cell_type": "code",
   "execution_count": null,
   "metadata": {},
   "outputs": [],
   "source": []
  }
 ],
 "metadata": {
  "kernelspec": {
   "display_name": "Python 3",
   "language": "python",
   "name": "python3"
  },
  "language_info": {
   "codemirror_mode": {
    "name": "ipython",
    "version": 3
   },
   "file_extension": ".py",
   "mimetype": "text/x-python",
   "name": "python",
   "nbconvert_exporter": "python",
   "pygments_lexer": "ipython3",
   "version": "3.6.4"
  }
 },
 "nbformat": 4,
 "nbformat_minor": 2
}
