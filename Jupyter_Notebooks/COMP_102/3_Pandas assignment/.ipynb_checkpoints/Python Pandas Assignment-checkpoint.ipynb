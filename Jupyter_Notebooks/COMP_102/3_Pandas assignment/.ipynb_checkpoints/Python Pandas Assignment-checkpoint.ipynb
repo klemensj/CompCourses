{
 "cells": [
  {
   "cell_type": "markdown",
   "metadata": {},
   "source": [
    "<div align =\"right\">Thomas Jefferson University <b>COMP 102</b>: Intro to Scientific Computing</div>"
   ]
  },
  {
   "cell_type": "markdown",
   "metadata": {},
   "source": [
    "# Practice with Pandas #"
   ]
  },
  {
   "cell_type": "markdown",
   "metadata": {},
   "source": [
    "### 1. Building a Pandas DataFrame Manually###\n",
    "\n",
    "Let's start out by building a dataframe in pandas. We will attempt to build the dataframe that we imported in the previous exercises. It should be a gradebook that contains the following data:\n",
    "\n",
    "![The raw data, for checking your work](images/gradebook_plain.png \"the raw data\")"
   ]
  },
  {
   "cell_type": "markdown",
   "metadata": {},
   "source": [
    "Remember from the tutorial that we can use dictionaries to create a pandas dataframe. Below I have given you the data from the column in the comment section. Define a dictionary to hold the data and then using the `pd.DataFrame()` command, create a DataFrame called `short_gradebook`."
   ]
  },
  {
   "cell_type": "code",
   "execution_count": null,
   "metadata": {},
   "outputs": [],
   "source": [
    "import pandas as pd   #don't change this line\n",
    "\n",
    "pd.options.mode.chained_assignment = None  #ignore this but don't change, it turns off a warning message in pandas\n",
    "\n",
    "# column labels: Student,Exam1,Exam2,Exam3,Homework\n",
    "# Student names: DeShawn, Marie, Bob, Eloise, Kayla\n",
    "# Exam 1 scores: 89,92,75,82,85\n",
    "# Exam 2 scores: 92,91,77,86,91\n",
    "# Exam 3 scores: 93,94,72,88,83\n",
    "# Homework scores: 95,95,97,85,100\n",
    "\n",
    "####\n",
    "####Your Code Here\n",
    "####\n",
    "\n",
    "short_gradebook   # don't change, to display the data frame you have created as output\n"
   ]
  },
  {
   "cell_type": "markdown",
   "metadata": {},
   "source": [
    "Do you remember \"string methods\" from COMP 101? Run the code below for a reminder. The statement after the \".\" is a method that can be applied to the data structure called a string. "
   ]
  },
  {
   "cell_type": "code",
   "execution_count": null,
   "metadata": {},
   "outputs": [],
   "source": [
    "test_string = \"actgaugcctaggaga\"\n",
    "test_string.upper()"
   ]
  },
  {
   "cell_type": "markdown",
   "metadata": {},
   "source": [
    "Methods are built in functions that are available for a particular data structure. Just as there are string methods, there are database methods. One such method is `set_index()`, which will designate a column of the dataset to be used as an index for the data. This way we don't have to remember that Eliose is in row three, we can call her test scores by name. But first, see if you can figure out how to use the `set_index()` method on the DataFrame `short_gradebook` to create a new DataFrame called `short_gradebook_indexed` that is indexed by the column 'Student'. \n",
    "\n",
    "Hint: <a href=\"https://pandas.pydata.org/pandas-docs/version/0.22/generated/pandas.DataFrame.set_index.html\"> Examples of `set_index()` usage.</a>\n"
   ]
  },
  {
   "cell_type": "code",
   "execution_count": null,
   "metadata": {},
   "outputs": [],
   "source": [
    "short_gradebook_indexed =  #### complete the code here\n",
    "\n",
    "short_gradebook_indexed # do not delete, to display the data frame you have created as output"
   ]
  },
  {
   "cell_type": "markdown",
   "metadata": {},
   "source": [
    "## 2. Retrieving data from a DataFrame ##\n",
    "\n",
    "So now that we have created our DataFrames `short_gradebook` and `short_gradebook_indexed` let's look at how we can pull information from them. In your tutorial we introduced the `DataFrame.loc[]` method. Basically, this pulls the data from the location specified by the square brackets. If the data in this DataFrame were held like it is held in a numpy array, and we wanted to access one of DeShawn's test scores, we could just use the two dimensional index value. Go ahead and click run on the data below now. \n",
    "\n",
    "Didn't work, did it? Look back at your tutorial. The entire point of a DataFrame is to store data in a way that we can retrieve it by meaningful indices. Go into the code below, and fix the statements so that we pull DeShawn's score for Exam2. Remember that short_gradebook has a numerical index, and in short_gradebook_index we are using the students' names as the index. "
   ]
  },
  {
   "cell_type": "code",
   "execution_count": null,
   "metadata": {},
   "outputs": [],
   "source": [
    "print(short_gradebook.loc[0, 2])\n",
    "\n",
    "print(short_gradebook_indexed.loc[0,2])"
   ]
  },
  {
   "cell_type": "markdown",
   "metadata": {},
   "source": [
    "Now try pulling a whole row or column at a time. First print all of Marie's scores, then print all of the Homework scores. Try it now. \n",
    "\n",
    "It should have been fairly easy for you to use `DataFrame.loc[]` to pull Marie's data, but that probably didn't work for getting the homework grades. That's because we don't ever want to separate the data from the index once the dataframe is constructed. To display a single Series from a DataFrame, we can just call that series with the command `DataFrame['Series']`. Try that, it should give you the homework scores alongside the index."
   ]
  },
  {
   "cell_type": "code",
   "execution_count": null,
   "metadata": {},
   "outputs": [],
   "source": [
    "#\n",
    "##Your Code here\n",
    "#\n",
    "#print Marie's data here\n",
    "#\n",
    "#print() use this to separate the outputs\n",
    "#\n",
    "#print the data in the Homework series here\n",
    "#"
   ]
  },
  {
   "cell_type": "markdown",
   "metadata": {},
   "source": [
    "We can add data to a DataFrame after we have defined it using a similar method. We can add a new column to the dataset by simply declaring a new Series name and assigning a list of values to it. "
   ]
  },
  {
   "cell_type": "code",
   "execution_count": null,
   "metadata": {},
   "outputs": [],
   "source": [
    "short_gradebook_indexed['Quizzes'] = [84,82,81,77,88]\n",
    "short_gradebook_indexed"
   ]
  },
  {
   "cell_type": "markdown",
   "metadata": {},
   "source": [
    "Now let's make a new dataframe that is a subset of the data. Make a new DataFrame called Exams that consists of just the data for Exam1, Exam2, and Exam3? We can do that by passing a list of column names, enclosed within square brackets, as argument. "
   ]
  },
  {
   "cell_type": "code",
   "execution_count": null,
   "metadata": {},
   "outputs": [],
   "source": [
    "Exams = short_gradebook_indexed[['Exam1','Exam2', 'Exam3']]\n",
    "Exams"
   ]
  },
  {
   "cell_type": "markdown",
   "metadata": {},
   "source": [
    "We can also select certain rows. What if we wanted to focus on any students who got a C or lower on Exam 3? We can actually put a logical statement inside our index holder. So we can select the part of the database where certain things are true. Let's say we want to look at just the students who got As on the second exam?"
   ]
  },
  {
   "cell_type": "code",
   "execution_count": null,
   "metadata": {},
   "outputs": [],
   "source": [
    "Exams[Exams['Exam2'] >= 90]"
   ]
  },
  {
   "cell_type": "markdown",
   "metadata": {},
   "source": [
    "### Question ###\n",
    "In the space below, explain in your own words what the code did.\n",
    "\n",
    ":\n",
    "\n",
    ": Type your answer here\n",
    "\n",
    ":"
   ]
  },
  {
   "cell_type": "markdown",
   "metadata": {},
   "source": [
    "## 3. Summarizing and describing data ## \n",
    "\n",
    "Usually we put data in a DataFrame because we want to do something with it. Let's take our exams data and summarize it. There is a very simple method in pandas, `DataFrame.describe()`, that will give us a lot of information about our dataset. Run the code below. "
   ]
  },
  {
   "cell_type": "code",
   "execution_count": null,
   "metadata": {},
   "outputs": [],
   "source": [
    "Exams.describe()"
   ]
  },
  {
   "cell_type": "markdown",
   "metadata": {},
   "source": [
    "But what if we wanted to do something like calculate an exam average for each student? That's a bit of a trickier problem, but something we can easily do. With lists and text data we had to use `for` loops to walk through the dataset, but Pandas gives us a number of methods to apply to dataframes to summarize data. One of these is means, and it can be applied in two different ways, which we specify by designating an `axis` along which the means will be calculated. Axis 0 gives the column means, and Axis 1 gives the row means. "
   ]
  },
  {
   "cell_type": "code",
   "execution_count": null,
   "metadata": {},
   "outputs": [],
   "source": [
    "\n",
    "print(Exams.mean(axis = 0)) ###Don't actually have to apply axis = 0, that is the default.\n",
    "print()\n",
    "print(Exams.mean(axis = 1))\n"
   ]
  },
  {
   "cell_type": "markdown",
   "metadata": {},
   "source": [
    "Now that you know how to create a Series of averages, let's combine this with  the technique for creating a new Series within a DataFrame that we learned in section 2 above. Within `Exams` create a new series called `ExamAverage` that holds the average for each student. "
   ]
  },
  {
   "cell_type": "code",
   "execution_count": null,
   "metadata": {},
   "outputs": [],
   "source": [
    "\n",
    "#\n",
    "## Your code here\n",
    "#\n",
    "\n",
    "Exams   # don't change\n"
   ]
  },
  {
   "cell_type": "markdown",
   "metadata": {},
   "source": [
    "## 4. Importing and ouputing data to and from a pandas DataFrame ## "
   ]
  },
  {
   "cell_type": "markdown",
   "metadata": {},
   "source": [
    "Pandas has numerous functions for importing data directly into a DataFrame. As the tutorial indicates, Pandas is the main library for handling data in python, so we shouldn't be surprised that it can read from and write to a wide range of file types. We will stick to `.csv` files for now. In the `data` folder located in the same directory as this notebook there is a file called `BigGradebook.csv`. See if you can use the `read_csv()` function in pandas to create a DataFrame called BigGradebook "
   ]
  },
  {
   "cell_type": "code",
   "execution_count": null,
   "metadata": {},
   "outputs": [],
   "source": [
    "#\n",
    "# Write the code here to import the data\n",
    "#\n",
    "\n",
    "BigGradebook #Don't change this, outputs Big Gradebook to check it"
   ]
  },
  {
   "cell_type": "markdown",
   "metadata": {},
   "source": [
    "For a big DataFrame (this is not actually a big dataset, but it still exceeds our ability to view it on a single screen) we might want to view the structure of the DataFrame without having to look at every line of data. We can use the DataFrame method `DataFrame.head()` to simplify the view down to just the first few lines. We can get information about what the rest of dataset looks like by using the `DataFrame.shape` and `DataFrame.size` methods. In the code window below, use the the three methods described above to the `BigGradebook` DataFrame. You will want to use the `print()` or `display()` functions to show the results."
   ]
  },
  {
   "cell_type": "code",
   "execution_count": null,
   "metadata": {},
   "outputs": [],
   "source": [
    "#\n",
    "## Write three lines of code to \n",
    "###1 display the DataFrame head view of the first five lines\n",
    "###2 print the shape method\n",
    "###3 print the size method\n",
    "##### bonus - can you print shape and size so that it shows as \"Dataframe shape/size is: X \"\n",
    "#"
   ]
  },
  {
   "cell_type": "markdown",
   "metadata": {},
   "source": [
    "### Question ###\n",
    "What information are the shape and size methods giving us about our dataset?\n",
    "\n",
    ":\n",
    "\n",
    ": Type your answer here\n",
    "\n",
    ":"
   ]
  },
  {
   "cell_type": "markdown",
   "metadata": {},
   "source": [
    "One thing you might notice is that the dataset we imported used a generic numerical index. We could adjust this manually as we did above using the `DataFrame.set_index()` method. But it turns out that the `read_csv()` function itself can be adjusted to refine our results. There are many adjustments we can make to read_csv. Take a look at the <a href = 'https://pandas.pydata.org/pandas-docs/stable/reference/api/pandas.read_csv.html'>official definition of the function </a> in order to get a sense for how many things we can do. None of these values have to be specified, but all of them can be specified. We will try to use `index_col`. Try using the read_csv file to reimport `BigGradebook.csv`, except this time place a comma after the file location, and set `Student` to be the index column. "
   ]
  },
  {
   "cell_type": "code",
   "execution_count": null,
   "metadata": {},
   "outputs": [],
   "source": [
    "#\n",
    "# Write the code here to import the data and specify the index column.\n",
    "#\n",
    "\n",
    "BigGradebook.head() #Don't change this, outputs BigGradebook to check it"
   ]
  },
  {
   "cell_type": "markdown",
   "metadata": {},
   "source": [
    "Finally, let's take a moment to examine how easy it is to output data from a pandas dataframe. We may want to do this to save data once we have manipulated it or modified it with pandas. This can seem a little more intimidating since we are asking to write from the program back to the computer it is housed on. Luckily, there is a pandas method called `DataFrame.to_csv()` that will do what we want. We need to feed this method a file name and a file location, for now we won't worry about any of the other parameters as the defaults will do what we want. If we don't specify a location, and just give a file name, python will write the file to the active directory (the directory where this .ipynb file resides). Use the file name `Exported_BigGradebook.csv`."
   ]
  },
  {
   "cell_type": "code",
   "execution_count": null,
   "metadata": {},
   "outputs": [],
   "source": [
    "#\n",
    "# Write the code here to export the data\n",
    "#"
   ]
  },
  {
   "cell_type": "markdown",
   "metadata": {},
   "source": [
    "When you run this code, nothing should happen in the notebook. Switch to your operating system and see if you've managed to create that folder!\n",
    "\n",
    ":\n",
    "\n",
    ": Is it there (Y/N)?\n",
    "\n",
    ":"
   ]
  }
 ],
 "metadata": {
  "kernelspec": {
   "display_name": "Python 3",
   "language": "python",
   "name": "python3"
  },
  "language_info": {
   "codemirror_mode": {
    "name": "ipython",
    "version": 3
   },
   "file_extension": ".py",
   "mimetype": "text/x-python",
   "name": "python",
   "nbconvert_exporter": "python",
   "pygments_lexer": "ipython3",
   "version": "3.7.3"
  }
 },
 "nbformat": 4,
 "nbformat_minor": 2
}
