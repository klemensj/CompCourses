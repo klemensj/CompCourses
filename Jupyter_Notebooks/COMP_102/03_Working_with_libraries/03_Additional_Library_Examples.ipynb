{
 "cells": [
  {
   "cell_type": "markdown",
   "id": "950b17a8",
   "metadata": {},
   "source": [
    "<div align =\"right\">Thomas Jefferson University <b>COMP 102</b>: Intro to Scientific Computing</div>"
   ]
  },
  {
   "cell_type": "markdown",
   "id": "eff01a83",
   "metadata": {},
   "source": [
    "# Additional library examples\n",
    "\n",
    "Here are a few more fun examples and an assignment to reinforce our knowledge of libraries. \n",
    "\n",
    "## the os library\n",
    "\n",
    "The following examples make use of the `os` library to sort through and report on some data in a datafile. I have stuffed a bunch of irregular folder structure into the 'data' folder. You can click around and see that it would be hard to write code to access all of the data because there are folders and subfolders emedded in hierarchies of different length and etc. \n",
    "\n",
    "<a href = 'https://docs.python.org/3/library/os.html'> os library documentation</a>\n",
    "\n",
    "The code blocks below shows some examples of things we can do with `os`. "
   ]
  },
  {
   "cell_type": "code",
   "execution_count": 33,
   "id": "23a85c5b",
   "metadata": {},
   "outputs": [
    {
     "name": "stdout",
     "output_type": "stream",
     "text": [
      "/Users/klemensj/GitHub/CompCourses/Jupyter_Notebooks/COMP_102/03_Working_with_libraries\n"
     ]
    }
   ],
   "source": [
    "import os\n",
    "\n",
    "cwd = os.getcwd()   # cwd stands for 'current working directory'\n",
    "print(cwd)          ## so this handy command will return the path \n",
    "                    ## to the directory where your files will be\n",
    "                    ## written and your project data is stored"
   ]
  },
  {
   "cell_type": "code",
   "execution_count": 28,
   "id": "53fa6884",
   "metadata": {},
   "outputs": [
    {
     "name": "stdout",
     "output_type": "stream",
     "text": [
      "/Users/klemensj/GitHub/CompCourses/Jupyter_Notebooks/COMP_102/03_Working_with_libraries\n",
      "{'data': ['populations.csv'], 'data/folder_b': ['bdata.rtf'], 'data/folder_b/subfolder_1': ['b1data.rtf'], 'data/folder_b/subfolder_2': ['b2data.rtf'], 'data/folder_e': [], 'data/folder_e/subfolder_1': ['e1data.rtf'], 'data/folder_e/subfolder_2': ['e2data.rtf'], 'data/folder_e/subfolder_3': ['e3data.rtf'], 'data/folder_e/subfolder_4': ['e4data.rtf'], 'data/folder_e/subfolder_4/subsubfolderI': [], 'data/folder_e/subfolder_4/subsubfolderI/subusubsubfolderA': ['e4IAdata.rtf'], 'data/folder_d': ['ddata.rtf'], 'data/folder_c': ['cdata.rtf'], 'data/folder_h': [], 'data/folder_h/subfolder_1': [], 'data/folder_h/subfolder_2': [], 'data/folder_h/subfolder_3': [], 'data/folder_f': [], 'data/folder_a': ['adata.rtf'], 'data/folder_g': []}\n"
     ]
    }
   ],
   "source": [
    "# In this example os.walk() acts on the folder data. At each         \n",
    "## directory level it creates an object that consists of the \n",
    "## path to the directory, a list of directories within that \n",
    "## directory, and a list of all the file names in that directory.\n",
    "        \n",
    "file_list = []    # make two empty lists           \n",
    "path_list = []\n",
    "\n",
    "# each entry in the `walk` object will contain \n",
    "## all three pieces of information\n",
    "\n",
    "for (path, directory, files) in os.walk('data',):\n",
    "    \n",
    "    # for every file in the list of files in a directory that isn't\n",
    "    ## a hidden file (starts with '.')\n",
    "    \n",
    "    file = [f for f in files if not f[0] == '.'] \n",
    "    \n",
    "    # add the \n",
    "    \n",
    "    file_list.append(file)\n",
    "    path_list.append(path)\n",
    "\n",
    "file_path_dict = {}\n",
    "file_path_dict = {path_list[i]: file_list[i] for i in range(len(file_list))}\n",
    "\n",
    "print(file_path_dict)\n",
    "    "
   ]
  },
  {
   "cell_type": "code",
   "execution_count": null,
   "id": "29cf361f",
   "metadata": {},
   "outputs": [],
   "source": []
  },
  {
   "cell_type": "markdown",
   "id": "d1b867e0",
   "metadata": {},
   "source": [
    "This output is messy but you can see that it consists of pairs of directory names and file names.If we wanted to refer to each file in a python program, those are the two things we would need to identify or call the specific file. \n",
    "\n",
    "In the code below `os.path.join` lets us merge those two things together intelligently - it will make sure we don't have double backslashes or missing backslashes in the final path `//` \n",
    "\n",
    "So now we can create a list of the direct path to every file in our folder which is really useful if we are trying to do something like run a program on every file in the directory. Note that by calling from the dictionary using file_name we only get values where there is a file."
   ]
  },
  {
   "cell_type": "code",
   "execution_count": 32,
   "id": "a252f06c",
   "metadata": {},
   "outputs": [
    {
     "name": "stdout",
     "output_type": "stream",
     "text": [
      "data/populations.csv\n",
      "data/folder_b/bdata.rtf\n",
      "data/folder_b/subfolder_1/b1data.rtf\n",
      "data/folder_b/subfolder_2/b2data.rtf\n",
      "data/folder_e/subfolder_1/e1data.rtf\n",
      "data/folder_e/subfolder_2/e2data.rtf\n",
      "data/folder_e/subfolder_3/e3data.rtf\n",
      "data/folder_e/subfolder_4/e4data.rtf\n",
      "data/folder_e/subfolder_4/subsubfolderI/subusubsubfolderA/e4IAdata.rtf\n",
      "data/folder_d/ddata.rtf\n",
      "data/folder_c/cdata.rtf\n",
      "data/folder_a/adata.rtf\n"
     ]
    }
   ],
   "source": [
    "file_path_list =[]\n",
    "\n",
    "for path in file_path_dict:\n",
    "    for file_name in file_path_dict[path]:\n",
    "        print(os.path.join(path,file_name))\n",
    "        file_path_list.append(os.path.join(path,file_name))\n"
   ]
  },
  {
   "cell_type": "code",
   "execution_count": null,
   "id": "6371cd1d",
   "metadata": {},
   "outputs": [],
   "source": []
  }
 ],
 "metadata": {
  "kernelspec": {
   "display_name": "Python 3 (ipykernel)",
   "language": "python",
   "name": "python3"
  },
  "language_info": {
   "codemirror_mode": {
    "name": "ipython",
    "version": 3
   },
   "file_extension": ".py",
   "mimetype": "text/x-python",
   "name": "python",
   "nbconvert_exporter": "python",
   "pygments_lexer": "ipython3",
   "version": "3.9.12"
  }
 },
 "nbformat": 4,
 "nbformat_minor": 5
}
