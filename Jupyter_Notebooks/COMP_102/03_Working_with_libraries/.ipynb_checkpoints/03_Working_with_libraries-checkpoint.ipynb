{
 "cells": [
  {
   "cell_type": "markdown",
   "id": "1ea4341a",
   "metadata": {},
   "source": [
    "<div align =\"right\">Thomas Jefferson University <b>COMP 102</b>: Intro to Scientific Computing</div>"
   ]
  },
  {
   "cell_type": "markdown",
   "id": "ff3ff93f-9af1-4da8-805f-f7fff9253b05",
   "metadata": {},
   "source": [
    "# Working with python libraries\n",
    "\n",
    "A **library** in python is a collection of pre-written code that many different programmers may find useful. Libraries allow you to apply complex solutions without having to code them 'from scratch'. Libraries contain pre-written **functions** for performing certain tasks, **class definitions** that create objects with particular characteristics,  **methods** for manipulating those classes and thus allowing the user to do very specific things, and even global **variable** definitions. **Library** is an umbrella term that includes everything from a file of your own code that contains a few frequently-used functions to external python **packages** that are available for download. Some of these external packages have become so popular that many if not most python programmers employ them. In practice, the terms library and package are often used interchangably. \n",
    "\n",
    "Another level of consideration are **modules**, which are the building blocks of libraries and packages. They likewise can contain functions, classes, methods, and variables. Take a look at the article <a href='https://learnpython.com/blog/python-modules-packages-libraries-frameworks/'>Difference Between Python Modules, Packages, Libraries, and Frameworks</a> to understand the difference and the overlap between these terms. \n",
    "\n",
    "In order to use a library in python, that library, or some component of it, must be imported into your program using some application of the `import` function.\n",
    "\n",
    "\n",
    "## Built-in modules\n",
    "\n",
    "Built-in functions and methods are the ones we have used so far to do most of our programming. These are functions like `print()`, `len()`, `min()`,  `max()`,  and `type()` or common string and list methods like `.append()`, `.upper()`, and `.replace()`.  \n",
    "\n",
    "There are a number of common libraries that are installed whenever python is installed but that are not used nearly as frequently. These are the built-in modules of python. These include \n",
    "```\n",
    "    os           # tools for working with the operating system\n",
    "    math         # mathematical tools beyond +,-,*,/\n",
    "    random       # tools for working with randomness\n",
    "    statistics   # compute statistical parameters\n",
    "                 ## or perform basic analyses\n",
    "```    \n",
    "To see a full set of built-in types, functions, and libraries, you can view the <a href = 'https://docs.python.org/3/library/'>Python Standard Library</a> as part of python documentation. Note that this overarching collection of things is itself referred to as a library! \n",
    "\n",
    "## Importing a module\n",
    "\n",
    "Getting access to a built-in module requires us to import the module to our program. This is very straightforward. We simply use the python statement **import** and all of the material within the module becomes available to us. To use the elements of the module, we preced the call to the function or variable with the module name followed by a `.` then the function name, like so: \n",
    "\n",
    "```\n",
    "import module_name  # we usually include this line \n",
    "                    ## at or near the top of our script\n",
    "\n",
    "# some more code follows, defining the variable and whatnot\n",
    "\n",
    "my_answer = module_name.module_function(variable)\n",
    "print(myanswer)\n",
    "```\n",
    "\n",
    "Here's a live example:"
   ]
  },
  {
   "cell_type": "code",
   "execution_count": null,
   "id": "b5e09f60",
   "metadata": {},
   "outputs": [],
   "source": [
    "import math\n",
    "\n",
    "x = 4.0\n",
    "print('The square root of 4 is ' + str(math.sqrt(x)))\n",
    "print()\n",
    "print('The sin of 4pi is ' + str(math.sin(x*math.pi)))\n",
    "\n",
    "print()\n",
    "pi = math.pi\n",
    "print('According to math, the value of pi is ' + str(pi))     \n",
    "print()\n",
    "e = math.e\n",
    "print('According to math, the value of Euler\\'s number is ' + str(e))\n",
    "print()\n",
    "\n",
    "my_degrees = input('Calculate sin of angle in degrees: ')\n",
    "my_rad = math.radians(float(my_degrees))\n",
    "my_answer = math.sin(my_rad)\n",
    "\n",
    "print('sin of ' + str(my_degrees)+ ' degrees = ' +str(my_answer))"
   ]
  },
  {
   "cell_type": "markdown",
   "id": "dcf97ede",
   "metadata": {},
   "source": [
    "### Other import methods"
   ]
  },
  {
   "cell_type": "markdown",
   "id": "adc5bbe7",
   "metadata": {},
   "source": [
    "Let's do a quick discovery activity. Run the code below. `fsum` is a function within the `math` module that adds up the values of all numerical information within an iterable such as a list. We are now going to show three different ways of importing this functionality into a program:"
   ]
  },
  {
   "cell_type": "code",
   "execution_count": null,
   "id": "e1b68637",
   "metadata": {},
   "outputs": [],
   "source": [
    "import math\n",
    "\n",
    "math.fsum([1,2,3,4,5])"
   ]
  },
  {
   "cell_type": "code",
   "execution_count": null,
   "id": "42d5db28",
   "metadata": {},
   "outputs": [],
   "source": [
    "from math import fsum\n",
    "\n",
    "fsum([1,2,3,4,5])"
   ]
  },
  {
   "cell_type": "code",
   "execution_count": null,
   "id": "a0fbe4ad",
   "metadata": {},
   "outputs": [],
   "source": [
    "from math import fsum as add_all_values_in_an_iterable_object\n",
    "\n",
    "add_all_values_in_an_iterable_object([1,2,3,4,5])"
   ]
  },
  {
   "cell_type": "markdown",
   "id": "7275ec68",
   "metadata": {},
   "source": [
    "***Question*** Describe in your own words what you think is going on in the three code windows above. Why in particular does the third one work? Under what circumstances might you choose one of these methods over the other?\n",
    "\n",
    "*** add your answer here. ***\n",
    "\n",
    "* \n",
    "* \n",
    "* \n",
    "\n",
    "\n",
    "\n",
    "\n"
   ]
  },
  {
   "cell_type": "markdown",
   "id": "28683e18",
   "metadata": {},
   "source": [
    " `os` is another popular library that allows access to operating system dependent functions such as `os.path` and `os.walk`. We won't run any examples of this yet because it will execute code at the terminal level of your operating system. "
   ]
  },
  {
   "cell_type": "markdown",
   "id": "90081848",
   "metadata": {},
   "source": [
    "### Importing libraries by standard shortcuts\n",
    "\n",
    "If you choose the `.`  method of accessing a function from a library, you will retype the module's name every time you want to use that function. Some modules have long names that you might not want to retype over and over. Another use of the `as` statement is to shorten module names. In fact, some common modules are typically imported by names that are shortened by programmer convenetion, for example:\n",
    "```\n",
    "import random as rand                \n",
    "import matplotlib.pyplot as plt #this is one module!\n",
    "import numpy as np\n",
    "import statistics as stat\n",
    "import os                 #two letter names are fine already!\n",
    "```\n",
    "\n"
   ]
  },
  {
   "cell_type": "markdown",
   "id": "4620e21c",
   "metadata": {},
   "source": [
    "## External libraries\n",
    "\n",
    "One of the reasons we use the Anaconda distribution of python is that it comes with many of the libraries we might want to include in python pre-installed. Over the next few weeks we will be using libraries like\n",
    "\n",
    "```\n",
    "    scipy\n",
    "    pandas\n",
    "    numpy\n",
    "    matplotlib\n",
    "```\n",
    " \n",
    "Much of the rest of this class will be diving into these modules, which are very powerful but as a result slightly less intuitive to use than the built-in functions. Here's an example of how much you can do with these modules with just a tiny amount of code. "
   ]
  },
  {
   "cell_type": "code",
   "execution_count": null,
   "id": "5dee8e76-4b18-4e89-96df-e95835ec5197",
   "metadata": {},
   "outputs": [],
   "source": [
    "import matplotlib.pyplot as plt #import the submodule of pyplot to plot something and give it an alias\n",
    "import numpy as np\n",
    "\n",
    "y = np.array([35, 25, 25, 15])\n",
    "mylabels = [\"Basil\", \"Mint\", \"Thyme\", \"Parsley\"]\n",
    "\n",
    "plt.pie(y, labels = mylabels)\n",
    "plt.show() "
   ]
  },
  {
   "cell_type": "markdown",
   "id": "40d9281e",
   "metadata": {},
   "source": [
    "As you can see, these modules have a lot of functionality! "
   ]
  },
  {
   "cell_type": "markdown",
   "id": "286038ce",
   "metadata": {},
   "source": [
    "## Exercises\n",
    "\n",
    "For the rest of today I'm going to have you work to use the python documentation to figure out how to use some built-in libraries. It's really important that you start to develop the skill of how you go about finding out HOW to use a particular librarya. Documentation for each library can be found here: \n",
    "\n",
    "<a href='https://docs.python.org/3/library/random.html'>random</a>\n",
    "<a href = 'https://docs.python.org/3/library/math.html#module-math'>math</a>\n",
    "<a href = 'https://docs.python.org/3/library/statistics.html' >statistics</a>"
   ]
  },
  {
   "cell_type": "markdown",
   "id": "eecf95ca",
   "metadata": {},
   "source": [
    "### Exercise 1 \n",
    "\n",
    "Generate a random number. Can you control what kind of number you get?\n",
    "Generate a random number from within a certain range of numbers. Write code to test that this works.\n",
    "\n",
    "Manually create a list of numbers. Randomly select a value from the list. Randomly select multiple items from the list. Shuffle the list to a random arrangement. \n"
   ]
  },
  {
   "cell_type": "code",
   "execution_count": null,
   "id": "7674d71a",
   "metadata": {},
   "outputs": [],
   "source": [
    "# Your code here"
   ]
  },
  {
   "cell_type": "markdown",
   "id": "1b4bff97",
   "metadata": {},
   "source": [
    "### Exercise 2\n",
    "\n",
    "Create a basic calculator function that allows reader to enter a trigonometric function and an angle and calculate sin, cos, or tan of the angle. "
   ]
  },
  {
   "cell_type": "code",
   "execution_count": null,
   "id": "38905c03",
   "metadata": {},
   "outputs": [],
   "source": [
    "# Your code here"
   ]
  },
  {
   "cell_type": "markdown",
   "id": "2dfe9e03",
   "metadata": {},
   "source": [
    "### Exercise 3 \n",
    "\n",
    "Create a program that will give mean, median, and standard deviation of any list of numbers. \n",
    "\n",
    "Create a program that will caculate the correlation coefficient between any two lists of numbers. "
   ]
  },
  {
   "cell_type": "code",
   "execution_count": null,
   "id": "00d9744c",
   "metadata": {},
   "outputs": [],
   "source": [
    "# Your code here"
   ]
  },
  {
   "cell_type": "markdown",
   "id": "28ad90fb",
   "metadata": {},
   "source": [
    "![Alt text that will appear on mouseover](images/TJU_logo_dummy_image.png \"Dummy image\")"
   ]
  }
 ],
 "metadata": {
  "kernelspec": {
   "display_name": "Python 3 (ipykernel)",
   "language": "python",
   "name": "python3"
  },
  "language_info": {
   "codemirror_mode": {
    "name": "ipython",
    "version": 3
   },
   "file_extension": ".py",
   "mimetype": "text/x-python",
   "name": "python",
   "nbconvert_exporter": "python",
   "pygments_lexer": "ipython3",
   "version": "3.9.12"
  }
 },
 "nbformat": 4,
 "nbformat_minor": 5
}
