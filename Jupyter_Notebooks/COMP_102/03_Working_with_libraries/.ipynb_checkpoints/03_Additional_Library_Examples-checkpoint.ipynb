{
 "cells": [
  {
   "cell_type": "markdown",
   "id": "04e9ad33",
   "metadata": {},
   "source": [
    "<div align =\"right\">Thomas Jefferson University <b>COMP 102</b>: Intro to Scientific Computing</div>"
   ]
  },
  {
   "cell_type": "markdown",
   "id": "9a84f94b",
   "metadata": {},
   "source": [
    "# Additional library examples\n",
    "\n",
    "Here are a few more fun examples and an assignment to reinforce our knowledge of libraries. \n",
    "\n",
    "The following examples make use of the `os` library to sort through and report on some data in a datafile. I have stuffed a bunch of irregular folder structure into the 'data' folder. You can click around and see that it would be hard to write code to access all of the data because there are folders and subfolders and etc. \n",
    "\n",
    "<a href = 'https://docs.python.org/3/library/os.html'> os library documentation</a>"
   ]
  },
  {
   "cell_type": "code",
   "execution_count": 21,
   "id": "c83d9d82",
   "metadata": {},
   "outputs": [
    {
     "name": "stdout",
     "output_type": "stream",
     "text": [
      "/Users/klemensj/GitHub/CompCourses/Jupyter_Notebooks/COMP_102/03_Working_with_libraries\n",
      "{'data': ['populations.csv'], 'data/folder c': ['cdata.rtf'], 'data/folder d': ['ddata.rtf'], 'data/folder e': [], 'data/folder e/subfolder 1': ['e1data.rtf'], 'data/folder e/subfolder 4': ['e4data.rtf'], 'data/folder e/subfolder 4/subsubfolderI': [], 'data/folder e/subfolder 4/subsubfolderI/subusubsubfolderA': ['e4IAdata.rtf'], 'data/folder e/subfolder 3': ['e3data.rtf'], 'data/folder e/subfolder 2': ['e2data.rtf'], 'data/folder b': ['bdata.rtf'], 'data/folder b/subfolder 1': ['b1data.rtf'], 'data/folder b/subfolder 2': ['b2data.rtf'], 'data/folder g': [], 'data/folder h': [], 'data/folder h/subfolder 1': [], 'data/folder h/subfolder 3': [], 'data/folder h/subfolder 2': [], 'data/folder a': ['adata.rtf'], 'data/folder f': []}\n"
     ]
    }
   ],
   "source": [
    "import os\n",
    "\n",
    "cwd = os.getcwd()\n",
    "print(cwd)\n",
    "\n",
    "file_list = []\n",
    "path_list = []\n",
    "\n",
    "for (path, directory, file) in os.walk('data',):\n",
    "    files = [f for f in file if not f[0] == '.']\n",
    "    file_list.append(files)\n",
    "    path_list.append(path)\n",
    "\n",
    "file_path_dict = {}\n",
    "file_path_dict = {path_list[i]: file_list[i] for i in range(len(file_list))}\n",
    "\n",
    "print(file_path_dict)\n",
    "    "
   ]
  },
  {
   "cell_type": "code",
   "execution_count": 23,
   "id": "ba9b0074",
   "metadata": {},
   "outputs": [
    {
     "name": "stdout",
     "output_type": "stream",
     "text": [
      "data/populations.csv\n",
      "data/folder c/cdata.rtf\n",
      "data/folder d/ddata.rtf\n",
      "data/folder e/subfolder 1/e1data.rtf\n",
      "data/folder e/subfolder 4/e4data.rtf\n",
      "data/folder e/subfolder 4/subsubfolderI/subusubsubfolderA/e4IAdata.rtf\n",
      "data/folder e/subfolder 3/e3data.rtf\n",
      "data/folder e/subfolder 2/e2data.rtf\n",
      "data/folder b/bdata.rtf\n",
      "data/folder b/subfolder 1/b1data.rtf\n",
      "data/folder b/subfolder 2/b2data.rtf\n",
      "data/folder a/adata.rtf\n"
     ]
    }
   ],
   "source": [
    "for path in file_path_dict:\n",
    "    for file_name in file_path_dict[path]:\n",
    "        print(os.path.join(path,file_name))"
   ]
  },
  {
   "cell_type": "code",
   "execution_count": null,
   "id": "04444c9e",
   "metadata": {},
   "outputs": [],
   "source": []
  }
 ],
 "metadata": {
  "kernelspec": {
   "display_name": "Python 3 (ipykernel)",
   "language": "python",
   "name": "python3"
  },
  "language_info": {
   "codemirror_mode": {
    "name": "ipython",
    "version": 3
   },
   "file_extension": ".py",
   "mimetype": "text/x-python",
   "name": "python",
   "nbconvert_exporter": "python",
   "pygments_lexer": "ipython3",
   "version": "3.9.12"
  }
 },
 "nbformat": 4,
 "nbformat_minor": 5
}
