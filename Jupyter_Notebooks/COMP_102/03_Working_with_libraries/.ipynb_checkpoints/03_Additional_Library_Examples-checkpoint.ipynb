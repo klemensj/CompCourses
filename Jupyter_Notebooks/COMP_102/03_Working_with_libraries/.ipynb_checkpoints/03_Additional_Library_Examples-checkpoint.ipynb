{
 "cells": [
  {
   "cell_type": "markdown",
   "id": "17ea1989",
   "metadata": {},
   "source": [
    "<div align =\"right\">Thomas Jefferson University <b>COMP 102</b>: Intro to Scientific Computing</div>"
   ]
  },
  {
   "cell_type": "markdown",
   "id": "eff01a83",
   "metadata": {},
   "source": [
    "# Additional library examples\n",
    "\n",
    "Here are a few more fun examples and an assignment to reinforce our knowledge of libraries. \n",
    "\n",
    "## the os library\n",
    "\n",
    "The following examples make use of the `os` library to sort through and report on some data in a datafile. I have stuffed a bunch of irregular folder structure into the 'data' folder. You can click around and see that it would be hard to write code to access all of the data because there are folders and subfolders emedded in hierarchies of different length and etc. \n",
    "\n",
    "<a href = 'https://docs.python.org/3/library/os.html'> os library documentation</a>\n",
    "\n",
    "The code blocks below shows some examples of things we can do with `os`. "
   ]
  },
  {
   "cell_type": "code",
   "execution_count": null,
   "id": "23a85c5b",
   "metadata": {},
   "outputs": [],
   "source": [
    "import os\n",
    "\n",
    "cwd = os.getcwd()   # cwd stands for 'current working directory'\n",
    "print(cwd)          ## so this handy command will return the path \n",
    "                    ## to the directory where your files will be\n",
    "                    ## written and your project data is stored\n",
    "\n",
    "print()        \n",
    "print(type(cwd))\n"
   ]
  },
  {
   "cell_type": "code",
   "execution_count": null,
   "id": "53fa6884",
   "metadata": {},
   "outputs": [],
   "source": [
    "# In this example os.walk() acts on the folder data. At each         \n",
    "## directory level it creates an object that consists of the \n",
    "## path to the directory, a list of directories within that \n",
    "## directory, and a list of all the file names in that directory.\n",
    "        \n",
    "file_list = []    # make two empty lists           \n",
    "path_list = []\n",
    "\n",
    "# each entry in the `walk` object will contain \n",
    "## all three pieces of information\n",
    "\n",
    "for (path, directory, files) in os.walk('data'):\n",
    "    \n",
    "    # for every file in the list of files in a directory that doesn't\n",
    "    ## start with '.' (is not a 'hidden' file)\n",
    "    \n",
    "    file = [f for f in files if not f[0] == '.'] \n",
    "    \n",
    "    # add the filename and path of each file found by 'walking' the data \n",
    "    \n",
    "    file_list.append(file)\n",
    "    path_list.append(path)\n",
    "\n",
    "file_path_dict = {}\n",
    "file_path_dict = {path_list[i]: file_list[i] for i in range(len(file_list))}\n",
    "\n",
    "print(file_path_dict)\n",
    "    "
   ]
  },
  {
   "cell_type": "markdown",
   "id": "d1b867e0",
   "metadata": {},
   "source": [
    "This output is messy but you can see that it consists of pairs of directory names and file names.If we wanted to refer to each file in a python program, those are the two things we would need to identify or call the specific file. \n",
    "\n",
    "In the code below `os.path.join` lets us merge those two things together intelligently - it will make sure we don't have double backslashes or missing backslashes in the final path `//` \n",
    "\n",
    "So now we can create a list of the direct path to every file in our folder which is really useful if we are trying to do something like run a program on every file in the directory. Note that by calling from the dictionary using file_name we only get values where there is a file."
   ]
  },
  {
   "cell_type": "code",
   "execution_count": null,
   "id": "a252f06c",
   "metadata": {},
   "outputs": [],
   "source": [
    "file_path_list =[]\n",
    "\n",
    "for path in file_path_dict:\n",
    "    for file_name in file_path_dict[path]:\n",
    "        print(os.path.join(path,file_name))\n",
    "        file_path_list.append(os.path.join(path,file_name))\n"
   ]
  },
  {
   "cell_type": "markdown",
   "id": "dad2810a",
   "metadata": {},
   "source": [
    "Now we can use that information to, for example, get the data out of one of those files as we saw by using the import technique that we learned previously. "
   ]
  },
  {
   "cell_type": "code",
   "execution_count": null,
   "id": "da83810b",
   "metadata": {},
   "outputs": [],
   "source": [
    "print('Contents of :', file_path_list[9])\n",
    "print()\n",
    "\n",
    "openfile = open(file_path_list[9],'r')\n",
    "contents = openfile.read()\n",
    "openfile.close\n",
    "print(contents)"
   ]
  },
  {
   "cell_type": "markdown",
   "id": "66ceb72d",
   "metadata": {},
   "source": [
    "## Questions: \n",
    "Looking at the code example above: 1) What does '[]' mean in the printout of the dictionary 'file_path_dict'? 2) what exactly was \"joined\" by the `os.path.join()` function?\n",
    "    \n",
    "* \n",
    "* \n",
    "* \n",
    "\n"
   ]
  },
  {
   "cell_type": "markdown",
   "id": "1c13ee21",
   "metadata": {},
   "source": [
    "## importing data with the csv library\n",
    "\n",
    "Previously, and in the example above, we imported data using the `open()` function and the `.read()`, and `.close` methods. In our first lesson on importing data, we were able to import data from a .csv file, but our result was just a string of text that contained the data but that had lost all of the data structure. Run the code below for a reminder:"
   ]
  },
  {
   "cell_type": "code",
   "execution_count": null,
   "id": "668a8d1d",
   "metadata": {},
   "outputs": [],
   "source": [
    "openfile = open(\"data/Gradebook.csv\",\"r\")\n",
    "grades = openfile.read()\n",
    "openfile.close\n",
    "print(grades)\n",
    "print()\n",
    "print(type(grades))"
   ]
  },
  {
   "cell_type": "markdown",
   "id": "bb81e736",
   "metadata": {},
   "source": [
    "The library csv allows us to read or write a .csv file, of course. Looking at the <a href = 'https://docs.python.org/3/library/csv.html?highlight=csv'> documentation of the csv module</a> we see that many of the specific functions have to do with parsing particular formats of data. We are going to look at one particular form of reading in a csv in which our data will be converted to a dictionary format. Later we will see that some of the future data handling libraries we encounter (*pandas* in particular) also contain functions for importing a .csv. "
   ]
  },
  {
   "cell_type": "code",
   "execution_count": null,
   "id": "9fa33913",
   "metadata": {},
   "outputs": [],
   "source": [
    "import csv\n",
    "\n",
    "grade_dict_list = []\n",
    "\n",
    "# the line below creates a file object called csvfile (just like\n",
    "## we created the file object 'openfile' in the example above)\n",
    "## newline = '' prevents extra rows from being created on import, \n",
    "## don't worry about the details of that, just include it when you\n",
    "## import a .csv file.\n",
    "\n",
    "with open('data/Gradebook.csv', newline='') as csvfile:         \n",
    "    reader = csv.DictReader(csvfile)     # function applied to file object\n",
    "    print(type(csvfile))\n",
    "    print(type(reader))                  # see types of objects created\n",
    "    print()\n",
    "    \n",
    "    for row in reader:\n",
    "        print(row)                       # each row is a dictionary\n",
    "        grade_dict_list.append(row)      # make a list of the dictionaries\n",
    "        \n",
    "print()\n",
    "print(grade_dict_list)                   # print list of dictionaries\n",
    "\n",
    "#To retrieve the data we can walk through the lists \n",
    "    \n",
    "for entry in grade_dict_list:              # each student is a dictionary                \n",
    "    if entry['Student'] == 'Marie':        # match key to value\n",
    "        print('Marie score for exam 3: ' , student['Exam3']) # print value we want\n",
    "        "
   ]
  },
  {
   "cell_type": "markdown",
   "id": "56f0e698",
   "metadata": {},
   "source": [
    "## Question: \n",
    "What did the dictionary reader function know how to do automatically? Is this more useful than having the data as a string? Why or why not?\n",
    "    \n",
    "* \n",
    "* \n",
    "* "
   ]
  },
  {
   "cell_type": "markdown",
   "id": "9fbed2f3",
   "metadata": {},
   "source": [
    "## the datetime library\n",
    "\n",
    "The `datetime` library is extremely useful. It allows us to easily handle dates, times, and timezones within our programs. Look at the <a href='https://docs.python.org/3/library/datetime.html'>documentation for datetime</a>. Specifically scroll down to the documentation for *Available Types*. This shows us that datetime works by creating **objects** that represent times, dates, a combination, a difference between a time and a date, or a timzone. \n",
    "\n",
    "\n",
    "\n"
   ]
  },
  {
   "cell_type": "code",
   "execution_count": null,
   "id": "b161a84a",
   "metadata": {},
   "outputs": [],
   "source": [
    "import datetime as dt         #this is the standard abbreviation  \n",
    "\n",
    "date1 = dt.date(2022, 9, 17)\n",
    "date2 = dt.date(year = 2022, month = 10, day = 31)\n",
    "date3 = dt.date(day = 31, month = 10, year = 2022)\n",
    "# date4 = dt.date(17,9,2022)\n",
    "\n",
    "print(date1, '\\n', date2,'\\n', date3, sep='')\n",
    "print(type(date1))\n",
    "print()\n",
    "\n",
    "# creating time objects\n",
    "\n",
    "time1 = dt.time(11, 12, 42)\n",
    "time2 = dt.time(hour = 23, minute = 12, second = 13)\n",
    "time3 = dt.time(second = 13, minute = 12, hour = 23)\n",
    "# time4 = dt.time(42, 11, 12)\n",
    "\n",
    "print(time1, '\\n', time2, '\\n', time3, sep='')\n",
    "print(type(time1))\n",
    "print()\n",
    "\n",
    "# creating datetime objects\n",
    "\n",
    "dtime1 = dt.datetime(2022, 9, 17, 11, 12, 42)\n",
    "dtime2 = dt.datetime(year = 2022, month = 9, day = 17 , hour = 23, minute = 12, second = 13)\n",
    "dtime3 = dt.datetime(2022, 9, 17)\n",
    "\n",
    "print(dtime1,'\\n', dtime2, '\\n', dtime3, sep='' )\n",
    "print(type(dtime1))\n",
    "print()\n",
    "\n",
    "#extracting values from datetime objects\n",
    "\n",
    "print(dtime1.year)\n",
    "print(dtime1.minute)\n",
    "print(type(dtime1.year))"
   ]
  },
  {
   "cell_type": "markdown",
   "id": "07126d15",
   "metadata": {},
   "source": [
    "### Question: \n",
    "Uncomment (one at a time) date4 and time4. Considering the result, as well as the output of the code without those lines, what have we learned about how the date and time objects can be created and how information is stored within them?\n",
    "    \n",
    "* \n",
    "* \n",
    "* \n",
    "\n"
   ]
  },
  {
   "cell_type": "markdown",
   "id": "4c5e095a",
   "metadata": {},
   "source": [
    "A little consideration should allow us to realize that dates and times can't just be treated like ordinary numbers, particularly when it comes to doing time and date math. Times are based on cycles of 60 seconds, 60 minutes, and 24 hours. Calendars are extremely variable, with even the number of days within months varying between different months. "
   ]
  },
  {
   "cell_type": "markdown",
   "id": "71bce1f6",
   "metadata": {},
   "source": [
    "## Question: \n",
    "Answer the following question using a calendar, AND list what you would have to consider to answer the following question programmatically using standard math with no datetime classes:\n",
    "\n",
    "What date and time is it 3 days, 5 hours and 40 minutes after the following date and time:  February 27, 2024, 11:37 PM?\n",
    "    \n",
    "* \n",
    "* \n",
    "* \n"
   ]
  },
  {
   "cell_type": "markdown",
   "id": "e69d2ebc",
   "metadata": {},
   "source": [
    "This is a question about time and date math. This is something we might need to do in a computer program. For example, think about a data collection device that generates a time stamp each time data is collected. A user of that data might want to be able to easily calculate the average interval between data collections. \n",
    "\n",
    "The example below shows python code that solves the problem above programmatically. "
   ]
  },
  {
   "cell_type": "code",
   "execution_count": null,
   "id": "db92821f",
   "metadata": {},
   "outputs": [],
   "source": [
    "import datetime as dt\n",
    "\n",
    "startdate = dt.datetime(2024, 2, 27, 23, 37,0)\n",
    "print('Starting Date')\n",
    "print(startdate)\n",
    "print(type(startdate))\n",
    "print()\n",
    "\n",
    "delta = dt.timedelta(days =3, hours =5, minutes =40)\n",
    "\n",
    "enddate = startdate + delta\n",
    "print('Ending Date')\n",
    "print(enddate)\n",
    "print(type(enddate))\n",
    "print()\n",
    "\n",
    "difference = enddate-startdate\n",
    "print('Delta')\n",
    "print(difference)\n",
    "print(type(difference))\n"
   ]
  },
  {
   "cell_type": "markdown",
   "id": "be81077f",
   "metadata": {},
   "source": [
    "## Question: \n",
    "Comment the code above explaining what each line does and why it produces the observed results. If helpful, use the documentation for the datetime module. What is timedelta? How does datetime simplify what would be required to program this solution from scratch (that you listed as part of the answer to the previous question)?\n",
    "\n",
    "* \n",
    "* \n",
    "* \n",
    "\n"
   ]
  },
  {
   "cell_type": "markdown",
   "id": "c677e002",
   "metadata": {},
   "source": [
    "## Delorean, an external, specialized library\n",
    "\n",
    "So far these examples have been drawn from python's built-in libraries, which are important to understand as they provide essential functionality for writing programs covering a wide range of topics. Now we will consider an external library that is designed to extend the functionality of date time.\n",
    "\n",
    "Delorean is named after the time traveling car in the film 'Back to the Future' and in <a href = 'https://delorean.readthedocs.io/en/latest/'>its documentation</a> is described as 'time travel made easy'. This isn't something that you have to know about, it's just an example that does some fun and useful things. But first we have to install it. Some of the examples included here are lightly modified from the <a href ='https://colab.research.google.com/drive/1vK-7H4cAddK-ScddgzzxMebnvkrVfp_O?usp=sharing#scrollTo=HGLW889fRbxc'>supporting code</a> for a <a href = 'https://www.youtube.com/watch?v=-xSv-czVtys'>talk given by Kimberly Fessel, PhD in 2020</a>, which is itself derived from the Delorean documentation.\n",
    "\n",
    "Uncomment the code below and run it once, then recomment it so you aren't reinstalling every time the notebook runs:"
   ]
  },
  {
   "cell_type": "code",
   "execution_count": null,
   "id": "6f643110",
   "metadata": {},
   "outputs": [],
   "source": [
    "# pip install delorean"
   ]
  },
  {
   "cell_type": "markdown",
   "id": "98a5142a",
   "metadata": {},
   "source": [
    "Ok the first thing we are going to do is to create a Delorean object. By defaults we can use the command `Delorean()` to get the current sytem time from your computer. \n",
    "\n",
    "Or, we can create a Delorean object from an existing datetime object. \n",
    "\n",
    "In the code below we create two different Delorean objects using the two methods, and then print them out. Note that Delorean can also return a standard datetime object by calling a `.datetime` method on the Delorean object. "
   ]
  },
  {
   "cell_type": "code",
   "execution_count": null,
   "id": "e2223340",
   "metadata": {},
   "outputs": [],
   "source": [
    "from delorean import Delorean\n",
    "\n",
    "d = Delorean()\n",
    "patriotic_datetime = dt.datetime(1776, 7, 4, 12, 0, 0)\n",
    "patriotic_d = Delorean(patriotic_datetime, timezone = 'US/Eastern')\n",
    "\n",
    "print(d)\n",
    "print(type(d))\n",
    "print(d.datetime)\n",
    "print(type(d.datetime))\n",
    "print()\n",
    "print(patriotic_d)\n",
    "print(patriotic_d.datetime)"
   ]
  },
  {
   "cell_type": "markdown",
   "id": "ee91957c",
   "metadata": {},
   "source": [
    "Let's take a simplified look at the Delorean object `d`, and then that object shown with the `.datetime` method (as above) and the `.naive` method which excludes time zone information. We can also call any part of the Delorean object by referring to the datetime object wihtin it. "
   ]
  },
  {
   "cell_type": "code",
   "execution_count": null,
   "id": "fcdde698",
   "metadata": {},
   "outputs": [],
   "source": [
    "print(d)\n",
    "print()\n",
    "print(d.datetime)\n",
    "print()\n",
    "print(d.naive)\n",
    "print()\n",
    "print('Year = ', d.datetime.year)"
   ]
  },
  {
   "cell_type": "markdown",
   "id": "2adfbbd5",
   "metadata": {},
   "source": [
    " One of the advantages of Delorean is the `.shift` method which allows time zones to be easily changed. Let's apply it to the object `d` to change it to the US east coast time zone instead of UTC (Coordinated Universal Time), which is the same as Greenwich Mean time. "
   ]
  },
  {
   "cell_type": "code",
   "execution_count": null,
   "id": "85af93c5",
   "metadata": {},
   "outputs": [],
   "source": [
    "d.shift('US/Eastern')"
   ]
  },
  {
   "cell_type": "markdown",
   "id": "9002b288",
   "metadata": {},
   "source": [
    "If you are in the Eastern time zone of the US, this should look more like the time you actually ran the code a few blocks above. \n",
    "\n",
    "(If you want to see all the timezones available in python, uncomment and run the following code, although you may want to clear the results afterwards.)\n",
    "\n",
    "The standard datetime module also holds time zone information, it may seem abstract but it might be important if you were writing an application that was handling data from different parts of the world.  "
   ]
  },
  {
   "cell_type": "code",
   "execution_count": null,
   "id": "fdd57e16",
   "metadata": {},
   "outputs": [],
   "source": [
    "# import pytz             # python time zones module\n",
    "\n",
    "# pytz.all_timezones      # this will give you a list of 500+ time zones"
   ]
  },
  {
   "cell_type": "markdown",
   "id": "906fab15",
   "metadata": {},
   "source": [
    "Delorean also allows for time math that works just like what we saw in datetime. It also permits certain forms of natural language time math to be used. "
   ]
  },
  {
   "cell_type": "code",
   "execution_count": null,
   "id": "30abfdea",
   "metadata": {},
   "outputs": [],
   "source": [
    "print((d + dt.timedelta(weeks = 2)).datetime)\n",
    "\n",
    "print(d.next_tuesday().datetime)\n",
    "print(d.next_week().datetime)\n",
    "print(d.next_month().datetime)\n",
    "print(d.next_year().datetime)\n"
   ]
  },
  {
   "cell_type": "markdown",
   "id": "b21c3229",
   "metadata": {},
   "source": [
    "One very cool feature of Delorean is the `parse()` function, which allows for what is known as natural language processing of dates. "
   ]
  },
  {
   "cell_type": "code",
   "execution_count": null,
   "id": "6d0fc792",
   "metadata": {},
   "outputs": [],
   "source": [
    "from delorean import parse\n",
    "\n",
    "print(parse('november 5th, 1963 '))\n",
    "print(parse('5th november 1963 12:01 pm'))\n",
    "print(parse('11/5/63 12 pm'))\n",
    "print(parse('11/5/63 12 pm', dayfirst=False))"
   ]
  },
  {
   "cell_type": "markdown",
   "id": "2129c274",
   "metadata": {},
   "source": [
    "## Question: \n",
    "What works and doesn't work in the parsing function? Try some more things that *might* work and share your results below. \n",
    "\n",
    "* \n",
    "* \n",
    "* \n",
    "\n"
   ]
  },
  {
   "cell_type": "markdown",
   "id": "273111dd",
   "metadata": {},
   "source": [
    "A final fun feature is the `humanize()` method for a Delorean object, which attempts to turn the object into a form that makes sense in normal 'human' language. "
   ]
  },
  {
   "cell_type": "code",
   "execution_count": null,
   "id": "ab2c252f",
   "metadata": {},
   "outputs": [],
   "source": [
    "print(d.humanize())\n",
    "print(patriotic_d.humanize())"
   ]
  },
  {
   "cell_type": "markdown",
   "id": "af71c034",
   "metadata": {},
   "source": [
    "## Exercise: \n",
    "For practice create a Delorean object that represents the current time. Set it to the correct timezone. Create objects based on this object that represent various points in the past and future. Print the output of `humanize()` applied to each of these new objects to figure out how what kind of output you get for things in the near and distant past and future. "
   ]
  },
  {
   "cell_type": "code",
   "execution_count": null,
   "id": "52ea56d8",
   "metadata": {},
   "outputs": [],
   "source": [
    "#\n",
    "## Your code here\n",
    "#"
   ]
  },
  {
   "cell_type": "markdown",
   "id": "4b8b0b34",
   "metadata": {},
   "source": [
    "![Alt text that will appear on mouseover](images/TJU_logo_dummy_image.png \"Dummy image\")"
   ]
  }
 ],
 "metadata": {
  "kernelspec": {
   "display_name": "Python 3 (ipykernel)",
   "language": "python",
   "name": "python3"
  },
  "language_info": {
   "codemirror_mode": {
    "name": "ipython",
    "version": 3
   },
   "file_extension": ".py",
   "mimetype": "text/x-python",
   "name": "python",
   "nbconvert_exporter": "python",
   "pygments_lexer": "ipython3",
   "version": "3.9.12"
  }
 },
 "nbformat": 4,
 "nbformat_minor": 5
}
