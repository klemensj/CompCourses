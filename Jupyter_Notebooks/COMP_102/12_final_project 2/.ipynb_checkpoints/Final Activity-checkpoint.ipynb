{
 "cells": [
  {
   "cell_type": "markdown",
   "metadata": {},
   "source": [
    "<div align =\"right\">Thomas Jefferson University <b>COMP 103</b>: Intro to Scientific Computing</div>"
   ]
  },
  {
   "cell_type": "markdown",
   "metadata": {},
   "source": [
    "# Intro to Scientific Computing Final Project\n",
    "\n",
    "We've made it this far, congratulations! I hope at this point that you are feeling confident in your ability to deploy python and matplotlib to capture, organize and visualize data! You should feel like you have a new tool in your professional toolkit. I **also** hope that that this semester's activities have helped to reinforce some the  python skills you learned previously. The more you practice with things like loops, conditionals, and the various python data structures (lists, dictionaries, and dataframes) the less daunting they seem. As I've said many times, you can always look up the syntax again later, but every time you complete one of these notebooks you are building up base skills in computational thinking that will allow you to problem-solve in your own projects someday. \n",
    "\n",
    "So let's give you a chance to show off what you have learned!\n",
    "\n",
    "For the project we will go back to working with the Serengeti dataset. What I would like for you to do is develop your own notebook that goes through and presents insights about the Serengeti data by visualizing the data set. Keep in mind that previously we split the data set into two components - the images themselves and the data associated with each camera trap location. Some of the graphs may be better served by using one dataset rather than the other.\n",
    "\n",
    "Your answer should include AT LEAST one each of: \n",
    "\n",
    "* pie chart\n",
    "* histogram\n",
    "* bar plot\n",
    "* scatter plot \n",
    "* box plot \n",
    "* heat map \n",
    "* annotated figure\n",
    "* multi-plot layout\n",
    "\n",
    "End your notebook with a text block that **summarizes** and **describes what you learned** about the dataset from your plots, collectively. Make reference back to the individual plots you have generated.\n",
    "\n",
    "There are no right or wrong answers, but be sure to check in with the instructors about the comparisons you are planning to make, they can help guide you through appropriate comparisons. \n",
    "\n",
    "For each individual plot that you make your code should export the figure as a .pdf file named `LastName_Fig_X.pdf` where `LastName` is your last name and `X` is the number for each figure. \n",
    "\n",
    "Rurther notes: \n",
    "\n",
    "1. Some of the items above will be combined. If you annotate a scatterplot by adding a regression line that's fine. Likewise a multi-plot layout will necessarily include one of the graph types required as well. \n",
    "\n",
    "2. You may want to think about how you can create different values by combining the existing columns in different ways. For example, you may want to plot some variables or include annotations that are *summaries* of existing data.\n",
    "\n",
    "3. The camera site labels can be treated as a true grid, with letters running along one axis and numbers on the other. You'll have to split up the data somehow but it might be useful to you. \n"
   ]
  },
  {
   "cell_type": "code",
   "execution_count": 1,
   "metadata": {},
   "outputs": [],
   "source": [
    "###\n",
    "### Your code here, we really look forward to seeing what you come up with!\n",
    "###\n",
    "\n"
   ]
  },
  {
   "cell_type": "markdown",
   "metadata": {},
   "source": [
    "\n",
    "![TJU logo](images/TJU_logo_image.png \"TJU logo\")\n",
    "\n"
   ]
  }
 ],
 "metadata": {
  "kernelspec": {
   "display_name": "Python 3 (ipykernel)",
   "language": "python",
   "name": "python3"
  },
  "language_info": {
   "codemirror_mode": {
    "name": "ipython",
    "version": 3
   },
   "file_extension": ".py",
   "mimetype": "text/x-python",
   "name": "python",
   "nbconvert_exporter": "python",
   "pygments_lexer": "ipython3",
   "version": "3.9.12"
  }
 },
 "nbformat": 4,
 "nbformat_minor": 2
}
