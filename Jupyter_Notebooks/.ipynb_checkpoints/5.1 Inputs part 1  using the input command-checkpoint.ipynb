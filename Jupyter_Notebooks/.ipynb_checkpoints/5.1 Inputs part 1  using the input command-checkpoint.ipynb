{
 "cells": [
  {
   "cell_type": "markdown",
   "metadata": {},
   "source": [
    "Hey, this is the first lesson for learning how to intereact with the built-in python function, `input()`. A program is basically useless if it cannot take in external information/instructions, whether that be through a text, excel file or through direct user input (pressing a button, or typing out numbers, letters, \"yes\" or \"no\")\n",
    "\n",
    "To make this easier, let's enable line numbers by using the \"toggle line numbers\" option by clicking the keyboard-looking icon at the end of the second row (adjacent to the \"Help\" button)(Command mode `L`)\n",
    "\n",
    "Let's take a look at the structure of the `input()` function."
   ]
  },
  {
   "cell_type": "code",
   "execution_count": 1,
   "metadata": {},
   "outputs": [
    {
     "name": "stdout",
     "output_type": "stream",
     "text": [
      "Usually a question to ask the user such as...What day is it today? Sunday? Probably?Sunday\n"
     ]
    }
   ],
   "source": [
    "name_of_variable = input(\"Usually a question to ask the user such as...What day is it today? Sunday? Probably?\")"
   ]
  },
  {
   "cell_type": "markdown",
   "metadata": {},
   "source": [
    "Now let's retrieve what's inside 'name_of_variable'"
   ]
  },
  {
   "cell_type": "code",
   "execution_count": 2,
   "metadata": {},
   "outputs": [
    {
     "name": "stdout",
     "output_type": "stream",
     "text": [
      "Sunday\n"
     ]
    }
   ],
   "source": [
    "print(name_of_variable)"
   ]
  },
  {
   "cell_type": "markdown",
   "metadata": {},
   "source": [
    "Now it's your turn to use the `input()` function. Take in someone's first and last name and save them to seperate variables. Prompt the user with something like \"Hey user! What's your first name? \" and \"What's your last name? \".\n",
    "\n",
    "Then pretend you are this student, and type in the information in the prompt that you just wrote:\n",
    "```\n",
    "First name: Bob\n",
    "Last name: Smith\n",
    "```"
   ]
  },
  {
   "cell_type": "code",
   "execution_count": null,
   "metadata": {},
   "outputs": [],
   "source": [
    "first_name\n",
    "last_name\n",
    "\n",
    "print (\"Hello\" + first_name + \" \" + last_name)"
   ]
  },
  {
   "cell_type": "markdown",
   "metadata": {},
   "source": [
    "Great, now let's combine the power of `input()` and a for-loop. Copy this DNA sequence and paste it into the prompt. A program will then use what was given to it and calculate GC-content, which is the percentage of guanine or cytosine bases.\n",
    "```\n",
    "ACAAGATGCCATTGTCCCCCGGCCTCCTGCTGCTGCTGCTCTCCGGGGCCACGGCCACCGCTGCCCTGCC\n",
    "CCTGGAGGGTGGCCCCACCGGCCGAGACAGCGAGCATATGCAGGAAGCGGCAGGAATAAGGAAAAGCAGC\n",
    "CTCCTGACTTTCCTCGCTTGGTGGTTTGAGTGGACCTCCCAGGCCAGTGCCGGGCCCCTCATAGGAGAGG\n",
    "AAGCTCGGGAGGTGGCCAGGCGGCAGGAAGGCGCACCCCCCCAGCAATCCGCGCGCCGGGACAGAATGCC\n",
    "CTGCAGGAACTTCTTCTGGAAGACCTTCTCCTCCTGCAAATAAAACCTCACCCATGAATGCTCACGCAAG\n",
    "TTTAATTACAGACCTGAA\n",
    "```"
   ]
  },
  {
   "cell_type": "code",
   "execution_count": 3,
   "metadata": {},
   "outputs": [
    {
     "name": "stdout",
     "output_type": "stream",
     "text": [
      "Give me DNA nom nom nomACAAGATGCCATTGTCCCCCGGCCTCCTGCTGCTGCTGCTCTCCGGGGCCACGGCCACCGCTGCCCTGCC CCTGGAGGGTGGCCCCACCGGCCGAGACAGCGAGCATATGCAGGAAGCGGCAGGAATAAGGAAAAGCAGC CTCCTGACTTTCCTCGCTTGGTGGTTTGAGTGGACCTCCCAGGCCAGTGCCGGGCCCCTCATAGGAGAGG AAGCTCGGGAGGTGGCCAGGCGGCAGGAAGGCGCACCCCCCCAGCAATCCGCGCGCCGGGACAGAATGCC CTGCAGGAACTTCTTCTGGAAGACCTTCTCCTCCTGCAAATAAAACCTCACCCATGAATGCTCACGCAAG TTTAATTACAGACCTGAA\n",
      "0.6112600536193029\n"
     ]
    }
   ],
   "source": [
    "DNA = input(\"Give me DNA nom nom nom\")\n",
    "\n",
    "count = 0\n",
    "count2 = 0\n",
    "\n",
    "for i in range(len(DNA)):\n",
    "    if DNA[i] == \"C\":\n",
    "        count += 1\n",
    "        \n",
    "for j in range(len(DNA)):\n",
    "    if DNA[j] == \"G\":\n",
    "        count2 += 1\n",
    "\n",
    "\n",
    "CG_ratio = (count + count2)/len(DNA)\n",
    "\n",
    "print(CG_ratio)"
   ]
  },
  {
   "cell_type": "markdown",
   "metadata": {},
   "source": []
  },
  {
   "cell_type": "markdown",
   "metadata": {},
   "source": [
    "Not sure why that's there ^^^"
   ]
  }
 ],
 "metadata": {
  "kernelspec": {
   "display_name": "Python 3",
   "language": "python",
   "name": "python3"
  },
  "language_info": {
   "codemirror_mode": {
    "name": "ipython",
    "version": 3
   },
   "file_extension": ".py",
   "mimetype": "text/x-python",
   "name": "python",
   "nbconvert_exporter": "python",
   "pygments_lexer": "ipython3",
   "version": "3.6.4"
  }
 },
 "nbformat": 4,
 "nbformat_minor": 2
}
