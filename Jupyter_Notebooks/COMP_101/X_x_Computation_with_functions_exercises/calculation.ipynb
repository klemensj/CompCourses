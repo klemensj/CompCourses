{
 "cells": [
  {
   "cell_type": "markdown",
   "metadata": {
    "deletable": false,
    "editable": false
   },
   "source": [
    "<div align =\"right\">Thomas Jefferson University **COMP 101**: Coding for beginners</div>"
   ]
  },
  {
   "cell_type": "markdown",
   "metadata": {
    "deletable": false,
    "editable": false
   },
   "source": [
    "# 3. Calculation Exercises\n",
    "\n",
    "The problems in this problem set will probably be a little bit easier than the text-based problems. Using code to do math may be a bit more intuitive. This will let us focus on the idea of passing information in and out of functions without worrying so much about the puzzle-solving aspect.\n",
    "\n",
    "## 1. Simple Volume Calculator\n",
    "\n",
    "Write a function that takes any three numbers and returns the volume of a block with those sides. "
   ]
  },
  {
   "cell_type": "code",
   "execution_count": 5,
   "metadata": {
    "deletable": false
   },
   "outputs": [],
   "source": [
    "def block_volume(x,y,z):\n",
    "    #\n",
    "    V= x*y*z## Your Code Here, you'll need to calculate the volume, and assign it to something that can be returned\n",
    "    #\n",
    "    return V# What are you returning from the function?"
   ]
  },
  {
   "cell_type": "code",
   "execution_count": 6,
   "metadata": {
    "deletable": false,
    "editable": false
   },
   "outputs": [
    {
     "name": "stdout",
     "output_type": "stream",
     "text": [
      "Congratulations, your function worked!\n"
     ]
    }
   ],
   "source": [
    "assert block_volume(3,3,3) == 27\n",
    "assert block_volume(3,2,3) == 18\n",
    "assert block_volume(3,2,1) == 6\n",
    "print(\"Congratulations, your function worked!\")"
   ]
  },
  {
   "cell_type": "markdown",
   "metadata": {
    "deletable": false,
    "editable": false
   },
   "source": [
    "## 2. Calling a function from within another function\n",
    "\n",
    "Since we have defined `block_volume`, we can now call it from other cells (in fact we called it from the cell with the assert statements above). Let's try writing a new function that uses `block_volume` to find the total volume of some number of bricks given brick size. This function will take the volume argument, and the number of bricks, and return a total volume. So first let's think about what it means to \"call\" a function. In the example below, we have a print statement, but instead of printing text or a variable, we are simply printing the result of running `block_volume` given a specific set of parameters."
   ]
  },
  {
   "cell_type": "code",
   "execution_count": null,
   "metadata": {
    "deletable": false
   },
   "outputs": [],
   "source": [
    "  print(block_volume(64,73,91)) #replace with any numbers and click `Run`.  "
   ]
  },
  {
   "cell_type": "markdown",
   "metadata": {
    "deletable": false,
    "editable": false
   },
   "source": [
    "Now let's set up a function that will use that function:"
   ]
  },
  {
   "cell_type": "code",
   "execution_count": null,
   "metadata": {
    "deletable": false
   },
   "outputs": [],
   "source": [
    "def total_volume(side1, side2, side3, number): #notice that this function takes 4 arguments\n",
    "                                               # 1 for each block side and 1 for the number of blocks\n",
    "                                               # just as in the first function, each of these arguments\n",
    "                                               # is available to be used as a variable in the function\n",
    "                        \n",
    "    total_V = number * #complete this line with code that will perform the calculation \n",
    "                       # by calling the function block_volume\n",
    "        \n",
    "    return total_V   #running this function returns the total volume  "
   ]
  },
  {
   "cell_type": "code",
   "execution_count": null,
   "metadata": {},
   "outputs": [],
   "source": [
    "assert total_volume(3,3,3,6) == 162\n",
    "assert total_volume(3,2,3,20) == 360\n",
    "assert total_volume(3,2,1,400) == 2400\n",
    "print(\"Congratulations, your function worked!\")"
   ]
  },
  {
   "cell_type": "markdown",
   "metadata": {
    "deletable": false,
    "editable": false
   },
   "source": [
    "## 3. Combining if-then statements and calculations\n",
    "\n",
    "Let's write a program to calculate the difference between two numbers. But let's do it in a smart way, so that we always subtract the smaller number from the larger number. Our function will be based on what is known as an <i>if...then...else</i> statement. Here's an example program to remind you how they work. \n",
    "```\n",
    "if x > 10:\n",
    "    print(\"This number is greater than 10 :^)\")\n",
    "else:\n",
    "    print(\"This number is not greater than 10 :^(\")\n",
    "```\n",
    "The `if` component asks a question that has a true or false answer. If the statement returns as true, we execute the code that follows the `if` (the <i>then</i> component of <i>if...then...else</i>. If the statement returns as false, we skip ahead to the code that follows the `else` statement. \n",
    "\n",
    "So for our function let's take two numbers as arguments, and if number 1 is greater than number 2, we will subtract number 2 from number 1. If number 1 is less than number 2, we will do the opposite. "
   ]
  },
  {
   "cell_type": "code",
   "execution_count": null,
   "metadata": {
    "deletable": false
   },
   "outputs": [],
   "source": [
    "def difference(num1,num2):\n",
    "    #\n",
    "    ## add an if then statement here\n",
    "    #\n",
    "    return  ### add what you are returning from this function "
   ]
  },
  {
   "cell_type": "code",
   "execution_count": null,
   "metadata": {
    "deletable": false,
    "editable": false
   },
   "outputs": [],
   "source": [
    "assert difference(85,65) == 20\n",
    "assert difference(65,85) == 20\n",
    "assert difference(5237,5237) == 0\n",
    "print(\"Congratulations, your function worked!\")"
   ]
  },
  {
   "cell_type": "markdown",
   "metadata": {
    "deletable": false,
    "editable": false
   },
   "source": [
    "Ok, now let's add one twist. Let's change our program up above so that instead of returning 0 if our numbers are the same, let's return the text \"No difference!\" \n",
    "\n",
    "To do that, we can use a related statement <i>if...elif...else</i>. These work exactly the same way as <i>if...then...else</i>, except it allows for additional true/false tests after the initial `if` statement. Here's an example.\n",
    "```\n",
    "if x > 10:\n",
    "    print(\"This number is greater than 10 :^)\")\n",
    "elif x = 10:\n",
    "    print(\"This number is exactly 10!!!\")\n",
    "else:\n",
    "    print(\"This number is not greater than 10 :^(\")\n",
    "```\n",
    "The `elif` component also asks a question that has a true or false answer, and the code that follows the `else` therefore executes if neither the `if` nor the `elif` statement evaluate as true. \n",
    "\n",
    "Write a new function using an <i>if...elif...else</i> statement below and test it by running it and then running the assert block beneath it. Remember that if there is no difference you should return the string: \"No difference!\"\n"
   ]
  },
  {
   "cell_type": "code",
   "execution_count": null,
   "metadata": {
    "deletable": false
   },
   "outputs": [],
   "source": [
    "def difference2(num1,num2):\n",
    "    #\n",
    "    ## add an if elif else statement here\n",
    "    #\n",
    "    return  ### add what you are returning from this function "
   ]
  },
  {
   "cell_type": "code",
   "execution_count": null,
   "metadata": {
    "deletable": false,
    "editable": false
   },
   "outputs": [],
   "source": [
    "assert difference2(85,65) == 20\n",
    "assert difference2(65,85) == 20\n",
    "assert difference2(5237,5237) == \"No difference!\"\n",
    "print(\"Congratulations, your function worked!\")"
   ]
  },
  {
   "cell_type": "markdown",
   "metadata": {
    "deletable": false,
    "editable": false
   },
   "source": [
    "## 4. Loops and Calculations \n",
    "\n",
    "There are two major types of loops that we will use in python, `while` loops and  `for` loops. Loops are used when we want to perform the same operation many times over. This can be used to repeat a set of operations on a single starting input, or can be used to perform the same operation on every item in a vector, list, or string. \n",
    "\n",
    "**While loops** are used to tell a program to keep doing something until a condition is met. This can be very useful in performing calculations, for example when we are estimating something and want to stop when we are 'close enough' to the answer. They can also be used in controling many other aspects of what a program is supposed to do. While loops are often used in conjunction with counters. Counters are variables that are *iterated* each time the code within the loop runs. In practice that means an integer that we  add one to or subtract one from. Here are some examples:"
   ]
  },
  {
   "cell_type": "code",
   "execution_count": null,
   "metadata": {
    "deletable": false,
    "editable": false
   },
   "outputs": [],
   "source": [
    "                        #This program finds all the numbers that are divisible by 13 between 1 and 100 \n",
    "i = 1                   # Define a variable, i,  to serve as a counter and set its value to 1\n",
    "while i <= 100:\n",
    "    if i % 13 == 0:     # the true or false statement here uses modulo division,                        \n",
    "        print(i)        # which gives the remainder of a division problem. so 4 % 2 = 0 but 4 % 3 = 1\n",
    "    i = i + 1           # Iterate i. This code can also be written as i += 1"
   ]
  },
  {
   "cell_type": "markdown",
   "metadata": {
    "deletable": false,
    "editable": false
   },
   "source": [
    "**For loops** are used to tell a program to do something to every item in a set of items, whether that be a list, a string, a vector. They are also very useful in a variety of circumstances. Here are some examples:"
   ]
  },
  {
   "cell_type": "code",
   "execution_count": null,
   "metadata": {
    "deletable": false
   },
   "outputs": [],
   "source": [
    "num_list = [10,15,20,25,30]\n",
    "for num in num_list:           # 'num' is a variable we use to represent each number in the list as it is passed\n",
    "    print(num - 1)             # to the code contained within the loop. We could have used 'i' and the code\n",
    "                               # would have worked the same. Try changing 'num' to 'i'"
   ]
  },
  {
   "cell_type": "markdown",
   "metadata": {},
   "source": [
    "Notice that here 'num' takes on the value of each item in the list, and the code acts on each of those values.\n",
    "\n",
    "For loops and While loops can often be used interchangably. In the example below we do exactly what we did with a while loop, but we set it up as a for loop instead. "
   ]
  },
  {
   "cell_type": "code",
   "execution_count": 7,
   "metadata": {
    "deletable": false,
    "editable": false
   },
   "outputs": [
    {
     "name": "stdout",
     "output_type": "stream",
     "text": [
      "13\n",
      "26\n",
      "39\n",
      "52\n",
      "65\n",
      "78\n",
      "91\n"
     ]
    }
   ],
   "source": [
    "for i in range(1,101):     # range(x,y) implies the set of numbers between x and y-1\n",
    "    if i % 13 == 0:                           \n",
    "        print(i)        \n",
    "#    i = i + 1             # notice that one difference is that we don't need the iteration step with a for loop  \n",
    "                           # the for loop uses the if statement to test each integer in the designated range  "
   ]
  },
  {
   "cell_type": "markdown",
   "metadata": {
    "deletable": false,
    "editable": false
   },
   "source": [
    "As a final exercise, let's use a `while` loop to do something actually useful. We are going to write a program that will estimate the square root of any number to within 0.000000001. The ancient Babylonians had a method for estimating the square root of a number that goes like this. \n",
    "    1. To find the square root of S, make a guess, x, that you think might be close\n",
    "    2. Take the average of x and S/x, and replace your original guess with this \"improved\" guess.\n",
    "    3. If the square of this number is 'close enough' to S, then stop\n",
    "    4. If it isn't close enough, repeat from step 2 with your new guess\n",
    "    \n",
    "We can use this as a pseudocode outline for writing this as a function in code. Hopefully you can see how a while loop will be useful here. We can tell the program <i>while our estimate is too far away, continue refining the estimate</i>. I have given you the code to take user input and the body of the algorithm.\n"
   ]
  },
  {
   "cell_type": "code",
   "execution_count": null,
   "metadata": {
    "deletable": false
   },
   "outputs": [],
   "source": [
    "S = float(input(\"Enter the number S for which you want the square root: \"))  \n",
    "x = float(input(\"Enter your best guess for the square root of S: \")) \n",
    "\n",
    "while                      # fill in the while condition to make this program run\n",
    "    new_x = (x + S/x)/2    # these two lines represent step 2. of the pseudocode above\n",
    "    x = new_x\n",
    "\n",
    "print(\"The square root of S is approximately: \" + str(x) + \" ± 0.000000001\")\n",
    "          "
   ]
  },
  {
   "cell_type": "markdown",
   "metadata": {
    "deletable": false,
    "editable": false
   },
   "source": [
    "Check your results with a calculator. Make some really bad guesses and see if that changes your result. For an additional challenge, see if you can get the program to output how many times through the loop it took to get the answer. *Hint: use a counter*"
   ]
  }
 ],
 "metadata": {
  "kernelspec": {
   "display_name": "Python 3",
   "language": "python",
   "name": "python3"
  },
  "language_info": {
   "codemirror_mode": {
    "name": "ipython",
    "version": 3
   },
   "file_extension": ".py",
   "mimetype": "text/x-python",
   "name": "python",
   "nbconvert_exporter": "python",
   "pygments_lexer": "ipython3",
   "version": "3.6.4"
  }
 },
 "nbformat": 4,
 "nbformat_minor": 2
}
