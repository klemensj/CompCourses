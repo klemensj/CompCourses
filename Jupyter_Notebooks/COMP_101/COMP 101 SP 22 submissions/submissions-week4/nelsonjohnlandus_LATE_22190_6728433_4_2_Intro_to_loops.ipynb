{
 "cells": [
  {
   "cell_type": "markdown",
   "metadata": {},
   "source": [
    "<div align =\"right\">Thomas Jefferson University <b>COMP 101</b>: Intro to Coding</div>"
   ]
  },
  {
   "cell_type": "markdown",
   "metadata": {
    "tags": []
   },
   "source": [
    "# Introduction to Loops\n",
    "\n",
    "A **loop** in a piece of code is a major component of *control flow*. Essentially, a loop is an instruction that repeats until a specified condition is reached. In a loop structure, the loop asks a question. If the answer to that question is `True`, the action specified by the loop is executed. The same question is asked again and again until no further action is required. Each time the question is asked is called an iteration. \n",
    "\n",
    "\n",
    "If we need to execute same block of code many times, we can use a loop to save time."
   ]
  },
  {
   "cell_type": "markdown",
   "metadata": {
    "tags": []
   },
   "source": [
    "There are two types of loops, the `while` loop and the `for` loop. \n",
    "\n",
    "The `While` Loop is used to repeat a block of code. Instead of running the code block once, It executes the code block multiple times until a certain condition is met. \n",
    "\n",
    "The `For` loop is used to iterate over elements of a sequence. By a sequence, we mean the elements contained within an iterable object. It is often used when you have a piece of code which you want to repeat “n” number of times.\n",
    "\n",
    "### Question\n",
    "Which data types that we have learned about so far represent *iterable* objects?"
   ]
  },
  {
   "cell_type": "markdown",
   "metadata": {},
   "source": [
    "Double click on this text to add your answer here:\n",
    "\n",
    "- \n",
    "- \n",
    "- \n",
    "-"
   ]
  },
  {
   "cell_type": "markdown",
   "metadata": {
    "tags": []
   },
   "source": [
    "## The while loop\n",
    "\n",
    "The `while` loop in Python tells the computer to do something as long as a given condition is met. It’s construct consists of a condition (a logical statement) and a code block. It is very similar in structure to an if-then statement.\n",
    "\n",
    "Between `while` and the `:`, there is a logical statement that first is `True` but will later become `False` based on the actions that are executed by the code block.\n",
    "\n",
    "The condition is evaluated, and *while* the condition is true, the code within the block is executed. As part of that execution, the condition is updated or adjusted. \n",
    "\n",
    "As long as the statement is True , the rest of the code block will run.\n",
    "\n",
    "In pseudocode it looks like this:\n",
    "```\n",
    "while some condition is True:\n",
    "    do this\n",
    "    update the condition based on results\n",
    "```"
   ]
  },
  {
   "cell_type": "code",
   "execution_count": null,
   "metadata": {
    "deletable": false,
    "tags": []
   },
   "outputs": [],
   "source": [
    "### Example #1\n",
    "\n",
    "i = 1                # starting with 1 sets the initial value of our condition\n",
    "                     ## this `initialization` takes place outside the loop\n",
    "                     ## but is critically important\n",
    "\n",
    "while i <= 10:       # evaluates \"is i ≤ to 10\", stops if the answer is False\n",
    "    print(i)         # prints the current value of i\n",
    "    i += 1           # updates the value associated with the condition"
   ]
  },
  {
   "cell_type": "markdown",
   "metadata": {
    "tags": []
   },
   "source": [
    "Note that we have added a brand-new mathematical operator in the code of our loop, `+=`. This is another kind of **assignment operator**. The first assignment operator we learned was the equal sign `=`. What this assignment operator does is change the variable by the amount shown on the right side of the equation. You can see how this might be very useful in the context of a loop. \n",
    "\n",
    "`+=` adds a number to a variable, changing the variable itself in the process. \n",
    "`-=` subtracts a value from variable, setting the variable to the result\n",
    "\n",
    "There are other similar operators, `*=`, `/=`, `//=`, `%=`, and `**=` exist, but are less commonly used."
   ]
  },
  {
   "cell_type": "markdown",
   "metadata": {
    "tags": []
   },
   "source": [
    "### Exercise #1 - while with iteration of numbers\n",
    "\n",
    "Print out all numbers between 10 and 50 in increment of 7 using a `while` loop and the `print()` function. "
   ]
  },
  {
   "cell_type": "code",
   "execution_count": null,
   "metadata": {},
   "outputs": [],
   "source": [
    "#\n",
    "# Your Code here\n",
    "#"
   ]
  },
  {
   "cell_type": "markdown",
   "metadata": {
    "tags": []
   },
   "source": [
    "### Exercise #2 - while with iteration in a list\n",
    "\n",
    "Print out each element from the list using a `while` loop and the `print()` function. "
   ]
  },
  {
   "cell_type": "code",
   "execution_count": null,
   "metadata": {
    "tags": []
   },
   "outputs": [],
   "source": [
    "### Example #2\n",
    "\n",
    "browsers = [\"Safari\", \"Firefox\", \"Google Chrome\"]\n",
    "i = 0\n",
    "while              # \n",
    "                   # your code here\n",
    "                   # "
   ]
  },
  {
   "cell_type": "markdown",
   "metadata": {
    "tags": []
   },
   "source": [
    "## The for loop\n",
    "\n",
    "For loops in Python allow us to iterate over elements of a sequence, it is often used when you have a piece of code which you want to repeat “n” number of time.\n",
    "\n",
    "The for loop syntex as pseudocode is:\n",
    "```\n",
    "for i in iterable:   # where i is a variable that represents \n",
    "    do this          ## the elements of the iterable\n",
    "    do this\n",
    "```"
   ]
  },
  {
   "cell_type": "code",
   "execution_count": null,
   "metadata": {
    "tags": []
   },
   "outputs": [],
   "source": [
    "# Example #3a\n",
    "\n",
    "browsers = [\"Safari\", \"Firefox\", \"Chrome\", \"Edge\"]\n",
    "for browser in browsers:\n",
    "    print(browser)\n",
    "print()\n",
    "    \n",
    "# Example #3b\n",
    "numbers = [1,10,20,30,40,50]\n",
    "my_sum = 0\n",
    "for number in numbers:\n",
    "    my_sum = my_sum + number\n",
    "print('The sum of all nubmers is', sum)\n",
    "print()\n",
    "\n",
    "# Example #3c\n",
    "word = \"python\"\n",
    "for letter in word:\n",
    "    print(letter.upper())\n"
   ]
  },
  {
   "cell_type": "markdown",
   "metadata": {
    "jp-MarkdownHeadingCollapsed": true,
    "tags": []
   },
   "source": [
    "A final note. In some of the previous examples we have used `i` to designate each element of the list within the code block and in the for statement itself. However `i` is just a variable functioning within the loop. The letter i is used by convention  to make them easier for another user to interpret. But the choice of variable name has no meaning. In example #3b above we could for example write\n",
    "```\n",
    "for jelly_donut in numbers:\n",
    "    my_sum = my_sum + jelly_donut\n",
    "``` \n",
    "and it would work exactly the same way as if we used `number` or `i`.\n",
    "\n",
    "### range() function\n",
    "\n",
    "In a `for` loop, we are looping through each element in a list and process the element accordingly.\n",
    "\n",
    "In the previous examples, we are also given, explicitly, a list to work with. What if we need to loop over a set of numbers, say from 10 to 50?\n",
    "\n",
    "We can use the `range()` function to accomplish this very easily. \n",
    "\n",
    "The `range()` function generates a list containing numbers, like 0, 1, 2, 3, that we specify inside the range. \n",
    "\n",
    "The `range()` function takes on up to 3 arguments. \n",
    "   `range(stop)`\n",
    "   `range(start, stop)`\n",
    "   `range(start, stop, step)`\n",
    "\n",
    "The given end point is never part of the generated list. The default step is 1.\n",
    "\n",
    "You can reverse the order by using `reversed(range())`"
   ]
  },
  {
   "cell_type": "code",
   "execution_count": 1,
   "metadata": {
    "tags": []
   },
   "outputs": [
    {
     "name": "stdout",
     "output_type": "stream",
     "text": [
      "[0, 1, 2, 3, 4, 5, 6, 7, 8, 9]\n",
      "[1, 2, 3, 4, 5, 6, 7, 8, 9]\n",
      "[1, 4, 7]\n",
      "[10, 9, 8, 7, 6, 5, 4, 3, 2, 1]\n",
      "[9, 8, 7, 6, 5, 4, 3, 2, 1, 0]\n"
     ]
    },
    {
     "ename": "TypeError",
     "evalue": "'float' object cannot be interpreted as an integer",
     "output_type": "error",
     "traceback": [
      "\u001b[0;31m---------------------------------------------------------------------------\u001b[0m",
      "\u001b[0;31mTypeError\u001b[0m                                 Traceback (most recent call last)",
      "\u001b[0;32m<ipython-input-1-01979851a72e>\u001b[0m in \u001b[0;36m<module>\u001b[0;34m\u001b[0m\n\u001b[1;32m      4\u001b[0m \u001b[0mprint\u001b[0m\u001b[0;34m(\u001b[0m\u001b[0mlist\u001b[0m\u001b[0;34m(\u001b[0m\u001b[0mrange\u001b[0m\u001b[0;34m(\u001b[0m\u001b[0;36m10\u001b[0m\u001b[0;34m,\u001b[0m\u001b[0;36m0\u001b[0m\u001b[0;34m,\u001b[0m\u001b[0;34m-\u001b[0m\u001b[0;36m1\u001b[0m\u001b[0;34m)\u001b[0m\u001b[0;34m)\u001b[0m\u001b[0;34m)\u001b[0m\u001b[0;34m\u001b[0m\u001b[0;34m\u001b[0m\u001b[0m\n\u001b[1;32m      5\u001b[0m \u001b[0mprint\u001b[0m\u001b[0;34m(\u001b[0m\u001b[0mlist\u001b[0m\u001b[0;34m(\u001b[0m\u001b[0mreversed\u001b[0m\u001b[0;34m(\u001b[0m\u001b[0mrange\u001b[0m\u001b[0;34m(\u001b[0m\u001b[0;36m10\u001b[0m\u001b[0;34m)\u001b[0m\u001b[0;34m)\u001b[0m\u001b[0;34m)\u001b[0m\u001b[0;34m)\u001b[0m\u001b[0;34m\u001b[0m\u001b[0;34m\u001b[0m\u001b[0m\n\u001b[0;32m----> 6\u001b[0;31m \u001b[0mprint\u001b[0m\u001b[0;34m(\u001b[0m\u001b[0mlist\u001b[0m\u001b[0;34m(\u001b[0m\u001b[0mrange\u001b[0m\u001b[0;34m(\u001b[0m\u001b[0;36m1\u001b[0m\u001b[0;34m,\u001b[0m\u001b[0;36m3\u001b[0m\u001b[0;34m,\u001b[0m\u001b[0;36m0.5\u001b[0m\u001b[0;34m)\u001b[0m\u001b[0;34m)\u001b[0m\u001b[0;34m)\u001b[0m\u001b[0;34m\u001b[0m\u001b[0;34m\u001b[0m\u001b[0m\n\u001b[0m",
      "\u001b[0;31mTypeError\u001b[0m: 'float' object cannot be interpreted as an integer"
     ]
    }
   ],
   "source": [
    "print(list(range(10)))\n",
    "print(list(range(1,10)))\n",
    "print(list(range(1,10,3)))\n",
    "print(list(range(10,0,-1)))\n",
    "print(list(reversed(range(10))))\n",
    "print(list(range(1,3,0.5)))"
   ]
  },
  {
   "cell_type": "markdown",
   "metadata": {
    "tags": []
   },
   "source": [
    "### Exercise #3a on for loop and range\n",
    "\n",
    "Rewrite the code for Example #1 using `for` loop and `range()` function"
   ]
  },
  {
   "cell_type": "code",
   "execution_count": null,
   "metadata": {
    "tags": []
   },
   "outputs": [],
   "source": [
    "#\n",
    "# Your code here\n",
    "#"
   ]
  },
  {
   "cell_type": "markdown",
   "metadata": {
    "tags": []
   },
   "source": [
    "### Exercise #3b on for loop and range\n",
    "\n",
    "Rewrite the code for Exercise #1 using `for` loop and `range()` function"
   ]
  },
  {
   "cell_type": "code",
   "execution_count": null,
   "metadata": {
    "tags": []
   },
   "outputs": [],
   "source": [
    "#\n",
    "# Your code here\n",
    "#"
   ]
  },
  {
   "cell_type": "markdown",
   "metadata": {
    "tags": []
   },
   "source": [
    "### Exercise #4 Nest a logical comparison inside a loop\n",
    "Of course `print()` is not the only code you can execute in a loop. Write a code that will print out the total number of positive even numbers less than 100"
   ]
  },
  {
   "cell_type": "code",
   "execution_count": null,
   "metadata": {
    "tags": []
   },
   "outputs": [],
   "source": [
    "#\n",
    "# Your code here\n",
    "#"
   ]
  },
  {
   "cell_type": "markdown",
   "metadata": {
    "tags": []
   },
   "source": [
    "### Exercise #5 Summary Exercise\n",
    "Write a code that will print out the complementry strand of DNA."
   ]
  },
  {
   "cell_type": "code",
   "execution_count": null,
   "metadata": {
    "tags": []
   },
   "outputs": [],
   "source": [
    "mydna = 'AGUGGCUAUUACUACAUGCCGAAGUUCCUUAAAUUUAACUUACCAGGCUUAACCGGAUGAUGAUUAUUAUUACCUUAAUUUUA'\n",
    "\n",
    "#\n",
    "# Your code here\n",
    "#"
   ]
  },
  {
   "cell_type": "markdown",
   "metadata": {},
   "source": [
    "# Summary\n",
    "\n",
    "The `for` loops is used when you have definite iteration (the number of iterations is known), such as an iterable object (e.g. lists, strings) or a generator function (e.g. `range()`).\n",
    "\n",
    "The `while` loop simply loops until a condition is False, i.e. the data structure is not tidy to enough to loop through, or there isn't a generator function that can be used.\n"
   ]
  },
  {
   "cell_type": "code",
   "execution_count": null,
   "metadata": {
    "tags": []
   },
   "outputs": [],
   "source": [
    "#\n",
    "# An better example of while loop\n",
    "#\n",
    "tolerance = 0.0000001\n",
    "n = 1\n",
    "current_sum = 0\n",
    "prev_sum = 0\n",
    "delta = 1\n",
    "\n",
    "while delta > tolerance:\n",
    "    current_sum += 1/2**n\n",
    "    delta = abs(current_sum - prev_sum)\n",
    "    prev_sum = current_sum\n",
    "    n += 1\n",
    "\n",
    "print(n, current_sum)"
   ]
  },
  {
   "cell_type": "markdown",
   "metadata": {},
   "source": [
    "\n",
    "![Alt text that will appear on mouseover](images/TJU_logo_dummy_image.png \"Dummy image\")\n"
   ]
  }
 ],
 "metadata": {
  "kernelspec": {
   "display_name": "Python 3 (ipykernel)",
   "language": "python",
   "name": "python3"
  },
  "language_info": {
   "codemirror_mode": {
    "name": "ipython",
    "version": 3
   },
   "file_extension": ".py",
   "mimetype": "text/x-python",
   "name": "python",
   "nbconvert_exporter": "python",
   "pygments_lexer": "ipython3",
   "version": "3.9.7"
  },
  "toc-showcode": false,
  "toc-showmarkdowntxt": false,
  "toc-showtags": false
 },
 "nbformat": 4,
 "nbformat_minor": 4
}
