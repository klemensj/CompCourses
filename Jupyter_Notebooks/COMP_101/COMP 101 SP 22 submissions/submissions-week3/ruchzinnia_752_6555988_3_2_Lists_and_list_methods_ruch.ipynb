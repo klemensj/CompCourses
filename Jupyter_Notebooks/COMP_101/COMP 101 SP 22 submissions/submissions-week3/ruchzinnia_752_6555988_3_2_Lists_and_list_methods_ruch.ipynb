{
 "cells": [
  {
   "cell_type": "markdown",
   "metadata": {},
   "source": [
    "<div align =\"right\">Thomas Jefferson University <b>COMP 101</b>: Intro to Coding</div> <b>Zin Ruch</b>"
   ]
  },
  {
   "cell_type": "markdown",
   "metadata": {},
   "source": [
    "# Lists and List methods\n",
    "\n",
    "Lists are very important data type in python. Lists hold a sequence of data - so understanding lists lets us edge closer to what we often use computers for when programming in the sciences - performing the same operations over and over again on a number of pieces of data.  \n",
    "\n",
    "## List Basics\n",
    "\n",
    "Lists as variables are defined similarly to how we define strings, with the main difference being that square brackets `[]` are used instead of quotes `''` or `\"\"` to contain the data. A few major defining characteristics of lists is that: \n",
    "* lists are a data type that can hold different data types, including integers, floats, strings, or other lists\n",
    "* like strings, lists are an interable data type with an index that starts at 0\n",
    "* there are many useful functions and methods that can be performed on a list, including appending new items to the list and changing the values held by the list \n",
    "* values held within a list can be easily changed of updated in the course of running a program, so they can easily hold calculations performed by a program \n",
    "\n",
    "In the code example below, we show the formulation of a list holding a patients sex, age, height in inches, weight, and smoking status. Then we change a value in the list using the index. At the end we print out value and the variable type as we have done for other types. Everything in the code below should make sense before you proceed."
   ]
  },
  {
   "cell_type": "code",
   "execution_count": 1,
   "metadata": {},
   "outputs": [
    {
     "name": "stdout",
     "output_type": "stream",
     "text": [
      "['male', 39, 70, 175, 'non-smoker']\n",
      "<class 'list'>\n"
     ]
    }
   ],
   "source": [
    "patient_4 = [\"male\", 38, 70, 175, \"non-smoker\"]     # defines our example list, note square brackets[]\n",
    "                                                    ## note that the list contains numbers and strings \n",
    "    \n",
    "patient_4[1] = 39                                   ## the patient got older,  update the value for age!\n",
    "\n",
    "print(patient_4)\n",
    "print(type(patient_4)) "
   ]
  },
  {
   "cell_type": "markdown",
   "metadata": {},
   "source": [
    "Basic concatenation functions like with saw with strings also work with lists, and rely on the mathematical operators to function. Mathematical operations can be performed on elements held within lists:"
   ]
  },
  {
   "cell_type": "code",
   "execution_count": 2,
   "metadata": {},
   "outputs": [
    {
     "name": "stdout",
     "output_type": "stream",
     "text": [
      "<class 'list'> <class 'list'>\n",
      "c = [1, 2, 3, 4, 5, 1, 1, 1, 1, 1]\n",
      "d = [1, 1, 1, 1, 1, 1, 1, 1, 1, 1, 1, 1, 1, 1, 1, 1, 1, 1, 1, 1, 1, 1, 1, 1, 1]\n",
      "\n",
      "<class 'int'>\n",
      "e = 15\n"
     ]
    }
   ],
   "source": [
    "a = [1,2,3,4,5]        # Create two lists\n",
    "b = [1,1,1,1,1]\n",
    "c = a + b              # What do you predict c and d will be\n",
    "d = b * 5              ##  What type of variables will they be\n",
    "\n",
    "print(type(c),type(d))\n",
    "print('c = ' + str(c))\n",
    "print('d = ' + str(d))\n",
    "print()\n",
    "\n",
    "e = a[2]*5             # How about here?\n",
    "print(type(e))         ## What type of value is being generated\n",
    "print('e = ' + str(e))          \n"
   ]
  },
  {
   "cell_type": "markdown",
   "metadata": {},
   "source": [
    "### Question\n",
    "What have we learned about lists from the two code windows above? There is no specifically right or wrong answer here, just write what stands out to you."
   ]
  },
  {
   "cell_type": "markdown",
   "metadata": {},
   "source": [
    "Double click on this text to add your answer here:\n",
    "\n",
    "- lists hold strings and integers. they can be combined or the individual elements can be picked out and used for other functions"
   ]
  },
  {
   "cell_type": "markdown",
   "metadata": {},
   "source": [
    "## Some functions for working with lists and other iterables\n",
    "\n",
    "Three very important standalone functions for working with data are `len()`, `min()`, and `max()`. We can run any of these functions on a list by placing the name of the list variable inside the parentheses:\n",
    "```\n",
    "`len(my_list)` \n",
    "```\n",
    "* `len()` gives the number of elements that make up the list\n",
    "* `min()` returns the minimum value held by a list\n",
    "* `max()` returns the maximum value held by a list\n",
    "\n",
    "Below I present a number of different kinds of lists. Try to predict the values for len, min, and max for each list - write them out on a piece of paper before you run the code, then run it"
   ]
  },
  {
   "cell_type": "code",
   "execution_count": 6,
   "metadata": {},
   "outputs": [
    {
     "name": "stdout",
     "output_type": "stream",
     "text": [
      "my_num_list\n",
      "5\n",
      "4\n",
      "78\n",
      "\n",
      "my_string_list\n",
      "4\n",
      "apple\n",
      "orange\n",
      "\n",
      "my_list_list\n",
      "3\n",
      "[1, 2, 3, 4, 5, 6, 7, 8, 9]\n",
      "[1000000, 2000000]\n",
      "\n",
      "my_mix_list\n",
      "9\n"
     ]
    },
    {
     "ename": "TypeError",
     "evalue": "'<' not supported between instances of 'str' and 'int'",
     "output_type": "error",
     "traceback": [
      "\u001b[0;31m---------------------------------------------------------------------------\u001b[0m",
      "\u001b[0;31mTypeError\u001b[0m                                 Traceback (most recent call last)",
      "\u001b[0;32m<ipython-input-6-834e8ec2dc85>\u001b[0m in \u001b[0;36m<module>\u001b[0;34m\u001b[0m\n\u001b[1;32m     41\u001b[0m \u001b[0mprint\u001b[0m\u001b[0;34m(\u001b[0m\u001b[0;34m'my_mix_list'\u001b[0m\u001b[0;34m)\u001b[0m\u001b[0;34m\u001b[0m\u001b[0;34m\u001b[0m\u001b[0m\n\u001b[1;32m     42\u001b[0m \u001b[0mprint\u001b[0m\u001b[0;34m(\u001b[0m\u001b[0mlen\u001b[0m\u001b[0;34m(\u001b[0m\u001b[0ma\u001b[0m\u001b[0;34m)\u001b[0m\u001b[0;34m)\u001b[0m\u001b[0;34m\u001b[0m\u001b[0;34m\u001b[0m\u001b[0m\n\u001b[0;32m---> 43\u001b[0;31m \u001b[0mprint\u001b[0m\u001b[0;34m(\u001b[0m\u001b[0mmin\u001b[0m\u001b[0;34m(\u001b[0m\u001b[0ma\u001b[0m\u001b[0;34m)\u001b[0m\u001b[0;34m)\u001b[0m\u001b[0;34m\u001b[0m\u001b[0;34m\u001b[0m\u001b[0m\n\u001b[0m\u001b[1;32m     44\u001b[0m \u001b[0mprint\u001b[0m\u001b[0;34m(\u001b[0m\u001b[0mmax\u001b[0m\u001b[0;34m(\u001b[0m\u001b[0ma\u001b[0m\u001b[0;34m)\u001b[0m\u001b[0;34m)\u001b[0m      \u001b[0;31m#we get an error\u001b[0m\u001b[0;34m\u001b[0m\u001b[0;34m\u001b[0m\u001b[0m\n\u001b[1;32m     45\u001b[0m \u001b[0mprint\u001b[0m\u001b[0;34m(\u001b[0m\u001b[0;34m)\u001b[0m\u001b[0;34m\u001b[0m\u001b[0;34m\u001b[0m\u001b[0m\n",
      "\u001b[0;31mTypeError\u001b[0m: '<' not supported between instances of 'str' and 'int'"
     ]
    }
   ],
   "source": [
    "# A list of numbers\n",
    "\n",
    "my_num_list = [4,22,78,36,19]\n",
    "\n",
    "a = my_num_list\n",
    "print('my_num_list')\n",
    "print(len(a))\n",
    "print(min(a))\n",
    "print(max(a))\n",
    "print()\n",
    "\n",
    "\n",
    "# A list of strings, I wonder how it will do min and max?\n",
    "\n",
    "my_string_list = ['apple', 'orange', 'banana', 'kiwi']\n",
    "\n",
    "a = my_string_list           \n",
    "\n",
    "print('my_string_list')\n",
    "print(len(a))\n",
    "print(min(a))\n",
    "print(max(a))\n",
    "print()\n",
    "\n",
    "# A list of numerical lists, I wonder how it will calculate len, min, and max?\n",
    "\n",
    "my_list_list = [[4,22,78,36,19],[1,2,3,4,5,6,7,8,9],[1000000,2000000]]\n",
    "a = my_list_list\n",
    "\n",
    "print('my_list_list')\n",
    "print(len(a))\n",
    "print(min(a))\n",
    "print(max(a))\n",
    "print()\n",
    "\n",
    "# A 9 element list of numbers, strings, and lists, I wonder how it will calculate min and max\n",
    "\n",
    "my_mix_list = [1,2,'aardvark',4,5,6,'7',[4,22,78,36,19],['apple', 'orange', 'banana', 'kiwi']]\n",
    "a = my_mix_list\n",
    "\n",
    "print('my_mix_list')\n",
    "print(len(a))\n",
    "print(min(a))\n",
    "print(max(a))      #we get an error \n",
    "print()"
   ]
  },
  {
   "cell_type": "markdown",
   "metadata": {},
   "source": [
    "### Question ### \n",
    "What have we learned about the behavior of the `len()`, `min()`, and `max()` functions from the three code blocks above? Are there other things you still want to know? Add them to the code block above and report your results. "
   ]
  },
  {
   "cell_type": "markdown",
   "metadata": {},
   "source": [
    "Double click on this text to add your answer here:\n",
    "\n",
    "- the len function showed how many items were in a list. the min for the integer list was the smallest number and the max was the largest. the min for string list was in alphabetical order; a was min and o was max. the min and max for the list of lists were organized by the first element in each list; the min had the list with the lowest first number and the max had the highest first number. when looking at a mixed list, we can only find the length. the min and max functions give an error because there is no clear min or max between strings and integers."
   ]
  },
  {
   "cell_type": "markdown",
   "metadata": {},
   "source": [
    "You might wonder - why are these standalone functions, and not **methods** as we saw with strings. The answer is that these functions work on more than just lists. Run the code below: "
   ]
  },
  {
   "cell_type": "code",
   "execution_count": 7,
   "metadata": {},
   "outputs": [
    {
     "name": "stdout",
     "output_type": "stream",
     "text": [
      "len(), min(), max() on the string:   Four score and seven years ago,\n",
      "31\n",
      "  .\n",
      "y\n",
      "\n"
     ]
    }
   ],
   "source": [
    "a = 'Four score and seven years ago,'\n",
    "print('len(), min(), max() on the string:   ' + a)\n",
    "print(len(a))\n",
    "print(min(a),'.')                                       # '.' just for visualization\n",
    "print(max(a))\n",
    "print()"
   ]
  },
  {
   "cell_type": "markdown",
   "metadata": {},
   "source": [
    "Because strings are iterable, the functions work! Now run the code below to see if the same functinos will work on a numerical value?"
   ]
  },
  {
   "cell_type": "code",
   "execution_count": 14,
   "metadata": {},
   "outputs": [
    {
     "name": "stdout",
     "output_type": "stream",
     "text": [
      "len(), min(), max() on a number\n",
      "\n"
     ]
    }
   ],
   "source": [
    "a = 52\n",
    "print('len(), min(), max() on a number')\n",
    "#print(len(a))\n",
    "#print(min(a))\n",
    "#print(max(a))\n",
    "print()\n",
    "\n",
    "# if this doesn't work, try commenting out lines to see if any of the functions work\n",
    "## no functions worked"
   ]
  },
  {
   "cell_type": "markdown",
   "metadata": {},
   "source": [
    "So we see that `len()`, `min()`, and `max()` only work on datatypes that hold more than one value and that possess an index of items held in the list - that is, they are functions that only work on iterable objects. The concept of `len()` has no meaning when applied to a single value. Data types that hold single values, like `float` or `int` are known as **scalars**. Knowing this piece of terminology is sometimes useful in interpreting error messages.  "
   ]
  },
  {
   "cell_type": "markdown",
   "metadata": {},
   "source": [
    "## The `in` and `not in` operators"
   ]
  },
  {
   "cell_type": "markdown",
   "metadata": {},
   "source": [
    "Now we start getting into the powerful stuff. Two important operators are the `in` and `not in` operators, but to understand them we have to learn about another data type that we will go into more detail on in the future. Let's start with examples:"
   ]
  },
  {
   "cell_type": "code",
   "execution_count": 15,
   "metadata": {},
   "outputs": [
    {
     "data": {
      "text/plain": [
       "True"
      ]
     },
     "execution_count": 15,
     "metadata": {},
     "output_type": "execute_result"
    }
   ],
   "source": [
    "my_list = ['apple', 'orange', 'banana', 'kiwi']\n",
    "\n",
    "'kiwi' in my_list                                # is 'kiwi' an element in my_list"
   ]
  },
  {
   "cell_type": "markdown",
   "metadata": {},
   "source": [
    "Woah, what was that last statement? It looks like we just made a statement and then the program returned an evaluation of whether the statement was True or False statement. Weird. Let's try again with something obviously false:"
   ]
  },
  {
   "cell_type": "code",
   "execution_count": 16,
   "metadata": {},
   "outputs": [
    {
     "data": {
      "text/plain": [
       "False"
      ]
     },
     "execution_count": 16,
     "metadata": {},
     "output_type": "execute_result"
    }
   ],
   "source": [
    "my_list = ['apple', 'orange', 'banana', 'kiwi']\n",
    "\n",
    "'starfruit' in my_list                           # is 'starfruit' an element in my_list"
   ]
  },
  {
   "cell_type": "markdown",
   "metadata": {},
   "source": [
    "Ok, that worked like we expected based on the first example. But what's going on here. Maybe if we assign that statement to a variable we can look at the variable type? "
   ]
  },
  {
   "cell_type": "code",
   "execution_count": 18,
   "metadata": {},
   "outputs": [
    {
     "name": "stdout",
     "output_type": "stream",
     "text": [
      "<class 'bool'>\n"
     ]
    }
   ],
   "source": [
    "my_list = ['apple', 'orange', 'banana', 'kiwi']\n",
    "\n",
    "evaluation = 'kiwi' in my_list\n",
    "\n",
    "print(type(evaluation))"
   ]
  },
  {
   "cell_type": "markdown",
   "metadata": {},
   "source": [
    "Here we see a class that we haven't seen before, which means that we are dealing with a new data type. This data type is called a **boolean**. Booleans are a funny kind of variable because they can hold only two values `True` or `False`. It might seem strange to have an entire data type dedicated to the concept of true false distinctions, but in computer logic, which is of course based in 1s and 0s, this turns out to be a very central concept. Going forward we are going to see that we very often need to evaluate statements as true or false. Basically every time we make a statement of the form: IF THIS, DO THAT we need true and false. \n",
    "\n",
    "Take a look at the example below to see usage of the `in` and `not in` statements. "
   ]
  },
  {
   "cell_type": "code",
   "execution_count": 19,
   "metadata": {},
   "outputs": [
    {
     "name": "stdout",
     "output_type": "stream",
     "text": [
      "Is kiwi in my list?: True\n",
      "Is starfruit in my list?: False\n",
      "\n",
      "Is kiwi NOT in my list?: False\n",
      "Is starfruit NOT in my list?: True\n"
     ]
    }
   ],
   "source": [
    "my_list = ['apple', 'orange', 'banana', 'kiwi']\n",
    "\n",
    "print('Is kiwi in my list?: ' + str('kiwi' in my_list))\n",
    "print('Is starfruit in my list?: ' + str('starfruit' in my_list))\n",
    "print()\n",
    "print('Is kiwi NOT in my list?: ' + str('kiwi' not in my_list))\n",
    "print('Is starfruit NOT in my list?: ' + str('starfruit' not in my_list))"
   ]
  },
  {
   "cell_type": "markdown",
   "metadata": {},
   "source": [
    "Do you think the `in` and `not in` operators are specific to lists only, or will they work on other iterables like strings? Try the following code example: "
   ]
  },
  {
   "cell_type": "code",
   "execution_count": 20,
   "metadata": {},
   "outputs": [
    {
     "name": "stdout",
     "output_type": "stream",
     "text": [
      "The statement 'There is no 'I' in team' evaluates as: True\n"
     ]
    }
   ],
   "source": [
    "#My coach told me there was no 'I' in TEAM, let's check it out:\n",
    "\n",
    "print('The statement \\'There is no \\'I\\' in team\\' evaluates as: ' + str('I' not in 'TEAM')) "
   ]
  },
  {
   "cell_type": "markdown",
   "metadata": {},
   "source": [
    "Let's take a look at some examples of how this might work with numbers. Before running the code, edit the comment next to each line of code to predict the output. Specifically do you think the functions are evaluating characters or values when they operate on numerical data?"
   ]
  },
  {
   "cell_type": "code",
   "execution_count": 21,
   "metadata": {},
   "outputs": [
    {
     "name": "stdout",
     "output_type": "stream",
     "text": [
      "True\n",
      "True\n",
      "False\n"
     ]
    }
   ],
   "source": [
    "my_list = [11,111,1111,11111]\n",
    "\n",
    "print(11  in     my_list)           #true\n",
    "print(1   not in my_list)           #true\n",
    "print(111 not in my_list)           #false"
   ]
  },
  {
   "cell_type": "markdown",
   "metadata": {},
   "source": [
    "### Question ### \n",
    "Give a real world example of some data that might be stored in a computer where it would be useful to check whether a list or a string contained a certain value?"
   ]
  },
  {
   "cell_type": "markdown",
   "metadata": {},
   "source": [
    "Double click on this text to add your answer here:\n",
    "\n",
    "- when comparing 2 lists to see if there is any overlap. maybe if every professor has a list of their students, they can figure out if one student is in each of their classes. (like is zin in my_class: true. is zin in dr_yust_class: true. is zin in dr_petit_class: false)"
   ]
  },
  {
   "cell_type": "markdown",
   "metadata": {},
   "source": [
    "## List methods - append\n",
    "\n",
    "As mentioned above, there are many methods that we can use to operate on lists. \n",
    "\n",
    "Let's start with what is probably the most essential list method. What if we wanted to add items to a list? Let's say we wanted to add information on whether our patient was assigned to the experimental or the control treatment. There are a number of methods that we can use to manipulate lists, just like there were methods that are specific to string functions. We can use the list method `list.append(element)` to add an item to a list. You'll note that the sytax is the same as some of the methods we used for strings. \n",
    "\n",
    "Let's say that the patient in question is part of the control group for an experiment, and we want to add that information to the list:"
   ]
  },
  {
   "cell_type": "code",
   "execution_count": 22,
   "metadata": {},
   "outputs": [
    {
     "name": "stdout",
     "output_type": "stream",
     "text": [
      "['male', 39, 70, 175, 'non-smoker', 'control-group']\n"
     ]
    }
   ],
   "source": [
    "patient_4 = [\"male\", 39, 70, 175, \"non-smoker\"] \n",
    "\n",
    "patient_4.append(\"control-group\")   #note that we added the append staement to the particular list we are operating on\n",
    "print(patient_4)"
   ]
  },
  {
   "cell_type": "markdown",
   "metadata": {},
   "source": [
    "This is useful when we have new data to aggregate, but often times we will want to add data that our program caculates itself. For example, if we had a list of values, we might want to calculate the average of those values, and then append that new information to the list, just like we would add a summary row to a column in a spreadsheet. Let's write a piece of code that will take our patient data, calculate BMI, and insert it into the list as an item that follows weight. To get BMI divide weight(lbs) by height(in) squared, and multiply the result by 703. We will call those values using the relevant index values in our list. \n",
    "\n",
    "So our calculation would be"
   ]
  },
  {
   "cell_type": "code",
   "execution_count": 24,
   "metadata": {},
   "outputs": [
    {
     "name": "stdout",
     "output_type": "stream",
     "text": [
      "BMI = 25.107142857142854\n"
     ]
    }
   ],
   "source": [
    "weight = patient_4[3]       #list object 3 is assigned to weight\n",
    "height = patient_4[2]       #list object 2 is assigned to height\n",
    "bmi = (weight/(height**2))*703  #weight and height(sq) are divided and multiplied by 703 to find bmi\n",
    "\n",
    "patient_4.append(bmi)       #bmi is being added to the list as the 6th object\n",
    "print('BMI = ' + str(patient_4[6]))  #the bmi (6) is being pulled from the list and printed "
   ]
  },
  {
   "cell_type": "markdown",
   "metadata": {},
   "source": [
    "### Exercise \n",
    "Go into the code window above and add comments to explain what is happening at each step of the code\n",
    "\n",
    "\n",
    "## List methods - more list methods\n",
    "\n",
    "There are a number of list methods that are very similar to what we have already seen with the string methods, these are:\n",
    "\n",
    "```\n",
    ".count()\n",
    ".index()\n",
    "```\n",
    "Note that there are no find, replace, or rindex methods for lists. There are some new ones as well\n",
    "```\n",
    ".insert()        # are these inserting and removing a particular value\n",
    ".remove()        ## or at a particular position?\n",
    "\n",
    ".sort()          # how could .sort() and .reverse() be used together?\n",
    ".reverse()\n",
    "\n",
    ".pop()           # you may have to google for the usage of this one\n",
    "```\n",
    "\n",
    "### Exercise \n",
    "Go into the code window below and create some lists that allow you to demonstrate the use of each function, then go to the text block below and in one sentence describe what each function does in the context of a list!\n"
   ]
  },
  {
   "cell_type": "code",
   "execution_count": 86,
   "metadata": {
    "scrolled": true
   },
   "outputs": [
    {
     "name": "stdout",
     "output_type": "stream",
     "text": [
      "count then index number 1\n",
      "3\n",
      "0\n",
      "\n",
      "insert then remove 200\n",
      "[1, 200, 2, 5, 22, 87, 2032, 1, 1]\n",
      "[1, 2, 5, 22, 87, 2032, 1, 1]\n",
      "\n",
      "sort then reverse the list\n",
      "[1, 1, 1, 2, 5, 22, 87, 2032]\n",
      "[2032, 87, 22, 5, 2, 1, 1, 1]\n",
      "\n",
      "pop to remove the first number\n",
      "[87, 22, 5, 2, 1, 1, 1]\n"
     ]
    }
   ],
   "source": [
    "my_data = [1, 2, 5, 22, 87, 2032, 1, 1]\n",
    "\n",
    "print(\"count then index number 1\")\n",
    "print(my_data.count(1))\n",
    "print(my_data.index(1))\n",
    "print()\n",
    "\n",
    "print(\"insert then remove 200\")\n",
    "my_data.insert(1, 200)\n",
    "print(my_data)\n",
    "my_data.remove(200)\n",
    "print(my_data)\n",
    "print()\n",
    "\n",
    "print(\"sort then reverse the list\")\n",
    "my_data.sort()\n",
    "print(my_data)\n",
    "my_data.reverse()\n",
    "print(my_data)\n",
    "print()\n",
    "\n",
    "print(\"pop to remove the first number\")\n",
    "my_data.pop(0)\n",
    "print(my_data)"
   ]
  },
  {
   "cell_type": "markdown",
   "metadata": {},
   "source": [
    "Double click on this text to add your answer describing each function here:\n",
    "\n",
    "* .count() determines how many instances of a number/word are in a list\n",
    "* .index() determines the placement of the first instance\n",
    "* .insert() adds a specified number/word in a specified location\n",
    "* .remove() removes a specified word/number\n",
    "* .sort() sorts by lowest to highest\n",
    "* .reverse() reverses however it was sorted before\n",
    "* .pop() removes whatever number/word is at the specified location\n"
   ]
  },
  {
   "cell_type": "markdown",
   "metadata": {},
   "source": [
    "## Slicing a list\n",
    "\n",
    "One thing that we can do to an iterable datatype is to slice it. Slicing involves cutting out a subset of a list. Just as if we were calling the item at a particular location, we follow the variable name with a square bracket, but instead of containing a single index number, we incorporate a **slice** of numbers. To show a slice in python we use the `:` operator. \n",
    "```\n",
    "variable_name[low_number:high_number]\n",
    "```\n",
    "Slices in python are inclusive at the low end of the range, but non inclusive at the upper end of the range. Rather than spend five more sentences attempting to explain that, just look at the code below: "
   ]
  },
  {
   "cell_type": "code",
   "execution_count": 25,
   "metadata": {},
   "outputs": [
    {
     "name": "stdout",
     "output_type": "stream",
     "text": [
      "['apple', 'orange']\n"
     ]
    }
   ],
   "source": [
    "my_list = ['apple', 'orange', 'banana', 'kiwi','starfruit']\n",
    "print(my_list[0:2])"
   ]
  },
  {
   "cell_type": "markdown",
   "metadata": {},
   "source": [
    "When we specified a range of 0:2, python grabbed the values from index 0 and 1 , but not the value at index 2. So in our five value list, to show the whole list we would need to write:"
   ]
  },
  {
   "cell_type": "code",
   "execution_count": 26,
   "metadata": {},
   "outputs": [
    {
     "name": "stdout",
     "output_type": "stream",
     "text": [
      "['apple', 'orange', 'banana', 'kiwi', 'starfruit']\n"
     ]
    }
   ],
   "source": [
    "my_list = ['apple', 'orange', 'banana', 'kiwi','starfruit']\n",
    "print(my_list[0:5])                                         #there should be no value five in this list"
   ]
  },
  {
   "cell_type": "markdown",
   "metadata": {},
   "source": [
    "This seems obtuse, until you realize that it allows you to do this:"
   ]
  },
  {
   "cell_type": "code",
   "execution_count": 27,
   "metadata": {},
   "outputs": [
    {
     "name": "stdout",
     "output_type": "stream",
     "text": [
      "['apple', 'orange', 'banana', 'kiwi', 'starfruit']\n"
     ]
    }
   ],
   "source": [
    "my_list = ['apple', 'orange', 'banana', 'kiwi','starfruit']\n",
    "print(my_list[0:len(my_list)])      "
   ]
  },
  {
   "cell_type": "markdown",
   "metadata": {},
   "source": [
    "Which isn't super useful here, but once we start working with loops it will become clear why this is helpful.\n",
    "\n",
    "Another thing we can do is just leave a range open on either side of the `:` operator to indicate that we want everything either *from the lowest* or *to the highest* index. See the examples below."
   ]
  },
  {
   "cell_type": "code",
   "execution_count": 28,
   "metadata": {},
   "outputs": [
    {
     "name": "stdout",
     "output_type": "stream",
     "text": [
      "['apple', 'orange', 'banana']\n",
      "['banana', 'kiwi', 'starfruit']\n"
     ]
    }
   ],
   "source": [
    "my_list = ['apple', 'orange', 'banana', 'kiwi','starfruit']\n",
    "\n",
    "print(my_list[:3])                # everything up to kiwi\n",
    "print(my_list[2:])                # banana and up"
   ]
  },
  {
   "cell_type": "markdown",
   "metadata": {},
   "source": [
    "### Exercise\n",
    "\n",
    "In the code window below use what we have learned in this worksheet to do the following:\n",
    "\n",
    "* Create a list that contains your last name, age, height in inches, and your expected graduation year.\n",
    "* Output the list. \n",
    "* Now Add two new values to the list - your favorite superhero and the name of the street you live on. \n",
    "* Output the new list\n",
    "* Finally, output only the numerical content in your list. Do this via a slice of the new list. "
   ]
  },
  {
   "cell_type": "code",
   "execution_count": 34,
   "metadata": {},
   "outputs": [
    {
     "name": "stdout",
     "output_type": "stream",
     "text": [
      "['Zinnia Ruch', '20', '62', '2023']\n",
      "['Zinnia Ruch', '20', '62', '2023', 'Spiderman', 'Stanton']\n",
      "['20', '62', '2023']\n"
     ]
    }
   ],
   "source": [
    "zin_data = ['Zinnia Ruch', '20', '62', '2023']\n",
    "print(zin_data)\n",
    "\n",
    "superhero = 'Spiderman'\n",
    "zin_data.append(superhero)\n",
    "#print(zin_data)\n",
    "\n",
    "street = 'Stanton'\n",
    "zin_data.append(street)\n",
    "print(zin_data)\n",
    "\n",
    "print(zin_data[1:4])"
   ]
  },
  {
   "cell_type": "markdown",
   "metadata": {},
   "source": [
    "![Alt text that will appear on mouseover](images/TJU_logo_dummy_image.png \"Dummy image\")\n",
    "\n"
   ]
  }
 ],
 "metadata": {
  "kernelspec": {
   "display_name": "Python 3",
   "language": "python",
   "name": "python3"
  },
  "language_info": {
   "codemirror_mode": {
    "name": "ipython",
    "version": 3
   },
   "file_extension": ".py",
   "mimetype": "text/x-python",
   "name": "python",
   "nbconvert_exporter": "python",
   "pygments_lexer": "ipython3",
   "version": "3.8.3"
  }
 },
 "nbformat": 4,
 "nbformat_minor": 2
}
