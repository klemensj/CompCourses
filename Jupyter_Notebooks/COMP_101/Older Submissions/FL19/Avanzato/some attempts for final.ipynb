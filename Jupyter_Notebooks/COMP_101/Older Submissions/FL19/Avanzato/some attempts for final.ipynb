{
 "cells": [
  {
   "cell_type": "code",
   "execution_count": 3,
   "metadata": {},
   "outputs": [
    {
     "name": "stdout",
     "output_type": "stream",
     "text": [
      "DNA must contain only the letters A, T, G, and C; 1 is not a valid nucleotide symbol.\n"
     ]
    },
    {
     "data": {
      "text/plain": [
       "0"
      ]
     },
     "execution_count": 3,
     "metadata": {},
     "output_type": "execute_result"
    }
   ],
   "source": [
    "#test DNA with problems\n",
    "\n",
    "DirtyDNA = \"actgactg1actgh\"\n",
    "LowDNA = \"actgactgactg\"\n",
    "\n",
    "#function to recieve DNA, test if its valid\n",
    "\n",
    "def CleanandCheck (DNA):\n",
    "    for i in DNA:\n",
    "        if not i in \"ATGCatgc\":\n",
    "        \n",
    "            print(\"DNA must contain only the letters A, T, G, and C; \" + i + \" is not a valid nucleotide symbol.\")\n",
    "            return(0)\n",
    "        \n",
    "    DNA = DNA.upper()\n",
    "    return(DNA)\n",
    "    \n",
    "CleanandCheck(DirtyDNA)"
   ]
  },
  {
   "cell_type": "code",
   "execution_count": 4,
   "metadata": {},
   "outputs": [],
   "source": [
    "newDNA = \"atagatgcagcacgtacatcactgatcgatcatcgatgtat\"\n",
    "\n",
    "\n",
    "def example(DNA):\n",
    "    \n",
    "    print(\"Testing DNA...\")\n",
    "    DNA = CleanandCheck(DNA)\n",
    "    \n",
    "    if DNA == 0:\n",
    "        print(\"Sorry, some problems with this DNA. Please try again!\")\n",
    "    else:\n",
    "        print(\"DNA check successful!\")\n",
    "        \n",
    "    nucleotide_counter(DNA)\n",
    "    \n",
    "    return    "
   ]
  },
  {
   "cell_type": "code",
   "execution_count": 5,
   "metadata": {},
   "outputs": [
    {
     "name": "stdout",
     "output_type": "stream",
     "text": [
      "Testing DNA...\n",
      "DNA check successful!\n"
     ]
    },
    {
     "ename": "NameError",
     "evalue": "name 'nucleotide_counter' is not defined",
     "output_type": "error",
     "traceback": [
      "\u001b[0;31m---------------------------------------------------------------------------\u001b[0m",
      "\u001b[0;31mNameError\u001b[0m                                 Traceback (most recent call last)",
      "\u001b[0;32m<ipython-input-5-f8f0b12e7faf>\u001b[0m in \u001b[0;36m<module>\u001b[0;34m\u001b[0m\n\u001b[0;32m----> 1\u001b[0;31m \u001b[0mexample\u001b[0m\u001b[0;34m(\u001b[0m\u001b[0mnewDNA\u001b[0m\u001b[0;34m)\u001b[0m\u001b[0;34m\u001b[0m\u001b[0;34m\u001b[0m\u001b[0m\n\u001b[0m",
      "\u001b[0;32m<ipython-input-4-b55854934ff5>\u001b[0m in \u001b[0;36mexample\u001b[0;34m(DNA)\u001b[0m\n\u001b[1;32m     12\u001b[0m         \u001b[0mprint\u001b[0m\u001b[0;34m(\u001b[0m\u001b[0;34m\"DNA check successful!\"\u001b[0m\u001b[0;34m)\u001b[0m\u001b[0;34m\u001b[0m\u001b[0;34m\u001b[0m\u001b[0m\n\u001b[1;32m     13\u001b[0m \u001b[0;34m\u001b[0m\u001b[0m\n\u001b[0;32m---> 14\u001b[0;31m     \u001b[0mnucleotide_counter\u001b[0m\u001b[0;34m(\u001b[0m\u001b[0mDNA\u001b[0m\u001b[0;34m)\u001b[0m\u001b[0;34m\u001b[0m\u001b[0;34m\u001b[0m\u001b[0m\n\u001b[0m\u001b[1;32m     15\u001b[0m \u001b[0;34m\u001b[0m\u001b[0m\n\u001b[1;32m     16\u001b[0m     \u001b[0;32mreturn\u001b[0m\u001b[0;34m\u001b[0m\u001b[0;34m\u001b[0m\u001b[0m\n",
      "\u001b[0;31mNameError\u001b[0m: name 'nucleotide_counter' is not defined"
     ]
    }
   ],
   "source": [
    "example(newDNA)"
   ]
  },
  {
   "cell_type": "code",
   "execution_count": null,
   "metadata": {},
   "outputs": [],
   "source": []
  }
 ],
 "metadata": {
  "kernelspec": {
   "display_name": "Python 3",
   "language": "python",
   "name": "python3"
  },
  "language_info": {
   "codemirror_mode": {
    "name": "ipython",
    "version": 3
   },
   "file_extension": ".py",
   "mimetype": "text/x-python",
   "name": "python",
   "nbconvert_exporter": "python",
   "pygments_lexer": "ipython3",
   "version": "3.7.3"
  }
 },
 "nbformat": 4,
 "nbformat_minor": 2
}
