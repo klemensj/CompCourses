{
 "cells": [
  {
   "cell_type": "markdown",
   "metadata": {},
   "source": [
    "<div align =\"right\">Thomas Jefferson University <b>COMP 101</b>: Intro to Coding</div>"
   ]
  },
  {
   "cell_type": "markdown",
   "metadata": {},
   "source": [
    "# Variables and simple math\n",
    "\n",
    "One of the most basic functions in programming is assigning a value to a variable. In this notebook we will explore how we assign variables in python. Rather than trying to describe the process, it's probably best to just dive right in and work with examples. \n",
    "\n",
    "In the example below we are going to use the print function but we are going to introduce a couple of additional steps. In this simple case these extra steps are completely useless, but we will soon see how to leverage them to do things. Since you now know about comments in code, I will use comments to walk through the program. "
   ]
  },
  {
   "cell_type": "code",
   "execution_count": null,
   "metadata": {},
   "outputs": [],
   "source": [
    "# Program to assign a variable and then print the value that the variable contains\n",
    "\n",
    "my_number = 4           # this is a basic variable assignment in python\n",
    "                        ## we simply declare my_number to be a variable \n",
    "                        ## that represents the number 4\n",
    "\n",
    "print(my_number)        # when we ask the print function to print this \n",
    "                        ## variable it automatically recognizes that this\n",
    "                        ## is a variable and prints the value it represents\n",
    "                        \n",
    "x = my_number           # we can pass the value to a new variable\n",
    "\n",
    "my_number = 6           # we can reassign the value of a variable at any time   \n",
    "\n",
    "print()                 # empty line to make output easier to read\n",
    "\n",
    "print(x)                # x was assigned the value that my_number represented at\n",
    "                        ## at the time we assigned that value to x (4)\n",
    "\n",
    "print(my_number)        # the current value of my_number is 6"
   ]
  },
  {
   "cell_type": "code",
   "execution_count": null,
   "metadata": {},
   "outputs": [],
   "source": [
    "# Here's something that doesn't work\n",
    "\n",
    "4 = my_number            # the assignment goes from right to left, we can't tell\n",
    "                         ## python that we are changing the value of the number 4!"
   ]
  },
  {
   "cell_type": "markdown",
   "metadata": {},
   "source": [
    "## Variable types\n",
    "\n",
    "One of the amazing things that python does is that it automatically recognizes different types of things that we might ask it to handle. We've already seen that the `print` function can handle numbers or text. Once we assign a variable in python, it will take on a particular **data type**. We can get python to tell us what type of data a particular variable is assigned by using the conveniently-named `type()` function. \n",
    "\n",
    "Again, this is probably better shown with an example:"
   ]
  },
  {
   "cell_type": "code",
   "execution_count": null,
   "metadata": {},
   "outputs": [],
   "source": [
    "my_number = 4        # Assign the variable to my_number\n",
    "\n",
    "type(my_number)      # Run the type() function on the my_number variable\n",
    "                     ## to return the type assigned."
   ]
  },
  {
   "cell_type": "markdown",
   "metadata": {},
   "source": [
    "Our output from the code above was the word `int`. This represents the **integer** data type. Let's look at a couple of different variable types as well. "
   ]
  },
  {
   "cell_type": "code",
   "execution_count": null,
   "metadata": {},
   "outputs": [],
   "source": [
    "my_other_number = 42.7365    # Assign the variable to my_other_number\n",
    "\n",
    "type(my_other_number)        # Run the type() function on the my_other_number variable\n",
    "                             ## to return the type assigned."
   ]
  },
  {
   "cell_type": "code",
   "execution_count": null,
   "metadata": {},
   "outputs": [],
   "source": [
    "my_sentence = \"A rose is a rose is a rose.\"        # Assign the variable to my_sentence\n",
    "\n",
    "type(my_sentence)        # Run the type() function on the my_sentence variable\n",
    "                         ## to return the type assigned."
   ]
  },
  {
   "cell_type": "markdown",
   "metadata": {},
   "source": [
    "The first example gives us an answer of `float`. This represents the **float** or floating point number data type. There is a <a href='https://en.wikipedia.org/wiki/Floating-point_arithmetic'>whole body of theory</a> behind what this means if you are interested, but functionally it means a real number with a decimal component.\n",
    "\n",
    "Likewise, text based variables are referred to as `str` which menas strings, as in 'strings of characters', think of beads bearing letters on a bracelet, or the tiles on a wheel of fortune board. \n",
    "\n",
    "Again, note that we didn't have to do anything ourselves to make the data type line up with the variable, python recognizes the nature of the data and assigns the data type accordingly even if we are changing the variable 'on the fly'. This is important, because certain data types are available to certain other functions, while others are not. Take a look at the further examples below:"
   ]
  },
  {
   "cell_type": "code",
   "execution_count": null,
   "metadata": {},
   "outputs": [],
   "source": [
    "# If we assign a new data type to a variable \n",
    "## the data type updates automatically\n",
    "\n",
    "my_var = 4 \n",
    "print('my_var variable types:')\n",
    "print(my_var)\n",
    "print(type(my_var))        # Wait, what is going on here? Well it turns out\n",
    "                           ## that if we run multiple functions within a program, it\n",
    "                           ## will only return the value of the last function we ran, \n",
    "                           ## so what we are doing here is using the print function\n",
    "                           ## to create an ouput of what the type() function tells us.\n",
    "                           ## I promise this will make more sense once we get to functions. \n",
    "\n",
    "my_var = 'ABCD'\n",
    "print(my_var)\n",
    "print(type(my_var))\n",
    "print()\n",
    "\n",
    "my_number = 4              # Example with numerical variables\n",
    "print('my_number variable types:')\n",
    "print(my_number)\n",
    "print(type(my_number))\n",
    "\n",
    "my_number = my_number / 7  # We are diving the value by 7, note that we can reassign\n",
    "                           ## a variable by performing an operation on it and reassigning it to itself\n",
    "print(my_number)\n",
    "print(type(my_number))"
   ]
  },
  {
   "cell_type": "code",
   "execution_count": null,
   "metadata": {},
   "outputs": [],
   "source": [
    "# Certain functions can be performed on certain\n",
    "## data types, but not others\n",
    "\n",
    "my_var = 4\n",
    "print(my_var + 4)\n",
    "\n",
    "my_var = 'ABCD'\n",
    "print(my_var + 4)"
   ]
  },
  {
   "cell_type": "markdown",
   "metadata": {},
   "source": [
    "Because many functions are designed to work with only certain data types, understanding data types is a very important part of python programming. You can read <a href = 'https://github.com/jakevdp/WhirlwindTourOfPython/blob/6f1daf714fe52a8dde6a288674ba46a7feed8816//05-Built-in-Scalar-Types.ipynb'>a brief overview of simple data types here</a>. We will work more with the string data type in a couple of weeks. \n",
    "\n",
    "## Variable names\n",
    "Variable names can be whatever you want them to be, except they cannot contain special symbols other than underscore `_`, they can't contain spaces, and they can't start with a number. The <a href='https://www.python.org/dev/peps/pep-0008/'>python style guide</a> suggests the following rules for variable names:\n",
    "* use all lowercase letters\n",
    "* separate words with underscores\n",
    "\n",
    "We will try to follow this convention in our examples.\n",
    "\n",
    "## Basic mathematical operations\n",
    "\n",
    "Python contains a set of simple mathematical operators that can be used to perform operations on variables of type `int` or `float`. They are basically what you would expect them to be:\n",
    "\n",
    "   * `+`, `-`, `*`, `/` correspond to addition, subtraction, multiplication, and division respectively\n",
    "   * `**` is used for creating exponential statements \n",
    "   * order of operations acts exactly the same way it does in math class\n",
    "   * parentheses `()` can be used to specify the order of operations\n",
    "```\n",
    "# Examples \n",
    "    a = 2+2          # add 2 and 2, assign to variable a\n",
    "    b = 4/2          # divide 4 by 2\n",
    "    c = 2**3         # raise 2 to the 3rd power (8)\n",
    "    d = (5-2)*(4-1)  # multiply the product of two subtractions\n",
    "```    \n",
    "Use the open code windows below to write code that performs the following operations:"
   ]
  },
  {
   "cell_type": "code",
   "execution_count": null,
   "metadata": {},
   "outputs": [],
   "source": [
    "# Create a variable `trains` and assign a value to it by writing python statements \n",
    "## In the morning 153 trains leave the station while 135 trains return. \n",
    "## In the afternoon 148 trains leave the station and 162 trains return.\n",
    "## What is the difference between the number of trains at the station at\n",
    "## beginning vs. the end of the day? Print the result and the variable type.\n",
    "\n",
    "trains = "
   ]
  },
  {
   "cell_type": "code",
   "execution_count": null,
   "metadata": {},
   "outputs": [],
   "source": [
    "# Write code that will calculate the area of a square and the volume of a cube \n",
    "## given the length of a side. Print the results and the variable types. \n",
    "\n",
    "side = 0.375\n",
    "\n",
    "square_area = \n",
    "\n",
    "cube_volume ="
   ]
  },
  {
   "cell_type": "markdown",
   "metadata": {},
   "source": [
    "## Advanced mathematical operations\n",
    "\n",
    "Two additional mathematical operators can be very useful in coding contexts. \n",
    "\n",
    "* `//` or **floor division** returns the highest integer from a division problem and discards the fractional component of the answer. It can be thought of as the number of complete times the demonminator 'fits' into the numerator. \n",
    "* `%` of **modulo division** on the other hand discards the floor and returns the *remainder* of the division problem\n",
    "\n",
    "Let's just go straight to the code for these:"
   ]
  },
  {
   "cell_type": "code",
   "execution_count": null,
   "metadata": {},
   "outputs": [],
   "source": [
    "## example of floor division\n",
    "\n",
    "a = 5//2\n",
    "print('floor division result: ',a)         #answer is 2.5, discarding the fractional part we get 2 \n",
    "\n",
    "b = 5%2\n",
    "print('modulo division result: ',b)\n"
   ]
  },
  {
   "cell_type": "markdown",
   "metadata": {},
   "source": [
    "## Combining text and numbers to make readable output\n",
    "\n",
    "Notice that in the example immediately above we did an interesting thing. We labelled our output so that we didn't have to just go back and forth to the code to figure out what was what. This is a very good habit to get into when writing programs - no one likes a program that just spits out a number free of context. \n",
    "\n",
    "In the example above, we used a comma to separate items within the `print` function. Items separated by commas are printed on the same line of output. Look at how we used spaces to create the output that we wanted. Here is another example. In this example, go ahead and change the number values for variables x and y to prove to yourself that the relationships being described by this program are always true. "
   ]
  },
  {
   "cell_type": "code",
   "execution_count": null,
   "metadata": {},
   "outputs": [],
   "source": [
    "# Program to show the relationship between floor and modulo division:\n",
    "\n",
    "x = 103               # change these numbers to test our program\n",
    "y = 10\n",
    "\n",
    "floor_var = x // y    # store the result of floor division as floor_var\n",
    "modulo_var = x % y    # store the result of modulo division as modulo_var\n",
    "\n",
    "print('The result of dividing ', x, ' by ', y, 'gives a floor of ', floor_var, ' and a modulus of ', modulo_var)\n",
    "\n",
    "test_var = floor_var * y + modulo_var           #let's check out these relationships by seeing what this gives us\n",
    "\n",
    "print('Multiplying the divisor by the result of floor division and adding the modulus gives us: ', test_var)"
   ]
  },
  {
   "cell_type": "markdown",
   "metadata": {},
   "source": [
    "## Exercises\n",
    "\n",
    "In class your instructors will give you some exercises to perform."
   ]
  },
  {
   "cell_type": "code",
   "execution_count": null,
   "metadata": {},
   "outputs": [],
   "source": [
    "# Exercise 1 - define variables a, b, c, and d as integers. \n",
    "## Add a and b together. \n",
    "## Multiply the result by c. \n",
    "## Multiply that result by d. \n",
    "\n",
    "a=\n",
    "b=\n",
    "c=\n",
    "d=\n",
    "\n"
   ]
  },
  {
   "cell_type": "code",
   "execution_count": null,
   "metadata": {},
   "outputs": [],
   "source": [
    "# Exercise 2 - Why do you think this code gives the result it does?\n",
    "\n",
    "x = 9\n",
    "print(type(x))\n",
    "x = x/3\n",
    "print(type(x))\n"
   ]
  },
  {
   "cell_type": "markdown",
   "metadata": {},
   "source": [
    "Give your answer to Exercise 2 here:\n",
    "\n",
    "\n",
    "- \n",
    "- \n",
    "\n"
   ]
  },
  {
   "cell_type": "code",
   "execution_count": null,
   "metadata": {},
   "outputs": [],
   "source": [
    "# Exercise 3 - debug the following code\n",
    "\n",
    "# This program is meant to calculate the perimeter of a rectangular \n",
    "## fence with two sides of length a and two sides of length b. \n",
    "\n",
    "a = 3   #length of short side in meters\n",
    "b = 4   # length of long side in meters\n",
    "\n",
    "perimeter = (2a+2b)\n",
    "print(perimeter)"
   ]
  },
  {
   "cell_type": "code",
   "execution_count": null,
   "metadata": {},
   "outputs": [],
   "source": [
    "# Exercise 4 - write a program that given a value for a side \n",
    "## calculates the area of a regular shape described by that side\n",
    "## your output should be labelled and should contain results for\n",
    "## an equilateral triangle, a square, a regular pentagon & hexagon\n",
    "\n",
    "side =          # add your own values here to test"
   ]
  },
  {
   "cell_type": "markdown",
   "metadata": {},
   "source": [
    "![Alt text that will appear on mouseover](images/TJU_logo_dummy_image.png \"Dummy image\")"
   ]
  },
  {
   "cell_type": "code",
   "execution_count": null,
   "metadata": {},
   "outputs": [],
   "source": []
  }
 ],
 "metadata": {
  "kernelspec": {
   "display_name": "Python 3 (ipykernel)",
   "language": "python",
   "name": "python3"
  },
  "language_info": {
   "codemirror_mode": {
    "name": "ipython",
    "version": 3
   },
   "file_extension": ".py",
   "mimetype": "text/x-python",
   "name": "python",
   "nbconvert_exporter": "python",
   "pygments_lexer": "ipython3",
   "version": "3.9.12"
  }
 },
 "nbformat": 4,
 "nbformat_minor": 2
}
