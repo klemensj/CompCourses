{
 "cells": [
  {
   "cell_type": "markdown",
   "metadata": {},
   "source": [
    "<div align =\"right\">Thomas Jefferson University <b>COMP 101</b>: Intro to Coding</div>"
   ]
  },
  {
   "cell_type": "markdown",
   "metadata": {},
   "source": [
    "# Taking input in a  python program \n",
    "\n",
    "So far all of the programs we have written have been worse than doing the equivalent operation with a calculator, a spreadsheet, or some other tool that doesn't require a programming language. This is because we have had no way to 1) work with data that we didn't type out ourselves in the code of the program (data that is typed in by the user, or stored in an external data file OR 2) give the program instructions once it is running (pressing a button, or typing out numbers, letters, \"yes\" or \"no\"). To get started with this process, we will first take a look at the with the built-in python function `input()`. \n",
    "\n",
    "\n",
    "## The `input()` function \n",
    "\n",
    "Let's take a look at the structure of the `input()` function, which is actually very straightforward. Take a look at the code for a second, then run the code cell below. "
   ]
  },
  {
   "cell_type": "code",
   "execution_count": 1,
   "metadata": {},
   "outputs": [
    {
     "name": "stdout",
     "output_type": "stream",
     "text": [
      "A prompt is a question for the user, such as: What day is it today? Constantinople\n",
      "Today is Constantinople\n"
     ]
    }
   ],
   "source": [
    "day_of_week = input('A prompt is a question for the user, such as: What day is it today? ')\n",
    "                    \n",
    "print('Today is ' + day_of_week)"
   ]
  },
  {
   "cell_type": "markdown",
   "metadata": {},
   "source": [
    "Notice that in line 1 we've captured the input by using an equals sign to assign a value to a variable, just as if we wanted to say `x = 7`. In this case we are assigning the value we capture to the variable `day_of_week`. \n",
    "\n",
    "`input()` is an example of a **function** in python. You have seen this term before but is hasn't been explained yet. Functions take particular **arguments**, which means additional instructinos for how the command is to operate. Arguments The important argument for the input command is a 'prompt' that appears to the user and, just like a prompt in a survey or an exam, solicits the information the program is seeking. Arguments to a function are always given within the parentheses that follow the function name, like this is pseudocode:\n",
    "```\n",
    "some_python_function(argument1, argument2, argument3)\n",
    "```\n",
    "\n",
    "The nature of the arguments depends on the function. Arguments can be strings, numbers, lists, etc. depending on what the function is trying to do. Using a function correctly means understanding what arguments it requires. Functions can have any number of arguments. Some arguments are required for the function to work properly, while others are optional. Some arguments must be of a certain data type, while others can accept multiple data types. \n",
    "\n",
    "In the case of `input()`, the only argument that it takes is the prompt that the user receives: \n",
    "```\n",
    "input('prompt')\n",
    "```\n",
    "\n",
    "So in that sense it's a very simple function. Explore the prompt argument below by commenting and uncommenting the lines at the top of the code block. \n"
   ]
  },
  {
   "cell_type": "code",
   "execution_count": null,
   "metadata": {},
   "outputs": [],
   "source": [
    "day_of_week_for_psychics = input()\n",
    "#day_of_week_for_psychics = input(1)\n",
    "#day_of_week_for_psychics = input([12,\"banana\",{'height' : 73}])\n",
    "\n",
    "print('Today is ' + day_of_week_for_psychics)"
   ]
  },
  {
   "cell_type": "markdown",
   "metadata": {},
   "source": [
    "### Question\n",
    "\n",
    "Is the argument that specifies a prompt in python a required or an optional argument? What data types seem to be valid for this argument? Which of these do you think is the most useful?"
   ]
  },
  {
   "cell_type": "markdown",
   "metadata": {},
   "source": [
    "Double click on this text to add your answer here:\n",
    "\n",
    "- \n",
    "- \n",
    "- \n",
    "-"
   ]
  },
  {
   "cell_type": "markdown",
   "metadata": {},
   "source": [
    "The other thing about functions is that they **return** something back to the main body of code. `input()`, of course, returns whatever is typed in by the user. Our code assigned the data that was returned to the value `day_of_week`. We will explore this aspect of functions much more very soon. \n",
    "\n",
    "Now it's your turn to use the `input()` function. \n",
    "\n",
    "### Exercise\n",
    "\n",
    "Write code to take in the user's first and last name and save them as separate variables. Make the prompts whatever you want.\n",
    "\n",
    "Then output the following line of code, using the data you just collected:\n",
    "```\n",
    "The student's name is Lastname, Firstname\n",
    "```"
   ]
  },
  {
   "cell_type": "code",
   "execution_count": 2,
   "metadata": {},
   "outputs": [
    {
     "name": "stdout",
     "output_type": "stream",
     "text": [
      "Student First Name: Jeff\n",
      "Student Last Name:Klemens\n",
      "The student's name is Klemens, Jeff\n"
     ]
    }
   ],
   "source": [
    "first = input('Student First Name: ')\n",
    "last = input('Student Last Name:')\n",
    "\n",
    "print('The student\\'s name is '+ last + ', ' + first)\n"
   ]
  },
  {
   "cell_type": "markdown",
   "metadata": {},
   "source": [
    "Great, now let's combine the power of `input()` and a for-loop. Copy this DNA sequence and paste it into the prompt, just like you might copy a DNA sequence out of an online database. The program will then use what was given to it and calculate GC-content, which is the percentage of guanine or cytosine bases.\n",
    "```\n",
    "ACAAGATGCCATTGTCCCCCGGCCTCCTGCTGCTGCTGCTCTCCGGGGCCACGGCCACCGCTGCCCTGCC\n",
    "CCTGGAGGGTGGCCCCACCGGCCGAGACAGCGAGCATATGCAGGAAGCGGCAGGAATAAGGAAAAGCAGC\n",
    "CTCCTGACTTTCCTCGCTTGGTGGTTTGAGTGGACCTCCCAGGCCAGTGCCGGGCCCCTCATAGGAGAGG\n",
    "AAGCTCGGGAGGTGGCCAGGCGGCAGGAAGGCGCACCCCCCCAGCAATCCGCGCGCCGGGACAGAATGCC\n",
    "CTGCAGGAACTTCTTCTGGAAGACCTTCTCCTCCTGCAAATAAAACCTCACCCATGAATGCTCACGCAAG\n",
    "TTTAATTACAGACCTGAA\n",
    "```"
   ]
  },
  {
   "cell_type": "code",
   "execution_count": 3,
   "metadata": {},
   "outputs": [
    {
     "name": "stdout",
     "output_type": "stream",
     "text": [
      "Enter DNA sequence to count: ACAAGATGCCATTGTCCCCCGGCCTCCTGCTGCTGCTGCTCTCCGGGGCCACGGCCACCGCTGCCCTGCC CCTGGAGGGTGGCCCCACCGGCCGAGACAGCGAGCATATGCAGGAAGCGGCAGGAATAAGGAAAAGCAGC CTCCTGACTTTCCTCGCTTGGTGGTTTGAGTGGACCTCCCAGGCCAGTGCCGGGCCCCTCATAGGAGAGG AAGCTCGGGAGGTGGCCAGGCGGCAGGAAGGCGCACCCCCCCAGCAATCCGCGCGCCGGGACAGAATGCC CTGCAGGAACTTCTTCTGGAAGACCTTCTCCTCCTGCAAATAAAACCTCACCCATGAATGCTCACGCAAG TTTAATTACAGACCTGAA\n",
      "\n",
      "The GC content in this sequence is: 0.6112600536193029\n"
     ]
    }
   ],
   "source": [
    "DNA = input(\"Enter DNA sequence to count: \")\n",
    "\n",
    "count = 0\n",
    "\n",
    "for i in DNA:\n",
    "    if i == \"C\" or i == \"G\":\n",
    "        count += 1\n",
    "\n",
    "GC_ratio = (count)/len(DNA)\n",
    "\n",
    "print()\n",
    "print(\"The GC content in this sequence is: \" + str(GC_ratio))"
   ]
  },
  {
   "cell_type": "markdown",
   "metadata": {},
   "source": [
    "Let's look at another example. We were doing some math problems earlier on that would have been a lot more useful if the user could have entered their own numbers. Trying running the area calculator below "
   ]
  },
  {
   "cell_type": "code",
   "execution_count": null,
   "metadata": {},
   "outputs": [],
   "source": [
    "#Fix this code\n",
    "\n",
    "side1 = input('length of first side: ')\n",
    "side2 = input('length of second side: ')\n",
    "\n",
    "area = side1 * side2 \n",
    "print()\n",
    "print('The area of the rectangle equals: ' + str(area))"
   ]
  },
  {
   "cell_type": "markdown",
   "metadata": {},
   "source": [
    "### Question\n",
    "What do you think is going on here? How could you go in and fix it? What does this tell us about the default format of any material entered using the input command?"
   ]
  },
  {
   "cell_type": "markdown",
   "metadata": {},
   "source": [
    "Double click on this text to add your answer here:\n",
    "\n",
    "- \n",
    "- \n",
    "- \n",
    "-"
   ]
  },
  {
   "cell_type": "markdown",
   "metadata": {},
   "source": [
    "## Collecting input to a data structure\n",
    "\n",
    "Of course we can do more with data than just print it back out again. We could also use input from the user to collect data. Consider the following code."
   ]
  },
  {
   "cell_type": "code",
   "execution_count": null,
   "metadata": {},
   "outputs": [],
   "source": [
    "student_list = []\n",
    "\n",
    "for i in range(4):\n",
    "    firstname = input('Enter the first name of a student in your class: ')\n",
    "    student_list.append(firstname)\n",
    "    \n",
    "print(student_list)"
   ]
  },
  {
   "cell_type": "markdown",
   "metadata": {},
   "source": [
    "At the end of this program we would have a student list in the form of a datset. \n",
    "\n",
    "\n",
    "### Exercise\n",
    "Try writing a grocery list program that, each time it is run, will add a single item to an existing grocery list and print out an alphabetized result like this:\n",
    "```\n",
    "apples\n",
    "cookies\n",
    "milk\n",
    "zucchini\n",
    "```\n",
    "\n",
    "Run the first code cell just once, each time you run it it will reset your list. "
   ]
  },
  {
   "cell_type": "code",
   "execution_count": null,
   "metadata": {},
   "outputs": [],
   "source": [
    "grocery_list = []        ## run this once each time you want to test your code to 'clear' your list"
   ]
  },
  {
   "cell_type": "code",
   "execution_count": null,
   "metadata": {},
   "outputs": [],
   "source": [
    "# run this code multiple times to build your list \n",
    "## don't worry about constructing this as a big loop structure\n",
    "## think of it as running this code each time you think of something to add\n",
    "## you can easily do this in five lines of code\n",
    "\n",
    "\n",
    "#\n",
    "## your code here\n",
    "#"
   ]
  },
  {
   "cell_type": "markdown",
   "metadata": {},
   "source": [
    "## Using input in control flow\n",
    "\n",
    "We've seen how we can accept outside data from within a python program and then operate on it. Another thing we can do is use input to determine the specifics of what we want a program to do. You do something like this everytime you push a button or make a selection from a dropdown menu in a word processing program. In the case of a python program, we can use multiple different text inputs to control the program. Let's look at a simple example."
   ]
  },
  {
   "cell_type": "code",
   "execution_count": null,
   "metadata": {},
   "outputs": [],
   "source": [
    "meaningful_words = input (\"Write a small phrase here. Make sure it has both uppercase or lowercase letters: \\n\")\n",
    "    \n",
    "select = input (\"\\nGreat! Now do you want to make this text all uppercase or all lowercase? \\nType either 'upper' or 'lower' \\n \\n\")\n",
    "    \n",
    "if str(select) == \"lower\":\n",
    "    print (\"\\n\" + meaningful_words.lower())\n",
    "\n",
    "elif str(select) == \"upper\":\n",
    "    print (\"\\n\" + meaningful_words.upper())\n",
    "    \n",
    "else:\n",
    "    print (\"Not a valid choice ... sorry.\")\n"
   ]
  },
  {
   "cell_type": "markdown",
   "metadata": {},
   "source": [
    "### Question\n",
    "What was the `else` statement for in the example program? What would have happened if we had not included it (comment out the last two lines if you aren't sure). What are the consequences for the user if we don't include those lines? Do you think this is imporant from a usability standpoint? Why or why not?"
   ]
  },
  {
   "cell_type": "markdown",
   "metadata": {},
   "source": [
    "Double click on this text to add your answer here:\n",
    "\n",
    "- \n",
    "- \n",
    "- \n",
    "-"
   ]
  },
  {
   "cell_type": "markdown",
   "metadata": {},
   "source": [
    "Hopefully this is all pretty straightforward. The best thing to do now is practice. Each of these exercises requires you to use input but also to use some of the elements that we have introduced over the last few weeks. \n",
    "\n",
    "### Exercise\n",
    "\n",
    "Write a program that asks the user to enter a name, and then (with a separate `input()` statement) asks for a letter grade for that person. Set this program up as a loop that runs for five students. Store the data in a list of dictionaries where each dictinoary  contains the keys `name` and `grade` for each student. Print out the name and grade for each student. \n",
    "\n"
   ]
  },
  {
   "cell_type": "code",
   "execution_count": null,
   "metadata": {},
   "outputs": [],
   "source": [
    "#\n",
    "## Your code here\n",
    "#"
   ]
  },
  {
   "cell_type": "markdown",
   "metadata": {},
   "source": [
    "### Exercise\n",
    "\n",
    "Write a program that asks a user to enter a number (a base) and then raises that number to the power specified. So for example, if the user enters base = 4, power = 3, the program should print out an answer of 64. Test the program with the following numbers:\n",
    "\n",
    "4, 3  = 64\n",
    "\n",
    "13, 3 = 2197\n",
    "\n",
    "100, -2 = 0.0001\n",
    "\n",
    "100, 0.5 = 10\n",
    "\n",
    "2.5, 2 = 6.25"
   ]
  },
  {
   "cell_type": "code",
   "execution_count": null,
   "metadata": {},
   "outputs": [],
   "source": [
    "#\n",
    "## Your code here\n",
    "#"
   ]
  },
  {
   "cell_type": "markdown",
   "metadata": {},
   "source": [
    "![Alt text that will appear on mouseover](images/TJU_logo_dummy_image.png \"Dummy image\")"
   ]
  }
 ],
 "metadata": {
  "kernelspec": {
   "display_name": "Python 3 (ipykernel)",
   "language": "python",
   "name": "python3"
  },
  "language_info": {
   "codemirror_mode": {
    "name": "ipython",
    "version": 3
   },
   "file_extension": ".py",
   "mimetype": "text/x-python",
   "name": "python",
   "nbconvert_exporter": "python",
   "pygments_lexer": "ipython3",
   "version": "3.9.7"
  }
 },
 "nbformat": 4,
 "nbformat_minor": 2
}
