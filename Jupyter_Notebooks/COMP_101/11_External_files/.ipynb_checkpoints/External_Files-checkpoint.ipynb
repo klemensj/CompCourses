{
 "cells": [
  {
   "cell_type": "markdown",
   "metadata": {},
   "source": [
    "<div align =\"right\">Thomas Jefferson University <b>COMP 101</b>: Intro to Coding</div>"
   ]
  },
  {
   "cell_type": "markdown",
   "metadata": {},
   "source": [
    "# How to work with external files\n",
    "\n",
    "For our final project we will need to import data from an external file. Below, you can see a function that has already been defined. It will allow you to open, extract, and close a txt file."
   ]
  },
  {
   "cell_type": "code",
   "execution_count": null,
   "metadata": {},
   "outputs": [],
   "source": [
    "def import_txt(file):\n",
    "    openfile = open(file,\"r\")\n",
    "    contents = openfile.read()\n",
    "    openfile.close\n",
    "    return (contents)"
   ]
  },
  {
   "cell_type": "markdown",
   "metadata": {},
   "source": [
    "This function takes the argument 'file'. This argument is in the form of a file name and directory address of a file that is located on your computer. What do we mean by a directory address? This is a way of representing a file's location. For example, a directory address might look like this for a file in your documents folder on a mac:\n",
    "```\n",
    "Mac HD/Users/my_user_name/Documents/COMP_101\n",
    "\n",
    "~/Documents/COMP_101     #note that ~/ takes you right to my_user_name or 'home' folder \n",
    "\n",
    "```\n",
    "or a PC:\n",
    "```\n",
    "C:\\Users\\my_user_name\\Documents\\COMP_101\n",
    "\n",
    "```\n",
    "Using a 'get info' (Command+i ; mac) or 'properties' (right-click, PC) on a folder will generally give you its address. \n",
    "\n",
    "We can also use **relative addresses** which are much easier to work with. When you are working with code, like a python script of a jupyter notebook, that code is associated with a particular **working directory**. This is just the default 'folder' or directory that relates to your code. If your code creates a new file,  it will write to this working directory unless otherwise specified. \n",
    "\n",
    "By default, when you are in a jupyter notebook the working directory is the directory that the jupyter notebook (the `.ipynb` file) itself is stored in.  However, we don't have to just use this directory. We can specify a new folder that is relative to our original location by starting our address by writing `./file.txt` or `./subfolder/file.txt`. In this case the `./` represents the current working directory. So we can access a file in the same directory, or a file within the same subfolder respectively. \n",
    "\n",
    "Just for ease of writing our code, let's set a variable to represent the data we are going to capture from file:"
   ]
  },
  {
   "cell_type": "code",
   "execution_count": null,
   "metadata": {},
   "outputs": [],
   "source": [
    "external_dna = import_txt('./Ex_3/over_here/a_little_more/here_it_is/rosalind_dna.txt')"
   ]
  },
  {
   "cell_type": "markdown",
   "metadata": {},
   "source": [
    "Poke around in the folder that contains this notebook to see why this command works. Try changing one letter in the address to see what happens. You should get a `FileNotFoundError` message that tells you there is no such file! \n",
    "\n",
    "\n",
    "Now we can view what exactly we captured with our import txt command printing it out and checking the data type. "
   ]
  },
  {
   "cell_type": "code",
   "execution_count": null,
   "metadata": {},
   "outputs": [],
   "source": [
    "print(external_dna)\n",
    "print(type(external_dna))"
   ]
  },
  {
   "cell_type": "markdown",
   "metadata": {},
   "source": [
    "Let's go line by line through this function:\n",
    "\n",
    "```\n",
    "def import_txt(file):\n",
    "    openfile = open(file,\"r\")\n",
    "    contents = openfile.read()\n",
    "    openfile.close\n",
    "    return (contents)\n",
    "```\n",
    "\n",
    "`openfile` is the name of an object that represents a connection to the source file, that object is created by the `open` command. The parameters of the `open` command are the file name and the parameter `\"r\"` which indicates that we are opening the file for reading, as opposed to writing. It's the equivalent to opening a file in read-only mode. \n",
    "\n",
    "`contents` is a variable that we use to hold the contents of the file, we assign it the output of the method `.read()`\n",
    "\n",
    "we use the method `.close` to break the connection to the source file. "
   ]
  },
  {
   "cell_type": "code",
   "execution_count": null,
   "metadata": {},
   "outputs": [],
   "source": [
    "def import_txt_transparent(file):\n",
    "    openfile = open(file,\"r\")\n",
    "    print(type(openfile), 'this is the type of the openfile object')\n",
    "    contents = openfile.read()\n",
    "    print(type(contents), 'this is the type of the contents variable')\n",
    "    openfile.close\n",
    "    return (contents)\n",
    "\n",
    "external_dna = import_txt_transparent('./Ex_3/over_here/a_little_more/here_it_is/rosalind_dna.txt')\n"
   ]
  },
  {
   "cell_type": "markdown",
   "metadata": {},
   "source": [
    "As you can see from the code results above  the class of the object we created is an `_io.TextIOWrapper`. You dont' really need to worry much about this, when you see something designated as `io` that generally refers to in-out, or an object that is used to manage input. \n",
    "\n",
    "As we move forward in python coding inputs and outputs will actually get much easier! Most of the higher-level libraries we use for scientific computing will contain their own input commands that can be executed in a single line. But the original function above should be sufficient for your COMP 101 project!"
   ]
  },
  {
   "cell_type": "markdown",
   "metadata": {},
   "source": [
    "![Alt text that will appear on mouseover](images/TJU_logo_dummy_image.png \"Dummy image\")"
   ]
  }
 ],
 "metadata": {
  "kernelspec": {
   "display_name": "Python 3 (ipykernel)",
   "language": "python",
   "name": "python3"
  },
  "language_info": {
   "codemirror_mode": {
    "name": "ipython",
    "version": 3
   },
   "file_extension": ".py",
   "mimetype": "text/x-python",
   "name": "python",
   "nbconvert_exporter": "python",
   "pygments_lexer": "ipython3",
   "version": "3.9.12"
  }
 },
 "nbformat": 4,
 "nbformat_minor": 2
}
