{
 "cells": [
  {
   "cell_type": "markdown",
   "metadata": {},
   "source": [
    "<div align =\"right\">Thomas Jefferson University <b>COMP 101</b>: Intro to Coding</div>"
   ]
  },
  {
   "cell_type": "markdown",
   "metadata": {},
   "source": [
    "# Functions Continued\n",
    "\n",
    "## Import statement\n",
    "\n",
    "There are numerous additional ways we can use functions to make code flow more easily. Take a look at the statement below. "
   ]
  },
  {
   "cell_type": "code",
   "execution_count": null,
   "metadata": {},
   "outputs": [],
   "source": [
    "from Box_math import volume_calc\n",
    "from Box_math import surface_area_calc"
   ]
  },
  {
   "cell_type": "code",
   "execution_count": null,
   "metadata": {},
   "outputs": [],
   "source": [
    "volume_calc(1,2,3)"
   ]
  },
  {
   "cell_type": "markdown",
   "metadata": {},
   "source": [
    "Somehow we were able to use our `volume_calc` and `surface_area_calc` functions even though we hadn't defined them. Go look in the folder named '9_Functions_continued' and find the file `Box_math.py`.\n",
    "\n",
    "### Question\n",
    "What do you think is going on here and what do you need to do to make it work? Why is this useful?"
   ]
  },
  {
   "cell_type": "markdown",
   "metadata": {},
   "source": [
    "Double click on this text to add your answer here:\n",
    "\n",
    "- \n",
    "- \n",
    "- \n",
    "-"
   ]
  },
  {
   "cell_type": "markdown",
   "metadata": {},
   "source": [
    "### Exercise \n",
    "Create your own external file of functions to include, and then run them in the code window below. Write a function that asks the user to input two numbers, and a **second** function that calculates the value (1/x)^y.\n",
    "*Hint* write the functions and get them working in the code window below, and only then move them to the external file. "
   ]
  },
  {
   "cell_type": "code",
   "execution_count": null,
   "metadata": {},
   "outputs": [],
   "source": [
    "#\n",
    "### Your code here\n",
    "#"
   ]
  },
  {
   "cell_type": "markdown",
   "metadata": {},
   "source": [
    "## Assert Statements"
   ]
  },
  {
   "cell_type": "markdown",
   "metadata": {},
   "source": [
    "When we are programming with functions, we often want to test that the function works over a range of conditions. We can do this using an assert statement. An assert statement forces data that should have a known output into a function, then returns different messages if the resulting statement is true or false.  \n",
    "\n",
    "Specifically, the string following the `assert` statement is what is returned in case of an error. "
   ]
  },
  {
   "cell_type": "code",
   "execution_count": null,
   "metadata": {},
   "outputs": [],
   "source": [
    "#define the function\n",
    "\n",
    "def largest_item(items):\n",
    "    largest = max(items)\n",
    "    return largest\n",
    "\n",
    "#run an assert using test data of known outcome\n",
    "test_data = [1,2,3,4,18,6,7]\n",
    "assert largest_item(test_data) == 18, \"Did not return the largest item\"\n",
    "\n",
    "#output if assert resolves to true\n",
    "print(\"Congratulations, your function worked!\")"
   ]
  },
  {
   "cell_type": "markdown",
   "metadata": {},
   "source": [
    "In the case of this simple function, we have of course constructed it correctly. Now look at the function below, called `first_word_finder()`. Let's assume the assignment was the following:\n",
    "\n",
    "```\n",
    "Pull the first word from each text string. You should strip away any punctuation or extraneous spaces and return the first word that occurs in the string. Ignore punctuation, but recall that words can contain punctuation in the form of an apostrophes, e.g. don't, can't, won't. \n",
    "```"
   ]
  },
  {
   "cell_type": "code",
   "execution_count": 14,
   "metadata": {},
   "outputs": [],
   "source": [
    "def first_word_finder(text_for_first_word):\n",
    "    \n",
    "    first_word = \"\" \n",
    "    \n",
    "    start_index = 0\n",
    "    end_index = 0\n",
    "    \n",
    "    for i in range(0, len(text_for_first_word)):\n",
    "        if text_for_first_word[i].isalpha() == 1:\n",
    "            start_index = i\n",
    "            break\n",
    "            \n",
    "    for i in range(start_index+1, len(text_for_first_word)):\n",
    "        if text_for_first_word[i].isalpha() == 0 and text_for_first_word[i] != \"'\":\n",
    "            end_index = i\n",
    "            break\n",
    "        \n",
    "    first_word=text_for_first_word[start_index:end_index]\n",
    "    \n",
    "    print(first_word)\n",
    "    return(first_word)"
   ]
  },
  {
   "cell_type": "markdown",
   "metadata": {},
   "source": [
    "In the code window below, try testing the code on some strings of your own to see if it works:"
   ]
  },
  {
   "cell_type": "code",
   "execution_count": 17,
   "metadata": {},
   "outputs": [
    {
     "name": "stdout",
     "output_type": "stream",
     "text": [
      "Tis\n",
      "\n"
     ]
    },
    {
     "data": {
      "text/plain": [
       "''"
      ]
     },
     "execution_count": 17,
     "metadata": {},
     "output_type": "execute_result"
    }
   ],
   "source": [
    "#\n",
    "## Your code here\n",
    "#\n",
    "\n",
    "first_word_finder(\"'Tis a wonderful morning\")\n",
    "first_word_finder(\"Hello\")"
   ]
  },
  {
   "cell_type": "markdown",
   "metadata": {},
   "source": [
    "Now look at the assert statements below, what you can see are that these assert statements are designed to catch common errors in the code. It will systematically test basic errors and send back appropriate error messages for each one."
   ]
  },
  {
   "cell_type": "code",
   "execution_count": null,
   "metadata": {},
   "outputs": [],
   "source": [
    "###This is the Testing block, don't change any of this text\n",
    "assert first_word_finder(\"Hi there!\") == \"Hi\", \"fails basic test\"\n",
    "assert first_word_finder(\"¡Hola! ¿Como le va?\") == \"Hola\", \"Did not strip leading punctuation\"\n",
    "assert first_word_finder(\"It's a boy!\") == \"It's\", \"Should allow contractions\"\n",
    "assert first_word_finder(\"    Hello?\") == \"Hello\", \"Did not strip leading spaces\"\n",
    "assert first_word_finder(\". . . Is anybody out there?\") == \"Is\", \"complex leading spaces and punctuation\"\n",
    "\n",
    "print(\"Congratulations, your function worked!\")"
   ]
  },
  {
   "cell_type": "markdown",
   "metadata": {},
   "source": [
    "### Exercise\n",
    "Go through and annotate the function above with comments. How is it doing what it is doing? Give a general description of how it works in your own words below."
   ]
  },
  {
   "cell_type": "markdown",
   "metadata": {},
   "source": [
    "Double click on this text to add your answer here:\n",
    "\n",
    "- \n",
    "- \n",
    "- \n",
    "-"
   ]
  },
  {
   "cell_type": "markdown",
   "metadata": {},
   "source": [
    "![Alt text that will appear on mouseover](images/TJU_logo_dummy_image.png \"Dummy image\")"
   ]
  }
 ],
 "metadata": {
  "kernelspec": {
   "display_name": "Python 3 (ipykernel)",
   "language": "python",
   "name": "python3"
  },
  "language_info": {
   "codemirror_mode": {
    "name": "ipython",
    "version": 3
   },
   "file_extension": ".py",
   "mimetype": "text/x-python",
   "name": "python",
   "nbconvert_exporter": "python",
   "pygments_lexer": "ipython3",
   "version": "3.9.7"
  }
 },
 "nbformat": 4,
 "nbformat_minor": 2
}
