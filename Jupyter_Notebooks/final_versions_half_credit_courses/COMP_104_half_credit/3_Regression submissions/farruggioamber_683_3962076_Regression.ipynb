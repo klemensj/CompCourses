{
 "cells": [
  {
   "cell_type": "markdown",
   "metadata": {},
   "source": [
    "<div align =\"right\">Thomas Jefferson University <b>COMP 104</b>: Intro to Big Data</div>"
   ]
  },
  {
   "cell_type": "markdown",
   "metadata": {},
   "source": [
    "# Correlation and Regression\n",
    "\n",
    "\n",
    "Let's start with a very simple example. We can use the `stats` module within the `scipy` library to do basic statistics. So let's add that to our standard import list. \n"
   ]
  },
  {
   "cell_type": "code",
   "execution_count": 1,
   "metadata": {},
   "outputs": [],
   "source": [
    "import matplotlib.pyplot as plt\n",
    "import pandas as pd\n",
    "from scipy import stats      #short name, no nickname needed\n"
   ]
  },
  {
   "cell_type": "markdown",
   "metadata": {},
   "source": [
    "## Correlation\n",
    "From the data folder import `AvgTemp.csv` into a pandas dataframe named `AvgTemp` and display the data header:"
   ]
  },
  {
   "cell_type": "code",
   "execution_count": 2,
   "metadata": {},
   "outputs": [
    {
     "name": "stdout",
     "output_type": "stream",
     "text": [
      "Dataframe:\n"
     ]
    },
    {
     "data": {
      "text/html": [
       "<div>\n",
       "<style scoped>\n",
       "    .dataframe tbody tr th:only-of-type {\n",
       "        vertical-align: middle;\n",
       "    }\n",
       "\n",
       "    .dataframe tbody tr th {\n",
       "        vertical-align: top;\n",
       "    }\n",
       "\n",
       "    .dataframe thead th {\n",
       "        text-align: right;\n",
       "    }\n",
       "</style>\n",
       "<table border=\"1\" class=\"dataframe\">\n",
       "  <thead>\n",
       "    <tr style=\"text-align: right;\">\n",
       "      <th></th>\n",
       "      <th>year</th>\n",
       "      <th>AvgTemp</th>\n",
       "    </tr>\n",
       "  </thead>\n",
       "  <tbody>\n",
       "    <tr>\n",
       "      <th>0</th>\n",
       "      <td>1887</td>\n",
       "      <td>-7.5</td>\n",
       "    </tr>\n",
       "    <tr>\n",
       "      <th>1</th>\n",
       "      <td>1888</td>\n",
       "      <td>-6.8</td>\n",
       "    </tr>\n",
       "    <tr>\n",
       "      <th>2</th>\n",
       "      <td>1889</td>\n",
       "      <td>-7.1</td>\n",
       "    </tr>\n",
       "    <tr>\n",
       "      <th>3</th>\n",
       "      <td>1890</td>\n",
       "      <td>-7.0</td>\n",
       "    </tr>\n",
       "    <tr>\n",
       "      <th>4</th>\n",
       "      <td>1891</td>\n",
       "      <td>-6.7</td>\n",
       "    </tr>\n",
       "    <tr>\n",
       "      <th>...</th>\n",
       "      <td>...</td>\n",
       "      <td>...</td>\n",
       "    </tr>\n",
       "    <tr>\n",
       "      <th>117</th>\n",
       "      <td>2004</td>\n",
       "      <td>-5.2</td>\n",
       "    </tr>\n",
       "    <tr>\n",
       "      <th>118</th>\n",
       "      <td>2005</td>\n",
       "      <td>-5.7</td>\n",
       "    </tr>\n",
       "    <tr>\n",
       "      <th>119</th>\n",
       "      <td>2006</td>\n",
       "      <td>-4.5</td>\n",
       "    </tr>\n",
       "    <tr>\n",
       "      <th>120</th>\n",
       "      <td>2007</td>\n",
       "      <td>-4.5</td>\n",
       "    </tr>\n",
       "    <tr>\n",
       "      <th>121</th>\n",
       "      <td>2008</td>\n",
       "      <td>-4.7</td>\n",
       "    </tr>\n",
       "  </tbody>\n",
       "</table>\n",
       "<p>122 rows × 2 columns</p>\n",
       "</div>"
      ],
      "text/plain": [
       "     year  AvgTemp\n",
       "0    1887     -7.5\n",
       "1    1888     -6.8\n",
       "2    1889     -7.1\n",
       "3    1890     -7.0\n",
       "4    1891     -6.7\n",
       "..    ...      ...\n",
       "117  2004     -5.2\n",
       "118  2005     -5.7\n",
       "119  2006     -4.5\n",
       "120  2007     -4.5\n",
       "121  2008     -4.7\n",
       "\n",
       "[122 rows x 2 columns]"
      ]
     },
     "metadata": {},
     "output_type": "display_data"
    },
    {
     "name": "stdout",
     "output_type": "stream",
     "text": [
      "Data Header:\n"
     ]
    },
    {
     "data": {
      "text/plain": [
       "['year', 'AvgTemp']"
      ]
     },
     "metadata": {},
     "output_type": "display_data"
    }
   ],
   "source": [
    "AvgTemp = pd.read_csv('data/AvgTemp.csv')\n",
    "\n",
    "print(\"Dataframe:\")\n",
    "display(AvgTemp)\n",
    "\n",
    "print(\"Data Header:\")\n",
    "display(list(AvgTemp.columns.values))"
   ]
  },
  {
   "cell_type": "markdown",
   "metadata": {},
   "source": [
    "To run a correlation analysis within scipy.stats we use the incredibly simple format\n",
    "```\n",
    "stats.pearsonr(x,y)\n",
    "```\n",
    "\"Pearson's r\" is of course the correlation coefficient *r*. Try it yourself. Note that since a correlation analysis is about the co-variance between variables, it doesn't matter which value we use for x and which value we use for y. Try running it both ways and printing the results to prove that it is the same. "
   ]
  },
  {
   "cell_type": "code",
   "execution_count": 3,
   "metadata": {},
   "outputs": [
    {
     "data": {
      "text/plain": [
       "(0.6388445026294713, 2.4263207499079536e-15)"
      ]
     },
     "execution_count": 3,
     "metadata": {},
     "output_type": "execute_result"
    }
   ],
   "source": [
    "#run and print the results of the correlation twice, using each variable as x and y\n",
    "x = AvgTemp['year']\n",
    "y = AvgTemp['AvgTemp']\n",
    "\n",
    "stats.pearsonr(x,y)\n",
    "\n",
    "a = AvgTemp['AvgTemp']\n",
    "b = AvgTemp['year']\n",
    "\n",
    "stats.pearsonr(a,b)"
   ]
  },
  {
   "cell_type": "markdown",
   "metadata": {},
   "source": [
    "Ok, so now we come to something that is going to come up a lot with statistical analyses. What do these outputs means and how do we interpret them? Luckily for us, SciPy.org maintains really nice documentation of each of the modules.  <a href = 'https://docs.scipy.org/doc/scipy/reference/generated/scipy.stats.pearsonr.html'>The documentation for the `pearsonr` function<> tells us that the two numbers we are seeing are the correlation coefficient *r* and the *p-value*, respectively. Don't worry about what the p value means for now, we will get to that. The data is stored as a <a href='https://www.w3schools.com/python/python_sets.asp'>tuple</a>, in which a single variable name is used to store multiple pieces of data. As you can see at 'Next' page at the link, 'Access Tuples', tuples can be indexed just like a list. In the next code window assign the results of the pearsonr function to a variable `results`, and then use that tuple to print out the following output.\n",
    "    \n",
    "```\n",
    "r=  0.6388445026294715\n",
    "p-value =  2.42632074990794e-15\n",
    "```\n",
    "    \n",
    "    "
   ]
  },
  {
   "cell_type": "code",
   "execution_count": 4,
   "metadata": {},
   "outputs": [
    {
     "name": "stdout",
     "output_type": "stream",
     "text": [
      "r = 0.6388445026294713\n",
      "p-value = 2.4263207499079536e-15\n"
     ]
    }
   ],
   "source": [
    "# Generate your ouput of the correlation results here\n",
    "\n",
    "x = AvgTemp['year']\n",
    "y = AvgTemp['AvgTemp']\n",
    "\n",
    "thistuple = (stats.pearsonr(x,y))\n",
    "\n",
    "print(\"r =\", thistuple[0])\n",
    "\n",
    "print(\"p-value =\", thistuple[1])\n"
   ]
  },
  {
   "cell_type": "markdown",
   "metadata": {},
   "source": [
    "Now create a scatterplot for the dataset. Label the axes, and place the text you generated in an appropriate location on the image. Ta-dah! You've done your first correlation analysis. "
   ]
  },
  {
   "cell_type": "code",
   "execution_count": 5,
   "metadata": {},
   "outputs": [
    {
     "data": {
      "text/plain": [
       "Text(0.5, 1.0, 'The Average Temperature Each Year Between 1887 and 2008')"
      ]
     },
     "execution_count": 5,
     "metadata": {},
     "output_type": "execute_result"
    },
    {
     "data": {
      "image/png": "[encoded data removed]",
      "text/plain": [
       "<Figure size 720x720 with 1 Axes>"
      ]
     },
     "metadata": {
      "needs_background": "light"
     },
     "output_type": "display_data"
    }
   ],
   "source": [
    "#Make your scatterplot here. \n",
    "AvgTemp = pd.read_csv('data/AvgTemp.csv')\n",
    "AvgTemp.set_index('AvgTemp')\n",
    "\n",
    "fig = plt.figure( figsize = (10,10))\n",
    "ax = plt.axes()\n",
    "\n",
    "x = AvgTemp['year']\n",
    "y = AvgTemp['AvgTemp']\n",
    "\n",
    "ax.scatter = plt.scatter(x,y)\n",
    "\n",
    "plt.ylabel('Average Temperature', fontsize = 16)\n",
    "plt.xlabel('Year', fontsize = 16)\n",
    "plt.title('The Average Temperature Each Year Between 1887 and 2008', fontsize = 18, fontweight = 'bold')\n"
   ]
  },
  {
   "cell_type": "markdown",
   "metadata": {},
   "source": [
    "## Regression\n",
    "\n",
    "As you learned in the reading, correlation and regression are similar but different. Whereas correlation is about measuring the strength of association between two variables, regression is about building a model from which we can predict the value of a dependent variable *y* from the value of an indepdendent or predictor variable *x*. \n",
    "\n",
    "We will use the same data that we used above, as it's appropriate for regression analysis. For regression, it is in fact really important to keep our dependent and independent variables in the right order. In this example, we are trying to predict how temperature changes with year, so year is the x value.\n",
    "```\n",
    "stats.linregress(x,y)\n",
    "```"
   ]
  },
  {
   "cell_type": "code",
   "execution_count": 6,
   "metadata": {},
   "outputs": [
    {
     "data": {
      "text/plain": [
       "LinregressResult(slope=0.01399374134643663, intercept=-33.18395881316894, rvalue=0.6388445026294712, pvalue=2.4263207499079685e-15, stderr=0.001538381493118527)"
      ]
     },
     "execution_count": 6,
     "metadata": {},
     "output_type": "execute_result"
    }
   ],
   "source": [
    "# Run the linear regression here\n",
    "x = AvgTemp['year']\n",
    "y = AvgTemp['AvgTemp']\n",
    "\n",
    "stats.linregress(x,y)"
   ]
  },
  {
   "cell_type": "markdown",
   "metadata": {},
   "source": [
    "Note that the output is something different! If we consult <a href = 'https://docs.scipy.org/doc/scipy/reference/generated/scipy.stats.linregress.html'>the SciPy documentation for lingregress</a> we see that it returns an *object*. You can google what this means, it's kind of deep, but it's similar to how we created plot objects with matplot lib. Functionally for us it means that our result has a lot of different named characteristics that are useful to us. \n",
    "\n",
    "Try the following. As you did above with the correlation, use a variable called results to store the results of the linear regression. This time, we will call from results using the names of the different elements in the object, like this `results.rvalue`. Use this to report the results of the regression. Your result should look like this\n",
    "```\n",
    "R^2 =  0.40812229853989646\n",
    "r =  0.6388445026294712\n",
    "slope =  0.01399374134643663\n",
    "intercept =  -33.18395881316894\n",
    "```"
   ]
  },
  {
   "cell_type": "code",
   "execution_count": 7,
   "metadata": {},
   "outputs": [
    {
     "name": "stdout",
     "output_type": "stream",
     "text": [
      "R^2 =  0.40812229853989646\n",
      "r =  0.6388445026294712\n",
      "slope =  0.01399374134643663\n",
      "intercept =  -33.18395881316894\n"
     ]
    }
   ],
   "source": [
    "# Generate your ouput of the correlation results here\n",
    "\n",
    "x = AvgTemp['year']\n",
    "y = AvgTemp['AvgTemp']\n",
    "\n",
    "mytuple = (stats.linregress(x,y))\n",
    "\n",
    "print(\"R^2 = \", mytuple[2]**2)    \n",
    "print(\"r = \", mytuple[2])\n",
    "print(\"slope = \", mytuple[0])\n",
    "print(\"intercept = \", mytuple[1])"
   ]
  },
  {
   "cell_type": "markdown",
   "metadata": {},
   "source": [
    "Note that the R^2 of a regression analysis is literally the *r* value of a correlation analysis squared. \n",
    "\n",
    "With a regression analysis, one thing we are doing is determining the equation of the line that best fits the data, in the sense that it minimizes the squared distance of the y values from that line. These values are reported as the slope and intercept. You should be able to create a line from the slope and intercept, plugging these values into your classic `y = mx + b ` equation for a line. \n",
    "\n",
    "For the final activity create a scatter plot of the data again, but this time add a regression line and annotate with the values from the regression, particularly R^2, and the slope and intercept of the line. "
   ]
  },
  {
   "cell_type": "code",
   "execution_count": 8,
   "metadata": {},
   "outputs": [
    {
     "data": {
      "text/plain": [
       "Text(0.5, 1.0, 'The Average Temperature Each Year Between 1887 and 2008')"
      ]
     },
     "execution_count": 8,
     "metadata": {},
     "output_type": "execute_result"
    },
    {
     "data": {
      "image/png": "[encoded data removed]",
      "text/plain": [
       "<Figure size 720x720 with 1 Axes>"
      ]
     },
     "metadata": {
      "needs_background": "light"
     },
     "output_type": "display_data"
    }
   ],
   "source": [
    "# Create your graph here\n",
    "\n",
    "AvgTemp = pd.read_csv('data/AvgTemp.csv')\n",
    "AvgTemp.set_index('AvgTemp')\n",
    "\n",
    "fig = plt.figure( figsize = (10,10))\n",
    "ax = plt.axes()\n",
    "\n",
    "x = AvgTemp['year']\n",
    "y = AvgTemp['AvgTemp']\n",
    "\n",
    "slope, intercept, r_value, p_value, std_err = stats.linregress(x,y)  \n",
    "line = slope*x + intercept \n",
    "\n",
    "plt.text(1888,-4.5,('R squared= %f'% r_value**2), fontsize = 12)  \n",
    "plt.text(1890,-4.65,('p value= %f'% p_value), fontsize = 12)   \n",
    "\n",
    "ax.scatter = plt.scatter(x,y)\n",
    "plt.plot(x, line)\n",
    "\n",
    "plt.ylabel('Average Temperature', fontsize = 16)\n",
    "plt.xlabel('Year', fontsize = 16)\n",
    "plt.title('The Average Temperature Each Year Between 1887 and 2008', fontsize = 18, fontweight = 'bold')"
   ]
  },
  {
   "cell_type": "markdown",
   "metadata": {},
   "source": [
    "![Alt text that will appear on mouseover](images/TJU_logo_image.png \"TJU logo image\")"
   ]
  }
 ],
 "metadata": {
  "kernelspec": {
   "display_name": "Python 3",
   "language": "python",
   "name": "python3"
  },
  "language_info": {
   "codemirror_mode": {
    "name": "ipython",
    "version": 3
   },
   "file_extension": ".py",
   "mimetype": "text/x-python",
   "name": "python",
   "nbconvert_exporter": "python",
   "pygments_lexer": "ipython3",
   "version": "3.8.3"
  }
 },
 "nbformat": 4,
 "nbformat_minor": 2
}
