{
 "cells": [
  {
   "cell_type": "markdown",
   "metadata": {},
   "source": [
    "# Final Project"
   ]
  },
  {
   "cell_type": "markdown",
   "metadata": {},
   "source": [
    "Fixed data set"
   ]
  },
  {
   "cell_type": "code",
   "execution_count": 1,
   "metadata": {},
   "outputs": [
    {
     "data": {
      "text/html": [
       "<div>\n",
       "<style scoped>\n",
       "    .dataframe tbody tr th:only-of-type {\n",
       "        vertical-align: middle;\n",
       "    }\n",
       "\n",
       "    .dataframe tbody tr th {\n",
       "        vertical-align: top;\n",
       "    }\n",
       "\n",
       "    .dataframe thead th {\n",
       "        text-align: right;\n",
       "    }\n",
       "</style>\n",
       "<table border=\"1\" class=\"dataframe\">\n",
       "  <thead>\n",
       "    <tr style=\"text-align: right;\">\n",
       "      <th></th>\n",
       "      <th>DataSource_ID</th>\n",
       "      <th>Plot_ID</th>\n",
       "      <th>Stratum</th>\n",
       "      <th>MetricAB</th>\n",
       "      <th>Period</th>\n",
       "      <th>Year</th>\n",
       "      <th>Number</th>\n",
       "    </tr>\n",
       "  </thead>\n",
       "  <tbody>\n",
       "    <tr>\n",
       "      <th>0</th>\n",
       "      <td>63</td>\n",
       "      <td>190</td>\n",
       "      <td>Air</td>\n",
       "      <td>abundance</td>\n",
       "      <td>1</td>\n",
       "      <td>1959</td>\n",
       "      <td>130.0</td>\n",
       "    </tr>\n",
       "    <tr>\n",
       "      <th>2</th>\n",
       "      <td>63</td>\n",
       "      <td>190</td>\n",
       "      <td>Air</td>\n",
       "      <td>abundance</td>\n",
       "      <td>1</td>\n",
       "      <td>1961</td>\n",
       "      <td>45.0</td>\n",
       "    </tr>\n",
       "    <tr>\n",
       "      <th>3</th>\n",
       "      <td>63</td>\n",
       "      <td>190</td>\n",
       "      <td>Air</td>\n",
       "      <td>abundance</td>\n",
       "      <td>1</td>\n",
       "      <td>1962</td>\n",
       "      <td>126.0</td>\n",
       "    </tr>\n",
       "    <tr>\n",
       "      <th>4</th>\n",
       "      <td>63</td>\n",
       "      <td>190</td>\n",
       "      <td>Air</td>\n",
       "      <td>abundance</td>\n",
       "      <td>1</td>\n",
       "      <td>1963</td>\n",
       "      <td>255.0</td>\n",
       "    </tr>\n",
       "    <tr>\n",
       "      <th>5</th>\n",
       "      <td>63</td>\n",
       "      <td>190</td>\n",
       "      <td>Air</td>\n",
       "      <td>abundance</td>\n",
       "      <td>1</td>\n",
       "      <td>1964</td>\n",
       "      <td>80.0</td>\n",
       "    </tr>\n",
       "  </tbody>\n",
       "</table>\n",
       "</div>"
      ],
      "text/plain": [
       "   DataSource_ID  Plot_ID Stratum   MetricAB Period  Year  Number\n",
       "0             63      190     Air  abundance      1  1959   130.0\n",
       "2             63      190     Air  abundance      1  1961    45.0\n",
       "3             63      190     Air  abundance      1  1962   126.0\n",
       "4             63      190     Air  abundance      1  1963   255.0\n",
       "5             63      190     Air  abundance      1  1964    80.0"
      ]
     },
     "execution_count": 1,
     "metadata": {},
     "output_type": "execute_result"
    }
   ],
   "source": [
    "import pandas as pd \n",
    "\n",
    "data = pd.read_csv(\"InsectChange/InsectAbundanceBiomassData.csv\")\n",
    "\n",
    "data.head()\n",
    "\n",
    "number_no_na = data[data[\"Number\"].notna()]\n",
    "\n",
    "data1 = number_no_na \n",
    "\n",
    "data1.head()\n"
   ]
  },
  {
   "cell_type": "markdown",
   "metadata": {},
   "source": [
    "Couldn't get it to read any of the other data files"
   ]
  },
  {
   "cell_type": "code",
   "execution_count": 2,
   "metadata": {},
   "outputs": [
    {
     "ename": "UnicodeDecodeError",
     "evalue": "'utf-8' codec can't decode byte 0xe1 in position 9: invalid continuation byte",
     "output_type": "error",
     "traceback": [
      "\u001b[0;31m---------------------------------------------------------------------------\u001b[0m",
      "\u001b[0;31mUnicodeDecodeError\u001b[0m                        Traceback (most recent call last)",
      "\u001b[0;32mpandas/_libs/parsers.pyx\u001b[0m in \u001b[0;36mpandas._libs.parsers.TextReader._convert_tokens\u001b[0;34m()\u001b[0m\n",
      "\u001b[0;32mpandas/_libs/parsers.pyx\u001b[0m in \u001b[0;36mpandas._libs.parsers.TextReader._convert_with_dtype\u001b[0;34m()\u001b[0m\n",
      "\u001b[0;32mpandas/_libs/parsers.pyx\u001b[0m in \u001b[0;36mpandas._libs.parsers.TextReader._string_convert\u001b[0;34m()\u001b[0m\n",
      "\u001b[0;32mpandas/_libs/parsers.pyx\u001b[0m in \u001b[0;36mpandas._libs.parsers._string_box_utf8\u001b[0;34m()\u001b[0m\n",
      "\u001b[0;31mUnicodeDecodeError\u001b[0m: 'utf-8' codec can't decode byte 0xe1 in position 9: invalid continuation byte",
      "\nDuring handling of the above exception, another exception occurred:\n",
      "\u001b[0;31mUnicodeDecodeError\u001b[0m                        Traceback (most recent call last)",
      "\u001b[0;32m<ipython-input-2-9af0a8f4849f>\u001b[0m in \u001b[0;36m<module>\u001b[0;34m\u001b[0m\n\u001b[1;32m      1\u001b[0m \u001b[0;32mimport\u001b[0m \u001b[0mpandas\u001b[0m \u001b[0;32mas\u001b[0m \u001b[0mpd\u001b[0m\u001b[0;34m\u001b[0m\u001b[0;34m\u001b[0m\u001b[0m\n\u001b[1;32m      2\u001b[0m \u001b[0;34m\u001b[0m\u001b[0m\n\u001b[0;32m----> 3\u001b[0;31m \u001b[0mdata\u001b[0m \u001b[0;34m=\u001b[0m \u001b[0mpd\u001b[0m\u001b[0;34m.\u001b[0m\u001b[0mread_csv\u001b[0m\u001b[0;34m(\u001b[0m\u001b[0;34m\"InsectChange/PlotData.csv\"\u001b[0m\u001b[0;34m)\u001b[0m\u001b[0;34m\u001b[0m\u001b[0;34m\u001b[0m\u001b[0m\n\u001b[0m\u001b[1;32m      4\u001b[0m \u001b[0;34m\u001b[0m\u001b[0m\n\u001b[1;32m      5\u001b[0m \u001b[0mabove_0\u001b[0m \u001b[0;34m=\u001b[0m \u001b[0mdata\u001b[0m\u001b[0;34m[\u001b[0m\u001b[0mdata\u001b[0m\u001b[0;34m[\u001b[0m\u001b[0;34m\"frcCrop_start\"\u001b[0m\u001b[0;34m]\u001b[0m \u001b[0;34m>\u001b[0m \u001b[0;36m0\u001b[0m\u001b[0;34m]\u001b[0m\u001b[0;34m\u001b[0m\u001b[0;34m\u001b[0m\u001b[0m\n",
      "\u001b[0;32m/anaconda3/lib/python3.7/site-packages/pandas/io/parsers.py\u001b[0m in \u001b[0;36mparser_f\u001b[0;34m(filepath_or_buffer, sep, delimiter, header, names, index_col, usecols, squeeze, prefix, mangle_dupe_cols, dtype, engine, converters, true_values, false_values, skipinitialspace, skiprows, skipfooter, nrows, na_values, keep_default_na, na_filter, verbose, skip_blank_lines, parse_dates, infer_datetime_format, keep_date_col, date_parser, dayfirst, iterator, chunksize, compression, thousands, decimal, lineterminator, quotechar, quoting, doublequote, escapechar, comment, encoding, dialect, tupleize_cols, error_bad_lines, warn_bad_lines, delim_whitespace, low_memory, memory_map, float_precision)\u001b[0m\n\u001b[1;32m    700\u001b[0m                     skip_blank_lines=skip_blank_lines)\n\u001b[1;32m    701\u001b[0m \u001b[0;34m\u001b[0m\u001b[0m\n\u001b[0;32m--> 702\u001b[0;31m         \u001b[0;32mreturn\u001b[0m \u001b[0m_read\u001b[0m\u001b[0;34m(\u001b[0m\u001b[0mfilepath_or_buffer\u001b[0m\u001b[0;34m,\u001b[0m \u001b[0mkwds\u001b[0m\u001b[0;34m)\u001b[0m\u001b[0;34m\u001b[0m\u001b[0;34m\u001b[0m\u001b[0m\n\u001b[0m\u001b[1;32m    703\u001b[0m \u001b[0;34m\u001b[0m\u001b[0m\n\u001b[1;32m    704\u001b[0m     \u001b[0mparser_f\u001b[0m\u001b[0;34m.\u001b[0m\u001b[0m__name__\u001b[0m \u001b[0;34m=\u001b[0m \u001b[0mname\u001b[0m\u001b[0;34m\u001b[0m\u001b[0;34m\u001b[0m\u001b[0m\n",
      "\u001b[0;32m/anaconda3/lib/python3.7/site-packages/pandas/io/parsers.py\u001b[0m in \u001b[0;36m_read\u001b[0;34m(filepath_or_buffer, kwds)\u001b[0m\n\u001b[1;32m    433\u001b[0m \u001b[0;34m\u001b[0m\u001b[0m\n\u001b[1;32m    434\u001b[0m     \u001b[0;32mtry\u001b[0m\u001b[0;34m:\u001b[0m\u001b[0;34m\u001b[0m\u001b[0;34m\u001b[0m\u001b[0m\n\u001b[0;32m--> 435\u001b[0;31m         \u001b[0mdata\u001b[0m \u001b[0;34m=\u001b[0m \u001b[0mparser\u001b[0m\u001b[0;34m.\u001b[0m\u001b[0mread\u001b[0m\u001b[0;34m(\u001b[0m\u001b[0mnrows\u001b[0m\u001b[0;34m)\u001b[0m\u001b[0;34m\u001b[0m\u001b[0;34m\u001b[0m\u001b[0m\n\u001b[0m\u001b[1;32m    436\u001b[0m     \u001b[0;32mfinally\u001b[0m\u001b[0;34m:\u001b[0m\u001b[0;34m\u001b[0m\u001b[0;34m\u001b[0m\u001b[0m\n\u001b[1;32m    437\u001b[0m         \u001b[0mparser\u001b[0m\u001b[0;34m.\u001b[0m\u001b[0mclose\u001b[0m\u001b[0;34m(\u001b[0m\u001b[0;34m)\u001b[0m\u001b[0;34m\u001b[0m\u001b[0;34m\u001b[0m\u001b[0m\n",
      "\u001b[0;32m/anaconda3/lib/python3.7/site-packages/pandas/io/parsers.py\u001b[0m in \u001b[0;36mread\u001b[0;34m(self, nrows)\u001b[0m\n\u001b[1;32m   1137\u001b[0m     \u001b[0;32mdef\u001b[0m \u001b[0mread\u001b[0m\u001b[0;34m(\u001b[0m\u001b[0mself\u001b[0m\u001b[0;34m,\u001b[0m \u001b[0mnrows\u001b[0m\u001b[0;34m=\u001b[0m\u001b[0;32mNone\u001b[0m\u001b[0;34m)\u001b[0m\u001b[0;34m:\u001b[0m\u001b[0;34m\u001b[0m\u001b[0;34m\u001b[0m\u001b[0m\n\u001b[1;32m   1138\u001b[0m         \u001b[0mnrows\u001b[0m \u001b[0;34m=\u001b[0m \u001b[0m_validate_integer\u001b[0m\u001b[0;34m(\u001b[0m\u001b[0;34m'nrows'\u001b[0m\u001b[0;34m,\u001b[0m \u001b[0mnrows\u001b[0m\u001b[0;34m)\u001b[0m\u001b[0;34m\u001b[0m\u001b[0;34m\u001b[0m\u001b[0m\n\u001b[0;32m-> 1139\u001b[0;31m         \u001b[0mret\u001b[0m \u001b[0;34m=\u001b[0m \u001b[0mself\u001b[0m\u001b[0;34m.\u001b[0m\u001b[0m_engine\u001b[0m\u001b[0;34m.\u001b[0m\u001b[0mread\u001b[0m\u001b[0;34m(\u001b[0m\u001b[0mnrows\u001b[0m\u001b[0;34m)\u001b[0m\u001b[0;34m\u001b[0m\u001b[0;34m\u001b[0m\u001b[0m\n\u001b[0m\u001b[1;32m   1140\u001b[0m \u001b[0;34m\u001b[0m\u001b[0m\n\u001b[1;32m   1141\u001b[0m         \u001b[0;31m# May alter columns / col_dict\u001b[0m\u001b[0;34m\u001b[0m\u001b[0;34m\u001b[0m\u001b[0;34m\u001b[0m\u001b[0m\n",
      "\u001b[0;32m/anaconda3/lib/python3.7/site-packages/pandas/io/parsers.py\u001b[0m in \u001b[0;36mread\u001b[0;34m(self, nrows)\u001b[0m\n\u001b[1;32m   1993\u001b[0m     \u001b[0;32mdef\u001b[0m \u001b[0mread\u001b[0m\u001b[0;34m(\u001b[0m\u001b[0mself\u001b[0m\u001b[0;34m,\u001b[0m \u001b[0mnrows\u001b[0m\u001b[0;34m=\u001b[0m\u001b[0;32mNone\u001b[0m\u001b[0;34m)\u001b[0m\u001b[0;34m:\u001b[0m\u001b[0;34m\u001b[0m\u001b[0;34m\u001b[0m\u001b[0m\n\u001b[1;32m   1994\u001b[0m         \u001b[0;32mtry\u001b[0m\u001b[0;34m:\u001b[0m\u001b[0;34m\u001b[0m\u001b[0;34m\u001b[0m\u001b[0m\n\u001b[0;32m-> 1995\u001b[0;31m             \u001b[0mdata\u001b[0m \u001b[0;34m=\u001b[0m \u001b[0mself\u001b[0m\u001b[0;34m.\u001b[0m\u001b[0m_reader\u001b[0m\u001b[0;34m.\u001b[0m\u001b[0mread\u001b[0m\u001b[0;34m(\u001b[0m\u001b[0mnrows\u001b[0m\u001b[0;34m)\u001b[0m\u001b[0;34m\u001b[0m\u001b[0;34m\u001b[0m\u001b[0m\n\u001b[0m\u001b[1;32m   1996\u001b[0m         \u001b[0;32mexcept\u001b[0m \u001b[0mStopIteration\u001b[0m\u001b[0;34m:\u001b[0m\u001b[0;34m\u001b[0m\u001b[0;34m\u001b[0m\u001b[0m\n\u001b[1;32m   1997\u001b[0m             \u001b[0;32mif\u001b[0m \u001b[0mself\u001b[0m\u001b[0;34m.\u001b[0m\u001b[0m_first_chunk\u001b[0m\u001b[0;34m:\u001b[0m\u001b[0;34m\u001b[0m\u001b[0;34m\u001b[0m\u001b[0m\n",
      "\u001b[0;32mpandas/_libs/parsers.pyx\u001b[0m in \u001b[0;36mpandas._libs.parsers.TextReader.read\u001b[0;34m()\u001b[0m\n",
      "\u001b[0;32mpandas/_libs/parsers.pyx\u001b[0m in \u001b[0;36mpandas._libs.parsers.TextReader._read_low_memory\u001b[0;34m()\u001b[0m\n",
      "\u001b[0;32mpandas/_libs/parsers.pyx\u001b[0m in \u001b[0;36mpandas._libs.parsers.TextReader._read_rows\u001b[0;34m()\u001b[0m\n",
      "\u001b[0;32mpandas/_libs/parsers.pyx\u001b[0m in \u001b[0;36mpandas._libs.parsers.TextReader._convert_column_data\u001b[0;34m()\u001b[0m\n",
      "\u001b[0;32mpandas/_libs/parsers.pyx\u001b[0m in \u001b[0;36mpandas._libs.parsers.TextReader._convert_tokens\u001b[0;34m()\u001b[0m\n",
      "\u001b[0;32mpandas/_libs/parsers.pyx\u001b[0m in \u001b[0;36mpandas._libs.parsers.TextReader._convert_with_dtype\u001b[0;34m()\u001b[0m\n",
      "\u001b[0;32mpandas/_libs/parsers.pyx\u001b[0m in \u001b[0;36mpandas._libs.parsers.TextReader._string_convert\u001b[0;34m()\u001b[0m\n",
      "\u001b[0;32mpandas/_libs/parsers.pyx\u001b[0m in \u001b[0;36mpandas._libs.parsers._string_box_utf8\u001b[0;34m()\u001b[0m\n",
      "\u001b[0;31mUnicodeDecodeError\u001b[0m: 'utf-8' codec can't decode byte 0xe1 in position 9: invalid continuation byte"
     ]
    }
   ],
   "source": [
    "import pandas as pd \n",
    "\n",
    "data = pd.read_csv(\"InsectChange/PlotData.csv\")\n",
    "\n",
    "above_0 = data[data[\"frcCrop_start\"] > 0]\n",
    "\n",
    "above_0.head()"
   ]
  },
  {
   "cell_type": "markdown",
   "metadata": {},
   "source": [
    "A correlation analysis between two variables to test their association; include a scatterplot"
   ]
  },
  {
   "cell_type": "code",
   "execution_count": 4,
   "metadata": {},
   "outputs": [
    {
     "name": "stdout",
     "output_type": "stream",
     "text": [
      "r= -0.004430116266256631\n",
      "p-value= 0.2851773599607518\n"
     ]
    },
    {
     "data": {
      "text/plain": [
       "Text(0.5, 1.0, 'Insect Abundance From 1959 to 2018')"
      ]
     },
     "execution_count": 4,
     "metadata": {},
     "output_type": "execute_result"
    },
    {
     "data": {
      "image/png": "[encoded data removed]",
      "text/plain": [
       "<Figure size 720x720 with 1 Axes>"
      ]
     },
     "metadata": {
      "needs_background": "light"
     },
     "output_type": "display_data"
    }
   ],
   "source": [
    "import matplotlib.pyplot as plt\n",
    "import pandas as pd\n",
    "from scipy import stats \n",
    "\n",
    "df = number_no_na\n",
    "\n",
    "x = df['Year']\n",
    "y = df['Number']\n",
    "\n",
    "stats.linregress(x,y)\n",
    "\n",
    "mytuple = (stats.linregress(x,y))\n",
    "\n",
    "x = df['Year']\n",
    "y = df['Number']\n",
    "\n",
    "thistuple = (stats.pearsonr(x,y))\n",
    "\n",
    "print(\"r=\", thistuple[0])\n",
    "\n",
    "print(\"p-value=\", thistuple[1])\n",
    "\n",
    "#scatterplot \n",
    "fig = plt.figure( figsize = (10,10))\n",
    "ax = plt.axes()\n",
    "\n",
    "slope, intercept, r_value, p_value, std_err = stats.linregress(x,y)\n",
    "line = slope*x + intercept\n",
    "\n",
    "plt.text(1890,-4.65, ('p value= %f'% p_value), fontsize = 12)\n",
    "\n",
    "ax.scatter = plt.scatter(x,y)\n",
    "\n",
    "\n",
    "plt.ylabel('Number', fontsize = 16)\n",
    "plt.xlabel('Year', fontsize = 16)\n",
    "plt.title('Insect Abundance From 1959 to 2018')"
   ]
  },
  {
   "cell_type": "code",
   "execution_count": null,
   "metadata": {},
   "outputs": [],
   "source": []
  },
  {
   "cell_type": "markdown",
   "metadata": {},
   "source": [
    "A regression analysis in which you ask if one variable can predict another; include a scatterplot with line of best fit"
   ]
  },
  {
   "cell_type": "code",
   "execution_count": 5,
   "metadata": {},
   "outputs": [
    {
     "name": "stdout",
     "output_type": "stream",
     "text": [
      "R^2 =  1.9625930132551532e-05\n",
      "r =  -0.004430116266256624\n",
      "slope =  -25.682964123354704\n",
      "intercept =  53475.44040232688\n"
     ]
    },
    {
     "data": {
      "text/plain": [
       "Text(0.5, 1.0, 'Insect Abundance From 1959 to 2018')"
      ]
     },
     "execution_count": 5,
     "metadata": {},
     "output_type": "execute_result"
    },
    {
     "data": {
      "image/png": "[encoded data removed]",
      "text/plain": [
       "<Figure size 720x720 with 1 Axes>"
      ]
     },
     "metadata": {
      "needs_background": "light"
     },
     "output_type": "display_data"
    }
   ],
   "source": [
    "import matplotlib.pyplot as plt\n",
    "import pandas as pd\n",
    "from scipy import stats \n",
    "\n",
    "df = number_no_na\n",
    "\n",
    "x = df['Year']\n",
    "y = df['Number']\n",
    "\n",
    "stats.linregress(x,y)\n",
    "\n",
    "mytuple = (stats.linregress(x,y))\n",
    "\n",
    "print(\"R^2 = \", mytuple[2]**2)\n",
    "print(\"r = \", mytuple[2])\n",
    "print(\"slope = \", mytuple[0])\n",
    "print(\"intercept = \", mytuple[1])\n",
    "\n",
    "fig = plt.figure( figsize = (10,10))\n",
    "ax = plt.axes()\n",
    "\n",
    "slope, intercept, r_value, p_value, std_err = stats.linregress(x,y)\n",
    "line = slope*x + intercept\n",
    "\n",
    "plt.text(1860, -4.5, ('R squared= %f'% r_value**2), fontsize = 12)\n",
    "plt.text(1890,-4.65, ('p value= %f'% p_value), fontsize = 12)\n",
    "\n",
    "ax.scatter = plt.scatter(x,y)\n",
    "plt.plot(x, line)\n",
    "\n",
    "\n",
    "plt.plot(x, line, 'r', label='y={:.2f}x+{:.2f}'.format(slope,intercept))\n",
    "\n",
    "\n",
    "\n",
    "plt.ylabel('Number', fontsize = 16)\n",
    "plt.xlabel('Year', fontsize = 16)\n",
    "plt.title('Insect Abundance From 1959 to 2018')"
   ]
  },
  {
   "cell_type": "markdown",
   "metadata": {},
   "source": [
    "A means comparison between two categories within a single variable; include a bar plot with error bars"
   ]
  },
  {
   "cell_type": "markdown",
   "metadata": {},
   "source": [
    "Soil data set"
   ]
  },
  {
   "cell_type": "code",
   "execution_count": 6,
   "metadata": {},
   "outputs": [
    {
     "data": {
      "text/html": [
       "<div>\n",
       "<style scoped>\n",
       "    .dataframe tbody tr th:only-of-type {\n",
       "        vertical-align: middle;\n",
       "    }\n",
       "\n",
       "    .dataframe tbody tr th {\n",
       "        vertical-align: top;\n",
       "    }\n",
       "\n",
       "    .dataframe thead th {\n",
       "        text-align: right;\n",
       "    }\n",
       "</style>\n",
       "<table border=\"1\" class=\"dataframe\">\n",
       "  <thead>\n",
       "    <tr style=\"text-align: right;\">\n",
       "      <th></th>\n",
       "      <th>DataSource_ID</th>\n",
       "      <th>Plot_ID</th>\n",
       "      <th>Stratum</th>\n",
       "      <th>MetricAB</th>\n",
       "      <th>Period</th>\n",
       "      <th>Year</th>\n",
       "      <th>Number</th>\n",
       "    </tr>\n",
       "  </thead>\n",
       "  <tbody>\n",
       "    <tr>\n",
       "      <th>6703</th>\n",
       "      <td>375</td>\n",
       "      <td>240</td>\n",
       "      <td>Soil surface</td>\n",
       "      <td>abundance</td>\n",
       "      <td>8</td>\n",
       "      <td>2004</td>\n",
       "      <td>15.0</td>\n",
       "    </tr>\n",
       "    <tr>\n",
       "      <th>6704</th>\n",
       "      <td>375</td>\n",
       "      <td>240</td>\n",
       "      <td>Soil surface</td>\n",
       "      <td>abundance</td>\n",
       "      <td>10</td>\n",
       "      <td>2004</td>\n",
       "      <td>44.0</td>\n",
       "    </tr>\n",
       "    <tr>\n",
       "      <th>6705</th>\n",
       "      <td>375</td>\n",
       "      <td>240</td>\n",
       "      <td>Soil surface</td>\n",
       "      <td>abundance</td>\n",
       "      <td>7</td>\n",
       "      <td>2005</td>\n",
       "      <td>8.0</td>\n",
       "    </tr>\n",
       "    <tr>\n",
       "      <th>6706</th>\n",
       "      <td>375</td>\n",
       "      <td>240</td>\n",
       "      <td>Soil surface</td>\n",
       "      <td>abundance</td>\n",
       "      <td>8</td>\n",
       "      <td>2005</td>\n",
       "      <td>7.0</td>\n",
       "    </tr>\n",
       "    <tr>\n",
       "      <th>6707</th>\n",
       "      <td>375</td>\n",
       "      <td>240</td>\n",
       "      <td>Soil surface</td>\n",
       "      <td>abundance</td>\n",
       "      <td>5</td>\n",
       "      <td>2005</td>\n",
       "      <td>14.0</td>\n",
       "    </tr>\n",
       "  </tbody>\n",
       "</table>\n",
       "</div>"
      ],
      "text/plain": [
       "      DataSource_ID  Plot_ID       Stratum   MetricAB Period  Year  Number\n",
       "6703            375      240  Soil surface  abundance      8  2004    15.0\n",
       "6704            375      240  Soil surface  abundance     10  2004    44.0\n",
       "6705            375      240  Soil surface  abundance      7  2005     8.0\n",
       "6706            375      240  Soil surface  abundance      8  2005     7.0\n",
       "6707            375      240  Soil surface  abundance      5  2005    14.0"
      ]
     },
     "execution_count": 6,
     "metadata": {},
     "output_type": "execute_result"
    }
   ],
   "source": [
    "Soil = data1[data1[\"Stratum\"].isin(['Soil surface'])]\n",
    "\n",
    "Soil.head()"
   ]
  },
  {
   "cell_type": "markdown",
   "metadata": {},
   "source": [
    "Tree data set"
   ]
  },
  {
   "cell_type": "code",
   "execution_count": 7,
   "metadata": {},
   "outputs": [
    {
     "data": {
      "text/html": [
       "<div>\n",
       "<style scoped>\n",
       "    .dataframe tbody tr th:only-of-type {\n",
       "        vertical-align: middle;\n",
       "    }\n",
       "\n",
       "    .dataframe tbody tr th {\n",
       "        vertical-align: top;\n",
       "    }\n",
       "\n",
       "    .dataframe thead th {\n",
       "        text-align: right;\n",
       "    }\n",
       "</style>\n",
       "<table border=\"1\" class=\"dataframe\">\n",
       "  <thead>\n",
       "    <tr style=\"text-align: right;\">\n",
       "      <th></th>\n",
       "      <th>DataSource_ID</th>\n",
       "      <th>Plot_ID</th>\n",
       "      <th>Stratum</th>\n",
       "      <th>MetricAB</th>\n",
       "      <th>Period</th>\n",
       "      <th>Year</th>\n",
       "      <th>Number</th>\n",
       "    </tr>\n",
       "  </thead>\n",
       "  <tbody>\n",
       "    <tr>\n",
       "      <th>8527</th>\n",
       "      <td>478</td>\n",
       "      <td>572</td>\n",
       "      <td>Water</td>\n",
       "      <td>abundance</td>\n",
       "      <td>1</td>\n",
       "      <td>1983</td>\n",
       "      <td>10727.0</td>\n",
       "    </tr>\n",
       "    <tr>\n",
       "      <th>8528</th>\n",
       "      <td>478</td>\n",
       "      <td>572</td>\n",
       "      <td>Water</td>\n",
       "      <td>abundance</td>\n",
       "      <td>1</td>\n",
       "      <td>1984</td>\n",
       "      <td>9046.0</td>\n",
       "    </tr>\n",
       "    <tr>\n",
       "      <th>8529</th>\n",
       "      <td>478</td>\n",
       "      <td>572</td>\n",
       "      <td>Water</td>\n",
       "      <td>abundance</td>\n",
       "      <td>1</td>\n",
       "      <td>1985</td>\n",
       "      <td>13255.0</td>\n",
       "    </tr>\n",
       "    <tr>\n",
       "      <th>8530</th>\n",
       "      <td>478</td>\n",
       "      <td>572</td>\n",
       "      <td>Water</td>\n",
       "      <td>abundance</td>\n",
       "      <td>1</td>\n",
       "      <td>1986</td>\n",
       "      <td>6637.0</td>\n",
       "    </tr>\n",
       "    <tr>\n",
       "      <th>8531</th>\n",
       "      <td>478</td>\n",
       "      <td>572</td>\n",
       "      <td>Water</td>\n",
       "      <td>abundance</td>\n",
       "      <td>1</td>\n",
       "      <td>1987</td>\n",
       "      <td>10875.0</td>\n",
       "    </tr>\n",
       "  </tbody>\n",
       "</table>\n",
       "</div>"
      ],
      "text/plain": [
       "      DataSource_ID  Plot_ID Stratum   MetricAB Period  Year   Number\n",
       "8527            478      572   Water  abundance      1  1983  10727.0\n",
       "8528            478      572   Water  abundance      1  1984   9046.0\n",
       "8529            478      572   Water  abundance      1  1985  13255.0\n",
       "8530            478      572   Water  abundance      1  1986   6637.0\n",
       "8531            478      572   Water  abundance      1  1987  10875.0"
      ]
     },
     "execution_count": 7,
     "metadata": {},
     "output_type": "execute_result"
    }
   ],
   "source": [
    "\n",
    "Water = data1[data1[\"Stratum\"].isin(['Water'])]\n",
    "\n",
    "Water.head()"
   ]
  },
  {
   "cell_type": "code",
   "execution_count": 8,
   "metadata": {},
   "outputs": [
    {
     "name": "stdout",
     "output_type": "stream",
     "text": [
      "Soil mean = 1336.895\n",
      "Soil sd = 5165.269\n",
      "Water mean = 1586.424\n",
      "Water sd = 4080.933\n",
      "\n",
      "t-statistic = -3.342\n",
      "p-value = 0.00083\n"
     ]
    },
    {
     "data": {
      "text/plain": [
       "Text(0, 0.5, 'Number')"
      ]
     },
     "execution_count": 8,
     "metadata": {},
     "output_type": "execute_result"
    },
    {
     "data": {
      "image/png": "[encoded data removed]",
      "text/plain": [
       "<Figure size 432x288 with 1 Axes>"
      ]
     },
     "metadata": {
      "needs_background": "light"
     },
     "output_type": "display_data"
    }
   ],
   "source": [
    "import matplotlib.pyplot as plt\n",
    "import numpy as np\n",
    "import pandas as pd\n",
    "from scipy import stats \n",
    "\n",
    "#Soil data set\n",
    "Soil_mean = np.mean(Soil['Number'])\n",
    "Soil_sd = np.std(Soil['Number']) \n",
    "\n",
    "#Water data set\n",
    "Water_mean = np.mean(Water['Number'])\n",
    "Water_sd = np.std(Water['Number'])\n",
    "\n",
    "#comparing data \n",
    "print('Soil mean = ' + str(round(Soil_mean,3)))\n",
    "print('Soil sd = ' + str(round(Soil_sd,3)))\n",
    "print('Water mean = ' + str(round(Water_mean,3)))\n",
    "print('Water sd = ' + str(round(Water_sd,3)))\n",
    "print()\n",
    "\n",
    "#t test\n",
    "\n",
    "twosided = stats.ttest_ind(Soil['Number'],Water['Number'])\n",
    "                                  \n",
    "print('t-statistic = ' + str(round(twosided.statistic,3)))\n",
    "print('p-value = ' + str(round(twosided.pvalue,5)))\n",
    "\n",
    "#bar plot\n",
    "plt.bar([1,2],[Soil_mean,Water_mean], yerr=[Soil_sd, Water_sd], capsize =10)\n",
    "plt.ylim(0,7000)\n",
    "plt.title('Insect Abundance in Soil vs. Water ')\n",
    "plt.xlabel('Soil                                            Water')\n",
    "plt.ylabel('Number')"
   ]
  },
  {
   "cell_type": "markdown",
   "metadata": {},
   "source": [
    "A chi-square analysis comparing two categorical variables; include a contingency table and the resulting table of expected values in a decent looking format. "
   ]
  },
  {
   "cell_type": "code",
   "execution_count": 9,
   "metadata": {},
   "outputs": [
    {
     "data": {
      "text/html": [
       "<div>\n",
       "<style scoped>\n",
       "    .dataframe tbody tr th:only-of-type {\n",
       "        vertical-align: middle;\n",
       "    }\n",
       "\n",
       "    .dataframe tbody tr th {\n",
       "        vertical-align: top;\n",
       "    }\n",
       "\n",
       "    .dataframe thead th {\n",
       "        text-align: right;\n",
       "    }\n",
       "</style>\n",
       "<table border=\"1\" class=\"dataframe\">\n",
       "  <thead>\n",
       "    <tr style=\"text-align: right;\">\n",
       "      <th></th>\n",
       "      <th>DataSource_ID</th>\n",
       "      <th>Plot_ID</th>\n",
       "      <th>Stratum</th>\n",
       "      <th>MetricAB</th>\n",
       "      <th>Period</th>\n",
       "      <th>Year</th>\n",
       "      <th>Number</th>\n",
       "    </tr>\n",
       "  </thead>\n",
       "  <tbody>\n",
       "    <tr>\n",
       "      <th>6703</th>\n",
       "      <td>375</td>\n",
       "      <td>240</td>\n",
       "      <td>Soil surface</td>\n",
       "      <td>abundance</td>\n",
       "      <td>8</td>\n",
       "      <td>2004</td>\n",
       "      <td>15.0</td>\n",
       "    </tr>\n",
       "    <tr>\n",
       "      <th>6704</th>\n",
       "      <td>375</td>\n",
       "      <td>240</td>\n",
       "      <td>Soil surface</td>\n",
       "      <td>abundance</td>\n",
       "      <td>10</td>\n",
       "      <td>2004</td>\n",
       "      <td>44.0</td>\n",
       "    </tr>\n",
       "    <tr>\n",
       "      <th>6705</th>\n",
       "      <td>375</td>\n",
       "      <td>240</td>\n",
       "      <td>Soil surface</td>\n",
       "      <td>abundance</td>\n",
       "      <td>7</td>\n",
       "      <td>2005</td>\n",
       "      <td>8.0</td>\n",
       "    </tr>\n",
       "    <tr>\n",
       "      <th>6706</th>\n",
       "      <td>375</td>\n",
       "      <td>240</td>\n",
       "      <td>Soil surface</td>\n",
       "      <td>abundance</td>\n",
       "      <td>8</td>\n",
       "      <td>2005</td>\n",
       "      <td>7.0</td>\n",
       "    </tr>\n",
       "    <tr>\n",
       "      <th>6707</th>\n",
       "      <td>375</td>\n",
       "      <td>240</td>\n",
       "      <td>Soil surface</td>\n",
       "      <td>abundance</td>\n",
       "      <td>5</td>\n",
       "      <td>2005</td>\n",
       "      <td>14.0</td>\n",
       "    </tr>\n",
       "  </tbody>\n",
       "</table>\n",
       "</div>"
      ],
      "text/plain": [
       "      DataSource_ID  Plot_ID       Stratum   MetricAB Period  Year  Number\n",
       "6703            375      240  Soil surface  abundance      8  2004    15.0\n",
       "6704            375      240  Soil surface  abundance     10  2004    44.0\n",
       "6705            375      240  Soil surface  abundance      7  2005     8.0\n",
       "6706            375      240  Soil surface  abundance      8  2005     7.0\n",
       "6707            375      240  Soil surface  abundance      5  2005    14.0"
      ]
     },
     "execution_count": 9,
     "metadata": {},
     "output_type": "execute_result"
    }
   ],
   "source": [
    "Final = data1[data1[\"Stratum\"].isin(['Soil surface','Water'])]\n",
    "\n",
    "Final.head()"
   ]
  },
  {
   "cell_type": "code",
   "execution_count": 10,
   "metadata": {},
   "outputs": [
    {
     "name": "stdout",
     "output_type": "stream",
     "text": [
      "Data:\n",
      "\n",
      "[[1336.895 1586.424]]\n",
      "\n",
      "Chi-square results:\n",
      "\n",
      "   chi-square = 0.0\n",
      "   p value = 1.0\n",
      "   degrees of freedom = 0\n",
      "\n",
      "   expected values:\n",
      "\n",
      "                  Soil     Water\n",
      "   Abundance  1336.895  1586.424\n"
     ]
    }
   ],
   "source": [
    "import pandas as pd\n",
    "\n",
    "data = np.array([[1336.895,1586.424]])\n",
    "\n",
    "data_df = pd.DataFrame(data, index = [\"Abundance\"], columns = [\"Soil\",\"Water\"])\n",
    "\n",
    "chi2, p, dof, expected = stats.chi2_contingency(data_df)    \n",
    "                                                               \n",
    "                                                                                                                           \n",
    "print('Data:')\n",
    "print()\n",
    "print(data)\n",
    "print()\n",
    "print('Chi-square results:')\n",
    "print()\n",
    "print('   chi-square = '+ str(round(chi2,4)))\n",
    "print('   p value = '+ str(round(p,4)))\n",
    "print('   degrees of freedom = '+ str(dof))\n",
    "print()\n",
    "print('   expected values:')\n",
    "print()\n",
    "print(pd.DataFrame(expected, index = [\"   Abundance\"], columns = [\"Soil\",\"Water\"]))"
   ]
  },
  {
   "cell_type": "code",
   "execution_count": null,
   "metadata": {},
   "outputs": [],
   "source": []
  }
 ],
 "metadata": {
  "kernelspec": {
   "display_name": "Python 3",
   "language": "python",
   "name": "python3"
  },
  "language_info": {
   "codemirror_mode": {
    "name": "ipython",
    "version": 3
   },
   "file_extension": ".py",
   "mimetype": "text/x-python",
   "name": "python",
   "nbconvert_exporter": "python",
   "pygments_lexer": "ipython3",
   "version": "3.7.3"
  }
 },
 "nbformat": 4,
 "nbformat_minor": 2
}
