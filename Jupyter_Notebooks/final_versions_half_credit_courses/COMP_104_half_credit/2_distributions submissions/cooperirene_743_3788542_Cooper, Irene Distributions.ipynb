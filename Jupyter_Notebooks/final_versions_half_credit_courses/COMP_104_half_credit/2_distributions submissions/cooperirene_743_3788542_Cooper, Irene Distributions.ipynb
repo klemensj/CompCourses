{
 "cells": [
  {
   "cell_type": "markdown",
   "metadata": {},
   "source": [
    "<div align =\"right\">Thomas Jefferson University <b>COMP 104</b>: Intro to Big Data</div>"
   ]
  },
  {
   "cell_type": "markdown",
   "metadata": {},
   "source": [
    "# Distributions\n",
    "\n",
    "We will complete the exercises that accompany sections 6.1-6.3 and found on page 119 in the textbook. For each exercise the correct answers are given in the text, write python code to calculate each answer and use the given data to confirm. \n",
    "\n",
    "### 6.1 Sample Standard Deviation\n",
    "Create an numpy-array, containing the data 1, 2, 3, ..., 10. Calculate mean and\n",
    "sample(!)-standard deviation. (Correct answer for the SD: 3.03.)"
   ]
  },
  {
   "cell_type": "code",
   "execution_count": 24,
   "metadata": {},
   "outputs": [
    {
     "name": "stdout",
     "output_type": "stream",
     "text": [
      "[ 1  2  3  4  5  6  7  8  9 10]\n",
      "Mean = 5.5\n",
      "Standard Deviation = 9.166666666666666\n",
      "The real standard deviation of the numbers from 1 to 10 is 3.03\n"
     ]
    }
   ],
   "source": [
    "import numpy as np\n",
    "from scipy import stats\n",
    "data= np.r_[1,2,3,4,5,6,7,8,9,10]\n",
    "print (data)\n",
    "\n",
    "n=len(data)\n",
    "mean=sum(data)/n\n",
    "ddof= 1\n",
    "sd= sum((x-mean)**2 for x in data)/(n-ddof)\n",
    "print(\"Mean =\", mean)\n",
    "print (\"Standard Deviation =\", sd)\n",
    "\n",
    "x=np.arange (1,11)\n",
    "print('The real standard deviation of the numbers from 1 to 10 is {0:4.2f}'.format(np.std(x,ddof=1)))"
   ]
  },
  {
   "cell_type": "markdown",
   "metadata": {},
   "source": [
    "### 6.2 Normal Distribution\n",
    "* Generate and plot the Probability Density Function (PDF) of a normal distribution,\n",
    "with a mean of 5 and a standard deviation of 3.\n",
    "* Generate 1000 random data from this distribution.\n",
    "* Calculate the standard error of the mean of these data. (Correct answer: ca.\n",
    "0.096.)\n",
    "* Plot the histogram of these data.\n",
    "* From the PDF, calculate the interval containing 95% of these data. (Correct\n",
    "answer: [ -0.88, 10.88].)\n",
    "* Your doctor tells you that he can use hip implants for surgery even if they are\n",
    "1mm bigger or smaller than the specified size. And your financial officer tells\n",
    "you that you can discard 1 out of 1000 hip implants, and still make a profit.\n",
    "What is the required standard deviation for the producer of the hip implants,\n",
    "to simultaneously satisfy both requirements? (Correct answer: sigma = 0:304 mm.)"
   ]
  },
  {
   "cell_type": "code",
   "execution_count": 25,
   "metadata": {},
   "outputs": [
    {
     "name": "stdout",
     "output_type": "stream",
     "text": [
      "The standard error = 0.1018051862950003\n"
     ]
    },
    {
     "data": {
      "image/png": "[encoded data removed]",
      "text/plain": [
       "<Figure size 432x288 with 1 Axes>"
      ]
     },
     "metadata": {
      "needs_background": "light"
     },
     "output_type": "display_data"
    },
    {
     "name": "stdout",
     "output_type": "stream",
     "text": [
      "95% Confidence Interval: -0.88 - 10.88\n",
      "The SD to satisfy both requirements = 0.3882 mm\n"
     ]
    }
   ],
   "source": [
    "import matplotlib.pyplot as plt\n",
    "from scipy import stats\n",
    "import pandas as pd\n",
    "import seaborn as sns\n",
    "\n",
    "nd=stats.norm(5,3) #(mean,std)\n",
    "data= nd.rvs(100)\n",
    "\n",
    "se=np.std(data, ddof=1)/np.sqrt(1000) #standard error\n",
    "print(\"The standard error =\", se) \n",
    "\n",
    "#histogram\n",
    "plt.hist(data, rwidth=0.8, density = True, color= 'blue')\n",
    "plt.show()\n",
    "\n",
    "#95%confdience interval\n",
    "print(\"95% Confidence Interval: {0:4.2f} - {1:4.2f}\".format(nd.ppf(0.025), nd.ppf(0.975)))\n",
    "\n",
    "#sd\n",
    "nd= stats.norm()\n",
    "numSDs= nd.isf(0.005)\n",
    "tolerance = 1/numSDs\n",
    "print(\"The SD to satisfy both requirements = {0:6.4f} mm\". format(tolerance))"
   ]
  },
  {
   "cell_type": "markdown",
   "metadata": {},
   "source": [
    "### 6.3 Continuous Distributions\n",
    "* t-Distribution: Measuring the weight of your colleagues, you have obtained the following weights: 52, 70, 65, 85, 62, 83, 59 kg. Calculate the corresponding mean, and the 99% confidence interval for the mean. Note: with n values you have n - 1 DOF for the t-distribution. (Correct answer: 68.0 +/- 17.2 kg.)\n",
    "* Chi-square Distribution: Create three normally distributed data sets (mean = 0, SD = 1), with 1000 samples each. Then square them, sum them (so that you have 1000 data-points), and create a histogram with 100 bins. This should be similar to the curve for the chi-square distribution, with 3 DOF (i.e., it should come down at the left, see Fig. 6.22).\n",
    "* F-Distribution: You have two apple trees. There are three apples from the first tree that weigh 110, 121, and 143 g, respectively, and four from the other which weigh 88, 93, 105, and 124 g, respectively. Are the variances from the two trees different? Note: calculate the corresponding F-value, and check if the CDF for thecorresponding F-distribution is < 0.025. (Correct answer: no.)"
   ]
  },
  {
   "cell_type": "code",
   "execution_count": 26,
   "metadata": {},
   "outputs": [
    {
     "name": "stdout",
     "output_type": "stream",
     "text": [
      "Mean +/- 99% CI = 5.5 +/- 3.1\n"
     ]
    },
    {
     "data": {
      "image/png": "[encoded data removed]",
      "text/plain": [
       "<Figure size 1080x360 with 1 Axes>"
      ]
     },
     "metadata": {
      "needs_background": "light"
     },
     "output_type": "display_data"
    },
    {
     "name": "stdout",
     "output_type": "stream",
     "text": [
      "The p-value of the F-distribution = 0.537640478466751.\n",
      "The variances are equal.\n"
     ]
    }
   ],
   "source": [
    "colleague_weight = [52,70,65,85,62,83,59]\n",
    "td= stats.t(len(x)-1)\n",
    "alpha= 0.01\n",
    "\n",
    "tval=abs(td.ppf(alpha/2)*stats.sem(x))\n",
    "print(\"Mean +/- 99% CI = {0:3.1f} +/- {1:3.1f}\".format(np.mean (x), tval))\n",
    "\n",
    "nd= stats.norm()\n",
    "\n",
    "numData= 1000\n",
    "data1 = nd.rvs(numData)\n",
    "data2 = nd.rvs(numData)\n",
    "data3 = nd.rvs(numData)\n",
    "\n",
    "fig= plt.figure(figsize=(15,5))\n",
    "plt.hist(data1**2+data2**2+data3**2, 100, rwidth= 0.5, density = True, color = 'black')\n",
    "plt.show()\n",
    "\n",
    "apples1= [110,121,143]\n",
    "apples2= [88,93, 105,124]\n",
    "fval= np.std(apples1, ddof=1)/np.std(apples2, ddof=1)\n",
    "fd= stats.distributions.f(len(apples1), len(apples2))\n",
    "pval= fd.cdf(fval)\n",
    "print(\"The p-value of the F-distribution = {0}.\".format(pval))\n",
    "if pval>0.025 and pval<0.975:\n",
    "    print(\"The variances are equal.\")"
   ]
  },
  {
   "cell_type": "markdown",
   "metadata": {},
   "source": [
    "![Alt text that will appear on mouseover](images/TJU_logo_image.png \"TJU logo image\")"
   ]
  }
 ],
 "metadata": {
  "kernelspec": {
   "display_name": "Python 3",
   "language": "python",
   "name": "python3"
  },
  "language_info": {
   "codemirror_mode": {
    "name": "ipython",
    "version": 3
   },
   "file_extension": ".py",
   "mimetype": "text/x-python",
   "name": "python",
   "nbconvert_exporter": "python",
   "pygments_lexer": "ipython3",
   "version": "3.7.1"
  }
 },
 "nbformat": 4,
 "nbformat_minor": 2
}
