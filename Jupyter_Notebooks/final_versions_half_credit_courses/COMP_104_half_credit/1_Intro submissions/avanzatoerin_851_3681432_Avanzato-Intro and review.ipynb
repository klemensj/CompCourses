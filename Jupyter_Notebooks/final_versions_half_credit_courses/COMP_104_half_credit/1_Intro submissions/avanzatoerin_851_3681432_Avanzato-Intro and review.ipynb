{
 "cells": [
  {
   "cell_type": "markdown",
   "metadata": {},
   "source": [
    "<div align =\"right\">Thomas Jefferson University <b>COMP 104</b>: Intro to Big Data</div>"
   ]
  },
  {
   "cell_type": "markdown",
   "metadata": {},
   "source": [
    "# Intro to Big Data and Review\n",
    "\n",
    "In this worksheet I'm not going to give you much of anything. To start wit. \n",
    "\n",
    "## Exercise 1\n",
    "\n",
    "Run the code below to create a set of data arrays. Using the method described in the reading, 1) create a pandas dataframe from these values and then summarize the data by the three genres that are present. Your summary should report the count, mean, median, standard deviation, and quartiles of the data for each genre."
   ]
  },
  {
   "cell_type": "code",
   "execution_count": 1,
   "metadata": {},
   "outputs": [],
   "source": [
    "# run but don't modify this code block\n",
    "\n",
    "import numpy as np\n",
    "t = np.arange(0,100,1)\n",
    "labels = [\"punk\",\"mod\",\"rocker\"]\n",
    "\n",
    "for i in t:\n",
    "    talent = i + np.random.normal(0,5,100)\n",
    "    attitude = i/5 + np.random.normal(0,5,100)\n",
    "    genre = np.random.choice(labels,100)"
   ]
  },
  {
   "cell_type": "code",
   "execution_count": 2,
   "metadata": {},
   "outputs": [
    {
     "name": "stdout",
     "output_type": "stream",
     "text": [
      "       talent                                                          \\\n",
      "        count        mean       std        min        25%         50%   \n",
      "genre                                                                   \n",
      "mod      29.0   97.769227  5.636680  88.307755  94.241292   96.806193   \n",
      "punk     37.0  100.133488  4.713339  86.623296  97.748084   99.828363   \n",
      "rocker   34.0  100.379535  4.401919  89.516344  97.065626  100.392482   \n",
      "\n",
      "                               attitude                                  \\\n",
      "               75%         max    count       mean       std        min   \n",
      "genre                                                                     \n",
      "mod     102.299080  108.175640     29.0  20.823932  4.937995  12.011832   \n",
      "punk    102.075633  109.840267     37.0  20.893155  3.918208  11.401655   \n",
      "rocker  103.661099  110.173142     34.0  19.230443  4.655446  10.263277   \n",
      "\n",
      "                                                    \n",
      "              25%        50%        75%        max  \n",
      "genre                                               \n",
      "mod     17.030976  20.058392  23.811370  34.376186  \n",
      "punk    18.225109  21.118463  22.877019  29.043844  \n",
      "rocker  15.612690  19.105948  21.995044  30.788660  \n"
     ]
    }
   ],
   "source": [
    "#Exercise 1\n",
    "import pandas as pd\n",
    "\n",
    "df_music= pd.DataFrame({'talent':talent, 'attitude':attitude, 'genre':genre})\n",
    "data= df_music[['talent', 'attitude', 'genre']]\n",
    "#print (data)\n",
    "grouped = data.groupby('genre')\n",
    "print(grouped.describe())\n"
   ]
  },
  {
   "cell_type": "markdown",
   "metadata": {},
   "source": [
    "## Exercise 2\n",
    "\n",
    "In the /data directory where this notebook is located you should find a data file called `Gradebook.csv` that contains the gradebook for a knitting class that was held in January. Import the data (without editing the `.csv` file in Excel) using the techniques shown in the reading. Make sure the data is stored as a dataframe and summarize the results by student major. "
   ]
  },
  {
   "cell_type": "code",
   "execution_count": 5,
   "metadata": {},
   "outputs": [
    {
     "ename": "NameError",
     "evalue": "name 'student' is not defined",
     "output_type": "error",
     "traceback": [
      "\u001b[0;31m---------------------------------------------------------------------------\u001b[0m",
      "\u001b[0;31mNameError\u001b[0m                                 Traceback (most recent call last)",
      "\u001b[0;32m<ipython-input-5-4c2cc6fac935>\u001b[0m in \u001b[0;36m<module>\u001b[0;34m\u001b[0m\n\u001b[1;32m      4\u001b[0m \u001b[0mdf\u001b[0m\u001b[0;34m=\u001b[0m \u001b[0mpd\u001b[0m\u001b[0;34m.\u001b[0m\u001b[0mread_csv\u001b[0m\u001b[0;34m(\u001b[0m\u001b[0;34m'data/Gradebook.csv'\u001b[0m\u001b[0;34m,\u001b[0m\u001b[0mdelimiter\u001b[0m\u001b[0;34m=\u001b[0m\u001b[0;34m','\u001b[0m\u001b[0;34m,\u001b[0m\u001b[0mheader\u001b[0m \u001b[0;34m=\u001b[0m \u001b[0;36m3\u001b[0m\u001b[0;34m)\u001b[0m\u001b[0;34m\u001b[0m\u001b[0;34m\u001b[0m\u001b[0m\n\u001b[1;32m      5\u001b[0m \u001b[0mdf\u001b[0m \u001b[0;34m=\u001b[0m \u001b[0mdf\u001b[0m\u001b[0;34m[\u001b[0m\u001b[0;36m0\u001b[0m\u001b[0;34m:\u001b[0m\u001b[0mlen\u001b[0m\u001b[0;34m(\u001b[0m\u001b[0mdf\u001b[0m\u001b[0;34m)\u001b[0m\u001b[0;34m-\u001b[0m\u001b[0;36m2\u001b[0m\u001b[0;34m]\u001b[0m\u001b[0;34m\u001b[0m\u001b[0;34m\u001b[0m\u001b[0m\n\u001b[0;32m----> 6\u001b[0;31m \u001b[0mdf\u001b[0m\u001b[0;34m=\u001b[0m \u001b[0mpd\u001b[0m\u001b[0;34m.\u001b[0m\u001b[0mDataFrame\u001b[0m\u001b[0;34m(\u001b[0m\u001b[0;34m{\u001b[0m\u001b[0;34m'student'\u001b[0m\u001b[0;34m:\u001b[0m\u001b[0mstudent\u001b[0m\u001b[0;34m,\u001b[0m \u001b[0;34m'mittens'\u001b[0m\u001b[0;34m:\u001b[0m\u001b[0mmittens\u001b[0m\u001b[0;34m(\u001b[0m\u001b[0mpairs\u001b[0m\u001b[0;34m)\u001b[0m\u001b[0;34m,\u001b[0m \u001b[0;34m'hats'\u001b[0m\u001b[0;34m:\u001b[0m\u001b[0mhats\u001b[0m\u001b[0;34m,\u001b[0m \u001b[0;34m'sweaters'\u001b[0m\u001b[0;34m:\u001b[0m\u001b[0msweaters\u001b[0m\u001b[0;34m,\u001b[0m \u001b[0;34m'major'\u001b[0m\u001b[0;34m:\u001b[0m\u001b[0mmajor\u001b[0m\u001b[0;34m}\u001b[0m\u001b[0;34m)\u001b[0m\u001b[0;34m\u001b[0m\u001b[0;34m\u001b[0m\u001b[0m\n\u001b[0m\u001b[1;32m      7\u001b[0m \u001b[0;31m#data= df[['student', 'mittens', 'hats', 'sweaters', 'major']]\u001b[0m\u001b[0;34m\u001b[0m\u001b[0;34m\u001b[0m\u001b[0;34m\u001b[0m\u001b[0m\n\u001b[1;32m      8\u001b[0m \u001b[0mprint\u001b[0m\u001b[0;34m(\u001b[0m\u001b[0mdf\u001b[0m\u001b[0;34m)\u001b[0m\u001b[0;34m\u001b[0m\u001b[0;34m\u001b[0m\u001b[0m\n",
      "\u001b[0;31mNameError\u001b[0m: name 'student' is not defined"
     ]
    }
   ],
   "source": [
    "# Exercise 2\n",
    "## Import the file Gradebook.csv\n",
    "\n",
    "df= pd.read_csv('data/Gradebook.csv',delimiter=',',header = 3)\n",
    "df = df[0:len(df)-2]\n",
    "df= pd.DataFrame({'student':student, 'mittens':mittens(pairs), 'hats':hats, 'sweaters':sweaters, 'major':major})\n",
    "#data= df[['student', 'mittens', 'hats', 'sweaters', 'major']]\n",
    "print(df)\n",
    "\n"
   ]
  },
  {
   "cell_type": "markdown",
   "metadata": {},
   "source": [
    "## Exercise 3\n",
    "\n",
    "Using the musician dataframe you created for Exercise 1, use the built in scatter-plot function as shown in the text. Do a search on this method and figure out what parameters can be modified to change the appearance of the graph. Select several and include `#comments` in your code highlighting your choices."
   ]
  },
  {
   "cell_type": "code",
   "execution_count": 98,
   "metadata": {},
   "outputs": [
    {
     "data": {
      "text/plain": [
       "(86.1103112738851, 112.22669223129743, 5.778598158619328, 35.25520823323039)"
      ]
     },
     "execution_count": 98,
     "metadata": {},
     "output_type": "execute_result"
    },
    {
     "data": {
      "image/png": "[encoded data removed]",
      "text/plain": [
       "<Figure size 1080x1080 with 1 Axes>"
      ]
     },
     "metadata": {
      "needs_background": "light"
     },
     "output_type": "display_data"
    }
   ],
   "source": [
    "# Exercise 3\n",
    "\n",
    "import numpy as np\n",
    "import matplotlib.pyplot as plt\n",
    "import pandas as pd\n",
    "#print (df_music)\n",
    "x = talent\n",
    "y = attitude\n",
    "fig, ax = plt.subplots(figsize=(15, 15))\n",
    "#created a large figure to help show the data clearly\n",
    "plt.plot(x, y, 'x', color='coral')\n",
    "#instead of dots x's were used to show more detail as to if there are multiple in one spot\n",
    "plt.title('Attitude vs Talent')\n",
    "plt.xlabel('Talent')\n",
    "plt.ylabel('Attitude')\n",
    "plt.yticks(np.arange(0, 35, 5))\n",
    "plt.xticks(np.arange(0, 120, 2))\n",
    "plt.axis('scaled')\n",
    "#by scaling the axis the graph looks cleaner but it is important to read this graph or else the data will look different\n"
   ]
  },
  {
   "cell_type": "markdown",
   "metadata": {},
   "source": [
    "\n",
    "![Alt text that will appear on mouseover](images/TJU_logo_image.png \"TJU logo image\")"
   ]
  }
 ],
 "metadata": {
  "kernelspec": {
   "display_name": "Python 3",
   "language": "python",
   "name": "python3"
  },
  "language_info": {
   "codemirror_mode": {
    "name": "ipython",
    "version": 3
   },
   "file_extension": ".py",
   "mimetype": "text/x-python",
   "name": "python",
   "nbconvert_exporter": "python",
   "pygments_lexer": "ipython3",
   "version": "3.7.3"
  }
 },
 "nbformat": 4,
 "nbformat_minor": 2
}
