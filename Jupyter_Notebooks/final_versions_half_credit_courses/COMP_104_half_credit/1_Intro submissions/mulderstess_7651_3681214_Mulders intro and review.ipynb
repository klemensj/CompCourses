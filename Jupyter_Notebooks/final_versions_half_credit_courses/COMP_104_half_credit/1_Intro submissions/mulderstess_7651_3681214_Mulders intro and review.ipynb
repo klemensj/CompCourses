{
 "cells": [
  {
   "cell_type": "markdown",
   "metadata": {},
   "source": [
    "<div align =\"right\">Thomas Jefferson University <b>COMP 104</b>: Intro to Big Data</div>"
   ]
  },
  {
   "cell_type": "markdown",
   "metadata": {},
   "source": [
    "# Intro to Big Data and Review\n",
    "\n",
    "In this worksheet I'm not going to give you much of anything. To start wit. \n",
    "\n",
    "## Exercise 1\n",
    "\n",
    "Run the code below to create a set of data arrays. Using the method described in the reading, 1) create a pandas dataframe from these values and then summarize the data by the three genres that are present. Your summary should report the count, mean, median, standard deviation, and quartiles of the data for each genre."
   ]
  },
  {
   "cell_type": "code",
   "execution_count": 1,
   "metadata": {},
   "outputs": [],
   "source": [
    "# run but don't modify this code block\n",
    "\n",
    "import numpy as np\n",
    "t = np.arange(0,100,1)\n",
    "labels = [\"punk\",\"mod\",\"rocker\"]\n",
    "\n",
    "for i in t:\n",
    "    talent = i + np.random.normal(0,5,100)\n",
    "    attitude = i/5 + np.random.normal(0,5,100)\n",
    "    genre = np.random.choice(labels,100)\n",
    "    "
   ]
  },
  {
   "cell_type": "code",
   "execution_count": 2,
   "metadata": {},
   "outputs": [
    {
     "name": "stdout",
     "output_type": "stream",
     "text": [
      "       talent                                                          \\\n",
      "        count        mean       std        min        25%         50%   \n",
      "genre                                                                   \n",
      "mod      35.0  100.229590  5.745574  88.840902  97.077232  100.231442   \n",
      "punk     34.0   97.344277  5.386001  87.761361  94.015842   98.426540   \n",
      "rocker   31.0   97.534820  6.380390  84.969129  92.110743   98.600293   \n",
      "\n",
      "                               attitude                                  \\\n",
      "               75%         max    count       mean       std        min   \n",
      "genre                                                                     \n",
      "mod     103.890385  113.802987     35.0  19.380669  4.806770   9.773098   \n",
      "punk    101.970078  105.659802     34.0  20.128763  5.224773  11.754527   \n",
      "rocker  101.943443  112.080572     31.0  19.255179  4.192744   8.443386   \n",
      "\n",
      "                                                    \n",
      "              25%        50%        75%        max  \n",
      "genre                                               \n",
      "mod     15.637017  19.541679  22.044169  30.788591  \n",
      "punk    15.959738  20.156172  24.144302  30.929389  \n",
      "rocker  16.050309  19.590138  22.578413  27.256659  \n"
     ]
    }
   ],
   "source": [
    "import pandas as pd\n",
    "\n",
    "df = pd.DataFrame({'talent':talent, 'attitude': attitude,'genre': genre})\n",
    "df\n",
    "grouped = df.groupby('genre')\n",
    "#grouped.head()\n",
    "\n",
    "print(grouped.describe())"
   ]
  },
  {
   "cell_type": "markdown",
   "metadata": {},
   "source": [
    "## Exercise 2\n",
    "\n",
    "In the /data directory where this notebook is located you should find a data file called `Gradebook.csv` that contains the gradebook for a knitting class that was held in January. Import the data (without editing the `.csv` file in Excel) using the techniques shown in the reading. Make sure the data is stored as a dataframe and summarize the results by student major. "
   ]
  },
  {
   "cell_type": "code",
   "execution_count": 7,
   "metadata": {},
   "outputs": [
    {
     "name": "stdout",
     "output_type": "stream",
     "text": [
      "2      Name                    mittens(pairs)                  hats         \\\n",
      "      count unique    top freq          count unique top freq count unique   \n",
      "major                                                                        \n",
      "BIOL      3      3   Tess    1              3      3   4    1     3      2   \n",
      "CHEM      2      2  Amber    1              2      1   3    2     2      2   \n",
      "MED       1      1   Erin    1              1      1   3    1     1      1   \n",
      "PA        1      1   Jake    1              1      1   3    1     1      1   \n",
      "\n",
      "2              sweaters                  \n",
      "      top freq    count unique top freq  \n",
      "major                                    \n",
      "BIOL    3    2        3      2   1    2  \n",
      "CHEM    4    1        2      1   1    2  \n",
      "MED     4    1        1      1   0    1  \n",
      "PA      6    1        1      1   0    1  \n"
     ]
    }
   ],
   "source": [
    "data = pd.read_csv('data/Gradebook.csv')\n",
    "new_header = data.iloc[2] \n",
    "data = data[3:10] \n",
    "data.columns = new_header\n",
    "grouped1 = data.groupby('major')\n",
    "print(grouped1.describe())\n"
   ]
  },
  {
   "cell_type": "markdown",
   "metadata": {},
   "source": [
    "## Exercise 3\n",
    "\n",
    "Using the musician dataframe you created for Exercise 1, use the built in scatter-plot function as shown in the text. Do a search on this method and figure out what parameters can be modified to change the appearance of the graph. Select several and include `#comments` in your code highlighting your choices."
   ]
  },
  {
   "cell_type": "code",
   "execution_count": 5,
   "metadata": {},
   "outputs": [
    {
     "data": {
      "image/png": "[encoded data removed]",
      "text/plain": [
       "<Figure size 432x288 with 1 Axes>"
      ]
     },
     "metadata": {
      "needs_background": "light"
     },
     "output_type": "display_data"
    }
   ],
   "source": [
    "import matplotlib.pyplot as plt\n",
    "\n",
    "fig, ax = plt.subplots()\n",
    "colors = {'mod':'violet', 'punk':'blue', 'rocker':'green'}\n",
    "for key, group in grouped:\n",
    "    group.plot(ax=ax, kind='scatter', x='talent', y='attitude', label=key, color=colors[key], fontsize = 12)\n",
    "ax.spines['right'].set_visible(False)\n",
    "ax.spines['top'].set_visible(False)\n",
    "plt.title('Musician data by attitude, talent and genre', size =14, fontweight = \"bold\")\n",
    "plt.ylabel('attitude', fontweight='bold', size=13)\n",
    "plt.xlabel('talent',fontweight='bold', size=13)\n",
    "plt.show()\n",
    "\n",
    "#added a for loop to color dots by genre, I would love to find an easier way to do this, I know seaborn has a nice fix to look into\n",
    "#got rid of part of the box to make it less boxed in\n",
    "#added some labels\n",
    "#added a legend "
   ]
  },
  {
   "cell_type": "markdown",
   "metadata": {},
   "source": [
    "\n",
    "![Alt text that will appear on mouseover](images/TJU_logo_image.png \"TJU logo image\")"
   ]
  }
 ],
 "metadata": {
  "kernelspec": {
   "display_name": "Python 3",
   "language": "python",
   "name": "python3"
  },
  "language_info": {
   "codemirror_mode": {
    "name": "ipython",
    "version": 3
   },
   "file_extension": ".py",
   "mimetype": "text/x-python",
   "name": "python",
   "nbconvert_exporter": "python",
   "pygments_lexer": "ipython3",
   "version": "3.7.3"
  }
 },
 "nbformat": 4,
 "nbformat_minor": 2
}
