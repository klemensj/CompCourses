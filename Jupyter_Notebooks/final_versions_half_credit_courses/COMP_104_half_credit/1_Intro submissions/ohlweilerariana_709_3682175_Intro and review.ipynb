{
 "cells": [
  {
   "cell_type": "markdown",
   "metadata": {},
   "source": [
    "<div align =\"right\">Thomas Jefferson University <b>COMP 104</b>: Intro to Big Data</div>"
   ]
  },
  {
   "cell_type": "markdown",
   "metadata": {},
   "source": [
    "# Intro to Big Data and Review\n",
    "\n",
    "In this worksheet I'm not going to give you much of anything. To start wit. \n",
    "\n",
    "## Exercise 1\n",
    "\n",
    "Run the code below to create a set of data arrays. Using the method described in the reading, 1) create a pandas dataframe from these values and then summarize the data by the three genres that are present. Your summary should report the count, mean, median, standard deviation, and quartiles of the data for each genre."
   ]
  },
  {
   "cell_type": "code",
   "execution_count": 25,
   "metadata": {},
   "outputs": [],
   "source": [
    "# run but don't modify this code block\n",
    "\n",
    "import numpy as np\n",
    "t = np.arange(0,100,1)\n",
    "labels = [\"punk\",\"mod\",\"rocker\"]\n",
    "\n",
    "for i in t:\n",
    "    talent = i + np.random.normal(0,5,100)\n",
    "    attitude = i/5 + np.random.normal(0,5,100)\n",
    "    genre = np.random.choice(labels,100)"
   ]
  },
  {
   "cell_type": "code",
   "execution_count": 26,
   "metadata": {},
   "outputs": [
    {
     "name": "stdout",
     "output_type": "stream",
     "text": [
      "49.5\n",
      "29.011491975882016\n",
      "0      0\n",
      "1      1\n",
      "2      2\n",
      "3      3\n",
      "4      4\n",
      "5      5\n",
      "6      6\n",
      "7      7\n",
      "8      8\n",
      "9      9\n",
      "10    10\n",
      "11    11\n",
      "12    12\n",
      "13    13\n",
      "14    14\n",
      "15    15\n",
      "16    16\n",
      "17    17\n",
      "18    18\n",
      "19    19\n",
      "20    20\n",
      "21    21\n",
      "22    22\n",
      "23    23\n",
      "24    24\n",
      "25    25\n",
      "26    26\n",
      "27    27\n",
      "28    28\n",
      "29    29\n",
      "      ..\n",
      "70    70\n",
      "71    71\n",
      "72    72\n",
      "73    73\n",
      "74    74\n",
      "75    75\n",
      "76    76\n",
      "77    77\n",
      "78    78\n",
      "79    79\n",
      "80    80\n",
      "81    81\n",
      "82    82\n",
      "83    83\n",
      "84    84\n",
      "85    85\n",
      "86    86\n",
      "87    87\n",
      "88    88\n",
      "89    89\n",
      "90    90\n",
      "91    91\n",
      "92    92\n",
      "93    93\n",
      "94    94\n",
      "95    95\n",
      "96    96\n",
      "97    97\n",
      "98    98\n",
      "99    99\n",
      "Length: 100, dtype: int64\n",
      "49.5\n",
      "100\n",
      "   punk  mod  rocker\n",
      "0     1    2       3\n",
      "1     4    5       6\n",
      "2     7    8       9\n"
     ]
    }
   ],
   "source": [
    "import pandas as pd\n",
    "\n",
    "df = pd.DataFrame(np.array([[1, 2, 3], [4, 5, 6], [7, 8, 9]]),\n",
    "                columns=['punk', 'mod', 'rocker'])\n",
    "\n",
    "s = pd.Series(data = t)\n",
    "print(s.mean())\n",
    "print(s.std())\n",
    "print(s.mode())\n",
    "print(s.median())\n",
    "print(s.count())\n",
    "\n",
    "np.percentile(s,[25,50,75])\n",
    "print(df)\n",
    "\n"
   ]
  },
  {
   "cell_type": "markdown",
   "metadata": {},
   "source": [
    "## Exercise 2\n",
    "\n",
    "In the /data directory where this notebook is located you should find a data file called `Gradebook.csv` that contains the gradebook for a knitting class that was held in January. Import the data (without editing the `.csv` file in Excel) using the techniques shown in the reading. Make sure the data is stored as a dataframe and summarize the results by student major. "
   ]
  },
  {
   "cell_type": "code",
   "execution_count": 27,
   "metadata": {},
   "outputs": [
    {
     "data": {
      "text/html": [
       "<div>\n",
       "<style scoped>\n",
       "    .dataframe tbody tr th:only-of-type {\n",
       "        vertical-align: middle;\n",
       "    }\n",
       "\n",
       "    .dataframe tbody tr th {\n",
       "        vertical-align: top;\n",
       "    }\n",
       "\n",
       "    .dataframe thead th {\n",
       "        text-align: right;\n",
       "    }\n",
       "</style>\n",
       "<table border=\"1\" class=\"dataframe\">\n",
       "  <thead>\n",
       "    <tr style=\"text-align: right;\">\n",
       "      <th></th>\n",
       "      <th>mittens</th>\n",
       "      <th>hats</th>\n",
       "      <th>sweaters</th>\n",
       "    </tr>\n",
       "    <tr>\n",
       "      <th>major</th>\n",
       "      <th></th>\n",
       "      <th></th>\n",
       "      <th></th>\n",
       "    </tr>\n",
       "  </thead>\n",
       "  <tbody>\n",
       "    <tr>\n",
       "      <th>BIOL</th>\n",
       "      <td>3.0</td>\n",
       "      <td>3.0</td>\n",
       "      <td>1.25</td>\n",
       "    </tr>\n",
       "    <tr>\n",
       "      <th>CHEM</th>\n",
       "      <td>3.0</td>\n",
       "      <td>4.5</td>\n",
       "      <td>1.00</td>\n",
       "    </tr>\n",
       "    <tr>\n",
       "      <th>MED</th>\n",
       "      <td>3.0</td>\n",
       "      <td>4.0</td>\n",
       "      <td>0.00</td>\n",
       "    </tr>\n",
       "    <tr>\n",
       "      <th>PA</th>\n",
       "      <td>3.0</td>\n",
       "      <td>6.0</td>\n",
       "      <td>0.00</td>\n",
       "    </tr>\n",
       "  </tbody>\n",
       "</table>\n",
       "</div>"
      ],
      "text/plain": [
       "       mittens  hats  sweaters\n",
       "major                         \n",
       "BIOL       3.0   3.0      1.25\n",
       "CHEM       3.0   4.5      1.00\n",
       "MED        3.0   4.0      0.00\n",
       "PA         3.0   6.0      0.00"
      ]
     },
     "execution_count": 27,
     "metadata": {},
     "output_type": "execute_result"
    }
   ],
   "source": [
    "# Exercise 2\n",
    "import pandas as pd\n",
    "\n",
    "df = pd.read_csv('data/Gradebook.csv')\n",
    "data = [df['mittens'], df['hats'], df['sweaters'], df['major']]\n",
    "\n",
    "df.groupby(\"major\").mean()\n"
   ]
  },
  {
   "cell_type": "markdown",
   "metadata": {},
   "source": [
    "## Exercise 3\n",
    "\n",
    "Using the musician dataframe you created for Exercise 1, use the built in scatter-plot function as shown in the text. Do a search on this method and figure out what parameters can be modified to change the appearance of the graph. Select several and include `#comments` in your code highlighting your choices."
   ]
  },
  {
   "cell_type": "code",
   "execution_count": 29,
   "metadata": {},
   "outputs": [
    {
     "data": {
      "text/plain": [
       "<matplotlib.axes._subplots.AxesSubplot at 0x119d10780>"
      ]
     },
     "execution_count": 29,
     "metadata": {},
     "output_type": "execute_result"
    },
    {
     "data": {
      "image/png": "[encoded data removed]",
      "text/plain": [
       "<Figure size 432x288 with 1 Axes>"
      ]
     },
     "metadata": {
      "needs_background": "light"
     },
     "output_type": "display_data"
    }
   ],
   "source": [
    "# Exercise 3\n",
    "\n",
    "import matplotlib.pyplot as plt\n",
    "import numpy as np\n",
    "t = np.arange(0,100,1)\n",
    "labels = [\"punk\", \"mod\", \"rocker\"]\n",
    "\n",
    "for i in t:\n",
    "    talent = i + np.random.normal(0,5,100)\n",
    "    attitude = i/5 + np.random.normal(0,5,100)\n",
    "    genre = np.random.choice(labels,100)\n",
    "    \n",
    "df = pd. DataFrame(np. array([[1,2,3],[4,5,6],[7,8,9]]), columns = ['punk','mod','rocker'])\n",
    "\n",
    "df.plot.scatter(x='punk', \n",
    "               y='mod',\n",
    "               c='DarkBlue')\n",
    "\n",
    "#can change color of scatter plot using c"
   ]
  },
  {
   "cell_type": "markdown",
   "metadata": {},
   "source": [
    "\n",
    "![Alt text that will appear on mouseover](images/TJU_logo_image.png \"TJU logo image\")"
   ]
  },
  {
   "cell_type": "code",
   "execution_count": null,
   "metadata": {},
   "outputs": [],
   "source": []
  }
 ],
 "metadata": {
  "kernelspec": {
   "display_name": "Python 3",
   "language": "python",
   "name": "python3"
  },
  "language_info": {
   "codemirror_mode": {
    "name": "ipython",
    "version": 3
   },
   "file_extension": ".py",
   "mimetype": "text/x-python",
   "name": "python",
   "nbconvert_exporter": "python",
   "pygments_lexer": "ipython3",
   "version": "3.7.3"
  }
 },
 "nbformat": 4,
 "nbformat_minor": 2
}
