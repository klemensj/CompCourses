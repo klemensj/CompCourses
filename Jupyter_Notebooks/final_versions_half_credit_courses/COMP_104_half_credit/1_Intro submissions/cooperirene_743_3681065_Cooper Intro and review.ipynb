{
 "cells": [
  {
   "cell_type": "markdown",
   "metadata": {},
   "source": [
    "<div align =\"right\">Thomas Jefferson University <b>COMP 104</b>: Intro to Big Data</div>"
   ]
  },
  {
   "cell_type": "markdown",
   "metadata": {},
   "source": [
    "# Intro to Big Data and Review\n",
    "\n",
    "In this worksheet I'm not going to give you much of anything. To start wit. \n",
    "\n",
    "## Exercise 1\n",
    "\n",
    "Run the code below to create a set of data arrays. Using the method described in the reading, 1) create a pandas dataframe from these values and then summarize the data by the three genres that are present. Your summary should report the count, mean, median, standard deviation, and quartiles of the data for each genre."
   ]
  },
  {
   "cell_type": "code",
   "execution_count": 23,
   "metadata": {},
   "outputs": [],
   "source": [
    "# run but don't modify this code block\n",
    "\n",
    "import numpy as np\n",
    "t = np.arange(0,100,1)\n",
    "labels = [\"punk\",\"mod\",\"rocker\"]\n",
    "\n",
    "for i in t:\n",
    "    talent = i + np.random.normal(0,5,100)\n",
    "    attitude = i/5 + np.random.normal(0,5,100)\n",
    "    genre = np.random.choice(labels,100)"
   ]
  },
  {
   "cell_type": "code",
   "execution_count": 49,
   "metadata": {},
   "outputs": [
    {
     "name": "stdout",
     "output_type": "stream",
     "text": [
      "       Attitude                                                        \\\n",
      "          count       mean       std        min        25%        50%   \n",
      "Genre                                                                   \n",
      "mod        31.0  20.363393  4.978788  12.464527  16.922692  20.348578   \n",
      "punk       40.0  19.993584  4.923169   8.387500  17.437980  19.518217   \n",
      "rocker     29.0  20.306004  5.461354   9.999873  16.184087  18.991340   \n",
      "\n",
      "                             Talent                                   \\\n",
      "              75%        max  count        mean       std        min   \n",
      "Genre                                                                  \n",
      "mod     23.411336  30.324479   31.0   99.197877  4.246968  91.847226   \n",
      "punk    23.826237  29.033591   40.0   98.499990  6.083019  88.663654   \n",
      "rocker  24.904357  29.069364   29.0  100.924742  5.840214  86.992776   \n",
      "\n",
      "                                                       \n",
      "              25%         50%         75%         max  \n",
      "Genre                                                  \n",
      "mod     96.092585   99.286690  102.181370  107.438360  \n",
      "punk    94.165612   98.356441  102.094973  111.611102  \n",
      "rocker  96.169758  101.838512  105.133139  112.434634  \n"
     ]
    }
   ],
   "source": [
    "#Exercise 1\n",
    "import pandas as pd\n",
    "\n",
    "\n",
    "\n",
    "df = pd.DataFrame ({'Talent':talent, 'Attitude':attitude, 'Genre': genre})\n",
    "grouped = df.groupby('Genre')\n",
    "print(grouped.describe())\n",
    "\n",
    "#print(talent)\n",
    "#print(attitude)\n",
    "#print(genre)\n",
    "#plshelp\n",
    "#tyler and I tried to combine brain power but to no avail\n",
    "#jk we figured it out"
   ]
  },
  {
   "cell_type": "markdown",
   "metadata": {},
   "source": [
    "## Exercise 2\n",
    "\n",
    "In the /data directory where this notebook is located you should find a data file called `Gradebook.csv` that contains the gradebook for a knitting class that was held in January. Import the data (without editing the `.csv` file in Excel) using the techniques shown in the reading. Make sure the data is stored as a dataframe and summarize the results by student major. "
   ]
  },
  {
   "cell_type": "code",
   "execution_count": 19,
   "metadata": {},
   "outputs": [
    {
     "name": "stdout",
     "output_type": "stream",
     "text": [
      "   Data from my intro to knitting class, FL 20        Unnamed: 1 Unnamed: 2  \\\n",
      "0                            Professor Klemens               NaN        NaN   \n",
      "1                                      student  pieces completed        NaN   \n",
      "2                                         Name    mittens(pairs)       hats   \n",
      "3                                        Amber                 3          5   \n",
      "4                                      Arianna                 3          4   \n",
      "5                                         Erin                 3          4   \n",
      "6                                        Irene                 4          3   \n",
      "7                                         Jake                 3          6   \n",
      "8                                       Karime                 2          3   \n",
      "9                                         Tess                 3          4   \n",
      "10                                       Tyler                 3          2   \n",
      "11                                         NaN               NaN        NaN   \n",
      "12            data complete through 1/31/ 2021               NaN        NaN   \n",
      "\n",
      "   Unnamed: 3 Unnamed: 4  \n",
      "0         NaN        NaN  \n",
      "1         NaN        NaN  \n",
      "2    sweaters      major  \n",
      "3           1       CHEM  \n",
      "4           1       CHEM  \n",
      "5           0        MED  \n",
      "6           1       BIOL  \n",
      "7           0         PA  \n",
      "8           2       BIOL  \n",
      "9           1       BIOL  \n",
      "10          1       BIOL  \n",
      "11        NaN        NaN  \n",
      "12        NaN        NaN  \n",
      "           Data from my intro to knitting class, FL 20                       \\\n",
      "                                                 count unique      top freq   \n",
      "Unnamed: 4                                                                    \n",
      "BIOL                                                 4      4     Tess    1   \n",
      "CHEM                                                 2      2  Arianna    1   \n",
      "MED                                                  1      1     Erin    1   \n",
      "PA                                                   1      1     Jake    1   \n",
      "major                                                1      1     Name    1   \n",
      "\n",
      "           Unnamed: 1                             Unnamed: 2               \\\n",
      "                count unique             top freq      count unique   top   \n",
      "Unnamed: 4                                                                  \n",
      "BIOL                4      3               3    2          4      3     3   \n",
      "CHEM                2      1               3    2          2      2     5   \n",
      "MED                 1      1               3    1          1      1     4   \n",
      "PA                  1      1               3    1          1      1     6   \n",
      "major               1      1  mittens(pairs)    1          1      1  hats   \n",
      "\n",
      "                Unnamed: 3                        \n",
      "           freq      count unique       top freq  \n",
      "Unnamed: 4                                        \n",
      "BIOL          2          4      2         1    3  \n",
      "CHEM          1          2      1         1    2  \n",
      "MED           1          1      1         0    1  \n",
      "PA            1          1      1         0    1  \n",
      "major         1          1      1  sweaters    1  \n"
     ]
    }
   ],
   "source": [
    "# Exercise 2\n",
    "## Import the file Gradebook.csv\n",
    "import pandas as pd\n",
    "import matplotlib.pyplot as plt\n",
    "\n",
    "df = pd.read_csv (r'C:\\Users\\renie\\Downloads\\1_intro_and_review\\1_intro_and_review\\data\\Gradebook.csv')\n",
    "new_df = 'Gradebook'\n",
    "print(df)\n",
    "\n",
    "grouped = df.groupby('Unnamed: 4')\n",
    "print(grouped.describe())\n",
    "\n",
    "#I feel like there's an issue with the column header, but I'm\n",
    "#not able to change it to 'major' without doing it manually"
   ]
  },
  {
   "cell_type": "markdown",
   "metadata": {},
   "source": [
    "## Exercise 3\n",
    "\n",
    "Using the musician dataframe you created for Exercise 1, use the built in scatter-plot function as shown in the text. Do a search on this method and figure out what parameters can be modified to change the appearance of the graph. Select several and include `#comments` in your code highlighting your choices."
   ]
  },
  {
   "cell_type": "code",
   "execution_count": 64,
   "metadata": {},
   "outputs": [
    {
     "data": {
      "image/png": "[encoded data removed]",
      "text/plain": [
       "<Figure size 432x288 with 1 Axes>"
      ]
     },
     "metadata": {
      "needs_background": "light"
     },
     "output_type": "display_data"
    }
   ],
   "source": [
    "# Exercise 3\n",
    "\n",
    "plt.plot (attitude, talent, \"o\", color = 'pink', alpha= 0.8)\n",
    "plt.xlabel('Attitude ;)')\n",
    "plt.ylabel('Talent :D')\n",
    "plt.title ('Attitude vs Talent Across Genres')\n",
    "plt.show ()\n",
    "#parameters can be color, shape, and transperancy\n"
   ]
  },
  {
   "cell_type": "markdown",
   "metadata": {},
   "source": [
    "\n",
    "![Alt text that will appear on mouseover](images/TJU_logo_image.png \"TJU logo image\")"
   ]
  }
 ],
 "metadata": {
  "kernelspec": {
   "display_name": "Python 3",
   "language": "python",
   "name": "python3"
  },
  "language_info": {
   "codemirror_mode": {
    "name": "ipython",
    "version": 3
   },
   "file_extension": ".py",
   "mimetype": "text/x-python",
   "name": "python",
   "nbconvert_exporter": "python",
   "pygments_lexer": "ipython3",
   "version": "3.7.1"
  }
 },
 "nbformat": 4,
 "nbformat_minor": 2
}
