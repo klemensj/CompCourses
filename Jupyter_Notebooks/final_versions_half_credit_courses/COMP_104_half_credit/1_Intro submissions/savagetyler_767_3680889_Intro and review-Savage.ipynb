{
 "cells": [
  {
   "cell_type": "markdown",
   "metadata": {},
   "source": [
    "<div align =\"right\">Thomas Jefferson University <b>COMP 104</b>: Intro to Big Data</div>"
   ]
  },
  {
   "cell_type": "markdown",
   "metadata": {},
   "source": [
    "# Intro to Big Data and Review\n",
    "\n",
    "In this worksheet I'm not going to give you much of anything. To start wit. \n",
    "\n",
    "## Exercise 1\n",
    "\n",
    "Run the code below to create a set of data arrays. Using the method described in the reading, 1) create a pandas dataframe from these values and then summarize the data by the three genres that are present. Your summary should report the count, mean, median, standard deviation, and quartiles of the data for each genre."
   ]
  },
  {
   "cell_type": "code",
   "execution_count": 8,
   "metadata": {},
   "outputs": [],
   "source": [
    "# run but don't modify this code block\n",
    "\n",
    "import numpy as np\n",
    "t = np.arange(0,100,1)\n",
    "labels = [\"punk\",\"mod\",\"rocker\"]\n",
    "\n",
    "for i in t:\n",
    "    talent = i + np.random.normal(0,5,100)\n",
    "    attitude = i/5 + np.random.normal(0,5,100)\n",
    "    genre = np.random.choice(labels,100)"
   ]
  },
  {
   "cell_type": "code",
   "execution_count": 52,
   "metadata": {},
   "outputs": [
    {
     "name": "stdout",
     "output_type": "stream",
     "text": [
      "[ 0  1  2  3  4  5  6  7  8  9 10 11 12 13 14 15 16 17 18 19 20 21 22 23\n",
      " 24 25 26 27 28 29 30 31 32 33 34 35 36 37 38 39 40 41 42 43 44 45 46 47\n",
      " 48 49 50 51 52 53 54 55 56 57 58 59 60 61 62 63 64 65 66 67 68 69 70 71\n",
      " 72 73 74 75 76 77 78 79 80 81 82 83 84 85 86 87 88 89 90 91 92 93 94 95\n",
      " 96 97 98 99]\n",
      "[ 96.93271122 101.2185383   99.39751456  96.63160605  98.22504685\n",
      " 109.0322235  101.82243822  96.73099056  92.81043851  99.60742247\n",
      "  93.96178151 100.32514532  99.26495911  97.62985785 104.95579332\n",
      "  98.60998669 106.92560717  91.42413823  94.60537303  89.94980419\n",
      "  93.42520612  93.15804104  87.11189796  98.15412492  99.0135952\n",
      " 102.99646446  98.78174022 102.75711892 107.80050211 100.62539318\n",
      "  93.42876119 104.34564559  99.47692568  96.99802665 104.92787977\n",
      " 108.33888051  99.78307846 109.33726298 103.78013316  95.2741592\n",
      " 107.20771918  97.53678521  99.10422832  85.32776127  92.80316283\n",
      " 102.63630396 101.65052058  94.20751513  97.46324929  97.67297055\n",
      "  92.07806336  92.7644424   99.24421895 103.17334109  98.48441202\n",
      "  99.41865789 102.83578967 102.69213339  95.61179728  98.95131058\n",
      "  95.01499324  89.98422795 110.71302269 102.03908969 100.64891292\n",
      "  98.82313425  98.10101553 107.75425106 106.65673298 109.45833407\n",
      "  94.5751092   99.86561011 105.60503109  95.04730536  95.02321071\n",
      "  97.5022862   96.54361432 102.85484352 101.52960582  90.39070339\n",
      " 102.59409862  88.24513902  94.49522157  96.30800208  97.58355017\n",
      " 103.86903222 106.21160501 103.810069    98.107601   106.08713787\n",
      "  94.26445008 100.90846755 113.08699151 102.47291547  89.10758263\n",
      " 107.79910134 103.33614755 100.46694769 105.28643943  99.60840738]\n",
      "[23.50418633 22.3698361  16.71419238 12.9037889  24.05741648 26.72893689\n",
      " 20.14962525 29.48012668 16.40464725 15.78994225 35.10827945 30.60102023\n",
      " 14.51438003 26.56121682 14.71126364 31.23824183 18.33064528 22.1619535\n",
      " 25.4063507  17.81480184 17.36429078 25.3004245  23.43484252 27.73488911\n",
      " 25.4078889  24.16051252 23.61556804 19.49477395 16.23657341 24.91966754\n",
      " 20.61653822 18.95111357 22.97952686 22.03529793 11.30246172 20.08440464\n",
      " 11.55416381 15.66742345 19.89938911 14.9116053  21.58731407 15.42014994\n",
      " 17.1549472  14.66955922 23.73780686 24.93799944 20.28099249 15.23403213\n",
      " 22.92103554 17.881548   13.91979874 29.2487643  15.38223086 29.40416403\n",
      " 19.87701298 19.39870317 21.61903076 24.54053094 30.2133023  23.07208381\n",
      " 18.58957966 20.13603264 21.49523664 18.96310662 22.2825774  13.36368351\n",
      " 17.77602229 16.82842102 12.4280213  23.94631056 13.57541522 22.25702858\n",
      " 22.1530371  20.49678966 14.33974889 22.46323737 12.91215054 16.71366886\n",
      "  6.72748286 14.02073395 11.37651495 21.72027653 23.82959872 23.18339193\n",
      " 18.11956581 20.95402499 22.83903858 12.9087396  20.47944689 26.48948718\n",
      " 19.25649537 14.02702915 21.6330986  27.03907255 21.17324014 11.94131104\n",
      " 20.57720117 16.61156701 14.71741748 11.04168135]\n",
      "['punk' 'punk' 'rocker' 'punk' 'punk' 'rocker' 'punk' 'punk' 'rocker'\n",
      " 'mod' 'punk' 'punk' 'mod' 'rocker' 'rocker' 'punk' 'rocker' 'punk' 'mod'\n",
      " 'punk' 'mod' 'rocker' 'rocker' 'rocker' 'rocker' 'rocker' 'rocker'\n",
      " 'rocker' 'punk' 'punk' 'mod' 'rocker' 'punk' 'mod' 'rocker' 'punk'\n",
      " 'rocker' 'punk' 'punk' 'rocker' 'rocker' 'rocker' 'rocker' 'rocker'\n",
      " 'rocker' 'mod' 'mod' 'rocker' 'mod' 'rocker' 'punk' 'rocker' 'punk' 'mod'\n",
      " 'mod' 'punk' 'mod' 'rocker' 'rocker' 'punk' 'punk' 'rocker' 'rocker'\n",
      " 'rocker' 'punk' 'punk' 'rocker' 'rocker' 'mod' 'punk' 'rocker' 'rocker'\n",
      " 'mod' 'mod' 'punk' 'mod' 'punk' 'punk' 'mod' 'rocker' 'mod' 'rocker'\n",
      " 'punk' 'mod' 'punk' 'rocker' 'mod' 'rocker' 'punk' 'mod' 'punk' 'punk'\n",
      " 'mod' 'mod' 'mod' 'mod' 'punk' 'punk' 'punk' 'rocker']\n",
      "        Talent   Attitude   Genre\n",
      "0    96.932711  23.504186    punk\n",
      "1   101.218538  22.369836    punk\n",
      "2    99.397515  16.714192  rocker\n",
      "3    96.631606  12.903789    punk\n",
      "4    98.225047  24.057416    punk\n",
      "..         ...        ...     ...\n",
      "95  107.799101  11.941311     mod\n",
      "96  103.336148  20.577201    punk\n",
      "97  100.466948  16.611567    punk\n",
      "98  105.286439  14.717417    punk\n",
      "99   99.608407  11.041681  rocker\n",
      "\n",
      "[100 rows x 3 columns]\n",
      "       Talent                                                          \\\n",
      "        count        mean       std        min        25%         50%   \n",
      "Genre                                                                   \n",
      "mod      25.0  100.543270  5.462165  89.107583  96.998027  101.529606   \n",
      "punk     36.0   99.380539  4.809642  89.949804  96.609608   99.097765   \n",
      "rocker   39.0   98.742035  6.213870  85.327761  94.391312   99.013595   \n",
      "\n",
      "                               Attitude                                  \\\n",
      "               75%         max    count       mean       std        min   \n",
      "Genre                                                                     \n",
      "mod     103.173341  113.086992     25.0  20.188430  5.436559   6.727483   \n",
      "punk    101.369513  109.458334     36.0  20.297642  5.441125  12.903789   \n",
      "rocker  103.403267  110.713023     39.0  19.658560  5.176727  11.041681   \n",
      "\n",
      "                                                    \n",
      "              25%        50%        75%        max  \n",
      "Genre                                               \n",
      "mod     17.364291  21.619031  22.921036  29.404164  \n",
      "punk    16.094286  19.991897  23.180109  35.108279  \n",
      "rocker  15.327091  18.963107  23.676687  30.213302  \n"
     ]
    }
   ],
   "source": [
    "import pandas as pd\n",
    "import numpy as np\n",
    "print(t)\n",
    "print(talent)\n",
    "print(attitude)\n",
    "print(genre)\n",
    "#df=pd.dataframe({'punk':t, 'mod':t, 'rocker':t})\n",
    "\n",
    "df= pd.DataFrame ({'Talent':talent, 'Attitude':attitude, 'Genre':genre})\n",
    "print(df)\n",
    "\n",
    "grouped = df.groupby('Genre')\n",
    "print(grouped.describe())\n",
    "\n",
    "#grouped= (data.groupby('punk'))\n",
    "#print(grouped.describe())\n",
    "#df_punk=grouped.getgroup('t')\n",
    "#values_punk=grouped.getgroup('t').values\n",
    "\n",
    "#grouped= (data.groupby('mod'))\n",
    "#print(grouped.describe())\n",
    "#df_mod=grouped.getgroup('t')\n",
    "#values_mod=grouped.getgroup('t').values\n",
    "\n",
    "#grouped= (data.groupby('rocker'))\n",
    "#print(grouped.describe())\n",
    "#df_rocker=grouped.getgroup('t')\n",
    "#values_rocker=grouped.getgroup('t').values\n",
    "\n"
   ]
  },
  {
   "cell_type": "markdown",
   "metadata": {},
   "source": [
    "## Exercise 2\n",
    "\n",
    "In the /data directory where this notebook is located you should find a data file called `Gradebook.csv` that contains the gradebook for a knitting class that was held in January. Import the data (without editing the `.csv` file in Excel) using the techniques shown in the reading. Make sure the data is stored as a dataframe and summarize the results by student major. "
   ]
  },
  {
   "cell_type": "code",
   "execution_count": 43,
   "metadata": {},
   "outputs": [
    {
     "name": "stdout",
     "output_type": "stream",
     "text": [
      "  major mittens(pairs) hats sweaters\n",
      "0  CHEM              6    9        2\n",
      "1   MED              3    4        0\n",
      "2  BIOL             12   12        5\n",
      "3    PA              3    6        0\n"
     ]
    }
   ],
   "source": [
    "import pandas as pd\n",
    "pd.read_csv(\"/Users/Savagejp28/Desktop/Spring 2021/Coding Big Data/1_Intro_and_review/data/Gradebook.csv\")\n",
    "data = pd.DataFrame({\n",
    "    'major': ['CHEM', 'MED', 'BIOL', 'PA'],\n",
    "    'mittens(pairs)': ['6', '3', '12','3'],\n",
    "    'hats':['9', '4','12','6'],\n",
    "    'sweaters':['2','0','5','0']\n",
    "})\n",
    "print(data)\n",
    "\n",
    "#grouped = data.groupby('Unnamed 4')\n",
    "#print(grouped.describe())\n",
    "\n",
    "#I know there should be some way to group without doing it manually\n",
    "#I tried using groupby but couldn't get it to work\n",
    "#Irene and I noticed that the column titles did not actually start with the correct name but \"unnamed 4\"\n",
    "#Wasn't sure how to work around this\n",
    "#I used a seperate dataframe to summarize the \"new\" data"
   ]
  },
  {
   "cell_type": "markdown",
   "metadata": {},
   "source": [
    "## Exercise 3\n",
    "\n",
    "Using the musician dataframe you created for Exercise 1, use the built in scatter-plot function as shown in the text. Do a search on this method and figure out what parameters can be modified to change the appearance of the graph. Select several and include `#comments` in your code highlighting your choices."
   ]
  },
  {
   "cell_type": "code",
   "execution_count": 85,
   "metadata": {},
   "outputs": [
    {
     "data": {
      "text/plain": [
       "Text(0.5, 1.0, 'Attitude vs Talent in Genres of Music')"
      ]
     },
     "execution_count": 85,
     "metadata": {},
     "output_type": "execute_result"
    },
    {
     "data": {
      "image/png": "[encoded data removed]",
      "text/plain": [
       "<Figure size 432x288 with 1 Axes>"
      ]
     },
     "metadata": {
      "needs_background": "light"
     },
     "output_type": "display_data"
    }
   ],
   "source": [
    "# Exercise 3\n",
    "#df = pd.DataFrame(np.random.rand(50,4)),\n",
    "    #columns ['punk', 'mod', 'rocker']\n",
    "#df.plot(kind='scatter', x=talent, y=attitude)\n",
    "import matplotlib.pyplot as plt\n",
    "\n",
    "plt.plot(attitude, talent, \".\", color='green')\n",
    "plt.xlabel('Attitude')\n",
    "plt.ylabel('Talent')\n",
    "plt.title('Attitude vs Talent in Genres of Music')\n",
    "\n",
    "#I changed the labels of the chart, the title, and the color\n",
    "\n",
    "\n",
    "\n",
    "#plt.plot(attitude, \".\")\n",
    "#plt.plot(talent, \".\")\n",
    "#plt.scatter(np.arange(len(attitude), talent))"
   ]
  },
  {
   "cell_type": "markdown",
   "metadata": {},
   "source": [
    "\n",
    "![Alt text that will appear on mouseover](images/TJU_logo_image.png \"TJU logo image\")"
   ]
  }
 ],
 "metadata": {
  "kernelspec": {
   "display_name": "Python 3",
   "language": "python",
   "name": "python3"
  },
  "language_info": {
   "codemirror_mode": {
    "name": "ipython",
    "version": 3
   },
   "file_extension": ".py",
   "mimetype": "text/x-python",
   "name": "python",
   "nbconvert_exporter": "python",
   "pygments_lexer": "ipython3",
   "version": "3.8.3"
  }
 },
 "nbformat": 4,
 "nbformat_minor": 2
}
