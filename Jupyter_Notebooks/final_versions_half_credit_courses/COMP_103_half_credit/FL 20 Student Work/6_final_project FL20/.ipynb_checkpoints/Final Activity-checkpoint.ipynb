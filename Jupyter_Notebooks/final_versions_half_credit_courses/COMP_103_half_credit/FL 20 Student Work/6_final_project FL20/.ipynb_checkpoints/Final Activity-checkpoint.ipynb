{
 "cells": [
  {
   "cell_type": "markdown",
   "metadata": {},
   "source": [
    "<div align =\"right\">Thomas Jefferson University <b>COMP 103</b>: Intro to Visualization</div>"
   ]
  },
  {
   "attachments": {},
   "cell_type": "markdown",
   "metadata": {},
   "source": [
    "# Intro to Visualization Final Activity\n",
    "\n",
    "We've made it this far, congratulations! I hope at this point that you are feeling confident in your ability to deploy python and matplotlib to create informative and attractive data visualizations! You should feel like you have a new tool in your scientific toolkit. I **also** hope that that this semester's activities have helped to reinforce some of your other python skills. The more you practice with things like loops, conditionals, and the various python data structures (lists, dictionaries, and dataframes) the less daunting they seem. As I've said many times, you can always look up the syntax again later, but every time you complete one of these notebooks you are building up base skills in computational thinking that I think will allow you to problem-solve in your own projects someday. \n",
    "\n",
    "So let's give you a chance to show off!\n",
    "\n",
    "I've included a dataset in this folder called `BioMar.csv`. Your challenge is to summarize that data set using visualizations to create a set of figures that tell the 'story' of the data as you see it. Within the data folder I have included a an article (along with its supplementary data file) that describes this recent data from the marine zone of Area de Conservación Guanacaste (you'll see on the first page of the paper that this is part of a special issue of the journal Biotropica that I was involved in producing). The paper is describing the results of a new biodiversity surveying effort. The main concern is documenting previously undocumented marine species within the conservation area. \n",
    "\n",
    "Your answer should include AT LEAST one each of: \n",
    "\n",
    "* pie chart\n",
    "* histogram\n",
    "* bar plot\n",
    "* scatter plot \n",
    "* box plot* \n",
    "* heat map \n",
    "* annotated figure\n",
    "* multi-plot layout\n",
    "\n",
    "and for each individual plot that you make your code should export the figure as a .pdf file named `LastName_Fig_X.pdf` where `LastName` is your last name and `X` is the number for each figure. \n",
    "\n",
    "The data that I have given you is drawn from the tables in the paper and the supplementary material. \n",
    "\n",
    "    Biomar_samples:  the total organisms collected from within the particular taxonomic group \n",
    "    \n",
    "    Biomar_species:  the number of unique species found in the sample\n",
    "    \n",
    "    Poss_New_species: species in the sample that are undescribed (new to science) \n",
    "    \n",
    "    New_to_ACG:  speciesin the sample not previously known to occur in ACG \t\n",
    "    \n",
    "    New_to_Costa_Rica:  species in the sample not previously known to occur in Costa Rica \t\n",
    "  \n",
    "    Total_species_ACG:  previous species count know to occur in ACG plus 'New_to_ACG'\n",
    "\n",
    "\n",
    "\n",
    "Two further notes: \n",
    "\n",
    "1. You don't have all the variables that you need to plot in order to answer some obvious questions. For example, you don't know how many species had been documented for the ACG before this effort, *but* you can calculate it given what you have.\n",
    "\n",
    "2. There are a few rows in the data that need to be handled differently than others. For example, there is a row for the TOTAL number of Crustaceans. We need that because the data on Total_species_ACG isn't broken down into subgroups. So for some comparisons you will have to use some subsets of the rows and for other comparisons you will have to add up different subsets. I'll let you figure out how to do this, but do this subsetting within python to practice your pandas skills (in other words, don't just go into Excel and make two separate datasets -- even this would probably be the easiest thing to do). \n",
    "\n",
    "\n",
    "\\* The box plot will be the hardest thing to figure out. For this in particular you may want to think about how you can create different values by combining the existing columns in different ways. For example, you may want to plot some variables that aren't just driven by the large differences in sample size.  \n"
   ]
  },
  {
   "cell_type": "code",
   "execution_count": 2,
   "metadata": {},
   "outputs": [],
   "source": [
    "###\n",
    "### Your code here, I really look forward to seeing what you come up with!\n",
    "###"
   ]
  },
  {
   "cell_type": "markdown",
   "metadata": {},
   "source": [
    "\n",
    "![TJU logo](images/TJU_logo_image.png \"TJU logo\")\n",
    "\n"
   ]
  }
 ],
 "metadata": {
  "kernelspec": {
   "display_name": "Python 3",
   "language": "python",
   "name": "python3"
  },
  "language_info": {
   "codemirror_mode": {
    "name": "ipython",
    "version": 3
   },
   "file_extension": ".py",
   "mimetype": "text/x-python",
   "name": "python",
   "nbconvert_exporter": "python",
   "pygments_lexer": "ipython3",
   "version": "3.7.3"
  }
 },
 "nbformat": 4,
 "nbformat_minor": 2
}
