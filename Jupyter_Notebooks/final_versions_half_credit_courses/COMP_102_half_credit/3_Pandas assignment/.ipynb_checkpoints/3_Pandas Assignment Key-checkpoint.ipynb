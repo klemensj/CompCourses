{
 "cells": [
  {
   "cell_type": "markdown",
   "metadata": {},
   "source": [
    "<div align =\"right\">Thomas Jefferson University <b>COMP 102</b>: Intro to Scientific Computing</div>"
   ]
  },
  {
   "cell_type": "markdown",
   "metadata": {},
   "source": [
    "# Practice with Pandas #"
   ]
  },
  {
   "cell_type": "markdown",
   "metadata": {},
   "source": [
    "### 1. Building a Pandas DataFrame Manually###\n",
    "\n",
    "Let's start out by building a dataframe in pandas. We will attempt to build the dataframe that we imported in the previous exercises. It should be a gradebook that contains the following data:\n",
    "\n",
    "![The raw data, for checking your work](images/gradebook_plain.png \"the raw data\")"
   ]
  },
  {
   "cell_type": "markdown",
   "metadata": {},
   "source": [
    "Remember from the tutorial that we can use dictionaries to create a pandas dataframe. Below I have given you the data from the column in the comment section. Define a dictionary to hold the data and then using the `pd.DataFrame()` command, create a DataFrame called `short_gradebook`."
   ]
  },
  {
   "cell_type": "code",
   "execution_count": null,
   "metadata": {},
   "outputs": [],
   "source": [
    "# column labels: Student,Exam1,Exam2,Exam3,Homework\n",
    "# Student names: DeShawn, Marie, Bob, Eloise, Kayla\n",
    "# Exam 1 scores: 89,92,75,82,85\n",
    "# Exam 2 scores: 92,91,77,86,91\n",
    "# Exam 3 scores: 93,94,72,88,83\n",
    "# Homework scores: 95,95,97,85,100\n",
    "\n",
    "import pandas as pd   #don't change this line\n",
    "pd.options.mode.chained_assignment = None  #ignore this, it turns off a warning message\n",
    "\n",
    "\n",
    "\n",
    "####\n",
    "####Your Code Here\n",
    "####\n",
    "\n",
    "#short_gradebook   # don't change, to display the data frame you have created as output\n",
    "\n",
    "data = {\n",
    " 'Students' : ['DeShawn', 'Marie', 'Bob', 'Eloise', 'Kayla'], \n",
    " 'Exam1' : [89,92,75,82,85],\n",
    " 'Exam2' : [92,91,77,86,91],\n",
    " 'Exam3' : [93,94,72,88,83],\n",
    " 'Homework' : [95,95,97,85,100]   \n",
    "}\n",
    "\n",
    "short_gradebook = pd.DataFrame(data)\n",
    "short_gradebook"
   ]
  },
  {
   "cell_type": "markdown",
   "metadata": {},
   "source": [
    "Do you remember \"string methods\" from COMP 101? Run the code below for a reminder. The statement after the \".\" is a method that can be applied to the data structure called a string. "
   ]
  },
  {
   "cell_type": "code",
   "execution_count": null,
   "metadata": {},
   "outputs": [],
   "source": [
    "test_string = \"actgaugcctaggaga\"\n",
    "test_string.upper()"
   ]
  },
  {
   "cell_type": "markdown",
   "metadata": {},
   "source": [
    "Methods are built in functions that are available for a particular data structure. Just as there are string methods, there are database methods. One such method is `set_index()`, which will designate a column of the dataset to be used as an index for the data. This way we don't have to remember that Eliose is in row three, we can call her test scores by name. But first, see if you can figure out how to use the `set_index()` method on the DataFrame `short_gradebook` to create a new DataFrame called `short_gradebook_indexed` that is indexed by the column 'Student'. \n",
    "\n",
    "Hint: <a href=\"https://pandas.pydata.org/pandas-docs/version/0.22/generated/pandas.DataFrame.set_index.html\"> Examples of `set_index()` usage.</a>\n"
   ]
  },
  {
   "cell_type": "code",
   "execution_count": null,
   "metadata": {},
   "outputs": [],
   "source": [
    "short_gradebook_indexed = short_gradebook #### complete the code here\n",
    "\n",
    "short_gradebook_indexed = short_gradebook.set_index('Students')\n",
    "\n",
    "short_gradebook_indexed # last line of code, to display the data frame you have created as output"
   ]
  },
  {
   "cell_type": "markdown",
   "metadata": {},
   "source": [
    "## 2. Retrieving data from a DataFrame ##\n",
    "\n",
    "So now that we have created our DataFrames `short_gradebook` and `short_gradebook_indexed` let's look at how we can pull information from them. In your tutorial we introduced the `DataFrame.loc[]` method. Basically, this pulls the data from the location specified by the square brackets. If the data in this DataFrame were held like it is held in a numpy array, and we wanted to access one of DeShawn's test scores, we could just use the two dimensional index value. Go ahead and click run on the data below now. \n",
    "\n",
    "Didn't work, did it? Look back at your tutorial. The entire point of a DataFrame is to store data in a way that we can retrieve it by meaningful indices. Go into the code below, and fix the statements so that we pull DeShawn's score for Exam2. Remember that short_gradebook has a numerical index, and in short_gradebook_index we are using the students' names as the index. "
   ]
  },
  {
   "cell_type": "code",
   "execution_count": null,
   "metadata": {},
   "outputs": [],
   "source": [
    "# print(short_gradebook.loc[0, 2])\n",
    "\n",
    "# print(short_gradebook_indexed.loc[0,2])\n",
    "\n",
    "print(short_gradebook.loc[0, 'Exam2'])\n",
    "\n",
    "print(short_gradebook_indexed.loc['DeShawn','Exam2'])"
   ]
  },
  {
   "cell_type": "markdown",
   "metadata": {},
   "source": [
    "Now try pulling a whole row or column at a time. First print all of Marie's scores, then print all of the Homework scores. Try it now. \n",
    "\n",
    "It should have been fairly easy for you to use `DataFrame.loc[]` to pull Marie's data, but that probably didn't work for getting the homework grades. That's because we don't ever want to separate the data from the index once the dataframe is constructed. To display a single Series from a DataFrame, we can just call that series with the command `DataFrame['Series']`. Try that, it should give you the homework scores alongside the index."
   ]
  },
  {
   "cell_type": "code",
   "execution_count": null,
   "metadata": {},
   "outputs": [],
   "source": [
    "#print(short_gradebook_indexed.loc[######])\n",
    "#print()\n",
    "#print(short_gradebook_indexed.loc[######])\n",
    "\n",
    "display(short_gradebook_indexed.loc['Marie'])\n",
    "print()\n",
    "display(short_gradebook_indexed['Homework'])\n"
   ]
  },
  {
   "cell_type": "markdown",
   "metadata": {},
   "source": [
    "We can add data to a DataFrame after we have defined it using a similar method. We can add a new column to the dataset by simply declaring a new Series name and assigning a list of values to it. "
   ]
  },
  {
   "cell_type": "code",
   "execution_count": null,
   "metadata": {},
   "outputs": [],
   "source": [
    "short_gradebook_indexed['Quizzes'] = [84,82,81,77,88]\n",
    "short_gradebook_indexed"
   ]
  },
  {
   "cell_type": "markdown",
   "metadata": {},
   "source": [
    "Now let's make a new dataframe that is a subset of the data. Make a new DataFrame called Exams that consists of just the data for Exam1, Exam2, and Exam3? We can do that by passing a list of column names, enclosed within square brackets, as argument. "
   ]
  },
  {
   "cell_type": "code",
   "execution_count": null,
   "metadata": {},
   "outputs": [],
   "source": [
    "#Exams = short_gradebook_indexed[['Exam1','Exam2', 'Exam3']]\n",
    "#Exams\n",
    "\n",
    "Exams = short_gradebook_indexed[['Exam1','Exam2', 'Exam3']]\n",
    "display(Exams)\n"
   ]
  },
  {
   "cell_type": "markdown",
   "metadata": {},
   "source": [
    "We can also select certain rows. What if we wanted to focus on any students who got a C or lower on Exam 3? We can actually put a logical statement inside our index holder. So we can select the part of the database where certain things are true. Let's say we want to look at just the students who got As on the second exam?"
   ]
  },
  {
   "cell_type": "code",
   "execution_count": null,
   "metadata": {},
   "outputs": [],
   "source": [
    "Exams.loc[Exams['Exam2'] >= 90]"
   ]
  },
  {
   "cell_type": "markdown",
   "metadata": {},
   "source": [
    "### Question ###\n",
    "In the space below, explain in your own words what the code did.\n",
    "\n",
    ":\n",
    "\n",
    ": Just like when we asked for a whole row with the .loc method -- which would have been `Exams.loc['SomeIndexValue']` we were able to replace the value with a conditional that asks what the value `Exams['Exam2'] >= 90` evaluates to. For every row in which the conditional evaluates to TRUE, that row is reported. In a way it's like there's a little `for` loop in there. By replacing the value with the conditional, we evaluate the conditional for each row (or rather, for each indexed value) in the data set.  \n",
    "\n",
    ":"
   ]
  },
  {
   "cell_type": "markdown",
   "metadata": {},
   "source": [
    "## 3. Summarizing and describing data ## \n",
    "\n",
    "Usually we put data in a DataFrame because we want to do something with it. Let's take our exams data and summarize it. There is a very simple method in pandas, `DataFrame.describe()`, that will give us a lot of information about our dataset. Run the code below. "
   ]
  },
  {
   "cell_type": "code",
   "execution_count": null,
   "metadata": {},
   "outputs": [],
   "source": [
    "Exams.describe()"
   ]
  },
  {
   "cell_type": "markdown",
   "metadata": {},
   "source": [
    "But what if we wanted to do something like calculate an exam average for each student? That's a bit of a trickier problem, but something we can easily do. With lists and text data we had to use `for` loops to walk through the dataset, but Pandas gives us a number of methods to apply to dataframes to summarize data. One of these is means, and it can be applied in two different ways, which we specify by designating an `axis` along which the means will be calculated. Axis 0 gives the column means, and Axis 1 gives the row means. "
   ]
  },
  {
   "cell_type": "code",
   "execution_count": null,
   "metadata": {},
   "outputs": [],
   "source": [
    "\n",
    "print(Exams.mean(axis = 0)) ###Don't actually have to apply axis = 0, that is the default.\n",
    "print()\n",
    "print(Exams.mean(axis = 1))\n"
   ]
  },
  {
   "cell_type": "markdown",
   "metadata": {},
   "source": [
    "Now that you know how to create a Series of averages, let's combine this with  the technique for creating a new Series within a DataFrame that we learned in section 2 above. Within `Exams` create a new series called `ExamAverage` that holds the average for each student. "
   ]
  },
  {
   "cell_type": "code",
   "execution_count": 23,
   "metadata": {},
   "outputs": [
    {
     "data": {
      "text/html": [
       "<div>\n",
       "<style scoped>\n",
       "    .dataframe tbody tr th:only-of-type {\n",
       "        vertical-align: middle;\n",
       "    }\n",
       "\n",
       "    .dataframe tbody tr th {\n",
       "        vertical-align: top;\n",
       "    }\n",
       "\n",
       "    .dataframe thead th {\n",
       "        text-align: right;\n",
       "    }\n",
       "</style>\n",
       "<table border=\"1\" class=\"dataframe\">\n",
       "  <thead>\n",
       "    <tr style=\"text-align: right;\">\n",
       "      <th></th>\n",
       "      <th>Exam1</th>\n",
       "      <th>Exam2</th>\n",
       "      <th>Exam3</th>\n",
       "      <th>ExamAverage</th>\n",
       "    </tr>\n",
       "    <tr>\n",
       "      <th>Students</th>\n",
       "      <th></th>\n",
       "      <th></th>\n",
       "      <th></th>\n",
       "      <th></th>\n",
       "    </tr>\n",
       "  </thead>\n",
       "  <tbody>\n",
       "    <tr>\n",
       "      <th>DeShawn</th>\n",
       "      <td>89</td>\n",
       "      <td>92</td>\n",
       "      <td>93</td>\n",
       "      <td>0</td>\n",
       "    </tr>\n",
       "    <tr>\n",
       "      <th>Marie</th>\n",
       "      <td>92</td>\n",
       "      <td>91</td>\n",
       "      <td>94</td>\n",
       "      <td>0</td>\n",
       "    </tr>\n",
       "    <tr>\n",
       "      <th>Bob</th>\n",
       "      <td>75</td>\n",
       "      <td>77</td>\n",
       "      <td>72</td>\n",
       "      <td>0</td>\n",
       "    </tr>\n",
       "    <tr>\n",
       "      <th>Eloise</th>\n",
       "      <td>82</td>\n",
       "      <td>86</td>\n",
       "      <td>88</td>\n",
       "      <td>0</td>\n",
       "    </tr>\n",
       "    <tr>\n",
       "      <th>Kayla</th>\n",
       "      <td>85</td>\n",
       "      <td>91</td>\n",
       "      <td>83</td>\n",
       "      <td>0</td>\n",
       "    </tr>\n",
       "  </tbody>\n",
       "</table>\n",
       "</div>"
      ],
      "text/plain": [
       "          Exam1  Exam2  Exam3  ExamAverage\n",
       "Students                                  \n",
       "DeShawn      89     92     93            0\n",
       "Marie        92     91     94            0\n",
       "Bob          75     77     72            0\n",
       "Eloise       82     86     88            0\n",
       "Kayla        85     91     83            0"
      ]
     },
     "execution_count": 23,
     "metadata": {},
     "output_type": "execute_result"
    }
   ],
   "source": [
    "\n",
    "Exams['ExamAverage'] = = Exams.mean(axis=1)\n",
    "\n",
    "Exams   # don't change"
   ]
  },
  {
   "cell_type": "markdown",
   "metadata": {},
   "source": [
    "## 4. Importing and ouputing data to and from a pandas DataFrame ## "
   ]
  },
  {
   "cell_type": "markdown",
   "metadata": {},
   "source": [
    "Pandas has numerous functions for importing data directly into a DataFrame. As the tutorial indicates, Pandas is the main library for handling data in python, so we shouldn't be surprised that it can read from and write to a wide range of file types. We will stick to `.csv` files for now. In the `data` folder located in the same directory as this notebook there is a file called `BigGradebook.csv`. See if you can use the `read_csv()` function in pandas to create a DataFrame called BigGradebook "
   ]
  },
  {
   "cell_type": "code",
   "execution_count": 25,
   "metadata": {},
   "outputs": [
    {
     "data": {
      "text/html": [
       "<div>\n",
       "<style scoped>\n",
       "    .dataframe tbody tr th:only-of-type {\n",
       "        vertical-align: middle;\n",
       "    }\n",
       "\n",
       "    .dataframe tbody tr th {\n",
       "        vertical-align: top;\n",
       "    }\n",
       "\n",
       "    .dataframe thead th {\n",
       "        text-align: right;\n",
       "    }\n",
       "</style>\n",
       "<table border=\"1\" class=\"dataframe\">\n",
       "  <thead>\n",
       "    <tr style=\"text-align: right;\">\n",
       "      <th></th>\n",
       "      <th>Student</th>\n",
       "      <th>Exam1</th>\n",
       "      <th>Exam2</th>\n",
       "      <th>Exam3</th>\n",
       "      <th>Homework</th>\n",
       "    </tr>\n",
       "  </thead>\n",
       "  <tbody>\n",
       "    <tr>\n",
       "      <th>0</th>\n",
       "      <td>DeShawn</td>\n",
       "      <td>89</td>\n",
       "      <td>92</td>\n",
       "      <td>93</td>\n",
       "      <td>95</td>\n",
       "    </tr>\n",
       "    <tr>\n",
       "      <th>1</th>\n",
       "      <td>Marie</td>\n",
       "      <td>92</td>\n",
       "      <td>91</td>\n",
       "      <td>94</td>\n",
       "      <td>95</td>\n",
       "    </tr>\n",
       "    <tr>\n",
       "      <th>2</th>\n",
       "      <td>Bob</td>\n",
       "      <td>75</td>\n",
       "      <td>77</td>\n",
       "      <td>72</td>\n",
       "      <td>97</td>\n",
       "    </tr>\n",
       "    <tr>\n",
       "      <th>3</th>\n",
       "      <td>Eloise</td>\n",
       "      <td>82</td>\n",
       "      <td>86</td>\n",
       "      <td>88</td>\n",
       "      <td>85</td>\n",
       "    </tr>\n",
       "    <tr>\n",
       "      <th>4</th>\n",
       "      <td>Kayla</td>\n",
       "      <td>85</td>\n",
       "      <td>91</td>\n",
       "      <td>83</td>\n",
       "      <td>100</td>\n",
       "    </tr>\n",
       "    <tr>\n",
       "      <th>5</th>\n",
       "      <td>Jake</td>\n",
       "      <td>92</td>\n",
       "      <td>77</td>\n",
       "      <td>92</td>\n",
       "      <td>86</td>\n",
       "    </tr>\n",
       "    <tr>\n",
       "      <th>6</th>\n",
       "      <td>Kerrin</td>\n",
       "      <td>80</td>\n",
       "      <td>85</td>\n",
       "      <td>82</td>\n",
       "      <td>97</td>\n",
       "    </tr>\n",
       "    <tr>\n",
       "      <th>7</th>\n",
       "      <td>Karime</td>\n",
       "      <td>80</td>\n",
       "      <td>96</td>\n",
       "      <td>94</td>\n",
       "      <td>85</td>\n",
       "    </tr>\n",
       "    <tr>\n",
       "      <th>8</th>\n",
       "      <td>Tyler</td>\n",
       "      <td>79</td>\n",
       "      <td>94</td>\n",
       "      <td>80</td>\n",
       "      <td>83</td>\n",
       "    </tr>\n",
       "    <tr>\n",
       "      <th>9</th>\n",
       "      <td>Irene</td>\n",
       "      <td>97</td>\n",
       "      <td>80</td>\n",
       "      <td>75</td>\n",
       "      <td>91</td>\n",
       "    </tr>\n",
       "    <tr>\n",
       "      <th>10</th>\n",
       "      <td>Midlie</td>\n",
       "      <td>96</td>\n",
       "      <td>88</td>\n",
       "      <td>97</td>\n",
       "      <td>82</td>\n",
       "    </tr>\n",
       "    <tr>\n",
       "      <th>11</th>\n",
       "      <td>Belen</td>\n",
       "      <td>93</td>\n",
       "      <td>87</td>\n",
       "      <td>94</td>\n",
       "      <td>85</td>\n",
       "    </tr>\n",
       "    <tr>\n",
       "      <th>12</th>\n",
       "      <td>Noa</td>\n",
       "      <td>80</td>\n",
       "      <td>77</td>\n",
       "      <td>90</td>\n",
       "      <td>92</td>\n",
       "    </tr>\n",
       "    <tr>\n",
       "      <th>13</th>\n",
       "      <td>Vincent</td>\n",
       "      <td>96</td>\n",
       "      <td>95</td>\n",
       "      <td>77</td>\n",
       "      <td>96</td>\n",
       "    </tr>\n",
       "    <tr>\n",
       "      <th>14</th>\n",
       "      <td>Tessa</td>\n",
       "      <td>82</td>\n",
       "      <td>84</td>\n",
       "      <td>88</td>\n",
       "      <td>83</td>\n",
       "    </tr>\n",
       "    <tr>\n",
       "      <th>15</th>\n",
       "      <td>Rupali</td>\n",
       "      <td>98</td>\n",
       "      <td>80</td>\n",
       "      <td>77</td>\n",
       "      <td>94</td>\n",
       "    </tr>\n",
       "    <tr>\n",
       "      <th>16</th>\n",
       "      <td>Emily</td>\n",
       "      <td>84</td>\n",
       "      <td>79</td>\n",
       "      <td>92</td>\n",
       "      <td>75</td>\n",
       "    </tr>\n",
       "    <tr>\n",
       "      <th>17</th>\n",
       "      <td>Erin</td>\n",
       "      <td>89</td>\n",
       "      <td>93</td>\n",
       "      <td>86</td>\n",
       "      <td>94</td>\n",
       "    </tr>\n",
       "    <tr>\n",
       "      <th>18</th>\n",
       "      <td>Magdalena</td>\n",
       "      <td>89</td>\n",
       "      <td>87</td>\n",
       "      <td>92</td>\n",
       "      <td>92</td>\n",
       "    </tr>\n",
       "    <tr>\n",
       "      <th>19</th>\n",
       "      <td>Amber</td>\n",
       "      <td>81</td>\n",
       "      <td>89</td>\n",
       "      <td>98</td>\n",
       "      <td>81</td>\n",
       "    </tr>\n",
       "    <tr>\n",
       "      <th>20</th>\n",
       "      <td>Ariana</td>\n",
       "      <td>96</td>\n",
       "      <td>85</td>\n",
       "      <td>89</td>\n",
       "      <td>78</td>\n",
       "    </tr>\n",
       "    <tr>\n",
       "      <th>21</th>\n",
       "      <td>Jocelyn</td>\n",
       "      <td>89</td>\n",
       "      <td>95</td>\n",
       "      <td>92</td>\n",
       "      <td>92</td>\n",
       "    </tr>\n",
       "    <tr>\n",
       "      <th>22</th>\n",
       "      <td>Drake</td>\n",
       "      <td>80</td>\n",
       "      <td>91</td>\n",
       "      <td>87</td>\n",
       "      <td>83</td>\n",
       "    </tr>\n",
       "    <tr>\n",
       "      <th>23</th>\n",
       "      <td>Andrew</td>\n",
       "      <td>92</td>\n",
       "      <td>82</td>\n",
       "      <td>93</td>\n",
       "      <td>85</td>\n",
       "    </tr>\n",
       "  </tbody>\n",
       "</table>\n",
       "</div>"
      ],
      "text/plain": [
       "      Student  Exam1  Exam2  Exam3  Homework\n",
       "0     DeShawn     89     92     93        95\n",
       "1       Marie     92     91     94        95\n",
       "2         Bob     75     77     72        97\n",
       "3      Eloise     82     86     88        85\n",
       "4       Kayla     85     91     83       100\n",
       "5        Jake     92     77     92        86\n",
       "6      Kerrin     80     85     82        97\n",
       "7      Karime     80     96     94        85\n",
       "8       Tyler     79     94     80        83\n",
       "9       Irene     97     80     75        91\n",
       "10     Midlie     96     88     97        82\n",
       "11      Belen     93     87     94        85\n",
       "12        Noa     80     77     90        92\n",
       "13    Vincent     96     95     77        96\n",
       "14      Tessa     82     84     88        83\n",
       "15     Rupali     98     80     77        94\n",
       "16     Emily      84     79     92        75\n",
       "17       Erin     89     93     86        94\n",
       "18  Magdalena     89     87     92        92\n",
       "19     Amber      81     89     98        81\n",
       "20     Ariana     96     85     89        78\n",
       "21    Jocelyn     89     95     92        92\n",
       "22      Drake     80     91     87        83\n",
       "23     Andrew     92     82     93        85"
      ]
     },
     "execution_count": 25,
     "metadata": {},
     "output_type": "execute_result"
    }
   ],
   "source": [
    "#\n",
    "# Write the code here to import the data\n",
    "#\n",
    "BigGradebook = pd.read_csv('Data/BigGradebook.csv')\n",
    "\n",
    "#Below works if \n",
    "#BigGradebook = pd.read_csv('3_Pandas assignment/Data/BigGradebook.csv')\n",
    "\n",
    "BigGradebook #Don't change this, outputs Big Gradebook to check it"
   ]
  },
  {
   "cell_type": "markdown",
   "metadata": {},
   "source": [
    "For a big DataFrame (this is not actually a big dataset, but it still exceeds our ability to view it on a single screen) we might want to view the structure of the DataFrame without having to look at every line of data. We can use the DataFrame method `DataFrame.head()` to simplify the view down to just the first few lines. We can get information about what the rest of dataset looks like by using the `DataFrame.shape` and `DataFrame.size` methods. In the code window below, use the the three methods described above to the `BigGradebook` DataFrame. You will want to use the print() or display() functions to show the results."
   ]
  },
  {
   "cell_type": "code",
   "execution_count": null,
   "metadata": {},
   "outputs": [],
   "source": [
    "display(BigGradebook.head())    \n",
    "\n",
    "print(\"Dataframe shape is \" + str(BigGradebook.shape))\n",
    "print(\"Dataframe size is \" + str(BigGradebook.size))\n"
   ]
  },
  {
   "cell_type": "markdown",
   "metadata": {},
   "source": [
    "### Question ###\n",
    "What information are the shape and size methods giving us about our dataset?\n",
    "\n",
    ":\n",
    "\n",
    ": Type your answer here\n",
    "\n",
    ":"
   ]
  },
  {
   "cell_type": "markdown",
   "metadata": {},
   "source": [
    "One thing you might notice is that the dataset we imported used a generic numerical index. We could adjust this manually as we did above using the `DataFrame.set_index()` method. But it turns out that the `read_csv()` function itself can be adjusted to refine our results. There are many adjustments we can make to read_csv. Take a look at the <a href = 'https://pandas.pydata.org/pandas-docs/stable/reference/api/pandas.read_csv.html'>official definition of the function </a> in order to get a sense for how many things we can do. None of these values have to be specified, but all of them can be specified. We will try to use `index_col`. Try using the read_csv file to reimport `BigGradebook.csv`, except this time place a comma after the file location, and set `Student` to be the index column. "
   ]
  },
  {
   "cell_type": "code",
   "execution_count": null,
   "metadata": {},
   "outputs": [],
   "source": [
    "#\n",
    "# Write the code here to import the data and specify the index column.\n",
    "#\n",
    "\n",
    "\n",
    "BigGradebook = pd.read_csv('Data/BigGradebook.csv', index_col='Student')\n",
    "\n",
    "BigGradebook.head() #Don't change this, outputs BigGradebook to check it"
   ]
  },
  {
   "cell_type": "markdown",
   "metadata": {},
   "source": [
    "Finally, let's take a moment to examine how easy it is to output data from a pandas dataframe. We may want to do this to save data once we have manipulated it or modified it with pandas. This can seem a little more intimidating since we are asking to write from the program back to the computer it is housed on. Luckily, there is a pandas method called `DataFrame.to_csv()` that will do what we want. We need to feed this method a file name and a file location, for now we won't worry about any of the other parameters as the defaults will do what we want. If we don't specify a location, and just give a file name, python will write the file to the active directory (the directory where this .ipynb file resides). Use the file name `Exported_BigGradebook.csv`."
   ]
  },
  {
   "cell_type": "code",
   "execution_count": null,
   "metadata": {},
   "outputs": [],
   "source": [
    "#\n",
    "# Write the code here to export the data\n",
    "#\n",
    "\n",
    "BigGradebook.to_csv('Exported_BigGradebook.csv')"
   ]
  },
  {
   "cell_type": "markdown",
   "metadata": {},
   "source": [
    "When you run this code, nothing should happen in the notebook. Switch to your operating system and see if you've managed to create that folder!\n",
    "\n",
    ":\n",
    "\n",
    ": Is it there (Y/N)?\n",
    "\n",
    ":"
   ]
  },
  {
   "cell_type": "code",
   "execution_count": null,
   "metadata": {},
   "outputs": [],
   "source": []
  }
 ],
 "metadata": {
  "kernelspec": {
   "display_name": "Python 3",
   "language": "python",
   "name": "python3"
  },
  "language_info": {
   "codemirror_mode": {
    "name": "ipython",
    "version": 3
   },
   "file_extension": ".py",
   "mimetype": "text/x-python",
   "name": "python",
   "nbconvert_exporter": "python",
   "pygments_lexer": "ipython3",
   "version": "3.7.3"
  }
 },
 "nbformat": 4,
 "nbformat_minor": 2
}
