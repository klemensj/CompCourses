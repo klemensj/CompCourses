{
 "cells": [
  {
   "cell_type": "markdown",
   "metadata": {},
   "source": [
    "<div align =\"right\">Thomas Jefferson University COMP 102: Intro to Scientific Computing</div>"
   ]
  },
  {
   "cell_type": "markdown",
   "metadata": {},
   "source": [
    "Importing data into Python is the very first step of most scientific computing problems. Without telling Python where to find our raw data, or directly feeding Python our data, the computer programs we write are **basically useless**. Being able to import data from within a program allows us to reuse the same code on many different datasets. \n",
    "\n",
    "And what's the point of going to the trouble of coding something in Python if our goal isn't to automate processes that are time-consuming and repetitive?\n",
    "\n",
    "In COMP 101 we did a simple data import of DNA data that was stored in a text file. First let's review that, just for fun. If we have DNA sequence data stored in a directory called data that exists in the same directory as this python notebook, we can access it by calling:"
   ]
  },
  {
   "cell_type": "code",
   "execution_count": null,
   "metadata": {},
   "outputs": [],
   "source": [
    "openfile = open(\"data/dna.txt\",\"r\")\n",
    "DNA_sequence = openfile.read()\n",
    "openfile.close\n",
    "print(DNA_sequence)"
   ]
  },
  {
   "cell_type": "markdown",
   "metadata": {},
   "source": [
    "The type of file we will be working with over the next few examples is not just a string of text. It is called a CSV file. These files end in the extension `.csv`. CSV stands for Comma-separated values, and it means exactly what you think it mean - the individual values within the data are separated from one another with a *,*. Data can be exported from many different programs, including any spreadsheet program such as microsoft excel or google sheets, in the form of a .csv file. \n",
    "\n",
    "In this tutorial we will be working with data that exists in a simple row-and-column configuration. Spreadsheet data, basically that exists as a simple, two dimensional grid. Not all data looks like this, but it's a very large category of data that you will encounter. On the screen, this data is expressed through grids for easy viewing. The data is stored such that each row of the spreadsheet exists as a line of text that contains the values of that row with commas separating the values.\n",
    "\n",
    "Values, whether that be numbers such as the percentage rereceived on a given test, or strings of letters, such as the name of a student, is stored in the computer as a simple text file, with commas separating each grid (as seen in excel files). These files are often used because they can be viewed either as simple text files, but are also easily readable by or exportable to by any spreadsheet program. \n",
    "\n",
    "Note that `.csv` files cannot have multiple sheets as seen with `.xlsx` Excel files.\n",
    "\n",
    "Here is the same `.csv` data file as it appears in an excel spreadsheet:\n",
    "![excel.png](images/excel.png \"Data in an excel file\")\n",
    "\n",
    "And in a text file\n",
    "![text.png](images/text.png \"Data in a text file\")\n",
    "\n"
   ]
  },
  {
   "cell_type": "markdown",
   "metadata": {},
   "source": [
    "There are a series of functions in python that can be used to read csv files. I've included the same .csv file shown above in the data folder associated with this exercise. But let's look first at what happens if we attempt to access a `.csv` file just as we accessed the DNA sequence above. "
   ]
  },
  {
   "cell_type": "code",
   "execution_count": null,
   "metadata": {},
   "outputs": [],
   "source": [
    "openfile = open(\"data/Gradebook.csv\",\"r\")\n",
    "DNA_sequence = openfile.read()\n",
    "openfile.close\n",
    "print(DNA_sequence)"
   ]
  },
  {
   "cell_type": "markdown",
   "metadata": {},
   "source": [
    "Notice what we got back! The bock of text we expected. But what we notice is that there is no structure to this data. Let's check what it actually is stored as:"
   ]
  },
  {
   "cell_type": "code",
   "execution_count": null,
   "metadata": {},
   "outputs": [],
   "source": [
    "type(DNA_sequence)"
   ]
  },
  {
   "cell_type": "markdown",
   "metadata": {},
   "source": [
    "Huh, that's strange. It shows as being just a string. Let's try indexing it."
   ]
  },
  {
   "cell_type": "code",
   "execution_count": null,
   "metadata": {
    "scrolled": true
   },
   "outputs": [],
   "source": [
    "print(DNA_sequence[0])   #the first character in the string\n",
    "print(DNA_sequence[7])   #the eight character in the string\n",
    "print(DNA_sequence[33])  #happens to be last letter of first line\n",
    "print(DNA_sequence[34])  #what is this?\n",
    "print(DNA_sequence[35])  #happens to be first letter of second line"
   ]
  },
  {
   "cell_type": "markdown",
   "metadata": {},
   "source": [
    "Note that we get back the information as if it was a single string of text. Except that the item with index 34 shows up blank. There's actually a special character there called an end of line marker, which is why this information is displayed on a separate line. \n",
    "\n",
    "So as we can see, taking in data this way works, but it doesn't work very well. It would be much more efficient if we were able to store information in a data structure. What if we had thousands of students, and we wanted the program to have access to information such as \"What was Eloise's score on Exam 2?\" This would be a very inefficient way to handle that type of information.  "
   ]
  },
  {
   "cell_type": "code",
   "execution_count": null,
   "metadata": {},
   "outputs": [],
   "source": []
  }
 ],
 "metadata": {
  "kernelspec": {
   "display_name": "Python 3 (ipykernel)",
   "language": "python",
   "name": "python3"
  },
  "language_info": {
   "codemirror_mode": {
    "name": "ipython",
    "version": 3
   },
   "file_extension": ".py",
   "mimetype": "text/x-python",
   "name": "python",
   "nbconvert_exporter": "python",
   "pygments_lexer": "ipython3",
   "version": "3.9.12"
  }
 },
 "nbformat": 4,
 "nbformat_minor": 2
}
