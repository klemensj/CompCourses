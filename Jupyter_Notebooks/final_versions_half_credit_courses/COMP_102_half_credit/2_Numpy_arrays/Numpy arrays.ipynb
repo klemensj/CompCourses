{
 "cells": [
  {
   "cell_type": "markdown",
   "metadata": {},
   "source": [
    "<div align =\"right\">Thomas Jefferson University **COMP 102**: Intro to Scientific Computing</div>"
   ]
  },
  {
   "cell_type": "markdown",
   "metadata": {},
   "source": [
    "## Data structures with numpy\n",
    "\n",
    "In this worksheet we will work on creating data structures with numpy. Oftentimes when we are doing scientific computing one of our biggest challenges has to do with working with the data set we are given. That can mean lots of different things. Arranging data, summarizing data, dealing with incomplete observations. But before we can do any of that, we have to get our data into some kind of structure. \n",
    "\n",
    "Numpy (The name comes from **Num**eric **py**thon) is a library for python that contains many powerful functions for working with data. The principal data structure we will deploy is a structure called a **numpy array**.\n",
    "\n",
    "To work with any python library, we first need to import that library into our workspace. This allows us to access any functions or other elements contained within that library as if we defined them ourselves as part of our python script."
   ]
  },
  {
   "cell_type": "code",
   "execution_count": 1,
   "metadata": {},
   "outputs": [],
   "source": [
    "import numpy as np"
   ]
  },
  {
   "cell_type": "markdown",
   "metadata": {},
   "source": [
    "Once you have run the code above, we will have access to numpy's functions. Note that we created a shorthand for the function - so we can refer to it as np, and can call any function contained within the library by using a command of the form: \n",
    "``` \n",
    "np.function_name()\n",
    "```\n",
    "In the command below, we will use the numpy function `zeros()` to create an empty numpy array with a single dimension. This array will hold five pieces of data which the function will fill with zeros."
   ]
  },
  {
   "cell_type": "code",
   "execution_count": 2,
   "metadata": {},
   "outputs": [
    {
     "name": "stdout",
     "output_type": "stream",
     "text": [
      "[0. 0. 0. 0. 0.]\n"
     ]
    }
   ],
   "source": [
    "v = np.zeros(5)\n",
    "print(v) "
   ]
  },
  {
   "cell_type": "markdown",
   "metadata": {},
   "source": [
    "Note that numpy is fundamentally a system for holding and performing mathematical operations on numerical data, so the data added to a numpy array will be set to the type `float64` by default. Note that the function can be indexed just like a list. We can change the values in the array by assigning a value to a position in the array designated by its index."
   ]
  },
  {
   "cell_type": "code",
   "execution_count": 3,
   "metadata": {},
   "outputs": [
    {
     "name": "stdout",
     "output_type": "stream",
     "text": [
      "<class 'numpy.float64'>\n",
      "[6.5 0.  0.  0.  0. ]\n"
     ]
    }
   ],
   "source": [
    "print(type(v[0]))      # Figure out and report what the data type of each element is\n",
    "\n",
    "v[0]=6.5               # Substitute a different value for the first item in the array\n",
    "print(v)\n"
   ]
  },
  {
   "cell_type": "code",
   "execution_count": 4,
   "metadata": {},
   "outputs": [
    {
     "ename": "ValueError",
     "evalue": "could not convert string to float: 'banana'",
     "output_type": "error",
     "traceback": [
      "\u001b[0;31m---------------------------------------------------------------------------\u001b[0m",
      "\u001b[0;31mValueError\u001b[0m                                Traceback (most recent call last)",
      "\u001b[0;32m<ipython-input-4-d9c71d45439f>\u001b[0m in \u001b[0;36m<module>\u001b[0;34m\u001b[0m\n\u001b[0;32m----> 1\u001b[0;31m \u001b[0mv\u001b[0m\u001b[0;34m[\u001b[0m\u001b[0;36m3\u001b[0m\u001b[0;34m]\u001b[0m\u001b[0;34m=\u001b[0m \u001b[0;34m\"banana\"\u001b[0m\u001b[0;34m\u001b[0m\u001b[0;34m\u001b[0m\u001b[0m\n\u001b[0m",
      "\u001b[0;31mValueError\u001b[0m: could not convert string to float: 'banana'"
     ]
    }
   ],
   "source": [
    "v[3]= \"banana\"  "
   ]
  },
  {
   "cell_type": "markdown",
   "metadata": {},
   "source": [
    "Try running the code above - unlike a list, if we add different kinds of data to a numpy array we will get an error. \n",
    "\n",
    "The following code uses a new numpy function, `ones` , the output should not surprise you. "
   ]
  },
  {
   "cell_type": "code",
   "execution_count": 5,
   "metadata": {},
   "outputs": [
    {
     "name": "stdout",
     "output_type": "stream",
     "text": [
      "[1. 1. 1. 1. 1. 1.]\n"
     ]
    }
   ],
   "source": [
    "w = np.ones(6)\n",
    "print(w)"
   ]
  },
  {
   "cell_type": "markdown",
   "metadata": {},
   "source": [
    "We can also use the numpy function `array` in a couple of different ways. First, we can use it to define an array manually by putting square brackets, as if we were defining a list, inside the parentheses of the numpy function:\n",
    "\n",
    "\n",
    "Numpy arrays can be defined with more than one dimension.    to create a one dimensional array (which you might call a matrix)"
   ]
  },
  {
   "cell_type": "code",
   "execution_count": 6,
   "metadata": {},
   "outputs": [
    {
     "name": "stdout",
     "output_type": "stream",
     "text": [
      "[1.735 3.14  2.89  7.5  ]\n"
     ]
    }
   ],
   "source": [
    "manual_array = np.array([1.735, 3.14, 2.89, 7.5])\n",
    "print(manual_array)"
   ]
  },
  {
   "cell_type": "markdown",
   "metadata": {},
   "source": [
    "Likewise, we can convert a `list` to a numpy array by using it as the input to the `array` function. "
   ]
  },
  {
   "cell_type": "code",
   "execution_count": null,
   "metadata": {},
   "outputs": [],
   "source": [
    "list_to_convert = [42.3, 74.1, 89.3, 100.2]\n",
    "print(type(list_to_convert))                   \n",
    "\n",
    "converted_list = np.array(list_to_convert)\n",
    "print(type(converted_list))"
   ]
  },
  {
   "cell_type": "markdown",
   "metadata": {},
   "source": [
    "Numpy arrays have certain characteristics that allow them to be useful for data manipulation. One of them is that every numpy array has an attribute known as `shape`. We have already used shapes. When we defined our intial numpy array above, we told numpy to create an array with shape 5. "
   ]
  },
  {
   "cell_type": "code",
   "execution_count": 7,
   "metadata": {},
   "outputs": [
    {
     "name": "stdout",
     "output_type": "stream",
     "text": [
      "(5,)\n"
     ]
    }
   ],
   "source": [
    "print(v.shape)"
   ]
  },
  {
   "cell_type": "markdown",
   "metadata": {},
   "source": [
    "This notation means that the shape of the array is one dimensional, with a length of five. We can also use the `shape` command to change the shape of a data structure. "
   ]
  },
  {
   "cell_type": "code",
   "execution_count": 8,
   "metadata": {},
   "outputs": [
    {
     "name": "stdout",
     "output_type": "stream",
     "text": [
      "old shape (24,)\n",
      "[1. 1. 1. 1. 1. 1. 1. 1. 1. 1. 1. 1. 1. 1. 1. 1. 1. 1. 1. 1. 1. 1. 1. 1.]\n",
      "new shape (4, 6)\n",
      "[[1. 1. 1. 1. 1. 1.]\n",
      " [1. 1. 1. 1. 1. 1.]\n",
      " [1. 1. 1. 1. 1. 1.]\n",
      " [1. 1. 1. 1. 1. 1.]]\n"
     ]
    }
   ],
   "source": [
    "x = np.ones(24)\n",
    "print(\"old shape \" + str(x.shape))   # report the shape\n",
    "print(x)\n",
    "\n",
    "x.shape = (4,6)                      # now let's change the shape\n",
    "print(\"new shape \" + str(x.shape))   # report the new shape\n",
    "print(x)"
   ]
  },
  {
   "cell_type": "markdown",
   "metadata": {},
   "source": [
    "We can also use the shape function when we define the function in the first place, just note that for any array with more than one diemension the shape specfication must be enclosed in parentheses, even within the call to the array making function (`ones` in this case)\n",
    "Also, when we index data, we now need to use both dimensions in the specification of which datapoint we are talking about. "
   ]
  },
  {
   "cell_type": "code",
   "execution_count": 9,
   "metadata": {},
   "outputs": [
    {
     "name": "stdout",
     "output_type": "stream",
     "text": [
      "original array\n",
      "[[1. 1. 1. 1. 1. 1.]\n",
      " [1. 1. 1. 1. 1. 1.]\n",
      " [1. 1. 1. 1. 1. 1.]\n",
      " [1. 1. 1. 1. 1. 1.]\n",
      " [1. 1. 1. 1. 1. 1.]\n",
      " [1. 1. 1. 1. 1. 1.]]\n",
      "array with substitutions\n",
      "[[0. 1. 1. 1. 1. 1.]\n",
      " [1. 1. 1. 1. 1. 1.]\n",
      " [1. 1. 1. 1. 1. 1.]\n",
      " [1. 1. 1. 1. 1. 1.]\n",
      " [1. 1. 1. 1. 1. 1.]\n",
      " [1. 1. 1. 1. 1. 8.]]\n"
     ]
    }
   ],
   "source": [
    "w = np.ones((6,6))\n",
    "print(\"original array\")\n",
    "print(w)\n",
    "\n",
    "w[0,0] = 0\n",
    "w[5,5] = 8\n",
    "print(\"array with substitutions\")\n",
    "print(w)"
   ]
  },
  {
   "cell_type": "markdown",
   "metadata": {},
   "source": [
    "Just like a list, the indices of an array will count from 0, so an array of length 6 will consist of positions 0 through 5. Practice changing the code above until you are confident that you could drop a value down into an array. "
   ]
  },
  {
   "cell_type": "markdown",
   "metadata": {},
   "source": [
    "Try to run the next two pieces of code on array w and intrepret the IndexError and Value Error statements that result.\n",
    "\n",
    "Can you change the parameters so that each one works???"
   ]
  },
  {
   "cell_type": "code",
   "execution_count": 10,
   "metadata": {},
   "outputs": [
    {
     "ename": "IndexError",
     "evalue": "index 6 is out of bounds for axis 0 with size 6",
     "output_type": "error",
     "traceback": [
      "\u001b[0;31m---------------------------------------------------------------------------\u001b[0m",
      "\u001b[0;31mIndexError\u001b[0m                                Traceback (most recent call last)",
      "\u001b[0;32m<ipython-input-10-3c616a39102c>\u001b[0m in \u001b[0;36m<module>\u001b[0;34m\u001b[0m\n\u001b[0;32m----> 1\u001b[0;31m \u001b[0mw\u001b[0m\u001b[0;34m[\u001b[0m\u001b[0;36m6\u001b[0m\u001b[0;34m,\u001b[0m\u001b[0;36m6\u001b[0m\u001b[0;34m]\u001b[0m\u001b[0;34m\u001b[0m\u001b[0;34m\u001b[0m\u001b[0m\n\u001b[0m",
      "\u001b[0;31mIndexError\u001b[0m: index 6 is out of bounds for axis 0 with size 6"
     ]
    }
   ],
   "source": [
    "w[6,6]\n"
   ]
  },
  {
   "cell_type": "code",
   "execution_count": 11,
   "metadata": {},
   "outputs": [
    {
     "ename": "ValueError",
     "evalue": "cannot reshape array of size 36 into shape (4,4)",
     "output_type": "error",
     "traceback": [
      "\u001b[0;31m---------------------------------------------------------------------------\u001b[0m",
      "\u001b[0;31mValueError\u001b[0m                                Traceback (most recent call last)",
      "\u001b[0;32m<ipython-input-11-86de8c4bf214>\u001b[0m in \u001b[0;36m<module>\u001b[0;34m\u001b[0m\n\u001b[0;32m----> 1\u001b[0;31m \u001b[0mw\u001b[0m\u001b[0;34m.\u001b[0m\u001b[0mshape\u001b[0m \u001b[0;34m=\u001b[0m \u001b[0;34m(\u001b[0m\u001b[0;36m4\u001b[0m\u001b[0;34m,\u001b[0m\u001b[0;36m4\u001b[0m\u001b[0;34m)\u001b[0m\u001b[0;34m\u001b[0m\u001b[0;34m\u001b[0m\u001b[0m\n\u001b[0m\u001b[1;32m      2\u001b[0m \u001b[0mw\u001b[0m\u001b[0;34m\u001b[0m\u001b[0;34m\u001b[0m\u001b[0m\n",
      "\u001b[0;31mValueError\u001b[0m: cannot reshape array of size 36 into shape (4,4)"
     ]
    }
   ],
   "source": [
    "w.shape = (4,4)  \n",
    "w"
   ]
  },
  {
   "cell_type": "markdown",
   "metadata": {},
   "source": [
    "Another very handy thing to do with numpy is to create arrays that have even spacing. the command `linspace` = linear spaced which means that variables in the array are spaced out linearly. Run the code, then change it so that it counts by 10 instead of by 5. "
   ]
  },
  {
   "cell_type": "code",
   "execution_count": 12,
   "metadata": {},
   "outputs": [
    {
     "data": {
      "text/plain": [
       "array([  0.,   5.,  10.,  15.,  20.,  25.,  30.,  35.,  40.,  45.,  50.,\n",
       "        55.,  60.,  65.,  70.,  75.,  80.,  85.,  90.,  95., 100.])"
      ]
     },
     "execution_count": 12,
     "metadata": {},
     "output_type": "execute_result"
    }
   ],
   "source": [
    "z = np.linspace(0,100,21)\n",
    "z"
   ]
  },
  {
   "cell_type": "markdown",
   "metadata": {},
   "source": [
    "## Importing data with numpy\n",
    "Ok, we can see that these array data structures are going to be a lot more powerful than just working with text files. In fact, numpy comes with a function that allows us to read directly from text. It's called `genfromtxt` meaning \"generate a numpy array from a text file\". Try the code below"
   ]
  },
  {
   "cell_type": "code",
   "execution_count": 13,
   "metadata": {},
   "outputs": [
    {
     "name": "stdout",
     "output_type": "stream",
     "text": [
      "[nan nan nan nan nan nan]\n"
     ]
    }
   ],
   "source": [
    "Gradebook_array = np.genfromtxt(\"data/Gradebook.csv\")\n",
    "print(Gradebook_array)\n"
   ]
  },
  {
   "cell_type": "markdown",
   "metadata": {},
   "source": [
    "Hmmm, this doesn't look right. What else might we need to do? It turns out that with numpy, we need to give it more information when it is dealing with a text file. We can do this by specifying a `delimiter`, in this case `,`"
   ]
  },
  {
   "cell_type": "code",
   "execution_count": 14,
   "metadata": {},
   "outputs": [
    {
     "name": "stdout",
     "output_type": "stream",
     "text": [
      "[[ nan  89.  92.  93.  95.]\n",
      " [ nan  92.  91.  94.  95.]\n",
      " [ nan  75.  77.  72.  97.]\n",
      " [ nan  82.  86.  88.  85.]\n",
      " [ nan  85.  91.  83. 100.]]\n"
     ]
    }
   ],
   "source": [
    "Gradebook_array = np.genfromtxt(\"data/Gradebook.csv\", delimiter =',', skip_header=True)\n",
    "print(Gradebook_array)\n"
   ]
  },
  {
   "cell_type": "markdown",
   "metadata": {},
   "source": [
    "Aha, that looks better. But what are the `nan` values? They signify no data! Of course, numpy can only handle numerical data, so we end up with an organized data table, but none of the associated text. We would have to harvest that information from our `.csv` file in a different way and keep track of those arrays separately. That's not great, which is why we will learn the next tool in the scientific computing toolbox, pandas. "
   ]
  }
 ],
 "metadata": {
  "kernelspec": {
   "display_name": "Python 3 (ipykernel)",
   "language": "python",
   "name": "python3"
  },
  "language_info": {
   "codemirror_mode": {
    "name": "ipython",
    "version": 3
   },
   "file_extension": ".py",
   "mimetype": "text/x-python",
   "name": "python",
   "nbconvert_exporter": "python",
   "pygments_lexer": "ipython3",
   "version": "3.9.12"
  }
 },
 "nbformat": 4,
 "nbformat_minor": 2
}
