{
 "cells": [
  {
   "cell_type": "markdown",
   "metadata": {},
   "source": [
    "    Keywords:\n",
    "        Library: A cool box of tools that can be used for a specific task\n",
    "        Package:\n",
    "    \n",
    "    Hello, welcome to one of the first exercieses for this class. We will be using the Matplotlib package (that's already installed in your Anaconda/Spyder IDE) to produce a bar graph. While it may be easier, faster, and prettier to use Excel to make two or three bar graphs for your lab report that's due in a couple of days, it can be time-consuming when this process is repeated hundreds, if not, thousands of time when you are processing large armounts of raw data. As we know, experiments in science must be repeated, sometimes hundreds of times. It would not be wise to hire a intern for the sole purpose of making hundreds of bar graphs or pie charts.\n",
    "    \n",
    "    Here's an example:\n",
    "    \n",
    "    \n",
    "    Let's start this program by importing the packages we need. Why do we do this? Better question: Why isn't this package already included/running in python? .....\n",
    "    \n",
    "    Here's the first line"
   ]
  },
  {
   "cell_type": "code",
   "execution_count": 1,
   "metadata": {},
   "outputs": [],
   "source": [
    "import pandas as pd"
   ]
  },
  {
   "cell_type": "markdown",
   "metadata": {},
   "source": [
    "    What does this mean? With \"import pandas\", we are telling python to import a library called \"pandas\". Usually, whenever we need to refer to/use the pandas library, we write something like.... \"pandas.read_csv\" or \"pandas.array\" or \"pandas.do_this\". You see the basic set-up of using something from the pandas library (or any library!) -> name_of_library.name_of_action . Another way to think about this is that you are accessing an action within a folder called \"pandas\".\n",
    "    \n",
    "    Having said this, we run into a slight dilemma. Now, notice that the word \"pandas\" has 6 characters. It's not particularlly long compared to other library names, but time adds up, and typing this 6 character library name thousands of times can decrease our effiency in writing code. This is where the second-half of the 1st line of code comes in.\n",
    "    \n",
    "    The other day, I was helping a friend figure out how to get from the left side of this equation to the right side.\n",
    "\n",
    "![equation](equation_example.JPG)\n",
    "\n",
    "    After trying to do it in my head, I decided that I needed to work it out using paper and pen. The full equation took around 20 seconds to write out, and then another 15+ seconds per line of proof. I soon realized that it would be much easier to write \"X\" in replacement of \"(K+L)\". This saved A LOT of time.\n",
    "![equation_simp](Equation_simp.PNG)    \n",
    "    \n",
    "    The same thing happened when I was typing out the equation into wolframalpha.\n",
    "    \n",
    "    (20(K+L)^2 - 3(K+L)^3)/(10(K+L)^2-(K+L)^3)     became     (20X^2 - 3X^3)/(10X^2-X^3)\n",
    "\n",
    "    This story can be applied to the latter half of the 1st line of code. With \"as pd\", we are telling python that we want to replace the word \"pandas\" with \"pd\" (while we are writing code in Spyder!). Notice we are not replacing or renaming the pandas library to \"pd\", just simply telling the computer that we are lazy and would like to write \"pd\" instead of \"pandas\" every time."
   ]
  },
  {
   "cell_type": "code",
   "execution_count": 2,
   "metadata": {},
   "outputs": [],
   "source": [
    "import matplotlib.pyplot as plt"
   ]
  },
  {
   "cell_type": "markdown",
   "metadata": {},
   "source": [
    "This second line of code is very similar to the first. It imports an important sub-library/function called \"pyplot\" that is located within the matplotlib library. These functions are needed inorder for us to easily make a graph."
   ]
  },
  {
   "cell_type": "markdown",
   "metadata": {},
   "source": [
    "The second line of code can also be written as:\n",
    "\n",
    "from matplotlib import pyplot as plt\n",
    "\n",
    "(I'm not exactly sure if it's the same/fully understand it...) "
   ]
  },
  {
   "cell_type": "markdown",
   "metadata": {},
   "source": [
    "Now, just for fun, let do an exercise. I want to use a library called \"numpy\". I don't want to write it out all the time so instead, I want to type something like \"np\". "
   ]
  },
  {
   "cell_type": "code",
   "execution_count": 30,
   "metadata": {},
   "outputs": [],
   "source": [
    "country_data = pd.read_csv('populations.csv')"
   ]
  },
  {
   "cell_type": "markdown",
   "metadata": {},
   "source": [
    "Python is cool in that it's very smart and knows what you want to do. We can simply take a look at the variable we just created and stored information on just by typing it. Let it be known that in \"less smart\" languages, this would not happen. There's a lot going on in the background of Python that allows it to figure out the type of variable, and display it in a readable format, just by typing the name of the variable."
   ]
  },
  {
   "cell_type": "code",
   "execution_count": 31,
   "metadata": {},
   "outputs": [
    {
     "data": {
      "text/html": [
       "<div>\n",
       "<style scoped>\n",
       "    .dataframe tbody tr th:only-of-type {\n",
       "        vertical-align: middle;\n",
       "    }\n",
       "\n",
       "    .dataframe tbody tr th {\n",
       "        vertical-align: top;\n",
       "    }\n",
       "\n",
       "    .dataframe thead th {\n",
       "        text-align: right;\n",
       "    }\n",
       "</style>\n",
       "<table border=\"1\" class=\"dataframe\">\n",
       "  <thead>\n",
       "    <tr style=\"text-align: right;\">\n",
       "      <th></th>\n",
       "      <th>Country</th>\n",
       "      <th>Population</th>\n",
       "    </tr>\n",
       "  </thead>\n",
       "  <tbody>\n",
       "    <tr>\n",
       "      <th>0</th>\n",
       "      <td>China</td>\n",
       "      <td>1420062022</td>\n",
       "    </tr>\n",
       "    <tr>\n",
       "      <th>1</th>\n",
       "      <td>India</td>\n",
       "      <td>1368737513</td>\n",
       "    </tr>\n",
       "    <tr>\n",
       "      <th>2</th>\n",
       "      <td>USA</td>\n",
       "      <td>329093110</td>\n",
       "    </tr>\n",
       "    <tr>\n",
       "      <th>3</th>\n",
       "      <td>Indonesia</td>\n",
       "      <td>269536482</td>\n",
       "    </tr>\n",
       "    <tr>\n",
       "      <th>4</th>\n",
       "      <td>Brazil</td>\n",
       "      <td>212392717</td>\n",
       "    </tr>\n",
       "    <tr>\n",
       "      <th>5</th>\n",
       "      <td>Pakistan</td>\n",
       "      <td>204596442</td>\n",
       "    </tr>\n",
       "    <tr>\n",
       "      <th>6</th>\n",
       "      <td>Nigeria</td>\n",
       "      <td>200962417</td>\n",
       "    </tr>\n",
       "    <tr>\n",
       "      <th>7</th>\n",
       "      <td>Bangladesh</td>\n",
       "      <td>168065920</td>\n",
       "    </tr>\n",
       "    <tr>\n",
       "      <th>8</th>\n",
       "      <td>Russia</td>\n",
       "      <td>143895551</td>\n",
       "    </tr>\n",
       "    <tr>\n",
       "      <th>9</th>\n",
       "      <td>Mexico</td>\n",
       "      <td>132328035</td>\n",
       "    </tr>\n",
       "    <tr>\n",
       "      <th>10</th>\n",
       "      <td>Japan</td>\n",
       "      <td>126854745</td>\n",
       "    </tr>\n",
       "  </tbody>\n",
       "</table>\n",
       "</div>"
      ],
      "text/plain": [
       "       Country   Population \n",
       "0        China    1420062022\n",
       "1        India    1368737513\n",
       "2          USA     329093110\n",
       "3    Indonesia     269536482\n",
       "4       Brazil     212392717\n",
       "5     Pakistan     204596442\n",
       "6      Nigeria     200962417\n",
       "7   Bangladesh     168065920\n",
       "8       Russia     143895551\n",
       "9       Mexico     132328035\n",
       "10       Japan     126854745"
      ]
     },
     "execution_count": 31,
     "metadata": {},
     "output_type": "execute_result"
    }
   ],
   "source": [
    "country_data"
   ]
  },
  {
   "cell_type": "code",
   "execution_count": 32,
   "metadata": {},
   "outputs": [],
   "source": [
    "%matplotlib inline"
   ]
  },
  {
   "cell_type": "code",
   "execution_count": 33,
   "metadata": {},
   "outputs": [
    {
     "name": "stdout",
     "output_type": "stream",
     "text": [
      "       Country   Population \n",
      "0        China    1420062022\n",
      "1        India    1368737513\n",
      "2          USA     329093110\n",
      "3    Indonesia     269536482\n",
      "4       Brazil     212392717\n",
      "5     Pakistan     204596442\n",
      "6      Nigeria     200962417\n",
      "7   Bangladesh     168065920\n",
      "8       Russia     143895551\n",
      "9       Mexico     132328035\n",
      "10       Japan     126854745\n"
     ]
    }
   ],
   "source": [
    "print(country_data)"
   ]
  },
  {
   "cell_type": "code",
   "execution_count": 34,
   "metadata": {},
   "outputs": [
    {
     "data": {
      "text/plain": [
       "0          China\n",
       "1          India\n",
       "2            USA\n",
       "3      Indonesia\n",
       "4         Brazil\n",
       "5       Pakistan\n",
       "6        Nigeria\n",
       "7     Bangladesh\n",
       "8         Russia\n",
       "9         Mexico\n",
       "10         Japan\n",
       "Name: Country, dtype: object"
      ]
     },
     "execution_count": 34,
     "metadata": {},
     "output_type": "execute_result"
    }
   ],
   "source": [
    "countries = country_data.iloc[:,0]\n",
    "\n",
    "countries"
   ]
  },
  {
   "cell_type": "code",
   "execution_count": 35,
   "metadata": {},
   "outputs": [
    {
     "data": {
      "text/plain": [
       "0     1420062022\n",
       "1     1368737513\n",
       "2      329093110\n",
       "3      269536482\n",
       "4      212392717\n",
       "5      204596442\n",
       "6      200962417\n",
       "7      168065920\n",
       "8      143895551\n",
       "9      132328035\n",
       "10     126854745\n",
       "Name:  Population , dtype: int64"
      ]
     },
     "execution_count": 35,
     "metadata": {},
     "output_type": "execute_result"
    }
   ],
   "source": [
    "populations = country_data.iloc[:,1]\n",
    "\n",
    "populations"
   ]
  },
  {
   "cell_type": "code",
   "execution_count": 36,
   "metadata": {},
   "outputs": [
    {
     "ename": "SyntaxError",
     "evalue": "invalid syntax (<ipython-input-36-4057cd0a3501>, line 1)",
     "output_type": "error",
     "traceback": [
      "\u001b[1;36m  File \u001b[1;32m\"<ipython-input-36-4057cd0a3501>\"\u001b[1;36m, line \u001b[1;32m1\u001b[0m\n\u001b[1;33m    width_space =\u001b[0m\n\u001b[1;37m                  ^\u001b[0m\n\u001b[1;31mSyntaxError\u001b[0m\u001b[1;31m:\u001b[0m invalid syntax\n"
     ]
    }
   ],
   "source": [
    "width_space = "
   ]
  },
  {
   "cell_type": "code",
   "execution_count": 37,
   "metadata": {},
   "outputs": [
    {
     "data": {
      "text/plain": [
       "<Container object of 11 artists>"
      ]
     },
     "execution_count": 37,
     "metadata": {},
     "output_type": "execute_result"
    }
   ],
   "source": [
    "graphData"
   ]
  },
  {
   "cell_type": "code",
   "execution_count": 39,
   "metadata": {},
   "outputs": [
    {
     "data": {
      "image/png": "[encoded data removed]",
      "text/plain": [
       "<matplotlib.figure.Figure at 0x200d94266a0>"
      ]
     },
     "metadata": {},
     "output_type": "display_data"
    }
   ],
   "source": [
    "graphData = plt.bar(countries, populations, width=0.5)\n",
    "\n",
    "plt.show()"
   ]
  },
  {
   "cell_type": "markdown",
   "metadata": {},
   "source": [
    "Now, this becomes the \"active plot\" <- find better way to say this\n",
    "so subsequent calls to "
   ]
  },
  {
   "cell_type": "code",
   "execution_count": 41,
   "metadata": {},
   "outputs": [
    {
     "data": {
      "image/png": "[encoded data removed]",
      "text/plain": [
       "<matplotlib.figure.Figure at 0x200d817c278>"
      ]
     },
     "metadata": {},
     "output_type": "display_data"
    }
   ],
   "source": [
    "plt.xticks(rotation='vertical')\n",
    "\n",
    "graphData = plt.bar(countries, populations, width=0.5)\n",
    "\n",
    "plt.show()"
   ]
  },
  {
   "cell_type": "code",
   "execution_count": null,
   "metadata": {},
   "outputs": [],
   "source": []
  },
  {
   "cell_type": "markdown",
   "metadata": {},
   "source": [
    "csv -> dataframt -> bar graph?\n",
    "\n",
    "sometimes, youtube videos can make it more complicated than it really is:\n",
    "https://www.youtube.com/watch?v=Qi6FzPGVIQE\n",
    "\n",
    "image: https://stackoverflow.com/questions/32370281/how-to-embed-image-or-picture-in-jupyter-notebook-either-from-a-local-machine-o\n",
    "\n",
    "\n",
    "\n"
   ]
  },
  {
   "cell_type": "code",
   "execution_count": null,
   "metadata": {},
   "outputs": [],
   "source": []
  }
 ],
 "metadata": {
  "kernelspec": {
   "display_name": "Python 3",
   "language": "python",
   "name": "python3"
  },
  "language_info": {
   "codemirror_mode": {
    "name": "ipython",
    "version": 3
   },
   "file_extension": ".py",
   "mimetype": "text/x-python",
   "name": "python",
   "nbconvert_exporter": "python",
   "pygments_lexer": "ipython3",
   "version": "3.6.4"
  }
 },
 "nbformat": 4,
 "nbformat_minor": 2
}
