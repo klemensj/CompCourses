{
 "cells": [
  {
   "cell_type": "markdown",
   "metadata": {},
   "source": []
  },
  {
   "cell_type": "markdown",
   "metadata": {},
   "source": [
    "ERIN AVANZATO"
   ]
  },
  {
   "cell_type": "code",
   "execution_count": 1,
   "metadata": {},
   "outputs": [
    {
     "name": "stdout",
     "output_type": "stream",
     "text": [
      "Hi, welcome to the DNA to protein program!\n"
     ]
    }
   ],
   "source": [
    "#THIS is where the welcoming statements go\n",
    "\n",
    "print(\"Hi, welcome to the DNA to protein program!\")"
   ]
  },
  {
   "cell_type": "code",
   "execution_count": 6,
   "metadata": {},
   "outputs": [
    {
     "ename": "KeyboardInterrupt",
     "evalue": "",
     "output_type": "error",
     "traceback": [
      "\u001b[0;31m---------------------------------------------------------------------------\u001b[0m",
      "\u001b[0;31mKeyboardInterrupt\u001b[0m                         Traceback (most recent call last)",
      "\u001b[0;32m/anaconda3/lib/python3.7/site-packages/ipykernel/kernelbase.py\u001b[0m in \u001b[0;36m_input_request\u001b[0;34m(self, prompt, ident, parent, password)\u001b[0m\n\u001b[1;32m    877\u001b[0m             \u001b[0;32mtry\u001b[0m\u001b[0;34m:\u001b[0m\u001b[0;34m\u001b[0m\u001b[0;34m\u001b[0m\u001b[0m\n\u001b[0;32m--> 878\u001b[0;31m                 \u001b[0mident\u001b[0m\u001b[0;34m,\u001b[0m \u001b[0mreply\u001b[0m \u001b[0;34m=\u001b[0m \u001b[0mself\u001b[0m\u001b[0;34m.\u001b[0m\u001b[0msession\u001b[0m\u001b[0;34m.\u001b[0m\u001b[0mrecv\u001b[0m\u001b[0;34m(\u001b[0m\u001b[0mself\u001b[0m\u001b[0;34m.\u001b[0m\u001b[0mstdin_socket\u001b[0m\u001b[0;34m,\u001b[0m \u001b[0;36m0\u001b[0m\u001b[0;34m)\u001b[0m\u001b[0;34m\u001b[0m\u001b[0;34m\u001b[0m\u001b[0m\n\u001b[0m\u001b[1;32m    879\u001b[0m             \u001b[0;32mexcept\u001b[0m \u001b[0mException\u001b[0m\u001b[0;34m:\u001b[0m\u001b[0;34m\u001b[0m\u001b[0;34m\u001b[0m\u001b[0m\n",
      "\u001b[0;32m/anaconda3/lib/python3.7/site-packages/jupyter_client/session.py\u001b[0m in \u001b[0;36mrecv\u001b[0;34m(self, socket, mode, content, copy)\u001b[0m\n\u001b[1;32m    802\u001b[0m         \u001b[0;32mtry\u001b[0m\u001b[0;34m:\u001b[0m\u001b[0;34m\u001b[0m\u001b[0;34m\u001b[0m\u001b[0m\n\u001b[0;32m--> 803\u001b[0;31m             \u001b[0mmsg_list\u001b[0m \u001b[0;34m=\u001b[0m \u001b[0msocket\u001b[0m\u001b[0;34m.\u001b[0m\u001b[0mrecv_multipart\u001b[0m\u001b[0;34m(\u001b[0m\u001b[0mmode\u001b[0m\u001b[0;34m,\u001b[0m \u001b[0mcopy\u001b[0m\u001b[0;34m=\u001b[0m\u001b[0mcopy\u001b[0m\u001b[0;34m)\u001b[0m\u001b[0;34m\u001b[0m\u001b[0;34m\u001b[0m\u001b[0m\n\u001b[0m\u001b[1;32m    804\u001b[0m         \u001b[0;32mexcept\u001b[0m \u001b[0mzmq\u001b[0m\u001b[0;34m.\u001b[0m\u001b[0mZMQError\u001b[0m \u001b[0;32mas\u001b[0m \u001b[0me\u001b[0m\u001b[0;34m:\u001b[0m\u001b[0;34m\u001b[0m\u001b[0;34m\u001b[0m\u001b[0m\n",
      "\u001b[0;32m/anaconda3/lib/python3.7/site-packages/zmq/sugar/socket.py\u001b[0m in \u001b[0;36mrecv_multipart\u001b[0;34m(self, flags, copy, track)\u001b[0m\n\u001b[1;32m    469\u001b[0m         \"\"\"\n\u001b[0;32m--> 470\u001b[0;31m         \u001b[0mparts\u001b[0m \u001b[0;34m=\u001b[0m \u001b[0;34m[\u001b[0m\u001b[0mself\u001b[0m\u001b[0;34m.\u001b[0m\u001b[0mrecv\u001b[0m\u001b[0;34m(\u001b[0m\u001b[0mflags\u001b[0m\u001b[0;34m,\u001b[0m \u001b[0mcopy\u001b[0m\u001b[0;34m=\u001b[0m\u001b[0mcopy\u001b[0m\u001b[0;34m,\u001b[0m \u001b[0mtrack\u001b[0m\u001b[0;34m=\u001b[0m\u001b[0mtrack\u001b[0m\u001b[0;34m)\u001b[0m\u001b[0;34m]\u001b[0m\u001b[0;34m\u001b[0m\u001b[0;34m\u001b[0m\u001b[0m\n\u001b[0m\u001b[1;32m    471\u001b[0m         \u001b[0;31m# have first part already, only loop while more to receive\u001b[0m\u001b[0;34m\u001b[0m\u001b[0;34m\u001b[0m\u001b[0;34m\u001b[0m\u001b[0m\n",
      "\u001b[0;32mzmq/backend/cython/socket.pyx\u001b[0m in \u001b[0;36mzmq.backend.cython.socket.Socket.recv\u001b[0;34m()\u001b[0m\n",
      "\u001b[0;32mzmq/backend/cython/socket.pyx\u001b[0m in \u001b[0;36mzmq.backend.cython.socket.Socket.recv\u001b[0;34m()\u001b[0m\n",
      "\u001b[0;32mzmq/backend/cython/socket.pyx\u001b[0m in \u001b[0;36mzmq.backend.cython.socket._recv_copy\u001b[0;34m()\u001b[0m\n",
      "\u001b[0;32m/anaconda3/lib/python3.7/site-packages/zmq/backend/cython/checkrc.pxd\u001b[0m in \u001b[0;36mzmq.backend.cython.checkrc._check_rc\u001b[0;34m()\u001b[0m\n",
      "\u001b[0;31mKeyboardInterrupt\u001b[0m: ",
      "\nDuring handling of the above exception, another exception occurred:\n",
      "\u001b[0;31mKeyboardInterrupt\u001b[0m                         Traceback (most recent call last)",
      "\u001b[0;32m<ipython-input-6-a3c160579d7c>\u001b[0m in \u001b[0;36m<module>\u001b[0;34m\u001b[0m\n\u001b[0;32m----> 1\u001b[0;31m \u001b[0mDNA\u001b[0m \u001b[0;34m=\u001b[0m \u001b[0minput\u001b[0m\u001b[0;34m(\u001b[0m\u001b[0;34m)\u001b[0m\u001b[0;34m\u001b[0m\u001b[0;34m\u001b[0m\u001b[0m\n\u001b[0m\u001b[1;32m      2\u001b[0m \u001b[0;34m\u001b[0m\u001b[0m\n\u001b[1;32m      3\u001b[0m \u001b[0mprint\u001b[0m\u001b[0;34m(\u001b[0m\u001b[0;34m\"This is your DNA sequence: \"\u001b[0m \u001b[0;34m+\u001b[0m \u001b[0mDNA\u001b[0m\u001b[0;34m)\u001b[0m\u001b[0;34m\u001b[0m\u001b[0;34m\u001b[0m\u001b[0m\n",
      "\u001b[0;32m/anaconda3/lib/python3.7/site-packages/ipykernel/kernelbase.py\u001b[0m in \u001b[0;36mraw_input\u001b[0;34m(self, prompt)\u001b[0m\n\u001b[1;32m    851\u001b[0m             \u001b[0mself\u001b[0m\u001b[0;34m.\u001b[0m\u001b[0m_parent_ident\u001b[0m\u001b[0;34m,\u001b[0m\u001b[0;34m\u001b[0m\u001b[0;34m\u001b[0m\u001b[0m\n\u001b[1;32m    852\u001b[0m             \u001b[0mself\u001b[0m\u001b[0;34m.\u001b[0m\u001b[0m_parent_header\u001b[0m\u001b[0;34m,\u001b[0m\u001b[0;34m\u001b[0m\u001b[0;34m\u001b[0m\u001b[0m\n\u001b[0;32m--> 853\u001b[0;31m             \u001b[0mpassword\u001b[0m\u001b[0;34m=\u001b[0m\u001b[0;32mFalse\u001b[0m\u001b[0;34m,\u001b[0m\u001b[0;34m\u001b[0m\u001b[0;34m\u001b[0m\u001b[0m\n\u001b[0m\u001b[1;32m    854\u001b[0m         )\n\u001b[1;32m    855\u001b[0m \u001b[0;34m\u001b[0m\u001b[0m\n",
      "\u001b[0;32m/anaconda3/lib/python3.7/site-packages/ipykernel/kernelbase.py\u001b[0m in \u001b[0;36m_input_request\u001b[0;34m(self, prompt, ident, parent, password)\u001b[0m\n\u001b[1;32m    881\u001b[0m             \u001b[0;32mexcept\u001b[0m \u001b[0mKeyboardInterrupt\u001b[0m\u001b[0;34m:\u001b[0m\u001b[0;34m\u001b[0m\u001b[0;34m\u001b[0m\u001b[0m\n\u001b[1;32m    882\u001b[0m                 \u001b[0;31m# re-raise KeyboardInterrupt, to truncate traceback\u001b[0m\u001b[0;34m\u001b[0m\u001b[0;34m\u001b[0m\u001b[0;34m\u001b[0m\u001b[0m\n\u001b[0;32m--> 883\u001b[0;31m                 \u001b[0;32mraise\u001b[0m \u001b[0mKeyboardInterrupt\u001b[0m\u001b[0;34m\u001b[0m\u001b[0;34m\u001b[0m\u001b[0m\n\u001b[0m\u001b[1;32m    884\u001b[0m             \u001b[0;32melse\u001b[0m\u001b[0;34m:\u001b[0m\u001b[0;34m\u001b[0m\u001b[0;34m\u001b[0m\u001b[0m\n\u001b[1;32m    885\u001b[0m                 \u001b[0;32mbreak\u001b[0m\u001b[0;34m\u001b[0m\u001b[0;34m\u001b[0m\u001b[0m\n",
      "\u001b[0;31mKeyboardInterrupt\u001b[0m: "
     ]
    }
   ],
   "source": [
    "DNA = input()\n",
    "\n",
    "print(\"This is your DNA sequence: \" + DNA)"
   ]
  },
  {
   "cell_type": "markdown",
   "metadata": {},
   "source": [
    "# COUNTER #"
   ]
  },
  {
   "cell_type": "code",
   "execution_count": null,
   "metadata": {},
   "outputs": [],
   "source": [
    "#function to receieve an object DNA that has been generated via the import functions and count it\n",
    "\n",
    "def check_caps_DNA(DNA):\n",
    "\n",
    "    DNA = DNA.upper()\n",
    "    \n",
    "    print(DNA)\n",
    "    \n",
    "    return\n",
    "\n",
    "check_caps_DNA(DNA)"
   ]
  },
  {
   "cell_type": "code",
   "execution_count": null,
   "metadata": {},
   "outputs": [],
   "source": []
  },
  {
   "cell_type": "code",
   "execution_count": null,
   "metadata": {},
   "outputs": [],
   "source": []
  },
  {
   "cell_type": "code",
   "execution_count": null,
   "metadata": {},
   "outputs": [],
   "source": [
    "#DNA = \"CATGCAGAGGAAAGCCGTCCTAACTTCTCATGAAGAGCTACCGGCCACTGTACGGTACACCGGCTTGAGGCTATATATTGGGCGGGCCAAATCGTAGGCTGGCCAATGGCGGGCAGCGTGTGCGACTCTCATAAAAAGTATAAAGAGAGACTCTATTGCGTGCGAGGGTTCGGTACGGGCACTCAACTCGACTATAAAATTCGGTCCCTAAAGCACGAAAGCGCCGCGAGTCCATCTATTAGCCTTGATCCTCATCTCAGTCATGGGTTTAGTTTCTCCCAGGAAAACGCGATCTAGGCGTAAGCCAGCGAGCATCGGTATGTTCCCTGTTCCACGAAAGATATATGATAAGGACGGCCGTGCATGGACGCGTGACGTTCACTACTCTACCGTCAATAGCCCGAGTCACTCACAAGCAACGACAGAGCAACACGCTGTCTTATATGGTAAATTTGCGCTGCAATGAGGCTCACTGTTCTACAGTCCCACCGCTCTCCGAAATCCCAGAGGTTGCCGGGATCAGGTGTATGACCAGCTCTGGCTTCGCCGTGCAATGCGCCTCACAGTGAAGATAGTTTTACCGAGGTTCGGGGGAAGGTGCTTTTACTACCTCAGATGCTTCAGCAAGGTGGTTCTCGAATCGCACGTGCGCCGCTAGCCACGAAGTGTGTATCCCCGTCATAGCTATCGGACGTTCCGGGTTGTTGCTTGACACATCAACAGCTAATCACCAGCGCGGTAGCGGTACTAGGGGGATCCAGCTTCTGATTCAGGTCAGCACTCATATGTCTGCAGGTGGGGATGACCCCCGGACAAGCCGTCTCGCTCAGAGATCATATCAAGGTGCTGTGCGCAGTTGCTCCGAGGGGTTGAACAGTTACCTATCATCGGTTCACGTCAAATGTAGCCACTTGGGAGACTATCAGCGGTGATGTTGCCGACTTGAATCTTACAGGCTCGGTTCACCAGGATTCGCGGTGAATAGAAATTTCGTGCGCAA\"\n",
    "def nucleotide_counter(DNA):\n",
    "        A=0                           #define a set of counters, and set them to 0\n",
    "        C=0\n",
    "        T=0\n",
    "        G=0\n",
    "        \n",
    "        for i in DNA:                    #for loop to walk through DNA string #print(i)\n",
    "            if i == \"A\":                  #if the current element is A\n",
    "                A += 1                      #add 1 to the A counter\n",
    "            elif i == \"C\":\n",
    "                C += 1\n",
    "            elif i== \"T\":\n",
    "                T += 1\n",
    "            elif i == \"G\":\n",
    "                G += 1                      #for loop ends\n",
    "                \n",
    "        print(\"Total Sequence Length: \" + str(A+C+T+G))           #outputs of the function       \n",
    "        print(\"A: \" + str(A))\n",
    "        print(\"C: \" + str(C))\n",
    "        print(\"T: \" + str(T))\n",
    "        print(\"G: \" + str(G))\n",
    "        \n",
    "        return \n",
    "    \n",
    "nucleotide_counter(DNA)"
   ]
  },
  {
   "cell_type": "markdown",
   "metadata": {},
   "source": [
    "# Nucleotide Transcriber#"
   ]
  },
  {
   "cell_type": "code",
   "execution_count": 7,
   "metadata": {
    "scrolled": true
   },
   "outputs": [
    {
     "name": "stdout",
     "output_type": "stream",
     "text": [
      "CAUGCAGAGGAAAGCCGUCCUAACUUCUCAUGAAGAGCUACCGGCCACUGUACGGUACACCGGCUUGAGGCUAUAUAUUGGGCGGGCCAAAUCGUAGGCUGGCCAAUGGCGGGCAGCGUGUGCGACUCUCAUAAAAAGUAUAAAGAGAGACUCUAUUGCGUGCGAGGGUUCGGUACGGGCACUCAACUCGACUAUAAAAUUCGGUCCCUAAAGCACGAAAGCGCCGCGAGUCCAUCUAUUAGCCUUGAUCCUCAUCUCAGUCAUGGGUUUAGUUUCUCCCAGGAAAACGCGAUCUAGGCGUAAGCCAGCGAGCAUCGGUAUGUUCCCUGUUCCACGAAAGAUAUAUGAUAAGGACGGCCGUGCAUGGACGCGUGACGUUCACUACUCUACCGUCAAUAGCCCGAGUCACUCACAAGCAACGACAGAGCAACACGCUGUCUUAUAUGGUAAAUUUGCGCUGCAAUGAGGCUCACUGUUCUACAGUCCCACCGCUCUCCGAAAUCCCAGAGGUUGCCGGGAUCAGGUGUAUGACCAGCUCUGGCUUCGCCGUGCAAUGCGCCUCACAGUGAAGAUAGUUUUACCGAGGUUCGGGGGAAGGUGCUUUUACUACCUCAGAUGCUUCAGCAAGGUGGUUCUCGAAUCGCACGUGCGCCGCUAGCCACGAAGUGUGUAUCCCCGUCAUAGCUAUCGGACGUUCCGGGUUGUUGCUUGACACAUCAACAGCUAAUCACCAGCGCGGUAGCGGUACUAGGGGGAUCCAGCUUCUGAUUCAGGUCAGCACUCAUAUGUCUGCAGGUGGGGAUGACCCCCGGACAAGCCGUCUCGCUCAGAGAUCAUAUCAAGGUGCUGUGCGCAGUUGCUCCGAGGGGUUGAACAGUUACCUAUCAUCGGUUCACGUCAAAUGUAGCCACUUGGGAGACUAUCAGCGGUGAUGUUGCCGACUUGAAUCUUACAGGCUCGGUUCACCAGGAUUCGCGGUGAAUAGAAAUUUCGUGCGCAA\n"
     ]
    }
   ],
   "source": [
    "DNA = \"CATGCAGAGGAAAGCCGTCCTAACTTCTCATGAAGAGCTACCGGCCACTGTACGGTACACCGGCTTGAGGCTATATATTGGGCGGGCCAAATCGTAGGCTGGCCAATGGCGGGCAGCGTGTGCGACTCTCATAAAAAGTATAAAGAGAGACTCTATTGCGTGCGAGGGTTCGGTACGGGCACTCAACTCGACTATAAAATTCGGTCCCTAAAGCACGAAAGCGCCGCGAGTCCATCTATTAGCCTTGATCCTCATCTCAGTCATGGGTTTAGTTTCTCCCAGGAAAACGCGATCTAGGCGTAAGCCAGCGAGCATCGGTATGTTCCCTGTTCCACGAAAGATATATGATAAGGACGGCCGTGCATGGACGCGTGACGTTCACTACTCTACCGTCAATAGCCCGAGTCACTCACAAGCAACGACAGAGCAACACGCTGTCTTATATGGTAAATTTGCGCTGCAATGAGGCTCACTGTTCTACAGTCCCACCGCTCTCCGAAATCCCAGAGGTTGCCGGGATCAGGTGTATGACCAGCTCTGGCTTCGCCGTGCAATGCGCCTCACAGTGAAGATAGTTTTACCGAGGTTCGGGGGAAGGTGCTTTTACTACCTCAGATGCTTCAGCAAGGTGGTTCTCGAATCGCACGTGCGCCGCTAGCCACGAAGTGTGTATCCCCGTCATAGCTATCGGACGTTCCGGGTTGTTGCTTGACACATCAACAGCTAATCACCAGCGCGGTAGCGGTACTAGGGGGATCCAGCTTCTGATTCAGGTCAGCACTCATATGTCTGCAGGTGGGGATGACCCCCGGACAAGCCGTCTCGCTCAGAGATCATATCAAGGTGCTGTGCGCAGTTGCTCCGAGGGGTTGAACAGTTACCTATCATCGGTTCACGTCAAATGTAGCCACTTGGGAGACTATCAGCGGTGATGTTGCCGACTTGAATCTTACAGGCTCGGTTCACCAGGATTCGCGGTGAATAGAAATTTCGTGCGCAA\"\n",
    "\n",
    "\n",
    "RNA =DNA.replace('T', 'U')\n",
    "print(RNA)"
   ]
  },
  {
   "cell_type": "markdown",
   "metadata": {},
   "source": [
    "# Nucleotide Translator"
   ]
  },
  {
   "cell_type": "code",
   "execution_count": 8,
   "metadata": {},
   "outputs": [
    {
     "name": "stdout",
     "output_type": "stream",
     "text": [
      "{'UUU': 'F', 'UUC': 'F', 'UUA': 'L', 'UUG': 'L', 'UCU': 'S', 'UCC': 's', 'UCA': 'S', 'UCG': 'S', 'UAU': 'Y', 'UAC': 'Y', 'UAA': 'STOP', 'UAG': 'STOP', 'UGU': 'C', 'UGC': 'C', 'UGA': 'STOP', 'UGG': 'W', 'CUU': 'L', 'CUC': 'L', 'CUA': 'L', 'CUG': 'L', 'CCU': 'P', 'CCC': 'P', 'CCA': 'P', 'CCG': 'P', 'CAU': 'H', 'CAC': 'H', 'CAA': 'Q', 'CAG': 'Q', 'CGU': 'R', 'CGC': 'R', 'CGA': 'R', 'CGG': 'R', 'AUU': 'I', 'AUC': 'I', 'AUA': 'I', 'AUG': 'M', 'ACU': 'T', 'ACC': 'T', 'ACA': 'T', 'ACG': 'T', 'AAU': 'N', 'AAC': 'N', 'AAA': 'K', 'AAG': 'K', 'AGU': 'S', 'AGC': 'S', 'AGA': 'R', 'AGG': 'R', 'GUU': 'V', 'GUC': 'V', 'GUA': 'V', 'GUG': 'V', 'GCU': 'A', 'GCC': 'A', 'GCA': 'A', 'GCG': 'A', 'GAU': 'D', 'GAC': 'D', 'GAA': 'E', 'GAG': 'E', 'GGU': 'G', 'GGC': 'G', 'GGA': 'G', 'GGG': 'G'}\n"
     ]
    }
   ],
   "source": [
    "RNA = \"CAUGCAGAGGAAAGCCGUCCUAACUUCUCAUGAAGAGCUACCGGCCACUGUACGGUACACCGGCUUGAGGCUAUAUAUUGGGCGGGCCAAAUCGUAGGCUGGCCAAUGGCGGGCAGCGUGUGCGACUCUCAUAAAAAGUAUAAAGAGAGACUCUAUUGCGUGCGAGGGUUCGGUACGGGCACUCAACUCGACUAUAAAAUUCGGUCCCUAAAGCACGAAAGCGCCGCGAGUCCAUCUAUUAGCCUUGAUCCUCAUCUCAGUCAUGGGUUUAGUUUCUCCCAGGAAAACGCGAUCUAGGCGUAAGCCAGCGAGCAUCGGUAUGUUCCCUGUUCCACGAAAGAUAUAUGAUAAGGACGGCCGUGCAUGGACGCGUGACGUUCACUACUCUACCGUCAAUAGCCCGAGUCACUCACAAGCAACGACAGAGCAACACGCUGUCUUAUAUGGUAAAUUUGCGCUGCAAUGAGGCUCACUGUUCUACAGUCCCACCGCUCUCCGAAAUCCCAGAGGUUGCCGGGAUCAGGUGUAUGACCAGCUCUGGCUUCGCCGUGCAAUGCGCCUCACAGUGAAGAUAGUUUUACCGAGGUUCGGGGGAAGGUGCUUUUACUACCUCAGAUGCUUCAGCAAGGUGGUUCUCGAAUCGCACGUGCGCCGCUAGCCACGAAGUGUGUAUCCCCGUCAUAGCUAUCGGACGUUCCGGGUUGUUGCUUGACACAUCAACAGCUAAUCACCAGCGCGGUAGCGGUACUAGGGGGAUCCAGCUUCUGAUUCAGGUCAGCACUCAUAUGUCUGCAGGUGGGGAUGACCCCCGGACAAGCCGUCUCGCUCAGAGAUCAUAUCAAGGUGCUGUGCGCAGUUGCUCCGAGGGGUUGAACAGUUACCUAUCAUCGGUUCACGUCAAAUGUAGCCACUUGGGAGACUAUCAGCGGUGAUGUUGCCGACUUGAAUCUUACAGGCUCGGUUCACCAGGAUUCGCGGUGAAUAGAAAUUUCGUGCGCAA\"\n",
    "\n",
    "\n",
    "\n",
    "protein_dict = {\"UUU\":\"F\", \"UUC\":\"F\", \"UUA\":\"L\", \"UUG\":\"L\",\"UCU\":\"S\", \"UCC\":\"s\", \"UCA\":\"S\", \"UCG\":\"S\",\"UAU\":\"Y\", \"UAC\":\"Y\", \"UAA\":\"STOP\", \"UAG\":\"STOP\",\"UGU\":\"C\", \"UGC\":\"C\", \"UGA\":\"STOP\", \"UGG\":\"W\",\"CUU\":\"L\", \"CUC\":\"L\", \"CUA\":\"L\", \"CUG\":\"L\",\"CCU\":\"P\", \"CCC\":\"P\", \"CCA\":\"P\", \"CCG\":\"P\",\"CAU\":\"H\", \"CAC\":\"H\", \"CAA\":\"Q\", \"CAG\":\"Q\",\"CGU\":\"R\", \"CGC\":\"R\", \"CGA\":\"R\", \"CGG\":\"R\",\"AUU\":\"I\", \"AUC\":\"I\", \"AUA\":\"I\", \"AUG\":\"M\",\"ACU\":\"T\", \"ACC\":\"T\", \"ACA\":\"T\", \"ACG\":\"T\",\"AAU\":\"N\", \"AAC\":\"N\", \"AAA\":\"K\", \"AAG\":\"K\",\"AGU\":\"S\", \"AGC\":\"S\", \"AGA\":\"R\", \"AGG\":\"R\",\"GUU\":\"V\", \"GUC\":\"V\", \"GUA\":\"V\", \"GUG\":\"V\",\"GCU\":\"A\", \"GCC\":\"A\", \"GCA\":\"A\", \"GCG\":\"A\",\"GAU\":\"D\", \"GAC\":\"D\", \"GAA\":\"E\", \"GAG\":\"E\",\"GGU\":\"G\", \"GGC\":\"G\", \"GGA\":\"G\", \"GGG\":\"G\",}\n",
    "print(protein_dict)"
   ]
  },
  {
   "cell_type": "code",
   "execution_count": null,
   "metadata": {},
   "outputs": [],
   "source": []
  }
 ],
 "metadata": {
  "kernelspec": {
   "display_name": "Python 3",
   "language": "python",
   "name": "python3"
  },
  "language_info": {
   "codemirror_mode": {
    "name": "ipython",
    "version": 3
   },
   "file_extension": ".py",
   "mimetype": "text/x-python",
   "name": "python",
   "nbconvert_exporter": "python",
   "pygments_lexer": "ipython3",
   "version": "3.7.3"
  }
 },
 "nbformat": 4,
 "nbformat_minor": 2
}
