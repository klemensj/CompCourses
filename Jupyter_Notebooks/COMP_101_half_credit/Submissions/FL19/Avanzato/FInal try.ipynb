{
 "cells": [
  {
   "cell_type": "markdown",
   "metadata": {},
   "source": []
  },
  {
   "cell_type": "markdown",
   "metadata": {},
   "source": [
    "ERIN AVANZATO"
   ]
  },
  {
   "cell_type": "code",
   "execution_count": 39,
   "metadata": {},
   "outputs": [
    {
     "name": "stdout",
     "output_type": "stream",
     "text": [
      "Hi, welcome to the DNA to protein program!\n"
     ]
    }
   ],
   "source": [
    "#THIS is where the welcoming statements go\n",
    "\n",
    "print(\"Hi, welcome to the DNA to protein program!\")"
   ]
  },
  {
   "cell_type": "code",
   "execution_count": null,
   "metadata": {},
   "outputs": [],
   "source": [
    "DNA = input()\n",
    "\n",
    "print(\"This is your DNA sequence: \" + DNA)"
   ]
  },
  {
   "cell_type": "markdown",
   "metadata": {},
   "source": [
    "# COUNTER #"
   ]
  },
  {
   "cell_type": "code",
   "execution_count": 71,
   "metadata": {},
   "outputs": [
    {
     "name": "stdout",
     "output_type": "stream",
     "text": [
      "\n"
     ]
    }
   ],
   "source": [
    "#function to receieve an object DNA that has been generated via the import functions and count it\n",
    "\n",
    "def check_caps_DNA(DNA):\n",
    "\n",
    "    DNA = DNA.upper()\n",
    "    \n",
    "    print(DNA)\n",
    "    \n",
    "    return\n",
    "\n",
    "check_caps_DNA(DNA)"
   ]
  },
  {
   "cell_type": "code",
   "execution_count": 64,
   "metadata": {},
   "outputs": [],
   "source": []
  },
  {
   "cell_type": "code",
   "execution_count": null,
   "metadata": {},
   "outputs": [],
   "source": []
  },
  {
   "cell_type": "code",
   "execution_count": 48,
   "metadata": {},
   "outputs": [
    {
     "name": "stdout",
     "output_type": "stream",
     "text": [
      "Total Sequence Length: 1000\n",
      "A: 238\n",
      "C: 259\n",
      "T: 235\n",
      "G: 268\n"
     ]
    }
   ],
   "source": [
    "DNA = \"CATGCAGAGGAAAGCCGTCCTAACTTCTCATGAAGAGCTACCGGCCACTGTACGGTACACCGGCTTGAGGCTATATATTGGGCGGGCCAAATCGTAGGCTGGCCAATGGCGGGCAGCGTGTGCGACTCTCATAAAAAGTATAAAGAGAGACTCTATTGCGTGCGAGGGTTCGGTACGGGCACTCAACTCGACTATAAAATTCGGTCCCTAAAGCACGAAAGCGCCGCGAGTCCATCTATTAGCCTTGATCCTCATCTCAGTCATGGGTTTAGTTTCTCCCAGGAAAACGCGATCTAGGCGTAAGCCAGCGAGCATCGGTATGTTCCCTGTTCCACGAAAGATATATGATAAGGACGGCCGTGCATGGACGCGTGACGTTCACTACTCTACCGTCAATAGCCCGAGTCACTCACAAGCAACGACAGAGCAACACGCTGTCTTATATGGTAAATTTGCGCTGCAATGAGGCTCACTGTTCTACAGTCCCACCGCTCTCCGAAATCCCAGAGGTTGCCGGGATCAGGTGTATGACCAGCTCTGGCTTCGCCGTGCAATGCGCCTCACAGTGAAGATAGTTTTACCGAGGTTCGGGGGAAGGTGCTTTTACTACCTCAGATGCTTCAGCAAGGTGGTTCTCGAATCGCACGTGCGCCGCTAGCCACGAAGTGTGTATCCCCGTCATAGCTATCGGACGTTCCGGGTTGTTGCTTGACACATCAACAGCTAATCACCAGCGCGGTAGCGGTACTAGGGGGATCCAGCTTCTGATTCAGGTCAGCACTCATATGTCTGCAGGTGGGGATGACCCCCGGACAAGCCGTCTCGCTCAGAGATCATATCAAGGTGCTGTGCGCAGTTGCTCCGAGGGGTTGAACAGTTACCTATCATCGGTTCACGTCAAATGTAGCCACTTGGGAGACTATCAGCGGTGATGTTGCCGACTTGAATCTTACAGGCTCGGTTCACCAGGATTCGCGGTGAATAGAAATTTCGTGCGCAA\"\n",
    "def nucleotide_counter(DNA):\n",
    "        A=0                           #define a set of counters, and set them to 0\n",
    "        C=0\n",
    "        T=0\n",
    "        G=0\n",
    "        \n",
    "        for i in DNA:                    #for loop to walk through DNA string #print(i)\n",
    "            if i == \"A\":                  #if the current element is A\n",
    "                A += 1                      #add 1 to the A counter\n",
    "            elif i == \"C\":\n",
    "                C += 1\n",
    "            elif i== \"T\":\n",
    "                T += 1\n",
    "            elif i == \"G\":\n",
    "                G += 1                      #for loop ends\n",
    "                \n",
    "        print(\"Total Sequence Length: \" + str(A+C+T+G))           #outputs of the function       \n",
    "        print(\"A: \" + str(A))\n",
    "        print(\"C: \" + str(C))\n",
    "        print(\"T: \" + str(T))\n",
    "        print(\"G: \" + str(G))\n",
    "        \n",
    "        return \n",
    "    \n",
    "nucleotide_counter(DNA)"
   ]
  },
  {
   "cell_type": "markdown",
   "metadata": {},
   "source": [
    "# Nucleotide Transcriber#"
   ]
  },
  {
   "cell_type": "code",
   "execution_count": 49,
   "metadata": {
    "scrolled": true
   },
   "outputs": [
    {
     "name": "stdout",
     "output_type": "stream",
     "text": [
      "CAUGCAGAGGAAAGCCGUCCUAACUUCUCAUGAAGAGCUACCGGCCACUGUACGGUACACCGGCUUGAGGCUAUAUAUUGGGCGGGCCAAAUCGUAGGCUGGCCAAUGGCGGGCAGCGUGUGCGACUCUCAUAAAAAGUAUAAAGAGAGACUCUAUUGCGUGCGAGGGUUCGGUACGGGCACUCAACUCGACUAUAAAAUUCGGUCCCUAAAGCACGAAAGCGCCGCGAGUCCAUCUAUUAGCCUUGAUCCUCAUCUCAGUCAUGGGUUUAGUUUCUCCCAGGAAAACGCGAUCUAGGCGUAAGCCAGCGAGCAUCGGUAUGUUCCCUGUUCCACGAAAGAUAUAUGAUAAGGACGGCCGUGCAUGGACGCGUGACGUUCACUACUCUACCGUCAAUAGCCCGAGUCACUCACAAGCAACGACAGAGCAACACGCUGUCUUAUAUGGUAAAUUUGCGCUGCAAUGAGGCUCACUGUUCUACAGUCCCACCGCUCUCCGAAAUCCCAGAGGUUGCCGGGAUCAGGUGUAUGACCAGCUCUGGCUUCGCCGUGCAAUGCGCCUCACAGUGAAGAUAGUUUUACCGAGGUUCGGGGGAAGGUGCUUUUACUACCUCAGAUGCUUCAGCAAGGUGGUUCUCGAAUCGCACGUGCGCCGCUAGCCACGAAGUGUGUAUCCCCGUCAUAGCUAUCGGACGUUCCGGGUUGUUGCUUGACACAUCAACAGCUAAUCACCAGCGCGGUAGCGGUACUAGGGGGAUCCAGCUUCUGAUUCAGGUCAGCACUCAUAUGUCUGCAGGUGGGGAUGACCCCCGGACAAGCCGUCUCGCUCAGAGAUCAUAUCAAGGUGCUGUGCGCAGUUGCUCCGAGGGGUUGAACAGUUACCUAUCAUCGGUUCACGUCAAAUGUAGCCACUUGGGAGACUAUCAGCGGUGAUGUUGCCGACUUGAAUCUUACAGGCUCGGUUCACCAGGAUUCGCGGUGAAUAGAAAUUUCGUGCGCAA\n"
     ]
    }
   ],
   "source": [
    "DNA = \"CATGCAGAGGAAAGCCGTCCTAACTTCTCATGAAGAGCTACCGGCCACTGTACGGTACACCGGCTTGAGGCTATATATTGGGCGGGCCAAATCGTAGGCTGGCCAATGGCGGGCAGCGTGTGCGACTCTCATAAAAAGTATAAAGAGAGACTCTATTGCGTGCGAGGGTTCGGTACGGGCACTCAACTCGACTATAAAATTCGGTCCCTAAAGCACGAAAGCGCCGCGAGTCCATCTATTAGCCTTGATCCTCATCTCAGTCATGGGTTTAGTTTCTCCCAGGAAAACGCGATCTAGGCGTAAGCCAGCGAGCATCGGTATGTTCCCTGTTCCACGAAAGATATATGATAAGGACGGCCGTGCATGGACGCGTGACGTTCACTACTCTACCGTCAATAGCCCGAGTCACTCACAAGCAACGACAGAGCAACACGCTGTCTTATATGGTAAATTTGCGCTGCAATGAGGCTCACTGTTCTACAGTCCCACCGCTCTCCGAAATCCCAGAGGTTGCCGGGATCAGGTGTATGACCAGCTCTGGCTTCGCCGTGCAATGCGCCTCACAGTGAAGATAGTTTTACCGAGGTTCGGGGGAAGGTGCTTTTACTACCTCAGATGCTTCAGCAAGGTGGTTCTCGAATCGCACGTGCGCCGCTAGCCACGAAGTGTGTATCCCCGTCATAGCTATCGGACGTTCCGGGTTGTTGCTTGACACATCAACAGCTAATCACCAGCGCGGTAGCGGTACTAGGGGGATCCAGCTTCTGATTCAGGTCAGCACTCATATGTCTGCAGGTGGGGATGACCCCCGGACAAGCCGTCTCGCTCAGAGATCATATCAAGGTGCTGTGCGCAGTTGCTCCGAGGGGTTGAACAGTTACCTATCATCGGTTCACGTCAAATGTAGCCACTTGGGAGACTATCAGCGGTGATGTTGCCGACTTGAATCTTACAGGCTCGGTTCACCAGGATTCGCGGTGAATAGAAATTTCGTGCGCAA\"\n",
    "\n",
    "\n",
    "RNA =DNA.replace('T', 'U')\n",
    "print(RNA)"
   ]
  },
  {
   "cell_type": "markdown",
   "metadata": {},
   "source": [
    "# Nucleotide Translator"
   ]
  },
  {
   "cell_type": "code",
   "execution_count": 51,
   "metadata": {},
   "outputs": [
    {
     "name": "stdout",
     "output_type": "stream",
     "text": [
      "{'UUU': 'F', 'UUC': 'F', 'UUA': 'L', 'UUG': 'L', 'UCU': 'S', 'UCC': 's', 'UCA': 'S', 'UCG': 'S', 'UAU': 'Y', 'UAC': 'Y', 'UAA': 'STOP', 'UAG': 'STOP', 'UGU': 'C', 'UGC': 'C', 'UGA': 'STOP', 'UGG': 'W', 'CUU': 'L', 'CUC': 'L', 'CUA': 'L', 'CUG': 'L', 'CCU': 'P', 'CCC': 'P', 'CCA': 'P', 'CCG': 'P', 'CAU': 'H', 'CAC': 'H', 'CAA': 'Q', 'CAG': 'Q', 'CGU': 'R', 'CGC': 'R', 'CGA': 'R', 'CGG': 'R', 'AUU': 'I', 'AUC': 'I', 'AUA': 'I', 'AUG': 'M', 'ACU': 'T', 'ACC': 'T', 'ACA': 'T', 'ACG': 'T', 'AAU': 'N', 'AAC': 'N', 'AAA': 'K', 'AAG': 'K', 'AGU': 'S', 'AGC': 'S', 'AGA': 'R', 'AGG': 'R', 'GUU': 'V', 'GUC': 'V', 'GUA': 'V', 'GUG': 'V', 'GCU': 'A', 'GCC': 'A', 'GCA': 'A', 'GCG': 'A', 'GAU': 'D', 'GAC': 'D', 'GAA': 'E', 'GAG': 'E', 'GGU': 'G', 'GGC': 'G', 'GGA': 'G', 'GGG': 'G'}\n"
     ]
    }
   ],
   "source": [
    "RNA = \"CAUGCAGAGGAAAGCCGUCCUAACUUCUCAUGAAGAGCUACCGGCCACUGUACGGUACACCGGCUUGAGGCUAUAUAUUGGGCGGGCCAAAUCGUAGGCUGGCCAAUGGCGGGCAGCGUGUGCGACUCUCAUAAAAAGUAUAAAGAGAGACUCUAUUGCGUGCGAGGGUUCGGUACGGGCACUCAACUCGACUAUAAAAUUCGGUCCCUAAAGCACGAAAGCGCCGCGAGUCCAUCUAUUAGCCUUGAUCCUCAUCUCAGUCAUGGGUUUAGUUUCUCCCAGGAAAACGCGAUCUAGGCGUAAGCCAGCGAGCAUCGGUAUGUUCCCUGUUCCACGAAAGAUAUAUGAUAAGGACGGCCGUGCAUGGACGCGUGACGUUCACUACUCUACCGUCAAUAGCCCGAGUCACUCACAAGCAACGACAGAGCAACACGCUGUCUUAUAUGGUAAAUUUGCGCUGCAAUGAGGCUCACUGUUCUACAGUCCCACCGCUCUCCGAAAUCCCAGAGGUUGCCGGGAUCAGGUGUAUGACCAGCUCUGGCUUCGCCGUGCAAUGCGCCUCACAGUGAAGAUAGUUUUACCGAGGUUCGGGGGAAGGUGCUUUUACUACCUCAGAUGCUUCAGCAAGGUGGUUCUCGAAUCGCACGUGCGCCGCUAGCCACGAAGUGUGUAUCCCCGUCAUAGCUAUCGGACGUUCCGGGUUGUUGCUUGACACAUCAACAGCUAAUCACCAGCGCGGUAGCGGUACUAGGGGGAUCCAGCUUCUGAUUCAGGUCAGCACUCAUAUGUCUGCAGGUGGGGAUGACCCCCGGACAAGCCGUCUCGCUCAGAGAUCAUAUCAAGGUGCUGUGCGCAGUUGCUCCGAGGGGUUGAACAGUUACCUAUCAUCGGUUCACGUCAAAUGUAGCCACUUGGGAGACUAUCAGCGGUGAUGUUGCCGACUUGAAUCUUACAGGCUCGGUUCACCAGGAUUCGCGGUGAAUAGAAAUUUCGUGCGCAA\"\n",
    "\n",
    "\n",
    "\n",
    "protein_dict = {\"UUU\":\"F\", \"UUC\":\"F\", \"UUA\":\"L\", \"UUG\":\"L\",\"UCU\":\"S\", \"UCC\":\"s\", \"UCA\":\"S\", \"UCG\":\"S\",\"UAU\":\"Y\", \"UAC\":\"Y\", \"UAA\":\"STOP\", \"UAG\":\"STOP\",\"UGU\":\"C\", \"UGC\":\"C\", \"UGA\":\"STOP\", \"UGG\":\"W\",\"CUU\":\"L\", \"CUC\":\"L\", \"CUA\":\"L\", \"CUG\":\"L\",\"CCU\":\"P\", \"CCC\":\"P\", \"CCA\":\"P\", \"CCG\":\"P\",\"CAU\":\"H\", \"CAC\":\"H\", \"CAA\":\"Q\", \"CAG\":\"Q\",\"CGU\":\"R\", \"CGC\":\"R\", \"CGA\":\"R\", \"CGG\":\"R\",\"AUU\":\"I\", \"AUC\":\"I\", \"AUA\":\"I\", \"AUG\":\"M\",\"ACU\":\"T\", \"ACC\":\"T\", \"ACA\":\"T\", \"ACG\":\"T\",\"AAU\":\"N\", \"AAC\":\"N\", \"AAA\":\"K\", \"AAG\":\"K\",\"AGU\":\"S\", \"AGC\":\"S\", \"AGA\":\"R\", \"AGG\":\"R\",\"GUU\":\"V\", \"GUC\":\"V\", \"GUA\":\"V\", \"GUG\":\"V\",\"GCU\":\"A\", \"GCC\":\"A\", \"GCA\":\"A\", \"GCG\":\"A\",\"GAU\":\"D\", \"GAC\":\"D\", \"GAA\":\"E\", \"GAG\":\"E\",\"GGU\":\"G\", \"GGC\":\"G\", \"GGA\":\"G\", \"GGG\":\"G\",}\n",
    "print(protein_dict)"
   ]
  },
  {
   "cell_type": "code",
   "execution_count": null,
   "metadata": {},
   "outputs": [],
   "source": []
  }
 ],
 "metadata": {
  "kernelspec": {
   "display_name": "Python 3",
   "language": "python",
   "name": "python3"
  },
  "language_info": {
   "codemirror_mode": {
    "name": "ipython",
    "version": 3
   },
   "file_extension": ".py",
   "mimetype": "text/x-python",
   "name": "python",
   "nbconvert_exporter": "python",
   "pygments_lexer": "ipython3",
   "version": "3.7.3"
  }
 },
 "nbformat": 4,
 "nbformat_minor": 2
}
