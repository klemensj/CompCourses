{
 "cells": [
  {
   "cell_type": "markdown",
   "metadata": {},
   "source": [
    "<div align =\"right\">Thomas Jefferson University **COMP 101**: Coding for beginners</div>"
   ]
  },
  {
   "cell_type": "markdown",
   "metadata": {},
   "source": [
    "# Assignment or Activity Title\n",
    "\n",
    "The quick gray fox jumped over the lazy brown dog. All work and no play makes Jack a dull boy. The quick gray fox jumped over the lazy brown dog. The quick gray fox jumped over the lazy brown dog. All work and no play makes Jack a dull boy. All work and no play makes Jack a dull boy. Thequickgrayfoxjumpedoverthelazybrowndog.The quick gray fox jumped over the lazy brown dog. The quick gray fox jumped over the lazy brown dog. ThequickgrayfoxmakesJackadullboy. "
   ]
  },
  {
   "cell_type": "markdown",
   "metadata": {},
   "source": [
    "Code example:\n",
    "\n",
    "```\n",
    "for i in range(10):\n",
    "    print(\"All work and no play makes Jack a dull boy.\")\n",
    "```\n",
    "\n",
    "*Live* code:"
   ]
  },
  {
   "cell_type": "code",
   "execution_count": null,
   "metadata": {},
   "outputs": [],
   "source": [
    "for i in range(10):\n",
    "    print(\"All work and no play makes Jack a dull boy.\")"
   ]
  },
  {
   "cell_type": "markdown",
   "metadata": {},
   "source": [
    "To insert an image:\n",
    "![Alt text that will appear on mouseover](images/TJU_logo_dummy_image.png \"Dummy image\")\n",
    "\n",
    "To work with external data:"
   ]
  },
  {
   "cell_type": "code",
   "execution_count": null,
   "metadata": {},
   "outputs": [],
   "source": [
    "import pandas as pd\n",
    "sample_data = pd.read_csv('data/populations.csv')\n",
    "sample_data"
   ]
  },
  {
   "cell_type": "markdown",
   "metadata": {},
   "source": [
    "To use an assert to test a fuction:"
   ]
  },
  {
   "cell_type": "code",
   "execution_count": null,
   "metadata": {},
   "outputs": [],
   "source": [
    "#define the function\n",
    "\n",
    "def largest_item(items):\n",
    "    largest = []\n",
    "    largest = max(items)\n",
    "    return largest\n",
    "\n",
    "#run an assert using test data of known outcome\n",
    "test_data = [1,2,3,4,18,6,7]\n",
    "assert largest_item(test_data) == 18, \"Description of error this assert is testing\"\n",
    "\n",
    "#output if assert resolves to true\n",
    "print(\"Congratulations, your function worked!\")"
   ]
  },
  {
   "cell_type": "markdown",
   "metadata": {},
   "source": [
    "In order to freeze certain cells go to `View > Cell Toolbar > Edit Metadata`\n",
    "\n",
    "For cells that you wish to lock (Code or Markdown) replace the metadata with the code below:\n",
    "\n",
    "```\n",
    "{\n",
    "  \"trusted\": true,\n",
    "  \"editable\": false,\n",
    "  \"deletable\": false\n",
    "}\n",
    "```\n",
    "For code cells that you want students to be able to edit use the following code:\n",
    "\n",
    "```\n",
    "{\n",
    "  \"trusted\": true,\n",
    "  \"editable\": true,\n",
    "  \"deletable\": false\n",
    "}\n",
    "```"
   ]
  }
 ],
 "metadata": {
  "kernelspec": {
   "display_name": "Python 3",
   "language": "python",
   "name": "python3"
  },
  "language_info": {
   "codemirror_mode": {
    "name": "ipython",
    "version": 3
   },
   "file_extension": ".py",
   "mimetype": "text/x-python",
   "name": "python",
   "nbconvert_exporter": "python",
   "pygments_lexer": "ipython3",
   "version": "3.6.4"
  }
 },
 "nbformat": 4,
 "nbformat_minor": 2
}
