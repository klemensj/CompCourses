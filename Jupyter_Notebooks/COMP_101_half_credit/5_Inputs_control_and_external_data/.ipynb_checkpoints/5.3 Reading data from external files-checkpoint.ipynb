{
 "cells": [
  {
   "cell_type": "markdown",
   "metadata": {},
   "source": [
    "For this last exercise, we'll need to import a external file. Below, you can see a function that has already been defined. It will allow you to open, extract, and close a txt file."
   ]
  },
  {
   "cell_type": "code",
   "execution_count": null,
   "metadata": {},
   "outputs": [],
   "source": [
    "def import_txt(file):\n",
    "    openfile = open(file,\"r\")\n",
    "    contents = openfile.read()\n",
    "    openfile.close\n",
    "    return (contents)"
   ]
  },
  {
   "cell_type": "markdown",
   "metadata": {},
   "source": [
    "We can use the `import_txt` as seen below...complete the file destination."
   ]
  },
  {
   "cell_type": "code",
   "execution_count": null,
   "metadata": {},
   "outputs": [],
   "source": [
    "cool_string = import_txt('Ex_3/over_here/a_little_more/here_it_is/rosalind_dna.txt')"
   ]
  },
  {
   "cell_type": "markdown",
   "metadata": {},
   "source": [
    "Let's view what's exactly stored on the variable by typing it out."
   ]
  },
  {
   "cell_type": "code",
   "execution_count": null,
   "metadata": {},
   "outputs": [],
   "source": [
    "print(cool_string)"
   ]
  },
  {
   "cell_type": "markdown",
   "metadata": {},
   "source": [
    "Great! Now let's find the length of the piece of DNA. Think back to a function that allowed you to easily find the length of a string."
   ]
  },
  {
   "cell_type": "code",
   "execution_count": null,
   "metadata": {},
   "outputs": [],
   "source": [
    "print(len(cool_string))"
   ]
  },
  {
   "cell_type": "markdown",
   "metadata": {},
   "source": [
    "Now that you've found the length of the string of DNA, let's find how many A's there are in the sequence. "
   ]
  },
  {
   "cell_type": "code",
   "execution_count": null,
   "metadata": {},
   "outputs": [],
   "source": [
    "y = 0\n",
    "\n",
    "for i in range(len(cool_string)):\n",
    "    if cool_string[i] == \"A\":\n",
    "        y = y + 1\n",
    "        \n",
    "print(y)\n",
    "\n",
    "assert y == 244"
   ]
  }
 ],
 "metadata": {
  "kernelspec": {
   "display_name": "Python 3",
   "language": "python",
   "name": "python3"
  },
  "language_info": {
   "codemirror_mode": {
    "name": "ipython",
    "version": 3
   },
   "file_extension": ".py",
   "mimetype": "text/x-python",
   "name": "python",
   "nbconvert_exporter": "python",
   "pygments_lexer": "ipython3",
   "version": "3.6.4"
  }
 },
 "nbformat": 4,
 "nbformat_minor": 2
}
